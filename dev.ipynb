{
 "cells": [
  {
   "cell_type": "code",
   "execution_count": 2,
   "id": "52b3537d",
   "metadata": {},
   "outputs": [],
   "source": [
    "from pathlib import Path\n",
    "import napari\n",
    "from utils import list_images, read_image"
   ]
  },
  {
   "cell_type": "code",
   "execution_count": 3,
   "id": "a6ebdca8",
   "metadata": {},
   "outputs": [
    {
     "data": {
      "text/plain": [
       "['raw_data\\\\test_data\\\\WellF03_ChannelSD_AF647,SD_RFP,SD_GFP,DAPI,BF-SD_Seq0069.nd2',\n",
       " 'raw_data\\\\test_data\\\\WellG09_ChannelSD_AF647,SD_RFP,SD_GFP,DAPI,BF-SD_Seq0080.nd2']"
      ]
     },
     "execution_count": 3,
     "metadata": {},
     "output_type": "execute_result"
    }
   ],
   "source": [
    "# Copy the path where your images are stored, you can use absolute or relative paths to point at other disk locations\n",
    "directory_path = Path(\"./raw_data/test_data\")\n",
    "\n",
    "# Iterate through the .czi and .nd2 files in the directory\n",
    "images = list_images(directory_path)\n",
    "\n",
    "images"
   ]
  },
  {
   "cell_type": "code",
   "execution_count": 9,
   "id": "56f1af05",
   "metadata": {},
   "outputs": [
    {
     "name": "stdout",
     "output_type": "stream",
     "text": [
      "\n",
      "\n",
      "Image analyzed: WellG09_ChannelSD_AF647,SD_RFP,SD_GFP,DAPI,BF-SD_Seq0080\n",
      "Original Array shape: (5, 5032, 5032)\n",
      "Compressed Array shape: (5, 5032, 5032)\n"
     ]
    },
    {
     "data": {
      "text/plain": [
       "<Image layer 'img' at 0x210bd18f670>"
      ]
     },
     "execution_count": 9,
     "metadata": {},
     "output_type": "execute_result"
    }
   ],
   "source": [
    "# Explore a different image to crop (0 defines the first image in the directory)\n",
    "image = images[1]\n",
    "\n",
    "# Image size reduction (downsampling) to improve processing times (slicing, not lossless compression)\n",
    "slicing_factor_xy = None # Use 2 or 4 for downsampling in xy (None for lossless)\n",
    "\n",
    "# Read image, apply slicing if needed and return filename and img as a np array\n",
    "img, filename = read_image(image, slicing_factor_xy)\n",
    "\n",
    "# Show image in Napari to define ROI\n",
    "viewer = napari.Viewer(ndisplay=2)\n",
    "viewer.add_image(img)"
   ]
  },
  {
   "cell_type": "code",
   "execution_count": 5,
   "id": "2089cf4d",
   "metadata": {},
   "outputs": [],
   "source": [
    "import apoc"
   ]
  },
  {
   "cell_type": "code",
   "execution_count": 6,
   "id": "009c91cc",
   "metadata": {},
   "outputs": [
    {
     "data": {
      "text/plain": [
       "(5, 5032, 5032)"
      ]
     },
     "execution_count": 6,
     "metadata": {},
     "output_type": "execute_result"
    }
   ],
   "source": [
    "img.shape"
   ]
  },
  {
   "cell_type": "code",
   "execution_count": 11,
   "id": "78322c92",
   "metadata": {},
   "outputs": [
    {
     "name": "stdout",
     "output_type": "stream",
     "text": [
      "\n",
      "\n",
      "Image analyzed: WellG09_ChannelSD_AF647,SD_RFP,SD_GFP,DAPI,BF-SD_Seq0080\n",
      "Original Array shape: (5, 5032, 5032)\n",
      "Compressed Array shape: (5, 5032, 5032)\n"
     ]
    },
    {
     "data": {
      "text/plain": [
       "<Image layer 'Image' at 0x1f733cf2da0>"
      ]
     },
     "execution_count": 11,
     "metadata": {},
     "output_type": "execute_result"
    }
   ],
   "source": [
    "# Explore a different image to crop (0 defines the first image in the directory)\n",
    "image = images[1]\n",
    "\n",
    "# Image size reduction (downsampling) to improve processing times (slicing, not lossless compression)\n",
    "slicing_factor_xy = None # Use 2 or 4 for downsampling in xy (None for lossless)\n",
    "\n",
    "# Read image, apply slicing if needed and return filename and img as a np array\n",
    "img, filename = read_image(image, slicing_factor_xy)\n",
    "\n",
    "viewer = napari.Viewer(ndisplay=2)\n",
    "viewer.add_image(img[1])"
   ]
  },
  {
   "cell_type": "code",
   "execution_count": 14,
   "id": "f5e78a14",
   "metadata": {},
   "outputs": [],
   "source": [
    "image_folder = \"./raw_data/SD_RFP_spot_detection_training/images\"\n",
    "annotation_folder = \"./raw_data/SD_RFP_spot_detection_training/annotations\""
   ]
  },
  {
   "cell_type": "code",
   "execution_count": 39,
   "id": "e94aae41",
   "metadata": {},
   "outputs": [],
   "source": [
    "# Setup classifer and where it should be saved\n",
    "cl_filename = \"./SD_RFP_spot_segmenter.cl\"\n",
    "apoc.erase_classifier(cl_filename)\n",
    "segmenter = apoc.ObjectSegmenter(opencl_filename=cl_filename)\n",
    "\n",
    "# Setup feature set used for training\n",
    "features = apoc.PredefinedFeatureSet.object_size_1_to_5_px.value #TODO: Check\n",
    "\n",
    "# Train classifier on folders\n",
    "apoc.train_classifier_from_image_folders(\n",
    "    segmenter, \n",
    "    features, \n",
    "    image = image_folder, # Grayscale processed images, no RGB\n",
    "    ground_truth = annotation_folder)"
   ]
  },
  {
   "cell_type": "code",
   "execution_count": 7,
   "id": "1af45a10",
   "metadata": {},
   "outputs": [],
   "source": [
    "cl_filename = \"./SD_RFP_spot_segmenter.cl\"\n",
    "viewer = napari.Viewer(ndisplay=2)\n",
    "segmenter = apoc.ObjectSegmenter(opencl_filename=cl_filename)"
   ]
  },
  {
   "cell_type": "code",
   "execution_count": 28,
   "id": "9188200f",
   "metadata": {},
   "outputs": [
    {
     "name": "stdout",
     "output_type": "stream",
     "text": [
      "\n",
      "\n",
      "Image analyzed: WellF03_ChannelSD_AF647,SD_RFP,SD_GFP,DAPI,BF-SD_Seq0069\n",
      "Original Array shape: (5, 5032, 5032)\n",
      "Compressed Array shape: (5, 5032, 5032)\n"
     ]
    },
    {
     "data": {
      "text/plain": [
       "<Labels layer 'predicted_labels' at 0x2110a1442b0>"
      ]
     },
     "execution_count": 28,
     "metadata": {},
     "output_type": "execute_result"
    }
   ],
   "source": [
    "image = images[0]\n",
    "\n",
    "# Read image, apply slicing if needed and return filename and img as a np array\n",
    "img, filename = read_image(image, slicing_factor_xy)\n",
    "\n",
    "viewer = napari.Viewer(ndisplay=2)\n",
    "\n",
    "predicted_labels = segmenter.predict(img[1])\n",
    "viewer.add_image(img[1])\n",
    "viewer.add_labels(predicted_labels)"
   ]
  },
  {
   "cell_type": "code",
   "execution_count": 26,
   "id": "164e231d",
   "metadata": {},
   "outputs": [],
   "source": [
    "import tifffile"
   ]
  },
  {
   "cell_type": "code",
   "execution_count": 27,
   "id": "847a7a3d",
   "metadata": {},
   "outputs": [
    {
     "data": {
      "text/plain": [
       "<Labels layer 'annotations' at 0x1f684eb3fd0>"
      ]
     },
     "execution_count": 27,
     "metadata": {},
     "output_type": "execute_result"
    }
   ],
   "source": [
    "annotations = tifffile.imread(\"./raw_data/SD_RFP_spot_detection_training/annotations/WellG09_SD_RFP.tiff\")\n",
    "viewer.add_labels(annotations)"
   ]
  },
  {
   "cell_type": "code",
   "execution_count": 12,
   "id": "087893ca",
   "metadata": {},
   "outputs": [
    {
     "name": "stderr",
     "output_type": "stream",
     "text": [
      "c:\\Users\\adiez_cmic\\miniforge3\\envs\\brain_nuc_stardist\\lib\\site-packages\\tqdm\\auto.py:21: TqdmWarning: IProgress not found. Please update jupyter and ipywidgets. See https://ipywidgets.readthedocs.io/en/stable/user_install.html\n",
      "  from .autonotebook import tqdm as notebook_tqdm\n"
     ]
    }
   ],
   "source": [
    "from spotiflow.model import Spotiflow"
   ]
  },
  {
   "cell_type": "code",
   "execution_count": 25,
   "id": "19027ec1",
   "metadata": {},
   "outputs": [
    {
     "name": "stdout",
     "output_type": "stream",
     "text": [
      "INFO:spotiflow.model.spotiflow:Loading pretrained model: general\n"
     ]
    }
   ],
   "source": [
    "model = Spotiflow.from_pretrained(\"general\")"
   ]
  },
  {
   "cell_type": "code",
   "execution_count": 29,
   "id": "a5a51217",
   "metadata": {},
   "outputs": [
    {
     "name": "stdout",
     "output_type": "stream",
     "text": [
      "INFO:spotiflow.model.spotiflow:Will use device: cpu\n",
      "INFO:spotiflow.model.spotiflow:Predicting with prob_thresh = [0.6], min_distance = 1\n",
      "INFO:spotiflow.model.spotiflow:Peak detection mode: fast\n",
      "INFO:spotiflow.model.spotiflow:Image shape (5032, 5032)\n",
      "INFO:spotiflow.model.spotiflow:Predicting with (3, 3) tiles\n",
      "INFO:spotiflow.model.spotiflow:Normalizing...\n",
      "INFO:spotiflow.model.spotiflow:Padding to shape (5040, 5040, 1)\n"
     ]
    },
    {
     "name": "stderr",
     "output_type": "stream",
     "text": [
      "Predicting tiles: 100%|██████████| 9/9 [00:24<00:00,  2.77s/it]"
     ]
    },
    {
     "name": "stdout",
     "output_type": "stream",
     "text": [
      "INFO:spotiflow.model.spotiflow:Found 211 spots\n"
     ]
    },
    {
     "name": "stderr",
     "output_type": "stream",
     "text": [
      "\n"
     ]
    }
   ],
   "source": [
    "points, details = model.predict(img[1], subpix=True)"
   ]
  },
  {
   "cell_type": "code",
   "execution_count": 32,
   "id": "d24635f4",
   "metadata": {},
   "outputs": [
    {
     "data": {
      "text/plain": [
       "<Image layer 'Image [1]' at 0x2110a3f3640>"
      ]
     },
     "execution_count": 32,
     "metadata": {},
     "output_type": "execute_result"
    }
   ],
   "source": [
    "viewer.add_image(details.heatmap, colormap=\"viridis\")"
   ]
  }
 ],
 "metadata": {
  "kernelspec": {
   "display_name": "brain_nuc_stardist",
   "language": "python",
   "name": "python3"
  },
  "language_info": {
   "codemirror_mode": {
    "name": "ipython",
    "version": 3
   },
   "file_extension": ".py",
   "mimetype": "text/x-python",
   "name": "python",
   "nbconvert_exporter": "python",
   "pygments_lexer": "ipython3",
   "version": "3.10.16"
  }
 },
 "nbformat": 4,
 "nbformat_minor": 5
}
