{
 "cells": [
  {
   "cell_type": "code",
   "execution_count": 1,
   "id": "2d6f2848",
   "metadata": {},
   "outputs": [
    {
     "name": "stdout",
     "output_type": "stream",
     "text": [
      "\n",
      "\n",
      "Welcome to CellposeSAM, cellpose v\n",
      "cellpose version: \t4.0.6 \n",
      "platform:       \twin32 \n",
      "python version: \t3.10.18 \n",
      "torch version:  \t2.5.0! The neural network component of\n",
      "CPSAM is much larger than in previous versions and CPU excution is slow. \n",
      "We encourage users to use GPU/MPS if available. \n",
      "\n",
      "\n"
     ]
    },
    {
     "name": "stderr",
     "output_type": "stream",
     "text": [
      "c:\\Users\\adiez_cmic\\miniforge3\\envs\\hcs_cellpose\\lib\\site-packages\\tqdm\\auto.py:21: TqdmWarning: IProgress not found. Please update jupyter and ipywidgets. See https://ipywidgets.readthedocs.io/en/stable/user_install.html\n",
      "  from .autonotebook import tqdm as notebook_tqdm\n"
     ]
    },
    {
     "name": "stdout",
     "output_type": "stream",
     "text": [
      "2025-09-01 10:24:16,492 [INFO] WRITING LOG OUTPUT TO C:\\Users\\adiez_cmic\\.cellpose\\run.log\n",
      "2025-09-01 10:24:16,492 [INFO] \n",
      "cellpose version: \t4.0.6 \n",
      "platform:       \twin32 \n",
      "python version: \t3.10.18 \n",
      "torch version:  \t2.5.0\n",
      "2025-09-01 10:24:16,539 [INFO] ** TORCH CUDA version installed and working. **\n",
      "2025-09-01 10:24:16,539 [INFO] ** TORCH CUDA version installed and working. **\n",
      "2025-09-01 10:24:16,539 [INFO] >>>> using GPU (CUDA)\n",
      "2025-09-01 10:24:17,415 [INFO] >>>> loading model C:\\Users\\adiez_cmic\\.cellpose\\models\\cpsam\n",
      "INFO:spotiflow.model.spotiflow:Loading pretrained model: general\n",
      "2025-09-01 10:24:17,847 [INFO] Loading pretrained model: general\n"
     ]
    }
   ],
   "source": [
    "import numpy as np\n",
    "from cellpose import models, core, io\n",
    "from spotiflow.model import Spotiflow\n",
    "from pathlib import Path\n",
    "from pathlib import Path\n",
    "import napari\n",
    "from utils import list_images, read_image\n",
    "\n",
    "io.logger_setup() # run this to get printing of progress\n",
    "\n",
    "#Check if colab notebook instance has GPU access\n",
    "if core.use_gpu()==False:\n",
    "  raise ImportError(\"No GPU access, change your runtime\")\n",
    "\n",
    "#Load pre-trained Cellpose-SAM and Spotiflow models\n",
    "model = models.CellposeModel(gpu=True)\n",
    "spotiflow_model = Spotiflow.from_pretrained(\"general\")"
   ]
  },
  {
   "cell_type": "code",
   "execution_count": 5,
   "id": "777aa243",
   "metadata": {},
   "outputs": [
    {
     "data": {
      "text/plain": [
       "['X:\\\\Lisa\\\\siMtb screen I_LØ\\\\Plate 01_Nuc\\\\Plate01_Nuc_Wells-A10__Channel_SD_AF647,SD_RFP,SD_GFP,SD_DAPI,SD_BF,SD_NIR.nd2',\n",
       " 'X:\\\\Lisa\\\\siMtb screen I_LØ\\\\Plate 01_Nuc\\\\Plate01_Nuc_Wells-A11__Channel_SD_AF647,SD_RFP,SD_GFP,SD_DAPI,SD_BF,SD_NIR.nd2',\n",
       " 'X:\\\\Lisa\\\\siMtb screen I_LØ\\\\Plate 01_Nuc\\\\Plate01_Nuc_Wells-A12__Channel_SD_AF647,SD_RFP,SD_GFP,SD_DAPI,SD_BF,SD_NIR.nd2',\n",
       " 'X:\\\\Lisa\\\\siMtb screen I_LØ\\\\Plate 01_Nuc\\\\Plate01_Nuc_Wells-A1__Channel_SD_AF647,SD_RFP,SD_GFP,SD_DAPI,SD_BF,SD_NIR.nd2',\n",
       " 'X:\\\\Lisa\\\\siMtb screen I_LØ\\\\Plate 01_Nuc\\\\Plate01_Nuc_Wells-A2__Channel_SD_AF647,SD_RFP,SD_GFP,SD_DAPI,SD_BF,SD_NIR.nd2',\n",
       " 'X:\\\\Lisa\\\\siMtb screen I_LØ\\\\Plate 01_Nuc\\\\Plate01_Nuc_Wells-A3__Channel_SD_AF647,SD_RFP,SD_GFP,SD_DAPI,SD_BF,SD_NIR.nd2',\n",
       " 'X:\\\\Lisa\\\\siMtb screen I_LØ\\\\Plate 01_Nuc\\\\Plate01_Nuc_Wells-A4__Channel_SD_AF647,SD_RFP,SD_GFP,SD_DAPI,SD_BF,SD_NIR.nd2',\n",
       " 'X:\\\\Lisa\\\\siMtb screen I_LØ\\\\Plate 01_Nuc\\\\Plate01_Nuc_Wells-A5__Channel_SD_AF647,SD_RFP,SD_GFP,SD_DAPI,SD_BF,SD_NIR.nd2',\n",
       " 'X:\\\\Lisa\\\\siMtb screen I_LØ\\\\Plate 01_Nuc\\\\Plate01_Nuc_Wells-A6__Channel_SD_AF647,SD_RFP,SD_GFP,SD_DAPI,SD_BF,SD_NIR.nd2',\n",
       " 'X:\\\\Lisa\\\\siMtb screen I_LØ\\\\Plate 01_Nuc\\\\Plate01_Nuc_Wells-A7__Channel_SD_AF647,SD_RFP,SD_GFP,SD_DAPI,SD_BF,SD_NIR.nd2',\n",
       " 'X:\\\\Lisa\\\\siMtb screen I_LØ\\\\Plate 01_Nuc\\\\Plate01_Nuc_Wells-A8__Channel_SD_AF647,SD_RFP,SD_GFP,SD_DAPI,SD_BF,SD_NIR.nd2',\n",
       " 'X:\\\\Lisa\\\\siMtb screen I_LØ\\\\Plate 01_Nuc\\\\Plate01_Nuc_Wells-A9__Channel_SD_AF647,SD_RFP,SD_GFP,SD_DAPI,SD_BF,SD_NIR.nd2',\n",
       " 'X:\\\\Lisa\\\\siMtb screen I_LØ\\\\Plate 01_Nuc\\\\Plate01_Nuc_Wells-B10__Channel_SD_AF647,SD_RFP,SD_GFP,SD_DAPI,SD_BF,SD_NIR.nd2',\n",
       " 'X:\\\\Lisa\\\\siMtb screen I_LØ\\\\Plate 01_Nuc\\\\Plate01_Nuc_Wells-B11__Channel_SD_AF647,SD_RFP,SD_GFP,SD_DAPI,SD_BF,SD_NIR.nd2',\n",
       " 'X:\\\\Lisa\\\\siMtb screen I_LØ\\\\Plate 01_Nuc\\\\Plate01_Nuc_Wells-B12__Channel_SD_AF647,SD_RFP,SD_GFP,SD_DAPI,SD_BF,SD_NIR.nd2',\n",
       " 'X:\\\\Lisa\\\\siMtb screen I_LØ\\\\Plate 01_Nuc\\\\Plate01_Nuc_Wells-B1__Channel_SD_AF647,SD_RFP,SD_GFP,SD_DAPI,SD_BF,SD_NIR.nd2',\n",
       " 'X:\\\\Lisa\\\\siMtb screen I_LØ\\\\Plate 01_Nuc\\\\Plate01_Nuc_Wells-B2__Channel_SD_AF647,SD_RFP,SD_GFP,SD_DAPI,SD_BF,SD_NIR.nd2',\n",
       " 'X:\\\\Lisa\\\\siMtb screen I_LØ\\\\Plate 01_Nuc\\\\Plate01_Nuc_Wells-B3__Channel_SD_AF647,SD_RFP,SD_GFP,SD_DAPI,SD_BF,SD_NIR.nd2',\n",
       " 'X:\\\\Lisa\\\\siMtb screen I_LØ\\\\Plate 01_Nuc\\\\Plate01_Nuc_Wells-B4__Channel_SD_AF647,SD_RFP,SD_GFP,SD_DAPI,SD_BF,SD_NIR.nd2',\n",
       " 'X:\\\\Lisa\\\\siMtb screen I_LØ\\\\Plate 01_Nuc\\\\Plate01_Nuc_Wells-B5__Channel_SD_AF647,SD_RFP,SD_GFP,SD_DAPI,SD_BF,SD_NIR.nd2',\n",
       " 'X:\\\\Lisa\\\\siMtb screen I_LØ\\\\Plate 01_Nuc\\\\Plate01_Nuc_Wells-B6__Channel_SD_AF647,SD_RFP,SD_GFP,SD_DAPI,SD_BF,SD_NIR.nd2',\n",
       " 'X:\\\\Lisa\\\\siMtb screen I_LØ\\\\Plate 01_Nuc\\\\Plate01_Nuc_Wells-B7__Channel_SD_AF647,SD_RFP,SD_GFP,SD_DAPI,SD_BF,SD_NIR.nd2',\n",
       " 'X:\\\\Lisa\\\\siMtb screen I_LØ\\\\Plate 01_Nuc\\\\Plate01_Nuc_Wells-B8__Channel_SD_AF647,SD_RFP,SD_GFP,SD_DAPI,SD_BF,SD_NIR.nd2',\n",
       " 'X:\\\\Lisa\\\\siMtb screen I_LØ\\\\Plate 01_Nuc\\\\Plate01_Nuc_Wells-B9__Channel_SD_AF647,SD_RFP,SD_GFP,SD_DAPI,SD_BF,SD_NIR.nd2',\n",
       " 'X:\\\\Lisa\\\\siMtb screen I_LØ\\\\Plate 01_Nuc\\\\Plate01_Nuc_Wells-C10__Channel_SD_AF647,SD_RFP,SD_GFP,SD_DAPI,SD_BF,SD_NIR.nd2',\n",
       " 'X:\\\\Lisa\\\\siMtb screen I_LØ\\\\Plate 01_Nuc\\\\Plate01_Nuc_Wells-C11__Channel_SD_AF647,SD_RFP,SD_GFP,SD_DAPI,SD_BF,SD_NIR.nd2',\n",
       " 'X:\\\\Lisa\\\\siMtb screen I_LØ\\\\Plate 01_Nuc\\\\Plate01_Nuc_Wells-C12__Channel_SD_AF647,SD_RFP,SD_GFP,SD_DAPI,SD_BF,SD_NIR.nd2',\n",
       " 'X:\\\\Lisa\\\\siMtb screen I_LØ\\\\Plate 01_Nuc\\\\Plate01_Nuc_Wells-C1__Channel_SD_AF647,SD_RFP,SD_GFP,SD_DAPI,SD_BF,SD_NIR.nd2',\n",
       " 'X:\\\\Lisa\\\\siMtb screen I_LØ\\\\Plate 01_Nuc\\\\Plate01_Nuc_Wells-C2__Channel_SD_AF647,SD_RFP,SD_GFP,SD_DAPI,SD_BF,SD_NIR.nd2',\n",
       " 'X:\\\\Lisa\\\\siMtb screen I_LØ\\\\Plate 01_Nuc\\\\Plate01_Nuc_Wells-C3__Channel_SD_AF647,SD_RFP,SD_GFP,SD_DAPI,SD_BF,SD_NIR.nd2',\n",
       " 'X:\\\\Lisa\\\\siMtb screen I_LØ\\\\Plate 01_Nuc\\\\Plate01_Nuc_Wells-C4__Channel_SD_AF647,SD_RFP,SD_GFP,SD_DAPI,SD_BF,SD_NIR.nd2',\n",
       " 'X:\\\\Lisa\\\\siMtb screen I_LØ\\\\Plate 01_Nuc\\\\Plate01_Nuc_Wells-C5__Channel_SD_AF647,SD_RFP,SD_GFP,SD_DAPI,SD_BF,SD_NIR.nd2',\n",
       " 'X:\\\\Lisa\\\\siMtb screen I_LØ\\\\Plate 01_Nuc\\\\Plate01_Nuc_Wells-C6__Channel_SD_AF647,SD_RFP,SD_GFP,SD_DAPI,SD_BF,SD_NIR.nd2',\n",
       " 'X:\\\\Lisa\\\\siMtb screen I_LØ\\\\Plate 01_Nuc\\\\Plate01_Nuc_Wells-C7__Channel_SD_AF647,SD_RFP,SD_GFP,SD_DAPI,SD_BF,SD_NIR.nd2',\n",
       " 'X:\\\\Lisa\\\\siMtb screen I_LØ\\\\Plate 01_Nuc\\\\Plate01_Nuc_Wells-C8__Channel_SD_AF647,SD_RFP,SD_GFP,SD_DAPI,SD_BF,SD_NIR.nd2',\n",
       " 'X:\\\\Lisa\\\\siMtb screen I_LØ\\\\Plate 01_Nuc\\\\Plate01_Nuc_Wells-C9__Channel_SD_AF647,SD_RFP,SD_GFP,SD_DAPI,SD_BF,SD_NIR.nd2',\n",
       " 'X:\\\\Lisa\\\\siMtb screen I_LØ\\\\Plate 01_Nuc\\\\Plate01_Nuc_Wells-D10__Channel_SD_AF647,SD_RFP,SD_GFP,SD_DAPI,SD_BF,SD_NIR.nd2',\n",
       " 'X:\\\\Lisa\\\\siMtb screen I_LØ\\\\Plate 01_Nuc\\\\Plate01_Nuc_Wells-D11__Channel_SD_AF647,SD_RFP,SD_GFP,SD_DAPI,SD_BF,SD_NIR.nd2',\n",
       " 'X:\\\\Lisa\\\\siMtb screen I_LØ\\\\Plate 01_Nuc\\\\Plate01_Nuc_Wells-D12__Channel_SD_AF647,SD_RFP,SD_GFP,SD_DAPI,SD_BF,SD_NIR.nd2',\n",
       " 'X:\\\\Lisa\\\\siMtb screen I_LØ\\\\Plate 01_Nuc\\\\Plate01_Nuc_Wells-D1__Channel_SD_AF647,SD_RFP,SD_GFP,SD_DAPI,SD_BF,SD_NIR.nd2',\n",
       " 'X:\\\\Lisa\\\\siMtb screen I_LØ\\\\Plate 01_Nuc\\\\Plate01_Nuc_Wells-D2__Channel_SD_AF647,SD_RFP,SD_GFP,SD_DAPI,SD_BF,SD_NIR.nd2',\n",
       " 'X:\\\\Lisa\\\\siMtb screen I_LØ\\\\Plate 01_Nuc\\\\Plate01_Nuc_Wells-D3__Channel_SD_AF647,SD_RFP,SD_GFP,SD_DAPI,SD_BF,SD_NIR.nd2',\n",
       " 'X:\\\\Lisa\\\\siMtb screen I_LØ\\\\Plate 01_Nuc\\\\Plate01_Nuc_Wells-D4__Channel_SD_AF647,SD_RFP,SD_GFP,SD_DAPI,SD_BF,SD_NIR.nd2',\n",
       " 'X:\\\\Lisa\\\\siMtb screen I_LØ\\\\Plate 01_Nuc\\\\Plate01_Nuc_Wells-D5__Channel_SD_AF647,SD_RFP,SD_GFP,SD_DAPI,SD_BF,SD_NIR.nd2',\n",
       " 'X:\\\\Lisa\\\\siMtb screen I_LØ\\\\Plate 01_Nuc\\\\Plate01_Nuc_Wells-D6__Channel_SD_AF647,SD_RFP,SD_GFP,SD_DAPI,SD_BF,SD_NIR.nd2',\n",
       " 'X:\\\\Lisa\\\\siMtb screen I_LØ\\\\Plate 01_Nuc\\\\Plate01_Nuc_Wells-D7__Channel_SD_AF647,SD_RFP,SD_GFP,SD_DAPI,SD_BF,SD_NIR.nd2',\n",
       " 'X:\\\\Lisa\\\\siMtb screen I_LØ\\\\Plate 01_Nuc\\\\Plate01_Nuc_Wells-D8__Channel_SD_AF647,SD_RFP,SD_GFP,SD_DAPI,SD_BF,SD_NIR.nd2',\n",
       " 'X:\\\\Lisa\\\\siMtb screen I_LØ\\\\Plate 01_Nuc\\\\Plate01_Nuc_Wells-D9__Channel_SD_AF647,SD_RFP,SD_GFP,SD_DAPI,SD_BF,SD_NIR.nd2',\n",
       " 'X:\\\\Lisa\\\\siMtb screen I_LØ\\\\Plate 01_Nuc\\\\Plate01_Nuc_Wells-E10__Channel_SD_AF647,SD_RFP,SD_GFP,SD_DAPI,SD_BF,SD_NIR.nd2',\n",
       " 'X:\\\\Lisa\\\\siMtb screen I_LØ\\\\Plate 01_Nuc\\\\Plate01_Nuc_Wells-E11__Channel_SD_AF647,SD_RFP,SD_GFP,SD_DAPI,SD_BF,SD_NIR.nd2',\n",
       " 'X:\\\\Lisa\\\\siMtb screen I_LØ\\\\Plate 01_Nuc\\\\Plate01_Nuc_Wells-E12__Channel_SD_AF647,SD_RFP,SD_GFP,SD_DAPI,SD_BF,SD_NIR.nd2',\n",
       " 'X:\\\\Lisa\\\\siMtb screen I_LØ\\\\Plate 01_Nuc\\\\Plate01_Nuc_Wells-E1__Channel_SD_AF647,SD_RFP,SD_GFP,SD_DAPI,SD_BF,SD_NIR.nd2',\n",
       " 'X:\\\\Lisa\\\\siMtb screen I_LØ\\\\Plate 01_Nuc\\\\Plate01_Nuc_Wells-E2__Channel_SD_AF647,SD_RFP,SD_GFP,SD_DAPI,SD_BF,SD_NIR.nd2',\n",
       " 'X:\\\\Lisa\\\\siMtb screen I_LØ\\\\Plate 01_Nuc\\\\Plate01_Nuc_Wells-E3__Channel_SD_AF647,SD_RFP,SD_GFP,SD_DAPI,SD_BF,SD_NIR.nd2',\n",
       " 'X:\\\\Lisa\\\\siMtb screen I_LØ\\\\Plate 01_Nuc\\\\Plate01_Nuc_Wells-E4__Channel_SD_AF647,SD_RFP,SD_GFP,SD_DAPI,SD_BF,SD_NIR.nd2',\n",
       " 'X:\\\\Lisa\\\\siMtb screen I_LØ\\\\Plate 01_Nuc\\\\Plate01_Nuc_Wells-E5__Channel_SD_AF647,SD_RFP,SD_GFP,SD_DAPI,SD_BF,SD_NIR.nd2',\n",
       " 'X:\\\\Lisa\\\\siMtb screen I_LØ\\\\Plate 01_Nuc\\\\Plate01_Nuc_Wells-E6__Channel_SD_AF647,SD_RFP,SD_GFP,SD_DAPI,SD_BF,SD_NIR.nd2',\n",
       " 'X:\\\\Lisa\\\\siMtb screen I_LØ\\\\Plate 01_Nuc\\\\Plate01_Nuc_Wells-E7__Channel_SD_AF647,SD_RFP,SD_GFP,SD_DAPI,SD_BF,SD_NIR.nd2',\n",
       " 'X:\\\\Lisa\\\\siMtb screen I_LØ\\\\Plate 01_Nuc\\\\Plate01_Nuc_Wells-E8__Channel_SD_AF647,SD_RFP,SD_GFP,SD_DAPI,SD_BF,SD_NIR.nd2',\n",
       " 'X:\\\\Lisa\\\\siMtb screen I_LØ\\\\Plate 01_Nuc\\\\Plate01_Nuc_Wells-E9__Channel_SD_AF647,SD_RFP,SD_GFP,SD_DAPI,SD_BF,SD_NIR.nd2',\n",
       " 'X:\\\\Lisa\\\\siMtb screen I_LØ\\\\Plate 01_Nuc\\\\Plate01_Nuc_Wells-F10__Channel_SD_AF647,SD_RFP,SD_GFP,SD_DAPI,SD_BF,SD_NIR.nd2',\n",
       " 'X:\\\\Lisa\\\\siMtb screen I_LØ\\\\Plate 01_Nuc\\\\Plate01_Nuc_Wells-F11__Channel_SD_AF647,SD_RFP,SD_GFP,SD_DAPI,SD_BF,SD_NIR.nd2',\n",
       " 'X:\\\\Lisa\\\\siMtb screen I_LØ\\\\Plate 01_Nuc\\\\Plate01_Nuc_Wells-F12__Channel_SD_AF647,SD_RFP,SD_GFP,SD_DAPI,SD_BF,SD_NIR.nd2',\n",
       " 'X:\\\\Lisa\\\\siMtb screen I_LØ\\\\Plate 01_Nuc\\\\Plate01_Nuc_Wells-F1__Channel_SD_AF647,SD_RFP,SD_GFP,SD_DAPI,SD_BF,SD_NIR.nd2',\n",
       " 'X:\\\\Lisa\\\\siMtb screen I_LØ\\\\Plate 01_Nuc\\\\Plate01_Nuc_Wells-F2__Channel_SD_AF647,SD_RFP,SD_GFP,SD_DAPI,SD_BF,SD_NIR.nd2',\n",
       " 'X:\\\\Lisa\\\\siMtb screen I_LØ\\\\Plate 01_Nuc\\\\Plate01_Nuc_Wells-F3__Channel_SD_AF647,SD_RFP,SD_GFP,SD_DAPI,SD_BF,SD_NIR.nd2',\n",
       " 'X:\\\\Lisa\\\\siMtb screen I_LØ\\\\Plate 01_Nuc\\\\Plate01_Nuc_Wells-F4__Channel_SD_AF647,SD_RFP,SD_GFP,SD_DAPI,SD_BF,SD_NIR.nd2',\n",
       " 'X:\\\\Lisa\\\\siMtb screen I_LØ\\\\Plate 01_Nuc\\\\Plate01_Nuc_Wells-F5__Channel_SD_AF647,SD_RFP,SD_GFP,SD_DAPI,SD_BF,SD_NIR.nd2',\n",
       " 'X:\\\\Lisa\\\\siMtb screen I_LØ\\\\Plate 01_Nuc\\\\Plate01_Nuc_Wells-F6__Channel_SD_AF647,SD_RFP,SD_GFP,SD_DAPI,SD_BF,SD_NIR.nd2',\n",
       " 'X:\\\\Lisa\\\\siMtb screen I_LØ\\\\Plate 01_Nuc\\\\Plate01_Nuc_Wells-F7__Channel_SD_AF647,SD_RFP,SD_GFP,SD_DAPI,SD_BF,SD_NIR.nd2',\n",
       " 'X:\\\\Lisa\\\\siMtb screen I_LØ\\\\Plate 01_Nuc\\\\Plate01_Nuc_Wells-F8__Channel_SD_AF647,SD_RFP,SD_GFP,SD_DAPI,SD_BF,SD_NIR.nd2',\n",
       " 'X:\\\\Lisa\\\\siMtb screen I_LØ\\\\Plate 01_Nuc\\\\Plate01_Nuc_Wells-F9__Channel_SD_AF647,SD_RFP,SD_GFP,SD_DAPI,SD_BF,SD_NIR.nd2',\n",
       " 'X:\\\\Lisa\\\\siMtb screen I_LØ\\\\Plate 01_Nuc\\\\Plate01_Nuc_Wells-G10__Channel_SD_AF647,SD_RFP,SD_GFP,SD_DAPI,SD_BF,SD_NIR.nd2',\n",
       " 'X:\\\\Lisa\\\\siMtb screen I_LØ\\\\Plate 01_Nuc\\\\Plate01_Nuc_Wells-G11__Channel_SD_AF647,SD_RFP,SD_GFP,SD_DAPI,SD_BF,SD_NIR.nd2',\n",
       " 'X:\\\\Lisa\\\\siMtb screen I_LØ\\\\Plate 01_Nuc\\\\Plate01_Nuc_Wells-G12__Channel_SD_AF647,SD_RFP,SD_GFP,SD_DAPI,SD_BF,SD_NIR.nd2',\n",
       " 'X:\\\\Lisa\\\\siMtb screen I_LØ\\\\Plate 01_Nuc\\\\Plate01_Nuc_Wells-G1__Channel_SD_AF647,SD_RFP,SD_GFP,SD_DAPI,SD_BF,SD_NIR.nd2',\n",
       " 'X:\\\\Lisa\\\\siMtb screen I_LØ\\\\Plate 01_Nuc\\\\Plate01_Nuc_Wells-G2__Channel_SD_AF647,SD_RFP,SD_GFP,SD_DAPI,SD_BF,SD_NIR.nd2',\n",
       " 'X:\\\\Lisa\\\\siMtb screen I_LØ\\\\Plate 01_Nuc\\\\Plate01_Nuc_Wells-G3__Channel_SD_AF647,SD_RFP,SD_GFP,SD_DAPI,SD_BF,SD_NIR.nd2',\n",
       " 'X:\\\\Lisa\\\\siMtb screen I_LØ\\\\Plate 01_Nuc\\\\Plate01_Nuc_Wells-G4__Channel_SD_AF647,SD_RFP,SD_GFP,SD_DAPI,SD_BF,SD_NIR.nd2',\n",
       " 'X:\\\\Lisa\\\\siMtb screen I_LØ\\\\Plate 01_Nuc\\\\Plate01_Nuc_Wells-G5__Channel_SD_AF647,SD_RFP,SD_GFP,SD_DAPI,SD_BF,SD_NIR.nd2',\n",
       " 'X:\\\\Lisa\\\\siMtb screen I_LØ\\\\Plate 01_Nuc\\\\Plate01_Nuc_Wells-G6__Channel_SD_AF647,SD_RFP,SD_GFP,SD_DAPI,SD_BF,SD_NIR.nd2',\n",
       " 'X:\\\\Lisa\\\\siMtb screen I_LØ\\\\Plate 01_Nuc\\\\Plate01_Nuc_Wells-G7__Channel_SD_AF647,SD_RFP,SD_GFP,SD_DAPI,SD_BF,SD_NIR.nd2',\n",
       " 'X:\\\\Lisa\\\\siMtb screen I_LØ\\\\Plate 01_Nuc\\\\Plate01_Nuc_Wells-G8__Channel_SD_AF647,SD_RFP,SD_GFP,SD_DAPI,SD_BF,SD_NIR.nd2',\n",
       " 'X:\\\\Lisa\\\\siMtb screen I_LØ\\\\Plate 01_Nuc\\\\Plate01_Nuc_Wells-G9__Channel_SD_AF647,SD_RFP,SD_GFP,SD_DAPI,SD_BF,SD_NIR.nd2',\n",
       " 'X:\\\\Lisa\\\\siMtb screen I_LØ\\\\Plate 01_Nuc\\\\Plate01_Nuc_Wells-H10__Channel_SD_AF647,SD_RFP,SD_GFP,SD_DAPI,SD_BF,SD_NIR.nd2',\n",
       " 'X:\\\\Lisa\\\\siMtb screen I_LØ\\\\Plate 01_Nuc\\\\Plate01_Nuc_Wells-H11__Channel_SD_AF647,SD_RFP,SD_GFP,SD_DAPI,SD_BF,SD_NIR.nd2',\n",
       " 'X:\\\\Lisa\\\\siMtb screen I_LØ\\\\Plate 01_Nuc\\\\Plate01_Nuc_Wells-H12__Channel_SD_AF647,SD_RFP,SD_GFP,SD_DAPI,SD_BF,SD_NIR.nd2',\n",
       " 'X:\\\\Lisa\\\\siMtb screen I_LØ\\\\Plate 01_Nuc\\\\Plate01_Nuc_Wells-H1__Channel_SD_AF647,SD_RFP,SD_GFP,SD_DAPI,SD_BF,SD_NIR.nd2',\n",
       " 'X:\\\\Lisa\\\\siMtb screen I_LØ\\\\Plate 01_Nuc\\\\Plate01_Nuc_Wells-H2__Channel_SD_AF647,SD_RFP,SD_GFP,SD_DAPI,SD_BF,SD_NIR.nd2',\n",
       " 'X:\\\\Lisa\\\\siMtb screen I_LØ\\\\Plate 01_Nuc\\\\Plate01_Nuc_Wells-H3__Channel_SD_AF647,SD_RFP,SD_GFP,SD_DAPI,SD_BF,SD_NIR.nd2',\n",
       " 'X:\\\\Lisa\\\\siMtb screen I_LØ\\\\Plate 01_Nuc\\\\Plate01_Nuc_Wells-H4__Channel_SD_AF647,SD_RFP,SD_GFP,SD_DAPI,SD_BF,SD_NIR.nd2',\n",
       " 'X:\\\\Lisa\\\\siMtb screen I_LØ\\\\Plate 01_Nuc\\\\Plate01_Nuc_Wells-H5__Channel_SD_AF647,SD_RFP,SD_GFP,SD_DAPI,SD_BF,SD_NIR.nd2',\n",
       " 'X:\\\\Lisa\\\\siMtb screen I_LØ\\\\Plate 01_Nuc\\\\Plate01_Nuc_Wells-H6__Channel_SD_AF647,SD_RFP,SD_GFP,SD_DAPI,SD_BF,SD_NIR.nd2',\n",
       " 'X:\\\\Lisa\\\\siMtb screen I_LØ\\\\Plate 01_Nuc\\\\Plate01_Nuc_Wells-H7__Channel_SD_AF647,SD_RFP,SD_GFP,SD_DAPI,SD_BF,SD_NIR.nd2',\n",
       " 'X:\\\\Lisa\\\\siMtb screen I_LØ\\\\Plate 01_Nuc\\\\Plate01_Nuc_Wells-H8__Channel_SD_AF647,SD_RFP,SD_GFP,SD_DAPI,SD_BF,SD_NIR.nd2',\n",
       " 'X:\\\\Lisa\\\\siMtb screen I_LØ\\\\Plate 01_Nuc\\\\Plate01_Nuc_Wells-H9__Channel_SD_AF647,SD_RFP,SD_GFP,SD_DAPI,SD_BF,SD_NIR.nd2']"
      ]
     },
     "execution_count": 5,
     "metadata": {},
     "output_type": "execute_result"
    }
   ],
   "source": [
    "# Copy the path where your images are stored, you can use absolute or relative paths to point at other disk locations\n",
    "directory_path = Path(\"X:\\Lisa\\siMtb screen I_LØ\\Plate 01_Nuc\")\n",
    "\n",
    "# Iterate through the .czi and .nd2 files in the directory\n",
    "images = list_images(directory_path)\n",
    "\n",
    "# Image size reduction (downsampling) to improve processing times (slicing, not lossless compression)\n",
    "slicing_factor_xy = None # Use 2 or 4 for downsampling in xy (None for lossless)\n",
    "\n",
    "images"
   ]
  },
  {
   "cell_type": "code",
   "execution_count": 3,
   "id": "e06f0871",
   "metadata": {},
   "outputs": [],
   "source": [
    "viewer = napari.Viewer(ndisplay=2)"
   ]
  },
  {
   "cell_type": "code",
   "execution_count": 9,
   "id": "656fe8bd",
   "metadata": {},
   "outputs": [],
   "source": [
    "from tqdm import tqdm"
   ]
  },
  {
   "cell_type": "code",
   "execution_count": null,
   "id": "80293e96",
   "metadata": {},
   "outputs": [],
   "source": [
    "#TODO: Substract uneven and remove background from BF by obtaining the median of all BF channels \n",
    "\n",
    "# Create an empty list to store the brightfield images from each well\n",
    "bf_arrays = []\n",
    "\n",
    "# Read all images, extract the brightfield channel and calculate the mean to correct illumination and remove dust spots\n",
    "for image in tqdm(images):\n",
    "\n",
    "    # Read image, apply slicing if needed and return filename and img as a np array\n",
    "    img, filename = read_image(image, slicing_factor_xy, log=False)\n",
    "\n",
    "    # Extract brighfield slice\n",
    "    bf_channel = img[4]\n",
    "\n",
    "    # Add it to the bf_arrays iterable\n",
    "    bf_arrays.append(bf_channel)\n",
    "\n",
    "# Create a stack containing all bf images\n",
    "bf_stack = np.stack(bf_arrays, axis=0)\n",
    "\n",
    "# Calculate the median to retain the common structures (spots, illumination)\n",
    "bf_correction = np.median(bf_stack, axis=0)\n",
    "\n",
    "viewer.add_image(bf_stack)\n",
    "\n",
    "viewer.add_image(bf_correction)"
   ]
  },
  {
   "cell_type": "code",
   "execution_count": 14,
   "id": "f629681a",
   "metadata": {},
   "outputs": [],
   "source": [
    "del bf_stack"
   ]
  },
  {
   "cell_type": "code",
   "execution_count": null,
   "id": "f058214e",
   "metadata": {},
   "outputs": [],
   "source": [
    "# Store brightfield correction as .tiff to avoid recalculating it everytime\n",
    "from tifffile import imwrite, imread\n",
    "\n",
    "imwrite(\"./raw_data/test_data_2/bf_correction.tiff\",bf_correction)\n"
   ]
  },
  {
   "cell_type": "code",
   "execution_count": 20,
   "id": "173a88ec",
   "metadata": {},
   "outputs": [],
   "source": [
    "from tifffile import imread"
   ]
  },
  {
   "cell_type": "code",
   "execution_count": 22,
   "id": "1e91e323",
   "metadata": {},
   "outputs": [],
   "source": [
    "#TODO: Change to imread(directory_path / \"bf_correction.tiff\")\n",
    "bf_correction = imread(\"./raw_data/test_data_2/bf_correction.tiff\")"
   ]
  },
  {
   "cell_type": "code",
   "execution_count": null,
   "id": "72b15d1c",
   "metadata": {},
   "outputs": [
    {
     "name": "stdout",
     "output_type": "stream",
     "text": [
      "Compressed Array shape: (6, 5032, 5032)\n",
      "\n",
      "\n",
      "Image analyzed: Plate01_Nuc_Wells-A11__Channel_SD_AF647,SD_RFP,SD_GFP,SD_DAPI,SD_BF,SD_NIR\n",
      "Original Array shape: (6, 5032, 5032)\n"
     ]
    }
   ],
   "source": [
    "# Explore a different image (0 defines the first image in the directory)\n",
    "image = images[1]\n",
    "\n",
    "# Read image, apply slicing if needed and return filename and img as a np array\n",
    "img, filename = read_image(image, slicing_factor_xy)"
   ]
  },
  {
   "cell_type": "code",
   "execution_count": 13,
   "id": "b5f38b8c",
   "metadata": {},
   "outputs": [
    {
     "data": {
      "text/plain": [
       "<Image layer 'img' at 0x1c896643610>"
      ]
     },
     "execution_count": 13,
     "metadata": {},
     "output_type": "execute_result"
    }
   ],
   "source": [
    "viewer = napari.Viewer(ndisplay=2)\n",
    "viewer.add_image(img)"
   ]
  },
  {
   "cell_type": "code",
   "execution_count": 16,
   "id": "7ee5073c",
   "metadata": {},
   "outputs": [
    {
     "data": {
      "text/plain": [
       "<Labels layer 'nuclei_labels' at 0x1c896424160>"
      ]
     },
     "execution_count": 16,
     "metadata": {},
     "output_type": "execute_result"
    }
   ],
   "source": [
    "nuclei_labels, flows, styles = model.eval(img[-1:], niter=1000) # need to check the arguments\n",
    "viewer.add_labels(nuclei_labels)"
   ]
  },
  {
   "cell_type": "code",
   "execution_count": 17,
   "id": "fd59e193",
   "metadata": {},
   "outputs": [
    {
     "data": {
      "text/plain": [
       "<Labels layer 'cytoplasm_labels' at 0x1c895d13970>"
      ]
     },
     "execution_count": 17,
     "metadata": {},
     "output_type": "execute_result"
    }
   ],
   "source": [
    "cytoplasm_labels, flows, styles = model.eval(np.stack((img[[0,1]].sum(axis=0), (img[4] - bf_correction)), axis=0), niter=1000) # need to check the arguments\n",
    "viewer.add_labels(cytoplasm_labels)"
   ]
  },
  {
   "cell_type": "code",
   "execution_count": 18,
   "id": "233be1af",
   "metadata": {},
   "outputs": [
    {
     "name": "stdout",
     "output_type": "stream",
     "text": [
      "INFO:spotiflow.model.spotiflow:Will use device: cuda:0\n",
      "2025-09-01 10:49:26,405 [INFO] Will use device: cuda:0\n",
      "INFO:spotiflow.model.spotiflow:Predicting with prob_thresh = [0.6], min_distance = 1\n",
      "2025-09-01 10:49:26,405 [INFO] Predicting with prob_thresh = [0.6], min_distance = 1\n",
      "INFO:spotiflow.model.spotiflow:Peak detection mode: fast\n",
      "2025-09-01 10:49:26,405 [INFO] Peak detection mode: fast\n",
      "INFO:spotiflow.model.spotiflow:Image shape (5032, 5032)\n",
      "2025-09-01 10:49:26,405 [INFO] Image shape (5032, 5032)\n",
      "INFO:spotiflow.model.spotiflow:Predicting with (3, 3) tiles\n",
      "2025-09-01 10:49:26,410 [INFO] Predicting with (3, 3) tiles\n",
      "INFO:spotiflow.model.spotiflow:Normalizing...\n",
      "2025-09-01 10:49:26,434 [INFO] Normalizing...\n",
      "INFO:spotiflow.model.spotiflow:Padding to shape (5040, 5040, 1)\n",
      "2025-09-01 10:49:26,720 [INFO] Padding to shape (5040, 5040, 1)\n"
     ]
    },
    {
     "name": "stderr",
     "output_type": "stream",
     "text": [
      "Predicting tiles: 100%|██████████| 9/9 [00:03<00:00,  2.86it/s]"
     ]
    },
    {
     "name": "stdout",
     "output_type": "stream",
     "text": [
      "INFO:spotiflow.model.spotiflow:Found 1245 spots\n",
      "2025-09-01 10:49:29,901 [INFO] Found 1245 spots\n"
     ]
    },
    {
     "name": "stderr",
     "output_type": "stream",
     "text": [
      "\n"
     ]
    },
    {
     "data": {
      "text/plain": [
       "<Points layer 'points' at 0x1c896424910>"
      ]
     },
     "execution_count": 18,
     "metadata": {},
     "output_type": "execute_result"
    }
   ],
   "source": [
    "points, details = spotiflow_model.predict(img[0], subpix=True)\n",
    "viewer.add_image(details.heatmap, colormap=\"viridis\")\n",
    "viewer.add_points(points, face_color='red')"
   ]
  },
  {
   "cell_type": "code",
   "execution_count": null,
   "id": "432256ff",
   "metadata": {},
   "outputs": [
    {
     "name": "stdout",
     "output_type": "stream",
     "text": [
      "2025-09-01 11:21:38,609 [INFO] build program: kernel 'gaussian_blur_separable_2d' was part of a lengthy uncached source build (assuming cached by ICD) (0.30 s)\n"
     ]
    },
    {
     "data": {
      "text/plain": [
       "<Labels layer 'bacteria_labels' at 0x1c88ec5dd50>"
      ]
     },
     "execution_count": 24,
     "metadata": {},
     "output_type": "execute_result"
    }
   ],
   "source": [
    "#TODO: Bacterial detection, infection rate calculation\n",
    "\n",
    "# Voronoi otsu labeling is very affected by outliers, train APOC object segmenter for best results\n",
    "import pyclesperanto_prototype as cle   \n",
    "\n",
    "cle.select_device()  # optional: choose your GPU\n",
    "\n",
    "# img: 2D/3D grayscale numpy array\n",
    "bacteria_labels = cle.voronoi_otsu_labeling(\n",
    "    img[3],             # choose Mycoplasma channel\n",
    "    spot_sigma=1.0,     # controls object separation (peak detection)\n",
    "    outline_sigma=1.0   # controls outline smoothness/precision\n",
    ")\n",
    "\n",
    "viewer.add_labels(bacteria_labels)"
   ]
  }
 ],
 "metadata": {
  "kernelspec": {
   "display_name": "hcs_cellpose",
   "language": "python",
   "name": "python3"
  },
  "language_info": {
   "codemirror_mode": {
    "name": "ipython",
    "version": 3
   },
   "file_extension": ".py",
   "mimetype": "text/x-python",
   "name": "python",
   "nbconvert_exporter": "python",
   "pygments_lexer": "ipython3",
   "version": "3.10.18"
  }
 },
 "nbformat": 4,
 "nbformat_minor": 5
}
