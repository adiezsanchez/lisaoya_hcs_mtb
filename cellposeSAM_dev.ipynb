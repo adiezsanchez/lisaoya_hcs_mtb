{
 "cells": [
  {
   "cell_type": "code",
   "execution_count": 36,
   "id": "2d6f2848",
   "metadata": {},
   "outputs": [
    {
     "name": "stdout",
     "output_type": "stream",
     "text": [
      "creating new log file\n",
      "2025-09-01 13:02:52,166 [INFO] WRITING LOG OUTPUT TO C:\\Users\\adiez_cmic\\.cellpose\\run.log\n",
      "2025-09-01 13:02:52,166 [INFO] \n",
      "cellpose version: \t4.0.6 \n",
      "platform:       \twin32 \n",
      "python version: \t3.10.18 \n",
      "torch version:  \t2.5.0\n",
      "2025-09-01 13:02:52,173 [INFO] ** TORCH CUDA version installed and working. **\n",
      "2025-09-01 13:02:52,176 [INFO] ** TORCH CUDA version installed and working. **\n",
      "2025-09-01 13:02:52,176 [INFO] >>>> using GPU (CUDA)\n",
      "2025-09-01 13:02:53,554 [INFO] >>>> loading model C:\\Users\\adiez_cmic\\.cellpose\\models\\cpsam\n",
      "INFO:spotiflow.model.spotiflow:Loading pretrained model: general\n",
      "2025-09-01 13:02:54,256 [INFO] Loading pretrained model: general\n"
     ]
    }
   ],
   "source": [
    "import numpy as np\n",
    "from cellpose import models, core, io\n",
    "from spotiflow.model import Spotiflow\n",
    "from pathlib import Path\n",
    "from pathlib import Path\n",
    "import napari\n",
    "import apoc\n",
    "from tqdm import tqdm\n",
    "import pyclesperanto_prototype as cle \n",
    "from tifffile import imwrite, imread\n",
    "from utils import list_images, read_image\n",
    "\n",
    "io.logger_setup() # run this to get printing of progress\n",
    "\n",
    "#Check if colab notebook instance has GPU access\n",
    "if core.use_gpu()==False:\n",
    "  raise ImportError(\"No GPU access, change your runtime\")\n",
    "\n",
    "#Load pre-trained Cellpose-SAM and Spotiflow models\n",
    "model = models.CellposeModel(gpu=True)\n",
    "spotiflow_model = Spotiflow.from_pretrained(\"general\")"
   ]
  },
  {
   "cell_type": "code",
   "execution_count": 26,
   "id": "777aa243",
   "metadata": {},
   "outputs": [
    {
     "data": {
      "text/plain": [
       "['X:\\\\Lisa\\\\siMtb screen I_LØ\\\\Plate 01_Nuc\\\\Plate01_Nuc_Wells-A1__Channel_SD_AF647,SD_RFP,SD_GFP,SD_DAPI,SD_BF,SD_NIR.nd2',\n",
       " 'X:\\\\Lisa\\\\siMtb screen I_LØ\\\\Plate 01_Nuc\\\\Plate01_Nuc_Wells-A2__Channel_SD_AF647,SD_RFP,SD_GFP,SD_DAPI,SD_BF,SD_NIR.nd2',\n",
       " 'X:\\\\Lisa\\\\siMtb screen I_LØ\\\\Plate 01_Nuc\\\\Plate01_Nuc_Wells-A3__Channel_SD_AF647,SD_RFP,SD_GFP,SD_DAPI,SD_BF,SD_NIR.nd2',\n",
       " 'X:\\\\Lisa\\\\siMtb screen I_LØ\\\\Plate 01_Nuc\\\\Plate01_Nuc_Wells-A4__Channel_SD_AF647,SD_RFP,SD_GFP,SD_DAPI,SD_BF,SD_NIR.nd2',\n",
       " 'X:\\\\Lisa\\\\siMtb screen I_LØ\\\\Plate 01_Nuc\\\\Plate01_Nuc_Wells-A5__Channel_SD_AF647,SD_RFP,SD_GFP,SD_DAPI,SD_BF,SD_NIR.nd2',\n",
       " 'X:\\\\Lisa\\\\siMtb screen I_LØ\\\\Plate 01_Nuc\\\\Plate01_Nuc_Wells-A6__Channel_SD_AF647,SD_RFP,SD_GFP,SD_DAPI,SD_BF,SD_NIR.nd2',\n",
       " 'X:\\\\Lisa\\\\siMtb screen I_LØ\\\\Plate 01_Nuc\\\\Plate01_Nuc_Wells-A7__Channel_SD_AF647,SD_RFP,SD_GFP,SD_DAPI,SD_BF,SD_NIR.nd2',\n",
       " 'X:\\\\Lisa\\\\siMtb screen I_LØ\\\\Plate 01_Nuc\\\\Plate01_Nuc_Wells-A8__Channel_SD_AF647,SD_RFP,SD_GFP,SD_DAPI,SD_BF,SD_NIR.nd2',\n",
       " 'X:\\\\Lisa\\\\siMtb screen I_LØ\\\\Plate 01_Nuc\\\\Plate01_Nuc_Wells-A9__Channel_SD_AF647,SD_RFP,SD_GFP,SD_DAPI,SD_BF,SD_NIR.nd2',\n",
       " 'X:\\\\Lisa\\\\siMtb screen I_LØ\\\\Plate 01_Nuc\\\\Plate01_Nuc_Wells-A10__Channel_SD_AF647,SD_RFP,SD_GFP,SD_DAPI,SD_BF,SD_NIR.nd2',\n",
       " 'X:\\\\Lisa\\\\siMtb screen I_LØ\\\\Plate 01_Nuc\\\\Plate01_Nuc_Wells-A11__Channel_SD_AF647,SD_RFP,SD_GFP,SD_DAPI,SD_BF,SD_NIR.nd2',\n",
       " 'X:\\\\Lisa\\\\siMtb screen I_LØ\\\\Plate 01_Nuc\\\\Plate01_Nuc_Wells-A12__Channel_SD_AF647,SD_RFP,SD_GFP,SD_DAPI,SD_BF,SD_NIR.nd2',\n",
       " 'X:\\\\Lisa\\\\siMtb screen I_LØ\\\\Plate 01_Nuc\\\\Plate01_Nuc_Wells-B1__Channel_SD_AF647,SD_RFP,SD_GFP,SD_DAPI,SD_BF,SD_NIR.nd2',\n",
       " 'X:\\\\Lisa\\\\siMtb screen I_LØ\\\\Plate 01_Nuc\\\\Plate01_Nuc_Wells-B2__Channel_SD_AF647,SD_RFP,SD_GFP,SD_DAPI,SD_BF,SD_NIR.nd2',\n",
       " 'X:\\\\Lisa\\\\siMtb screen I_LØ\\\\Plate 01_Nuc\\\\Plate01_Nuc_Wells-B3__Channel_SD_AF647,SD_RFP,SD_GFP,SD_DAPI,SD_BF,SD_NIR.nd2',\n",
       " 'X:\\\\Lisa\\\\siMtb screen I_LØ\\\\Plate 01_Nuc\\\\Plate01_Nuc_Wells-B4__Channel_SD_AF647,SD_RFP,SD_GFP,SD_DAPI,SD_BF,SD_NIR.nd2',\n",
       " 'X:\\\\Lisa\\\\siMtb screen I_LØ\\\\Plate 01_Nuc\\\\Plate01_Nuc_Wells-B5__Channel_SD_AF647,SD_RFP,SD_GFP,SD_DAPI,SD_BF,SD_NIR.nd2',\n",
       " 'X:\\\\Lisa\\\\siMtb screen I_LØ\\\\Plate 01_Nuc\\\\Plate01_Nuc_Wells-B6__Channel_SD_AF647,SD_RFP,SD_GFP,SD_DAPI,SD_BF,SD_NIR.nd2',\n",
       " 'X:\\\\Lisa\\\\siMtb screen I_LØ\\\\Plate 01_Nuc\\\\Plate01_Nuc_Wells-B7__Channel_SD_AF647,SD_RFP,SD_GFP,SD_DAPI,SD_BF,SD_NIR.nd2',\n",
       " 'X:\\\\Lisa\\\\siMtb screen I_LØ\\\\Plate 01_Nuc\\\\Plate01_Nuc_Wells-B8__Channel_SD_AF647,SD_RFP,SD_GFP,SD_DAPI,SD_BF,SD_NIR.nd2',\n",
       " 'X:\\\\Lisa\\\\siMtb screen I_LØ\\\\Plate 01_Nuc\\\\Plate01_Nuc_Wells-B9__Channel_SD_AF647,SD_RFP,SD_GFP,SD_DAPI,SD_BF,SD_NIR.nd2',\n",
       " 'X:\\\\Lisa\\\\siMtb screen I_LØ\\\\Plate 01_Nuc\\\\Plate01_Nuc_Wells-B10__Channel_SD_AF647,SD_RFP,SD_GFP,SD_DAPI,SD_BF,SD_NIR.nd2',\n",
       " 'X:\\\\Lisa\\\\siMtb screen I_LØ\\\\Plate 01_Nuc\\\\Plate01_Nuc_Wells-B11__Channel_SD_AF647,SD_RFP,SD_GFP,SD_DAPI,SD_BF,SD_NIR.nd2',\n",
       " 'X:\\\\Lisa\\\\siMtb screen I_LØ\\\\Plate 01_Nuc\\\\Plate01_Nuc_Wells-B12__Channel_SD_AF647,SD_RFP,SD_GFP,SD_DAPI,SD_BF,SD_NIR.nd2',\n",
       " 'X:\\\\Lisa\\\\siMtb screen I_LØ\\\\Plate 01_Nuc\\\\Plate01_Nuc_Wells-C1__Channel_SD_AF647,SD_RFP,SD_GFP,SD_DAPI,SD_BF,SD_NIR.nd2',\n",
       " 'X:\\\\Lisa\\\\siMtb screen I_LØ\\\\Plate 01_Nuc\\\\Plate01_Nuc_Wells-C2__Channel_SD_AF647,SD_RFP,SD_GFP,SD_DAPI,SD_BF,SD_NIR.nd2',\n",
       " 'X:\\\\Lisa\\\\siMtb screen I_LØ\\\\Plate 01_Nuc\\\\Plate01_Nuc_Wells-C3__Channel_SD_AF647,SD_RFP,SD_GFP,SD_DAPI,SD_BF,SD_NIR.nd2',\n",
       " 'X:\\\\Lisa\\\\siMtb screen I_LØ\\\\Plate 01_Nuc\\\\Plate01_Nuc_Wells-C4__Channel_SD_AF647,SD_RFP,SD_GFP,SD_DAPI,SD_BF,SD_NIR.nd2',\n",
       " 'X:\\\\Lisa\\\\siMtb screen I_LØ\\\\Plate 01_Nuc\\\\Plate01_Nuc_Wells-C5__Channel_SD_AF647,SD_RFP,SD_GFP,SD_DAPI,SD_BF,SD_NIR.nd2',\n",
       " 'X:\\\\Lisa\\\\siMtb screen I_LØ\\\\Plate 01_Nuc\\\\Plate01_Nuc_Wells-C6__Channel_SD_AF647,SD_RFP,SD_GFP,SD_DAPI,SD_BF,SD_NIR.nd2',\n",
       " 'X:\\\\Lisa\\\\siMtb screen I_LØ\\\\Plate 01_Nuc\\\\Plate01_Nuc_Wells-C7__Channel_SD_AF647,SD_RFP,SD_GFP,SD_DAPI,SD_BF,SD_NIR.nd2',\n",
       " 'X:\\\\Lisa\\\\siMtb screen I_LØ\\\\Plate 01_Nuc\\\\Plate01_Nuc_Wells-C8__Channel_SD_AF647,SD_RFP,SD_GFP,SD_DAPI,SD_BF,SD_NIR.nd2',\n",
       " 'X:\\\\Lisa\\\\siMtb screen I_LØ\\\\Plate 01_Nuc\\\\Plate01_Nuc_Wells-C9__Channel_SD_AF647,SD_RFP,SD_GFP,SD_DAPI,SD_BF,SD_NIR.nd2',\n",
       " 'X:\\\\Lisa\\\\siMtb screen I_LØ\\\\Plate 01_Nuc\\\\Plate01_Nuc_Wells-C10__Channel_SD_AF647,SD_RFP,SD_GFP,SD_DAPI,SD_BF,SD_NIR.nd2',\n",
       " 'X:\\\\Lisa\\\\siMtb screen I_LØ\\\\Plate 01_Nuc\\\\Plate01_Nuc_Wells-C11__Channel_SD_AF647,SD_RFP,SD_GFP,SD_DAPI,SD_BF,SD_NIR.nd2',\n",
       " 'X:\\\\Lisa\\\\siMtb screen I_LØ\\\\Plate 01_Nuc\\\\Plate01_Nuc_Wells-C12__Channel_SD_AF647,SD_RFP,SD_GFP,SD_DAPI,SD_BF,SD_NIR.nd2',\n",
       " 'X:\\\\Lisa\\\\siMtb screen I_LØ\\\\Plate 01_Nuc\\\\Plate01_Nuc_Wells-D1__Channel_SD_AF647,SD_RFP,SD_GFP,SD_DAPI,SD_BF,SD_NIR.nd2',\n",
       " 'X:\\\\Lisa\\\\siMtb screen I_LØ\\\\Plate 01_Nuc\\\\Plate01_Nuc_Wells-D2__Channel_SD_AF647,SD_RFP,SD_GFP,SD_DAPI,SD_BF,SD_NIR.nd2',\n",
       " 'X:\\\\Lisa\\\\siMtb screen I_LØ\\\\Plate 01_Nuc\\\\Plate01_Nuc_Wells-D3__Channel_SD_AF647,SD_RFP,SD_GFP,SD_DAPI,SD_BF,SD_NIR.nd2',\n",
       " 'X:\\\\Lisa\\\\siMtb screen I_LØ\\\\Plate 01_Nuc\\\\Plate01_Nuc_Wells-D4__Channel_SD_AF647,SD_RFP,SD_GFP,SD_DAPI,SD_BF,SD_NIR.nd2',\n",
       " 'X:\\\\Lisa\\\\siMtb screen I_LØ\\\\Plate 01_Nuc\\\\Plate01_Nuc_Wells-D5__Channel_SD_AF647,SD_RFP,SD_GFP,SD_DAPI,SD_BF,SD_NIR.nd2',\n",
       " 'X:\\\\Lisa\\\\siMtb screen I_LØ\\\\Plate 01_Nuc\\\\Plate01_Nuc_Wells-D6__Channel_SD_AF647,SD_RFP,SD_GFP,SD_DAPI,SD_BF,SD_NIR.nd2',\n",
       " 'X:\\\\Lisa\\\\siMtb screen I_LØ\\\\Plate 01_Nuc\\\\Plate01_Nuc_Wells-D7__Channel_SD_AF647,SD_RFP,SD_GFP,SD_DAPI,SD_BF,SD_NIR.nd2',\n",
       " 'X:\\\\Lisa\\\\siMtb screen I_LØ\\\\Plate 01_Nuc\\\\Plate01_Nuc_Wells-D8__Channel_SD_AF647,SD_RFP,SD_GFP,SD_DAPI,SD_BF,SD_NIR.nd2',\n",
       " 'X:\\\\Lisa\\\\siMtb screen I_LØ\\\\Plate 01_Nuc\\\\Plate01_Nuc_Wells-D9__Channel_SD_AF647,SD_RFP,SD_GFP,SD_DAPI,SD_BF,SD_NIR.nd2',\n",
       " 'X:\\\\Lisa\\\\siMtb screen I_LØ\\\\Plate 01_Nuc\\\\Plate01_Nuc_Wells-D10__Channel_SD_AF647,SD_RFP,SD_GFP,SD_DAPI,SD_BF,SD_NIR.nd2',\n",
       " 'X:\\\\Lisa\\\\siMtb screen I_LØ\\\\Plate 01_Nuc\\\\Plate01_Nuc_Wells-D11__Channel_SD_AF647,SD_RFP,SD_GFP,SD_DAPI,SD_BF,SD_NIR.nd2',\n",
       " 'X:\\\\Lisa\\\\siMtb screen I_LØ\\\\Plate 01_Nuc\\\\Plate01_Nuc_Wells-D12__Channel_SD_AF647,SD_RFP,SD_GFP,SD_DAPI,SD_BF,SD_NIR.nd2',\n",
       " 'X:\\\\Lisa\\\\siMtb screen I_LØ\\\\Plate 01_Nuc\\\\Plate01_Nuc_Wells-E1__Channel_SD_AF647,SD_RFP,SD_GFP,SD_DAPI,SD_BF,SD_NIR.nd2',\n",
       " 'X:\\\\Lisa\\\\siMtb screen I_LØ\\\\Plate 01_Nuc\\\\Plate01_Nuc_Wells-E2__Channel_SD_AF647,SD_RFP,SD_GFP,SD_DAPI,SD_BF,SD_NIR.nd2',\n",
       " 'X:\\\\Lisa\\\\siMtb screen I_LØ\\\\Plate 01_Nuc\\\\Plate01_Nuc_Wells-E3__Channel_SD_AF647,SD_RFP,SD_GFP,SD_DAPI,SD_BF,SD_NIR.nd2',\n",
       " 'X:\\\\Lisa\\\\siMtb screen I_LØ\\\\Plate 01_Nuc\\\\Plate01_Nuc_Wells-E4__Channel_SD_AF647,SD_RFP,SD_GFP,SD_DAPI,SD_BF,SD_NIR.nd2',\n",
       " 'X:\\\\Lisa\\\\siMtb screen I_LØ\\\\Plate 01_Nuc\\\\Plate01_Nuc_Wells-E5__Channel_SD_AF647,SD_RFP,SD_GFP,SD_DAPI,SD_BF,SD_NIR.nd2',\n",
       " 'X:\\\\Lisa\\\\siMtb screen I_LØ\\\\Plate 01_Nuc\\\\Plate01_Nuc_Wells-E6__Channel_SD_AF647,SD_RFP,SD_GFP,SD_DAPI,SD_BF,SD_NIR.nd2',\n",
       " 'X:\\\\Lisa\\\\siMtb screen I_LØ\\\\Plate 01_Nuc\\\\Plate01_Nuc_Wells-E7__Channel_SD_AF647,SD_RFP,SD_GFP,SD_DAPI,SD_BF,SD_NIR.nd2',\n",
       " 'X:\\\\Lisa\\\\siMtb screen I_LØ\\\\Plate 01_Nuc\\\\Plate01_Nuc_Wells-E8__Channel_SD_AF647,SD_RFP,SD_GFP,SD_DAPI,SD_BF,SD_NIR.nd2',\n",
       " 'X:\\\\Lisa\\\\siMtb screen I_LØ\\\\Plate 01_Nuc\\\\Plate01_Nuc_Wells-E9__Channel_SD_AF647,SD_RFP,SD_GFP,SD_DAPI,SD_BF,SD_NIR.nd2',\n",
       " 'X:\\\\Lisa\\\\siMtb screen I_LØ\\\\Plate 01_Nuc\\\\Plate01_Nuc_Wells-E10__Channel_SD_AF647,SD_RFP,SD_GFP,SD_DAPI,SD_BF,SD_NIR.nd2',\n",
       " 'X:\\\\Lisa\\\\siMtb screen I_LØ\\\\Plate 01_Nuc\\\\Plate01_Nuc_Wells-E11__Channel_SD_AF647,SD_RFP,SD_GFP,SD_DAPI,SD_BF,SD_NIR.nd2',\n",
       " 'X:\\\\Lisa\\\\siMtb screen I_LØ\\\\Plate 01_Nuc\\\\Plate01_Nuc_Wells-E12__Channel_SD_AF647,SD_RFP,SD_GFP,SD_DAPI,SD_BF,SD_NIR.nd2',\n",
       " 'X:\\\\Lisa\\\\siMtb screen I_LØ\\\\Plate 01_Nuc\\\\Plate01_Nuc_Wells-F1__Channel_SD_AF647,SD_RFP,SD_GFP,SD_DAPI,SD_BF,SD_NIR.nd2',\n",
       " 'X:\\\\Lisa\\\\siMtb screen I_LØ\\\\Plate 01_Nuc\\\\Plate01_Nuc_Wells-F2__Channel_SD_AF647,SD_RFP,SD_GFP,SD_DAPI,SD_BF,SD_NIR.nd2',\n",
       " 'X:\\\\Lisa\\\\siMtb screen I_LØ\\\\Plate 01_Nuc\\\\Plate01_Nuc_Wells-F3__Channel_SD_AF647,SD_RFP,SD_GFP,SD_DAPI,SD_BF,SD_NIR.nd2',\n",
       " 'X:\\\\Lisa\\\\siMtb screen I_LØ\\\\Plate 01_Nuc\\\\Plate01_Nuc_Wells-F4__Channel_SD_AF647,SD_RFP,SD_GFP,SD_DAPI,SD_BF,SD_NIR.nd2',\n",
       " 'X:\\\\Lisa\\\\siMtb screen I_LØ\\\\Plate 01_Nuc\\\\Plate01_Nuc_Wells-F5__Channel_SD_AF647,SD_RFP,SD_GFP,SD_DAPI,SD_BF,SD_NIR.nd2',\n",
       " 'X:\\\\Lisa\\\\siMtb screen I_LØ\\\\Plate 01_Nuc\\\\Plate01_Nuc_Wells-F6__Channel_SD_AF647,SD_RFP,SD_GFP,SD_DAPI,SD_BF,SD_NIR.nd2',\n",
       " 'X:\\\\Lisa\\\\siMtb screen I_LØ\\\\Plate 01_Nuc\\\\Plate01_Nuc_Wells-F7__Channel_SD_AF647,SD_RFP,SD_GFP,SD_DAPI,SD_BF,SD_NIR.nd2',\n",
       " 'X:\\\\Lisa\\\\siMtb screen I_LØ\\\\Plate 01_Nuc\\\\Plate01_Nuc_Wells-F8__Channel_SD_AF647,SD_RFP,SD_GFP,SD_DAPI,SD_BF,SD_NIR.nd2',\n",
       " 'X:\\\\Lisa\\\\siMtb screen I_LØ\\\\Plate 01_Nuc\\\\Plate01_Nuc_Wells-F9__Channel_SD_AF647,SD_RFP,SD_GFP,SD_DAPI,SD_BF,SD_NIR.nd2',\n",
       " 'X:\\\\Lisa\\\\siMtb screen I_LØ\\\\Plate 01_Nuc\\\\Plate01_Nuc_Wells-F10__Channel_SD_AF647,SD_RFP,SD_GFP,SD_DAPI,SD_BF,SD_NIR.nd2',\n",
       " 'X:\\\\Lisa\\\\siMtb screen I_LØ\\\\Plate 01_Nuc\\\\Plate01_Nuc_Wells-F11__Channel_SD_AF647,SD_RFP,SD_GFP,SD_DAPI,SD_BF,SD_NIR.nd2',\n",
       " 'X:\\\\Lisa\\\\siMtb screen I_LØ\\\\Plate 01_Nuc\\\\Plate01_Nuc_Wells-F12__Channel_SD_AF647,SD_RFP,SD_GFP,SD_DAPI,SD_BF,SD_NIR.nd2',\n",
       " 'X:\\\\Lisa\\\\siMtb screen I_LØ\\\\Plate 01_Nuc\\\\Plate01_Nuc_Wells-G1__Channel_SD_AF647,SD_RFP,SD_GFP,SD_DAPI,SD_BF,SD_NIR.nd2',\n",
       " 'X:\\\\Lisa\\\\siMtb screen I_LØ\\\\Plate 01_Nuc\\\\Plate01_Nuc_Wells-G2__Channel_SD_AF647,SD_RFP,SD_GFP,SD_DAPI,SD_BF,SD_NIR.nd2',\n",
       " 'X:\\\\Lisa\\\\siMtb screen I_LØ\\\\Plate 01_Nuc\\\\Plate01_Nuc_Wells-G3__Channel_SD_AF647,SD_RFP,SD_GFP,SD_DAPI,SD_BF,SD_NIR.nd2',\n",
       " 'X:\\\\Lisa\\\\siMtb screen I_LØ\\\\Plate 01_Nuc\\\\Plate01_Nuc_Wells-G4__Channel_SD_AF647,SD_RFP,SD_GFP,SD_DAPI,SD_BF,SD_NIR.nd2',\n",
       " 'X:\\\\Lisa\\\\siMtb screen I_LØ\\\\Plate 01_Nuc\\\\Plate01_Nuc_Wells-G5__Channel_SD_AF647,SD_RFP,SD_GFP,SD_DAPI,SD_BF,SD_NIR.nd2',\n",
       " 'X:\\\\Lisa\\\\siMtb screen I_LØ\\\\Plate 01_Nuc\\\\Plate01_Nuc_Wells-G6__Channel_SD_AF647,SD_RFP,SD_GFP,SD_DAPI,SD_BF,SD_NIR.nd2',\n",
       " 'X:\\\\Lisa\\\\siMtb screen I_LØ\\\\Plate 01_Nuc\\\\Plate01_Nuc_Wells-G7__Channel_SD_AF647,SD_RFP,SD_GFP,SD_DAPI,SD_BF,SD_NIR.nd2',\n",
       " 'X:\\\\Lisa\\\\siMtb screen I_LØ\\\\Plate 01_Nuc\\\\Plate01_Nuc_Wells-G8__Channel_SD_AF647,SD_RFP,SD_GFP,SD_DAPI,SD_BF,SD_NIR.nd2',\n",
       " 'X:\\\\Lisa\\\\siMtb screen I_LØ\\\\Plate 01_Nuc\\\\Plate01_Nuc_Wells-G9__Channel_SD_AF647,SD_RFP,SD_GFP,SD_DAPI,SD_BF,SD_NIR.nd2',\n",
       " 'X:\\\\Lisa\\\\siMtb screen I_LØ\\\\Plate 01_Nuc\\\\Plate01_Nuc_Wells-G10__Channel_SD_AF647,SD_RFP,SD_GFP,SD_DAPI,SD_BF,SD_NIR.nd2',\n",
       " 'X:\\\\Lisa\\\\siMtb screen I_LØ\\\\Plate 01_Nuc\\\\Plate01_Nuc_Wells-G11__Channel_SD_AF647,SD_RFP,SD_GFP,SD_DAPI,SD_BF,SD_NIR.nd2',\n",
       " 'X:\\\\Lisa\\\\siMtb screen I_LØ\\\\Plate 01_Nuc\\\\Plate01_Nuc_Wells-G12__Channel_SD_AF647,SD_RFP,SD_GFP,SD_DAPI,SD_BF,SD_NIR.nd2',\n",
       " 'X:\\\\Lisa\\\\siMtb screen I_LØ\\\\Plate 01_Nuc\\\\Plate01_Nuc_Wells-H1__Channel_SD_AF647,SD_RFP,SD_GFP,SD_DAPI,SD_BF,SD_NIR.nd2',\n",
       " 'X:\\\\Lisa\\\\siMtb screen I_LØ\\\\Plate 01_Nuc\\\\Plate01_Nuc_Wells-H2__Channel_SD_AF647,SD_RFP,SD_GFP,SD_DAPI,SD_BF,SD_NIR.nd2',\n",
       " 'X:\\\\Lisa\\\\siMtb screen I_LØ\\\\Plate 01_Nuc\\\\Plate01_Nuc_Wells-H3__Channel_SD_AF647,SD_RFP,SD_GFP,SD_DAPI,SD_BF,SD_NIR.nd2',\n",
       " 'X:\\\\Lisa\\\\siMtb screen I_LØ\\\\Plate 01_Nuc\\\\Plate01_Nuc_Wells-H4__Channel_SD_AF647,SD_RFP,SD_GFP,SD_DAPI,SD_BF,SD_NIR.nd2',\n",
       " 'X:\\\\Lisa\\\\siMtb screen I_LØ\\\\Plate 01_Nuc\\\\Plate01_Nuc_Wells-H5__Channel_SD_AF647,SD_RFP,SD_GFP,SD_DAPI,SD_BF,SD_NIR.nd2',\n",
       " 'X:\\\\Lisa\\\\siMtb screen I_LØ\\\\Plate 01_Nuc\\\\Plate01_Nuc_Wells-H6__Channel_SD_AF647,SD_RFP,SD_GFP,SD_DAPI,SD_BF,SD_NIR.nd2',\n",
       " 'X:\\\\Lisa\\\\siMtb screen I_LØ\\\\Plate 01_Nuc\\\\Plate01_Nuc_Wells-H7__Channel_SD_AF647,SD_RFP,SD_GFP,SD_DAPI,SD_BF,SD_NIR.nd2',\n",
       " 'X:\\\\Lisa\\\\siMtb screen I_LØ\\\\Plate 01_Nuc\\\\Plate01_Nuc_Wells-H8__Channel_SD_AF647,SD_RFP,SD_GFP,SD_DAPI,SD_BF,SD_NIR.nd2',\n",
       " 'X:\\\\Lisa\\\\siMtb screen I_LØ\\\\Plate 01_Nuc\\\\Plate01_Nuc_Wells-H9__Channel_SD_AF647,SD_RFP,SD_GFP,SD_DAPI,SD_BF,SD_NIR.nd2',\n",
       " 'X:\\\\Lisa\\\\siMtb screen I_LØ\\\\Plate 01_Nuc\\\\Plate01_Nuc_Wells-H10__Channel_SD_AF647,SD_RFP,SD_GFP,SD_DAPI,SD_BF,SD_NIR.nd2',\n",
       " 'X:\\\\Lisa\\\\siMtb screen I_LØ\\\\Plate 01_Nuc\\\\Plate01_Nuc_Wells-H11__Channel_SD_AF647,SD_RFP,SD_GFP,SD_DAPI,SD_BF,SD_NIR.nd2',\n",
       " 'X:\\\\Lisa\\\\siMtb screen I_LØ\\\\Plate 01_Nuc\\\\Plate01_Nuc_Wells-H12__Channel_SD_AF647,SD_RFP,SD_GFP,SD_DAPI,SD_BF,SD_NIR.nd2']"
      ]
     },
     "execution_count": 26,
     "metadata": {},
     "output_type": "execute_result"
    }
   ],
   "source": [
    "# Copy the path where your images are stored, you can use absolute or relative paths to point at other disk locations\n",
    "directory_path = Path(\"X:\\Lisa\\siMtb screen I_LØ\\Plate 01_Nuc\")\n",
    "\n",
    "# Iterate through the .czi and .nd2 files in the directory\n",
    "images = list_images(directory_path)\n",
    "\n",
    "# Image size reduction (downsampling) to improve processing times (slicing, not lossless compression)\n",
    "slicing_factor_xy = None # Use 2 or 4 for downsampling in xy (None for lossless)\n",
    "\n",
    "images"
   ]
  },
  {
   "cell_type": "code",
   "execution_count": 27,
   "id": "e06f0871",
   "metadata": {},
   "outputs": [],
   "source": [
    "viewer = napari.Viewer(ndisplay=2)"
   ]
  },
  {
   "cell_type": "code",
   "execution_count": 28,
   "id": "80293e96",
   "metadata": {},
   "outputs": [
    {
     "data": {
      "text/plain": [
       "<Image layer 'bf_correction' at 0x1c895a99990>"
      ]
     },
     "execution_count": 28,
     "metadata": {},
     "output_type": "execute_result"
    }
   ],
   "source": [
    "#TODO: Substract uneven and remove background from BF by obtaining the median of all BF channels \n",
    "\n",
    "try:\n",
    "\n",
    "    #TODO: Change to imread(directory_path / \"bf_correction.tiff\")\n",
    "    bf_correction = imread(\"./raw_data/test_data_2/bf_correction.tiff\")\n",
    "\n",
    "except FileNotFoundError:\n",
    "\n",
    "    # Create an empty list to store the brightfield images from each well\n",
    "    bf_arrays = []\n",
    "\n",
    "    # Read all images, extract the brightfield channel and calculate the mean to correct illumination and remove dust spots\n",
    "    for image in tqdm(images):\n",
    "\n",
    "        # Read image, apply slicing if needed and return filename and img as a np array\n",
    "        img, filename = read_image(image, slicing_factor_xy, log=False)\n",
    "\n",
    "        # Extract brighfield slice\n",
    "        bf_channel = img[4]\n",
    "\n",
    "        # Add it to the bf_arrays iterable\n",
    "        bf_arrays.append(bf_channel)\n",
    "\n",
    "    # Create a stack containing all bf images\n",
    "    bf_stack = np.stack(bf_arrays, axis=0)\n",
    "\n",
    "    # Calculate the median to retain the common structures (spots, illumination)\n",
    "    bf_correction = np.median(bf_stack, axis=0)\n",
    "    del bf_stack\n",
    "\n",
    "    # Store brightfield correction as .tiff to avoid recalculating it everytime\n",
    "    imwrite(\"./raw_data/test_data_2/bf_correction.tiff\",bf_correction)\n",
    "\n",
    "viewer.add_image(bf_correction)"
   ]
  },
  {
   "cell_type": "code",
   "execution_count": null,
   "id": "72b15d1c",
   "metadata": {},
   "outputs": [
    {
     "name": "stdout",
     "output_type": "stream",
     "text": [
      "Compressed Array shape: (6, 5032, 5032)\n",
      "\n",
      "\n",
      "Image analyzed: Plate01_Nuc_Wells-A2__Channel_SD_AF647,SD_RFP,SD_GFP,SD_DAPI,SD_BF,SD_NIR\n",
      "Original Array shape: (6, 5032, 5032)\n"
     ]
    },
    {
     "data": {
      "text/plain": [
       "<Image layer 'img' at 0x1c7f5b4e7d0>"
      ]
     },
     "execution_count": 29,
     "metadata": {},
     "output_type": "execute_result"
    }
   ],
   "source": [
    "# Explore a different image (0 defines the first image in the directory)\n",
    "image = images[1]\n",
    "\n",
    "# Read image, apply slicing if needed and return filename and img as a np array\n",
    "img, filename = read_image(image, slicing_factor_xy)\n",
    "\n",
    "# Extract plate number and well_id\n",
    "plate_nr = filename.split(\"_\")[0]\n",
    "well_id = filename.split(\"-\")[1][:2]\n",
    "\n",
    "viewer.add_image(img)"
   ]
  },
  {
   "cell_type": "code",
   "execution_count": 30,
   "id": "7ee5073c",
   "metadata": {},
   "outputs": [
    {
     "data": {
      "text/plain": [
       "<Labels layer 'nuclei_labels' at 0x1c88dd031f0>"
      ]
     },
     "execution_count": 30,
     "metadata": {},
     "output_type": "execute_result"
    }
   ],
   "source": [
    "nuclei_labels, flows, styles = model.eval(img[-1:], niter=1000) # need to check the arguments\n",
    "viewer.add_labels(nuclei_labels)"
   ]
  },
  {
   "cell_type": "code",
   "execution_count": 31,
   "id": "fd59e193",
   "metadata": {},
   "outputs": [
    {
     "data": {
      "text/plain": [
       "<Labels layer 'cytoplasm_labels' at 0x1c891e22bc0>"
      ]
     },
     "execution_count": 31,
     "metadata": {},
     "output_type": "execute_result"
    }
   ],
   "source": [
    "cytoplasm_labels, flows, styles = model.eval(np.stack((img[[0,1]].sum(axis=0), (img[4] - bf_correction)), axis=0), niter=1000) # need to check the arguments\n",
    "viewer.add_labels(cytoplasm_labels)"
   ]
  },
  {
   "cell_type": "code",
   "execution_count": 32,
   "id": "233be1af",
   "metadata": {},
   "outputs": [
    {
     "name": "stdout",
     "output_type": "stream",
     "text": [
      "INFO:spotiflow.model.spotiflow:Will use device: cuda:0\n",
      "2025-09-01 12:50:40,739 [INFO] Will use device: cuda:0\n",
      "INFO:spotiflow.model.spotiflow:Predicting with prob_thresh = [0.6], min_distance = 1\n",
      "2025-09-01 12:50:40,739 [INFO] Predicting with prob_thresh = [0.6], min_distance = 1\n",
      "INFO:spotiflow.model.spotiflow:Peak detection mode: fast\n",
      "2025-09-01 12:50:40,739 [INFO] Peak detection mode: fast\n",
      "INFO:spotiflow.model.spotiflow:Image shape (5032, 5032)\n",
      "2025-09-01 12:50:40,739 [INFO] Image shape (5032, 5032)\n",
      "INFO:spotiflow.model.spotiflow:Predicting with (3, 3) tiles\n",
      "2025-09-01 12:50:40,739 [INFO] Predicting with (3, 3) tiles\n",
      "INFO:spotiflow.model.spotiflow:Normalizing...\n",
      "2025-09-01 12:50:40,774 [INFO] Normalizing...\n",
      "INFO:spotiflow.model.spotiflow:Padding to shape (5040, 5040, 1)\n",
      "2025-09-01 12:50:41,000 [INFO] Padding to shape (5040, 5040, 1)\n"
     ]
    },
    {
     "name": "stderr",
     "output_type": "stream",
     "text": [
      "Predicting tiles: 100%|██████████| 9/9 [00:03<00:00,  3.00it/s]"
     ]
    },
    {
     "name": "stdout",
     "output_type": "stream",
     "text": [
      "INFO:spotiflow.model.spotiflow:Found 3341 spots\n",
      "2025-09-01 12:50:44,042 [INFO] Found 3341 spots\n"
     ]
    },
    {
     "name": "stderr",
     "output_type": "stream",
     "text": [
      "\n"
     ]
    },
    {
     "data": {
      "text/plain": [
       "<Points layer 'points' at 0x1c7e204dbd0>"
      ]
     },
     "execution_count": 32,
     "metadata": {},
     "output_type": "execute_result"
    }
   ],
   "source": [
    "points, details = spotiflow_model.predict(img[0], subpix=True)\n",
    "viewer.add_image(details.heatmap, colormap=\"viridis\")\n",
    "viewer.add_points(points, face_color='red')"
   ]
  },
  {
   "cell_type": "code",
   "execution_count": 37,
   "id": "432256ff",
   "metadata": {},
   "outputs": [],
   "source": [
    "#TODO: Bacterial detection, infection rate calculation\n",
    "\n",
    "# Voronoi otsu labeling is very affected by outliers, train APOC object segmenter for best results\n",
    "# Setup classifer and where it should be saved\n",
    "cl_filename = \"./raw_data/SD_DAPI_Mtb_detection_training/Mtb_segmenter.cl\"\n",
    "mtb_segmenter = apoc.ObjectSegmenter(opencl_filename=cl_filename)\n",
    "\n",
    "mtb_labels = mtb_segmenter.predict(img[3])\n",
    "mtb_labels = cle.pull(mtb_labels)"
   ]
  },
  {
   "cell_type": "code",
   "execution_count": 38,
   "id": "e9f9da1c",
   "metadata": {},
   "outputs": [
    {
     "data": {
      "text/plain": [
       "<Labels layer 'mtb_labels [1]' at 0x1c88af308b0>"
      ]
     },
     "execution_count": 38,
     "metadata": {},
     "output_type": "execute_result"
    }
   ],
   "source": [
    "viewer.add_labels(mtb_labels)"
   ]
  },
  {
   "cell_type": "code",
   "execution_count": null,
   "id": "6f2ad8c1",
   "metadata": {},
   "outputs": [],
   "source": [
    "# Convert mtb_labels to boolean mask\n",
    "mtb_boolean = mtb_labels.astype(bool)\n",
    "\n",
    "# Find cytoplasm labels that intersect with the mtb signal\n",
    "# This will only be necessary if we decide to perform an erosion operation later to get rid of partially touching bacteria in the edge of cells\n",
    "cytoplasm_and_mtb = cytoplasm_labels & mtb_boolean"
   ]
  },
  {
   "cell_type": "code",
   "execution_count": 40,
   "id": "e746139c",
   "metadata": {},
   "outputs": [
    {
     "data": {
      "text/plain": [
       "<Image layer 'cytoplasm_and_mtb' at 0x1c814e25e40>"
      ]
     },
     "execution_count": 40,
     "metadata": {},
     "output_type": "execute_result"
    }
   ],
   "source": [
    "viewer.add_image(mtb_boolean)\n",
    "viewer.add_image(cytoplasm_and_mtb)"
   ]
  },
  {
   "cell_type": "code",
   "execution_count": 43,
   "id": "9c1622fd",
   "metadata": {},
   "outputs": [],
   "source": [
    "# Use NumPy's indexing to identify labels that intersect with mtb_boolean (bacterial mask)\n",
    "infected_labels = np.unique(cytoplasm_labels[mtb_boolean])\n",
    "infected_labels = infected_labels[infected_labels != 0]"
   ]
  },
  {
   "cell_type": "code",
   "execution_count": 44,
   "id": "d4b0a9d4",
   "metadata": {},
   "outputs": [
    {
     "data": {
      "text/plain": [
       "array([   3,    6,   10,   17,   23,   25,   27,   31,   34,   35,   41,\n",
       "         43,   44,   45,   56,   62,   64,   67,   81,   83,   92,   93,\n",
       "         97,  100,  109,  110,  114,  120,  121,  123,  126,  130,  132,\n",
       "        135,  136,  140,  148,  151,  152,  156,  165,  174,  180,  182,\n",
       "        183,  190,  192,  198,  203,  204,  205,  208,  215,  218,  223,\n",
       "        225,  227,  231,  235,  237,  251,  256,  262,  268,  287,  289,\n",
       "        291,  292,  300,  306,  313,  317,  322,  324,  336,  344,  347,\n",
       "        350,  371,  379,  381,  383,  385,  386,  395,  396,  398,  402,\n",
       "        409,  413,  419,  422,  425,  437,  438,  447,  448,  450,  455,\n",
       "        458,  460,  461,  462,  464,  465,  466,  468,  480,  482,  487,\n",
       "        490,  504,  507,  509,  512,  513,  516,  517,  518,  524,  538,\n",
       "        540,  541,  545,  547,  553,  554,  560,  563,  572,  573,  577,\n",
       "        581,  586,  596,  598,  609,  621,  623,  630,  631,  654,  670,\n",
       "        681,  684,  686,  687,  692,  702,  704,  705,  710,  711,  712,\n",
       "        714,  719,  722,  730,  735,  737,  738,  740,  741,  743,  745,\n",
       "        747,  756,  758,  760,  763,  771,  773,  775,  778,  779,  780,\n",
       "        783,  786,  787,  788,  791,  793,  800,  802,  804,  808,  811,\n",
       "        819,  824,  827,  829,  830,  833,  839,  846,  847,  849,  851,\n",
       "        852,  853,  857,  860,  864,  870,  887,  898,  901,  907,  910,\n",
       "        916,  920,  925,  929,  930,  934,  937,  939,  940,  946,  947,\n",
       "        948,  949,  950,  952,  966,  967,  971,  976,  978,  981,  984,\n",
       "        990,  991,  996,  997,  999, 1002, 1008, 1010, 1014, 1018, 1022,\n",
       "       1027, 1036, 1040, 1062, 1063, 1065, 1073, 1079, 1083, 1086, 1092,\n",
       "       1094, 1095, 1100, 1108, 1125, 1130, 1131, 1134, 1135, 1136, 1138,\n",
       "       1144, 1154, 1155, 1157, 1166, 1168, 1173, 1174, 1175, 1176, 1178,\n",
       "       1179, 1183, 1189, 1190, 1205, 1207, 1227, 1233, 1239, 1240, 1246,\n",
       "       1251, 1253, 1254, 1259, 1262, 1270, 1292, 1295, 1297, 1307, 1312,\n",
       "       1315, 1317, 1319, 1320, 1322, 1332, 1337, 1340, 1341, 1342, 1348,\n",
       "       1350, 1360, 1361, 1362, 1363, 1367, 1368, 1376, 1377, 1386, 1389,\n",
       "       1391, 1393, 1398, 1402, 1407, 1408, 1409, 1414, 1416, 1418, 1429,\n",
       "       1439, 1441, 1443, 1444, 1453, 1454, 1456, 1459, 1462, 1467, 1476,\n",
       "       1477, 1478, 1481, 1483, 1488, 1491, 1492, 1498, 1499, 1506, 1507,\n",
       "       1510, 1512, 1515, 1517, 1520, 1528, 1529, 1530, 1531, 1541, 1544,\n",
       "       1554, 1555, 1559, 1566, 1568, 1569, 1570, 1572, 1577, 1590, 1591,\n",
       "       1597, 1601, 1602, 1603, 1604, 1609, 1611, 1615, 1622, 1624, 1630,\n",
       "       1634, 1636, 1640, 1641, 1643, 1647, 1648, 1649, 1651, 1652, 1655,\n",
       "       1659, 1663, 1670, 1674, 1676, 1679, 1680, 1687, 1690, 1691, 1694,\n",
       "       1696, 1700, 1701, 1705, 1709, 1718, 1722, 1724, 1725, 1728, 1729,\n",
       "       1730, 1743, 1745, 1747, 1753, 1755, 1756, 1757, 1758, 1759, 1761,\n",
       "       1762, 1765, 1767, 1777, 1778, 1783, 1786, 1788, 1789, 1792, 1794,\n",
       "       1795, 1799, 1812, 1815, 1816, 1818, 1822, 1831, 1833, 1834, 1837,\n",
       "       1838, 1849, 1852, 1864, 1867, 1868, 1873, 1874, 1877, 1878, 1883,\n",
       "       1884, 1885, 1886, 1888, 1893, 1897, 1900, 1902, 1903, 1908, 1910,\n",
       "       1911, 1912, 1924, 1928, 1929, 1934, 1935, 1937, 1938, 1939, 1940,\n",
       "       1944, 1948, 1949, 1953, 1954, 1960, 1966, 1970, 1974, 1977, 1982,\n",
       "       1999, 2003, 2010, 2013, 2015, 2019, 2020, 2021, 2022, 2025, 2029,\n",
       "       2030, 2031, 2032, 2052, 2054, 2056, 2057, 2060, 2061, 2064, 2065,\n",
       "       2069, 2070, 2071, 2073, 2074, 2077, 2078, 2082, 2085, 2086, 2088,\n",
       "       2089, 2092, 2093, 2094, 2095, 2096, 2097, 2098, 2100, 2104, 2114,\n",
       "       2115, 2120, 2121, 2122, 2125, 2126, 2129, 2131, 2133, 2135, 2136,\n",
       "       2139, 2141, 2144, 2152, 2155, 2157, 2166, 2170, 2173, 2181, 2183,\n",
       "       2184, 2186, 2191, 2192, 2199, 2202, 2206, 2208, 2215, 2218, 2220,\n",
       "       2225, 2228, 2230, 2234, 2235, 2236, 2237, 2238, 2242, 2244, 2249,\n",
       "       2254, 2255, 2258, 2261, 2263, 2266, 2268, 2271, 2272, 2277, 2279,\n",
       "       2288, 2289, 2290, 2299, 2300, 2301, 2303, 2306, 2308, 2312, 2313,\n",
       "       2315, 2316, 2317, 2318, 2331, 2336, 2337, 2339, 2343, 2347, 2348,\n",
       "       2349, 2351, 2356, 2359, 2361, 2364, 2366, 2367, 2368, 2373, 2375,\n",
       "       2377, 2383, 2389, 2390, 2394, 2400, 2402, 2404, 2409, 2410, 2411,\n",
       "       2412, 2413, 2414, 2416, 2417, 2419, 2421, 2430, 2437, 2438, 2442,\n",
       "       2445, 2447, 2450, 2452, 2453, 2454, 2458, 2460, 2461, 2478, 2482,\n",
       "       2497, 2499, 2501, 2502, 2509, 2513, 2518, 2519, 2521, 2526, 2528,\n",
       "       2533, 2534, 2536, 2538, 2539, 2540, 2542, 2546, 2555, 2556, 2558,\n",
       "       2564, 2565, 2566, 2567, 2576, 2578, 2580, 2583, 2587, 2590, 2592,\n",
       "       2595, 2599, 2600, 2606, 2608, 2612, 2624, 2633, 2636, 2642, 2647,\n",
       "       2648, 2654, 2655, 2657, 2662, 2663, 2667, 2672, 2673, 2677, 2680,\n",
       "       2681, 2684, 2692, 2693, 2695, 2697, 2698, 2705, 2706, 2707, 2708,\n",
       "       2711, 2720, 2728, 2732, 2734, 2737, 2741, 2744, 2745, 2752, 2755,\n",
       "       2765, 2770, 2773, 2776, 2779, 2782, 2784, 2788, 2792, 2793, 2794,\n",
       "       2797, 2799, 2807, 2810, 2819, 2828, 2830, 2831, 2832, 2835, 2836,\n",
       "       2840, 2841, 2842, 2848, 2852, 2859, 2861, 2864, 2869, 2870, 2877,\n",
       "       2879, 2882, 2884, 2885, 2886, 2887, 2889, 2890, 2897, 2898, 2904,\n",
       "       2905, 2914, 2917, 2918, 2920, 2923, 2924, 2927, 2928, 2930, 2938,\n",
       "       2945, 2950, 2954, 2960, 2963, 2967, 2968, 2975, 2984, 2988, 2989,\n",
       "       2997, 2998, 3001, 3005, 3006, 3015, 3018, 3025, 3026, 3029, 3030],\n",
       "      dtype=uint16)"
      ]
     },
     "execution_count": 44,
     "metadata": {},
     "output_type": "execute_result"
    }
   ],
   "source": [
    "infected_labels"
   ]
  },
  {
   "cell_type": "code",
   "execution_count": 48,
   "id": "ee04ddf6",
   "metadata": {},
   "outputs": [],
   "source": [
    "infected_mask = np.isin(cytoplasm_labels, infected_labels)\n",
    "non_infected_mask = np.isin(cytoplasm_labels, infected_labels, invert=True)\n",
    "infected_cytoplasm = np.where(infected_mask, cytoplasm_labels, 0).astype(cytoplasm_labels.dtype)\n",
    "non_infected_cytoplasm = np.where(non_infected_mask, cytoplasm_labels, 0).astype(cytoplasm_labels.dtype)"
   ]
  },
  {
   "cell_type": "code",
   "execution_count": 49,
   "id": "4c1cdaa6",
   "metadata": {},
   "outputs": [
    {
     "data": {
      "text/plain": [
       "<Labels layer 'non_infected_cytoplasm' at 0x1c7f71fba30>"
      ]
     },
     "execution_count": 49,
     "metadata": {},
     "output_type": "execute_result"
    }
   ],
   "source": [
    "viewer.add_labels(infected_mask)\n",
    "viewer.add_labels(infected_cytoplasm)\n",
    "viewer.add_labels(non_infected_cytoplasm)"
   ]
  },
  {
   "cell_type": "code",
   "execution_count": 71,
   "id": "b32958d1",
   "metadata": {},
   "outputs": [],
   "source": [
    "infected_cells = len(np.unique(infected_cytoplasm)) - (0 in infected_cytoplasm)\n",
    "non_infected_cells = len(np.unique(non_infected_cytoplasm)) - (0 in non_infected_cytoplasm)\n",
    "total_cells = cytoplasm_labels.max()\n"
   ]
  },
  {
   "cell_type": "code",
   "execution_count": 72,
   "id": "ab19a883",
   "metadata": {},
   "outputs": [
    {
     "name": "stdout",
     "output_type": "stream",
     "text": [
      "Non-infected: 2217\n",
      "Infected: 814\n",
      "Total cells: 3031\n"
     ]
    }
   ],
   "source": [
    "print(f\"Non-infected: {non_infected_cells}\")\n",
    "print(f\"Infected: {infected_cells}\")\n",
    "print(f\"Total cells: {total_cells}\")"
   ]
  },
  {
   "cell_type": "code",
   "execution_count": 73,
   "id": "82340d19",
   "metadata": {},
   "outputs": [
    {
     "name": "stdout",
     "output_type": "stream",
     "text": [
      "26.86\n"
     ]
    }
   ],
   "source": [
    "# Calculate percentage of infected cells\n",
    "perc_inf_cells = round(infected_cells / total_cells * 100, 2) if total_cells > 0 else 0\n",
    "print(perc_inf_cells)"
   ]
  }
 ],
 "metadata": {
  "kernelspec": {
   "display_name": "hcs_cellpose",
   "language": "python",
   "name": "python3"
  },
  "language_info": {
   "codemirror_mode": {
    "name": "ipython",
    "version": 3
   },
   "file_extension": ".py",
   "mimetype": "text/x-python",
   "name": "python",
   "nbconvert_exporter": "python",
   "pygments_lexer": "ipython3",
   "version": "3.10.18"
  }
 },
 "nbformat": 4,
 "nbformat_minor": 5
}
