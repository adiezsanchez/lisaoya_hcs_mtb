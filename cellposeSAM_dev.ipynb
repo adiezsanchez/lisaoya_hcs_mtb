{
 "cells": [
  {
   "cell_type": "code",
   "execution_count": 1,
   "id": "2d6f2848",
   "metadata": {},
   "outputs": [
    {
     "name": "stdout",
     "output_type": "stream",
     "text": [
      "\n",
      "\n",
      "Welcome to CellposeSAM, cellpose v\n",
      "cellpose version: \t4.0.6 \n",
      "platform:       \twin32 \n",
      "python version: \t3.10.18 \n",
      "torch version:  \t2.5.0! The neural network component of\n",
      "CPSAM is much larger than in previous versions and CPU excution is slow. \n",
      "We encourage users to use GPU/MPS if available. \n",
      "\n",
      "\n",
      "2025-08-25 14:26:13,980 [INFO] WRITING LOG OUTPUT TO C:\\Users\\adiez_cmic\\.cellpose\\run.log\n",
      "2025-08-25 14:26:13,980 [INFO] \n",
      "cellpose version: \t4.0.6 \n",
      "platform:       \twin32 \n",
      "python version: \t3.10.18 \n",
      "torch version:  \t2.5.0\n",
      "2025-08-25 14:26:14,113 [INFO] ** TORCH CUDA version installed and working. **\n",
      "2025-08-25 14:26:14,113 [INFO] ** TORCH CUDA version installed and working. **\n",
      "2025-08-25 14:26:14,113 [INFO] >>>> using GPU (CUDA)\n",
      "2025-08-25 14:26:14,991 [INFO] >>>> loading model C:\\Users\\adiez_cmic\\.cellpose\\models\\cpsam\n"
     ]
    }
   ],
   "source": [
    "import numpy as np\n",
    "from cellpose import models, core, io, plot\n",
    "from pathlib import Path\n",
    "from tqdm import trange\n",
    "import matplotlib.pyplot as plt\n",
    "\n",
    "io.logger_setup() # run this to get printing of progress\n",
    "\n",
    "#Check if colab notebook instance has GPU access\n",
    "if core.use_gpu()==False:\n",
    "  raise ImportError(\"No GPU access, change your runtime\")\n",
    "\n",
    "model = models.CellposeModel(gpu=True)"
   ]
  },
  {
   "cell_type": "code",
   "execution_count": 2,
   "id": "42421f23",
   "metadata": {},
   "outputs": [],
   "source": [
    "from pathlib import Path\n",
    "import napari\n",
    "from utils import list_images, read_image"
   ]
  },
  {
   "cell_type": "code",
   "execution_count": 3,
   "id": "777aa243",
   "metadata": {},
   "outputs": [
    {
     "data": {
      "text/plain": [
       "['raw_data\\\\test_data_2\\\\Plate01_Nuc_Wells-A1__Channel_SD_AF647,SD_RFP,SD_GFP,SD_DAPI,SD_BF,SD_NIR.nd2',\n",
       " 'raw_data\\\\test_data_2\\\\Plate01_Nuc_Wells-A2__Channel_SD_AF647,SD_RFP,SD_GFP,SD_DAPI,SD_BF,SD_NIR.nd2',\n",
       " 'raw_data\\\\test_data_2\\\\Plate01_Nuc_Wells-A3__Channel_SD_AF647,SD_RFP,SD_GFP,SD_DAPI,SD_BF,SD_NIR.nd2',\n",
       " 'raw_data\\\\test_data_2\\\\Plate01_Nuc_Wells-A4__Channel_SD_AF647,SD_RFP,SD_GFP,SD_DAPI,SD_BF,SD_NIR.nd2']"
      ]
     },
     "execution_count": 3,
     "metadata": {},
     "output_type": "execute_result"
    }
   ],
   "source": [
    "# Copy the path where your images are stored, you can use absolute or relative paths to point at other disk locations\n",
    "directory_path = Path(\"./raw_data/test_data_2\")\n",
    "\n",
    "# Iterate through the .czi and .nd2 files in the directory\n",
    "images = list_images(directory_path)\n",
    "\n",
    "images"
   ]
  },
  {
   "cell_type": "code",
   "execution_count": 4,
   "id": "72b15d1c",
   "metadata": {},
   "outputs": [
    {
     "name": "stdout",
     "output_type": "stream",
     "text": [
      "\n",
      "\n",
      "Image analyzed: Plate01_Nuc_Wells-A2__Channel_SD_AF647,SD_RFP,SD_GFP,SD_DAPI,SD_BF,SD_NIR\n",
      "Original Array shape: (6, 5032, 5032)\n",
      "Compressed Array shape: (6, 5032, 5032)\n"
     ]
    }
   ],
   "source": [
    "# Explore a different image to crop (0 defines the first image in the directory)\n",
    "image = images[1]\n",
    "\n",
    "# Image size reduction (downsampling) to improve processing times (slicing, not lossless compression)\n",
    "slicing_factor_xy = None # Use 2 or 4 for downsampling in xy (None for lossless)\n",
    "\n",
    "# Read image, apply slicing if needed and return filename and img as a np array\n",
    "img, filename = read_image(image, slicing_factor_xy)"
   ]
  },
  {
   "cell_type": "code",
   "execution_count": 5,
   "id": "b5f38b8c",
   "metadata": {},
   "outputs": [
    {
     "data": {
      "text/plain": [
       "<Image layer 'img' at 0x1aa385024a0>"
      ]
     },
     "execution_count": 5,
     "metadata": {},
     "output_type": "execute_result"
    }
   ],
   "source": [
    "viewer = napari.Viewer(ndisplay=2)\n",
    "viewer.add_image(img)"
   ]
  },
  {
   "cell_type": "code",
   "execution_count": 6,
   "id": "7ee5073c",
   "metadata": {},
   "outputs": [
    {
     "data": {
      "text/plain": [
       "<Labels layer 'nuclei_labels' at 0x1ab11800e50>"
      ]
     },
     "execution_count": 6,
     "metadata": {},
     "output_type": "execute_result"
    }
   ],
   "source": [
    "nuclei_labels, flows, styles = model.eval(img[-1:], niter=1000) # need to check the arguments\n",
    "viewer.add_labels(nuclei_labels)"
   ]
  },
  {
   "cell_type": "code",
   "execution_count": 7,
   "id": "fd59e193",
   "metadata": {},
   "outputs": [
    {
     "data": {
      "text/plain": [
       "<Labels layer 'cytoplasm_labels' at 0x1aa384bccd0>"
      ]
     },
     "execution_count": 7,
     "metadata": {},
     "output_type": "execute_result"
    }
   ],
   "source": [
    "cytoplasm_labels, flows, styles = model.eval(np.stack((img[[0,1]].sum(axis=0), img[4]), axis=0), niter=1000) # need to check the arguments\n",
    "viewer.add_labels(cytoplasm_labels)"
   ]
  },
  {
   "cell_type": "code",
   "execution_count": 8,
   "id": "1ee594b4",
   "metadata": {},
   "outputs": [
    {
     "name": "stderr",
     "output_type": "stream",
     "text": [
      "c:\\Users\\adiez_cmic\\miniforge3\\envs\\hcs_cellpose\\lib\\site-packages\\tqdm\\auto.py:21: TqdmWarning: IProgress not found. Please update jupyter and ipywidgets. See https://ipywidgets.readthedocs.io/en/stable/user_install.html\n",
      "  from .autonotebook import tqdm as notebook_tqdm\n"
     ]
    }
   ],
   "source": [
    "from spotiflow.model import Spotiflow"
   ]
  },
  {
   "cell_type": "code",
   "execution_count": 9,
   "id": "09dbe046",
   "metadata": {},
   "outputs": [
    {
     "name": "stdout",
     "output_type": "stream",
     "text": [
      "INFO:spotiflow.model.spotiflow:Loading pretrained model: general\n",
      "2025-08-25 14:40:35,796 [INFO] Loading pretrained model: general\n"
     ]
    }
   ],
   "source": [
    "spotiflow_model = Spotiflow.from_pretrained(\"general\")"
   ]
  },
  {
   "cell_type": "code",
   "execution_count": null,
   "id": "233be1af",
   "metadata": {},
   "outputs": [
    {
     "name": "stdout",
     "output_type": "stream",
     "text": [
      "INFO:spotiflow.model.spotiflow:Will use device: cuda:0\n",
      "2025-08-25 14:41:21,543 [INFO] Will use device: cuda:0\n",
      "INFO:spotiflow.model.spotiflow:Predicting with prob_thresh = [0.6], min_distance = 1\n",
      "2025-08-25 14:41:21,543 [INFO] Predicting with prob_thresh = [0.6], min_distance = 1\n",
      "INFO:spotiflow.model.spotiflow:Peak detection mode: fast\n",
      "2025-08-25 14:41:21,545 [INFO] Peak detection mode: fast\n",
      "INFO:spotiflow.model.spotiflow:Image shape (5032, 5032)\n",
      "2025-08-25 14:41:21,545 [INFO] Image shape (5032, 5032)\n",
      "INFO:spotiflow.model.spotiflow:Predicting with (3, 3) tiles\n",
      "2025-08-25 14:41:21,547 [INFO] Predicting with (3, 3) tiles\n",
      "INFO:spotiflow.model.spotiflow:Normalizing...\n",
      "2025-08-25 14:41:21,588 [INFO] Normalizing...\n",
      "INFO:spotiflow.model.spotiflow:Padding to shape (5040, 5040, 1)\n",
      "2025-08-25 14:41:21,822 [INFO] Padding to shape (5040, 5040, 1)\n"
     ]
    },
    {
     "name": "stderr",
     "output_type": "stream",
     "text": [
      "Predicting tiles: 100%|██████████| 9/9 [00:03<00:00,  2.85it/s]"
     ]
    },
    {
     "name": "stdout",
     "output_type": "stream",
     "text": [
      "INFO:spotiflow.model.spotiflow:Found 3341 spots\n",
      "2025-08-25 14:41:25,021 [INFO] Found 3341 spots\n"
     ]
    },
    {
     "name": "stderr",
     "output_type": "stream",
     "text": [
      "\n"
     ]
    },
    {
     "data": {
      "text/plain": [
       "<Image layer 'Image' at 0x1ab4bd2d360>"
      ]
     },
     "execution_count": 10,
     "metadata": {},
     "output_type": "execute_result"
    }
   ],
   "source": [
    "points, details = spotiflow_model.predict(img[0], subpix=True)\n",
    "viewer.add_image(details.heatmap, colormap=\"viridis\")\n",
    "viewer.add_points(points, face_color='red')"
   ]
  }
 ],
 "metadata": {
  "kernelspec": {
   "display_name": "hcs_cellpose",
   "language": "python",
   "name": "python3"
  },
  "language_info": {
   "codemirror_mode": {
    "name": "ipython",
    "version": 3
   },
   "file_extension": ".py",
   "mimetype": "text/x-python",
   "name": "python",
   "nbconvert_exporter": "python",
   "pygments_lexer": "ipython3",
   "version": "3.10.18"
  }
 },
 "nbformat": 4,
 "nbformat_minor": 5
}
