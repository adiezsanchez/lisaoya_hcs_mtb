{
 "cells": [
  {
   "cell_type": "code",
   "execution_count": 1,
   "id": "b5d15446",
   "metadata": {},
   "outputs": [],
   "source": [
    "import apoc\n",
    "import napari\n",
    "from pathlib import Path\n",
    "from utils import list_images, read_image"
   ]
  },
  {
   "cell_type": "code",
   "execution_count": 2,
   "id": "f878d409",
   "metadata": {},
   "outputs": [],
   "source": [
    "image_folder = \"./train_data/no_nuclei_signal/siMtb screen I_LØ/SD_DAPI_Mtb_detection_training/images\"\n",
    "annotation_folder = \"./train_data/no_nuclei_signal/siMtb screen I_LØ/SD_DAPI_Mtb_detection_training/annotations\""
   ]
  },
  {
   "cell_type": "code",
   "execution_count": 3,
   "id": "e29cd907",
   "metadata": {},
   "outputs": [],
   "source": [
    "# Setup classifer and where it should be saved\n",
    "cl_filename = \"./pretrained_classifiers/no_nuclei_signal/siMtb screen I_LØ/Mtb_segmenter.cl\"\n",
    "apoc.erase_classifier(cl_filename)\n",
    "segmenter = apoc.ObjectSegmenter(opencl_filename=cl_filename)\n",
    "\n",
    "# Setup feature set used for training\n",
    "features = apoc.PredefinedFeatureSet.object_size_1_to_5_px.value #TODO: Check\n",
    "\n",
    "# Train classifier on folders\n",
    "apoc.train_classifier_from_image_folders(\n",
    "    segmenter, \n",
    "    features, \n",
    "    image = image_folder, # Grayscale processed images, no RGB\n",
    "    ground_truth = annotation_folder)"
   ]
  },
  {
   "cell_type": "code",
   "execution_count": 4,
   "id": "f58d856f",
   "metadata": {},
   "outputs": [],
   "source": [
    "# Load the trained segmenter\n",
    "viewer = napari.Viewer(ndisplay=2)\n",
    "segmenter = apoc.ObjectSegmenter(opencl_filename=cl_filename)"
   ]
  },
  {
   "cell_type": "code",
   "execution_count": 5,
   "id": "06890cd6",
   "metadata": {},
   "outputs": [
    {
     "data": {
      "text/plain": [
       "['X:\\\\Lisa\\\\siMtb screen I_LØ\\\\Plate 01_Nuc\\\\Plate01_Nuc_Wells-A1__Channel_SD_AF647,SD_RFP,SD_GFP,SD_DAPI,SD_BF,SD_NIR.nd2',\n",
       " 'X:\\\\Lisa\\\\siMtb screen I_LØ\\\\Plate 01_Nuc\\\\Plate01_Nuc_Wells-A2__Channel_SD_AF647,SD_RFP,SD_GFP,SD_DAPI,SD_BF,SD_NIR.nd2',\n",
       " 'X:\\\\Lisa\\\\siMtb screen I_LØ\\\\Plate 01_Nuc\\\\Plate01_Nuc_Wells-A3__Channel_SD_AF647,SD_RFP,SD_GFP,SD_DAPI,SD_BF,SD_NIR.nd2',\n",
       " 'X:\\\\Lisa\\\\siMtb screen I_LØ\\\\Plate 01_Nuc\\\\Plate01_Nuc_Wells-A4__Channel_SD_AF647,SD_RFP,SD_GFP,SD_DAPI,SD_BF,SD_NIR.nd2',\n",
       " 'X:\\\\Lisa\\\\siMtb screen I_LØ\\\\Plate 01_Nuc\\\\Plate01_Nuc_Wells-A5__Channel_SD_AF647,SD_RFP,SD_GFP,SD_DAPI,SD_BF,SD_NIR.nd2',\n",
       " 'X:\\\\Lisa\\\\siMtb screen I_LØ\\\\Plate 01_Nuc\\\\Plate01_Nuc_Wells-A6__Channel_SD_AF647,SD_RFP,SD_GFP,SD_DAPI,SD_BF,SD_NIR.nd2',\n",
       " 'X:\\\\Lisa\\\\siMtb screen I_LØ\\\\Plate 01_Nuc\\\\Plate01_Nuc_Wells-A7__Channel_SD_AF647,SD_RFP,SD_GFP,SD_DAPI,SD_BF,SD_NIR.nd2',\n",
       " 'X:\\\\Lisa\\\\siMtb screen I_LØ\\\\Plate 01_Nuc\\\\Plate01_Nuc_Wells-A8__Channel_SD_AF647,SD_RFP,SD_GFP,SD_DAPI,SD_BF,SD_NIR.nd2',\n",
       " 'X:\\\\Lisa\\\\siMtb screen I_LØ\\\\Plate 01_Nuc\\\\Plate01_Nuc_Wells-A9__Channel_SD_AF647,SD_RFP,SD_GFP,SD_DAPI,SD_BF,SD_NIR.nd2',\n",
       " 'X:\\\\Lisa\\\\siMtb screen I_LØ\\\\Plate 01_Nuc\\\\Plate01_Nuc_Wells-A10__Channel_SD_AF647,SD_RFP,SD_GFP,SD_DAPI,SD_BF,SD_NIR.nd2',\n",
       " 'X:\\\\Lisa\\\\siMtb screen I_LØ\\\\Plate 01_Nuc\\\\Plate01_Nuc_Wells-A11__Channel_SD_AF647,SD_RFP,SD_GFP,SD_DAPI,SD_BF,SD_NIR.nd2',\n",
       " 'X:\\\\Lisa\\\\siMtb screen I_LØ\\\\Plate 01_Nuc\\\\Plate01_Nuc_Wells-A12__Channel_SD_AF647,SD_RFP,SD_GFP,SD_DAPI,SD_BF,SD_NIR.nd2',\n",
       " 'X:\\\\Lisa\\\\siMtb screen I_LØ\\\\Plate 01_Nuc\\\\Plate01_Nuc_Wells-B1__Channel_SD_AF647,SD_RFP,SD_GFP,SD_DAPI,SD_BF,SD_NIR.nd2',\n",
       " 'X:\\\\Lisa\\\\siMtb screen I_LØ\\\\Plate 01_Nuc\\\\Plate01_Nuc_Wells-B2__Channel_SD_AF647,SD_RFP,SD_GFP,SD_DAPI,SD_BF,SD_NIR.nd2',\n",
       " 'X:\\\\Lisa\\\\siMtb screen I_LØ\\\\Plate 01_Nuc\\\\Plate01_Nuc_Wells-B3__Channel_SD_AF647,SD_RFP,SD_GFP,SD_DAPI,SD_BF,SD_NIR.nd2',\n",
       " 'X:\\\\Lisa\\\\siMtb screen I_LØ\\\\Plate 01_Nuc\\\\Plate01_Nuc_Wells-B4__Channel_SD_AF647,SD_RFP,SD_GFP,SD_DAPI,SD_BF,SD_NIR.nd2',\n",
       " 'X:\\\\Lisa\\\\siMtb screen I_LØ\\\\Plate 01_Nuc\\\\Plate01_Nuc_Wells-B5__Channel_SD_AF647,SD_RFP,SD_GFP,SD_DAPI,SD_BF,SD_NIR.nd2',\n",
       " 'X:\\\\Lisa\\\\siMtb screen I_LØ\\\\Plate 01_Nuc\\\\Plate01_Nuc_Wells-B6__Channel_SD_AF647,SD_RFP,SD_GFP,SD_DAPI,SD_BF,SD_NIR.nd2',\n",
       " 'X:\\\\Lisa\\\\siMtb screen I_LØ\\\\Plate 01_Nuc\\\\Plate01_Nuc_Wells-B7__Channel_SD_AF647,SD_RFP,SD_GFP,SD_DAPI,SD_BF,SD_NIR.nd2',\n",
       " 'X:\\\\Lisa\\\\siMtb screen I_LØ\\\\Plate 01_Nuc\\\\Plate01_Nuc_Wells-B8__Channel_SD_AF647,SD_RFP,SD_GFP,SD_DAPI,SD_BF,SD_NIR.nd2',\n",
       " 'X:\\\\Lisa\\\\siMtb screen I_LØ\\\\Plate 01_Nuc\\\\Plate01_Nuc_Wells-B9__Channel_SD_AF647,SD_RFP,SD_GFP,SD_DAPI,SD_BF,SD_NIR.nd2',\n",
       " 'X:\\\\Lisa\\\\siMtb screen I_LØ\\\\Plate 01_Nuc\\\\Plate01_Nuc_Wells-B10__Channel_SD_AF647,SD_RFP,SD_GFP,SD_DAPI,SD_BF,SD_NIR.nd2',\n",
       " 'X:\\\\Lisa\\\\siMtb screen I_LØ\\\\Plate 01_Nuc\\\\Plate01_Nuc_Wells-B11__Channel_SD_AF647,SD_RFP,SD_GFP,SD_DAPI,SD_BF,SD_NIR.nd2',\n",
       " 'X:\\\\Lisa\\\\siMtb screen I_LØ\\\\Plate 01_Nuc\\\\Plate01_Nuc_Wells-B12__Channel_SD_AF647,SD_RFP,SD_GFP,SD_DAPI,SD_BF,SD_NIR.nd2',\n",
       " 'X:\\\\Lisa\\\\siMtb screen I_LØ\\\\Plate 01_Nuc\\\\Plate01_Nuc_Wells-C1__Channel_SD_AF647,SD_RFP,SD_GFP,SD_DAPI,SD_BF,SD_NIR.nd2',\n",
       " 'X:\\\\Lisa\\\\siMtb screen I_LØ\\\\Plate 01_Nuc\\\\Plate01_Nuc_Wells-C2__Channel_SD_AF647,SD_RFP,SD_GFP,SD_DAPI,SD_BF,SD_NIR.nd2',\n",
       " 'X:\\\\Lisa\\\\siMtb screen I_LØ\\\\Plate 01_Nuc\\\\Plate01_Nuc_Wells-C3__Channel_SD_AF647,SD_RFP,SD_GFP,SD_DAPI,SD_BF,SD_NIR.nd2',\n",
       " 'X:\\\\Lisa\\\\siMtb screen I_LØ\\\\Plate 01_Nuc\\\\Plate01_Nuc_Wells-C4__Channel_SD_AF647,SD_RFP,SD_GFP,SD_DAPI,SD_BF,SD_NIR.nd2',\n",
       " 'X:\\\\Lisa\\\\siMtb screen I_LØ\\\\Plate 01_Nuc\\\\Plate01_Nuc_Wells-C5__Channel_SD_AF647,SD_RFP,SD_GFP,SD_DAPI,SD_BF,SD_NIR.nd2',\n",
       " 'X:\\\\Lisa\\\\siMtb screen I_LØ\\\\Plate 01_Nuc\\\\Plate01_Nuc_Wells-C6__Channel_SD_AF647,SD_RFP,SD_GFP,SD_DAPI,SD_BF,SD_NIR.nd2',\n",
       " 'X:\\\\Lisa\\\\siMtb screen I_LØ\\\\Plate 01_Nuc\\\\Plate01_Nuc_Wells-C7__Channel_SD_AF647,SD_RFP,SD_GFP,SD_DAPI,SD_BF,SD_NIR.nd2',\n",
       " 'X:\\\\Lisa\\\\siMtb screen I_LØ\\\\Plate 01_Nuc\\\\Plate01_Nuc_Wells-C8__Channel_SD_AF647,SD_RFP,SD_GFP,SD_DAPI,SD_BF,SD_NIR.nd2',\n",
       " 'X:\\\\Lisa\\\\siMtb screen I_LØ\\\\Plate 01_Nuc\\\\Plate01_Nuc_Wells-C9__Channel_SD_AF647,SD_RFP,SD_GFP,SD_DAPI,SD_BF,SD_NIR.nd2',\n",
       " 'X:\\\\Lisa\\\\siMtb screen I_LØ\\\\Plate 01_Nuc\\\\Plate01_Nuc_Wells-C10__Channel_SD_AF647,SD_RFP,SD_GFP,SD_DAPI,SD_BF,SD_NIR.nd2',\n",
       " 'X:\\\\Lisa\\\\siMtb screen I_LØ\\\\Plate 01_Nuc\\\\Plate01_Nuc_Wells-C11__Channel_SD_AF647,SD_RFP,SD_GFP,SD_DAPI,SD_BF,SD_NIR.nd2',\n",
       " 'X:\\\\Lisa\\\\siMtb screen I_LØ\\\\Plate 01_Nuc\\\\Plate01_Nuc_Wells-C12__Channel_SD_AF647,SD_RFP,SD_GFP,SD_DAPI,SD_BF,SD_NIR.nd2',\n",
       " 'X:\\\\Lisa\\\\siMtb screen I_LØ\\\\Plate 01_Nuc\\\\Plate01_Nuc_Wells-D1__Channel_SD_AF647,SD_RFP,SD_GFP,SD_DAPI,SD_BF,SD_NIR.nd2',\n",
       " 'X:\\\\Lisa\\\\siMtb screen I_LØ\\\\Plate 01_Nuc\\\\Plate01_Nuc_Wells-D2__Channel_SD_AF647,SD_RFP,SD_GFP,SD_DAPI,SD_BF,SD_NIR.nd2',\n",
       " 'X:\\\\Lisa\\\\siMtb screen I_LØ\\\\Plate 01_Nuc\\\\Plate01_Nuc_Wells-D3__Channel_SD_AF647,SD_RFP,SD_GFP,SD_DAPI,SD_BF,SD_NIR.nd2',\n",
       " 'X:\\\\Lisa\\\\siMtb screen I_LØ\\\\Plate 01_Nuc\\\\Plate01_Nuc_Wells-D4__Channel_SD_AF647,SD_RFP,SD_GFP,SD_DAPI,SD_BF,SD_NIR.nd2',\n",
       " 'X:\\\\Lisa\\\\siMtb screen I_LØ\\\\Plate 01_Nuc\\\\Plate01_Nuc_Wells-D5__Channel_SD_AF647,SD_RFP,SD_GFP,SD_DAPI,SD_BF,SD_NIR.nd2',\n",
       " 'X:\\\\Lisa\\\\siMtb screen I_LØ\\\\Plate 01_Nuc\\\\Plate01_Nuc_Wells-D6__Channel_SD_AF647,SD_RFP,SD_GFP,SD_DAPI,SD_BF,SD_NIR.nd2',\n",
       " 'X:\\\\Lisa\\\\siMtb screen I_LØ\\\\Plate 01_Nuc\\\\Plate01_Nuc_Wells-D7__Channel_SD_AF647,SD_RFP,SD_GFP,SD_DAPI,SD_BF,SD_NIR.nd2',\n",
       " 'X:\\\\Lisa\\\\siMtb screen I_LØ\\\\Plate 01_Nuc\\\\Plate01_Nuc_Wells-D8__Channel_SD_AF647,SD_RFP,SD_GFP,SD_DAPI,SD_BF,SD_NIR.nd2',\n",
       " 'X:\\\\Lisa\\\\siMtb screen I_LØ\\\\Plate 01_Nuc\\\\Plate01_Nuc_Wells-D9__Channel_SD_AF647,SD_RFP,SD_GFP,SD_DAPI,SD_BF,SD_NIR.nd2',\n",
       " 'X:\\\\Lisa\\\\siMtb screen I_LØ\\\\Plate 01_Nuc\\\\Plate01_Nuc_Wells-D10__Channel_SD_AF647,SD_RFP,SD_GFP,SD_DAPI,SD_BF,SD_NIR.nd2',\n",
       " 'X:\\\\Lisa\\\\siMtb screen I_LØ\\\\Plate 01_Nuc\\\\Plate01_Nuc_Wells-D11__Channel_SD_AF647,SD_RFP,SD_GFP,SD_DAPI,SD_BF,SD_NIR.nd2',\n",
       " 'X:\\\\Lisa\\\\siMtb screen I_LØ\\\\Plate 01_Nuc\\\\Plate01_Nuc_Wells-D12__Channel_SD_AF647,SD_RFP,SD_GFP,SD_DAPI,SD_BF,SD_NIR.nd2',\n",
       " 'X:\\\\Lisa\\\\siMtb screen I_LØ\\\\Plate 01_Nuc\\\\Plate01_Nuc_Wells-E1__Channel_SD_AF647,SD_RFP,SD_GFP,SD_DAPI,SD_BF,SD_NIR.nd2',\n",
       " 'X:\\\\Lisa\\\\siMtb screen I_LØ\\\\Plate 01_Nuc\\\\Plate01_Nuc_Wells-E2__Channel_SD_AF647,SD_RFP,SD_GFP,SD_DAPI,SD_BF,SD_NIR.nd2',\n",
       " 'X:\\\\Lisa\\\\siMtb screen I_LØ\\\\Plate 01_Nuc\\\\Plate01_Nuc_Wells-E3__Channel_SD_AF647,SD_RFP,SD_GFP,SD_DAPI,SD_BF,SD_NIR.nd2',\n",
       " 'X:\\\\Lisa\\\\siMtb screen I_LØ\\\\Plate 01_Nuc\\\\Plate01_Nuc_Wells-E4__Channel_SD_AF647,SD_RFP,SD_GFP,SD_DAPI,SD_BF,SD_NIR.nd2',\n",
       " 'X:\\\\Lisa\\\\siMtb screen I_LØ\\\\Plate 01_Nuc\\\\Plate01_Nuc_Wells-E5__Channel_SD_AF647,SD_RFP,SD_GFP,SD_DAPI,SD_BF,SD_NIR.nd2',\n",
       " 'X:\\\\Lisa\\\\siMtb screen I_LØ\\\\Plate 01_Nuc\\\\Plate01_Nuc_Wells-E6__Channel_SD_AF647,SD_RFP,SD_GFP,SD_DAPI,SD_BF,SD_NIR.nd2',\n",
       " 'X:\\\\Lisa\\\\siMtb screen I_LØ\\\\Plate 01_Nuc\\\\Plate01_Nuc_Wells-E7__Channel_SD_AF647,SD_RFP,SD_GFP,SD_DAPI,SD_BF,SD_NIR.nd2',\n",
       " 'X:\\\\Lisa\\\\siMtb screen I_LØ\\\\Plate 01_Nuc\\\\Plate01_Nuc_Wells-E8__Channel_SD_AF647,SD_RFP,SD_GFP,SD_DAPI,SD_BF,SD_NIR.nd2',\n",
       " 'X:\\\\Lisa\\\\siMtb screen I_LØ\\\\Plate 01_Nuc\\\\Plate01_Nuc_Wells-E9__Channel_SD_AF647,SD_RFP,SD_GFP,SD_DAPI,SD_BF,SD_NIR.nd2',\n",
       " 'X:\\\\Lisa\\\\siMtb screen I_LØ\\\\Plate 01_Nuc\\\\Plate01_Nuc_Wells-E10__Channel_SD_AF647,SD_RFP,SD_GFP,SD_DAPI,SD_BF,SD_NIR.nd2',\n",
       " 'X:\\\\Lisa\\\\siMtb screen I_LØ\\\\Plate 01_Nuc\\\\Plate01_Nuc_Wells-E11__Channel_SD_AF647,SD_RFP,SD_GFP,SD_DAPI,SD_BF,SD_NIR.nd2',\n",
       " 'X:\\\\Lisa\\\\siMtb screen I_LØ\\\\Plate 01_Nuc\\\\Plate01_Nuc_Wells-E12__Channel_SD_AF647,SD_RFP,SD_GFP,SD_DAPI,SD_BF,SD_NIR.nd2',\n",
       " 'X:\\\\Lisa\\\\siMtb screen I_LØ\\\\Plate 01_Nuc\\\\Plate01_Nuc_Wells-F1__Channel_SD_AF647,SD_RFP,SD_GFP,SD_DAPI,SD_BF,SD_NIR.nd2',\n",
       " 'X:\\\\Lisa\\\\siMtb screen I_LØ\\\\Plate 01_Nuc\\\\Plate01_Nuc_Wells-F2__Channel_SD_AF647,SD_RFP,SD_GFP,SD_DAPI,SD_BF,SD_NIR.nd2',\n",
       " 'X:\\\\Lisa\\\\siMtb screen I_LØ\\\\Plate 01_Nuc\\\\Plate01_Nuc_Wells-F3__Channel_SD_AF647,SD_RFP,SD_GFP,SD_DAPI,SD_BF,SD_NIR.nd2',\n",
       " 'X:\\\\Lisa\\\\siMtb screen I_LØ\\\\Plate 01_Nuc\\\\Plate01_Nuc_Wells-F4__Channel_SD_AF647,SD_RFP,SD_GFP,SD_DAPI,SD_BF,SD_NIR.nd2',\n",
       " 'X:\\\\Lisa\\\\siMtb screen I_LØ\\\\Plate 01_Nuc\\\\Plate01_Nuc_Wells-F5__Channel_SD_AF647,SD_RFP,SD_GFP,SD_DAPI,SD_BF,SD_NIR.nd2',\n",
       " 'X:\\\\Lisa\\\\siMtb screen I_LØ\\\\Plate 01_Nuc\\\\Plate01_Nuc_Wells-F6__Channel_SD_AF647,SD_RFP,SD_GFP,SD_DAPI,SD_BF,SD_NIR.nd2',\n",
       " 'X:\\\\Lisa\\\\siMtb screen I_LØ\\\\Plate 01_Nuc\\\\Plate01_Nuc_Wells-F7__Channel_SD_AF647,SD_RFP,SD_GFP,SD_DAPI,SD_BF,SD_NIR.nd2',\n",
       " 'X:\\\\Lisa\\\\siMtb screen I_LØ\\\\Plate 01_Nuc\\\\Plate01_Nuc_Wells-F8__Channel_SD_AF647,SD_RFP,SD_GFP,SD_DAPI,SD_BF,SD_NIR.nd2',\n",
       " 'X:\\\\Lisa\\\\siMtb screen I_LØ\\\\Plate 01_Nuc\\\\Plate01_Nuc_Wells-F9__Channel_SD_AF647,SD_RFP,SD_GFP,SD_DAPI,SD_BF,SD_NIR.nd2',\n",
       " 'X:\\\\Lisa\\\\siMtb screen I_LØ\\\\Plate 01_Nuc\\\\Plate01_Nuc_Wells-F10__Channel_SD_AF647,SD_RFP,SD_GFP,SD_DAPI,SD_BF,SD_NIR.nd2',\n",
       " 'X:\\\\Lisa\\\\siMtb screen I_LØ\\\\Plate 01_Nuc\\\\Plate01_Nuc_Wells-F11__Channel_SD_AF647,SD_RFP,SD_GFP,SD_DAPI,SD_BF,SD_NIR.nd2',\n",
       " 'X:\\\\Lisa\\\\siMtb screen I_LØ\\\\Plate 01_Nuc\\\\Plate01_Nuc_Wells-F12__Channel_SD_AF647,SD_RFP,SD_GFP,SD_DAPI,SD_BF,SD_NIR.nd2',\n",
       " 'X:\\\\Lisa\\\\siMtb screen I_LØ\\\\Plate 01_Nuc\\\\Plate01_Nuc_Wells-G1__Channel_SD_AF647,SD_RFP,SD_GFP,SD_DAPI,SD_BF,SD_NIR.nd2',\n",
       " 'X:\\\\Lisa\\\\siMtb screen I_LØ\\\\Plate 01_Nuc\\\\Plate01_Nuc_Wells-G2__Channel_SD_AF647,SD_RFP,SD_GFP,SD_DAPI,SD_BF,SD_NIR.nd2',\n",
       " 'X:\\\\Lisa\\\\siMtb screen I_LØ\\\\Plate 01_Nuc\\\\Plate01_Nuc_Wells-G3__Channel_SD_AF647,SD_RFP,SD_GFP,SD_DAPI,SD_BF,SD_NIR.nd2',\n",
       " 'X:\\\\Lisa\\\\siMtb screen I_LØ\\\\Plate 01_Nuc\\\\Plate01_Nuc_Wells-G4__Channel_SD_AF647,SD_RFP,SD_GFP,SD_DAPI,SD_BF,SD_NIR.nd2',\n",
       " 'X:\\\\Lisa\\\\siMtb screen I_LØ\\\\Plate 01_Nuc\\\\Plate01_Nuc_Wells-G5__Channel_SD_AF647,SD_RFP,SD_GFP,SD_DAPI,SD_BF,SD_NIR.nd2',\n",
       " 'X:\\\\Lisa\\\\siMtb screen I_LØ\\\\Plate 01_Nuc\\\\Plate01_Nuc_Wells-G6__Channel_SD_AF647,SD_RFP,SD_GFP,SD_DAPI,SD_BF,SD_NIR.nd2',\n",
       " 'X:\\\\Lisa\\\\siMtb screen I_LØ\\\\Plate 01_Nuc\\\\Plate01_Nuc_Wells-G7__Channel_SD_AF647,SD_RFP,SD_GFP,SD_DAPI,SD_BF,SD_NIR.nd2',\n",
       " 'X:\\\\Lisa\\\\siMtb screen I_LØ\\\\Plate 01_Nuc\\\\Plate01_Nuc_Wells-G8__Channel_SD_AF647,SD_RFP,SD_GFP,SD_DAPI,SD_BF,SD_NIR.nd2',\n",
       " 'X:\\\\Lisa\\\\siMtb screen I_LØ\\\\Plate 01_Nuc\\\\Plate01_Nuc_Wells-G9__Channel_SD_AF647,SD_RFP,SD_GFP,SD_DAPI,SD_BF,SD_NIR.nd2',\n",
       " 'X:\\\\Lisa\\\\siMtb screen I_LØ\\\\Plate 01_Nuc\\\\Plate01_Nuc_Wells-G10__Channel_SD_AF647,SD_RFP,SD_GFP,SD_DAPI,SD_BF,SD_NIR.nd2',\n",
       " 'X:\\\\Lisa\\\\siMtb screen I_LØ\\\\Plate 01_Nuc\\\\Plate01_Nuc_Wells-G11__Channel_SD_AF647,SD_RFP,SD_GFP,SD_DAPI,SD_BF,SD_NIR.nd2',\n",
       " 'X:\\\\Lisa\\\\siMtb screen I_LØ\\\\Plate 01_Nuc\\\\Plate01_Nuc_Wells-G12__Channel_SD_AF647,SD_RFP,SD_GFP,SD_DAPI,SD_BF,SD_NIR.nd2',\n",
       " 'X:\\\\Lisa\\\\siMtb screen I_LØ\\\\Plate 01_Nuc\\\\Plate01_Nuc_Wells-H1__Channel_SD_AF647,SD_RFP,SD_GFP,SD_DAPI,SD_BF,SD_NIR.nd2',\n",
       " 'X:\\\\Lisa\\\\siMtb screen I_LØ\\\\Plate 01_Nuc\\\\Plate01_Nuc_Wells-H2__Channel_SD_AF647,SD_RFP,SD_GFP,SD_DAPI,SD_BF,SD_NIR.nd2',\n",
       " 'X:\\\\Lisa\\\\siMtb screen I_LØ\\\\Plate 01_Nuc\\\\Plate01_Nuc_Wells-H3__Channel_SD_AF647,SD_RFP,SD_GFP,SD_DAPI,SD_BF,SD_NIR.nd2',\n",
       " 'X:\\\\Lisa\\\\siMtb screen I_LØ\\\\Plate 01_Nuc\\\\Plate01_Nuc_Wells-H4__Channel_SD_AF647,SD_RFP,SD_GFP,SD_DAPI,SD_BF,SD_NIR.nd2',\n",
       " 'X:\\\\Lisa\\\\siMtb screen I_LØ\\\\Plate 01_Nuc\\\\Plate01_Nuc_Wells-H5__Channel_SD_AF647,SD_RFP,SD_GFP,SD_DAPI,SD_BF,SD_NIR.nd2',\n",
       " 'X:\\\\Lisa\\\\siMtb screen I_LØ\\\\Plate 01_Nuc\\\\Plate01_Nuc_Wells-H6__Channel_SD_AF647,SD_RFP,SD_GFP,SD_DAPI,SD_BF,SD_NIR.nd2',\n",
       " 'X:\\\\Lisa\\\\siMtb screen I_LØ\\\\Plate 01_Nuc\\\\Plate01_Nuc_Wells-H7__Channel_SD_AF647,SD_RFP,SD_GFP,SD_DAPI,SD_BF,SD_NIR.nd2',\n",
       " 'X:\\\\Lisa\\\\siMtb screen I_LØ\\\\Plate 01_Nuc\\\\Plate01_Nuc_Wells-H8__Channel_SD_AF647,SD_RFP,SD_GFP,SD_DAPI,SD_BF,SD_NIR.nd2',\n",
       " 'X:\\\\Lisa\\\\siMtb screen I_LØ\\\\Plate 01_Nuc\\\\Plate01_Nuc_Wells-H9__Channel_SD_AF647,SD_RFP,SD_GFP,SD_DAPI,SD_BF,SD_NIR.nd2',\n",
       " 'X:\\\\Lisa\\\\siMtb screen I_LØ\\\\Plate 01_Nuc\\\\Plate01_Nuc_Wells-H10__Channel_SD_AF647,SD_RFP,SD_GFP,SD_DAPI,SD_BF,SD_NIR.nd2',\n",
       " 'X:\\\\Lisa\\\\siMtb screen I_LØ\\\\Plate 01_Nuc\\\\Plate01_Nuc_Wells-H11__Channel_SD_AF647,SD_RFP,SD_GFP,SD_DAPI,SD_BF,SD_NIR.nd2',\n",
       " 'X:\\\\Lisa\\\\siMtb screen I_LØ\\\\Plate 01_Nuc\\\\Plate01_Nuc_Wells-H12__Channel_SD_AF647,SD_RFP,SD_GFP,SD_DAPI,SD_BF,SD_NIR.nd2']"
      ]
     },
     "execution_count": 5,
     "metadata": {},
     "output_type": "execute_result"
    }
   ],
   "source": [
    "# Copy the path where your images are stored, you can use absolute or relative paths to point at other disk locations\n",
    "directory_path = Path(\"X:\\Lisa\\siMtb screen I_LØ\\Plate 01_Nuc\")\n",
    "\n",
    "# Iterate through the .czi and .nd2 files in the directory\n",
    "images = list_images(directory_path)\n",
    "\n",
    "# Image size reduction (downsampling) to improve processing times (slicing, not lossless compression)\n",
    "slicing_factor_xy = None # Use 2 or 4 for downsampling in xy (None for lossless)\n",
    "\n",
    "images"
   ]
  },
  {
   "cell_type": "code",
   "execution_count": 6,
   "id": "8463611a",
   "metadata": {},
   "outputs": [
    {
     "name": "stdout",
     "output_type": "stream",
     "text": [
      "\n",
      "Image analyzed: Plate01_Nuc_Wells-A2__Channel_SD_AF647,SD_RFP,SD_GFP,SD_DAPI,SD_BF,SD_NIR\n"
     ]
    },
    {
     "data": {
      "text/plain": [
       "<Labels layer 'predicted_labels' at 0x1f70fe48040>"
      ]
     },
     "execution_count": 6,
     "metadata": {},
     "output_type": "execute_result"
    }
   ],
   "source": [
    "# Test classifier in a few images \n",
    "\n",
    "image = images[1]\n",
    "\n",
    "# Read image, apply slicing if needed and return filename and img as a np array\n",
    "img, filename = read_image(image, slicing_factor_xy)\n",
    "\n",
    "viewer = napari.Viewer(ndisplay=2)\n",
    "\n",
    "predicted_labels = segmenter.predict(img[3])\n",
    "viewer.add_image(img[3])\n",
    "viewer.add_labels(predicted_labels)"
   ]
  }
 ],
 "metadata": {
  "kernelspec": {
   "display_name": "hcs_cellpose",
   "language": "python",
   "name": "python3"
  },
  "language_info": {
   "codemirror_mode": {
    "name": "ipython",
    "version": 3
   },
   "file_extension": ".py",
   "mimetype": "text/x-python",
   "name": "python",
   "nbconvert_exporter": "python",
   "pygments_lexer": "ipython3",
   "version": "3.10.18"
  }
 },
 "nbformat": 4,
 "nbformat_minor": 5
}
