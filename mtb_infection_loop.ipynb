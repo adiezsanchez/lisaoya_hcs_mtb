{
 "cells": [
  {
   "cell_type": "code",
   "execution_count": 1,
   "id": "9897e547",
   "metadata": {},
   "outputs": [
    {
     "name": "stdout",
     "output_type": "stream",
     "text": [
      "\n",
      "\n",
      "Welcome to CellposeSAM, cellpose v\n",
      "cellpose version: \t4.0.6 \n",
      "platform:       \twin32 \n",
      "python version: \t3.10.18 \n",
      "torch version:  \t2.5.0! The neural network component of\n",
      "CPSAM is much larger than in previous versions and CPU excution is slow. \n",
      "We encourage users to use GPU/MPS if available. \n",
      "\n",
      "\n"
     ]
    },
    {
     "name": "stderr",
     "output_type": "stream",
     "text": [
      "c:\\Users\\adiez_cmic\\miniforge3\\envs\\hcs_cellpose\\lib\\site-packages\\tqdm\\auto.py:21: TqdmWarning: IProgress not found. Please update jupyter and ipywidgets. See https://ipywidgets.readthedocs.io/en/stable/user_install.html\n",
      "  from .autonotebook import tqdm as notebook_tqdm\n"
     ]
    },
    {
     "name": "stdout",
     "output_type": "stream",
     "text": [
      "2025-09-01 14:42:21,481 [INFO] WRITING LOG OUTPUT TO C:\\Users\\adiez_cmic\\.cellpose\\run.log\n",
      "2025-09-01 14:42:21,481 [INFO] \n",
      "cellpose version: \t4.0.6 \n",
      "platform:       \twin32 \n",
      "python version: \t3.10.18 \n",
      "torch version:  \t2.5.0\n",
      "2025-09-01 14:42:21,557 [INFO] ** TORCH CUDA version installed and working. **\n",
      "2025-09-01 14:42:21,558 [INFO] ** TORCH CUDA version installed and working. **\n",
      "2025-09-01 14:42:21,559 [INFO] >>>> using GPU (CUDA)\n",
      "2025-09-01 14:42:22,444 [INFO] >>>> loading model C:\\Users\\adiez_cmic\\.cellpose\\models\\cpsam\n",
      "INFO:spotiflow.model.spotiflow:Loading pretrained model: general\n",
      "2025-09-01 14:42:23,126 [INFO] Loading pretrained model: general\n"
     ]
    }
   ],
   "source": [
    "import numpy as np\n",
    "from cellpose import models, core, io\n",
    "from spotiflow.model import Spotiflow\n",
    "from pathlib import Path\n",
    "from pathlib import Path\n",
    "import os\n",
    "import apoc\n",
    "from tqdm import tqdm\n",
    "import pyclesperanto_prototype as cle \n",
    "from tifffile import imwrite, imread\n",
    "import pandas as pd\n",
    "from utils import list_images, read_image\n",
    "\n",
    "io.logger_setup() # run this to get printing of progress\n",
    "\n",
    "#Check if colab notebook instance has GPU access\n",
    "if core.use_gpu()==False:\n",
    "  raise ImportError(\"No GPU access, change your runtime\")\n",
    "\n",
    "#Load pre-trained Cellpose-SAM and Spotiflow models\n",
    "model = models.CellposeModel(gpu=True)\n",
    "spotiflow_model = Spotiflow.from_pretrained(\"general\")"
   ]
  },
  {
   "cell_type": "code",
   "execution_count": 2,
   "id": "cdc3477c",
   "metadata": {},
   "outputs": [
    {
     "name": "stdout",
     "output_type": "stream",
     "text": [
      "['Plate 01_Nuc', 'Plate 02_Nuc', 'Plate 03_Nuc', 'Plate 04_Nuc', 'Plate 05_Nuc', 'Plate 06_Nuc', 'Plate 07_Nuc', 'Plate 08_Nuc', 'Plate 09_Nuc', 'Plate 10_Nuc', 'Plate 11_Nuc', 'Plate 12_Nuc', 'Plate 13_Nuc', 'Plate 17_Nuc', 'Plate 14_Nuc', 'Plate 15_Nuc', 'Plate 16_Nuc']\n"
     ]
    }
   ],
   "source": [
    "cl_filename = \"./raw_data/SD_DAPI_Mtb_detection_training/Mtb_segmenter.cl\"\n",
    "mtb_segmenter = apoc.ObjectSegmenter(opencl_filename=cl_filename)\n",
    "\n",
    "# Create a list of subdirectories containing the Nuc string (stained for nuclei)\n",
    "main_directory_path = Path(\"X:\\Lisa\\siMtb screen I_LØ\")\n",
    "\n",
    "folders_with_nuc = [\n",
    "    name for name in os.listdir(main_directory_path)\n",
    "    if os.path.isdir(os.path.join(main_directory_path, name)) and \"Nuc\" in name\n",
    "]\n",
    "\n",
    "print(folders_with_nuc)"
   ]
  },
  {
   "cell_type": "code",
   "execution_count": null,
   "id": "edb096cd",
   "metadata": {},
   "outputs": [
    {
     "name": "stderr",
     "output_type": "stream",
     "text": [
      "  0%|          | 0/17 [00:00<?, ?it/s]"
     ]
    },
    {
     "name": "stdout",
     "output_type": "stream",
     "text": [
      "Analyzing Plate: Plate 01_Nuc\n"
     ]
    },
    {
     "name": "stderr",
     "output_type": "stream",
     "text": []
    },
    {
     "name": "stdout",
     "output_type": "stream",
     "text": [
      "\n",
      "\n",
      "Image analyzed: Plate01_Nuc_Wells-A1__Channel_SD_AF647,SD_RFP,SD_GFP,SD_DAPI,SD_BF,SD_NIR\n",
      "Original Array shape: (6, 5032, 5032)\n",
      "Compressed Array shape: (6, 5032, 5032)\n"
     ]
    },
    {
     "name": "stderr",
     "output_type": "stream",
     "text": []
    },
    {
     "name": "stdout",
     "output_type": "stream",
     "text": [
      "Non-infected: 2221\n",
      "Infected: 599\n",
      "Total cells: 2820\n",
      "Percentage infected:21.24\n",
      "\n",
      "\n",
      "Image analyzed: Plate01_Nuc_Wells-A2__Channel_SD_AF647,SD_RFP,SD_GFP,SD_DAPI,SD_BF,SD_NIR\n",
      "Original Array shape: (6, 5032, 5032)\n",
      "Compressed Array shape: (6, 5032, 5032)\n"
     ]
    },
    {
     "name": "stderr",
     "output_type": "stream",
     "text": []
    },
    {
     "name": "stdout",
     "output_type": "stream",
     "text": [
      "Non-infected: 2217\n",
      "Infected: 814\n",
      "Total cells: 3031\n",
      "Percentage infected:26.86\n",
      "\n",
      "\n",
      "Image analyzed: Plate01_Nuc_Wells-A3__Channel_SD_AF647,SD_RFP,SD_GFP,SD_DAPI,SD_BF,SD_NIR\n",
      "Original Array shape: (6, 5032, 5032)\n",
      "Compressed Array shape: (6, 5032, 5032)\n"
     ]
    },
    {
     "name": "stderr",
     "output_type": "stream",
     "text": []
    },
    {
     "name": "stdout",
     "output_type": "stream",
     "text": [
      "Non-infected: 1743\n",
      "Infected: 757\n",
      "Total cells: 2500\n",
      "Percentage infected:30.28\n",
      "\n",
      "\n",
      "Image analyzed: Plate01_Nuc_Wells-A4__Channel_SD_AF647,SD_RFP,SD_GFP,SD_DAPI,SD_BF,SD_NIR\n",
      "Original Array shape: (6, 5032, 5032)\n",
      "Compressed Array shape: (6, 5032, 5032)\n"
     ]
    },
    {
     "name": "stderr",
     "output_type": "stream",
     "text": []
    },
    {
     "name": "stdout",
     "output_type": "stream",
     "text": [
      "Non-infected: 2310\n",
      "Infected: 766\n",
      "Total cells: 3076\n",
      "Percentage infected:24.9\n",
      "\n",
      "\n",
      "Image analyzed: Plate01_Nuc_Wells-A5__Channel_SD_AF647,SD_RFP,SD_GFP,SD_DAPI,SD_BF,SD_NIR\n",
      "Original Array shape: (6, 5032, 5032)\n",
      "Compressed Array shape: (6, 5032, 5032)\n"
     ]
    },
    {
     "name": "stderr",
     "output_type": "stream",
     "text": []
    },
    {
     "name": "stdout",
     "output_type": "stream",
     "text": [
      "Non-infected: 2139\n",
      "Infected: 596\n",
      "Total cells: 2735\n",
      "Percentage infected:21.79\n",
      "\n",
      "\n",
      "Image analyzed: Plate01_Nuc_Wells-A6__Channel_SD_AF647,SD_RFP,SD_GFP,SD_DAPI,SD_BF,SD_NIR\n",
      "Original Array shape: (6, 5032, 5032)\n",
      "Compressed Array shape: (6, 5032, 5032)\n"
     ]
    },
    {
     "name": "stderr",
     "output_type": "stream",
     "text": []
    },
    {
     "name": "stdout",
     "output_type": "stream",
     "text": [
      "Non-infected: 1903\n",
      "Infected: 731\n",
      "Total cells: 2634\n",
      "Percentage infected:27.75\n",
      "\n",
      "\n",
      "Image analyzed: Plate01_Nuc_Wells-A7__Channel_SD_AF647,SD_RFP,SD_GFP,SD_DAPI,SD_BF,SD_NIR\n",
      "Original Array shape: (6, 5032, 5032)\n",
      "Compressed Array shape: (6, 5032, 5032)\n"
     ]
    },
    {
     "name": "stderr",
     "output_type": "stream",
     "text": []
    },
    {
     "name": "stdout",
     "output_type": "stream",
     "text": [
      "Non-infected: 1487\n",
      "Infected: 496\n",
      "Total cells: 1983\n",
      "Percentage infected:25.01\n",
      "\n",
      "\n",
      "Image analyzed: Plate01_Nuc_Wells-A8__Channel_SD_AF647,SD_RFP,SD_GFP,SD_DAPI,SD_BF,SD_NIR\n",
      "Original Array shape: (6, 5032, 5032)\n",
      "Compressed Array shape: (6, 5032, 5032)\n"
     ]
    },
    {
     "name": "stderr",
     "output_type": "stream",
     "text": []
    },
    {
     "name": "stdout",
     "output_type": "stream",
     "text": [
      "Non-infected: 2194\n",
      "Infected: 659\n",
      "Total cells: 2853\n",
      "Percentage infected:23.1\n",
      "\n",
      "\n",
      "Image analyzed: Plate01_Nuc_Wells-A9__Channel_SD_AF647,SD_RFP,SD_GFP,SD_DAPI,SD_BF,SD_NIR\n",
      "Original Array shape: (6, 5032, 5032)\n",
      "Compressed Array shape: (6, 5032, 5032)\n"
     ]
    },
    {
     "name": "stderr",
     "output_type": "stream",
     "text": []
    },
    {
     "name": "stdout",
     "output_type": "stream",
     "text": [
      "Non-infected: 1713\n",
      "Infected: 567\n",
      "Total cells: 2280\n",
      "Percentage infected:24.87\n",
      "\n",
      "\n",
      "Image analyzed: Plate01_Nuc_Wells-A10__Channel_SD_AF647,SD_RFP,SD_GFP,SD_DAPI,SD_BF,SD_NIR\n",
      "Original Array shape: (6, 5032, 5032)\n",
      "Compressed Array shape: (6, 5032, 5032)\n"
     ]
    },
    {
     "name": "stderr",
     "output_type": "stream",
     "text": []
    },
    {
     "name": "stdout",
     "output_type": "stream",
     "text": [
      "Non-infected: 1233\n",
      "Infected: 260\n",
      "Total cells: 1493\n",
      "Percentage infected:17.41\n",
      "\n",
      "\n",
      "Image analyzed: Plate01_Nuc_Wells-A11__Channel_SD_AF647,SD_RFP,SD_GFP,SD_DAPI,SD_BF,SD_NIR\n",
      "Original Array shape: (6, 5032, 5032)\n",
      "Compressed Array shape: (6, 5032, 5032)\n"
     ]
    },
    {
     "name": "stderr",
     "output_type": "stream",
     "text": []
    },
    {
     "name": "stdout",
     "output_type": "stream",
     "text": [
      "Non-infected: 1510\n",
      "Infected: 468\n",
      "Total cells: 1978\n",
      "Percentage infected:23.66\n",
      "\n",
      "\n",
      "Image analyzed: Plate01_Nuc_Wells-A12__Channel_SD_AF647,SD_RFP,SD_GFP,SD_DAPI,SD_BF,SD_NIR\n",
      "Original Array shape: (6, 5032, 5032)\n",
      "Compressed Array shape: (6, 5032, 5032)\n"
     ]
    },
    {
     "name": "stderr",
     "output_type": "stream",
     "text": []
    },
    {
     "name": "stdout",
     "output_type": "stream",
     "text": [
      "Non-infected: 1466\n",
      "Infected: 447\n",
      "Total cells: 1913\n",
      "Percentage infected:23.37\n",
      "\n",
      "\n",
      "Image analyzed: Plate01_Nuc_Wells-B1__Channel_SD_AF647,SD_RFP,SD_GFP,SD_DAPI,SD_BF,SD_NIR\n",
      "Original Array shape: (6, 5032, 5032)\n",
      "Compressed Array shape: (6, 5032, 5032)\n"
     ]
    },
    {
     "name": "stderr",
     "output_type": "stream",
     "text": []
    },
    {
     "name": "stdout",
     "output_type": "stream",
     "text": [
      "Non-infected: 1734\n",
      "Infected: 449\n",
      "Total cells: 2183\n",
      "Percentage infected:20.57\n",
      "\n",
      "\n",
      "Image analyzed: Plate01_Nuc_Wells-B2__Channel_SD_AF647,SD_RFP,SD_GFP,SD_DAPI,SD_BF,SD_NIR\n",
      "Original Array shape: (6, 5032, 5032)\n",
      "Compressed Array shape: (6, 5032, 5032)\n"
     ]
    },
    {
     "name": "stderr",
     "output_type": "stream",
     "text": []
    },
    {
     "name": "stdout",
     "output_type": "stream",
     "text": [
      "Non-infected: 1443\n",
      "Infected: 506\n",
      "Total cells: 1949\n",
      "Percentage infected:25.96\n",
      "\n",
      "\n",
      "Image analyzed: Plate01_Nuc_Wells-B3__Channel_SD_AF647,SD_RFP,SD_GFP,SD_DAPI,SD_BF,SD_NIR\n",
      "Original Array shape: (6, 5032, 5032)\n",
      "Compressed Array shape: (6, 5032, 5032)\n"
     ]
    },
    {
     "name": "stderr",
     "output_type": "stream",
     "text": []
    },
    {
     "name": "stdout",
     "output_type": "stream",
     "text": [
      "Non-infected: 1336\n",
      "Infected: 486\n",
      "Total cells: 1822\n",
      "Percentage infected:26.67\n",
      "\n",
      "\n",
      "Image analyzed: Plate01_Nuc_Wells-B4__Channel_SD_AF647,SD_RFP,SD_GFP,SD_DAPI,SD_BF,SD_NIR\n",
      "Original Array shape: (6, 5032, 5032)\n",
      "Compressed Array shape: (6, 5032, 5032)\n"
     ]
    },
    {
     "name": "stderr",
     "output_type": "stream",
     "text": []
    },
    {
     "name": "stdout",
     "output_type": "stream",
     "text": [
      "Non-infected: 1793\n",
      "Infected: 502\n",
      "Total cells: 2295\n",
      "Percentage infected:21.87\n",
      "\n",
      "\n",
      "Image analyzed: Plate01_Nuc_Wells-B5__Channel_SD_AF647,SD_RFP,SD_GFP,SD_DAPI,SD_BF,SD_NIR\n",
      "Original Array shape: (6, 5032, 5032)\n",
      "Compressed Array shape: (6, 5032, 5032)\n"
     ]
    },
    {
     "name": "stderr",
     "output_type": "stream",
     "text": []
    },
    {
     "name": "stdout",
     "output_type": "stream",
     "text": [
      "Non-infected: 1632\n",
      "Infected: 554\n",
      "Total cells: 2186\n",
      "Percentage infected:25.34\n",
      "\n",
      "\n",
      "Image analyzed: Plate01_Nuc_Wells-B6__Channel_SD_AF647,SD_RFP,SD_GFP,SD_DAPI,SD_BF,SD_NIR\n",
      "Original Array shape: (6, 5032, 5032)\n",
      "Compressed Array shape: (6, 5032, 5032)\n"
     ]
    },
    {
     "name": "stderr",
     "output_type": "stream",
     "text": []
    },
    {
     "name": "stdout",
     "output_type": "stream",
     "text": [
      "Non-infected: 1670\n",
      "Infected: 456\n",
      "Total cells: 2126\n",
      "Percentage infected:21.45\n",
      "\n",
      "\n",
      "Image analyzed: Plate01_Nuc_Wells-B7__Channel_SD_AF647,SD_RFP,SD_GFP,SD_DAPI,SD_BF,SD_NIR\n",
      "Original Array shape: (6, 5032, 5032)\n",
      "Compressed Array shape: (6, 5032, 5032)\n"
     ]
    },
    {
     "name": "stderr",
     "output_type": "stream",
     "text": []
    },
    {
     "name": "stdout",
     "output_type": "stream",
     "text": [
      "Non-infected: 1311\n",
      "Infected: 337\n",
      "Total cells: 1648\n",
      "Percentage infected:20.45\n",
      "\n",
      "\n",
      "Image analyzed: Plate01_Nuc_Wells-B8__Channel_SD_AF647,SD_RFP,SD_GFP,SD_DAPI,SD_BF,SD_NIR\n",
      "Original Array shape: (6, 5032, 5032)\n",
      "Compressed Array shape: (6, 5032, 5032)\n"
     ]
    },
    {
     "name": "stderr",
     "output_type": "stream",
     "text": []
    },
    {
     "name": "stdout",
     "output_type": "stream",
     "text": [
      "Non-infected: 1318\n",
      "Infected: 411\n",
      "Total cells: 1729\n",
      "Percentage infected:23.77\n",
      "\n",
      "\n",
      "Image analyzed: Plate01_Nuc_Wells-B9__Channel_SD_AF647,SD_RFP,SD_GFP,SD_DAPI,SD_BF,SD_NIR\n",
      "Original Array shape: (6, 5032, 5032)\n",
      "Compressed Array shape: (6, 5032, 5032)\n"
     ]
    },
    {
     "name": "stderr",
     "output_type": "stream",
     "text": []
    },
    {
     "name": "stdout",
     "output_type": "stream",
     "text": [
      "Non-infected: 1507\n",
      "Infected: 358\n",
      "Total cells: 1865\n",
      "Percentage infected:19.2\n",
      "\n",
      "\n",
      "Image analyzed: Plate01_Nuc_Wells-B10__Channel_SD_AF647,SD_RFP,SD_GFP,SD_DAPI,SD_BF,SD_NIR\n",
      "Original Array shape: (6, 5032, 5032)\n",
      "Compressed Array shape: (6, 5032, 5032)\n"
     ]
    },
    {
     "name": "stderr",
     "output_type": "stream",
     "text": []
    },
    {
     "name": "stdout",
     "output_type": "stream",
     "text": [
      "Non-infected: 1548\n",
      "Infected: 391\n",
      "Total cells: 1939\n",
      "Percentage infected:20.17\n",
      "\n",
      "\n",
      "Image analyzed: Plate01_Nuc_Wells-B11__Channel_SD_AF647,SD_RFP,SD_GFP,SD_DAPI,SD_BF,SD_NIR\n",
      "Original Array shape: (6, 5032, 5032)\n",
      "Compressed Array shape: (6, 5032, 5032)\n"
     ]
    },
    {
     "name": "stderr",
     "output_type": "stream",
     "text": []
    },
    {
     "name": "stdout",
     "output_type": "stream",
     "text": [
      "Non-infected: 1556\n",
      "Infected: 360\n",
      "Total cells: 1916\n",
      "Percentage infected:18.79\n",
      "\n",
      "\n",
      "Image analyzed: Plate01_Nuc_Wells-B12__Channel_SD_AF647,SD_RFP,SD_GFP,SD_DAPI,SD_BF,SD_NIR\n",
      "Original Array shape: (6, 5032, 5032)\n",
      "Compressed Array shape: (6, 5032, 5032)\n"
     ]
    },
    {
     "name": "stderr",
     "output_type": "stream",
     "text": []
    },
    {
     "name": "stdout",
     "output_type": "stream",
     "text": [
      "Non-infected: 1066\n",
      "Infected: 374\n",
      "Total cells: 1440\n",
      "Percentage infected:25.97\n",
      "\n",
      "\n",
      "Image analyzed: Plate01_Nuc_Wells-C1__Channel_SD_AF647,SD_RFP,SD_GFP,SD_DAPI,SD_BF,SD_NIR\n",
      "Original Array shape: (6, 5032, 5032)\n",
      "Compressed Array shape: (6, 5032, 5032)\n"
     ]
    },
    {
     "name": "stderr",
     "output_type": "stream",
     "text": []
    },
    {
     "name": "stdout",
     "output_type": "stream",
     "text": [
      "Non-infected: 966\n",
      "Infected: 225\n",
      "Total cells: 1191\n",
      "Percentage infected:18.89\n",
      "\n",
      "\n",
      "Image analyzed: Plate01_Nuc_Wells-C2__Channel_SD_AF647,SD_RFP,SD_GFP,SD_DAPI,SD_BF,SD_NIR\n",
      "Original Array shape: (6, 5032, 5032)\n",
      "Compressed Array shape: (6, 5032, 5032)\n"
     ]
    },
    {
     "name": "stderr",
     "output_type": "stream",
     "text": []
    },
    {
     "name": "stdout",
     "output_type": "stream",
     "text": [
      "Non-infected: 1652\n",
      "Infected: 657\n",
      "Total cells: 2309\n",
      "Percentage infected:28.45\n",
      "\n",
      "\n",
      "Image analyzed: Plate01_Nuc_Wells-C3__Channel_SD_AF647,SD_RFP,SD_GFP,SD_DAPI,SD_BF,SD_NIR\n",
      "Original Array shape: (6, 5032, 5032)\n",
      "Compressed Array shape: (6, 5032, 5032)\n"
     ]
    },
    {
     "name": "stderr",
     "output_type": "stream",
     "text": []
    },
    {
     "name": "stdout",
     "output_type": "stream",
     "text": [
      "Non-infected: 677\n",
      "Infected: 192\n",
      "Total cells: 869\n",
      "Percentage infected:22.09\n",
      "\n",
      "\n",
      "Image analyzed: Plate01_Nuc_Wells-C4__Channel_SD_AF647,SD_RFP,SD_GFP,SD_DAPI,SD_BF,SD_NIR\n",
      "Original Array shape: (6, 5032, 5032)\n",
      "Compressed Array shape: (6, 5032, 5032)\n"
     ]
    },
    {
     "name": "stderr",
     "output_type": "stream",
     "text": []
    },
    {
     "name": "stdout",
     "output_type": "stream",
     "text": [
      "Non-infected: 1081\n",
      "Infected: 372\n",
      "Total cells: 1453\n",
      "Percentage infected:25.6\n",
      "\n",
      "\n",
      "Image analyzed: Plate01_Nuc_Wells-C5__Channel_SD_AF647,SD_RFP,SD_GFP,SD_DAPI,SD_BF,SD_NIR\n",
      "Original Array shape: (6, 5032, 5032)\n",
      "Compressed Array shape: (6, 5032, 5032)\n"
     ]
    },
    {
     "name": "stderr",
     "output_type": "stream",
     "text": []
    },
    {
     "name": "stdout",
     "output_type": "stream",
     "text": [
      "Non-infected: 1171\n",
      "Infected: 394\n",
      "Total cells: 1565\n",
      "Percentage infected:25.18\n",
      "\n",
      "\n",
      "Image analyzed: Plate01_Nuc_Wells-C6__Channel_SD_AF647,SD_RFP,SD_GFP,SD_DAPI,SD_BF,SD_NIR\n",
      "Original Array shape: (6, 5032, 5032)\n",
      "Compressed Array shape: (6, 5032, 5032)\n"
     ]
    },
    {
     "name": "stderr",
     "output_type": "stream",
     "text": []
    },
    {
     "name": "stdout",
     "output_type": "stream",
     "text": [
      "Non-infected: 1244\n",
      "Infected: 577\n",
      "Total cells: 1821\n",
      "Percentage infected:31.69\n",
      "\n",
      "\n",
      "Image analyzed: Plate01_Nuc_Wells-C7__Channel_SD_AF647,SD_RFP,SD_GFP,SD_DAPI,SD_BF,SD_NIR\n",
      "Original Array shape: (6, 5032, 5032)\n",
      "Compressed Array shape: (6, 5032, 5032)\n"
     ]
    },
    {
     "name": "stderr",
     "output_type": "stream",
     "text": []
    },
    {
     "name": "stdout",
     "output_type": "stream",
     "text": [
      "Non-infected: 949\n",
      "Infected: 330\n",
      "Total cells: 1279\n",
      "Percentage infected:25.8\n",
      "\n",
      "\n",
      "Image analyzed: Plate01_Nuc_Wells-C8__Channel_SD_AF647,SD_RFP,SD_GFP,SD_DAPI,SD_BF,SD_NIR\n",
      "Original Array shape: (6, 5032, 5032)\n",
      "Compressed Array shape: (6, 5032, 5032)\n"
     ]
    },
    {
     "name": "stderr",
     "output_type": "stream",
     "text": []
    },
    {
     "name": "stdout",
     "output_type": "stream",
     "text": [
      "Non-infected: 1717\n",
      "Infected: 725\n",
      "Total cells: 2442\n",
      "Percentage infected:29.69\n",
      "\n",
      "\n",
      "Image analyzed: Plate01_Nuc_Wells-C9__Channel_SD_AF647,SD_RFP,SD_GFP,SD_DAPI,SD_BF,SD_NIR\n",
      "Original Array shape: (6, 5032, 5032)\n",
      "Compressed Array shape: (6, 5032, 5032)\n"
     ]
    },
    {
     "name": "stderr",
     "output_type": "stream",
     "text": []
    },
    {
     "name": "stdout",
     "output_type": "stream",
     "text": [
      "Non-infected: 1492\n",
      "Infected: 575\n",
      "Total cells: 2067\n",
      "Percentage infected:27.82\n",
      "\n",
      "\n",
      "Image analyzed: Plate01_Nuc_Wells-C10__Channel_SD_AF647,SD_RFP,SD_GFP,SD_DAPI,SD_BF,SD_NIR\n",
      "Original Array shape: (6, 5032, 5032)\n",
      "Compressed Array shape: (6, 5032, 5032)\n"
     ]
    },
    {
     "name": "stderr",
     "output_type": "stream",
     "text": []
    },
    {
     "name": "stdout",
     "output_type": "stream",
     "text": [
      "Non-infected: 1127\n",
      "Infected: 195\n",
      "Total cells: 1322\n",
      "Percentage infected:14.75\n",
      "\n",
      "\n",
      "Image analyzed: Plate01_Nuc_Wells-C11__Channel_SD_AF647,SD_RFP,SD_GFP,SD_DAPI,SD_BF,SD_NIR\n",
      "Original Array shape: (6, 5032, 5032)\n",
      "Compressed Array shape: (6, 5032, 5032)\n"
     ]
    },
    {
     "name": "stderr",
     "output_type": "stream",
     "text": []
    },
    {
     "name": "stdout",
     "output_type": "stream",
     "text": [
      "Non-infected: 1123\n",
      "Infected: 380\n",
      "Total cells: 1503\n",
      "Percentage infected:25.28\n",
      "\n",
      "\n",
      "Image analyzed: Plate01_Nuc_Wells-C12__Channel_SD_AF647,SD_RFP,SD_GFP,SD_DAPI,SD_BF,SD_NIR\n",
      "Original Array shape: (6, 5032, 5032)\n",
      "Compressed Array shape: (6, 5032, 5032)\n"
     ]
    },
    {
     "name": "stderr",
     "output_type": "stream",
     "text": []
    },
    {
     "name": "stdout",
     "output_type": "stream",
     "text": [
      "Non-infected: 1161\n",
      "Infected: 320\n",
      "Total cells: 1481\n",
      "Percentage infected:21.61\n",
      "\n",
      "\n",
      "Image analyzed: Plate01_Nuc_Wells-D1__Channel_SD_AF647,SD_RFP,SD_GFP,SD_DAPI,SD_BF,SD_NIR\n",
      "Original Array shape: (6, 5032, 5032)\n",
      "Compressed Array shape: (6, 5032, 5032)\n"
     ]
    },
    {
     "name": "stderr",
     "output_type": "stream",
     "text": []
    },
    {
     "name": "stdout",
     "output_type": "stream",
     "text": [
      "Non-infected: 1586\n",
      "Infected: 436\n",
      "Total cells: 2022\n",
      "Percentage infected:21.56\n",
      "\n",
      "\n",
      "Image analyzed: Plate01_Nuc_Wells-D2__Channel_SD_AF647,SD_RFP,SD_GFP,SD_DAPI,SD_BF,SD_NIR\n",
      "Original Array shape: (6, 5032, 5032)\n",
      "Compressed Array shape: (6, 5032, 5032)\n"
     ]
    },
    {
     "name": "stderr",
     "output_type": "stream",
     "text": []
    },
    {
     "name": "stdout",
     "output_type": "stream",
     "text": [
      "Non-infected: 1313\n",
      "Infected: 385\n",
      "Total cells: 1698\n",
      "Percentage infected:22.67\n",
      "\n",
      "\n",
      "Image analyzed: Plate01_Nuc_Wells-D3__Channel_SD_AF647,SD_RFP,SD_GFP,SD_DAPI,SD_BF,SD_NIR\n",
      "Original Array shape: (6, 5032, 5032)\n",
      "Compressed Array shape: (6, 5032, 5032)\n"
     ]
    }
   ],
   "source": [
    "for folder in tqdm(folders_with_nuc):\n",
    "\n",
    "    print(f\"Analyzing Plate: {folder}\")\n",
    "\n",
    "    # Copy the path where your images are stored, you can use absolute or relative paths to point at other disk locations\n",
    "    directory_path = Path(f\"X:\\Lisa\\siMtb screen I_LØ\\{folder}\")\n",
    "\n",
    "    # Iterate through the .czi and .nd2 files in the directory\n",
    "    images = list_images(directory_path)\n",
    "\n",
    "    # Image size reduction (downsampling) to improve processing times (slicing, not lossless compression)\n",
    "    slicing_factor_xy = None # Use 2 or 4 for downsampling in xy (None for lossless)\n",
    "\n",
    "    #TODO: Substract uneven and remove background from BF by obtaining the median of all BF channels \n",
    "\n",
    "    try:\n",
    "\n",
    "        bf_correction = imread(directory_path / \"bf_correction.tiff\")\n",
    "\n",
    "    except FileNotFoundError:\n",
    "\n",
    "        # Create an empty list to store the brightfield images from each well\n",
    "        bf_arrays = []\n",
    "\n",
    "        # Read all images, extract the brightfield channel and calculate the mean to correct illumination and remove dust spots\n",
    "        for image in tqdm(images):\n",
    "\n",
    "            # Read image, apply slicing if needed and return filename and img as a np array\n",
    "            img, filename = read_image(image, slicing_factor_xy, log=False)\n",
    "\n",
    "            # Extract brighfield slice\n",
    "            bf_channel = img[4]\n",
    "\n",
    "            # Add it to the bf_arrays iterable\n",
    "            bf_arrays.append(bf_channel)\n",
    "\n",
    "        # Create a stack containing all bf images\n",
    "        bf_stack = np.stack(bf_arrays, axis=0)\n",
    "\n",
    "        # Calculate the median to retain the common structures (spots, illumination)\n",
    "        bf_correction = np.median(bf_stack, axis=0)\n",
    "        del bf_stack\n",
    "\n",
    "        # Store brightfield correction as .tiff to avoid recalculating it everytime\n",
    "        imwrite(directory_path / \"bf_correction.tiff\",bf_correction)\n",
    "\n",
    "    stats = []\n",
    "\n",
    "    for image in tqdm(images):\n",
    "\n",
    "        # Read image, apply slicing if needed and return filename and img as a np array\n",
    "        img, filename = read_image(image, slicing_factor_xy)\n",
    "\n",
    "        # Extract plate number and well_id\n",
    "        plate_nr = filename.split(\"_\")[0]\n",
    "        well_id = filename.split(\"-\")[1][:2]\n",
    "\n",
    "        cytoplasm_labels, flows, styles = model.eval(np.stack((img[[0,1]].sum(axis=0), (img[4] - bf_correction)), axis=0), niter=1000) # need to check the arguments\n",
    "\n",
    "        mtb_labels = mtb_segmenter.predict(img[3])\n",
    "        mtb_labels = cle.pull(mtb_labels)\n",
    "\n",
    "        # Convert mtb_labels to boolean mask\n",
    "        mtb_boolean = mtb_labels.astype(bool)\n",
    "\n",
    "        # Use NumPy's indexing to identify labels that intersect with mtb_boolean (bacterial mask)\n",
    "        infected_labels = np.unique(cytoplasm_labels[mtb_boolean])\n",
    "        infected_labels = infected_labels[infected_labels != 0]\n",
    "\n",
    "        infected_mask = np.isin(cytoplasm_labels, infected_labels)\n",
    "        non_infected_mask = np.isin(cytoplasm_labels, infected_labels, invert=True)\n",
    "        infected_cytoplasm = np.where(infected_mask, cytoplasm_labels, 0).astype(cytoplasm_labels.dtype)\n",
    "        non_infected_cytoplasm = np.where(non_infected_mask, cytoplasm_labels, 0).astype(cytoplasm_labels.dtype)\n",
    "\n",
    "        infected_cells = len(np.unique(infected_cytoplasm)) - (0 in infected_cytoplasm)\n",
    "        non_infected_cells = len(np.unique(non_infected_cytoplasm)) - (0 in non_infected_cytoplasm)\n",
    "        total_cells = cytoplasm_labels.max()\n",
    "\n",
    "        # Calculate percentage of infected cells\n",
    "        perc_inf_cells = round(infected_cells / total_cells * 100, 2) if total_cells > 0 else 0\n",
    "\n",
    "        print(f\"Non-infected: {non_infected_cells}\")\n",
    "        print(f\"Infected: {infected_cells}\")\n",
    "        print(f\"Total cells: {total_cells}\")\n",
    "        print(f\"Percentage infected:{perc_inf_cells}\")\n",
    "\n",
    "        # Create a dictionary containing all extracted info per image\n",
    "        stats_dict = {\n",
    "                    \"plate\": plate_nr,\n",
    "                    \"well_id\": well_id,\n",
    "                    \"total_nr_cells\": total_cells,\n",
    "                    \"infected\": infected_cells,\n",
    "                    \"non-infected\": non_infected_cells,\n",
    "                    \"%_inf_cells\": perc_inf_cells \n",
    "        }\n",
    "\n",
    "        # Append the current data point to the stats_list\n",
    "        stats.append(stats_dict)\n",
    "\n",
    "    # Transform into a dataframe to store it as .csv later\n",
    "    df = pd.DataFrame(stats)\n",
    "\n",
    "    df.to_csv(f\"./results_infection_{plate_nr}.csv\")"
   ]
  }
 ],
 "metadata": {
  "kernelspec": {
   "display_name": "hcs_cellpose",
   "language": "python",
   "name": "python3"
  },
  "language_info": {
   "codemirror_mode": {
    "name": "ipython",
    "version": 3
   },
   "file_extension": ".py",
   "mimetype": "text/x-python",
   "name": "python",
   "nbconvert_exporter": "python",
   "pygments_lexer": "ipython3",
   "version": "3.10.18"
  }
 },
 "nbformat": 4,
 "nbformat_minor": 5
}
