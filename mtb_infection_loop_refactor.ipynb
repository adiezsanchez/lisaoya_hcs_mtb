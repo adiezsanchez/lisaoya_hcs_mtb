{
 "cells": [
  {
   "cell_type": "code",
   "execution_count": 1,
   "id": "9897e547",
   "metadata": {},
   "outputs": [
    {
     "name": "stdout",
     "output_type": "stream",
     "text": [
      "\n",
      "\n",
      "Welcome to CellposeSAM, cellpose v\n",
      "cellpose version: \t4.0.6 \n",
      "platform:       \twin32 \n",
      "python version: \t3.10.18 \n",
      "torch version:  \t2.5.0! The neural network component of\n",
      "CPSAM is much larger than in previous versions and CPU excution is slow. \n",
      "We encourage users to use GPU/MPS if available. \n",
      "\n",
      "\n"
     ]
    },
    {
     "name": "stderr",
     "output_type": "stream",
     "text": [
      "c:\\Users\\adiez_cmic\\miniforge3\\envs\\hcs_cellpose\\lib\\site-packages\\tqdm\\auto.py:21: TqdmWarning: IProgress not found. Please update jupyter and ipywidgets. See https://ipywidgets.readthedocs.io/en/stable/user_install.html\n",
      "  from .autonotebook import tqdm as notebook_tqdm\n"
     ]
    },
    {
     "name": "stdout",
     "output_type": "stream",
     "text": [
      "2025-10-03 10:48:04,154 [INFO] WRITING LOG OUTPUT TO C:\\Users\\adiez_cmic\\.cellpose\\run.log\n",
      "2025-10-03 10:48:04,154 [INFO] \n",
      "cellpose version: \t4.0.6 \n",
      "platform:       \twin32 \n",
      "python version: \t3.10.18 \n",
      "torch version:  \t2.5.0\n",
      "2025-10-03 10:48:04,208 [INFO] ** TORCH CUDA version installed and working. **\n",
      "2025-10-03 10:48:04,208 [INFO] ** TORCH CUDA version installed and working. **\n",
      "2025-10-03 10:48:04,208 [INFO] >>>> using GPU (CUDA)\n",
      "2025-10-03 10:48:05,081 [INFO] >>>> loading model C:\\Users\\adiez_cmic\\.cellpose\\models\\cpsam\n",
      "INFO:spotiflow.model.spotiflow:Loading pretrained model: general\n",
      "2025-10-03 10:48:05,509 [INFO] Loading pretrained model: general\n"
     ]
    }
   ],
   "source": [
    "import numpy as np\n",
    "from cellpose import models, core, io\n",
    "from spotiflow.model import Spotiflow\n",
    "from pathlib import Path\n",
    "import os\n",
    "import apoc\n",
    "from tqdm import tqdm\n",
    "import pyclesperanto_prototype as cle \n",
    "import pandas as pd\n",
    "from utils import list_images, read_image, brightfield_correction, detect_infection_load, extract_intensity_information, puncta_detection\n",
    "\n",
    "io.logger_setup() # run this to get printing of progress\n",
    "\n",
    "#Check if notebook has GPU access\n",
    "if core.use_gpu()==False:\n",
    "  raise ImportError(\"No GPU access, change your runtime\")\n",
    "\n",
    "#Activate .cle GPU acceleration\n",
    "cle.select_device(\"RTX\")\n",
    "\n",
    "#Load pre-trained Cellpose-SAM and Spotiflow models\n",
    "model = models.CellposeModel(gpu=True)\n",
    "spotiflow_model = Spotiflow.from_pretrained(\"general\")"
   ]
  },
  {
   "cell_type": "code",
   "execution_count": 2,
   "id": "cdc3477c",
   "metadata": {},
   "outputs": [
    {
     "name": "stdout",
     "output_type": "stream",
     "text": [
      "['Plate 01_Nuc', 'Plate 02_Nuc', 'Plate 03_Nuc', 'Plate 04_Nuc', 'Plate 05_Nuc', 'Plate 06_Nuc', 'Plate 07_Nuc', 'Plate 08_Nuc', 'Plate 09_Nuc', 'Plate 10_Nuc', 'Plate 11_Nuc', 'Plate 12_Nuc', 'Plate 13_Nuc', 'Plate 17_Nuc', 'Plate 14_Nuc', 'Plate 15_Nuc', 'Plate 16_Nuc']\n"
     ]
    }
   ],
   "source": [
    "# Load pretrained Object Classifier for Mycobacterium infection detection\n",
    "mtb_cl_filename = \"./raw_data/SD_DAPI_Mtb_detection_training/Mtb_segmenter.cl\"\n",
    "mtb_segmenter = apoc.ObjectSegmenter(opencl_filename=mtb_cl_filename)\n",
    "\n",
    "# Create a list of subdirectories containing the Nuc string (stained for nuclei)\n",
    "main_directory_path = Path(\"X:\\Lisa\\siMtb screen I_LØ\")\n",
    "\n",
    "folders_with_nuc = [\n",
    "    name for name in os.listdir(main_directory_path)\n",
    "    if os.path.isdir(os.path.join(main_directory_path, name)) and \"Nuc\" in name\n",
    "]\n",
    "\n",
    "print(folders_with_nuc)"
   ]
  },
  {
   "cell_type": "code",
   "execution_count": 3,
   "id": "948fcf3a",
   "metadata": {},
   "outputs": [],
   "source": [
    "# Define the channels you want to analyze using the following structure:\n",
    "# markers = [(channel_name, channel_nr),(..., ...)]\n",
    "# Remember in Python one starts counting from 0, so your first channel will be 0\n",
    "# i.e. markers = [(\"ki67\", 0), (\"neun\", 1)]\n",
    "\n",
    "# This list hold the markers for signal intensity analysis \n",
    "markers = [(\"LC3B\", 0), (\"GAL3\", 1), (\"Chmp4B\", 2), (\"Mtb\", 3)]\n",
    "\n",
    "# This list hold the markers for spot (puncta) detection analysis \n",
    "puncta_markers = [(\"LC3B\", 0), (\"GAL3\", 1), (\"Chmp4B\", 2)]"
   ]
  },
  {
   "cell_type": "code",
   "execution_count": null,
   "id": "edb096cd",
   "metadata": {},
   "outputs": [
    {
     "name": "stderr",
     "output_type": "stream",
     "text": [
      "  0%|          | 0/17 [00:00<?, ?it/s]"
     ]
    },
    {
     "name": "stdout",
     "output_type": "stream",
     "text": [
      "Analyzing Plate: Plate 01_Nuc\n"
     ]
    },
    {
     "name": "stderr",
     "output_type": "stream",
     "text": []
    },
    {
     "name": "stdout",
     "output_type": "stream",
     "text": [
      "\n",
      "Image analyzed: Plate01_Nuc_Wells-A10__Channel_SD_AF647,SD_RFP,SD_GFP,SD_DAPI,SD_BF,SD_NIR\n",
      "\n",
      "Detecting infection load...\n",
      "Total cells: 1493\n",
      "Percentage infected:17.41\n",
      "Extracting per marker intensity information...\n",
      "Detecting spots in puncta markers...\n"
     ]
    },
    {
     "name": "stderr",
     "output_type": "stream",
     "text": []
    },
    {
     "name": "stdout",
     "output_type": "stream",
     "text": [
      "\n",
      "Image analyzed: Plate01_Nuc_Wells-A11__Channel_SD_AF647,SD_RFP,SD_GFP,SD_DAPI,SD_BF,SD_NIR\n",
      "\n",
      "Detecting infection load...\n",
      "Total cells: 1978\n",
      "Percentage infected:23.66\n",
      "Extracting per marker intensity information...\n",
      "Detecting spots in puncta markers...\n"
     ]
    },
    {
     "name": "stderr",
     "output_type": "stream",
     "text": []
    },
    {
     "name": "stdout",
     "output_type": "stream",
     "text": [
      "\n",
      "Image analyzed: Plate01_Nuc_Wells-A12__Channel_SD_AF647,SD_RFP,SD_GFP,SD_DAPI,SD_BF,SD_NIR\n",
      "\n",
      "Detecting infection load...\n",
      "Total cells: 1913\n",
      "Percentage infected:23.37\n",
      "Extracting per marker intensity information...\n",
      "Detecting spots in puncta markers...\n"
     ]
    },
    {
     "name": "stderr",
     "output_type": "stream",
     "text": []
    },
    {
     "name": "stdout",
     "output_type": "stream",
     "text": [
      "\n",
      "Image analyzed: Plate01_Nuc_Wells-A1__Channel_SD_AF647,SD_RFP,SD_GFP,SD_DAPI,SD_BF,SD_NIR\n",
      "\n",
      "Detecting infection load...\n",
      "Total cells: 2820\n",
      "Percentage infected:21.24\n",
      "Extracting per marker intensity information...\n",
      "Detecting spots in puncta markers...\n"
     ]
    },
    {
     "name": "stderr",
     "output_type": "stream",
     "text": []
    },
    {
     "name": "stdout",
     "output_type": "stream",
     "text": [
      "\n",
      "Image analyzed: Plate01_Nuc_Wells-A2__Channel_SD_AF647,SD_RFP,SD_GFP,SD_DAPI,SD_BF,SD_NIR\n",
      "\n",
      "Detecting infection load...\n",
      "Total cells: 3031\n",
      "Percentage infected:26.86\n",
      "Extracting per marker intensity information...\n",
      "Detecting spots in puncta markers...\n"
     ]
    },
    {
     "name": "stderr",
     "output_type": "stream",
     "text": []
    },
    {
     "name": "stdout",
     "output_type": "stream",
     "text": [
      "\n",
      "Image analyzed: Plate01_Nuc_Wells-A3__Channel_SD_AF647,SD_RFP,SD_GFP,SD_DAPI,SD_BF,SD_NIR\n",
      "\n",
      "Detecting infection load...\n",
      "Total cells: 2500\n",
      "Percentage infected:30.28\n",
      "Extracting per marker intensity information...\n",
      "Detecting spots in puncta markers...\n"
     ]
    },
    {
     "name": "stderr",
     "output_type": "stream",
     "text": []
    },
    {
     "name": "stdout",
     "output_type": "stream",
     "text": [
      "\n",
      "Image analyzed: Plate01_Nuc_Wells-A4__Channel_SD_AF647,SD_RFP,SD_GFP,SD_DAPI,SD_BF,SD_NIR\n",
      "\n",
      "Detecting infection load...\n",
      "Total cells: 3076\n",
      "Percentage infected:24.9\n",
      "Extracting per marker intensity information...\n",
      "Detecting spots in puncta markers...\n"
     ]
    },
    {
     "name": "stderr",
     "output_type": "stream",
     "text": []
    },
    {
     "name": "stdout",
     "output_type": "stream",
     "text": [
      "\n",
      "Image analyzed: Plate01_Nuc_Wells-A5__Channel_SD_AF647,SD_RFP,SD_GFP,SD_DAPI,SD_BF,SD_NIR\n",
      "\n",
      "Detecting infection load...\n",
      "Total cells: 2735\n",
      "Percentage infected:21.79\n",
      "Extracting per marker intensity information...\n",
      "Detecting spots in puncta markers...\n"
     ]
    },
    {
     "name": "stderr",
     "output_type": "stream",
     "text": []
    },
    {
     "name": "stdout",
     "output_type": "stream",
     "text": [
      "\n",
      "Image analyzed: Plate01_Nuc_Wells-A6__Channel_SD_AF647,SD_RFP,SD_GFP,SD_DAPI,SD_BF,SD_NIR\n",
      "\n",
      "Detecting infection load...\n",
      "Total cells: 2634\n",
      "Percentage infected:27.75\n",
      "Extracting per marker intensity information...\n",
      "Detecting spots in puncta markers...\n"
     ]
    },
    {
     "name": "stderr",
     "output_type": "stream",
     "text": []
    },
    {
     "name": "stdout",
     "output_type": "stream",
     "text": [
      "\n",
      "Image analyzed: Plate01_Nuc_Wells-A7__Channel_SD_AF647,SD_RFP,SD_GFP,SD_DAPI,SD_BF,SD_NIR\n",
      "\n",
      "Detecting infection load...\n",
      "Total cells: 1983\n",
      "Percentage infected:25.01\n",
      "Extracting per marker intensity information...\n",
      "Detecting spots in puncta markers...\n"
     ]
    },
    {
     "name": "stderr",
     "output_type": "stream",
     "text": []
    },
    {
     "name": "stdout",
     "output_type": "stream",
     "text": [
      "\n",
      "Image analyzed: Plate01_Nuc_Wells-A8__Channel_SD_AF647,SD_RFP,SD_GFP,SD_DAPI,SD_BF,SD_NIR\n",
      "\n",
      "Detecting infection load...\n",
      "Total cells: 2853\n",
      "Percentage infected:23.1\n",
      "Extracting per marker intensity information...\n",
      "Detecting spots in puncta markers...\n"
     ]
    },
    {
     "name": "stderr",
     "output_type": "stream",
     "text": []
    },
    {
     "name": "stdout",
     "output_type": "stream",
     "text": [
      "\n",
      "Image analyzed: Plate01_Nuc_Wells-A9__Channel_SD_AF647,SD_RFP,SD_GFP,SD_DAPI,SD_BF,SD_NIR\n",
      "\n",
      "Detecting infection load...\n",
      "Total cells: 2280\n",
      "Percentage infected:24.87\n",
      "Extracting per marker intensity information...\n",
      "Detecting spots in puncta markers...\n"
     ]
    },
    {
     "name": "stderr",
     "output_type": "stream",
     "text": []
    },
    {
     "name": "stdout",
     "output_type": "stream",
     "text": [
      "\n",
      "Image analyzed: Plate01_Nuc_Wells-B10__Channel_SD_AF647,SD_RFP,SD_GFP,SD_DAPI,SD_BF,SD_NIR\n",
      "\n",
      "Detecting infection load...\n",
      "Total cells: 1939\n",
      "Percentage infected:20.17\n",
      "Extracting per marker intensity information...\n",
      "Detecting spots in puncta markers...\n"
     ]
    },
    {
     "name": "stderr",
     "output_type": "stream",
     "text": []
    },
    {
     "name": "stdout",
     "output_type": "stream",
     "text": [
      "\n",
      "Image analyzed: Plate01_Nuc_Wells-B11__Channel_SD_AF647,SD_RFP,SD_GFP,SD_DAPI,SD_BF,SD_NIR\n",
      "\n",
      "Detecting infection load...\n",
      "Total cells: 1916\n",
      "Percentage infected:18.79\n",
      "Extracting per marker intensity information...\n",
      "Detecting spots in puncta markers...\n"
     ]
    },
    {
     "name": "stderr",
     "output_type": "stream",
     "text": []
    },
    {
     "name": "stdout",
     "output_type": "stream",
     "text": [
      "\n",
      "Image analyzed: Plate01_Nuc_Wells-B12__Channel_SD_AF647,SD_RFP,SD_GFP,SD_DAPI,SD_BF,SD_NIR\n",
      "\n",
      "Detecting infection load...\n",
      "Total cells: 1440\n",
      "Percentage infected:25.97\n",
      "Extracting per marker intensity information...\n",
      "Detecting spots in puncta markers...\n"
     ]
    },
    {
     "name": "stderr",
     "output_type": "stream",
     "text": []
    },
    {
     "name": "stdout",
     "output_type": "stream",
     "text": [
      "\n",
      "Image analyzed: Plate01_Nuc_Wells-B1__Channel_SD_AF647,SD_RFP,SD_GFP,SD_DAPI,SD_BF,SD_NIR\n",
      "\n",
      "Detecting infection load...\n",
      "Total cells: 2183\n",
      "Percentage infected:20.57\n",
      "Extracting per marker intensity information...\n",
      "Detecting spots in puncta markers...\n"
     ]
    },
    {
     "name": "stderr",
     "output_type": "stream",
     "text": []
    },
    {
     "name": "stdout",
     "output_type": "stream",
     "text": [
      "\n",
      "Image analyzed: Plate01_Nuc_Wells-B2__Channel_SD_AF647,SD_RFP,SD_GFP,SD_DAPI,SD_BF,SD_NIR\n",
      "\n",
      "Detecting infection load...\n",
      "Total cells: 1949\n",
      "Percentage infected:25.96\n",
      "Extracting per marker intensity information...\n",
      "Detecting spots in puncta markers...\n"
     ]
    },
    {
     "name": "stderr",
     "output_type": "stream",
     "text": []
    },
    {
     "name": "stdout",
     "output_type": "stream",
     "text": [
      "\n",
      "Image analyzed: Plate01_Nuc_Wells-B3__Channel_SD_AF647,SD_RFP,SD_GFP,SD_DAPI,SD_BF,SD_NIR\n",
      "\n",
      "Detecting infection load...\n",
      "Total cells: 1822\n",
      "Percentage infected:26.67\n",
      "Extracting per marker intensity information...\n",
      "Detecting spots in puncta markers...\n"
     ]
    },
    {
     "name": "stderr",
     "output_type": "stream",
     "text": []
    },
    {
     "name": "stdout",
     "output_type": "stream",
     "text": [
      "\n",
      "Image analyzed: Plate01_Nuc_Wells-B4__Channel_SD_AF647,SD_RFP,SD_GFP,SD_DAPI,SD_BF,SD_NIR\n",
      "\n",
      "Detecting infection load...\n",
      "Total cells: 2295\n",
      "Percentage infected:21.87\n",
      "Extracting per marker intensity information...\n",
      "Detecting spots in puncta markers...\n"
     ]
    },
    {
     "name": "stderr",
     "output_type": "stream",
     "text": []
    },
    {
     "name": "stdout",
     "output_type": "stream",
     "text": [
      "\n",
      "Image analyzed: Plate01_Nuc_Wells-B5__Channel_SD_AF647,SD_RFP,SD_GFP,SD_DAPI,SD_BF,SD_NIR\n",
      "\n",
      "Detecting infection load...\n",
      "Total cells: 2186\n",
      "Percentage infected:25.34\n",
      "Extracting per marker intensity information...\n",
      "Detecting spots in puncta markers...\n"
     ]
    },
    {
     "name": "stderr",
     "output_type": "stream",
     "text": []
    },
    {
     "name": "stdout",
     "output_type": "stream",
     "text": [
      "\n",
      "Image analyzed: Plate01_Nuc_Wells-B6__Channel_SD_AF647,SD_RFP,SD_GFP,SD_DAPI,SD_BF,SD_NIR\n",
      "\n",
      "Detecting infection load...\n",
      "Total cells: 2126\n",
      "Percentage infected:21.45\n",
      "Extracting per marker intensity information...\n",
      "Detecting spots in puncta markers...\n"
     ]
    },
    {
     "name": "stderr",
     "output_type": "stream",
     "text": []
    },
    {
     "name": "stdout",
     "output_type": "stream",
     "text": [
      "\n",
      "Image analyzed: Plate01_Nuc_Wells-B7__Channel_SD_AF647,SD_RFP,SD_GFP,SD_DAPI,SD_BF,SD_NIR\n",
      "\n",
      "Detecting infection load...\n",
      "Total cells: 1648\n",
      "Percentage infected:20.45\n",
      "Extracting per marker intensity information...\n",
      "Detecting spots in puncta markers...\n"
     ]
    },
    {
     "name": "stderr",
     "output_type": "stream",
     "text": []
    },
    {
     "name": "stdout",
     "output_type": "stream",
     "text": [
      "\n",
      "Image analyzed: Plate01_Nuc_Wells-B8__Channel_SD_AF647,SD_RFP,SD_GFP,SD_DAPI,SD_BF,SD_NIR\n",
      "\n",
      "Detecting infection load...\n",
      "Total cells: 1729\n",
      "Percentage infected:23.77\n",
      "Extracting per marker intensity information...\n",
      "Detecting spots in puncta markers...\n"
     ]
    },
    {
     "name": "stderr",
     "output_type": "stream",
     "text": []
    },
    {
     "name": "stdout",
     "output_type": "stream",
     "text": [
      "\n",
      "Image analyzed: Plate01_Nuc_Wells-B9__Channel_SD_AF647,SD_RFP,SD_GFP,SD_DAPI,SD_BF,SD_NIR\n",
      "\n",
      "Detecting infection load...\n",
      "Total cells: 1865\n",
      "Percentage infected:19.2\n",
      "Extracting per marker intensity information...\n",
      "Detecting spots in puncta markers...\n"
     ]
    },
    {
     "name": "stderr",
     "output_type": "stream",
     "text": []
    },
    {
     "name": "stdout",
     "output_type": "stream",
     "text": [
      "\n",
      "Image analyzed: Plate01_Nuc_Wells-C10__Channel_SD_AF647,SD_RFP,SD_GFP,SD_DAPI,SD_BF,SD_NIR\n",
      "\n",
      "Detecting infection load...\n",
      "Total cells: 1322\n",
      "Percentage infected:14.75\n",
      "Extracting per marker intensity information...\n",
      "Detecting spots in puncta markers...\n"
     ]
    },
    {
     "name": "stderr",
     "output_type": "stream",
     "text": []
    },
    {
     "name": "stdout",
     "output_type": "stream",
     "text": [
      "\n",
      "Image analyzed: Plate01_Nuc_Wells-C11__Channel_SD_AF647,SD_RFP,SD_GFP,SD_DAPI,SD_BF,SD_NIR\n",
      "\n",
      "Detecting infection load...\n",
      "Total cells: 1503\n",
      "Percentage infected:25.28\n",
      "Extracting per marker intensity information...\n",
      "Detecting spots in puncta markers...\n"
     ]
    },
    {
     "name": "stderr",
     "output_type": "stream",
     "text": []
    },
    {
     "name": "stdout",
     "output_type": "stream",
     "text": [
      "\n",
      "Image analyzed: Plate01_Nuc_Wells-C12__Channel_SD_AF647,SD_RFP,SD_GFP,SD_DAPI,SD_BF,SD_NIR\n",
      "\n",
      "Detecting infection load...\n",
      "Total cells: 1481\n",
      "Percentage infected:21.61\n",
      "Extracting per marker intensity information...\n",
      "Detecting spots in puncta markers...\n"
     ]
    },
    {
     "name": "stderr",
     "output_type": "stream",
     "text": []
    },
    {
     "name": "stdout",
     "output_type": "stream",
     "text": [
      "\n",
      "Image analyzed: Plate01_Nuc_Wells-C1__Channel_SD_AF647,SD_RFP,SD_GFP,SD_DAPI,SD_BF,SD_NIR\n",
      "\n",
      "Detecting infection load...\n",
      "Total cells: 1191\n",
      "Percentage infected:18.89\n",
      "Extracting per marker intensity information...\n",
      "Detecting spots in puncta markers...\n"
     ]
    },
    {
     "name": "stderr",
     "output_type": "stream",
     "text": []
    },
    {
     "name": "stdout",
     "output_type": "stream",
     "text": [
      "\n",
      "Image analyzed: Plate01_Nuc_Wells-C2__Channel_SD_AF647,SD_RFP,SD_GFP,SD_DAPI,SD_BF,SD_NIR\n",
      "\n",
      "Detecting infection load...\n",
      "Total cells: 2309\n",
      "Percentage infected:28.45\n",
      "Extracting per marker intensity information...\n",
      "Detecting spots in puncta markers...\n"
     ]
    },
    {
     "name": "stderr",
     "output_type": "stream",
     "text": []
    },
    {
     "name": "stdout",
     "output_type": "stream",
     "text": [
      "\n",
      "Image analyzed: Plate01_Nuc_Wells-C3__Channel_SD_AF647,SD_RFP,SD_GFP,SD_DAPI,SD_BF,SD_NIR\n",
      "\n",
      "Detecting infection load...\n",
      "Total cells: 869\n",
      "Percentage infected:22.09\n",
      "Extracting per marker intensity information...\n",
      "Detecting spots in puncta markers...\n"
     ]
    },
    {
     "name": "stderr",
     "output_type": "stream",
     "text": []
    },
    {
     "name": "stdout",
     "output_type": "stream",
     "text": [
      "\n",
      "Image analyzed: Plate01_Nuc_Wells-C4__Channel_SD_AF647,SD_RFP,SD_GFP,SD_DAPI,SD_BF,SD_NIR\n",
      "\n",
      "Detecting infection load...\n",
      "Total cells: 1453\n",
      "Percentage infected:25.6\n",
      "Extracting per marker intensity information...\n",
      "Detecting spots in puncta markers...\n"
     ]
    },
    {
     "name": "stderr",
     "output_type": "stream",
     "text": []
    },
    {
     "name": "stdout",
     "output_type": "stream",
     "text": [
      "\n",
      "Image analyzed: Plate01_Nuc_Wells-C5__Channel_SD_AF647,SD_RFP,SD_GFP,SD_DAPI,SD_BF,SD_NIR\n",
      "\n",
      "Detecting infection load...\n",
      "Total cells: 1565\n",
      "Percentage infected:25.18\n",
      "Extracting per marker intensity information...\n",
      "Detecting spots in puncta markers...\n"
     ]
    },
    {
     "name": "stderr",
     "output_type": "stream",
     "text": []
    },
    {
     "name": "stdout",
     "output_type": "stream",
     "text": [
      "\n",
      "Image analyzed: Plate01_Nuc_Wells-C6__Channel_SD_AF647,SD_RFP,SD_GFP,SD_DAPI,SD_BF,SD_NIR\n",
      "\n",
      "Detecting infection load...\n",
      "Total cells: 1821\n",
      "Percentage infected:31.69\n",
      "Extracting per marker intensity information...\n",
      "Detecting spots in puncta markers...\n"
     ]
    },
    {
     "name": "stderr",
     "output_type": "stream",
     "text": []
    },
    {
     "name": "stdout",
     "output_type": "stream",
     "text": [
      "\n",
      "Image analyzed: Plate01_Nuc_Wells-C7__Channel_SD_AF647,SD_RFP,SD_GFP,SD_DAPI,SD_BF,SD_NIR\n",
      "\n",
      "Detecting infection load...\n",
      "Total cells: 1279\n",
      "Percentage infected:25.8\n",
      "Extracting per marker intensity information...\n",
      "Detecting spots in puncta markers...\n"
     ]
    },
    {
     "name": "stderr",
     "output_type": "stream",
     "text": []
    },
    {
     "name": "stdout",
     "output_type": "stream",
     "text": [
      "\n",
      "Image analyzed: Plate01_Nuc_Wells-C8__Channel_SD_AF647,SD_RFP,SD_GFP,SD_DAPI,SD_BF,SD_NIR\n",
      "\n",
      "Detecting infection load...\n",
      "Total cells: 2442\n",
      "Percentage infected:29.69\n",
      "Extracting per marker intensity information...\n",
      "Detecting spots in puncta markers...\n"
     ]
    },
    {
     "name": "stderr",
     "output_type": "stream",
     "text": []
    },
    {
     "name": "stdout",
     "output_type": "stream",
     "text": [
      "\n",
      "Image analyzed: Plate01_Nuc_Wells-C9__Channel_SD_AF647,SD_RFP,SD_GFP,SD_DAPI,SD_BF,SD_NIR\n",
      "\n",
      "Detecting infection load...\n",
      "Total cells: 2067\n",
      "Percentage infected:27.82\n",
      "Extracting per marker intensity information...\n",
      "Detecting spots in puncta markers...\n"
     ]
    },
    {
     "name": "stderr",
     "output_type": "stream",
     "text": []
    },
    {
     "name": "stdout",
     "output_type": "stream",
     "text": [
      "\n",
      "Image analyzed: Plate01_Nuc_Wells-D10__Channel_SD_AF647,SD_RFP,SD_GFP,SD_DAPI,SD_BF,SD_NIR\n",
      "\n",
      "Detecting infection load...\n",
      "Total cells: 1945\n",
      "Percentage infected:18.87\n",
      "Extracting per marker intensity information...\n",
      "Detecting spots in puncta markers...\n"
     ]
    },
    {
     "name": "stderr",
     "output_type": "stream",
     "text": []
    },
    {
     "name": "stdout",
     "output_type": "stream",
     "text": [
      "\n",
      "Image analyzed: Plate01_Nuc_Wells-D11__Channel_SD_AF647,SD_RFP,SD_GFP,SD_DAPI,SD_BF,SD_NIR\n",
      "\n",
      "Detecting infection load...\n",
      "Total cells: 1810\n",
      "Percentage infected:18.95\n",
      "Extracting per marker intensity information...\n",
      "Detecting spots in puncta markers...\n"
     ]
    },
    {
     "name": "stderr",
     "output_type": "stream",
     "text": []
    },
    {
     "name": "stdout",
     "output_type": "stream",
     "text": [
      "\n",
      "Image analyzed: Plate01_Nuc_Wells-D12__Channel_SD_AF647,SD_RFP,SD_GFP,SD_DAPI,SD_BF,SD_NIR\n",
      "\n",
      "Detecting infection load...\n",
      "Total cells: 1092\n",
      "Percentage infected:23.81\n",
      "Extracting per marker intensity information...\n",
      "Detecting spots in puncta markers...\n"
     ]
    },
    {
     "name": "stderr",
     "output_type": "stream",
     "text": []
    },
    {
     "name": "stdout",
     "output_type": "stream",
     "text": [
      "\n",
      "Image analyzed: Plate01_Nuc_Wells-D1__Channel_SD_AF647,SD_RFP,SD_GFP,SD_DAPI,SD_BF,SD_NIR\n",
      "\n",
      "Detecting infection load...\n",
      "Total cells: 2022\n",
      "Percentage infected:21.56\n",
      "Extracting per marker intensity information...\n",
      "Detecting spots in puncta markers...\n"
     ]
    },
    {
     "name": "stderr",
     "output_type": "stream",
     "text": []
    },
    {
     "name": "stdout",
     "output_type": "stream",
     "text": [
      "\n",
      "Image analyzed: Plate01_Nuc_Wells-D2__Channel_SD_AF647,SD_RFP,SD_GFP,SD_DAPI,SD_BF,SD_NIR\n",
      "\n",
      "Detecting infection load...\n",
      "Total cells: 1698\n",
      "Percentage infected:22.67\n",
      "Extracting per marker intensity information...\n",
      "Detecting spots in puncta markers...\n"
     ]
    },
    {
     "name": "stderr",
     "output_type": "stream",
     "text": []
    },
    {
     "name": "stdout",
     "output_type": "stream",
     "text": [
      "\n",
      "Image analyzed: Plate01_Nuc_Wells-D3__Channel_SD_AF647,SD_RFP,SD_GFP,SD_DAPI,SD_BF,SD_NIR\n",
      "\n",
      "Detecting infection load...\n",
      "Total cells: 1636\n",
      "Percentage infected:25.06\n",
      "Extracting per marker intensity information...\n",
      "Detecting spots in puncta markers...\n"
     ]
    },
    {
     "name": "stderr",
     "output_type": "stream",
     "text": []
    },
    {
     "name": "stdout",
     "output_type": "stream",
     "text": [
      "\n",
      "Image analyzed: Plate01_Nuc_Wells-D4__Channel_SD_AF647,SD_RFP,SD_GFP,SD_DAPI,SD_BF,SD_NIR\n",
      "\n",
      "Detecting infection load...\n",
      "Total cells: 2603\n",
      "Percentage infected:26.82\n",
      "Extracting per marker intensity information...\n",
      "Detecting spots in puncta markers...\n"
     ]
    },
    {
     "name": "stderr",
     "output_type": "stream",
     "text": []
    },
    {
     "name": "stdout",
     "output_type": "stream",
     "text": [
      "\n",
      "Image analyzed: Plate01_Nuc_Wells-D5__Channel_SD_AF647,SD_RFP,SD_GFP,SD_DAPI,SD_BF,SD_NIR\n",
      "\n",
      "Detecting infection load...\n",
      "Total cells: 2246\n",
      "Percentage infected:24.58\n",
      "Extracting per marker intensity information...\n",
      "Detecting spots in puncta markers...\n"
     ]
    },
    {
     "name": "stderr",
     "output_type": "stream",
     "text": []
    },
    {
     "name": "stdout",
     "output_type": "stream",
     "text": [
      "\n",
      "Image analyzed: Plate01_Nuc_Wells-D6__Channel_SD_AF647,SD_RFP,SD_GFP,SD_DAPI,SD_BF,SD_NIR\n",
      "\n",
      "Detecting infection load...\n",
      "Total cells: 2683\n",
      "Percentage infected:23.15\n",
      "Extracting per marker intensity information...\n",
      "Detecting spots in puncta markers...\n"
     ]
    },
    {
     "name": "stderr",
     "output_type": "stream",
     "text": []
    },
    {
     "name": "stdout",
     "output_type": "stream",
     "text": [
      "\n",
      "Image analyzed: Plate01_Nuc_Wells-D7__Channel_SD_AF647,SD_RFP,SD_GFP,SD_DAPI,SD_BF,SD_NIR\n",
      "\n",
      "Detecting infection load...\n",
      "Total cells: 2193\n",
      "Percentage infected:25.72\n",
      "Extracting per marker intensity information...\n",
      "Detecting spots in puncta markers...\n"
     ]
    },
    {
     "name": "stderr",
     "output_type": "stream",
     "text": []
    },
    {
     "name": "stdout",
     "output_type": "stream",
     "text": [
      "\n",
      "Image analyzed: Plate01_Nuc_Wells-D8__Channel_SD_AF647,SD_RFP,SD_GFP,SD_DAPI,SD_BF,SD_NIR\n",
      "\n",
      "Detecting infection load...\n",
      "Total cells: 2359\n",
      "Percentage infected:23.57\n",
      "Extracting per marker intensity information...\n",
      "Detecting spots in puncta markers...\n"
     ]
    },
    {
     "name": "stderr",
     "output_type": "stream",
     "text": []
    },
    {
     "name": "stdout",
     "output_type": "stream",
     "text": [
      "\n",
      "Image analyzed: Plate01_Nuc_Wells-D9__Channel_SD_AF647,SD_RFP,SD_GFP,SD_DAPI,SD_BF,SD_NIR\n",
      "\n",
      "Detecting infection load...\n",
      "Total cells: 1995\n",
      "Percentage infected:24.86\n",
      "Extracting per marker intensity information...\n",
      "Detecting spots in puncta markers...\n"
     ]
    },
    {
     "name": "stderr",
     "output_type": "stream",
     "text": []
    },
    {
     "name": "stdout",
     "output_type": "stream",
     "text": [
      "\n",
      "Image analyzed: Plate01_Nuc_Wells-E10__Channel_SD_AF647,SD_RFP,SD_GFP,SD_DAPI,SD_BF,SD_NIR\n",
      "\n",
      "Detecting infection load...\n",
      "Total cells: 1995\n",
      "Percentage infected:22.86\n",
      "Extracting per marker intensity information...\n",
      "Detecting spots in puncta markers...\n"
     ]
    },
    {
     "name": "stderr",
     "output_type": "stream",
     "text": []
    },
    {
     "name": "stdout",
     "output_type": "stream",
     "text": [
      "\n",
      "Image analyzed: Plate01_Nuc_Wells-E11__Channel_SD_AF647,SD_RFP,SD_GFP,SD_DAPI,SD_BF,SD_NIR\n",
      "\n",
      "Detecting infection load...\n",
      "Total cells: 1863\n",
      "Percentage infected:19.59\n",
      "Extracting per marker intensity information...\n",
      "Detecting spots in puncta markers...\n"
     ]
    },
    {
     "name": "stderr",
     "output_type": "stream",
     "text": []
    },
    {
     "name": "stdout",
     "output_type": "stream",
     "text": [
      "\n",
      "Image analyzed: Plate01_Nuc_Wells-E12__Channel_SD_AF647,SD_RFP,SD_GFP,SD_DAPI,SD_BF,SD_NIR\n",
      "\n",
      "Detecting infection load...\n",
      "Total cells: 908\n",
      "Percentage infected:23.24\n",
      "Extracting per marker intensity information...\n",
      "Detecting spots in puncta markers...\n"
     ]
    },
    {
     "name": "stderr",
     "output_type": "stream",
     "text": []
    },
    {
     "name": "stdout",
     "output_type": "stream",
     "text": [
      "\n",
      "Image analyzed: Plate01_Nuc_Wells-E1__Channel_SD_AF647,SD_RFP,SD_GFP,SD_DAPI,SD_BF,SD_NIR\n",
      "\n",
      "Detecting infection load...\n",
      "Total cells: 1811\n",
      "Percentage infected:28.38\n",
      "Extracting per marker intensity information...\n",
      "Detecting spots in puncta markers...\n"
     ]
    },
    {
     "name": "stderr",
     "output_type": "stream",
     "text": []
    },
    {
     "name": "stdout",
     "output_type": "stream",
     "text": [
      "\n",
      "Image analyzed: Plate01_Nuc_Wells-E2__Channel_SD_AF647,SD_RFP,SD_GFP,SD_DAPI,SD_BF,SD_NIR\n",
      "\n",
      "Detecting infection load...\n",
      "Total cells: 1515\n",
      "Percentage infected:26.67\n",
      "Extracting per marker intensity information...\n",
      "Detecting spots in puncta markers...\n"
     ]
    },
    {
     "name": "stderr",
     "output_type": "stream",
     "text": []
    },
    {
     "name": "stdout",
     "output_type": "stream",
     "text": [
      "\n",
      "Image analyzed: Plate01_Nuc_Wells-E3__Channel_SD_AF647,SD_RFP,SD_GFP,SD_DAPI,SD_BF,SD_NIR\n",
      "\n",
      "Detecting infection load...\n",
      "Total cells: 2098\n",
      "Percentage infected:24.36\n",
      "Extracting per marker intensity information...\n",
      "Detecting spots in puncta markers...\n"
     ]
    },
    {
     "name": "stderr",
     "output_type": "stream",
     "text": []
    },
    {
     "name": "stdout",
     "output_type": "stream",
     "text": [
      "\n",
      "Image analyzed: Plate01_Nuc_Wells-E4__Channel_SD_AF647,SD_RFP,SD_GFP,SD_DAPI,SD_BF,SD_NIR\n",
      "\n",
      "Detecting infection load...\n",
      "Total cells: 2742\n",
      "Percentage infected:25.31\n",
      "Extracting per marker intensity information...\n",
      "Detecting spots in puncta markers...\n"
     ]
    },
    {
     "name": "stderr",
     "output_type": "stream",
     "text": []
    },
    {
     "name": "stdout",
     "output_type": "stream",
     "text": [
      "\n",
      "Image analyzed: Plate01_Nuc_Wells-E5__Channel_SD_AF647,SD_RFP,SD_GFP,SD_DAPI,SD_BF,SD_NIR\n",
      "\n",
      "Detecting infection load...\n",
      "Total cells: 2896\n",
      "Percentage infected:29.01\n",
      "Extracting per marker intensity information...\n",
      "Detecting spots in puncta markers...\n"
     ]
    },
    {
     "name": "stderr",
     "output_type": "stream",
     "text": []
    },
    {
     "name": "stdout",
     "output_type": "stream",
     "text": [
      "\n",
      "Image analyzed: Plate01_Nuc_Wells-E6__Channel_SD_AF647,SD_RFP,SD_GFP,SD_DAPI,SD_BF,SD_NIR\n",
      "\n",
      "Detecting infection load...\n",
      "Total cells: 3461\n",
      "Percentage infected:29.76\n",
      "Extracting per marker intensity information...\n",
      "Detecting spots in puncta markers...\n"
     ]
    },
    {
     "name": "stderr",
     "output_type": "stream",
     "text": []
    },
    {
     "name": "stdout",
     "output_type": "stream",
     "text": [
      "\n",
      "Image analyzed: Plate01_Nuc_Wells-E7__Channel_SD_AF647,SD_RFP,SD_GFP,SD_DAPI,SD_BF,SD_NIR\n",
      "\n",
      "Detecting infection load...\n",
      "Total cells: 2283\n",
      "Percentage infected:28.47\n",
      "Extracting per marker intensity information...\n",
      "Detecting spots in puncta markers...\n"
     ]
    },
    {
     "name": "stderr",
     "output_type": "stream",
     "text": []
    },
    {
     "name": "stdout",
     "output_type": "stream",
     "text": [
      "\n",
      "Image analyzed: Plate01_Nuc_Wells-E8__Channel_SD_AF647,SD_RFP,SD_GFP,SD_DAPI,SD_BF,SD_NIR\n",
      "\n",
      "Detecting infection load...\n",
      "Total cells: 2506\n",
      "Percentage infected:27.97\n",
      "Extracting per marker intensity information...\n",
      "Detecting spots in puncta markers...\n"
     ]
    },
    {
     "name": "stderr",
     "output_type": "stream",
     "text": []
    },
    {
     "name": "stdout",
     "output_type": "stream",
     "text": [
      "\n",
      "Image analyzed: Plate01_Nuc_Wells-E9__Channel_SD_AF647,SD_RFP,SD_GFP,SD_DAPI,SD_BF,SD_NIR\n",
      "\n",
      "Detecting infection load...\n",
      "Total cells: 2015\n",
      "Percentage infected:25.16\n",
      "Extracting per marker intensity information...\n",
      "Detecting spots in puncta markers...\n"
     ]
    },
    {
     "name": "stderr",
     "output_type": "stream",
     "text": []
    },
    {
     "name": "stdout",
     "output_type": "stream",
     "text": [
      "\n",
      "Image analyzed: Plate01_Nuc_Wells-F10__Channel_SD_AF647,SD_RFP,SD_GFP,SD_DAPI,SD_BF,SD_NIR\n",
      "\n",
      "Detecting infection load...\n",
      "Total cells: 1621\n",
      "Percentage infected:23.2\n",
      "Extracting per marker intensity information...\n",
      "Detecting spots in puncta markers...\n"
     ]
    },
    {
     "name": "stderr",
     "output_type": "stream",
     "text": []
    },
    {
     "name": "stdout",
     "output_type": "stream",
     "text": [
      "\n",
      "Image analyzed: Plate01_Nuc_Wells-F11__Channel_SD_AF647,SD_RFP,SD_GFP,SD_DAPI,SD_BF,SD_NIR\n",
      "\n",
      "Detecting infection load...\n",
      "Total cells: 1413\n",
      "Percentage infected:19.11\n",
      "Extracting per marker intensity information...\n",
      "Detecting spots in puncta markers...\n"
     ]
    },
    {
     "name": "stderr",
     "output_type": "stream",
     "text": []
    },
    {
     "name": "stdout",
     "output_type": "stream",
     "text": [
      "\n",
      "Image analyzed: Plate01_Nuc_Wells-F12__Channel_SD_AF647,SD_RFP,SD_GFP,SD_DAPI,SD_BF,SD_NIR\n",
      "\n",
      "Detecting infection load...\n",
      "Total cells: 1834\n",
      "Percentage infected:20.17\n",
      "Extracting per marker intensity information...\n",
      "Detecting spots in puncta markers...\n"
     ]
    },
    {
     "name": "stderr",
     "output_type": "stream",
     "text": []
    },
    {
     "name": "stdout",
     "output_type": "stream",
     "text": [
      "\n",
      "Image analyzed: Plate01_Nuc_Wells-F1__Channel_SD_AF647,SD_RFP,SD_GFP,SD_DAPI,SD_BF,SD_NIR\n",
      "\n",
      "Detecting infection load...\n",
      "Total cells: 2534\n",
      "Percentage infected:25.41\n",
      "Extracting per marker intensity information...\n",
      "Detecting spots in puncta markers...\n"
     ]
    },
    {
     "name": "stderr",
     "output_type": "stream",
     "text": []
    },
    {
     "name": "stdout",
     "output_type": "stream",
     "text": [
      "\n",
      "Image analyzed: Plate01_Nuc_Wells-F2__Channel_SD_AF647,SD_RFP,SD_GFP,SD_DAPI,SD_BF,SD_NIR\n",
      "\n",
      "Detecting infection load...\n",
      "Total cells: 2349\n",
      "Percentage infected:26.48\n",
      "Extracting per marker intensity information...\n",
      "Detecting spots in puncta markers...\n"
     ]
    },
    {
     "name": "stderr",
     "output_type": "stream",
     "text": []
    },
    {
     "name": "stdout",
     "output_type": "stream",
     "text": [
      "\n",
      "Image analyzed: Plate01_Nuc_Wells-F3__Channel_SD_AF647,SD_RFP,SD_GFP,SD_DAPI,SD_BF,SD_NIR\n",
      "\n",
      "Detecting infection load...\n",
      "Total cells: 2384\n",
      "Percentage infected:26.93\n",
      "Extracting per marker intensity information...\n",
      "Detecting spots in puncta markers...\n"
     ]
    },
    {
     "name": "stderr",
     "output_type": "stream",
     "text": []
    },
    {
     "name": "stdout",
     "output_type": "stream",
     "text": [
      "\n",
      "Image analyzed: Plate01_Nuc_Wells-F4__Channel_SD_AF647,SD_RFP,SD_GFP,SD_DAPI,SD_BF,SD_NIR\n",
      "\n",
      "Detecting infection load...\n",
      "Total cells: 2348\n",
      "Percentage infected:25.72\n",
      "Extracting per marker intensity information...\n",
      "Detecting spots in puncta markers...\n"
     ]
    },
    {
     "name": "stderr",
     "output_type": "stream",
     "text": []
    },
    {
     "name": "stdout",
     "output_type": "stream",
     "text": [
      "\n",
      "Image analyzed: Plate01_Nuc_Wells-F5__Channel_SD_AF647,SD_RFP,SD_GFP,SD_DAPI,SD_BF,SD_NIR\n",
      "\n",
      "Detecting infection load...\n",
      "Total cells: 2300\n",
      "Percentage infected:29.39\n",
      "Extracting per marker intensity information...\n",
      "Detecting spots in puncta markers...\n"
     ]
    },
    {
     "name": "stderr",
     "output_type": "stream",
     "text": []
    },
    {
     "name": "stdout",
     "output_type": "stream",
     "text": [
      "\n",
      "Image analyzed: Plate01_Nuc_Wells-F6__Channel_SD_AF647,SD_RFP,SD_GFP,SD_DAPI,SD_BF,SD_NIR\n",
      "\n",
      "Detecting infection load...\n",
      "Total cells: 2378\n",
      "Percentage infected:34.19\n",
      "Extracting per marker intensity information...\n",
      "Detecting spots in puncta markers...\n"
     ]
    },
    {
     "name": "stderr",
     "output_type": "stream",
     "text": []
    },
    {
     "name": "stdout",
     "output_type": "stream",
     "text": [
      "\n",
      "Image analyzed: Plate01_Nuc_Wells-F7__Channel_SD_AF647,SD_RFP,SD_GFP,SD_DAPI,SD_BF,SD_NIR\n",
      "\n",
      "Detecting infection load...\n",
      "Total cells: 2259\n",
      "Percentage infected:26.78\n",
      "Extracting per marker intensity information...\n",
      "Detecting spots in puncta markers...\n"
     ]
    },
    {
     "name": "stderr",
     "output_type": "stream",
     "text": []
    },
    {
     "name": "stdout",
     "output_type": "stream",
     "text": [
      "\n",
      "Image analyzed: Plate01_Nuc_Wells-F8__Channel_SD_AF647,SD_RFP,SD_GFP,SD_DAPI,SD_BF,SD_NIR\n",
      "\n",
      "Detecting infection load...\n",
      "Total cells: 2096\n",
      "Percentage infected:27.43\n",
      "Extracting per marker intensity information...\n",
      "Detecting spots in puncta markers...\n"
     ]
    },
    {
     "name": "stderr",
     "output_type": "stream",
     "text": []
    },
    {
     "name": "stdout",
     "output_type": "stream",
     "text": [
      "\n",
      "Image analyzed: Plate01_Nuc_Wells-F9__Channel_SD_AF647,SD_RFP,SD_GFP,SD_DAPI,SD_BF,SD_NIR\n",
      "\n",
      "Detecting infection load...\n",
      "Total cells: 1696\n",
      "Percentage infected:24.17\n",
      "Extracting per marker intensity information...\n",
      "Detecting spots in puncta markers...\n"
     ]
    },
    {
     "name": "stderr",
     "output_type": "stream",
     "text": []
    },
    {
     "name": "stdout",
     "output_type": "stream",
     "text": [
      "\n",
      "Image analyzed: Plate01_Nuc_Wells-G10__Channel_SD_AF647,SD_RFP,SD_GFP,SD_DAPI,SD_BF,SD_NIR\n",
      "\n",
      "Detecting infection load...\n",
      "Total cells: 1870\n",
      "Percentage infected:23.42\n",
      "Extracting per marker intensity information...\n",
      "Detecting spots in puncta markers...\n"
     ]
    },
    {
     "name": "stderr",
     "output_type": "stream",
     "text": []
    },
    {
     "name": "stdout",
     "output_type": "stream",
     "text": [
      "\n",
      "Image analyzed: Plate01_Nuc_Wells-G11__Channel_SD_AF647,SD_RFP,SD_GFP,SD_DAPI,SD_BF,SD_NIR\n",
      "\n",
      "Detecting infection load...\n",
      "Total cells: 2181\n",
      "Percentage infected:21.64\n",
      "Extracting per marker intensity information...\n",
      "Detecting spots in puncta markers...\n"
     ]
    },
    {
     "name": "stderr",
     "output_type": "stream",
     "text": []
    },
    {
     "name": "stdout",
     "output_type": "stream",
     "text": [
      "\n",
      "Image analyzed: Plate01_Nuc_Wells-G12__Channel_SD_AF647,SD_RFP,SD_GFP,SD_DAPI,SD_BF,SD_NIR\n",
      "\n",
      "Detecting infection load...\n",
      "Total cells: 2010\n",
      "Percentage infected:21.39\n",
      "Extracting per marker intensity information...\n",
      "Detecting spots in puncta markers...\n"
     ]
    },
    {
     "name": "stderr",
     "output_type": "stream",
     "text": []
    },
    {
     "name": "stdout",
     "output_type": "stream",
     "text": [
      "\n",
      "Image analyzed: Plate01_Nuc_Wells-G1__Channel_SD_AF647,SD_RFP,SD_GFP,SD_DAPI,SD_BF,SD_NIR\n",
      "\n",
      "Detecting infection load...\n",
      "Total cells: 2313\n",
      "Percentage infected:20.84\n",
      "Extracting per marker intensity information...\n",
      "Detecting spots in puncta markers...\n"
     ]
    },
    {
     "name": "stderr",
     "output_type": "stream",
     "text": []
    },
    {
     "name": "stdout",
     "output_type": "stream",
     "text": [
      "\n",
      "Image analyzed: Plate01_Nuc_Wells-G2__Channel_SD_AF647,SD_RFP,SD_GFP,SD_DAPI,SD_BF,SD_NIR\n",
      "\n",
      "Detecting infection load...\n",
      "Total cells: 2216\n",
      "Percentage infected:29.92\n",
      "Extracting per marker intensity information...\n",
      "Detecting spots in puncta markers...\n"
     ]
    },
    {
     "name": "stderr",
     "output_type": "stream",
     "text": []
    },
    {
     "name": "stdout",
     "output_type": "stream",
     "text": [
      "\n",
      "Image analyzed: Plate01_Nuc_Wells-G3__Channel_SD_AF647,SD_RFP,SD_GFP,SD_DAPI,SD_BF,SD_NIR\n",
      "\n",
      "Detecting infection load...\n",
      "Total cells: 1694\n",
      "Percentage infected:29.63\n",
      "Extracting per marker intensity information...\n",
      "Detecting spots in puncta markers...\n"
     ]
    },
    {
     "name": "stderr",
     "output_type": "stream",
     "text": []
    },
    {
     "name": "stdout",
     "output_type": "stream",
     "text": [
      "\n",
      "Image analyzed: Plate01_Nuc_Wells-G4__Channel_SD_AF647,SD_RFP,SD_GFP,SD_DAPI,SD_BF,SD_NIR\n",
      "\n",
      "Detecting infection load...\n",
      "Total cells: 2468\n",
      "Percentage infected:33.67\n",
      "Extracting per marker intensity information...\n",
      "Detecting spots in puncta markers...\n"
     ]
    },
    {
     "name": "stderr",
     "output_type": "stream",
     "text": []
    },
    {
     "name": "stdout",
     "output_type": "stream",
     "text": [
      "\n",
      "Image analyzed: Plate01_Nuc_Wells-G5__Channel_SD_AF647,SD_RFP,SD_GFP,SD_DAPI,SD_BF,SD_NIR\n",
      "\n",
      "Detecting infection load...\n",
      "Total cells: 2771\n",
      "Percentage infected:29.92\n",
      "Extracting per marker intensity information...\n",
      "Detecting spots in puncta markers...\n"
     ]
    },
    {
     "name": "stderr",
     "output_type": "stream",
     "text": []
    },
    {
     "name": "stdout",
     "output_type": "stream",
     "text": [
      "\n",
      "Image analyzed: Plate01_Nuc_Wells-G6__Channel_SD_AF647,SD_RFP,SD_GFP,SD_DAPI,SD_BF,SD_NIR\n",
      "\n",
      "Detecting infection load...\n",
      "Total cells: 2761\n",
      "Percentage infected:28.25\n",
      "Extracting per marker intensity information...\n",
      "Detecting spots in puncta markers...\n"
     ]
    },
    {
     "name": "stderr",
     "output_type": "stream",
     "text": []
    },
    {
     "name": "stdout",
     "output_type": "stream",
     "text": [
      "\n",
      "Image analyzed: Plate01_Nuc_Wells-G7__Channel_SD_AF647,SD_RFP,SD_GFP,SD_DAPI,SD_BF,SD_NIR\n",
      "\n",
      "Detecting infection load...\n",
      "Total cells: 2494\n",
      "Percentage infected:27.99\n",
      "Extracting per marker intensity information...\n",
      "Detecting spots in puncta markers...\n"
     ]
    },
    {
     "name": "stderr",
     "output_type": "stream",
     "text": []
    },
    {
     "name": "stdout",
     "output_type": "stream",
     "text": [
      "\n",
      "Image analyzed: Plate01_Nuc_Wells-G8__Channel_SD_AF647,SD_RFP,SD_GFP,SD_DAPI,SD_BF,SD_NIR\n",
      "\n",
      "Detecting infection load...\n",
      "Total cells: 2255\n",
      "Percentage infected:29.84\n",
      "Extracting per marker intensity information...\n",
      "Detecting spots in puncta markers...\n"
     ]
    },
    {
     "name": "stderr",
     "output_type": "stream",
     "text": []
    },
    {
     "name": "stdout",
     "output_type": "stream",
     "text": [
      "\n",
      "Image analyzed: Plate01_Nuc_Wells-G9__Channel_SD_AF647,SD_RFP,SD_GFP,SD_DAPI,SD_BF,SD_NIR\n",
      "\n",
      "Detecting infection load...\n",
      "Total cells: 2306\n",
      "Percentage infected:26.71\n",
      "Extracting per marker intensity information...\n",
      "Detecting spots in puncta markers...\n"
     ]
    },
    {
     "name": "stderr",
     "output_type": "stream",
     "text": []
    },
    {
     "name": "stdout",
     "output_type": "stream",
     "text": [
      "\n",
      "Image analyzed: Plate01_Nuc_Wells-H10__Channel_SD_AF647,SD_RFP,SD_GFP,SD_DAPI,SD_BF,SD_NIR\n",
      "\n",
      "Detecting infection load...\n",
      "Total cells: 1689\n",
      "Percentage infected:23.62\n",
      "Extracting per marker intensity information...\n",
      "Detecting spots in puncta markers...\n"
     ]
    },
    {
     "name": "stderr",
     "output_type": "stream",
     "text": []
    },
    {
     "name": "stdout",
     "output_type": "stream",
     "text": [
      "\n",
      "Image analyzed: Plate01_Nuc_Wells-H11__Channel_SD_AF647,SD_RFP,SD_GFP,SD_DAPI,SD_BF,SD_NIR\n",
      "\n",
      "Detecting infection load...\n",
      "Total cells: 2190\n",
      "Percentage infected:25.84\n",
      "Extracting per marker intensity information...\n",
      "Detecting spots in puncta markers...\n"
     ]
    },
    {
     "name": "stderr",
     "output_type": "stream",
     "text": []
    },
    {
     "name": "stdout",
     "output_type": "stream",
     "text": [
      "\n",
      "Image analyzed: Plate01_Nuc_Wells-H12__Channel_SD_AF647,SD_RFP,SD_GFP,SD_DAPI,SD_BF,SD_NIR\n",
      "\n",
      "Detecting infection load...\n",
      "Total cells: 2175\n",
      "Percentage infected:22.85\n",
      "Extracting per marker intensity information...\n",
      "Detecting spots in puncta markers...\n"
     ]
    },
    {
     "name": "stderr",
     "output_type": "stream",
     "text": []
    },
    {
     "name": "stdout",
     "output_type": "stream",
     "text": [
      "\n",
      "Image analyzed: Plate01_Nuc_Wells-H1__Channel_SD_AF647,SD_RFP,SD_GFP,SD_DAPI,SD_BF,SD_NIR\n",
      "\n",
      "Detecting infection load...\n",
      "Total cells: 1929\n",
      "Percentage infected:0.73\n",
      "Extracting per marker intensity information...\n",
      "Detecting spots in puncta markers...\n"
     ]
    },
    {
     "name": "stderr",
     "output_type": "stream",
     "text": []
    },
    {
     "name": "stdout",
     "output_type": "stream",
     "text": [
      "\n",
      "Image analyzed: Plate01_Nuc_Wells-H2__Channel_SD_AF647,SD_RFP,SD_GFP,SD_DAPI,SD_BF,SD_NIR\n",
      "\n",
      "Detecting infection load...\n",
      "Total cells: 2531\n",
      "Percentage infected:22.76\n",
      "Extracting per marker intensity information...\n",
      "Detecting spots in puncta markers...\n"
     ]
    },
    {
     "name": "stderr",
     "output_type": "stream",
     "text": []
    },
    {
     "name": "stdout",
     "output_type": "stream",
     "text": [
      "\n",
      "Image analyzed: Plate01_Nuc_Wells-H3__Channel_SD_AF647,SD_RFP,SD_GFP,SD_DAPI,SD_BF,SD_NIR\n",
      "\n",
      "Detecting infection load...\n",
      "Total cells: 2263\n",
      "Percentage infected:26.6\n",
      "Extracting per marker intensity information...\n",
      "Detecting spots in puncta markers...\n"
     ]
    },
    {
     "name": "stderr",
     "output_type": "stream",
     "text": []
    },
    {
     "name": "stdout",
     "output_type": "stream",
     "text": [
      "\n",
      "Image analyzed: Plate01_Nuc_Wells-H4__Channel_SD_AF647,SD_RFP,SD_GFP,SD_DAPI,SD_BF,SD_NIR\n",
      "\n",
      "Detecting infection load...\n",
      "Total cells: 2654\n",
      "Percentage infected:25.21\n",
      "Extracting per marker intensity information...\n",
      "Detecting spots in puncta markers...\n"
     ]
    },
    {
     "name": "stderr",
     "output_type": "stream",
     "text": []
    },
    {
     "name": "stdout",
     "output_type": "stream",
     "text": [
      "\n",
      "Image analyzed: Plate01_Nuc_Wells-H5__Channel_SD_AF647,SD_RFP,SD_GFP,SD_DAPI,SD_BF,SD_NIR\n",
      "\n",
      "Detecting infection load...\n",
      "Total cells: 2497\n",
      "Percentage infected:25.27\n",
      "Extracting per marker intensity information...\n",
      "Detecting spots in puncta markers...\n"
     ]
    },
    {
     "name": "stderr",
     "output_type": "stream",
     "text": []
    },
    {
     "name": "stdout",
     "output_type": "stream",
     "text": [
      "\n",
      "Image analyzed: Plate01_Nuc_Wells-H6__Channel_SD_AF647,SD_RFP,SD_GFP,SD_DAPI,SD_BF,SD_NIR\n",
      "\n",
      "Detecting infection load...\n",
      "Total cells: 2398\n",
      "Percentage infected:28.69\n",
      "Extracting per marker intensity information...\n",
      "Detecting spots in puncta markers...\n"
     ]
    },
    {
     "name": "stderr",
     "output_type": "stream",
     "text": []
    },
    {
     "name": "stdout",
     "output_type": "stream",
     "text": [
      "\n",
      "Image analyzed: Plate01_Nuc_Wells-H7__Channel_SD_AF647,SD_RFP,SD_GFP,SD_DAPI,SD_BF,SD_NIR\n",
      "\n",
      "Detecting infection load...\n",
      "Total cells: 2458\n",
      "Percentage infected:28.97\n",
      "Extracting per marker intensity information...\n",
      "Detecting spots in puncta markers...\n"
     ]
    },
    {
     "name": "stderr",
     "output_type": "stream",
     "text": []
    },
    {
     "name": "stdout",
     "output_type": "stream",
     "text": [
      "\n",
      "Image analyzed: Plate01_Nuc_Wells-H8__Channel_SD_AF647,SD_RFP,SD_GFP,SD_DAPI,SD_BF,SD_NIR\n",
      "\n",
      "Detecting infection load...\n",
      "Total cells: 2707\n",
      "Percentage infected:26.3\n",
      "Extracting per marker intensity information...\n",
      "Detecting spots in puncta markers...\n"
     ]
    },
    {
     "name": "stderr",
     "output_type": "stream",
     "text": []
    },
    {
     "name": "stdout",
     "output_type": "stream",
     "text": [
      "\n",
      "Image analyzed: Plate01_Nuc_Wells-H9__Channel_SD_AF647,SD_RFP,SD_GFP,SD_DAPI,SD_BF,SD_NIR\n",
      "\n",
      "Detecting infection load...\n",
      "Total cells: 2191\n",
      "Percentage infected:28.57\n",
      "Extracting per marker intensity information...\n",
      "Detecting spots in puncta markers...\n"
     ]
    },
    {
     "name": "stderr",
     "output_type": "stream",
     "text": [
      "100%|██████████| 96/96 [48:20<00:00, 30.21s/it]\n",
      "  6%|▌         | 1/17 [48:23<12:54:20, 2903.77s/it]"
     ]
    },
    {
     "name": "stdout",
     "output_type": "stream",
     "text": [
      "Analyzing Plate: Plate 02_Nuc\n"
     ]
    },
    {
     "name": "stderr",
     "output_type": "stream",
     "text": []
    },
    {
     "name": "stdout",
     "output_type": "stream",
     "text": [
      "\n",
      "Image analyzed: Plate02_Nuc_Wells-B3__Channel_SD_AF647,SD_RFP,SD_GFP,SD_DAPI,SD_BF,SD_NIR\n",
      "\n",
      "Detecting infection load...\n",
      "Total cells: 2127\n",
      "Percentage infected:27.6\n",
      "Extracting per marker intensity information...\n",
      "Detecting spots in puncta markers...\n"
     ]
    },
    {
     "name": "stderr",
     "output_type": "stream",
     "text": []
    },
    {
     "name": "stdout",
     "output_type": "stream",
     "text": [
      "\n",
      "Image analyzed: Plate02_Nuc_Wells-B4__Channel_SD_AF647,SD_RFP,SD_GFP,SD_DAPI,SD_BF,SD_NIR\n",
      "\n",
      "Detecting infection load...\n",
      "Total cells: 2337\n",
      "Percentage infected:22.04\n",
      "Extracting per marker intensity information...\n",
      "Detecting spots in puncta markers...\n"
     ]
    },
    {
     "name": "stderr",
     "output_type": "stream",
     "text": []
    },
    {
     "name": "stdout",
     "output_type": "stream",
     "text": [
      "\n",
      "Image analyzed: Plate02_Nuc_Wells-B5__Channel_SD_AF647,SD_RFP,SD_GFP,SD_DAPI,SD_BF,SD_NIR\n",
      "\n",
      "Detecting infection load...\n",
      "Total cells: 2835\n",
      "Percentage infected:27.62\n",
      "Extracting per marker intensity information...\n",
      "Detecting spots in puncta markers...\n"
     ]
    },
    {
     "name": "stderr",
     "output_type": "stream",
     "text": []
    },
    {
     "name": "stdout",
     "output_type": "stream",
     "text": [
      "\n",
      "Image analyzed: Plate02_Nuc_Wells-B6__Channel_SD_AF647,SD_RFP,SD_GFP,SD_DAPI,SD_BF,SD_NIR\n",
      "\n",
      "Detecting infection load...\n",
      "Total cells: 2088\n",
      "Percentage infected:27.3\n",
      "Extracting per marker intensity information...\n",
      "Detecting spots in puncta markers...\n"
     ]
    },
    {
     "name": "stderr",
     "output_type": "stream",
     "text": []
    },
    {
     "name": "stdout",
     "output_type": "stream",
     "text": [
      "\n",
      "Image analyzed: Plate02_Nuc_Wells-B7__Channel_SD_AF647,SD_RFP,SD_GFP,SD_DAPI,SD_BF,SD_NIR\n",
      "\n",
      "Detecting infection load...\n",
      "Total cells: 2690\n",
      "Percentage infected:30.15\n",
      "Extracting per marker intensity information...\n",
      "Detecting spots in puncta markers...\n"
     ]
    },
    {
     "name": "stderr",
     "output_type": "stream",
     "text": []
    },
    {
     "name": "stdout",
     "output_type": "stream",
     "text": [
      "\n",
      "Image analyzed: Plate02_Nuc_Wells-B8__Channel_SD_AF647,SD_RFP,SD_GFP,SD_DAPI,SD_BF,SD_NIR\n",
      "\n",
      "Detecting infection load...\n",
      "Total cells: 2028\n",
      "Percentage infected:24.9\n",
      "Extracting per marker intensity information...\n",
      "Detecting spots in puncta markers...\n"
     ]
    },
    {
     "name": "stderr",
     "output_type": "stream",
     "text": []
    },
    {
     "name": "stdout",
     "output_type": "stream",
     "text": [
      "\n",
      "Image analyzed: Plate02_Nuc_Wells-B9__Channel_SD_AF647,SD_RFP,SD_GFP,SD_DAPI,SD_BF,SD_NIR\n",
      "\n",
      "Detecting infection load...\n",
      "Total cells: 2116\n",
      "Percentage infected:21.22\n",
      "Extracting per marker intensity information...\n",
      "Detecting spots in puncta markers...\n"
     ]
    },
    {
     "name": "stderr",
     "output_type": "stream",
     "text": []
    },
    {
     "name": "stdout",
     "output_type": "stream",
     "text": [
      "\n",
      "Image analyzed: Plate02_Nuc_Wells-B10__Channel_SD_AF647,SD_RFP,SD_GFP,SD_DAPI,SD_BF,SD_NIR\n",
      "\n",
      "Detecting infection load...\n",
      "Total cells: 2438\n",
      "Percentage infected:19.65\n",
      "Extracting per marker intensity information...\n",
      "Detecting spots in puncta markers...\n"
     ]
    },
    {
     "name": "stderr",
     "output_type": "stream",
     "text": []
    },
    {
     "name": "stdout",
     "output_type": "stream",
     "text": [
      "\n",
      "Image analyzed: Plate02_Nuc_Wells-B11__Channel_SD_AF647,SD_RFP,SD_GFP,SD_DAPI,SD_BF,SD_NIR\n",
      "\n",
      "Detecting infection load...\n",
      "Total cells: 1776\n",
      "Percentage infected:23.25\n",
      "Extracting per marker intensity information...\n",
      "Detecting spots in puncta markers...\n"
     ]
    },
    {
     "name": "stderr",
     "output_type": "stream",
     "text": []
    },
    {
     "name": "stdout",
     "output_type": "stream",
     "text": [
      "\n",
      "Image analyzed: Plate02_Nuc_Wells-B12__Channel_SD_AF647,SD_RFP,SD_GFP,SD_DAPI,SD_BF,SD_NIR\n",
      "\n",
      "Detecting infection load...\n",
      "Total cells: 1359\n",
      "Percentage infected:19.94\n",
      "Extracting per marker intensity information...\n",
      "Detecting spots in puncta markers...\n"
     ]
    },
    {
     "name": "stderr",
     "output_type": "stream",
     "text": []
    },
    {
     "name": "stdout",
     "output_type": "stream",
     "text": [
      "\n",
      "Image analyzed: Plate02_Nuc_Wells-C1__Channel_SD_AF647,SD_RFP,SD_GFP,SD_DAPI,SD_BF,SD_NIR\n",
      "\n",
      "Detecting infection load...\n",
      "Total cells: 2316\n",
      "Percentage infected:17.31\n",
      "Extracting per marker intensity information...\n",
      "Detecting spots in puncta markers...\n"
     ]
    },
    {
     "name": "stderr",
     "output_type": "stream",
     "text": []
    },
    {
     "name": "stdout",
     "output_type": "stream",
     "text": [
      "\n",
      "Image analyzed: Plate02_Nuc_Wells-C2__Channel_SD_AF647,SD_RFP,SD_GFP,SD_DAPI,SD_BF,SD_NIR\n",
      "\n",
      "Detecting infection load...\n",
      "Total cells: 2641\n",
      "Percentage infected:19.54\n",
      "Extracting per marker intensity information...\n",
      "Detecting spots in puncta markers...\n"
     ]
    },
    {
     "name": "stderr",
     "output_type": "stream",
     "text": []
    },
    {
     "name": "stdout",
     "output_type": "stream",
     "text": [
      "\n",
      "Image analyzed: Plate02_Nuc_Wells-C3__Channel_SD_AF647,SD_RFP,SD_GFP,SD_DAPI,SD_BF,SD_NIR\n",
      "\n",
      "Detecting infection load...\n",
      "Total cells: 2554\n",
      "Percentage infected:24.39\n",
      "Extracting per marker intensity information...\n",
      "Detecting spots in puncta markers...\n"
     ]
    },
    {
     "name": "stderr",
     "output_type": "stream",
     "text": []
    },
    {
     "name": "stdout",
     "output_type": "stream",
     "text": [
      "\n",
      "Image analyzed: Plate02_Nuc_Wells-C4__Channel_SD_AF647,SD_RFP,SD_GFP,SD_DAPI,SD_BF,SD_NIR\n",
      "\n",
      "Detecting infection load...\n",
      "Total cells: 2362\n",
      "Percentage infected:23.07\n",
      "Extracting per marker intensity information...\n",
      "Detecting spots in puncta markers...\n"
     ]
    },
    {
     "name": "stderr",
     "output_type": "stream",
     "text": []
    },
    {
     "name": "stdout",
     "output_type": "stream",
     "text": [
      "\n",
      "Image analyzed: Plate02_Nuc_Wells-C5__Channel_SD_AF647,SD_RFP,SD_GFP,SD_DAPI,SD_BF,SD_NIR\n",
      "\n",
      "Detecting infection load...\n",
      "Total cells: 2346\n",
      "Percentage infected:26.0\n",
      "Extracting per marker intensity information...\n",
      "Detecting spots in puncta markers...\n"
     ]
    },
    {
     "name": "stderr",
     "output_type": "stream",
     "text": []
    },
    {
     "name": "stdout",
     "output_type": "stream",
     "text": [
      "\n",
      "Image analyzed: Plate02_Nuc_Wells-C6__Channel_SD_AF647,SD_RFP,SD_GFP,SD_DAPI,SD_BF,SD_NIR\n",
      "\n",
      "Detecting infection load...\n",
      "Total cells: 2882\n",
      "Percentage infected:24.36\n",
      "Extracting per marker intensity information...\n",
      "Detecting spots in puncta markers...\n"
     ]
    },
    {
     "name": "stderr",
     "output_type": "stream",
     "text": []
    },
    {
     "name": "stdout",
     "output_type": "stream",
     "text": [
      "\n",
      "Image analyzed: Plate02_Nuc_Wells-C7__Channel_SD_AF647,SD_RFP,SD_GFP,SD_DAPI,SD_BF,SD_NIR\n",
      "\n",
      "Detecting infection load...\n",
      "Total cells: 2826\n",
      "Percentage infected:26.75\n",
      "Extracting per marker intensity information...\n",
      "Detecting spots in puncta markers...\n"
     ]
    },
    {
     "name": "stderr",
     "output_type": "stream",
     "text": []
    },
    {
     "name": "stdout",
     "output_type": "stream",
     "text": [
      "\n",
      "Image analyzed: Plate02_Nuc_Wells-C8__Channel_SD_AF647,SD_RFP,SD_GFP,SD_DAPI,SD_BF,SD_NIR\n",
      "\n",
      "Detecting infection load...\n",
      "Total cells: 2336\n",
      "Percentage infected:23.29\n",
      "Extracting per marker intensity information...\n",
      "Detecting spots in puncta markers...\n"
     ]
    },
    {
     "name": "stderr",
     "output_type": "stream",
     "text": []
    },
    {
     "name": "stdout",
     "output_type": "stream",
     "text": [
      "\n",
      "Image analyzed: Plate02_Nuc_Wells-C9__Channel_SD_AF647,SD_RFP,SD_GFP,SD_DAPI,SD_BF,SD_NIR\n",
      "\n",
      "Detecting infection load...\n",
      "Total cells: 1755\n",
      "Percentage infected:21.37\n",
      "Extracting per marker intensity information...\n",
      "Detecting spots in puncta markers...\n"
     ]
    },
    {
     "name": "stderr",
     "output_type": "stream",
     "text": []
    },
    {
     "name": "stdout",
     "output_type": "stream",
     "text": [
      "\n",
      "Image analyzed: Plate02_Nuc_Wells-C10__Channel_SD_AF647,SD_RFP,SD_GFP,SD_DAPI,SD_BF,SD_NIR\n",
      "\n",
      "Detecting infection load...\n",
      "Total cells: 1794\n",
      "Percentage infected:21.91\n",
      "Extracting per marker intensity information...\n",
      "Detecting spots in puncta markers...\n"
     ]
    },
    {
     "name": "stderr",
     "output_type": "stream",
     "text": []
    },
    {
     "name": "stdout",
     "output_type": "stream",
     "text": [
      "\n",
      "Image analyzed: Plate02_Nuc_Wells-C11__Channel_SD_AF647,SD_RFP,SD_GFP,SD_DAPI,SD_BF,SD_NIR\n",
      "\n",
      "Detecting infection load...\n",
      "Total cells: 1457\n",
      "Percentage infected:24.91\n",
      "Extracting per marker intensity information...\n",
      "Detecting spots in puncta markers...\n"
     ]
    },
    {
     "name": "stderr",
     "output_type": "stream",
     "text": []
    },
    {
     "name": "stdout",
     "output_type": "stream",
     "text": [
      "\n",
      "Image analyzed: Plate02_Nuc_Wells-C12__Channel_SD_AF647,SD_RFP,SD_GFP,SD_DAPI,SD_BF,SD_NIR\n",
      "\n",
      "Detecting infection load...\n",
      "Total cells: 1058\n",
      "Percentage infected:21.36\n",
      "Extracting per marker intensity information...\n",
      "Detecting spots in puncta markers...\n"
     ]
    },
    {
     "name": "stderr",
     "output_type": "stream",
     "text": []
    },
    {
     "name": "stdout",
     "output_type": "stream",
     "text": [
      "\n",
      "Image analyzed: Plate02_Nuc_Wells-D1__Channel_SD_AF647,SD_RFP,SD_GFP,SD_DAPI,SD_BF,SD_NIR\n",
      "\n",
      "Detecting infection load...\n",
      "Total cells: 2457\n",
      "Percentage infected:23.08\n",
      "Extracting per marker intensity information...\n",
      "Detecting spots in puncta markers...\n"
     ]
    },
    {
     "name": "stderr",
     "output_type": "stream",
     "text": []
    },
    {
     "name": "stdout",
     "output_type": "stream",
     "text": [
      "\n",
      "Image analyzed: Plate02_Nuc_Wells-D2__Channel_SD_AF647,SD_RFP,SD_GFP,SD_DAPI,SD_BF,SD_NIR\n",
      "\n",
      "Detecting infection load...\n",
      "Total cells: 2682\n",
      "Percentage infected:23.23\n",
      "Extracting per marker intensity information...\n",
      "Detecting spots in puncta markers...\n"
     ]
    },
    {
     "name": "stderr",
     "output_type": "stream",
     "text": []
    },
    {
     "name": "stdout",
     "output_type": "stream",
     "text": [
      "\n",
      "Image analyzed: Plate02_Nuc_Wells-D3__Channel_SD_AF647,SD_RFP,SD_GFP,SD_DAPI,SD_BF,SD_NIR\n",
      "\n",
      "Detecting infection load...\n",
      "Total cells: 1963\n",
      "Percentage infected:25.73\n",
      "Extracting per marker intensity information...\n",
      "Detecting spots in puncta markers...\n"
     ]
    },
    {
     "name": "stderr",
     "output_type": "stream",
     "text": []
    },
    {
     "name": "stdout",
     "output_type": "stream",
     "text": [
      "\n",
      "Image analyzed: Plate02_Nuc_Wells-D4__Channel_SD_AF647,SD_RFP,SD_GFP,SD_DAPI,SD_BF,SD_NIR\n",
      "\n",
      "Detecting infection load...\n",
      "Total cells: 2742\n",
      "Percentage infected:28.63\n",
      "Extracting per marker intensity information...\n",
      "Detecting spots in puncta markers...\n"
     ]
    },
    {
     "name": "stderr",
     "output_type": "stream",
     "text": []
    },
    {
     "name": "stdout",
     "output_type": "stream",
     "text": [
      "\n",
      "Image analyzed: Plate02_Nuc_Wells-D5__Channel_SD_AF647,SD_RFP,SD_GFP,SD_DAPI,SD_BF,SD_NIR\n",
      "\n",
      "Detecting infection load...\n",
      "Total cells: 2195\n",
      "Percentage infected:27.61\n",
      "Extracting per marker intensity information...\n",
      "Detecting spots in puncta markers...\n"
     ]
    },
    {
     "name": "stderr",
     "output_type": "stream",
     "text": []
    },
    {
     "name": "stdout",
     "output_type": "stream",
     "text": [
      "\n",
      "Image analyzed: Plate02_Nuc_Wells-D6__Channel_SD_AF647,SD_RFP,SD_GFP,SD_DAPI,SD_BF,SD_NIR\n",
      "\n",
      "Detecting infection load...\n",
      "Total cells: 2497\n",
      "Percentage infected:25.87\n",
      "Extracting per marker intensity information...\n",
      "Detecting spots in puncta markers...\n"
     ]
    },
    {
     "name": "stderr",
     "output_type": "stream",
     "text": []
    },
    {
     "name": "stdout",
     "output_type": "stream",
     "text": [
      "\n",
      "Image analyzed: Plate02_Nuc_Wells-D7__Channel_SD_AF647,SD_RFP,SD_GFP,SD_DAPI,SD_BF,SD_NIR\n",
      "\n",
      "Detecting infection load...\n",
      "Total cells: 1972\n",
      "Percentage infected:30.38\n",
      "Extracting per marker intensity information...\n",
      "Detecting spots in puncta markers...\n"
     ]
    },
    {
     "name": "stderr",
     "output_type": "stream",
     "text": []
    },
    {
     "name": "stdout",
     "output_type": "stream",
     "text": [
      "\n",
      "Image analyzed: Plate02_Nuc_Wells-D8__Channel_SD_AF647,SD_RFP,SD_GFP,SD_DAPI,SD_BF,SD_NIR\n",
      "\n",
      "Detecting infection load...\n",
      "Total cells: 2763\n",
      "Percentage infected:21.25\n",
      "Extracting per marker intensity information...\n",
      "Detecting spots in puncta markers...\n"
     ]
    },
    {
     "name": "stderr",
     "output_type": "stream",
     "text": []
    },
    {
     "name": "stdout",
     "output_type": "stream",
     "text": [
      "\n",
      "Image analyzed: Plate02_Nuc_Wells-D9__Channel_SD_AF647,SD_RFP,SD_GFP,SD_DAPI,SD_BF,SD_NIR\n",
      "\n",
      "Detecting infection load...\n",
      "Total cells: 2160\n",
      "Percentage infected:24.58\n",
      "Extracting per marker intensity information...\n",
      "Detecting spots in puncta markers...\n"
     ]
    },
    {
     "name": "stderr",
     "output_type": "stream",
     "text": []
    },
    {
     "name": "stdout",
     "output_type": "stream",
     "text": [
      "\n",
      "Image analyzed: Plate02_Nuc_Wells-D10__Channel_SD_AF647,SD_RFP,SD_GFP,SD_DAPI,SD_BF,SD_NIR\n",
      "\n",
      "Detecting infection load...\n",
      "Total cells: 1379\n",
      "Percentage infected:23.57\n",
      "Extracting per marker intensity information...\n",
      "Detecting spots in puncta markers...\n"
     ]
    },
    {
     "name": "stderr",
     "output_type": "stream",
     "text": []
    },
    {
     "name": "stdout",
     "output_type": "stream",
     "text": [
      "\n",
      "Image analyzed: Plate02_Nuc_Wells-D11__Channel_SD_AF647,SD_RFP,SD_GFP,SD_DAPI,SD_BF,SD_NIR\n",
      "\n",
      "Detecting infection load...\n",
      "Total cells: 1316\n",
      "Percentage infected:18.92\n",
      "Extracting per marker intensity information...\n",
      "Detecting spots in puncta markers...\n"
     ]
    },
    {
     "name": "stderr",
     "output_type": "stream",
     "text": []
    },
    {
     "name": "stdout",
     "output_type": "stream",
     "text": [
      "\n",
      "Image analyzed: Plate02_Nuc_Wells-D12__Channel_SD_AF647,SD_RFP,SD_GFP,SD_DAPI,SD_BF,SD_NIR\n",
      "\n",
      "Detecting infection load...\n",
      "Total cells: 1572\n",
      "Percentage infected:21.06\n",
      "Extracting per marker intensity information...\n",
      "Detecting spots in puncta markers...\n"
     ]
    },
    {
     "name": "stderr",
     "output_type": "stream",
     "text": []
    },
    {
     "name": "stdout",
     "output_type": "stream",
     "text": [
      "\n",
      "Image analyzed: Plate02_Nuc_Wells-E1__Channel_SD_AF647,SD_RFP,SD_GFP,SD_DAPI,SD_BF,SD_NIR\n",
      "\n",
      "Detecting infection load...\n",
      "Total cells: 1840\n",
      "Percentage infected:19.84\n",
      "Extracting per marker intensity information...\n",
      "Detecting spots in puncta markers...\n"
     ]
    },
    {
     "name": "stderr",
     "output_type": "stream",
     "text": []
    },
    {
     "name": "stdout",
     "output_type": "stream",
     "text": [
      "\n",
      "Image analyzed: Plate02_Nuc_Wells-E2__Channel_SD_AF647,SD_RFP,SD_GFP,SD_DAPI,SD_BF,SD_NIR\n",
      "\n",
      "Detecting infection load...\n",
      "Total cells: 1935\n",
      "Percentage infected:20.72\n",
      "Extracting per marker intensity information...\n",
      "Detecting spots in puncta markers...\n"
     ]
    },
    {
     "name": "stderr",
     "output_type": "stream",
     "text": []
    },
    {
     "name": "stdout",
     "output_type": "stream",
     "text": [
      "\n",
      "Image analyzed: Plate02_Nuc_Wells-E3__Channel_SD_AF647,SD_RFP,SD_GFP,SD_DAPI,SD_BF,SD_NIR\n",
      "\n",
      "Detecting infection load...\n",
      "Total cells: 1828\n",
      "Percentage infected:22.16\n",
      "Extracting per marker intensity information...\n",
      "Detecting spots in puncta markers...\n"
     ]
    },
    {
     "name": "stderr",
     "output_type": "stream",
     "text": []
    },
    {
     "name": "stdout",
     "output_type": "stream",
     "text": [
      "\n",
      "Image analyzed: Plate02_Nuc_Wells-E4__Channel_SD_AF647,SD_RFP,SD_GFP,SD_DAPI,SD_BF,SD_NIR\n",
      "\n",
      "Detecting infection load...\n",
      "Total cells: 2313\n",
      "Percentage infected:26.55\n",
      "Extracting per marker intensity information...\n",
      "Detecting spots in puncta markers...\n"
     ]
    },
    {
     "name": "stderr",
     "output_type": "stream",
     "text": []
    },
    {
     "name": "stdout",
     "output_type": "stream",
     "text": [
      "\n",
      "Image analyzed: Plate02_Nuc_Wells-E5__Channel_SD_AF647,SD_RFP,SD_GFP,SD_DAPI,SD_BF,SD_NIR\n",
      "\n",
      "Detecting infection load...\n",
      "Total cells: 1804\n",
      "Percentage infected:28.82\n",
      "Extracting per marker intensity information...\n",
      "Detecting spots in puncta markers...\n"
     ]
    },
    {
     "name": "stderr",
     "output_type": "stream",
     "text": []
    },
    {
     "name": "stdout",
     "output_type": "stream",
     "text": [
      "\n",
      "Image analyzed: Plate02_Nuc_Wells-E6__Channel_SD_AF647,SD_RFP,SD_GFP,SD_DAPI,SD_BF,SD_NIR\n",
      "\n",
      "Detecting infection load...\n",
      "Total cells: 1891\n",
      "Percentage infected:24.33\n",
      "Extracting per marker intensity information...\n",
      "Detecting spots in puncta markers...\n"
     ]
    },
    {
     "name": "stderr",
     "output_type": "stream",
     "text": []
    },
    {
     "name": "stdout",
     "output_type": "stream",
     "text": [
      "\n",
      "Image analyzed: Plate02_Nuc_Wells-E7__Channel_SD_AF647,SD_RFP,SD_GFP,SD_DAPI,SD_BF,SD_NIR\n",
      "\n",
      "Detecting infection load...\n",
      "Total cells: 1742\n",
      "Percentage infected:25.72\n",
      "Extracting per marker intensity information...\n",
      "Detecting spots in puncta markers...\n"
     ]
    },
    {
     "name": "stderr",
     "output_type": "stream",
     "text": []
    },
    {
     "name": "stdout",
     "output_type": "stream",
     "text": [
      "\n",
      "Image analyzed: Plate02_Nuc_Wells-E8__Channel_SD_AF647,SD_RFP,SD_GFP,SD_DAPI,SD_BF,SD_NIR\n",
      "\n",
      "Detecting infection load...\n",
      "Total cells: 1733\n",
      "Percentage infected:24.12\n",
      "Extracting per marker intensity information...\n",
      "Detecting spots in puncta markers...\n"
     ]
    },
    {
     "name": "stderr",
     "output_type": "stream",
     "text": []
    },
    {
     "name": "stdout",
     "output_type": "stream",
     "text": [
      "\n",
      "Image analyzed: Plate02_Nuc_Wells-E9__Channel_SD_AF647,SD_RFP,SD_GFP,SD_DAPI,SD_BF,SD_NIR\n",
      "\n",
      "Detecting infection load...\n",
      "Total cells: 1879\n",
      "Percentage infected:19.58\n",
      "Extracting per marker intensity information...\n",
      "Detecting spots in puncta markers...\n"
     ]
    },
    {
     "name": "stderr",
     "output_type": "stream",
     "text": []
    },
    {
     "name": "stdout",
     "output_type": "stream",
     "text": [
      "\n",
      "Image analyzed: Plate02_Nuc_Wells-E10__Channel_SD_AF647,SD_RFP,SD_GFP,SD_DAPI,SD_BF,SD_NIR\n",
      "\n",
      "Detecting infection load...\n",
      "Total cells: 2227\n",
      "Percentage infected:18.23\n",
      "Extracting per marker intensity information...\n",
      "Detecting spots in puncta markers...\n"
     ]
    },
    {
     "name": "stderr",
     "output_type": "stream",
     "text": []
    },
    {
     "name": "stdout",
     "output_type": "stream",
     "text": [
      "\n",
      "Image analyzed: Plate02_Nuc_Wells-E11__Channel_SD_AF647,SD_RFP,SD_GFP,SD_DAPI,SD_BF,SD_NIR\n",
      "\n",
      "Detecting infection load...\n",
      "Total cells: 1730\n",
      "Percentage infected:21.97\n",
      "Extracting per marker intensity information...\n",
      "Detecting spots in puncta markers...\n"
     ]
    },
    {
     "name": "stderr",
     "output_type": "stream",
     "text": []
    },
    {
     "name": "stdout",
     "output_type": "stream",
     "text": [
      "\n",
      "Image analyzed: Plate02_Nuc_Wells-E12__Channel_SD_AF647,SD_RFP,SD_GFP,SD_DAPI,SD_BF,SD_NIR\n",
      "\n",
      "Detecting infection load...\n",
      "Total cells: 1678\n",
      "Percentage infected:23.24\n",
      "Extracting per marker intensity information...\n",
      "Detecting spots in puncta markers...\n"
     ]
    },
    {
     "name": "stderr",
     "output_type": "stream",
     "text": []
    },
    {
     "name": "stdout",
     "output_type": "stream",
     "text": [
      "\n",
      "Image analyzed: Plate02_Nuc_Wells-F1__Channel_SD_AF647,SD_RFP,SD_GFP,SD_DAPI,SD_BF,SD_NIR\n",
      "\n",
      "Detecting infection load...\n",
      "Total cells: 2048\n",
      "Percentage infected:22.36\n",
      "Extracting per marker intensity information...\n",
      "Detecting spots in puncta markers...\n"
     ]
    },
    {
     "name": "stderr",
     "output_type": "stream",
     "text": []
    },
    {
     "name": "stdout",
     "output_type": "stream",
     "text": [
      "\n",
      "Image analyzed: Plate02_Nuc_Wells-F2__Channel_SD_AF647,SD_RFP,SD_GFP,SD_DAPI,SD_BF,SD_NIR\n",
      "\n",
      "Detecting infection load...\n",
      "Total cells: 1533\n",
      "Percentage infected:29.62\n",
      "Extracting per marker intensity information...\n",
      "Detecting spots in puncta markers...\n"
     ]
    },
    {
     "name": "stderr",
     "output_type": "stream",
     "text": []
    },
    {
     "name": "stdout",
     "output_type": "stream",
     "text": [
      "\n",
      "Image analyzed: Plate02_Nuc_Wells-F3__Channel_SD_AF647,SD_RFP,SD_GFP,SD_DAPI,SD_BF,SD_NIR\n",
      "\n",
      "Detecting infection load...\n",
      "Total cells: 2957\n",
      "Percentage infected:22.49\n",
      "Extracting per marker intensity information...\n",
      "Detecting spots in puncta markers...\n"
     ]
    },
    {
     "name": "stderr",
     "output_type": "stream",
     "text": []
    },
    {
     "name": "stdout",
     "output_type": "stream",
     "text": [
      "\n",
      "Image analyzed: Plate02_Nuc_Wells-F4__Channel_SD_AF647,SD_RFP,SD_GFP,SD_DAPI,SD_BF,SD_NIR\n",
      "\n",
      "Detecting infection load...\n",
      "Total cells: 1876\n",
      "Percentage infected:21.75\n",
      "Extracting per marker intensity information...\n",
      "Detecting spots in puncta markers...\n"
     ]
    },
    {
     "name": "stderr",
     "output_type": "stream",
     "text": []
    },
    {
     "name": "stdout",
     "output_type": "stream",
     "text": [
      "\n",
      "Image analyzed: Plate02_Nuc_Wells-F5__Channel_SD_AF647,SD_RFP,SD_GFP,SD_DAPI,SD_BF,SD_NIR\n",
      "\n",
      "Detecting infection load...\n",
      "Total cells: 2165\n",
      "Percentage infected:26.47\n",
      "Extracting per marker intensity information...\n",
      "Detecting spots in puncta markers...\n"
     ]
    },
    {
     "name": "stderr",
     "output_type": "stream",
     "text": []
    },
    {
     "name": "stdout",
     "output_type": "stream",
     "text": [
      "\n",
      "Image analyzed: Plate02_Nuc_Wells-F6__Channel_SD_AF647,SD_RFP,SD_GFP,SD_DAPI,SD_BF,SD_NIR\n",
      "\n",
      "Detecting infection load...\n",
      "Total cells: 1617\n",
      "Percentage infected:24.37\n",
      "Extracting per marker intensity information...\n",
      "Detecting spots in puncta markers...\n"
     ]
    },
    {
     "name": "stderr",
     "output_type": "stream",
     "text": []
    },
    {
     "name": "stdout",
     "output_type": "stream",
     "text": [
      "\n",
      "Image analyzed: Plate02_Nuc_Wells-F7__Channel_SD_AF647,SD_RFP,SD_GFP,SD_DAPI,SD_BF,SD_NIR\n",
      "\n",
      "Detecting infection load...\n",
      "Total cells: 1991\n",
      "Percentage infected:31.29\n",
      "Extracting per marker intensity information...\n",
      "Detecting spots in puncta markers...\n"
     ]
    },
    {
     "name": "stderr",
     "output_type": "stream",
     "text": []
    },
    {
     "name": "stdout",
     "output_type": "stream",
     "text": [
      "\n",
      "Image analyzed: Plate02_Nuc_Wells-F8__Channel_SD_AF647,SD_RFP,SD_GFP,SD_DAPI,SD_BF,SD_NIR\n",
      "\n",
      "Detecting infection load...\n",
      "Total cells: 2018\n",
      "Percentage infected:23.89\n",
      "Extracting per marker intensity information...\n",
      "Detecting spots in puncta markers...\n"
     ]
    },
    {
     "name": "stderr",
     "output_type": "stream",
     "text": []
    },
    {
     "name": "stdout",
     "output_type": "stream",
     "text": [
      "\n",
      "Image analyzed: Plate02_Nuc_Wells-F9__Channel_SD_AF647,SD_RFP,SD_GFP,SD_DAPI,SD_BF,SD_NIR\n",
      "\n",
      "Detecting infection load...\n",
      "Total cells: 1484\n",
      "Percentage infected:23.38\n",
      "Extracting per marker intensity information...\n",
      "Detecting spots in puncta markers...\n"
     ]
    },
    {
     "name": "stderr",
     "output_type": "stream",
     "text": []
    },
    {
     "name": "stdout",
     "output_type": "stream",
     "text": [
      "\n",
      "Image analyzed: Plate02_Nuc_Wells-F10__Channel_SD_AF647,SD_RFP,SD_GFP,SD_DAPI,SD_BF,SD_NIR\n",
      "\n",
      "Detecting infection load...\n",
      "Total cells: 2168\n",
      "Percentage infected:18.27\n",
      "Extracting per marker intensity information...\n",
      "Detecting spots in puncta markers...\n"
     ]
    },
    {
     "name": "stderr",
     "output_type": "stream",
     "text": []
    },
    {
     "name": "stdout",
     "output_type": "stream",
     "text": [
      "\n",
      "Image analyzed: Plate02_Nuc_Wells-F11__Channel_SD_AF647,SD_RFP,SD_GFP,SD_DAPI,SD_BF,SD_NIR\n",
      "\n",
      "Detecting infection load...\n",
      "Total cells: 1879\n",
      "Percentage infected:22.35\n",
      "Extracting per marker intensity information...\n",
      "Detecting spots in puncta markers...\n"
     ]
    },
    {
     "name": "stderr",
     "output_type": "stream",
     "text": []
    },
    {
     "name": "stdout",
     "output_type": "stream",
     "text": [
      "\n",
      "Image analyzed: Plate02_Nuc_Wells-F12__Channel_SD_AF647,SD_RFP,SD_GFP,SD_DAPI,SD_BF,SD_NIR\n",
      "\n",
      "Detecting infection load...\n",
      "Total cells: 1234\n",
      "Percentage infected:22.93\n",
      "Extracting per marker intensity information...\n",
      "Detecting spots in puncta markers...\n"
     ]
    },
    {
     "name": "stderr",
     "output_type": "stream",
     "text": []
    },
    {
     "name": "stdout",
     "output_type": "stream",
     "text": [
      "\n",
      "Image analyzed: Plate02_Nuc_Wells-G1__Channel_SD_AF647,SD_RFP,SD_GFP,SD_DAPI,SD_BF,SD_NIR\n",
      "\n",
      "Detecting infection load...\n",
      "Total cells: 1362\n",
      "Percentage infected:23.49\n",
      "Extracting per marker intensity information...\n",
      "Detecting spots in puncta markers...\n"
     ]
    },
    {
     "name": "stderr",
     "output_type": "stream",
     "text": []
    },
    {
     "name": "stdout",
     "output_type": "stream",
     "text": [
      "\n",
      "Image analyzed: Plate02_Nuc_Wells-G2__Channel_SD_AF647,SD_RFP,SD_GFP,SD_DAPI,SD_BF,SD_NIR\n",
      "\n",
      "Detecting infection load...\n",
      "Total cells: 1963\n",
      "Percentage infected:27.25\n",
      "Extracting per marker intensity information...\n",
      "Detecting spots in puncta markers...\n"
     ]
    },
    {
     "name": "stderr",
     "output_type": "stream",
     "text": []
    },
    {
     "name": "stdout",
     "output_type": "stream",
     "text": [
      "\n",
      "Image analyzed: Plate02_Nuc_Wells-G3__Channel_SD_AF647,SD_RFP,SD_GFP,SD_DAPI,SD_BF,SD_NIR\n",
      "\n",
      "Detecting infection load...\n",
      "Total cells: 2910\n",
      "Percentage infected:22.65\n",
      "Extracting per marker intensity information...\n",
      "Detecting spots in puncta markers...\n"
     ]
    },
    {
     "name": "stderr",
     "output_type": "stream",
     "text": []
    },
    {
     "name": "stdout",
     "output_type": "stream",
     "text": [
      "\n",
      "Image analyzed: Plate02_Nuc_Wells-G4__Channel_SD_AF647,SD_RFP,SD_GFP,SD_DAPI,SD_BF,SD_NIR\n",
      "\n",
      "Detecting infection load...\n",
      "Total cells: 2512\n",
      "Percentage infected:24.28\n",
      "Extracting per marker intensity information...\n",
      "Detecting spots in puncta markers...\n"
     ]
    },
    {
     "name": "stderr",
     "output_type": "stream",
     "text": []
    },
    {
     "name": "stdout",
     "output_type": "stream",
     "text": [
      "\n",
      "Image analyzed: Plate02_Nuc_Wells-G5__Channel_SD_AF647,SD_RFP,SD_GFP,SD_DAPI,SD_BF,SD_NIR\n",
      "\n",
      "Detecting infection load...\n",
      "Total cells: 2757\n",
      "Percentage infected:24.16\n",
      "Extracting per marker intensity information...\n",
      "Detecting spots in puncta markers...\n"
     ]
    },
    {
     "name": "stderr",
     "output_type": "stream",
     "text": []
    },
    {
     "name": "stdout",
     "output_type": "stream",
     "text": [
      "\n",
      "Image analyzed: Plate02_Nuc_Wells-G6__Channel_SD_AF647,SD_RFP,SD_GFP,SD_DAPI,SD_BF,SD_NIR\n",
      "\n",
      "Detecting infection load...\n",
      "Total cells: 2298\n",
      "Percentage infected:27.11\n",
      "Extracting per marker intensity information...\n",
      "Detecting spots in puncta markers...\n"
     ]
    },
    {
     "name": "stderr",
     "output_type": "stream",
     "text": []
    },
    {
     "name": "stdout",
     "output_type": "stream",
     "text": [
      "\n",
      "Image analyzed: Plate02_Nuc_Wells-G7__Channel_SD_AF647,SD_RFP,SD_GFP,SD_DAPI,SD_BF,SD_NIR\n",
      "\n",
      "Detecting infection load...\n",
      "Total cells: 2298\n",
      "Percentage infected:32.33\n",
      "Extracting per marker intensity information...\n",
      "Detecting spots in puncta markers...\n"
     ]
    },
    {
     "name": "stderr",
     "output_type": "stream",
     "text": []
    },
    {
     "name": "stdout",
     "output_type": "stream",
     "text": [
      "\n",
      "Image analyzed: Plate02_Nuc_Wells-G8__Channel_SD_AF647,SD_RFP,SD_GFP,SD_DAPI,SD_BF,SD_NIR\n",
      "\n",
      "Detecting infection load...\n",
      "Total cells: 1918\n",
      "Percentage infected:28.0\n",
      "Extracting per marker intensity information...\n",
      "Detecting spots in puncta markers...\n"
     ]
    },
    {
     "name": "stderr",
     "output_type": "stream",
     "text": []
    },
    {
     "name": "stdout",
     "output_type": "stream",
     "text": [
      "\n",
      "Image analyzed: Plate02_Nuc_Wells-G9__Channel_SD_AF647,SD_RFP,SD_GFP,SD_DAPI,SD_BF,SD_NIR\n",
      "\n",
      "Detecting infection load...\n",
      "Total cells: 2047\n",
      "Percentage infected:25.89\n",
      "Extracting per marker intensity information...\n",
      "Detecting spots in puncta markers...\n"
     ]
    },
    {
     "name": "stderr",
     "output_type": "stream",
     "text": []
    },
    {
     "name": "stdout",
     "output_type": "stream",
     "text": [
      "\n",
      "Image analyzed: Plate02_Nuc_Wells-G10__Channel_SD_AF647,SD_RFP,SD_GFP,SD_DAPI,SD_BF,SD_NIR\n",
      "\n",
      "Detecting infection load...\n",
      "Total cells: 2217\n",
      "Percentage infected:21.2\n",
      "Extracting per marker intensity information...\n",
      "Detecting spots in puncta markers...\n"
     ]
    },
    {
     "name": "stderr",
     "output_type": "stream",
     "text": []
    },
    {
     "name": "stdout",
     "output_type": "stream",
     "text": [
      "\n",
      "Image analyzed: Plate02_Nuc_Wells-G11__Channel_SD_AF647,SD_RFP,SD_GFP,SD_DAPI,SD_BF,SD_NIR\n",
      "\n",
      "Detecting infection load...\n",
      "Total cells: 2012\n",
      "Percentage infected:22.17\n",
      "Extracting per marker intensity information...\n",
      "Detecting spots in puncta markers...\n"
     ]
    },
    {
     "name": "stderr",
     "output_type": "stream",
     "text": []
    },
    {
     "name": "stdout",
     "output_type": "stream",
     "text": [
      "\n",
      "Image analyzed: Plate02_Nuc_Wells-G12__Channel_SD_AF647,SD_RFP,SD_GFP,SD_DAPI,SD_BF,SD_NIR\n",
      "\n",
      "Detecting infection load...\n",
      "Total cells: 1358\n",
      "Percentage infected:20.69\n",
      "Extracting per marker intensity information...\n",
      "Detecting spots in puncta markers...\n"
     ]
    },
    {
     "name": "stderr",
     "output_type": "stream",
     "text": []
    },
    {
     "name": "stdout",
     "output_type": "stream",
     "text": [
      "\n",
      "Image analyzed: Plate02_Nuc_Wells-H1__Channel_SD_AF647,SD_RFP,SD_GFP,SD_DAPI,SD_BF,SD_NIR\n",
      "\n",
      "Detecting infection load...\n",
      "Total cells: 2035\n",
      "Percentage infected:0.29\n",
      "Extracting per marker intensity information...\n",
      "Detecting spots in puncta markers...\n"
     ]
    },
    {
     "name": "stderr",
     "output_type": "stream",
     "text": []
    },
    {
     "name": "stdout",
     "output_type": "stream",
     "text": [
      "\n",
      "Image analyzed: Plate02_Nuc_Wells-H2__Channel_SD_AF647,SD_RFP,SD_GFP,SD_DAPI,SD_BF,SD_NIR\n",
      "\n",
      "Detecting infection load...\n",
      "Total cells: 2246\n",
      "Percentage infected:26.8\n",
      "Extracting per marker intensity information...\n",
      "Detecting spots in puncta markers...\n"
     ]
    },
    {
     "name": "stderr",
     "output_type": "stream",
     "text": []
    },
    {
     "name": "stdout",
     "output_type": "stream",
     "text": [
      "\n",
      "Image analyzed: Plate02_Nuc_Wells-H3__Channel_SD_AF647,SD_RFP,SD_GFP,SD_DAPI,SD_BF,SD_NIR\n",
      "\n",
      "Detecting infection load...\n",
      "Total cells: 2777\n",
      "Percentage infected:24.92\n",
      "Extracting per marker intensity information...\n",
      "Detecting spots in puncta markers...\n"
     ]
    },
    {
     "name": "stderr",
     "output_type": "stream",
     "text": []
    },
    {
     "name": "stdout",
     "output_type": "stream",
     "text": [
      "\n",
      "Image analyzed: Plate02_Nuc_Wells-H4__Channel_SD_AF647,SD_RFP,SD_GFP,SD_DAPI,SD_BF,SD_NIR\n",
      "\n",
      "Detecting infection load...\n",
      "Total cells: 2420\n",
      "Percentage infected:19.83\n",
      "Extracting per marker intensity information...\n",
      "Detecting spots in puncta markers...\n"
     ]
    },
    {
     "name": "stderr",
     "output_type": "stream",
     "text": []
    },
    {
     "name": "stdout",
     "output_type": "stream",
     "text": [
      "\n",
      "Image analyzed: Plate02_Nuc_Wells-H5__Channel_SD_AF647,SD_RFP,SD_GFP,SD_DAPI,SD_BF,SD_NIR\n",
      "\n",
      "Detecting infection load...\n",
      "Total cells: 2841\n",
      "Percentage infected:21.75\n",
      "Extracting per marker intensity information...\n",
      "Detecting spots in puncta markers...\n"
     ]
    },
    {
     "name": "stderr",
     "output_type": "stream",
     "text": []
    },
    {
     "name": "stdout",
     "output_type": "stream",
     "text": [
      "\n",
      "Image analyzed: Plate02_Nuc_Wells-H6__Channel_SD_AF647,SD_RFP,SD_GFP,SD_DAPI,SD_BF,SD_NIR\n",
      "\n",
      "Detecting infection load...\n",
      "Total cells: 2405\n",
      "Percentage infected:22.2\n",
      "Extracting per marker intensity information...\n",
      "Detecting spots in puncta markers...\n"
     ]
    },
    {
     "name": "stderr",
     "output_type": "stream",
     "text": []
    },
    {
     "name": "stdout",
     "output_type": "stream",
     "text": [
      "\n",
      "Image analyzed: Plate02_Nuc_Wells-H7__Channel_SD_AF647,SD_RFP,SD_GFP,SD_DAPI,SD_BF,SD_NIR\n",
      "\n",
      "Detecting infection load...\n",
      "Total cells: 2426\n",
      "Percentage infected:30.79\n",
      "Extracting per marker intensity information...\n",
      "Detecting spots in puncta markers...\n"
     ]
    },
    {
     "name": "stderr",
     "output_type": "stream",
     "text": []
    },
    {
     "name": "stdout",
     "output_type": "stream",
     "text": [
      "\n",
      "Image analyzed: Plate02_Nuc_Wells-H8__Channel_SD_AF647,SD_RFP,SD_GFP,SD_DAPI,SD_BF,SD_NIR\n",
      "\n",
      "Detecting infection load...\n",
      "Total cells: 2498\n",
      "Percentage infected:23.34\n",
      "Extracting per marker intensity information...\n",
      "Detecting spots in puncta markers...\n"
     ]
    },
    {
     "name": "stderr",
     "output_type": "stream",
     "text": []
    },
    {
     "name": "stdout",
     "output_type": "stream",
     "text": [
      "\n",
      "Image analyzed: Plate02_Nuc_Wells-H9__Channel_SD_AF647,SD_RFP,SD_GFP,SD_DAPI,SD_BF,SD_NIR\n",
      "\n",
      "Detecting infection load...\n",
      "Total cells: 2332\n",
      "Percentage infected:24.4\n",
      "Extracting per marker intensity information...\n",
      "Detecting spots in puncta markers...\n"
     ]
    },
    {
     "name": "stderr",
     "output_type": "stream",
     "text": []
    },
    {
     "name": "stdout",
     "output_type": "stream",
     "text": [
      "\n",
      "Image analyzed: Plate02_Nuc_Wells-H10__Channel_SD_AF647,SD_RFP,SD_GFP,SD_DAPI,SD_BF,SD_NIR\n",
      "\n",
      "Detecting infection load...\n",
      "Total cells: 2478\n",
      "Percentage infected:22.56\n",
      "Extracting per marker intensity information...\n",
      "Detecting spots in puncta markers...\n"
     ]
    },
    {
     "name": "stderr",
     "output_type": "stream",
     "text": []
    },
    {
     "name": "stdout",
     "output_type": "stream",
     "text": [
      "\n",
      "Image analyzed: Plate02_Nuc_Wells-H11__Channel_SD_AF647,SD_RFP,SD_GFP,SD_DAPI,SD_BF,SD_NIR\n",
      "\n",
      "Detecting infection load...\n",
      "Total cells: 2149\n",
      "Percentage infected:27.36\n",
      "Extracting per marker intensity information...\n",
      "Detecting spots in puncta markers...\n"
     ]
    },
    {
     "name": "stderr",
     "output_type": "stream",
     "text": []
    },
    {
     "name": "stdout",
     "output_type": "stream",
     "text": [
      "\n",
      "Image analyzed: Plate02_Nuc_Wells-H12__Channel_SD_AF647,SD_RFP,SD_GFP,SD_DAPI,SD_BF,SD_NIR\n",
      "\n",
      "Detecting infection load...\n",
      "Total cells: 2047\n",
      "Percentage infected:22.86\n",
      "Extracting per marker intensity information...\n",
      "Detecting spots in puncta markers...\n"
     ]
    },
    {
     "name": "stderr",
     "output_type": "stream",
     "text": []
    },
    {
     "name": "stdout",
     "output_type": "stream",
     "text": [
      "\n",
      "Image analyzed: Plate02_Nuc_Wells-A1__Channel_SD_AF647,SD_RFP,SD_GFP,SD_DAPI,SD_BF,SD_NIR\n",
      "\n",
      "Detecting infection load...\n",
      "Total cells: 2142\n",
      "Percentage infected:19.37\n",
      "Extracting per marker intensity information...\n",
      "Detecting spots in puncta markers...\n"
     ]
    },
    {
     "name": "stderr",
     "output_type": "stream",
     "text": []
    },
    {
     "name": "stdout",
     "output_type": "stream",
     "text": [
      "\n",
      "Image analyzed: Plate02_Nuc_Wells-A2__Channel_SD_AF647,SD_RFP,SD_GFP,SD_DAPI,SD_BF,SD_NIR\n",
      "\n",
      "Detecting infection load...\n",
      "Total cells: 2466\n",
      "Percentage infected:16.79\n",
      "Extracting per marker intensity information...\n",
      "Detecting spots in puncta markers...\n"
     ]
    },
    {
     "name": "stderr",
     "output_type": "stream",
     "text": []
    },
    {
     "name": "stdout",
     "output_type": "stream",
     "text": [
      "\n",
      "Image analyzed: Plate02_Nuc_Wells-A3__Channel_SD_AF647,SD_RFP,SD_GFP,SD_DAPI,SD_BF,SD_NIR\n",
      "\n",
      "Detecting infection load...\n",
      "Total cells: 2785\n",
      "Percentage infected:20.07\n",
      "Extracting per marker intensity information...\n",
      "Detecting spots in puncta markers...\n"
     ]
    },
    {
     "name": "stderr",
     "output_type": "stream",
     "text": []
    },
    {
     "name": "stdout",
     "output_type": "stream",
     "text": [
      "\n",
      "Image analyzed: Plate02_Nuc_Wells-A4__Channel_SD_AF647,SD_RFP,SD_GFP,SD_DAPI,SD_BF,SD_NIR\n",
      "\n",
      "Detecting infection load...\n",
      "Total cells: 2795\n",
      "Percentage infected:17.5\n",
      "Extracting per marker intensity information...\n",
      "Detecting spots in puncta markers...\n"
     ]
    },
    {
     "name": "stderr",
     "output_type": "stream",
     "text": []
    },
    {
     "name": "stdout",
     "output_type": "stream",
     "text": [
      "\n",
      "Image analyzed: Plate02_Nuc_Wells-A5__Channel_SD_AF647,SD_RFP,SD_GFP,SD_DAPI,SD_BF,SD_NIR\n",
      "\n",
      "Detecting infection load...\n",
      "Total cells: 2320\n",
      "Percentage infected:16.51\n",
      "Extracting per marker intensity information...\n",
      "Detecting spots in puncta markers...\n"
     ]
    },
    {
     "name": "stderr",
     "output_type": "stream",
     "text": []
    },
    {
     "name": "stdout",
     "output_type": "stream",
     "text": [
      "\n",
      "Image analyzed: Plate02_Nuc_Wells-A6__Channel_SD_AF647,SD_RFP,SD_GFP,SD_DAPI,SD_BF,SD_NIR\n",
      "\n",
      "Detecting infection load...\n",
      "Total cells: 2791\n",
      "Percentage infected:21.18\n",
      "Extracting per marker intensity information...\n",
      "Detecting spots in puncta markers...\n"
     ]
    },
    {
     "name": "stderr",
     "output_type": "stream",
     "text": []
    },
    {
     "name": "stdout",
     "output_type": "stream",
     "text": [
      "\n",
      "Image analyzed: Plate02_Nuc_Wells-A7__Channel_SD_AF647,SD_RFP,SD_GFP,SD_DAPI,SD_BF,SD_NIR\n",
      "\n",
      "Detecting infection load...\n",
      "Total cells: 2665\n",
      "Percentage infected:23.04\n",
      "Extracting per marker intensity information...\n",
      "Detecting spots in puncta markers...\n"
     ]
    },
    {
     "name": "stderr",
     "output_type": "stream",
     "text": []
    },
    {
     "name": "stdout",
     "output_type": "stream",
     "text": [
      "\n",
      "Image analyzed: Plate02_Nuc_Wells-A8__Channel_SD_AF647,SD_RFP,SD_GFP,SD_DAPI,SD_BF,SD_NIR\n",
      "\n",
      "Detecting infection load...\n",
      "Total cells: 1772\n",
      "Percentage infected:20.09\n",
      "Extracting per marker intensity information...\n",
      "Detecting spots in puncta markers...\n"
     ]
    },
    {
     "name": "stderr",
     "output_type": "stream",
     "text": []
    },
    {
     "name": "stdout",
     "output_type": "stream",
     "text": [
      "\n",
      "Image analyzed: Plate02_Nuc_Wells-A9__Channel_SD_AF647,SD_RFP,SD_GFP,SD_DAPI,SD_BF,SD_NIR\n",
      "\n",
      "Detecting infection load...\n",
      "Total cells: 1761\n",
      "Percentage infected:22.43\n",
      "Extracting per marker intensity information...\n",
      "Detecting spots in puncta markers...\n"
     ]
    },
    {
     "name": "stderr",
     "output_type": "stream",
     "text": []
    },
    {
     "name": "stdout",
     "output_type": "stream",
     "text": [
      "\n",
      "Image analyzed: Plate02_Nuc_Wells-A10__Channel_SD_AF647,SD_RFP,SD_GFP,SD_DAPI,SD_BF,SD_NIR\n",
      "\n",
      "Detecting infection load...\n",
      "Total cells: 2681\n",
      "Percentage infected:19.4\n",
      "Extracting per marker intensity information...\n",
      "Detecting spots in puncta markers...\n"
     ]
    },
    {
     "name": "stderr",
     "output_type": "stream",
     "text": []
    },
    {
     "name": "stdout",
     "output_type": "stream",
     "text": [
      "\n",
      "Image analyzed: Plate02_Nuc_Wells-A11__Channel_SD_AF647,SD_RFP,SD_GFP,SD_DAPI,SD_BF,SD_NIR\n",
      "\n",
      "Detecting infection load...\n",
      "Total cells: 1660\n",
      "Percentage infected:22.53\n",
      "Extracting per marker intensity information...\n",
      "Detecting spots in puncta markers...\n"
     ]
    },
    {
     "name": "stderr",
     "output_type": "stream",
     "text": []
    },
    {
     "name": "stdout",
     "output_type": "stream",
     "text": [
      "\n",
      "Image analyzed: Plate02_Nuc_Wells-A12__Channel_SD_AF647,SD_RFP,SD_GFP,SD_DAPI,SD_BF,SD_NIR\n",
      "\n",
      "Detecting infection load...\n",
      "Total cells: 1291\n",
      "Percentage infected:22.39\n",
      "Extracting per marker intensity information...\n",
      "Detecting spots in puncta markers...\n"
     ]
    },
    {
     "name": "stderr",
     "output_type": "stream",
     "text": []
    },
    {
     "name": "stdout",
     "output_type": "stream",
     "text": [
      "\n",
      "Image analyzed: Plate02_Nuc_Wells-B1__Channel_SD_AF647,SD_RFP,SD_GFP,SD_DAPI,SD_BF,SD_NIR\n",
      "\n",
      "Detecting infection load...\n",
      "Total cells: 1886\n",
      "Percentage infected:23.38\n",
      "Extracting per marker intensity information...\n",
      "Detecting spots in puncta markers...\n"
     ]
    },
    {
     "name": "stderr",
     "output_type": "stream",
     "text": []
    },
    {
     "name": "stdout",
     "output_type": "stream",
     "text": [
      "\n",
      "Image analyzed: Plate02_Nuc_Wells-B2__Channel_SD_AF647,SD_RFP,SD_GFP,SD_DAPI,SD_BF,SD_NIR\n",
      "\n",
      "Detecting infection load...\n",
      "Total cells: 3226\n",
      "Percentage infected:22.44\n",
      "Extracting per marker intensity information...\n",
      "Detecting spots in puncta markers...\n"
     ]
    },
    {
     "name": "stderr",
     "output_type": "stream",
     "text": [
      "100%|██████████| 96/96 [48:32<00:00, 30.34s/it]\n",
      " 12%|█▏        | 2/17 [1:37:01<12:08:02, 2912.14s/it]"
     ]
    },
    {
     "name": "stdout",
     "output_type": "stream",
     "text": [
      "Analyzing Plate: Plate 03_Nuc\n"
     ]
    },
    {
     "name": "stderr",
     "output_type": "stream",
     "text": []
    },
    {
     "name": "stdout",
     "output_type": "stream",
     "text": [
      "\n",
      "Image analyzed: Plate03_Nuc_Wells-A8__Channel_SD_AF647,SD_RFP,SD_GFP,SD_DAPI,SD_BF,SD_NIR\n",
      "\n",
      "Detecting infection load...\n",
      "Total cells: 3309\n",
      "Percentage infected:24.69\n",
      "Extracting per marker intensity information...\n",
      "Detecting spots in puncta markers...\n"
     ]
    },
    {
     "name": "stderr",
     "output_type": "stream",
     "text": []
    },
    {
     "name": "stdout",
     "output_type": "stream",
     "text": [
      "\n",
      "Image analyzed: Plate03_Nuc_Wells-A9__Channel_SD_AF647,SD_RFP,SD_GFP,SD_DAPI,SD_BF,SD_NIR\n",
      "\n",
      "Detecting infection load...\n",
      "Total cells: 3560\n",
      "Percentage infected:28.15\n",
      "Extracting per marker intensity information...\n",
      "Detecting spots in puncta markers...\n"
     ]
    },
    {
     "name": "stderr",
     "output_type": "stream",
     "text": []
    },
    {
     "name": "stdout",
     "output_type": "stream",
     "text": [
      "\n",
      "Image analyzed: Plate03_Nuc_Wells-A10__Channel_SD_AF647,SD_RFP,SD_GFP,SD_DAPI,SD_BF,SD_NIR\n",
      "\n",
      "Detecting infection load...\n",
      "Total cells: 3053\n",
      "Percentage infected:19.06\n",
      "Extracting per marker intensity information...\n",
      "Detecting spots in puncta markers...\n"
     ]
    },
    {
     "name": "stderr",
     "output_type": "stream",
     "text": []
    },
    {
     "name": "stdout",
     "output_type": "stream",
     "text": [
      "\n",
      "Image analyzed: Plate03_Nuc_Wells-A11__Channel_SD_AF647,SD_RFP,SD_GFP,SD_DAPI,SD_BF,SD_NIR\n",
      "\n",
      "Detecting infection load...\n",
      "Total cells: 3166\n",
      "Percentage infected:16.46\n",
      "Extracting per marker intensity information...\n",
      "Detecting spots in puncta markers...\n"
     ]
    },
    {
     "name": "stderr",
     "output_type": "stream",
     "text": []
    },
    {
     "name": "stdout",
     "output_type": "stream",
     "text": [
      "\n",
      "Image analyzed: Plate03_Nuc_Wells-A12__Channel_SD_AF647,SD_RFP,SD_GFP,SD_DAPI,SD_BF,SD_NIR\n",
      "\n",
      "Detecting infection load...\n",
      "Total cells: 2165\n",
      "Percentage infected:16.26\n",
      "Extracting per marker intensity information...\n",
      "Detecting spots in puncta markers...\n"
     ]
    },
    {
     "name": "stderr",
     "output_type": "stream",
     "text": []
    },
    {
     "name": "stdout",
     "output_type": "stream",
     "text": [
      "\n",
      "Image analyzed: Plate03_Nuc_Wells-B1__Channel_SD_AF647,SD_RFP,SD_GFP,SD_DAPI,SD_BF,SD_NIR\n",
      "\n",
      "Detecting infection load...\n",
      "Total cells: 2410\n",
      "Percentage infected:20.46\n",
      "Extracting per marker intensity information...\n",
      "Detecting spots in puncta markers...\n"
     ]
    },
    {
     "name": "stderr",
     "output_type": "stream",
     "text": []
    },
    {
     "name": "stdout",
     "output_type": "stream",
     "text": [
      "\n",
      "Image analyzed: Plate03_Nuc_Wells-B2__Channel_SD_AF647,SD_RFP,SD_GFP,SD_DAPI,SD_BF,SD_NIR\n",
      "\n",
      "Detecting infection load...\n",
      "Total cells: 2384\n",
      "Percentage infected:22.19\n",
      "Extracting per marker intensity information...\n",
      "Detecting spots in puncta markers...\n"
     ]
    },
    {
     "name": "stderr",
     "output_type": "stream",
     "text": []
    },
    {
     "name": "stdout",
     "output_type": "stream",
     "text": [
      "\n",
      "Image analyzed: Plate03_Nuc_Wells-B3__Channel_SD_AF647,SD_RFP,SD_GFP,SD_DAPI,SD_BF,SD_NIR\n",
      "\n",
      "Detecting infection load...\n",
      "Total cells: 2184\n",
      "Percentage infected:20.01\n",
      "Extracting per marker intensity information...\n",
      "Detecting spots in puncta markers...\n"
     ]
    },
    {
     "name": "stderr",
     "output_type": "stream",
     "text": []
    },
    {
     "name": "stdout",
     "output_type": "stream",
     "text": [
      "\n",
      "Image analyzed: Plate03_Nuc_Wells-B4__Channel_SD_AF647,SD_RFP,SD_GFP,SD_DAPI,SD_BF,SD_NIR\n",
      "\n",
      "Detecting infection load...\n",
      "Total cells: 2371\n",
      "Percentage infected:23.32\n",
      "Extracting per marker intensity information...\n",
      "Detecting spots in puncta markers...\n"
     ]
    },
    {
     "name": "stderr",
     "output_type": "stream",
     "text": []
    },
    {
     "name": "stdout",
     "output_type": "stream",
     "text": [
      "\n",
      "Image analyzed: Plate03_Nuc_Wells-B5__Channel_SD_AF647,SD_RFP,SD_GFP,SD_DAPI,SD_BF,SD_NIR\n",
      "\n",
      "Detecting infection load...\n",
      "Total cells: 2364\n",
      "Percentage infected:22.08\n",
      "Extracting per marker intensity information...\n",
      "Detecting spots in puncta markers...\n"
     ]
    },
    {
     "name": "stderr",
     "output_type": "stream",
     "text": []
    },
    {
     "name": "stdout",
     "output_type": "stream",
     "text": [
      "\n",
      "Image analyzed: Plate03_Nuc_Wells-B6__Channel_SD_AF647,SD_RFP,SD_GFP,SD_DAPI,SD_BF,SD_NIR\n",
      "\n",
      "Detecting infection load...\n",
      "Total cells: 2173\n",
      "Percentage infected:28.72\n",
      "Extracting per marker intensity information...\n",
      "Detecting spots in puncta markers...\n"
     ]
    },
    {
     "name": "stderr",
     "output_type": "stream",
     "text": []
    },
    {
     "name": "stdout",
     "output_type": "stream",
     "text": [
      "\n",
      "Image analyzed: Plate03_Nuc_Wells-B7__Channel_SD_AF647,SD_RFP,SD_GFP,SD_DAPI,SD_BF,SD_NIR\n",
      "\n",
      "Detecting infection load...\n",
      "Total cells: 1951\n",
      "Percentage infected:21.01\n",
      "Extracting per marker intensity information...\n",
      "Detecting spots in puncta markers...\n"
     ]
    },
    {
     "name": "stderr",
     "output_type": "stream",
     "text": []
    },
    {
     "name": "stdout",
     "output_type": "stream",
     "text": [
      "\n",
      "Image analyzed: Plate03_Nuc_Wells-B8__Channel_SD_AF647,SD_RFP,SD_GFP,SD_DAPI,SD_BF,SD_NIR\n",
      "\n",
      "Detecting infection load...\n",
      "Total cells: 2064\n",
      "Percentage infected:25.97\n",
      "Extracting per marker intensity information...\n",
      "Detecting spots in puncta markers...\n"
     ]
    },
    {
     "name": "stderr",
     "output_type": "stream",
     "text": []
    },
    {
     "name": "stdout",
     "output_type": "stream",
     "text": [
      "\n",
      "Image analyzed: Plate03_Nuc_Wells-B9__Channel_SD_AF647,SD_RFP,SD_GFP,SD_DAPI,SD_BF,SD_NIR\n",
      "\n",
      "Detecting infection load...\n",
      "Total cells: 1950\n",
      "Percentage infected:23.95\n",
      "Extracting per marker intensity information...\n",
      "Detecting spots in puncta markers...\n"
     ]
    },
    {
     "name": "stderr",
     "output_type": "stream",
     "text": []
    },
    {
     "name": "stdout",
     "output_type": "stream",
     "text": [
      "\n",
      "Image analyzed: Plate03_Nuc_Wells-B10__Channel_SD_AF647,SD_RFP,SD_GFP,SD_DAPI,SD_BF,SD_NIR\n",
      "\n",
      "Detecting infection load...\n",
      "Total cells: 2210\n",
      "Percentage infected:20.5\n",
      "Extracting per marker intensity information...\n",
      "Detecting spots in puncta markers...\n"
     ]
    },
    {
     "name": "stderr",
     "output_type": "stream",
     "text": []
    },
    {
     "name": "stdout",
     "output_type": "stream",
     "text": [
      "\n",
      "Image analyzed: Plate03_Nuc_Wells-B11__Channel_SD_AF647,SD_RFP,SD_GFP,SD_DAPI,SD_BF,SD_NIR\n",
      "\n",
      "Detecting infection load...\n",
      "Total cells: 1874\n",
      "Percentage infected:17.02\n",
      "Extracting per marker intensity information...\n",
      "Detecting spots in puncta markers...\n"
     ]
    },
    {
     "name": "stderr",
     "output_type": "stream",
     "text": []
    },
    {
     "name": "stdout",
     "output_type": "stream",
     "text": [
      "\n",
      "Image analyzed: Plate03_Nuc_Wells-B12__Channel_SD_AF647,SD_RFP,SD_GFP,SD_DAPI,SD_BF,SD_NIR\n",
      "\n",
      "Detecting infection load...\n",
      "Total cells: 1711\n",
      "Percentage infected:14.38\n",
      "Extracting per marker intensity information...\n",
      "Detecting spots in puncta markers...\n"
     ]
    },
    {
     "name": "stderr",
     "output_type": "stream",
     "text": []
    },
    {
     "name": "stdout",
     "output_type": "stream",
     "text": [
      "\n",
      "Image analyzed: Plate03_Nuc_Wells-C1__Channel_SD_AF647,SD_RFP,SD_GFP,SD_DAPI,SD_BF,SD_NIR\n",
      "\n",
      "Detecting infection load...\n",
      "Total cells: 1562\n",
      "Percentage infected:18.69\n",
      "Extracting per marker intensity information...\n",
      "Detecting spots in puncta markers...\n"
     ]
    },
    {
     "name": "stderr",
     "output_type": "stream",
     "text": []
    },
    {
     "name": "stdout",
     "output_type": "stream",
     "text": [
      "\n",
      "Image analyzed: Plate03_Nuc_Wells-C2__Channel_SD_AF647,SD_RFP,SD_GFP,SD_DAPI,SD_BF,SD_NIR\n",
      "\n",
      "Detecting infection load...\n",
      "Total cells: 1448\n",
      "Percentage infected:17.4\n",
      "Extracting per marker intensity information...\n",
      "Detecting spots in puncta markers...\n"
     ]
    },
    {
     "name": "stderr",
     "output_type": "stream",
     "text": []
    },
    {
     "name": "stdout",
     "output_type": "stream",
     "text": [
      "\n",
      "Image analyzed: Plate03_Nuc_Wells-C3__Channel_SD_AF647,SD_RFP,SD_GFP,SD_DAPI,SD_BF,SD_NIR\n",
      "\n",
      "Detecting infection load...\n",
      "Total cells: 1471\n",
      "Percentage infected:21.28\n",
      "Extracting per marker intensity information...\n",
      "Detecting spots in puncta markers...\n"
     ]
    },
    {
     "name": "stderr",
     "output_type": "stream",
     "text": []
    },
    {
     "name": "stdout",
     "output_type": "stream",
     "text": [
      "\n",
      "Image analyzed: Plate03_Nuc_Wells-C4__Channel_SD_AF647,SD_RFP,SD_GFP,SD_DAPI,SD_BF,SD_NIR\n",
      "\n",
      "Detecting infection load...\n",
      "Total cells: 1781\n",
      "Percentage infected:20.49\n",
      "Extracting per marker intensity information...\n",
      "Detecting spots in puncta markers...\n"
     ]
    },
    {
     "name": "stderr",
     "output_type": "stream",
     "text": []
    },
    {
     "name": "stdout",
     "output_type": "stream",
     "text": [
      "\n",
      "Image analyzed: Plate03_Nuc_Wells-C5__Channel_SD_AF647,SD_RFP,SD_GFP,SD_DAPI,SD_BF,SD_NIR\n",
      "\n",
      "Detecting infection load...\n",
      "Total cells: 1917\n",
      "Percentage infected:18.21\n",
      "Extracting per marker intensity information...\n",
      "Detecting spots in puncta markers...\n"
     ]
    },
    {
     "name": "stderr",
     "output_type": "stream",
     "text": []
    },
    {
     "name": "stdout",
     "output_type": "stream",
     "text": [
      "\n",
      "Image analyzed: Plate03_Nuc_Wells-C6__Channel_SD_AF647,SD_RFP,SD_GFP,SD_DAPI,SD_BF,SD_NIR\n",
      "\n",
      "Detecting infection load...\n",
      "Total cells: 1766\n",
      "Percentage infected:18.97\n",
      "Extracting per marker intensity information...\n",
      "Detecting spots in puncta markers...\n"
     ]
    },
    {
     "name": "stderr",
     "output_type": "stream",
     "text": []
    },
    {
     "name": "stdout",
     "output_type": "stream",
     "text": [
      "\n",
      "Image analyzed: Plate03_Nuc_Wells-C7__Channel_SD_AF647,SD_RFP,SD_GFP,SD_DAPI,SD_BF,SD_NIR\n",
      "\n",
      "Detecting infection load...\n",
      "Total cells: 1460\n",
      "Percentage infected:24.32\n",
      "Extracting per marker intensity information...\n",
      "Detecting spots in puncta markers...\n"
     ]
    },
    {
     "name": "stderr",
     "output_type": "stream",
     "text": []
    },
    {
     "name": "stdout",
     "output_type": "stream",
     "text": [
      "\n",
      "Image analyzed: Plate03_Nuc_Wells-C8__Channel_SD_AF647,SD_RFP,SD_GFP,SD_DAPI,SD_BF,SD_NIR\n",
      "\n",
      "Detecting infection load...\n",
      "Total cells: 1654\n",
      "Percentage infected:22.55\n",
      "Extracting per marker intensity information...\n",
      "Detecting spots in puncta markers...\n"
     ]
    },
    {
     "name": "stderr",
     "output_type": "stream",
     "text": []
    },
    {
     "name": "stdout",
     "output_type": "stream",
     "text": [
      "\n",
      "Image analyzed: Plate03_Nuc_Wells-C9__Channel_SD_AF647,SD_RFP,SD_GFP,SD_DAPI,SD_BF,SD_NIR\n",
      "\n",
      "Detecting infection load...\n",
      "Total cells: 1294\n",
      "Percentage infected:21.25\n",
      "Extracting per marker intensity information...\n",
      "Detecting spots in puncta markers...\n"
     ]
    },
    {
     "name": "stderr",
     "output_type": "stream",
     "text": []
    },
    {
     "name": "stdout",
     "output_type": "stream",
     "text": [
      "\n",
      "Image analyzed: Plate03_Nuc_Wells-C10__Channel_SD_AF647,SD_RFP,SD_GFP,SD_DAPI,SD_BF,SD_NIR\n",
      "\n",
      "Detecting infection load...\n",
      "Total cells: 1660\n",
      "Percentage infected:20.0\n",
      "Extracting per marker intensity information...\n",
      "Detecting spots in puncta markers...\n"
     ]
    },
    {
     "name": "stderr",
     "output_type": "stream",
     "text": []
    },
    {
     "name": "stdout",
     "output_type": "stream",
     "text": [
      "\n",
      "Image analyzed: Plate03_Nuc_Wells-C11__Channel_SD_AF647,SD_RFP,SD_GFP,SD_DAPI,SD_BF,SD_NIR\n",
      "\n",
      "Detecting infection load...\n",
      "Total cells: 1270\n",
      "Percentage infected:21.02\n",
      "Extracting per marker intensity information...\n",
      "Detecting spots in puncta markers...\n"
     ]
    },
    {
     "name": "stderr",
     "output_type": "stream",
     "text": []
    },
    {
     "name": "stdout",
     "output_type": "stream",
     "text": [
      "\n",
      "Image analyzed: Plate03_Nuc_Wells-C12__Channel_SD_AF647,SD_RFP,SD_GFP,SD_DAPI,SD_BF,SD_NIR\n",
      "\n",
      "Detecting infection load...\n",
      "Total cells: 1207\n",
      "Percentage infected:20.63\n",
      "Extracting per marker intensity information...\n",
      "Detecting spots in puncta markers...\n"
     ]
    },
    {
     "name": "stderr",
     "output_type": "stream",
     "text": []
    },
    {
     "name": "stdout",
     "output_type": "stream",
     "text": [
      "\n",
      "Image analyzed: Plate03_Nuc_Wells-D1__Channel_SD_AF647,SD_RFP,SD_GFP,SD_DAPI,SD_BF,SD_NIR\n",
      "\n",
      "Detecting infection load...\n",
      "Total cells: 1743\n",
      "Percentage infected:22.09\n",
      "Extracting per marker intensity information...\n",
      "Detecting spots in puncta markers...\n"
     ]
    },
    {
     "name": "stderr",
     "output_type": "stream",
     "text": []
    },
    {
     "name": "stdout",
     "output_type": "stream",
     "text": [
      "\n",
      "Image analyzed: Plate03_Nuc_Wells-D2__Channel_SD_AF647,SD_RFP,SD_GFP,SD_DAPI,SD_BF,SD_NIR\n",
      "\n",
      "Detecting infection load...\n",
      "Total cells: 2279\n",
      "Percentage infected:21.28\n",
      "Extracting per marker intensity information...\n",
      "Detecting spots in puncta markers...\n"
     ]
    },
    {
     "name": "stderr",
     "output_type": "stream",
     "text": []
    },
    {
     "name": "stdout",
     "output_type": "stream",
     "text": [
      "\n",
      "Image analyzed: Plate03_Nuc_Wells-D3__Channel_SD_AF647,SD_RFP,SD_GFP,SD_DAPI,SD_BF,SD_NIR\n",
      "\n",
      "Detecting infection load...\n",
      "Total cells: 2328\n",
      "Percentage infected:23.97\n",
      "Extracting per marker intensity information...\n",
      "Detecting spots in puncta markers...\n"
     ]
    },
    {
     "name": "stderr",
     "output_type": "stream",
     "text": []
    },
    {
     "name": "stdout",
     "output_type": "stream",
     "text": [
      "\n",
      "Image analyzed: Plate03_Nuc_Wells-D4__Channel_SD_AF647,SD_RFP,SD_GFP,SD_DAPI,SD_BF,SD_NIR\n",
      "\n",
      "Detecting infection load...\n",
      "Total cells: 1493\n",
      "Percentage infected:25.59\n",
      "Extracting per marker intensity information...\n",
      "Detecting spots in puncta markers...\n"
     ]
    },
    {
     "name": "stderr",
     "output_type": "stream",
     "text": []
    },
    {
     "name": "stdout",
     "output_type": "stream",
     "text": [
      "\n",
      "Image analyzed: Plate03_Nuc_Wells-D5__Channel_SD_AF647,SD_RFP,SD_GFP,SD_DAPI,SD_BF,SD_NIR\n",
      "\n",
      "Detecting infection load...\n",
      "Total cells: 1607\n",
      "Percentage infected:27.63\n",
      "Extracting per marker intensity information...\n",
      "Detecting spots in puncta markers...\n"
     ]
    },
    {
     "name": "stderr",
     "output_type": "stream",
     "text": []
    },
    {
     "name": "stdout",
     "output_type": "stream",
     "text": [
      "\n",
      "Image analyzed: Plate03_Nuc_Wells-D6__Channel_SD_AF647,SD_RFP,SD_GFP,SD_DAPI,SD_BF,SD_NIR\n",
      "\n",
      "Detecting infection load...\n",
      "Total cells: 2264\n",
      "Percentage infected:26.33\n",
      "Extracting per marker intensity information...\n",
      "Detecting spots in puncta markers...\n"
     ]
    },
    {
     "name": "stderr",
     "output_type": "stream",
     "text": []
    },
    {
     "name": "stdout",
     "output_type": "stream",
     "text": [
      "\n",
      "Image analyzed: Plate03_Nuc_Wells-D7__Channel_SD_AF647,SD_RFP,SD_GFP,SD_DAPI,SD_BF,SD_NIR\n",
      "\n",
      "Detecting infection load...\n",
      "Total cells: 2128\n",
      "Percentage infected:23.87\n",
      "Extracting per marker intensity information...\n",
      "Detecting spots in puncta markers...\n"
     ]
    },
    {
     "name": "stderr",
     "output_type": "stream",
     "text": []
    },
    {
     "name": "stdout",
     "output_type": "stream",
     "text": [
      "\n",
      "Image analyzed: Plate03_Nuc_Wells-D8__Channel_SD_AF647,SD_RFP,SD_GFP,SD_DAPI,SD_BF,SD_NIR\n",
      "\n",
      "Detecting infection load...\n",
      "Total cells: 2168\n",
      "Percentage infected:24.95\n",
      "Extracting per marker intensity information...\n",
      "Detecting spots in puncta markers...\n"
     ]
    },
    {
     "name": "stderr",
     "output_type": "stream",
     "text": []
    },
    {
     "name": "stdout",
     "output_type": "stream",
     "text": [
      "\n",
      "Image analyzed: Plate03_Nuc_Wells-D9__Channel_SD_AF647,SD_RFP,SD_GFP,SD_DAPI,SD_BF,SD_NIR\n",
      "\n",
      "Detecting infection load...\n",
      "Total cells: 2318\n",
      "Percentage infected:25.28\n",
      "Extracting per marker intensity information...\n",
      "Detecting spots in puncta markers...\n"
     ]
    },
    {
     "name": "stderr",
     "output_type": "stream",
     "text": []
    },
    {
     "name": "stdout",
     "output_type": "stream",
     "text": [
      "\n",
      "Image analyzed: Plate03_Nuc_Wells-D10__Channel_SD_AF647,SD_RFP,SD_GFP,SD_DAPI,SD_BF,SD_NIR\n",
      "\n",
      "Detecting infection load...\n",
      "Total cells: 1907\n",
      "Percentage infected:16.57\n",
      "Extracting per marker intensity information...\n",
      "Detecting spots in puncta markers...\n"
     ]
    },
    {
     "name": "stderr",
     "output_type": "stream",
     "text": []
    },
    {
     "name": "stdout",
     "output_type": "stream",
     "text": [
      "\n",
      "Image analyzed: Plate03_Nuc_Wells-D11__Channel_SD_AF647,SD_RFP,SD_GFP,SD_DAPI,SD_BF,SD_NIR\n",
      "\n",
      "Detecting infection load...\n",
      "Total cells: 1317\n",
      "Percentage infected:21.26\n",
      "Extracting per marker intensity information...\n",
      "Detecting spots in puncta markers...\n"
     ]
    },
    {
     "name": "stderr",
     "output_type": "stream",
     "text": []
    },
    {
     "name": "stdout",
     "output_type": "stream",
     "text": [
      "\n",
      "Image analyzed: Plate03_Nuc_Wells-D12__Channel_SD_AF647,SD_RFP,SD_GFP,SD_DAPI,SD_BF,SD_NIR\n",
      "\n",
      "Detecting infection load...\n",
      "Total cells: 857\n",
      "Percentage infected:21.0\n",
      "Extracting per marker intensity information...\n",
      "Detecting spots in puncta markers...\n"
     ]
    },
    {
     "name": "stderr",
     "output_type": "stream",
     "text": []
    },
    {
     "name": "stdout",
     "output_type": "stream",
     "text": [
      "\n",
      "Image analyzed: Plate03_Nuc_Wells-E1__Channel_SD_AF647,SD_RFP,SD_GFP,SD_DAPI,SD_BF,SD_NIR\n",
      "\n",
      "Detecting infection load...\n",
      "Total cells: 1968\n",
      "Percentage infected:25.25\n",
      "Extracting per marker intensity information...\n",
      "Detecting spots in puncta markers...\n"
     ]
    },
    {
     "name": "stderr",
     "output_type": "stream",
     "text": []
    },
    {
     "name": "stdout",
     "output_type": "stream",
     "text": [
      "\n",
      "Image analyzed: Plate03_Nuc_Wells-E2__Channel_SD_AF647,SD_RFP,SD_GFP,SD_DAPI,SD_BF,SD_NIR\n",
      "\n",
      "Detecting infection load...\n",
      "Total cells: 2258\n",
      "Percentage infected:22.5\n",
      "Extracting per marker intensity information...\n",
      "Detecting spots in puncta markers...\n"
     ]
    },
    {
     "name": "stderr",
     "output_type": "stream",
     "text": []
    },
    {
     "name": "stdout",
     "output_type": "stream",
     "text": [
      "\n",
      "Image analyzed: Plate03_Nuc_Wells-E3__Channel_SD_AF647,SD_RFP,SD_GFP,SD_DAPI,SD_BF,SD_NIR\n",
      "\n",
      "Detecting infection load...\n",
      "Total cells: 2116\n",
      "Percentage infected:27.98\n",
      "Extracting per marker intensity information...\n",
      "Detecting spots in puncta markers...\n"
     ]
    },
    {
     "name": "stderr",
     "output_type": "stream",
     "text": []
    },
    {
     "name": "stdout",
     "output_type": "stream",
     "text": [
      "\n",
      "Image analyzed: Plate03_Nuc_Wells-E4__Channel_SD_AF647,SD_RFP,SD_GFP,SD_DAPI,SD_BF,SD_NIR\n",
      "\n",
      "Detecting infection load...\n",
      "Total cells: 2236\n",
      "Percentage infected:21.96\n",
      "Extracting per marker intensity information...\n",
      "Detecting spots in puncta markers...\n"
     ]
    },
    {
     "name": "stderr",
     "output_type": "stream",
     "text": []
    },
    {
     "name": "stdout",
     "output_type": "stream",
     "text": [
      "\n",
      "Image analyzed: Plate03_Nuc_Wells-E5__Channel_SD_AF647,SD_RFP,SD_GFP,SD_DAPI,SD_BF,SD_NIR\n",
      "\n",
      "Detecting infection load...\n",
      "Total cells: 2133\n",
      "Percentage infected:22.08\n",
      "Extracting per marker intensity information...\n",
      "Detecting spots in puncta markers...\n"
     ]
    },
    {
     "name": "stderr",
     "output_type": "stream",
     "text": []
    },
    {
     "name": "stdout",
     "output_type": "stream",
     "text": [
      "\n",
      "Image analyzed: Plate03_Nuc_Wells-E6__Channel_SD_AF647,SD_RFP,SD_GFP,SD_DAPI,SD_BF,SD_NIR\n",
      "\n",
      "Detecting infection load...\n",
      "Total cells: 2298\n",
      "Percentage infected:30.9\n",
      "Extracting per marker intensity information...\n",
      "Detecting spots in puncta markers...\n"
     ]
    },
    {
     "name": "stderr",
     "output_type": "stream",
     "text": []
    },
    {
     "name": "stdout",
     "output_type": "stream",
     "text": [
      "\n",
      "Image analyzed: Plate03_Nuc_Wells-E7__Channel_SD_AF647,SD_RFP,SD_GFP,SD_DAPI,SD_BF,SD_NIR\n",
      "\n",
      "Detecting infection load...\n",
      "Total cells: 2166\n",
      "Percentage infected:31.12\n",
      "Extracting per marker intensity information...\n",
      "Detecting spots in puncta markers...\n"
     ]
    },
    {
     "name": "stderr",
     "output_type": "stream",
     "text": []
    },
    {
     "name": "stdout",
     "output_type": "stream",
     "text": [
      "\n",
      "Image analyzed: Plate03_Nuc_Wells-E8__Channel_SD_AF647,SD_RFP,SD_GFP,SD_DAPI,SD_BF,SD_NIR\n",
      "\n",
      "Detecting infection load...\n",
      "Total cells: 2181\n",
      "Percentage infected:27.46\n",
      "Extracting per marker intensity information...\n",
      "Detecting spots in puncta markers...\n"
     ]
    },
    {
     "name": "stderr",
     "output_type": "stream",
     "text": []
    },
    {
     "name": "stdout",
     "output_type": "stream",
     "text": [
      "\n",
      "Image analyzed: Plate03_Nuc_Wells-E9__Channel_SD_AF647,SD_RFP,SD_GFP,SD_DAPI,SD_BF,SD_NIR\n",
      "\n",
      "Detecting infection load...\n",
      "Total cells: 2512\n",
      "Percentage infected:23.81\n",
      "Extracting per marker intensity information...\n",
      "Detecting spots in puncta markers...\n"
     ]
    },
    {
     "name": "stderr",
     "output_type": "stream",
     "text": []
    },
    {
     "name": "stdout",
     "output_type": "stream",
     "text": [
      "\n",
      "Image analyzed: Plate03_Nuc_Wells-E10__Channel_SD_AF647,SD_RFP,SD_GFP,SD_DAPI,SD_BF,SD_NIR\n",
      "\n",
      "Detecting infection load...\n",
      "Total cells: 1824\n",
      "Percentage infected:20.67\n",
      "Extracting per marker intensity information...\n",
      "Detecting spots in puncta markers...\n"
     ]
    },
    {
     "name": "stderr",
     "output_type": "stream",
     "text": []
    },
    {
     "name": "stdout",
     "output_type": "stream",
     "text": [
      "\n",
      "Image analyzed: Plate03_Nuc_Wells-E11__Channel_SD_AF647,SD_RFP,SD_GFP,SD_DAPI,SD_BF,SD_NIR\n",
      "\n",
      "Detecting infection load...\n",
      "Total cells: 1423\n",
      "Percentage infected:21.01\n",
      "Extracting per marker intensity information...\n",
      "Detecting spots in puncta markers...\n"
     ]
    },
    {
     "name": "stderr",
     "output_type": "stream",
     "text": []
    },
    {
     "name": "stdout",
     "output_type": "stream",
     "text": [
      "\n",
      "Image analyzed: Plate03_Nuc_Wells-E12__Channel_SD_AF647,SD_RFP,SD_GFP,SD_DAPI,SD_BF,SD_NIR\n",
      "\n",
      "Detecting infection load...\n",
      "Total cells: 1666\n",
      "Percentage infected:16.51\n",
      "Extracting per marker intensity information...\n",
      "Detecting spots in puncta markers...\n"
     ]
    },
    {
     "name": "stderr",
     "output_type": "stream",
     "text": []
    },
    {
     "name": "stdout",
     "output_type": "stream",
     "text": [
      "\n",
      "Image analyzed: Plate03_Nuc_Wells-F1__Channel_SD_AF647,SD_RFP,SD_GFP,SD_DAPI,SD_BF,SD_NIR\n",
      "\n",
      "Detecting infection load...\n",
      "Total cells: 2072\n",
      "Percentage infected:25.24\n",
      "Extracting per marker intensity information...\n",
      "Detecting spots in puncta markers...\n"
     ]
    },
    {
     "name": "stderr",
     "output_type": "stream",
     "text": []
    },
    {
     "name": "stdout",
     "output_type": "stream",
     "text": [
      "\n",
      "Image analyzed: Plate03_Nuc_Wells-F2__Channel_SD_AF647,SD_RFP,SD_GFP,SD_DAPI,SD_BF,SD_NIR\n",
      "\n",
      "Detecting infection load...\n",
      "Total cells: 2318\n",
      "Percentage infected:24.59\n",
      "Extracting per marker intensity information...\n",
      "Detecting spots in puncta markers...\n"
     ]
    },
    {
     "name": "stderr",
     "output_type": "stream",
     "text": []
    },
    {
     "name": "stdout",
     "output_type": "stream",
     "text": [
      "\n",
      "Image analyzed: Plate03_Nuc_Wells-F3__Channel_SD_AF647,SD_RFP,SD_GFP,SD_DAPI,SD_BF,SD_NIR\n",
      "\n",
      "Detecting infection load...\n",
      "Total cells: 3209\n",
      "Percentage infected:22.53\n",
      "Extracting per marker intensity information...\n",
      "Detecting spots in puncta markers...\n"
     ]
    },
    {
     "name": "stderr",
     "output_type": "stream",
     "text": []
    },
    {
     "name": "stdout",
     "output_type": "stream",
     "text": [
      "\n",
      "Image analyzed: Plate03_Nuc_Wells-F4__Channel_SD_AF647,SD_RFP,SD_GFP,SD_DAPI,SD_BF,SD_NIR\n",
      "\n",
      "Detecting infection load...\n",
      "Total cells: 2012\n",
      "Percentage infected:26.84\n",
      "Extracting per marker intensity information...\n",
      "Detecting spots in puncta markers...\n"
     ]
    },
    {
     "name": "stderr",
     "output_type": "stream",
     "text": []
    },
    {
     "name": "stdout",
     "output_type": "stream",
     "text": [
      "\n",
      "Image analyzed: Plate03_Nuc_Wells-F5__Channel_SD_AF647,SD_RFP,SD_GFP,SD_DAPI,SD_BF,SD_NIR\n",
      "\n",
      "Detecting infection load...\n",
      "Total cells: 1954\n",
      "Percentage infected:28.66\n",
      "Extracting per marker intensity information...\n",
      "Detecting spots in puncta markers...\n"
     ]
    },
    {
     "name": "stderr",
     "output_type": "stream",
     "text": []
    },
    {
     "name": "stdout",
     "output_type": "stream",
     "text": [
      "\n",
      "Image analyzed: Plate03_Nuc_Wells-F6__Channel_SD_AF647,SD_RFP,SD_GFP,SD_DAPI,SD_BF,SD_NIR\n",
      "\n",
      "Detecting infection load...\n",
      "Total cells: 2354\n",
      "Percentage infected:30.93\n",
      "Extracting per marker intensity information...\n",
      "Detecting spots in puncta markers...\n"
     ]
    },
    {
     "name": "stderr",
     "output_type": "stream",
     "text": []
    },
    {
     "name": "stdout",
     "output_type": "stream",
     "text": [
      "\n",
      "Image analyzed: Plate03_Nuc_Wells-F7__Channel_SD_AF647,SD_RFP,SD_GFP,SD_DAPI,SD_BF,SD_NIR\n",
      "\n",
      "Detecting infection load...\n",
      "Total cells: 1982\n",
      "Percentage infected:24.92\n",
      "Extracting per marker intensity information...\n",
      "Detecting spots in puncta markers...\n"
     ]
    },
    {
     "name": "stderr",
     "output_type": "stream",
     "text": []
    },
    {
     "name": "stdout",
     "output_type": "stream",
     "text": [
      "\n",
      "Image analyzed: Plate03_Nuc_Wells-F8__Channel_SD_AF647,SD_RFP,SD_GFP,SD_DAPI,SD_BF,SD_NIR\n",
      "\n",
      "Detecting infection load...\n",
      "Total cells: 2449\n",
      "Percentage infected:24.05\n",
      "Extracting per marker intensity information...\n",
      "Detecting spots in puncta markers...\n"
     ]
    },
    {
     "name": "stderr",
     "output_type": "stream",
     "text": []
    },
    {
     "name": "stdout",
     "output_type": "stream",
     "text": [
      "\n",
      "Image analyzed: Plate03_Nuc_Wells-F9__Channel_SD_AF647,SD_RFP,SD_GFP,SD_DAPI,SD_BF,SD_NIR\n",
      "\n",
      "Detecting infection load...\n",
      "Total cells: 2300\n",
      "Percentage infected:22.91\n",
      "Extracting per marker intensity information...\n",
      "Detecting spots in puncta markers...\n"
     ]
    },
    {
     "name": "stderr",
     "output_type": "stream",
     "text": []
    },
    {
     "name": "stdout",
     "output_type": "stream",
     "text": [
      "\n",
      "Image analyzed: Plate03_Nuc_Wells-F10__Channel_SD_AF647,SD_RFP,SD_GFP,SD_DAPI,SD_BF,SD_NIR\n",
      "\n",
      "Detecting infection load...\n",
      "Total cells: 1983\n",
      "Percentage infected:24.26\n",
      "Extracting per marker intensity information...\n",
      "Detecting spots in puncta markers...\n"
     ]
    },
    {
     "name": "stderr",
     "output_type": "stream",
     "text": []
    },
    {
     "name": "stdout",
     "output_type": "stream",
     "text": [
      "\n",
      "Image analyzed: Plate03_Nuc_Wells-F11__Channel_SD_AF647,SD_RFP,SD_GFP,SD_DAPI,SD_BF,SD_NIR\n",
      "\n",
      "Detecting infection load...\n",
      "Total cells: 1882\n",
      "Percentage infected:22.74\n",
      "Extracting per marker intensity information...\n",
      "Detecting spots in puncta markers...\n"
     ]
    },
    {
     "name": "stderr",
     "output_type": "stream",
     "text": []
    },
    {
     "name": "stdout",
     "output_type": "stream",
     "text": [
      "\n",
      "Image analyzed: Plate03_Nuc_Wells-F12__Channel_SD_AF647,SD_RFP,SD_GFP,SD_DAPI,SD_BF,SD_NIR\n",
      "\n",
      "Detecting infection load...\n",
      "Total cells: 1178\n",
      "Percentage infected:19.61\n",
      "Extracting per marker intensity information...\n",
      "Detecting spots in puncta markers...\n"
     ]
    },
    {
     "name": "stderr",
     "output_type": "stream",
     "text": []
    },
    {
     "name": "stdout",
     "output_type": "stream",
     "text": [
      "\n",
      "Image analyzed: Plate03_Nuc_Wells-G1__Channel_SD_AF647,SD_RFP,SD_GFP,SD_DAPI,SD_BF,SD_NIR\n",
      "\n",
      "Detecting infection load...\n",
      "Total cells: 2190\n",
      "Percentage infected:23.88\n",
      "Extracting per marker intensity information...\n",
      "Detecting spots in puncta markers...\n"
     ]
    },
    {
     "name": "stderr",
     "output_type": "stream",
     "text": []
    },
    {
     "name": "stdout",
     "output_type": "stream",
     "text": [
      "\n",
      "Image analyzed: Plate03_Nuc_Wells-G2__Channel_SD_AF647,SD_RFP,SD_GFP,SD_DAPI,SD_BF,SD_NIR\n",
      "\n",
      "Detecting infection load...\n",
      "Total cells: 2153\n",
      "Percentage infected:23.08\n",
      "Extracting per marker intensity information...\n",
      "Detecting spots in puncta markers...\n"
     ]
    },
    {
     "name": "stderr",
     "output_type": "stream",
     "text": []
    },
    {
     "name": "stdout",
     "output_type": "stream",
     "text": [
      "\n",
      "Image analyzed: Plate03_Nuc_Wells-G3__Channel_SD_AF647,SD_RFP,SD_GFP,SD_DAPI,SD_BF,SD_NIR\n",
      "\n",
      "Detecting infection load...\n",
      "Total cells: 2232\n",
      "Percentage infected:19.71\n",
      "Extracting per marker intensity information...\n",
      "Detecting spots in puncta markers...\n"
     ]
    },
    {
     "name": "stderr",
     "output_type": "stream",
     "text": []
    },
    {
     "name": "stdout",
     "output_type": "stream",
     "text": [
      "\n",
      "Image analyzed: Plate03_Nuc_Wells-G4__Channel_SD_AF647,SD_RFP,SD_GFP,SD_DAPI,SD_BF,SD_NIR\n",
      "\n",
      "Detecting infection load...\n",
      "Total cells: 1579\n",
      "Percentage infected:20.84\n",
      "Extracting per marker intensity information...\n",
      "Detecting spots in puncta markers...\n"
     ]
    },
    {
     "name": "stderr",
     "output_type": "stream",
     "text": []
    },
    {
     "name": "stdout",
     "output_type": "stream",
     "text": [
      "\n",
      "Image analyzed: Plate03_Nuc_Wells-G5__Channel_SD_AF647,SD_RFP,SD_GFP,SD_DAPI,SD_BF,SD_NIR\n",
      "\n",
      "Detecting infection load...\n",
      "Total cells: 1903\n",
      "Percentage infected:27.85\n",
      "Extracting per marker intensity information...\n",
      "Detecting spots in puncta markers...\n"
     ]
    },
    {
     "name": "stderr",
     "output_type": "stream",
     "text": []
    },
    {
     "name": "stdout",
     "output_type": "stream",
     "text": [
      "\n",
      "Image analyzed: Plate03_Nuc_Wells-G6__Channel_SD_AF647,SD_RFP,SD_GFP,SD_DAPI,SD_BF,SD_NIR\n",
      "\n",
      "Detecting infection load...\n",
      "Total cells: 1827\n",
      "Percentage infected:25.23\n",
      "Extracting per marker intensity information...\n",
      "Detecting spots in puncta markers...\n"
     ]
    },
    {
     "name": "stderr",
     "output_type": "stream",
     "text": []
    },
    {
     "name": "stdout",
     "output_type": "stream",
     "text": [
      "\n",
      "Image analyzed: Plate03_Nuc_Wells-G7__Channel_SD_AF647,SD_RFP,SD_GFP,SD_DAPI,SD_BF,SD_NIR\n",
      "\n",
      "Detecting infection load...\n",
      "Total cells: 1673\n",
      "Percentage infected:25.16\n",
      "Extracting per marker intensity information...\n",
      "Detecting spots in puncta markers...\n"
     ]
    },
    {
     "name": "stderr",
     "output_type": "stream",
     "text": []
    },
    {
     "name": "stdout",
     "output_type": "stream",
     "text": [
      "\n",
      "Image analyzed: Plate03_Nuc_Wells-G8__Channel_SD_AF647,SD_RFP,SD_GFP,SD_DAPI,SD_BF,SD_NIR\n",
      "\n",
      "Detecting infection load...\n",
      "Total cells: 2190\n",
      "Percentage infected:25.21\n",
      "Extracting per marker intensity information...\n",
      "Detecting spots in puncta markers...\n"
     ]
    },
    {
     "name": "stderr",
     "output_type": "stream",
     "text": []
    },
    {
     "name": "stdout",
     "output_type": "stream",
     "text": [
      "\n",
      "Image analyzed: Plate03_Nuc_Wells-G9__Channel_SD_AF647,SD_RFP,SD_GFP,SD_DAPI,SD_BF,SD_NIR\n",
      "\n",
      "Detecting infection load...\n",
      "Total cells: 1713\n",
      "Percentage infected:25.74\n",
      "Extracting per marker intensity information...\n",
      "Detecting spots in puncta markers...\n"
     ]
    },
    {
     "name": "stderr",
     "output_type": "stream",
     "text": []
    },
    {
     "name": "stdout",
     "output_type": "stream",
     "text": [
      "\n",
      "Image analyzed: Plate03_Nuc_Wells-G10__Channel_SD_AF647,SD_RFP,SD_GFP,SD_DAPI,SD_BF,SD_NIR\n",
      "\n",
      "Detecting infection load...\n",
      "Total cells: 2040\n",
      "Percentage infected:18.14\n",
      "Extracting per marker intensity information...\n",
      "Detecting spots in puncta markers...\n"
     ]
    },
    {
     "name": "stderr",
     "output_type": "stream",
     "text": []
    },
    {
     "name": "stdout",
     "output_type": "stream",
     "text": [
      "\n",
      "Image analyzed: Plate03_Nuc_Wells-G11__Channel_SD_AF647,SD_RFP,SD_GFP,SD_DAPI,SD_BF,SD_NIR\n",
      "\n",
      "Detecting infection load...\n",
      "Total cells: 1970\n",
      "Percentage infected:22.08\n",
      "Extracting per marker intensity information...\n",
      "Detecting spots in puncta markers...\n"
     ]
    },
    {
     "name": "stderr",
     "output_type": "stream",
     "text": []
    },
    {
     "name": "stdout",
     "output_type": "stream",
     "text": [
      "\n",
      "Image analyzed: Plate03_Nuc_Wells-G12__Channel_SD_AF647,SD_RFP,SD_GFP,SD_DAPI,SD_BF,SD_NIR\n",
      "\n",
      "Detecting infection load...\n",
      "Total cells: 1575\n",
      "Percentage infected:21.59\n",
      "Extracting per marker intensity information...\n",
      "Detecting spots in puncta markers...\n"
     ]
    },
    {
     "name": "stderr",
     "output_type": "stream",
     "text": []
    },
    {
     "name": "stdout",
     "output_type": "stream",
     "text": [
      "\n",
      "Image analyzed: Plate03_Nuc_Wells-H1__Channel_SD_AF647,SD_RFP,SD_GFP,SD_DAPI,SD_BF,SD_NIR\n",
      "\n",
      "Detecting infection load...\n",
      "Total cells: 2141\n",
      "Percentage infected:0.47\n",
      "Extracting per marker intensity information...\n",
      "Detecting spots in puncta markers...\n"
     ]
    },
    {
     "name": "stderr",
     "output_type": "stream",
     "text": []
    },
    {
     "name": "stdout",
     "output_type": "stream",
     "text": [
      "\n",
      "Image analyzed: Plate03_Nuc_Wells-H2__Channel_SD_AF647,SD_RFP,SD_GFP,SD_DAPI,SD_BF,SD_NIR\n",
      "\n",
      "Detecting infection load...\n",
      "Total cells: 1978\n",
      "Percentage infected:22.7\n",
      "Extracting per marker intensity information...\n",
      "Detecting spots in puncta markers...\n"
     ]
    },
    {
     "name": "stderr",
     "output_type": "stream",
     "text": []
    },
    {
     "name": "stdout",
     "output_type": "stream",
     "text": [
      "\n",
      "Image analyzed: Plate03_Nuc_Wells-H3__Channel_SD_AF647,SD_RFP,SD_GFP,SD_DAPI,SD_BF,SD_NIR\n",
      "\n",
      "Detecting infection load...\n",
      "Total cells: 2318\n",
      "Percentage infected:19.07\n",
      "Extracting per marker intensity information...\n",
      "Detecting spots in puncta markers...\n"
     ]
    },
    {
     "name": "stderr",
     "output_type": "stream",
     "text": []
    },
    {
     "name": "stdout",
     "output_type": "stream",
     "text": [
      "\n",
      "Image analyzed: Plate03_Nuc_Wells-H4__Channel_SD_AF647,SD_RFP,SD_GFP,SD_DAPI,SD_BF,SD_NIR\n",
      "\n",
      "Detecting infection load...\n",
      "Total cells: 2067\n",
      "Percentage infected:21.67\n",
      "Extracting per marker intensity information...\n",
      "Detecting spots in puncta markers...\n"
     ]
    },
    {
     "name": "stderr",
     "output_type": "stream",
     "text": []
    },
    {
     "name": "stdout",
     "output_type": "stream",
     "text": [
      "\n",
      "Image analyzed: Plate03_Nuc_Wells-H5__Channel_SD_AF647,SD_RFP,SD_GFP,SD_DAPI,SD_BF,SD_NIR\n",
      "\n",
      "Detecting infection load...\n",
      "Total cells: 2291\n",
      "Percentage infected:30.47\n",
      "Extracting per marker intensity information...\n",
      "Detecting spots in puncta markers...\n"
     ]
    },
    {
     "name": "stderr",
     "output_type": "stream",
     "text": []
    },
    {
     "name": "stdout",
     "output_type": "stream",
     "text": [
      "\n",
      "Image analyzed: Plate03_Nuc_Wells-H6__Channel_SD_AF647,SD_RFP,SD_GFP,SD_DAPI,SD_BF,SD_NIR\n",
      "\n",
      "Detecting infection load...\n",
      "Total cells: 2030\n",
      "Percentage infected:27.29\n",
      "Extracting per marker intensity information...\n",
      "Detecting spots in puncta markers...\n"
     ]
    },
    {
     "name": "stderr",
     "output_type": "stream",
     "text": []
    },
    {
     "name": "stdout",
     "output_type": "stream",
     "text": [
      "\n",
      "Image analyzed: Plate03_Nuc_Wells-H7__Channel_SD_AF647,SD_RFP,SD_GFP,SD_DAPI,SD_BF,SD_NIR\n",
      "\n",
      "Detecting infection load...\n",
      "Total cells: 1865\n",
      "Percentage infected:28.53\n",
      "Extracting per marker intensity information...\n",
      "Detecting spots in puncta markers...\n"
     ]
    },
    {
     "name": "stderr",
     "output_type": "stream",
     "text": []
    },
    {
     "name": "stdout",
     "output_type": "stream",
     "text": [
      "\n",
      "Image analyzed: Plate03_Nuc_Wells-H8__Channel_SD_AF647,SD_RFP,SD_GFP,SD_DAPI,SD_BF,SD_NIR\n",
      "\n",
      "Detecting infection load...\n",
      "Total cells: 2076\n",
      "Percentage infected:25.92\n",
      "Extracting per marker intensity information...\n",
      "Detecting spots in puncta markers...\n"
     ]
    },
    {
     "name": "stderr",
     "output_type": "stream",
     "text": []
    },
    {
     "name": "stdout",
     "output_type": "stream",
     "text": [
      "\n",
      "Image analyzed: Plate03_Nuc_Wells-H9__Channel_SD_AF647,SD_RFP,SD_GFP,SD_DAPI,SD_BF,SD_NIR\n",
      "\n",
      "Detecting infection load...\n",
      "Total cells: 2251\n",
      "Percentage infected:24.97\n",
      "Extracting per marker intensity information...\n",
      "Detecting spots in puncta markers...\n"
     ]
    },
    {
     "name": "stderr",
     "output_type": "stream",
     "text": []
    },
    {
     "name": "stdout",
     "output_type": "stream",
     "text": [
      "\n",
      "Image analyzed: Plate03_Nuc_Wells-H10__Channel_SD_AF647,SD_RFP,SD_GFP,SD_DAPI,SD_BF,SD_NIR\n",
      "\n",
      "Detecting infection load...\n",
      "Total cells: 1944\n",
      "Percentage infected:23.77\n",
      "Extracting per marker intensity information...\n",
      "Detecting spots in puncta markers...\n"
     ]
    },
    {
     "name": "stderr",
     "output_type": "stream",
     "text": []
    },
    {
     "name": "stdout",
     "output_type": "stream",
     "text": [
      "\n",
      "Image analyzed: Plate03_Nuc_Wells-H11__Channel_SD_AF647,SD_RFP,SD_GFP,SD_DAPI,SD_BF,SD_NIR\n",
      "\n",
      "Detecting infection load...\n",
      "Total cells: 2046\n",
      "Percentage infected:26.98\n",
      "Extracting per marker intensity information...\n",
      "Detecting spots in puncta markers...\n"
     ]
    },
    {
     "name": "stderr",
     "output_type": "stream",
     "text": []
    },
    {
     "name": "stdout",
     "output_type": "stream",
     "text": [
      "\n",
      "Image analyzed: Plate03_Nuc_Wells-H12__Channel_SD_AF647,SD_RFP,SD_GFP,SD_DAPI,SD_BF,SD_NIR\n",
      "\n",
      "Detecting infection load...\n",
      "Total cells: 1703\n",
      "Percentage infected:24.02\n",
      "Extracting per marker intensity information...\n",
      "Detecting spots in puncta markers...\n"
     ]
    },
    {
     "name": "stderr",
     "output_type": "stream",
     "text": []
    },
    {
     "name": "stdout",
     "output_type": "stream",
     "text": [
      "\n",
      "Image analyzed: Plate03_Nuc_Wells-A1__Channel_SD_AF647,SD_RFP,SD_GFP,SD_DAPI,SD_BF,SD_NIR\n",
      "\n",
      "Detecting infection load...\n",
      "Total cells: 3491\n",
      "Percentage infected:23.32\n",
      "Extracting per marker intensity information...\n",
      "Detecting spots in puncta markers...\n"
     ]
    },
    {
     "name": "stderr",
     "output_type": "stream",
     "text": []
    },
    {
     "name": "stdout",
     "output_type": "stream",
     "text": [
      "\n",
      "Image analyzed: Plate03_Nuc_Wells-A2__Channel_SD_AF647,SD_RFP,SD_GFP,SD_DAPI,SD_BF,SD_NIR\n",
      "\n",
      "Detecting infection load...\n",
      "Total cells: 3241\n",
      "Percentage infected:23.3\n",
      "Extracting per marker intensity information...\n",
      "Detecting spots in puncta markers...\n"
     ]
    },
    {
     "name": "stderr",
     "output_type": "stream",
     "text": []
    },
    {
     "name": "stdout",
     "output_type": "stream",
     "text": [
      "\n",
      "Image analyzed: Plate03_Nuc_Wells-A3__Channel_SD_AF647,SD_RFP,SD_GFP,SD_DAPI,SD_BF,SD_NIR\n",
      "\n",
      "Detecting infection load...\n",
      "Total cells: 3261\n",
      "Percentage infected:24.69\n",
      "Extracting per marker intensity information...\n",
      "Detecting spots in puncta markers...\n"
     ]
    },
    {
     "name": "stderr",
     "output_type": "stream",
     "text": []
    },
    {
     "name": "stdout",
     "output_type": "stream",
     "text": [
      "\n",
      "Image analyzed: Plate03_Nuc_Wells-A4__Channel_SD_AF647,SD_RFP,SD_GFP,SD_DAPI,SD_BF,SD_NIR\n",
      "\n",
      "Detecting infection load...\n",
      "Total cells: 3253\n",
      "Percentage infected:25.45\n",
      "Extracting per marker intensity information...\n",
      "Detecting spots in puncta markers...\n"
     ]
    },
    {
     "name": "stderr",
     "output_type": "stream",
     "text": []
    },
    {
     "name": "stdout",
     "output_type": "stream",
     "text": [
      "\n",
      "Image analyzed: Plate03_Nuc_Wells-A5__Channel_SD_AF647,SD_RFP,SD_GFP,SD_DAPI,SD_BF,SD_NIR\n",
      "\n",
      "Detecting infection load...\n",
      "Total cells: 3378\n",
      "Percentage infected:26.08\n",
      "Extracting per marker intensity information...\n",
      "Detecting spots in puncta markers...\n"
     ]
    },
    {
     "name": "stderr",
     "output_type": "stream",
     "text": []
    },
    {
     "name": "stdout",
     "output_type": "stream",
     "text": [
      "\n",
      "Image analyzed: Plate03_Nuc_Wells-A6__Channel_SD_AF647,SD_RFP,SD_GFP,SD_DAPI,SD_BF,SD_NIR\n",
      "\n",
      "Detecting infection load...\n",
      "Total cells: 2549\n",
      "Percentage infected:25.7\n",
      "Extracting per marker intensity information...\n",
      "Detecting spots in puncta markers...\n"
     ]
    },
    {
     "name": "stderr",
     "output_type": "stream",
     "text": []
    },
    {
     "name": "stdout",
     "output_type": "stream",
     "text": [
      "\n",
      "Image analyzed: Plate03_Nuc_Wells-A7__Channel_SD_AF647,SD_RFP,SD_GFP,SD_DAPI,SD_BF,SD_NIR\n",
      "\n",
      "Detecting infection load...\n",
      "Total cells: 2993\n",
      "Percentage infected:24.69\n",
      "Extracting per marker intensity information...\n",
      "Detecting spots in puncta markers...\n"
     ]
    },
    {
     "name": "stderr",
     "output_type": "stream",
     "text": [
      "100%|██████████| 96/96 [47:53<00:00, 29.93s/it]\n",
      " 18%|█▊        | 3/17 [2:24:59<11:15:47, 2896.24s/it]"
     ]
    },
    {
     "name": "stdout",
     "output_type": "stream",
     "text": [
      "Analyzing Plate: Plate 04_Nuc\n"
     ]
    },
    {
     "name": "stderr",
     "output_type": "stream",
     "text": []
    },
    {
     "name": "stdout",
     "output_type": "stream",
     "text": [
      "\n",
      "Image analyzed: Plate04_Nuc_Wells-A1__Channel_SD_AF647,SD_RFP,SD_GFP,SD_DAPI,SD_BF,SD_NIR\n",
      "\n",
      "Detecting infection load...\n",
      "Total cells: 1714\n",
      "Percentage infected:26.6\n",
      "Extracting per marker intensity information...\n",
      "Detecting spots in puncta markers...\n"
     ]
    },
    {
     "name": "stderr",
     "output_type": "stream",
     "text": []
    },
    {
     "name": "stdout",
     "output_type": "stream",
     "text": [
      "\n",
      "Image analyzed: Plate04_Nuc_Wells-A2__Channel_SD_AF647,SD_RFP,SD_GFP,SD_DAPI,SD_BF,SD_NIR\n",
      "\n",
      "Detecting infection load...\n",
      "Total cells: 2711\n",
      "Percentage infected:29.62\n",
      "Extracting per marker intensity information...\n",
      "Detecting spots in puncta markers...\n"
     ]
    },
    {
     "name": "stderr",
     "output_type": "stream",
     "text": []
    },
    {
     "name": "stdout",
     "output_type": "stream",
     "text": [
      "\n",
      "Image analyzed: Plate04_Nuc_Wells-A3__Channel_SD_AF647,SD_RFP,SD_GFP,SD_DAPI,SD_BF,SD_NIR\n",
      "\n",
      "Detecting infection load...\n",
      "Total cells: 2821\n",
      "Percentage infected:27.9\n",
      "Extracting per marker intensity information...\n",
      "Detecting spots in puncta markers...\n"
     ]
    },
    {
     "name": "stderr",
     "output_type": "stream",
     "text": []
    },
    {
     "name": "stdout",
     "output_type": "stream",
     "text": [
      "\n",
      "Image analyzed: Plate04_Nuc_Wells-A4__Channel_SD_AF647,SD_RFP,SD_GFP,SD_DAPI,SD_BF,SD_NIR\n",
      "\n",
      "Detecting infection load...\n",
      "Total cells: 2959\n",
      "Percentage infected:26.73\n",
      "Extracting per marker intensity information...\n",
      "Detecting spots in puncta markers...\n"
     ]
    },
    {
     "name": "stderr",
     "output_type": "stream",
     "text": []
    },
    {
     "name": "stdout",
     "output_type": "stream",
     "text": [
      "\n",
      "Image analyzed: Plate04_Nuc_Wells-A5__Channel_SD_AF647,SD_RFP,SD_GFP,SD_DAPI,SD_BF,SD_NIR\n",
      "\n",
      "Detecting infection load...\n",
      "Total cells: 2124\n",
      "Percentage infected:31.59\n",
      "Extracting per marker intensity information...\n",
      "Detecting spots in puncta markers...\n"
     ]
    },
    {
     "name": "stderr",
     "output_type": "stream",
     "text": []
    },
    {
     "name": "stdout",
     "output_type": "stream",
     "text": [
      "\n",
      "Image analyzed: Plate04_Nuc_Wells-A6__Channel_SD_AF647,SD_RFP,SD_GFP,SD_DAPI,SD_BF,SD_NIR\n",
      "\n",
      "Detecting infection load...\n",
      "Total cells: 3052\n",
      "Percentage infected:26.54\n",
      "Extracting per marker intensity information...\n",
      "Detecting spots in puncta markers...\n"
     ]
    },
    {
     "name": "stderr",
     "output_type": "stream",
     "text": []
    },
    {
     "name": "stdout",
     "output_type": "stream",
     "text": [
      "\n",
      "Image analyzed: Plate04_Nuc_Wells-A7__Channel_SD_AF647,SD_RFP,SD_GFP,SD_DAPI,SD_BF,SD_NIR\n",
      "\n",
      "Detecting infection load...\n",
      "Total cells: 3270\n",
      "Percentage infected:23.58\n",
      "Extracting per marker intensity information...\n",
      "Detecting spots in puncta markers...\n"
     ]
    },
    {
     "name": "stderr",
     "output_type": "stream",
     "text": []
    },
    {
     "name": "stdout",
     "output_type": "stream",
     "text": [
      "\n",
      "Image analyzed: Plate04_Nuc_Wells-A8__Channel_SD_AF647,SD_RFP,SD_GFP,SD_DAPI,SD_BF,SD_NIR\n",
      "\n",
      "Detecting infection load...\n",
      "Total cells: 3302\n",
      "Percentage infected:24.2\n",
      "Extracting per marker intensity information...\n",
      "Detecting spots in puncta markers...\n"
     ]
    },
    {
     "name": "stderr",
     "output_type": "stream",
     "text": []
    },
    {
     "name": "stdout",
     "output_type": "stream",
     "text": [
      "\n",
      "Image analyzed: Plate04_Nuc_Wells-A9__Channel_SD_AF647,SD_RFP,SD_GFP,SD_DAPI,SD_BF,SD_NIR\n",
      "\n",
      "Detecting infection load...\n",
      "Total cells: 2808\n",
      "Percentage infected:23.93\n",
      "Extracting per marker intensity information...\n",
      "Detecting spots in puncta markers...\n"
     ]
    },
    {
     "name": "stderr",
     "output_type": "stream",
     "text": []
    },
    {
     "name": "stdout",
     "output_type": "stream",
     "text": [
      "\n",
      "Image analyzed: Plate04_Nuc_Wells-A10__Channel_SD_AF647,SD_RFP,SD_GFP,SD_DAPI,SD_BF,SD_NIR\n",
      "\n",
      "Detecting infection load...\n",
      "Total cells: 2345\n",
      "Percentage infected:18.68\n",
      "Extracting per marker intensity information...\n",
      "Detecting spots in puncta markers...\n"
     ]
    },
    {
     "name": "stderr",
     "output_type": "stream",
     "text": []
    },
    {
     "name": "stdout",
     "output_type": "stream",
     "text": [
      "\n",
      "Image analyzed: Plate04_Nuc_Wells-A11__Channel_SD_AF647,SD_RFP,SD_GFP,SD_DAPI,SD_BF,SD_NIR\n",
      "\n",
      "Detecting infection load...\n",
      "Total cells: 2022\n",
      "Percentage infected:21.51\n",
      "Extracting per marker intensity information...\n",
      "Detecting spots in puncta markers...\n"
     ]
    },
    {
     "name": "stderr",
     "output_type": "stream",
     "text": []
    },
    {
     "name": "stdout",
     "output_type": "stream",
     "text": [
      "\n",
      "Image analyzed: Plate04_Nuc_Wells-A12__Channel_SD_AF647,SD_RFP,SD_GFP,SD_DAPI,SD_BF,SD_NIR\n",
      "\n",
      "Detecting infection load...\n",
      "Total cells: 2018\n",
      "Percentage infected:21.8\n",
      "Extracting per marker intensity information...\n",
      "Detecting spots in puncta markers...\n"
     ]
    },
    {
     "name": "stderr",
     "output_type": "stream",
     "text": []
    },
    {
     "name": "stdout",
     "output_type": "stream",
     "text": [
      "\n",
      "Image analyzed: Plate04_Nuc_Wells-B1__Channel_SD_AF647,SD_RFP,SD_GFP,SD_DAPI,SD_BF,SD_NIR\n",
      "\n",
      "Detecting infection load...\n",
      "Total cells: 1264\n",
      "Percentage infected:25.79\n",
      "Extracting per marker intensity information...\n",
      "Detecting spots in puncta markers...\n"
     ]
    },
    {
     "name": "stderr",
     "output_type": "stream",
     "text": []
    },
    {
     "name": "stdout",
     "output_type": "stream",
     "text": [
      "\n",
      "Image analyzed: Plate04_Nuc_Wells-B2__Channel_SD_AF647,SD_RFP,SD_GFP,SD_DAPI,SD_BF,SD_NIR\n",
      "\n",
      "Detecting infection load...\n",
      "Total cells: 1709\n",
      "Percentage infected:20.77\n",
      "Extracting per marker intensity information...\n",
      "Detecting spots in puncta markers...\n"
     ]
    },
    {
     "name": "stderr",
     "output_type": "stream",
     "text": []
    },
    {
     "name": "stdout",
     "output_type": "stream",
     "text": [
      "\n",
      "Image analyzed: Plate04_Nuc_Wells-B3__Channel_SD_AF647,SD_RFP,SD_GFP,SD_DAPI,SD_BF,SD_NIR\n",
      "\n",
      "Detecting infection load...\n",
      "Total cells: 1553\n",
      "Percentage infected:24.08\n",
      "Extracting per marker intensity information...\n",
      "Detecting spots in puncta markers...\n"
     ]
    },
    {
     "name": "stderr",
     "output_type": "stream",
     "text": []
    },
    {
     "name": "stdout",
     "output_type": "stream",
     "text": [
      "\n",
      "Image analyzed: Plate04_Nuc_Wells-B4__Channel_SD_AF647,SD_RFP,SD_GFP,SD_DAPI,SD_BF,SD_NIR\n",
      "\n",
      "Detecting infection load...\n",
      "Total cells: 1856\n",
      "Percentage infected:23.49\n",
      "Extracting per marker intensity information...\n",
      "Detecting spots in puncta markers...\n"
     ]
    },
    {
     "name": "stderr",
     "output_type": "stream",
     "text": []
    },
    {
     "name": "stdout",
     "output_type": "stream",
     "text": [
      "\n",
      "Image analyzed: Plate04_Nuc_Wells-B5__Channel_SD_AF647,SD_RFP,SD_GFP,SD_DAPI,SD_BF,SD_NIR\n",
      "\n",
      "Detecting infection load...\n",
      "Total cells: 2205\n",
      "Percentage infected:26.39\n",
      "Extracting per marker intensity information...\n",
      "Detecting spots in puncta markers...\n"
     ]
    },
    {
     "name": "stderr",
     "output_type": "stream",
     "text": []
    },
    {
     "name": "stdout",
     "output_type": "stream",
     "text": [
      "\n",
      "Image analyzed: Plate04_Nuc_Wells-B6__Channel_SD_AF647,SD_RFP,SD_GFP,SD_DAPI,SD_BF,SD_NIR\n",
      "\n",
      "Detecting infection load...\n",
      "Total cells: 2236\n",
      "Percentage infected:24.51\n",
      "Extracting per marker intensity information...\n",
      "Detecting spots in puncta markers...\n"
     ]
    },
    {
     "name": "stderr",
     "output_type": "stream",
     "text": []
    },
    {
     "name": "stdout",
     "output_type": "stream",
     "text": [
      "\n",
      "Image analyzed: Plate04_Nuc_Wells-B7__Channel_SD_AF647,SD_RFP,SD_GFP,SD_DAPI,SD_BF,SD_NIR\n",
      "\n",
      "Detecting infection load...\n",
      "Total cells: 2005\n",
      "Percentage infected:26.43\n",
      "Extracting per marker intensity information...\n",
      "Detecting spots in puncta markers...\n"
     ]
    },
    {
     "name": "stderr",
     "output_type": "stream",
     "text": []
    },
    {
     "name": "stdout",
     "output_type": "stream",
     "text": [
      "\n",
      "Image analyzed: Plate04_Nuc_Wells-B8__Channel_SD_AF647,SD_RFP,SD_GFP,SD_DAPI,SD_BF,SD_NIR\n",
      "\n",
      "Detecting infection load...\n",
      "Total cells: 1631\n",
      "Percentage infected:18.58\n",
      "Extracting per marker intensity information...\n",
      "Detecting spots in puncta markers...\n"
     ]
    },
    {
     "name": "stderr",
     "output_type": "stream",
     "text": []
    },
    {
     "name": "stdout",
     "output_type": "stream",
     "text": [
      "\n",
      "Image analyzed: Plate04_Nuc_Wells-B9__Channel_SD_AF647,SD_RFP,SD_GFP,SD_DAPI,SD_BF,SD_NIR\n",
      "\n",
      "Detecting infection load...\n",
      "Total cells: 1928\n",
      "Percentage infected:24.27\n",
      "Extracting per marker intensity information...\n",
      "Detecting spots in puncta markers...\n"
     ]
    },
    {
     "name": "stderr",
     "output_type": "stream",
     "text": []
    },
    {
     "name": "stdout",
     "output_type": "stream",
     "text": [
      "\n",
      "Image analyzed: Plate04_Nuc_Wells-B10__Channel_SD_AF647,SD_RFP,SD_GFP,SD_DAPI,SD_BF,SD_NIR\n",
      "\n",
      "Detecting infection load...\n",
      "Total cells: 1709\n",
      "Percentage infected:24.58\n",
      "Extracting per marker intensity information...\n",
      "Detecting spots in puncta markers...\n"
     ]
    },
    {
     "name": "stderr",
     "output_type": "stream",
     "text": []
    },
    {
     "name": "stdout",
     "output_type": "stream",
     "text": [
      "\n",
      "Image analyzed: Plate04_Nuc_Wells-B11__Channel_SD_AF647,SD_RFP,SD_GFP,SD_DAPI,SD_BF,SD_NIR\n",
      "\n",
      "Detecting infection load...\n",
      "Total cells: 1168\n",
      "Percentage infected:23.8\n",
      "Extracting per marker intensity information...\n",
      "Detecting spots in puncta markers...\n"
     ]
    },
    {
     "name": "stderr",
     "output_type": "stream",
     "text": []
    },
    {
     "name": "stdout",
     "output_type": "stream",
     "text": [
      "\n",
      "Image analyzed: Plate04_Nuc_Wells-B12__Channel_SD_AF647,SD_RFP,SD_GFP,SD_DAPI,SD_BF,SD_NIR\n",
      "\n",
      "Detecting infection load...\n",
      "Total cells: 1340\n",
      "Percentage infected:24.55\n",
      "Extracting per marker intensity information...\n",
      "Detecting spots in puncta markers...\n"
     ]
    },
    {
     "name": "stderr",
     "output_type": "stream",
     "text": []
    },
    {
     "name": "stdout",
     "output_type": "stream",
     "text": [
      "\n",
      "Image analyzed: Plate04_Nuc_Wells-C1__Channel_SD_AF647,SD_RFP,SD_GFP,SD_DAPI,SD_BF,SD_NIR\n",
      "\n",
      "Detecting infection load...\n",
      "Total cells: 957\n",
      "Percentage infected:23.2\n",
      "Extracting per marker intensity information...\n",
      "Detecting spots in puncta markers...\n"
     ]
    },
    {
     "name": "stderr",
     "output_type": "stream",
     "text": []
    },
    {
     "name": "stdout",
     "output_type": "stream",
     "text": [
      "\n",
      "Image analyzed: Plate04_Nuc_Wells-C2__Channel_SD_AF647,SD_RFP,SD_GFP,SD_DAPI,SD_BF,SD_NIR\n",
      "\n",
      "Detecting infection load...\n",
      "Total cells: 1131\n",
      "Percentage infected:18.74\n",
      "Extracting per marker intensity information...\n",
      "Detecting spots in puncta markers...\n"
     ]
    },
    {
     "name": "stderr",
     "output_type": "stream",
     "text": []
    },
    {
     "name": "stdout",
     "output_type": "stream",
     "text": [
      "\n",
      "Image analyzed: Plate04_Nuc_Wells-C3__Channel_SD_AF647,SD_RFP,SD_GFP,SD_DAPI,SD_BF,SD_NIR\n",
      "\n",
      "Detecting infection load...\n",
      "Total cells: 2158\n",
      "Percentage infected:22.71\n",
      "Extracting per marker intensity information...\n",
      "Detecting spots in puncta markers...\n"
     ]
    },
    {
     "name": "stderr",
     "output_type": "stream",
     "text": []
    },
    {
     "name": "stdout",
     "output_type": "stream",
     "text": [
      "\n",
      "Image analyzed: Plate04_Nuc_Wells-C4__Channel_SD_AF647,SD_RFP,SD_GFP,SD_DAPI,SD_BF,SD_NIR\n",
      "\n",
      "Detecting infection load...\n",
      "Total cells: 1786\n",
      "Percentage infected:25.7\n",
      "Extracting per marker intensity information...\n",
      "Detecting spots in puncta markers...\n"
     ]
    },
    {
     "name": "stderr",
     "output_type": "stream",
     "text": []
    },
    {
     "name": "stdout",
     "output_type": "stream",
     "text": [
      "\n",
      "Image analyzed: Plate04_Nuc_Wells-C5__Channel_SD_AF647,SD_RFP,SD_GFP,SD_DAPI,SD_BF,SD_NIR\n",
      "\n",
      "Detecting infection load...\n",
      "Total cells: 1669\n",
      "Percentage infected:33.01\n",
      "Extracting per marker intensity information...\n",
      "Detecting spots in puncta markers...\n"
     ]
    },
    {
     "name": "stderr",
     "output_type": "stream",
     "text": []
    },
    {
     "name": "stdout",
     "output_type": "stream",
     "text": [
      "\n",
      "Image analyzed: Plate04_Nuc_Wells-C6__Channel_SD_AF647,SD_RFP,SD_GFP,SD_DAPI,SD_BF,SD_NIR\n",
      "\n",
      "Detecting infection load...\n",
      "Total cells: 1280\n",
      "Percentage infected:27.66\n",
      "Extracting per marker intensity information...\n",
      "Detecting spots in puncta markers...\n"
     ]
    },
    {
     "name": "stderr",
     "output_type": "stream",
     "text": []
    },
    {
     "name": "stdout",
     "output_type": "stream",
     "text": [
      "\n",
      "Image analyzed: Plate04_Nuc_Wells-C7__Channel_SD_AF647,SD_RFP,SD_GFP,SD_DAPI,SD_BF,SD_NIR\n",
      "\n",
      "Detecting infection load...\n",
      "Total cells: 1455\n",
      "Percentage infected:20.76\n",
      "Extracting per marker intensity information...\n",
      "Detecting spots in puncta markers...\n"
     ]
    },
    {
     "name": "stderr",
     "output_type": "stream",
     "text": []
    },
    {
     "name": "stdout",
     "output_type": "stream",
     "text": [
      "\n",
      "Image analyzed: Plate04_Nuc_Wells-C8__Channel_SD_AF647,SD_RFP,SD_GFP,SD_DAPI,SD_BF,SD_NIR\n",
      "\n",
      "Detecting infection load...\n",
      "Total cells: 1149\n",
      "Percentage infected:22.11\n",
      "Extracting per marker intensity information...\n",
      "Detecting spots in puncta markers...\n"
     ]
    },
    {
     "name": "stderr",
     "output_type": "stream",
     "text": []
    },
    {
     "name": "stdout",
     "output_type": "stream",
     "text": [
      "\n",
      "Image analyzed: Plate04_Nuc_Wells-C9__Channel_SD_AF647,SD_RFP,SD_GFP,SD_DAPI,SD_BF,SD_NIR\n",
      "\n",
      "Detecting infection load...\n",
      "Total cells: 1442\n",
      "Percentage infected:26.01\n",
      "Extracting per marker intensity information...\n",
      "Detecting spots in puncta markers...\n"
     ]
    },
    {
     "name": "stderr",
     "output_type": "stream",
     "text": []
    },
    {
     "name": "stdout",
     "output_type": "stream",
     "text": [
      "\n",
      "Image analyzed: Plate04_Nuc_Wells-C10__Channel_SD_AF647,SD_RFP,SD_GFP,SD_DAPI,SD_BF,SD_NIR\n",
      "\n",
      "Detecting infection load...\n",
      "Total cells: 1298\n",
      "Percentage infected:21.57\n",
      "Extracting per marker intensity information...\n",
      "Detecting spots in puncta markers...\n"
     ]
    },
    {
     "name": "stderr",
     "output_type": "stream",
     "text": []
    },
    {
     "name": "stdout",
     "output_type": "stream",
     "text": [
      "\n",
      "Image analyzed: Plate04_Nuc_Wells-C11__Channel_SD_AF647,SD_RFP,SD_GFP,SD_DAPI,SD_BF,SD_NIR\n",
      "\n",
      "Detecting infection load...\n",
      "Total cells: 1671\n",
      "Percentage infected:21.3\n",
      "Extracting per marker intensity information...\n",
      "Detecting spots in puncta markers...\n"
     ]
    },
    {
     "name": "stderr",
     "output_type": "stream",
     "text": []
    },
    {
     "name": "stdout",
     "output_type": "stream",
     "text": [
      "\n",
      "Image analyzed: Plate04_Nuc_Wells-C12__Channel_SD_AF647,SD_RFP,SD_GFP,SD_DAPI,SD_BF,SD_NIR\n",
      "\n",
      "Detecting infection load...\n",
      "Total cells: 1453\n",
      "Percentage infected:21.34\n",
      "Extracting per marker intensity information...\n",
      "Detecting spots in puncta markers...\n"
     ]
    },
    {
     "name": "stderr",
     "output_type": "stream",
     "text": []
    },
    {
     "name": "stdout",
     "output_type": "stream",
     "text": [
      "\n",
      "Image analyzed: Plate04_Nuc_Wells-D1__Channel_SD_AF647,SD_RFP,SD_GFP,SD_DAPI,SD_BF,SD_NIR\n",
      "\n",
      "Detecting infection load...\n",
      "Total cells: 1278\n",
      "Percentage infected:21.99\n",
      "Extracting per marker intensity information...\n",
      "Detecting spots in puncta markers...\n"
     ]
    },
    {
     "name": "stderr",
     "output_type": "stream",
     "text": []
    },
    {
     "name": "stdout",
     "output_type": "stream",
     "text": [
      "\n",
      "Image analyzed: Plate04_Nuc_Wells-D2__Channel_SD_AF647,SD_RFP,SD_GFP,SD_DAPI,SD_BF,SD_NIR\n",
      "\n",
      "Detecting infection load...\n",
      "Total cells: 1343\n",
      "Percentage infected:19.73\n",
      "Extracting per marker intensity information...\n",
      "Detecting spots in puncta markers...\n"
     ]
    },
    {
     "name": "stderr",
     "output_type": "stream",
     "text": []
    },
    {
     "name": "stdout",
     "output_type": "stream",
     "text": [
      "\n",
      "Image analyzed: Plate04_Nuc_Wells-D3__Channel_SD_AF647,SD_RFP,SD_GFP,SD_DAPI,SD_BF,SD_NIR\n",
      "\n",
      "Detecting infection load...\n",
      "Total cells: 1318\n",
      "Percentage infected:27.54\n",
      "Extracting per marker intensity information...\n",
      "Detecting spots in puncta markers...\n"
     ]
    },
    {
     "name": "stderr",
     "output_type": "stream",
     "text": []
    },
    {
     "name": "stdout",
     "output_type": "stream",
     "text": [
      "\n",
      "Image analyzed: Plate04_Nuc_Wells-D4__Channel_SD_AF647,SD_RFP,SD_GFP,SD_DAPI,SD_BF,SD_NIR\n",
      "\n",
      "Detecting infection load...\n",
      "Total cells: 1555\n",
      "Percentage infected:26.05\n",
      "Extracting per marker intensity information...\n",
      "Detecting spots in puncta markers...\n"
     ]
    },
    {
     "name": "stderr",
     "output_type": "stream",
     "text": []
    },
    {
     "name": "stdout",
     "output_type": "stream",
     "text": [
      "\n",
      "Image analyzed: Plate04_Nuc_Wells-D5__Channel_SD_AF647,SD_RFP,SD_GFP,SD_DAPI,SD_BF,SD_NIR\n",
      "\n",
      "Detecting infection load...\n",
      "Total cells: 2070\n",
      "Percentage infected:27.73\n",
      "Extracting per marker intensity information...\n",
      "Detecting spots in puncta markers...\n"
     ]
    },
    {
     "name": "stderr",
     "output_type": "stream",
     "text": []
    },
    {
     "name": "stdout",
     "output_type": "stream",
     "text": [
      "\n",
      "Image analyzed: Plate04_Nuc_Wells-D6__Channel_SD_AF647,SD_RFP,SD_GFP,SD_DAPI,SD_BF,SD_NIR\n",
      "\n",
      "Detecting infection load...\n",
      "Total cells: 1990\n",
      "Percentage infected:26.68\n",
      "Extracting per marker intensity information...\n",
      "Detecting spots in puncta markers...\n"
     ]
    },
    {
     "name": "stderr",
     "output_type": "stream",
     "text": []
    },
    {
     "name": "stdout",
     "output_type": "stream",
     "text": [
      "\n",
      "Image analyzed: Plate04_Nuc_Wells-D7__Channel_SD_AF647,SD_RFP,SD_GFP,SD_DAPI,SD_BF,SD_NIR\n",
      "\n",
      "Detecting infection load...\n",
      "Total cells: 1985\n",
      "Percentage infected:26.15\n",
      "Extracting per marker intensity information...\n",
      "Detecting spots in puncta markers...\n"
     ]
    },
    {
     "name": "stderr",
     "output_type": "stream",
     "text": []
    },
    {
     "name": "stdout",
     "output_type": "stream",
     "text": [
      "\n",
      "Image analyzed: Plate04_Nuc_Wells-D8__Channel_SD_AF647,SD_RFP,SD_GFP,SD_DAPI,SD_BF,SD_NIR\n",
      "\n",
      "Detecting infection load...\n",
      "Total cells: 2257\n",
      "Percentage infected:24.81\n",
      "Extracting per marker intensity information...\n",
      "Detecting spots in puncta markers...\n"
     ]
    },
    {
     "name": "stderr",
     "output_type": "stream",
     "text": []
    },
    {
     "name": "stdout",
     "output_type": "stream",
     "text": [
      "\n",
      "Image analyzed: Plate04_Nuc_Wells-D9__Channel_SD_AF647,SD_RFP,SD_GFP,SD_DAPI,SD_BF,SD_NIR\n",
      "\n",
      "Detecting infection load...\n",
      "Total cells: 1929\n",
      "Percentage infected:25.04\n",
      "Extracting per marker intensity information...\n",
      "Detecting spots in puncta markers...\n"
     ]
    },
    {
     "name": "stderr",
     "output_type": "stream",
     "text": []
    },
    {
     "name": "stdout",
     "output_type": "stream",
     "text": [
      "\n",
      "Image analyzed: Plate04_Nuc_Wells-D10__Channel_SD_AF647,SD_RFP,SD_GFP,SD_DAPI,SD_BF,SD_NIR\n",
      "\n",
      "Detecting infection load...\n",
      "Total cells: 1823\n",
      "Percentage infected:22.87\n",
      "Extracting per marker intensity information...\n",
      "Detecting spots in puncta markers...\n"
     ]
    },
    {
     "name": "stderr",
     "output_type": "stream",
     "text": []
    },
    {
     "name": "stdout",
     "output_type": "stream",
     "text": [
      "\n",
      "Image analyzed: Plate04_Nuc_Wells-D11__Channel_SD_AF647,SD_RFP,SD_GFP,SD_DAPI,SD_BF,SD_NIR\n",
      "\n",
      "Detecting infection load...\n",
      "Total cells: 1925\n",
      "Percentage infected:25.45\n",
      "Extracting per marker intensity information...\n",
      "Detecting spots in puncta markers...\n"
     ]
    },
    {
     "name": "stderr",
     "output_type": "stream",
     "text": []
    },
    {
     "name": "stdout",
     "output_type": "stream",
     "text": [
      "\n",
      "Image analyzed: Plate04_Nuc_Wells-D12__Channel_SD_AF647,SD_RFP,SD_GFP,SD_DAPI,SD_BF,SD_NIR\n",
      "\n",
      "Detecting infection load...\n",
      "Total cells: 1626\n",
      "Percentage infected:24.17\n",
      "Extracting per marker intensity information...\n",
      "Detecting spots in puncta markers...\n"
     ]
    },
    {
     "name": "stderr",
     "output_type": "stream",
     "text": []
    },
    {
     "name": "stdout",
     "output_type": "stream",
     "text": [
      "\n",
      "Image analyzed: Plate04_Nuc_Wells-E1__Channel_SD_AF647,SD_RFP,SD_GFP,SD_DAPI,SD_BF,SD_NIR\n",
      "\n",
      "Detecting infection load...\n",
      "Total cells: 1958\n",
      "Percentage infected:20.89\n",
      "Extracting per marker intensity information...\n",
      "Detecting spots in puncta markers...\n"
     ]
    },
    {
     "name": "stderr",
     "output_type": "stream",
     "text": []
    },
    {
     "name": "stdout",
     "output_type": "stream",
     "text": [
      "\n",
      "Image analyzed: Plate04_Nuc_Wells-E2__Channel_SD_AF647,SD_RFP,SD_GFP,SD_DAPI,SD_BF,SD_NIR\n",
      "\n",
      "Detecting infection load...\n",
      "Total cells: 1984\n",
      "Percentage infected:21.22\n",
      "Extracting per marker intensity information...\n",
      "Detecting spots in puncta markers...\n"
     ]
    },
    {
     "name": "stderr",
     "output_type": "stream",
     "text": []
    },
    {
     "name": "stdout",
     "output_type": "stream",
     "text": [
      "\n",
      "Image analyzed: Plate04_Nuc_Wells-E3__Channel_SD_AF647,SD_RFP,SD_GFP,SD_DAPI,SD_BF,SD_NIR\n",
      "\n",
      "Detecting infection load...\n",
      "Total cells: 1862\n",
      "Percentage infected:27.07\n",
      "Extracting per marker intensity information...\n",
      "Detecting spots in puncta markers...\n"
     ]
    },
    {
     "name": "stderr",
     "output_type": "stream",
     "text": []
    },
    {
     "name": "stdout",
     "output_type": "stream",
     "text": [
      "\n",
      "Image analyzed: Plate04_Nuc_Wells-E4__Channel_SD_AF647,SD_RFP,SD_GFP,SD_DAPI,SD_BF,SD_NIR\n",
      "\n",
      "Detecting infection load...\n",
      "Total cells: 1312\n",
      "Percentage infected:26.98\n",
      "Extracting per marker intensity information...\n",
      "Detecting spots in puncta markers...\n"
     ]
    },
    {
     "name": "stderr",
     "output_type": "stream",
     "text": []
    },
    {
     "name": "stdout",
     "output_type": "stream",
     "text": [
      "\n",
      "Image analyzed: Plate04_Nuc_Wells-E5__Channel_SD_AF647,SD_RFP,SD_GFP,SD_DAPI,SD_BF,SD_NIR\n",
      "\n",
      "Detecting infection load...\n",
      "Total cells: 2531\n",
      "Percentage infected:27.22\n",
      "Extracting per marker intensity information...\n",
      "Detecting spots in puncta markers...\n"
     ]
    },
    {
     "name": "stderr",
     "output_type": "stream",
     "text": []
    },
    {
     "name": "stdout",
     "output_type": "stream",
     "text": [
      "\n",
      "Image analyzed: Plate04_Nuc_Wells-E6__Channel_SD_AF647,SD_RFP,SD_GFP,SD_DAPI,SD_BF,SD_NIR\n",
      "\n",
      "Detecting infection load...\n",
      "Total cells: 2248\n",
      "Percentage infected:30.12\n",
      "Extracting per marker intensity information...\n",
      "Detecting spots in puncta markers...\n"
     ]
    },
    {
     "name": "stderr",
     "output_type": "stream",
     "text": []
    },
    {
     "name": "stdout",
     "output_type": "stream",
     "text": [
      "\n",
      "Image analyzed: Plate04_Nuc_Wells-E7__Channel_SD_AF647,SD_RFP,SD_GFP,SD_DAPI,SD_BF,SD_NIR\n",
      "\n",
      "Detecting infection load...\n",
      "Total cells: 2029\n",
      "Percentage infected:27.25\n",
      "Extracting per marker intensity information...\n",
      "Detecting spots in puncta markers...\n"
     ]
    },
    {
     "name": "stderr",
     "output_type": "stream",
     "text": []
    },
    {
     "name": "stdout",
     "output_type": "stream",
     "text": [
      "\n",
      "Image analyzed: Plate04_Nuc_Wells-E8__Channel_SD_AF647,SD_RFP,SD_GFP,SD_DAPI,SD_BF,SD_NIR\n",
      "\n",
      "Detecting infection load...\n",
      "Total cells: 2206\n",
      "Percentage infected:28.42\n",
      "Extracting per marker intensity information...\n",
      "Detecting spots in puncta markers...\n"
     ]
    },
    {
     "name": "stderr",
     "output_type": "stream",
     "text": []
    },
    {
     "name": "stdout",
     "output_type": "stream",
     "text": [
      "\n",
      "Image analyzed: Plate04_Nuc_Wells-E9__Channel_SD_AF647,SD_RFP,SD_GFP,SD_DAPI,SD_BF,SD_NIR\n",
      "\n",
      "Detecting infection load...\n",
      "Total cells: 2134\n",
      "Percentage infected:26.15\n",
      "Extracting per marker intensity information...\n",
      "Detecting spots in puncta markers...\n"
     ]
    },
    {
     "name": "stderr",
     "output_type": "stream",
     "text": []
    },
    {
     "name": "stdout",
     "output_type": "stream",
     "text": [
      "\n",
      "Image analyzed: Plate04_Nuc_Wells-E10__Channel_SD_AF647,SD_RFP,SD_GFP,SD_DAPI,SD_BF,SD_NIR\n",
      "\n",
      "Detecting infection load...\n",
      "Total cells: 1906\n",
      "Percentage infected:22.04\n",
      "Extracting per marker intensity information...\n",
      "Detecting spots in puncta markers...\n"
     ]
    },
    {
     "name": "stderr",
     "output_type": "stream",
     "text": []
    },
    {
     "name": "stdout",
     "output_type": "stream",
     "text": [
      "\n",
      "Image analyzed: Plate04_Nuc_Wells-E11__Channel_SD_AF647,SD_RFP,SD_GFP,SD_DAPI,SD_BF,SD_NIR\n",
      "\n",
      "Detecting infection load...\n",
      "Total cells: 1570\n",
      "Percentage infected:24.59\n",
      "Extracting per marker intensity information...\n",
      "Detecting spots in puncta markers...\n"
     ]
    },
    {
     "name": "stderr",
     "output_type": "stream",
     "text": []
    },
    {
     "name": "stdout",
     "output_type": "stream",
     "text": [
      "\n",
      "Image analyzed: Plate04_Nuc_Wells-E12__Channel_SD_AF647,SD_RFP,SD_GFP,SD_DAPI,SD_BF,SD_NIR\n",
      "\n",
      "Detecting infection load...\n",
      "Total cells: 1848\n",
      "Percentage infected:18.94\n",
      "Extracting per marker intensity information...\n",
      "Detecting spots in puncta markers...\n"
     ]
    },
    {
     "name": "stderr",
     "output_type": "stream",
     "text": []
    },
    {
     "name": "stdout",
     "output_type": "stream",
     "text": [
      "\n",
      "Image analyzed: Plate04_Nuc_Wells-F1__Channel_SD_AF647,SD_RFP,SD_GFP,SD_DAPI,SD_BF,SD_NIR\n",
      "\n",
      "Detecting infection load...\n",
      "Total cells: 1673\n",
      "Percentage infected:19.84\n",
      "Extracting per marker intensity information...\n",
      "Detecting spots in puncta markers...\n"
     ]
    },
    {
     "name": "stderr",
     "output_type": "stream",
     "text": []
    },
    {
     "name": "stdout",
     "output_type": "stream",
     "text": [
      "\n",
      "Image analyzed: Plate04_Nuc_Wells-F2__Channel_SD_AF647,SD_RFP,SD_GFP,SD_DAPI,SD_BF,SD_NIR\n",
      "\n",
      "Detecting infection load...\n",
      "Total cells: 2437\n",
      "Percentage infected:31.02\n",
      "Extracting per marker intensity information...\n",
      "Detecting spots in puncta markers...\n"
     ]
    },
    {
     "name": "stderr",
     "output_type": "stream",
     "text": []
    },
    {
     "name": "stdout",
     "output_type": "stream",
     "text": [
      "\n",
      "Image analyzed: Plate04_Nuc_Wells-F3__Channel_SD_AF647,SD_RFP,SD_GFP,SD_DAPI,SD_BF,SD_NIR\n",
      "\n",
      "Detecting infection load...\n",
      "Total cells: 2049\n",
      "Percentage infected:26.11\n",
      "Extracting per marker intensity information...\n",
      "Detecting spots in puncta markers...\n"
     ]
    },
    {
     "name": "stderr",
     "output_type": "stream",
     "text": []
    },
    {
     "name": "stdout",
     "output_type": "stream",
     "text": [
      "\n",
      "Image analyzed: Plate04_Nuc_Wells-F4__Channel_SD_AF647,SD_RFP,SD_GFP,SD_DAPI,SD_BF,SD_NIR\n",
      "\n",
      "Detecting infection load...\n",
      "Total cells: 2132\n",
      "Percentage infected:29.36\n",
      "Extracting per marker intensity information...\n",
      "Detecting spots in puncta markers...\n"
     ]
    },
    {
     "name": "stderr",
     "output_type": "stream",
     "text": []
    },
    {
     "name": "stdout",
     "output_type": "stream",
     "text": [
      "\n",
      "Image analyzed: Plate04_Nuc_Wells-F5__Channel_SD_AF647,SD_RFP,SD_GFP,SD_DAPI,SD_BF,SD_NIR\n",
      "\n",
      "Detecting infection load...\n",
      "Total cells: 2191\n",
      "Percentage infected:24.33\n",
      "Extracting per marker intensity information...\n",
      "Detecting spots in puncta markers...\n"
     ]
    },
    {
     "name": "stderr",
     "output_type": "stream",
     "text": []
    },
    {
     "name": "stdout",
     "output_type": "stream",
     "text": [
      "\n",
      "Image analyzed: Plate04_Nuc_Wells-F6__Channel_SD_AF647,SD_RFP,SD_GFP,SD_DAPI,SD_BF,SD_NIR\n",
      "\n",
      "Detecting infection load...\n",
      "Total cells: 2274\n",
      "Percentage infected:27.13\n",
      "Extracting per marker intensity information...\n",
      "Detecting spots in puncta markers...\n"
     ]
    },
    {
     "name": "stderr",
     "output_type": "stream",
     "text": []
    },
    {
     "name": "stdout",
     "output_type": "stream",
     "text": [
      "\n",
      "Image analyzed: Plate04_Nuc_Wells-F7__Channel_SD_AF647,SD_RFP,SD_GFP,SD_DAPI,SD_BF,SD_NIR\n",
      "\n",
      "Detecting infection load...\n",
      "Total cells: 1908\n",
      "Percentage infected:27.57\n",
      "Extracting per marker intensity information...\n",
      "Detecting spots in puncta markers...\n"
     ]
    },
    {
     "name": "stderr",
     "output_type": "stream",
     "text": []
    },
    {
     "name": "stdout",
     "output_type": "stream",
     "text": [
      "\n",
      "Image analyzed: Plate04_Nuc_Wells-F8__Channel_SD_AF647,SD_RFP,SD_GFP,SD_DAPI,SD_BF,SD_NIR\n",
      "\n",
      "Detecting infection load...\n",
      "Total cells: 1931\n",
      "Percentage infected:22.73\n",
      "Extracting per marker intensity information...\n",
      "Detecting spots in puncta markers...\n"
     ]
    },
    {
     "name": "stderr",
     "output_type": "stream",
     "text": []
    },
    {
     "name": "stdout",
     "output_type": "stream",
     "text": [
      "\n",
      "Image analyzed: Plate04_Nuc_Wells-F9__Channel_SD_AF647,SD_RFP,SD_GFP,SD_DAPI,SD_BF,SD_NIR\n",
      "\n",
      "Detecting infection load...\n",
      "Total cells: 1836\n",
      "Percentage infected:26.74\n",
      "Extracting per marker intensity information...\n",
      "Detecting spots in puncta markers...\n"
     ]
    },
    {
     "name": "stderr",
     "output_type": "stream",
     "text": []
    },
    {
     "name": "stdout",
     "output_type": "stream",
     "text": [
      "\n",
      "Image analyzed: Plate04_Nuc_Wells-F10__Channel_SD_AF647,SD_RFP,SD_GFP,SD_DAPI,SD_BF,SD_NIR\n",
      "\n",
      "Detecting infection load...\n",
      "Total cells: 1792\n",
      "Percentage infected:26.4\n",
      "Extracting per marker intensity information...\n",
      "Detecting spots in puncta markers...\n"
     ]
    },
    {
     "name": "stderr",
     "output_type": "stream",
     "text": []
    },
    {
     "name": "stdout",
     "output_type": "stream",
     "text": [
      "\n",
      "Image analyzed: Plate04_Nuc_Wells-F11__Channel_SD_AF647,SD_RFP,SD_GFP,SD_DAPI,SD_BF,SD_NIR\n",
      "\n",
      "Detecting infection load...\n",
      "Total cells: 1912\n",
      "Percentage infected:22.8\n",
      "Extracting per marker intensity information...\n",
      "Detecting spots in puncta markers...\n"
     ]
    },
    {
     "name": "stderr",
     "output_type": "stream",
     "text": []
    },
    {
     "name": "stdout",
     "output_type": "stream",
     "text": [
      "\n",
      "Image analyzed: Plate04_Nuc_Wells-F12__Channel_SD_AF647,SD_RFP,SD_GFP,SD_DAPI,SD_BF,SD_NIR\n",
      "\n",
      "Detecting infection load...\n",
      "Total cells: 1335\n",
      "Percentage infected:19.48\n",
      "Extracting per marker intensity information...\n",
      "Detecting spots in puncta markers...\n"
     ]
    },
    {
     "name": "stderr",
     "output_type": "stream",
     "text": []
    },
    {
     "name": "stdout",
     "output_type": "stream",
     "text": [
      "\n",
      "Image analyzed: Plate04_Nuc_Wells-G1__Channel_SD_AF647,SD_RFP,SD_GFP,SD_DAPI,SD_BF,SD_NIR\n",
      "\n",
      "Detecting infection load...\n",
      "Total cells: 1745\n",
      "Percentage infected:16.5\n",
      "Extracting per marker intensity information...\n",
      "Detecting spots in puncta markers...\n"
     ]
    },
    {
     "name": "stderr",
     "output_type": "stream",
     "text": []
    },
    {
     "name": "stdout",
     "output_type": "stream",
     "text": [
      "\n",
      "Image analyzed: Plate04_Nuc_Wells-G2__Channel_SD_AF647,SD_RFP,SD_GFP,SD_DAPI,SD_BF,SD_NIR\n",
      "\n",
      "Detecting infection load...\n",
      "Total cells: 2182\n",
      "Percentage infected:17.78\n",
      "Extracting per marker intensity information...\n",
      "Detecting spots in puncta markers...\n"
     ]
    },
    {
     "name": "stderr",
     "output_type": "stream",
     "text": []
    },
    {
     "name": "stdout",
     "output_type": "stream",
     "text": [
      "\n",
      "Image analyzed: Plate04_Nuc_Wells-G3__Channel_SD_AF647,SD_RFP,SD_GFP,SD_DAPI,SD_BF,SD_NIR\n",
      "\n",
      "Detecting infection load...\n",
      "Total cells: 2428\n",
      "Percentage infected:25.25\n",
      "Extracting per marker intensity information...\n",
      "Detecting spots in puncta markers...\n"
     ]
    },
    {
     "name": "stderr",
     "output_type": "stream",
     "text": []
    },
    {
     "name": "stdout",
     "output_type": "stream",
     "text": [
      "\n",
      "Image analyzed: Plate04_Nuc_Wells-G4__Channel_SD_AF647,SD_RFP,SD_GFP,SD_DAPI,SD_BF,SD_NIR\n",
      "\n",
      "Detecting infection load...\n",
      "Total cells: 2144\n",
      "Percentage infected:26.77\n",
      "Extracting per marker intensity information...\n",
      "Detecting spots in puncta markers...\n"
     ]
    },
    {
     "name": "stderr",
     "output_type": "stream",
     "text": []
    },
    {
     "name": "stdout",
     "output_type": "stream",
     "text": [
      "\n",
      "Image analyzed: Plate04_Nuc_Wells-G5__Channel_SD_AF647,SD_RFP,SD_GFP,SD_DAPI,SD_BF,SD_NIR\n",
      "\n",
      "Detecting infection load...\n",
      "Total cells: 2256\n",
      "Percentage infected:26.6\n",
      "Extracting per marker intensity information...\n",
      "Detecting spots in puncta markers...\n"
     ]
    },
    {
     "name": "stderr",
     "output_type": "stream",
     "text": []
    },
    {
     "name": "stdout",
     "output_type": "stream",
     "text": [
      "\n",
      "Image analyzed: Plate04_Nuc_Wells-G6__Channel_SD_AF647,SD_RFP,SD_GFP,SD_DAPI,SD_BF,SD_NIR\n",
      "\n",
      "Detecting infection load...\n",
      "Total cells: 2320\n",
      "Percentage infected:26.51\n",
      "Extracting per marker intensity information...\n",
      "Detecting spots in puncta markers...\n"
     ]
    },
    {
     "name": "stderr",
     "output_type": "stream",
     "text": []
    },
    {
     "name": "stdout",
     "output_type": "stream",
     "text": [
      "\n",
      "Image analyzed: Plate04_Nuc_Wells-G7__Channel_SD_AF647,SD_RFP,SD_GFP,SD_DAPI,SD_BF,SD_NIR\n",
      "\n",
      "Detecting infection load...\n",
      "Total cells: 2413\n",
      "Percentage infected:22.92\n",
      "Extracting per marker intensity information...\n",
      "Detecting spots in puncta markers...\n"
     ]
    },
    {
     "name": "stderr",
     "output_type": "stream",
     "text": []
    },
    {
     "name": "stdout",
     "output_type": "stream",
     "text": [
      "\n",
      "Image analyzed: Plate04_Nuc_Wells-G8__Channel_SD_AF647,SD_RFP,SD_GFP,SD_DAPI,SD_BF,SD_NIR\n",
      "\n",
      "Detecting infection load...\n",
      "Total cells: 2029\n",
      "Percentage infected:26.96\n",
      "Extracting per marker intensity information...\n",
      "Detecting spots in puncta markers...\n"
     ]
    },
    {
     "name": "stderr",
     "output_type": "stream",
     "text": []
    },
    {
     "name": "stdout",
     "output_type": "stream",
     "text": [
      "\n",
      "Image analyzed: Plate04_Nuc_Wells-G9__Channel_SD_AF647,SD_RFP,SD_GFP,SD_DAPI,SD_BF,SD_NIR\n",
      "\n",
      "Detecting infection load...\n",
      "Total cells: 2218\n",
      "Percentage infected:23.9\n",
      "Extracting per marker intensity information...\n",
      "Detecting spots in puncta markers...\n"
     ]
    },
    {
     "name": "stderr",
     "output_type": "stream",
     "text": []
    },
    {
     "name": "stdout",
     "output_type": "stream",
     "text": [
      "\n",
      "Image analyzed: Plate04_Nuc_Wells-G10__Channel_SD_AF647,SD_RFP,SD_GFP,SD_DAPI,SD_BF,SD_NIR\n",
      "\n",
      "Detecting infection load...\n",
      "Total cells: 2097\n",
      "Percentage infected:23.56\n",
      "Extracting per marker intensity information...\n",
      "Detecting spots in puncta markers...\n"
     ]
    },
    {
     "name": "stderr",
     "output_type": "stream",
     "text": []
    },
    {
     "name": "stdout",
     "output_type": "stream",
     "text": [
      "\n",
      "Image analyzed: Plate04_Nuc_Wells-G11__Channel_SD_AF647,SD_RFP,SD_GFP,SD_DAPI,SD_BF,SD_NIR\n",
      "\n",
      "Detecting infection load...\n",
      "Total cells: 1947\n",
      "Percentage infected:24.7\n",
      "Extracting per marker intensity information...\n",
      "Detecting spots in puncta markers...\n"
     ]
    },
    {
     "name": "stderr",
     "output_type": "stream",
     "text": []
    },
    {
     "name": "stdout",
     "output_type": "stream",
     "text": [
      "\n",
      "Image analyzed: Plate04_Nuc_Wells-G12__Channel_SD_AF647,SD_RFP,SD_GFP,SD_DAPI,SD_BF,SD_NIR\n",
      "\n",
      "Detecting infection load...\n",
      "Total cells: 1454\n",
      "Percentage infected:19.39\n",
      "Extracting per marker intensity information...\n",
      "Detecting spots in puncta markers...\n"
     ]
    },
    {
     "name": "stderr",
     "output_type": "stream",
     "text": []
    },
    {
     "name": "stdout",
     "output_type": "stream",
     "text": [
      "\n",
      "Image analyzed: Plate04_Nuc_Wells-H1__Channel_SD_AF647,SD_RFP,SD_GFP,SD_DAPI,SD_BF,SD_NIR\n",
      "\n",
      "Detecting infection load...\n",
      "Total cells: 2527\n",
      "Percentage infected:0.2\n",
      "Extracting per marker intensity information...\n",
      "Detecting spots in puncta markers...\n"
     ]
    },
    {
     "name": "stderr",
     "output_type": "stream",
     "text": []
    },
    {
     "name": "stdout",
     "output_type": "stream",
     "text": [
      "\n",
      "Image analyzed: Plate04_Nuc_Wells-H2__Channel_SD_AF647,SD_RFP,SD_GFP,SD_DAPI,SD_BF,SD_NIR\n",
      "\n",
      "Detecting infection load...\n",
      "Total cells: 1776\n",
      "Percentage infected:19.82\n",
      "Extracting per marker intensity information...\n",
      "Detecting spots in puncta markers...\n"
     ]
    },
    {
     "name": "stderr",
     "output_type": "stream",
     "text": []
    },
    {
     "name": "stdout",
     "output_type": "stream",
     "text": [
      "\n",
      "Image analyzed: Plate04_Nuc_Wells-H3__Channel_SD_AF647,SD_RFP,SD_GFP,SD_DAPI,SD_BF,SD_NIR\n",
      "\n",
      "Detecting infection load...\n",
      "Total cells: 2007\n",
      "Percentage infected:26.46\n",
      "Extracting per marker intensity information...\n",
      "Detecting spots in puncta markers...\n"
     ]
    },
    {
     "name": "stderr",
     "output_type": "stream",
     "text": []
    },
    {
     "name": "stdout",
     "output_type": "stream",
     "text": [
      "\n",
      "Image analyzed: Plate04_Nuc_Wells-H4__Channel_SD_AF647,SD_RFP,SD_GFP,SD_DAPI,SD_BF,SD_NIR\n",
      "\n",
      "Detecting infection load...\n",
      "Total cells: 2089\n",
      "Percentage infected:24.61\n",
      "Extracting per marker intensity information...\n",
      "Detecting spots in puncta markers...\n"
     ]
    },
    {
     "name": "stderr",
     "output_type": "stream",
     "text": []
    },
    {
     "name": "stdout",
     "output_type": "stream",
     "text": [
      "\n",
      "Image analyzed: Plate04_Nuc_Wells-H5__Channel_SD_AF647,SD_RFP,SD_GFP,SD_DAPI,SD_BF,SD_NIR\n",
      "\n",
      "Detecting infection load...\n",
      "Total cells: 2377\n",
      "Percentage infected:24.74\n",
      "Extracting per marker intensity information...\n",
      "Detecting spots in puncta markers...\n"
     ]
    },
    {
     "name": "stderr",
     "output_type": "stream",
     "text": []
    },
    {
     "name": "stdout",
     "output_type": "stream",
     "text": [
      "\n",
      "Image analyzed: Plate04_Nuc_Wells-H6__Channel_SD_AF647,SD_RFP,SD_GFP,SD_DAPI,SD_BF,SD_NIR\n",
      "\n",
      "Detecting infection load...\n",
      "Total cells: 2309\n",
      "Percentage infected:23.13\n",
      "Extracting per marker intensity information...\n",
      "Detecting spots in puncta markers...\n"
     ]
    },
    {
     "name": "stderr",
     "output_type": "stream",
     "text": []
    },
    {
     "name": "stdout",
     "output_type": "stream",
     "text": [
      "\n",
      "Image analyzed: Plate04_Nuc_Wells-H7__Channel_SD_AF647,SD_RFP,SD_GFP,SD_DAPI,SD_BF,SD_NIR\n",
      "\n",
      "Detecting infection load...\n",
      "Total cells: 2060\n",
      "Percentage infected:26.02\n",
      "Extracting per marker intensity information...\n",
      "Detecting spots in puncta markers...\n"
     ]
    },
    {
     "name": "stderr",
     "output_type": "stream",
     "text": []
    },
    {
     "name": "stdout",
     "output_type": "stream",
     "text": [
      "\n",
      "Image analyzed: Plate04_Nuc_Wells-H8__Channel_SD_AF647,SD_RFP,SD_GFP,SD_DAPI,SD_BF,SD_NIR\n",
      "\n",
      "Detecting infection load...\n",
      "Total cells: 2198\n",
      "Percentage infected:25.25\n",
      "Extracting per marker intensity information...\n",
      "Detecting spots in puncta markers...\n"
     ]
    },
    {
     "name": "stderr",
     "output_type": "stream",
     "text": []
    },
    {
     "name": "stdout",
     "output_type": "stream",
     "text": [
      "\n",
      "Image analyzed: Plate04_Nuc_Wells-H9__Channel_SD_AF647,SD_RFP,SD_GFP,SD_DAPI,SD_BF,SD_NIR\n",
      "\n",
      "Detecting infection load...\n",
      "Total cells: 1972\n",
      "Percentage infected:27.94\n",
      "Extracting per marker intensity information...\n",
      "Detecting spots in puncta markers...\n"
     ]
    },
    {
     "name": "stderr",
     "output_type": "stream",
     "text": []
    },
    {
     "name": "stdout",
     "output_type": "stream",
     "text": [
      "\n",
      "Image analyzed: Plate04_Nuc_Wells-H10__Channel_SD_AF647,SD_RFP,SD_GFP,SD_DAPI,SD_BF,SD_NIR\n",
      "\n",
      "Detecting infection load...\n",
      "Total cells: 1705\n",
      "Percentage infected:24.75\n",
      "Extracting per marker intensity information...\n",
      "Detecting spots in puncta markers...\n"
     ]
    },
    {
     "name": "stderr",
     "output_type": "stream",
     "text": []
    },
    {
     "name": "stdout",
     "output_type": "stream",
     "text": [
      "\n",
      "Image analyzed: Plate04_Nuc_Wells-H11__Channel_SD_AF647,SD_RFP,SD_GFP,SD_DAPI,SD_BF,SD_NIR\n",
      "\n",
      "Detecting infection load...\n",
      "Total cells: 1902\n",
      "Percentage infected:27.71\n",
      "Extracting per marker intensity information...\n",
      "Detecting spots in puncta markers...\n"
     ]
    },
    {
     "name": "stderr",
     "output_type": "stream",
     "text": []
    },
    {
     "name": "stdout",
     "output_type": "stream",
     "text": [
      "\n",
      "Image analyzed: Plate04_Nuc_Wells-H12__Channel_SD_AF647,SD_RFP,SD_GFP,SD_DAPI,SD_BF,SD_NIR\n",
      "\n",
      "Detecting infection load...\n",
      "Total cells: 1005\n",
      "Percentage infected:27.36\n",
      "Extracting per marker intensity information...\n",
      "Detecting spots in puncta markers...\n"
     ]
    },
    {
     "name": "stderr",
     "output_type": "stream",
     "text": [
      "100%|██████████| 96/96 [47:31<00:00, 29.70s/it]\n",
      " 24%|██▎       | 4/17 [3:12:33<10:23:58, 2879.86s/it]"
     ]
    },
    {
     "name": "stdout",
     "output_type": "stream",
     "text": [
      "Analyzing Plate: Plate 05_Nuc\n"
     ]
    },
    {
     "name": "stderr",
     "output_type": "stream",
     "text": []
    },
    {
     "name": "stdout",
     "output_type": "stream",
     "text": [
      "\n",
      "Image analyzed: Plate05_Nuc_Wells-A1__Channel_SD_AF647,SD_RFP,SD_GFP,SD_DAPI,SD_BF,SD_NIR\n",
      "\n",
      "Detecting infection load...\n",
      "Total cells: 3617\n",
      "Percentage infected:22.97\n",
      "Extracting per marker intensity information...\n",
      "Detecting spots in puncta markers...\n"
     ]
    },
    {
     "name": "stderr",
     "output_type": "stream",
     "text": []
    },
    {
     "name": "stdout",
     "output_type": "stream",
     "text": [
      "\n",
      "Image analyzed: Plate05_Nuc_Wells-A2__Channel_SD_AF647,SD_RFP,SD_GFP,SD_DAPI,SD_BF,SD_NIR\n",
      "\n",
      "Detecting infection load...\n",
      "Total cells: 3700\n",
      "Percentage infected:28.27\n",
      "Extracting per marker intensity information...\n",
      "Detecting spots in puncta markers...\n"
     ]
    },
    {
     "name": "stderr",
     "output_type": "stream",
     "text": []
    },
    {
     "name": "stdout",
     "output_type": "stream",
     "text": [
      "\n",
      "Image analyzed: Plate05_Nuc_Wells-A3__Channel_SD_AF647,SD_RFP,SD_GFP,SD_DAPI,SD_BF,SD_NIR\n",
      "\n",
      "Detecting infection load...\n",
      "Total cells: 3591\n",
      "Percentage infected:26.76\n",
      "Extracting per marker intensity information...\n",
      "Detecting spots in puncta markers...\n"
     ]
    },
    {
     "name": "stderr",
     "output_type": "stream",
     "text": []
    },
    {
     "name": "stdout",
     "output_type": "stream",
     "text": [
      "\n",
      "Image analyzed: Plate05_Nuc_Wells-A4__Channel_SD_AF647,SD_RFP,SD_GFP,SD_DAPI,SD_BF,SD_NIR\n",
      "\n",
      "Detecting infection load...\n",
      "Total cells: 3289\n",
      "Percentage infected:25.51\n",
      "Extracting per marker intensity information...\n",
      "Detecting spots in puncta markers...\n"
     ]
    },
    {
     "name": "stderr",
     "output_type": "stream",
     "text": []
    },
    {
     "name": "stdout",
     "output_type": "stream",
     "text": [
      "\n",
      "Image analyzed: Plate05_Nuc_Wells-A5__Channel_SD_AF647,SD_RFP,SD_GFP,SD_DAPI,SD_BF,SD_NIR\n",
      "\n",
      "Detecting infection load...\n",
      "Total cells: 3271\n",
      "Percentage infected:29.47\n",
      "Extracting per marker intensity information...\n",
      "Detecting spots in puncta markers...\n"
     ]
    },
    {
     "name": "stderr",
     "output_type": "stream",
     "text": []
    },
    {
     "name": "stdout",
     "output_type": "stream",
     "text": [
      "\n",
      "Image analyzed: Plate05_Nuc_Wells-A6__Channel_SD_AF647,SD_RFP,SD_GFP,SD_DAPI,SD_BF,SD_NIR\n",
      "\n",
      "Detecting infection load...\n",
      "Total cells: 2964\n",
      "Percentage infected:31.58\n",
      "Extracting per marker intensity information...\n",
      "Detecting spots in puncta markers...\n"
     ]
    },
    {
     "name": "stderr",
     "output_type": "stream",
     "text": []
    },
    {
     "name": "stdout",
     "output_type": "stream",
     "text": [
      "\n",
      "Image analyzed: Plate05_Nuc_Wells-A7__Channel_SD_AF647,SD_RFP,SD_GFP,SD_DAPI,SD_BF,SD_NIR\n",
      "\n",
      "Detecting infection load...\n",
      "Total cells: 3454\n",
      "Percentage infected:27.56\n",
      "Extracting per marker intensity information...\n",
      "Detecting spots in puncta markers...\n"
     ]
    },
    {
     "name": "stderr",
     "output_type": "stream",
     "text": []
    },
    {
     "name": "stdout",
     "output_type": "stream",
     "text": [
      "\n",
      "Image analyzed: Plate05_Nuc_Wells-A8__Channel_SD_AF647,SD_RFP,SD_GFP,SD_DAPI,SD_BF,SD_NIR\n",
      "\n",
      "Detecting infection load...\n",
      "Total cells: 3056\n",
      "Percentage infected:27.13\n",
      "Extracting per marker intensity information...\n",
      "Detecting spots in puncta markers...\n"
     ]
    },
    {
     "name": "stderr",
     "output_type": "stream",
     "text": []
    },
    {
     "name": "stdout",
     "output_type": "stream",
     "text": [
      "\n",
      "Image analyzed: Plate05_Nuc_Wells-A9__Channel_SD_AF647,SD_RFP,SD_GFP,SD_DAPI,SD_BF,SD_NIR\n",
      "\n",
      "Detecting infection load...\n",
      "Total cells: 1642\n",
      "Percentage infected:21.99\n",
      "Extracting per marker intensity information...\n",
      "Detecting spots in puncta markers...\n"
     ]
    },
    {
     "name": "stderr",
     "output_type": "stream",
     "text": []
    },
    {
     "name": "stdout",
     "output_type": "stream",
     "text": [
      "\n",
      "Image analyzed: Plate05_Nuc_Wells-A10__Channel_SD_AF647,SD_RFP,SD_GFP,SD_DAPI,SD_BF,SD_NIR\n",
      "\n",
      "Detecting infection load...\n",
      "Total cells: 2235\n",
      "Percentage infected:22.55\n",
      "Extracting per marker intensity information...\n",
      "Detecting spots in puncta markers...\n"
     ]
    },
    {
     "name": "stderr",
     "output_type": "stream",
     "text": []
    },
    {
     "name": "stdout",
     "output_type": "stream",
     "text": [
      "\n",
      "Image analyzed: Plate05_Nuc_Wells-A11__Channel_SD_AF647,SD_RFP,SD_GFP,SD_DAPI,SD_BF,SD_NIR\n",
      "\n",
      "Detecting infection load...\n",
      "Total cells: 1628\n",
      "Percentage infected:21.25\n",
      "Extracting per marker intensity information...\n",
      "Detecting spots in puncta markers...\n"
     ]
    },
    {
     "name": "stderr",
     "output_type": "stream",
     "text": []
    },
    {
     "name": "stdout",
     "output_type": "stream",
     "text": [
      "\n",
      "Image analyzed: Plate05_Nuc_Wells-A12__Channel_SD_AF647,SD_RFP,SD_GFP,SD_DAPI,SD_BF,SD_NIR\n",
      "\n",
      "Detecting infection load...\n",
      "Total cells: 1582\n",
      "Percentage infected:26.49\n",
      "Extracting per marker intensity information...\n",
      "Detecting spots in puncta markers...\n"
     ]
    },
    {
     "name": "stderr",
     "output_type": "stream",
     "text": []
    },
    {
     "name": "stdout",
     "output_type": "stream",
     "text": [
      "\n",
      "Image analyzed: Plate05_Nuc_Wells-B1__Channel_SD_AF647,SD_RFP,SD_GFP,SD_DAPI,SD_BF,SD_NIR\n",
      "\n",
      "Detecting infection load...\n",
      "Total cells: 2161\n",
      "Percentage infected:19.3\n",
      "Extracting per marker intensity information...\n",
      "Detecting spots in puncta markers...\n"
     ]
    },
    {
     "name": "stderr",
     "output_type": "stream",
     "text": []
    },
    {
     "name": "stdout",
     "output_type": "stream",
     "text": [
      "\n",
      "Image analyzed: Plate05_Nuc_Wells-B2__Channel_SD_AF647,SD_RFP,SD_GFP,SD_DAPI,SD_BF,SD_NIR\n",
      "\n",
      "Detecting infection load...\n",
      "Total cells: 2442\n",
      "Percentage infected:19.45\n",
      "Extracting per marker intensity information...\n",
      "Detecting spots in puncta markers...\n"
     ]
    },
    {
     "name": "stderr",
     "output_type": "stream",
     "text": []
    },
    {
     "name": "stdout",
     "output_type": "stream",
     "text": [
      "\n",
      "Image analyzed: Plate05_Nuc_Wells-B3__Channel_SD_AF647,SD_RFP,SD_GFP,SD_DAPI,SD_BF,SD_NIR\n",
      "\n",
      "Detecting infection load...\n",
      "Total cells: 1956\n",
      "Percentage infected:24.64\n",
      "Extracting per marker intensity information...\n",
      "Detecting spots in puncta markers...\n"
     ]
    },
    {
     "name": "stderr",
     "output_type": "stream",
     "text": []
    },
    {
     "name": "stdout",
     "output_type": "stream",
     "text": [
      "\n",
      "Image analyzed: Plate05_Nuc_Wells-B4__Channel_SD_AF647,SD_RFP,SD_GFP,SD_DAPI,SD_BF,SD_NIR\n",
      "\n",
      "Detecting infection load...\n",
      "Total cells: 2301\n",
      "Percentage infected:23.03\n",
      "Extracting per marker intensity information...\n",
      "Detecting spots in puncta markers...\n"
     ]
    },
    {
     "name": "stderr",
     "output_type": "stream",
     "text": []
    },
    {
     "name": "stdout",
     "output_type": "stream",
     "text": [
      "\n",
      "Image analyzed: Plate05_Nuc_Wells-B5__Channel_SD_AF647,SD_RFP,SD_GFP,SD_DAPI,SD_BF,SD_NIR\n",
      "\n",
      "Detecting infection load...\n",
      "Total cells: 2909\n",
      "Percentage infected:26.19\n",
      "Extracting per marker intensity information...\n",
      "Detecting spots in puncta markers...\n"
     ]
    },
    {
     "name": "stderr",
     "output_type": "stream",
     "text": []
    },
    {
     "name": "stdout",
     "output_type": "stream",
     "text": [
      "\n",
      "Image analyzed: Plate05_Nuc_Wells-B6__Channel_SD_AF647,SD_RFP,SD_GFP,SD_DAPI,SD_BF,SD_NIR\n",
      "\n",
      "Detecting infection load...\n",
      "Total cells: 2230\n",
      "Percentage infected:20.85\n",
      "Extracting per marker intensity information...\n",
      "Detecting spots in puncta markers...\n"
     ]
    },
    {
     "name": "stderr",
     "output_type": "stream",
     "text": []
    },
    {
     "name": "stdout",
     "output_type": "stream",
     "text": [
      "\n",
      "Image analyzed: Plate05_Nuc_Wells-B7__Channel_SD_AF647,SD_RFP,SD_GFP,SD_DAPI,SD_BF,SD_NIR\n",
      "\n",
      "Detecting infection load...\n",
      "Total cells: 2792\n",
      "Percentage infected:21.81\n",
      "Extracting per marker intensity information...\n",
      "Detecting spots in puncta markers...\n"
     ]
    },
    {
     "name": "stderr",
     "output_type": "stream",
     "text": []
    },
    {
     "name": "stdout",
     "output_type": "stream",
     "text": [
      "\n",
      "Image analyzed: Plate05_Nuc_Wells-B8__Channel_SD_AF647,SD_RFP,SD_GFP,SD_DAPI,SD_BF,SD_NIR\n",
      "\n",
      "Detecting infection load...\n",
      "Total cells: 1901\n",
      "Percentage infected:20.41\n",
      "Extracting per marker intensity information...\n",
      "Detecting spots in puncta markers...\n"
     ]
    },
    {
     "name": "stderr",
     "output_type": "stream",
     "text": []
    },
    {
     "name": "stdout",
     "output_type": "stream",
     "text": [
      "\n",
      "Image analyzed: Plate05_Nuc_Wells-B9__Channel_SD_AF647,SD_RFP,SD_GFP,SD_DAPI,SD_BF,SD_NIR\n",
      "\n",
      "Detecting infection load...\n",
      "Total cells: 1944\n",
      "Percentage infected:20.99\n",
      "Extracting per marker intensity information...\n",
      "Detecting spots in puncta markers...\n"
     ]
    },
    {
     "name": "stderr",
     "output_type": "stream",
     "text": []
    },
    {
     "name": "stdout",
     "output_type": "stream",
     "text": [
      "\n",
      "Image analyzed: Plate05_Nuc_Wells-B10__Channel_SD_AF647,SD_RFP,SD_GFP,SD_DAPI,SD_BF,SD_NIR\n",
      "\n",
      "Detecting infection load...\n",
      "Total cells: 2041\n",
      "Percentage infected:23.91\n",
      "Extracting per marker intensity information...\n",
      "Detecting spots in puncta markers...\n"
     ]
    },
    {
     "name": "stderr",
     "output_type": "stream",
     "text": []
    },
    {
     "name": "stdout",
     "output_type": "stream",
     "text": [
      "\n",
      "Image analyzed: Plate05_Nuc_Wells-B11__Channel_SD_AF647,SD_RFP,SD_GFP,SD_DAPI,SD_BF,SD_NIR\n",
      "\n",
      "Detecting infection load...\n",
      "Total cells: 1402\n",
      "Percentage infected:19.69\n",
      "Extracting per marker intensity information...\n",
      "Detecting spots in puncta markers...\n"
     ]
    },
    {
     "name": "stderr",
     "output_type": "stream",
     "text": []
    },
    {
     "name": "stdout",
     "output_type": "stream",
     "text": [
      "\n",
      "Image analyzed: Plate05_Nuc_Wells-B12__Channel_SD_AF647,SD_RFP,SD_GFP,SD_DAPI,SD_BF,SD_NIR\n",
      "\n",
      "Detecting infection load...\n",
      "Total cells: 1057\n",
      "Percentage infected:21.19\n",
      "Extracting per marker intensity information...\n",
      "Detecting spots in puncta markers...\n"
     ]
    },
    {
     "name": "stderr",
     "output_type": "stream",
     "text": []
    },
    {
     "name": "stdout",
     "output_type": "stream",
     "text": [
      "\n",
      "Image analyzed: Plate05_Nuc_Wells-C1__Channel_SD_AF647,SD_RFP,SD_GFP,SD_DAPI,SD_BF,SD_NIR\n",
      "\n",
      "Detecting infection load...\n",
      "Total cells: 1336\n",
      "Percentage infected:17.51\n",
      "Extracting per marker intensity information...\n",
      "Detecting spots in puncta markers...\n"
     ]
    },
    {
     "name": "stderr",
     "output_type": "stream",
     "text": []
    },
    {
     "name": "stdout",
     "output_type": "stream",
     "text": [
      "\n",
      "Image analyzed: Plate05_Nuc_Wells-C2__Channel_SD_AF647,SD_RFP,SD_GFP,SD_DAPI,SD_BF,SD_NIR\n",
      "\n",
      "Detecting infection load...\n",
      "Total cells: 1703\n",
      "Percentage infected:19.55\n",
      "Extracting per marker intensity information...\n",
      "Detecting spots in puncta markers...\n"
     ]
    },
    {
     "name": "stderr",
     "output_type": "stream",
     "text": []
    },
    {
     "name": "stdout",
     "output_type": "stream",
     "text": [
      "\n",
      "Image analyzed: Plate05_Nuc_Wells-C3__Channel_SD_AF647,SD_RFP,SD_GFP,SD_DAPI,SD_BF,SD_NIR\n",
      "\n",
      "Detecting infection load...\n",
      "Total cells: 1605\n",
      "Percentage infected:19.25\n",
      "Extracting per marker intensity information...\n",
      "Detecting spots in puncta markers...\n"
     ]
    },
    {
     "name": "stderr",
     "output_type": "stream",
     "text": []
    },
    {
     "name": "stdout",
     "output_type": "stream",
     "text": [
      "\n",
      "Image analyzed: Plate05_Nuc_Wells-C4__Channel_SD_AF647,SD_RFP,SD_GFP,SD_DAPI,SD_BF,SD_NIR\n",
      "\n",
      "Detecting infection load...\n",
      "Total cells: 1652\n",
      "Percentage infected:21.25\n",
      "Extracting per marker intensity information...\n",
      "Detecting spots in puncta markers...\n"
     ]
    },
    {
     "name": "stderr",
     "output_type": "stream",
     "text": []
    },
    {
     "name": "stdout",
     "output_type": "stream",
     "text": [
      "\n",
      "Image analyzed: Plate05_Nuc_Wells-C5__Channel_SD_AF647,SD_RFP,SD_GFP,SD_DAPI,SD_BF,SD_NIR\n",
      "\n",
      "Detecting infection load...\n",
      "Total cells: 1604\n",
      "Percentage infected:22.26\n",
      "Extracting per marker intensity information...\n",
      "Detecting spots in puncta markers...\n"
     ]
    },
    {
     "name": "stderr",
     "output_type": "stream",
     "text": []
    },
    {
     "name": "stdout",
     "output_type": "stream",
     "text": [
      "\n",
      "Image analyzed: Plate05_Nuc_Wells-C6__Channel_SD_AF647,SD_RFP,SD_GFP,SD_DAPI,SD_BF,SD_NIR\n",
      "\n",
      "Detecting infection load...\n",
      "Total cells: 1695\n",
      "Percentage infected:25.78\n",
      "Extracting per marker intensity information...\n",
      "Detecting spots in puncta markers...\n"
     ]
    },
    {
     "name": "stderr",
     "output_type": "stream",
     "text": []
    },
    {
     "name": "stdout",
     "output_type": "stream",
     "text": [
      "\n",
      "Image analyzed: Plate05_Nuc_Wells-C7__Channel_SD_AF647,SD_RFP,SD_GFP,SD_DAPI,SD_BF,SD_NIR\n",
      "\n",
      "Detecting infection load...\n",
      "Total cells: 1578\n",
      "Percentage infected:19.52\n",
      "Extracting per marker intensity information...\n",
      "Detecting spots in puncta markers...\n"
     ]
    },
    {
     "name": "stderr",
     "output_type": "stream",
     "text": []
    },
    {
     "name": "stdout",
     "output_type": "stream",
     "text": [
      "\n",
      "Image analyzed: Plate05_Nuc_Wells-C8__Channel_SD_AF647,SD_RFP,SD_GFP,SD_DAPI,SD_BF,SD_NIR\n",
      "\n",
      "Detecting infection load...\n",
      "Total cells: 1480\n",
      "Percentage infected:23.31\n",
      "Extracting per marker intensity information...\n",
      "Detecting spots in puncta markers...\n"
     ]
    },
    {
     "name": "stderr",
     "output_type": "stream",
     "text": []
    },
    {
     "name": "stdout",
     "output_type": "stream",
     "text": [
      "\n",
      "Image analyzed: Plate05_Nuc_Wells-C9__Channel_SD_AF647,SD_RFP,SD_GFP,SD_DAPI,SD_BF,SD_NIR\n",
      "\n",
      "Detecting infection load...\n",
      "Total cells: 1556\n",
      "Percentage infected:18.32\n",
      "Extracting per marker intensity information...\n",
      "Detecting spots in puncta markers...\n"
     ]
    },
    {
     "name": "stderr",
     "output_type": "stream",
     "text": []
    },
    {
     "name": "stdout",
     "output_type": "stream",
     "text": [
      "\n",
      "Image analyzed: Plate05_Nuc_Wells-C10__Channel_SD_AF647,SD_RFP,SD_GFP,SD_DAPI,SD_BF,SD_NIR\n",
      "\n",
      "Detecting infection load...\n",
      "Total cells: 2096\n",
      "Percentage infected:26.86\n",
      "Extracting per marker intensity information...\n",
      "Detecting spots in puncta markers...\n"
     ]
    },
    {
     "name": "stderr",
     "output_type": "stream",
     "text": []
    },
    {
     "name": "stdout",
     "output_type": "stream",
     "text": [
      "\n",
      "Image analyzed: Plate05_Nuc_Wells-C11__Channel_SD_AF647,SD_RFP,SD_GFP,SD_DAPI,SD_BF,SD_NIR\n",
      "\n",
      "Detecting infection load...\n",
      "Total cells: 1269\n",
      "Percentage infected:21.83\n",
      "Extracting per marker intensity information...\n",
      "Detecting spots in puncta markers...\n"
     ]
    },
    {
     "name": "stderr",
     "output_type": "stream",
     "text": []
    },
    {
     "name": "stdout",
     "output_type": "stream",
     "text": [
      "\n",
      "Image analyzed: Plate05_Nuc_Wells-C12__Channel_SD_AF647,SD_RFP,SD_GFP,SD_DAPI,SD_BF,SD_NIR\n",
      "\n",
      "Detecting infection load...\n",
      "Total cells: 1488\n",
      "Percentage infected:20.5\n",
      "Extracting per marker intensity information...\n",
      "Detecting spots in puncta markers...\n"
     ]
    },
    {
     "name": "stderr",
     "output_type": "stream",
     "text": []
    },
    {
     "name": "stdout",
     "output_type": "stream",
     "text": [
      "\n",
      "Image analyzed: Plate05_Nuc_Wells-D1__Channel_SD_AF647,SD_RFP,SD_GFP,SD_DAPI,SD_BF,SD_NIR\n",
      "\n",
      "Detecting infection load...\n",
      "Total cells: 1845\n",
      "Percentage infected:23.31\n",
      "Extracting per marker intensity information...\n",
      "Detecting spots in puncta markers...\n"
     ]
    },
    {
     "name": "stderr",
     "output_type": "stream",
     "text": []
    },
    {
     "name": "stdout",
     "output_type": "stream",
     "text": [
      "\n",
      "Image analyzed: Plate05_Nuc_Wells-D2__Channel_SD_AF647,SD_RFP,SD_GFP,SD_DAPI,SD_BF,SD_NIR\n",
      "\n",
      "Detecting infection load...\n",
      "Total cells: 2151\n",
      "Percentage infected:18.18\n",
      "Extracting per marker intensity information...\n",
      "Detecting spots in puncta markers...\n"
     ]
    },
    {
     "name": "stderr",
     "output_type": "stream",
     "text": []
    },
    {
     "name": "stdout",
     "output_type": "stream",
     "text": [
      "\n",
      "Image analyzed: Plate05_Nuc_Wells-D3__Channel_SD_AF647,SD_RFP,SD_GFP,SD_DAPI,SD_BF,SD_NIR\n",
      "\n",
      "Detecting infection load...\n",
      "Total cells: 1799\n",
      "Percentage infected:21.85\n",
      "Extracting per marker intensity information...\n",
      "Detecting spots in puncta markers...\n"
     ]
    },
    {
     "name": "stderr",
     "output_type": "stream",
     "text": []
    },
    {
     "name": "stdout",
     "output_type": "stream",
     "text": [
      "\n",
      "Image analyzed: Plate05_Nuc_Wells-D4__Channel_SD_AF647,SD_RFP,SD_GFP,SD_DAPI,SD_BF,SD_NIR\n",
      "\n",
      "Detecting infection load...\n",
      "Total cells: 1533\n",
      "Percentage infected:23.55\n",
      "Extracting per marker intensity information...\n",
      "Detecting spots in puncta markers...\n"
     ]
    },
    {
     "name": "stderr",
     "output_type": "stream",
     "text": []
    },
    {
     "name": "stdout",
     "output_type": "stream",
     "text": [
      "\n",
      "Image analyzed: Plate05_Nuc_Wells-D5__Channel_SD_AF647,SD_RFP,SD_GFP,SD_DAPI,SD_BF,SD_NIR\n",
      "\n",
      "Detecting infection load...\n",
      "Total cells: 2204\n",
      "Percentage infected:27.22\n",
      "Extracting per marker intensity information...\n",
      "Detecting spots in puncta markers...\n"
     ]
    },
    {
     "name": "stderr",
     "output_type": "stream",
     "text": []
    },
    {
     "name": "stdout",
     "output_type": "stream",
     "text": [
      "\n",
      "Image analyzed: Plate05_Nuc_Wells-D6__Channel_SD_AF647,SD_RFP,SD_GFP,SD_DAPI,SD_BF,SD_NIR\n",
      "\n",
      "Detecting infection load...\n",
      "Total cells: 2280\n",
      "Percentage infected:25.09\n",
      "Extracting per marker intensity information...\n",
      "Detecting spots in puncta markers...\n"
     ]
    },
    {
     "name": "stderr",
     "output_type": "stream",
     "text": []
    },
    {
     "name": "stdout",
     "output_type": "stream",
     "text": [
      "\n",
      "Image analyzed: Plate05_Nuc_Wells-D7__Channel_SD_AF647,SD_RFP,SD_GFP,SD_DAPI,SD_BF,SD_NIR\n",
      "\n",
      "Detecting infection load...\n",
      "Total cells: 2512\n",
      "Percentage infected:24.68\n",
      "Extracting per marker intensity information...\n",
      "Detecting spots in puncta markers...\n"
     ]
    },
    {
     "name": "stderr",
     "output_type": "stream",
     "text": []
    },
    {
     "name": "stdout",
     "output_type": "stream",
     "text": [
      "\n",
      "Image analyzed: Plate05_Nuc_Wells-D8__Channel_SD_AF647,SD_RFP,SD_GFP,SD_DAPI,SD_BF,SD_NIR\n",
      "\n",
      "Detecting infection load...\n",
      "Total cells: 1987\n",
      "Percentage infected:20.84\n",
      "Extracting per marker intensity information...\n",
      "Detecting spots in puncta markers...\n"
     ]
    },
    {
     "name": "stderr",
     "output_type": "stream",
     "text": []
    },
    {
     "name": "stdout",
     "output_type": "stream",
     "text": [
      "\n",
      "Image analyzed: Plate05_Nuc_Wells-D9__Channel_SD_AF647,SD_RFP,SD_GFP,SD_DAPI,SD_BF,SD_NIR\n",
      "\n",
      "Detecting infection load...\n",
      "Total cells: 2126\n",
      "Percentage infected:18.91\n",
      "Extracting per marker intensity information...\n",
      "Detecting spots in puncta markers...\n"
     ]
    },
    {
     "name": "stderr",
     "output_type": "stream",
     "text": []
    },
    {
     "name": "stdout",
     "output_type": "stream",
     "text": [
      "\n",
      "Image analyzed: Plate05_Nuc_Wells-D10__Channel_SD_AF647,SD_RFP,SD_GFP,SD_DAPI,SD_BF,SD_NIR\n",
      "\n",
      "Detecting infection load...\n",
      "Total cells: 1952\n",
      "Percentage infected:19.67\n",
      "Extracting per marker intensity information...\n",
      "Detecting spots in puncta markers...\n"
     ]
    },
    {
     "name": "stderr",
     "output_type": "stream",
     "text": []
    },
    {
     "name": "stdout",
     "output_type": "stream",
     "text": [
      "\n",
      "Image analyzed: Plate05_Nuc_Wells-D11__Channel_SD_AF647,SD_RFP,SD_GFP,SD_DAPI,SD_BF,SD_NIR\n",
      "\n",
      "Detecting infection load...\n",
      "Total cells: 1343\n",
      "Percentage infected:17.94\n",
      "Extracting per marker intensity information...\n",
      "Detecting spots in puncta markers...\n"
     ]
    },
    {
     "name": "stderr",
     "output_type": "stream",
     "text": []
    },
    {
     "name": "stdout",
     "output_type": "stream",
     "text": [
      "\n",
      "Image analyzed: Plate05_Nuc_Wells-D12__Channel_SD_AF647,SD_RFP,SD_GFP,SD_DAPI,SD_BF,SD_NIR\n",
      "\n",
      "Detecting infection load...\n",
      "Total cells: 975\n",
      "Percentage infected:23.59\n",
      "Extracting per marker intensity information...\n",
      "Detecting spots in puncta markers...\n"
     ]
    },
    {
     "name": "stderr",
     "output_type": "stream",
     "text": []
    },
    {
     "name": "stdout",
     "output_type": "stream",
     "text": [
      "\n",
      "Image analyzed: Plate05_Nuc_Wells-E1__Channel_SD_AF647,SD_RFP,SD_GFP,SD_DAPI,SD_BF,SD_NIR\n",
      "\n",
      "Detecting infection load...\n",
      "Total cells: 1736\n",
      "Percentage infected:24.31\n",
      "Extracting per marker intensity information...\n",
      "Detecting spots in puncta markers...\n"
     ]
    },
    {
     "name": "stderr",
     "output_type": "stream",
     "text": []
    },
    {
     "name": "stdout",
     "output_type": "stream",
     "text": [
      "\n",
      "Image analyzed: Plate05_Nuc_Wells-E2__Channel_SD_AF647,SD_RFP,SD_GFP,SD_DAPI,SD_BF,SD_NIR\n",
      "\n",
      "Detecting infection load...\n",
      "Total cells: 1958\n",
      "Percentage infected:23.7\n",
      "Extracting per marker intensity information...\n",
      "Detecting spots in puncta markers...\n"
     ]
    },
    {
     "name": "stderr",
     "output_type": "stream",
     "text": []
    },
    {
     "name": "stdout",
     "output_type": "stream",
     "text": [
      "\n",
      "Image analyzed: Plate05_Nuc_Wells-E3__Channel_SD_AF647,SD_RFP,SD_GFP,SD_DAPI,SD_BF,SD_NIR\n",
      "\n",
      "Detecting infection load...\n",
      "Total cells: 1683\n",
      "Percentage infected:23.59\n",
      "Extracting per marker intensity information...\n",
      "Detecting spots in puncta markers...\n"
     ]
    },
    {
     "name": "stderr",
     "output_type": "stream",
     "text": []
    },
    {
     "name": "stdout",
     "output_type": "stream",
     "text": [
      "\n",
      "Image analyzed: Plate05_Nuc_Wells-E4__Channel_SD_AF647,SD_RFP,SD_GFP,SD_DAPI,SD_BF,SD_NIR\n",
      "\n",
      "Detecting infection load...\n",
      "Total cells: 1548\n",
      "Percentage infected:37.34\n",
      "Extracting per marker intensity information...\n",
      "Detecting spots in puncta markers...\n"
     ]
    },
    {
     "name": "stderr",
     "output_type": "stream",
     "text": []
    },
    {
     "name": "stdout",
     "output_type": "stream",
     "text": [
      "\n",
      "Image analyzed: Plate05_Nuc_Wells-E5__Channel_SD_AF647,SD_RFP,SD_GFP,SD_DAPI,SD_BF,SD_NIR\n",
      "\n",
      "Detecting infection load...\n",
      "Total cells: 2210\n",
      "Percentage infected:30.5\n",
      "Extracting per marker intensity information...\n",
      "Detecting spots in puncta markers...\n"
     ]
    },
    {
     "name": "stderr",
     "output_type": "stream",
     "text": []
    },
    {
     "name": "stdout",
     "output_type": "stream",
     "text": [
      "\n",
      "Image analyzed: Plate05_Nuc_Wells-E6__Channel_SD_AF647,SD_RFP,SD_GFP,SD_DAPI,SD_BF,SD_NIR\n",
      "\n",
      "Detecting infection load...\n",
      "Total cells: 2348\n",
      "Percentage infected:31.9\n",
      "Extracting per marker intensity information...\n",
      "Detecting spots in puncta markers...\n"
     ]
    },
    {
     "name": "stderr",
     "output_type": "stream",
     "text": []
    },
    {
     "name": "stdout",
     "output_type": "stream",
     "text": [
      "\n",
      "Image analyzed: Plate05_Nuc_Wells-E7__Channel_SD_AF647,SD_RFP,SD_GFP,SD_DAPI,SD_BF,SD_NIR\n",
      "\n",
      "Detecting infection load...\n",
      "Total cells: 2635\n",
      "Percentage infected:28.61\n",
      "Extracting per marker intensity information...\n",
      "Detecting spots in puncta markers...\n"
     ]
    },
    {
     "name": "stderr",
     "output_type": "stream",
     "text": []
    },
    {
     "name": "stdout",
     "output_type": "stream",
     "text": [
      "\n",
      "Image analyzed: Plate05_Nuc_Wells-E8__Channel_SD_AF647,SD_RFP,SD_GFP,SD_DAPI,SD_BF,SD_NIR\n",
      "\n",
      "Detecting infection load...\n",
      "Total cells: 1299\n",
      "Percentage infected:25.4\n",
      "Extracting per marker intensity information...\n",
      "Detecting spots in puncta markers...\n"
     ]
    },
    {
     "name": "stderr",
     "output_type": "stream",
     "text": []
    },
    {
     "name": "stdout",
     "output_type": "stream",
     "text": [
      "\n",
      "Image analyzed: Plate05_Nuc_Wells-E9__Channel_SD_AF647,SD_RFP,SD_GFP,SD_DAPI,SD_BF,SD_NIR\n",
      "\n",
      "Detecting infection load...\n",
      "Total cells: 1671\n",
      "Percentage infected:24.36\n",
      "Extracting per marker intensity information...\n",
      "Detecting spots in puncta markers...\n"
     ]
    },
    {
     "name": "stderr",
     "output_type": "stream",
     "text": []
    },
    {
     "name": "stdout",
     "output_type": "stream",
     "text": [
      "\n",
      "Image analyzed: Plate05_Nuc_Wells-E10__Channel_SD_AF647,SD_RFP,SD_GFP,SD_DAPI,SD_BF,SD_NIR\n",
      "\n",
      "Detecting infection load...\n",
      "Total cells: 2192\n",
      "Percentage infected:18.39\n",
      "Extracting per marker intensity information...\n",
      "Detecting spots in puncta markers...\n"
     ]
    },
    {
     "name": "stderr",
     "output_type": "stream",
     "text": []
    },
    {
     "name": "stdout",
     "output_type": "stream",
     "text": [
      "\n",
      "Image analyzed: Plate05_Nuc_Wells-E11__Channel_SD_AF647,SD_RFP,SD_GFP,SD_DAPI,SD_BF,SD_NIR\n",
      "\n",
      "Detecting infection load...\n",
      "Total cells: 1590\n",
      "Percentage infected:21.32\n",
      "Extracting per marker intensity information...\n",
      "Detecting spots in puncta markers...\n"
     ]
    },
    {
     "name": "stderr",
     "output_type": "stream",
     "text": []
    },
    {
     "name": "stdout",
     "output_type": "stream",
     "text": [
      "\n",
      "Image analyzed: Plate05_Nuc_Wells-E12__Channel_SD_AF647,SD_RFP,SD_GFP,SD_DAPI,SD_BF,SD_NIR\n",
      "\n",
      "Detecting infection load...\n",
      "Total cells: 1280\n",
      "Percentage infected:20.62\n",
      "Extracting per marker intensity information...\n",
      "Detecting spots in puncta markers...\n"
     ]
    },
    {
     "name": "stderr",
     "output_type": "stream",
     "text": []
    },
    {
     "name": "stdout",
     "output_type": "stream",
     "text": [
      "\n",
      "Image analyzed: Plate05_Nuc_Wells-F1__Channel_SD_AF647,SD_RFP,SD_GFP,SD_DAPI,SD_BF,SD_NIR\n",
      "\n",
      "Detecting infection load...\n",
      "Total cells: 2183\n",
      "Percentage infected:21.99\n",
      "Extracting per marker intensity information...\n",
      "Detecting spots in puncta markers...\n"
     ]
    },
    {
     "name": "stderr",
     "output_type": "stream",
     "text": []
    },
    {
     "name": "stdout",
     "output_type": "stream",
     "text": [
      "\n",
      "Image analyzed: Plate05_Nuc_Wells-F2__Channel_SD_AF647,SD_RFP,SD_GFP,SD_DAPI,SD_BF,SD_NIR\n",
      "\n",
      "Detecting infection load...\n",
      "Total cells: 2265\n",
      "Percentage infected:34.7\n",
      "Extracting per marker intensity information...\n",
      "Detecting spots in puncta markers...\n"
     ]
    },
    {
     "name": "stderr",
     "output_type": "stream",
     "text": []
    },
    {
     "name": "stdout",
     "output_type": "stream",
     "text": [
      "\n",
      "Image analyzed: Plate05_Nuc_Wells-F3__Channel_SD_AF647,SD_RFP,SD_GFP,SD_DAPI,SD_BF,SD_NIR\n",
      "\n",
      "Detecting infection load...\n",
      "Total cells: 2342\n",
      "Percentage infected:34.76\n",
      "Extracting per marker intensity information...\n",
      "Detecting spots in puncta markers...\n"
     ]
    },
    {
     "name": "stderr",
     "output_type": "stream",
     "text": []
    },
    {
     "name": "stdout",
     "output_type": "stream",
     "text": [
      "\n",
      "Image analyzed: Plate05_Nuc_Wells-F4__Channel_SD_AF647,SD_RFP,SD_GFP,SD_DAPI,SD_BF,SD_NIR\n",
      "\n",
      "Detecting infection load...\n",
      "Total cells: 2187\n",
      "Percentage infected:34.48\n",
      "Extracting per marker intensity information...\n",
      "Detecting spots in puncta markers...\n"
     ]
    },
    {
     "name": "stderr",
     "output_type": "stream",
     "text": []
    },
    {
     "name": "stdout",
     "output_type": "stream",
     "text": [
      "\n",
      "Image analyzed: Plate05_Nuc_Wells-F5__Channel_SD_AF647,SD_RFP,SD_GFP,SD_DAPI,SD_BF,SD_NIR\n",
      "\n",
      "Detecting infection load...\n",
      "Total cells: 2196\n",
      "Percentage infected:28.69\n",
      "Extracting per marker intensity information...\n",
      "Detecting spots in puncta markers...\n"
     ]
    },
    {
     "name": "stderr",
     "output_type": "stream",
     "text": []
    },
    {
     "name": "stdout",
     "output_type": "stream",
     "text": [
      "\n",
      "Image analyzed: Plate05_Nuc_Wells-F6__Channel_SD_AF647,SD_RFP,SD_GFP,SD_DAPI,SD_BF,SD_NIR\n",
      "\n",
      "Detecting infection load...\n",
      "Total cells: 2283\n",
      "Percentage infected:31.14\n",
      "Extracting per marker intensity information...\n",
      "Detecting spots in puncta markers...\n"
     ]
    },
    {
     "name": "stderr",
     "output_type": "stream",
     "text": []
    },
    {
     "name": "stdout",
     "output_type": "stream",
     "text": [
      "\n",
      "Image analyzed: Plate05_Nuc_Wells-F7__Channel_SD_AF647,SD_RFP,SD_GFP,SD_DAPI,SD_BF,SD_NIR\n",
      "\n",
      "Detecting infection load...\n",
      "Total cells: 2483\n",
      "Percentage infected:29.28\n",
      "Extracting per marker intensity information...\n",
      "Detecting spots in puncta markers...\n"
     ]
    },
    {
     "name": "stderr",
     "output_type": "stream",
     "text": []
    },
    {
     "name": "stdout",
     "output_type": "stream",
     "text": [
      "\n",
      "Image analyzed: Plate05_Nuc_Wells-F8__Channel_SD_AF647,SD_RFP,SD_GFP,SD_DAPI,SD_BF,SD_NIR\n",
      "\n",
      "Detecting infection load...\n",
      "Total cells: 1812\n",
      "Percentage infected:27.48\n",
      "Extracting per marker intensity information...\n",
      "Detecting spots in puncta markers...\n"
     ]
    },
    {
     "name": "stderr",
     "output_type": "stream",
     "text": []
    },
    {
     "name": "stdout",
     "output_type": "stream",
     "text": [
      "\n",
      "Image analyzed: Plate05_Nuc_Wells-F9__Channel_SD_AF647,SD_RFP,SD_GFP,SD_DAPI,SD_BF,SD_NIR\n",
      "\n",
      "Detecting infection load...\n",
      "Total cells: 1466\n",
      "Percentage infected:26.53\n",
      "Extracting per marker intensity information...\n",
      "Detecting spots in puncta markers...\n"
     ]
    },
    {
     "name": "stderr",
     "output_type": "stream",
     "text": []
    },
    {
     "name": "stdout",
     "output_type": "stream",
     "text": [
      "\n",
      "Image analyzed: Plate05_Nuc_Wells-F10__Channel_SD_AF647,SD_RFP,SD_GFP,SD_DAPI,SD_BF,SD_NIR\n",
      "\n",
      "Detecting infection load...\n",
      "Total cells: 1654\n",
      "Percentage infected:21.22\n",
      "Extracting per marker intensity information...\n",
      "Detecting spots in puncta markers...\n"
     ]
    },
    {
     "name": "stderr",
     "output_type": "stream",
     "text": []
    },
    {
     "name": "stdout",
     "output_type": "stream",
     "text": [
      "\n",
      "Image analyzed: Plate05_Nuc_Wells-F11__Channel_SD_AF647,SD_RFP,SD_GFP,SD_DAPI,SD_BF,SD_NIR\n",
      "\n",
      "Detecting infection load...\n",
      "Total cells: 1692\n",
      "Percentage infected:24.29\n",
      "Extracting per marker intensity information...\n",
      "Detecting spots in puncta markers...\n"
     ]
    },
    {
     "name": "stderr",
     "output_type": "stream",
     "text": []
    },
    {
     "name": "stdout",
     "output_type": "stream",
     "text": [
      "\n",
      "Image analyzed: Plate05_Nuc_Wells-F12__Channel_SD_AF647,SD_RFP,SD_GFP,SD_DAPI,SD_BF,SD_NIR\n",
      "\n",
      "Detecting infection load...\n",
      "Total cells: 829\n",
      "Percentage infected:23.88\n",
      "Extracting per marker intensity information...\n",
      "Detecting spots in puncta markers...\n"
     ]
    },
    {
     "name": "stderr",
     "output_type": "stream",
     "text": []
    },
    {
     "name": "stdout",
     "output_type": "stream",
     "text": [
      "\n",
      "Image analyzed: Plate05_Nuc_Wells-G1__Channel_SD_AF647,SD_RFP,SD_GFP,SD_DAPI,SD_BF,SD_NIR\n",
      "\n",
      "Detecting infection load...\n",
      "Total cells: 2264\n",
      "Percentage infected:27.96\n",
      "Extracting per marker intensity information...\n",
      "Detecting spots in puncta markers...\n"
     ]
    },
    {
     "name": "stderr",
     "output_type": "stream",
     "text": []
    },
    {
     "name": "stdout",
     "output_type": "stream",
     "text": [
      "\n",
      "Image analyzed: Plate05_Nuc_Wells-G2__Channel_SD_AF647,SD_RFP,SD_GFP,SD_DAPI,SD_BF,SD_NIR\n",
      "\n",
      "Detecting infection load...\n",
      "Total cells: 2360\n",
      "Percentage infected:27.84\n",
      "Extracting per marker intensity information...\n",
      "Detecting spots in puncta markers...\n"
     ]
    },
    {
     "name": "stderr",
     "output_type": "stream",
     "text": []
    },
    {
     "name": "stdout",
     "output_type": "stream",
     "text": [
      "\n",
      "Image analyzed: Plate05_Nuc_Wells-G3__Channel_SD_AF647,SD_RFP,SD_GFP,SD_DAPI,SD_BF,SD_NIR\n",
      "\n",
      "Detecting infection load...\n",
      "Total cells: 2512\n",
      "Percentage infected:30.73\n",
      "Extracting per marker intensity information...\n",
      "Detecting spots in puncta markers...\n"
     ]
    },
    {
     "name": "stderr",
     "output_type": "stream",
     "text": []
    },
    {
     "name": "stdout",
     "output_type": "stream",
     "text": [
      "\n",
      "Image analyzed: Plate05_Nuc_Wells-G4__Channel_SD_AF647,SD_RFP,SD_GFP,SD_DAPI,SD_BF,SD_NIR\n",
      "\n",
      "Detecting infection load...\n",
      "Total cells: 2565\n",
      "Percentage infected:31.35\n",
      "Extracting per marker intensity information...\n",
      "Detecting spots in puncta markers...\n"
     ]
    },
    {
     "name": "stderr",
     "output_type": "stream",
     "text": []
    },
    {
     "name": "stdout",
     "output_type": "stream",
     "text": [
      "\n",
      "Image analyzed: Plate05_Nuc_Wells-G5__Channel_SD_AF647,SD_RFP,SD_GFP,SD_DAPI,SD_BF,SD_NIR\n",
      "\n",
      "Detecting infection load...\n",
      "Total cells: 2637\n",
      "Percentage infected:24.69\n",
      "Extracting per marker intensity information...\n",
      "Detecting spots in puncta markers...\n"
     ]
    },
    {
     "name": "stderr",
     "output_type": "stream",
     "text": []
    },
    {
     "name": "stdout",
     "output_type": "stream",
     "text": [
      "\n",
      "Image analyzed: Plate05_Nuc_Wells-G6__Channel_SD_AF647,SD_RFP,SD_GFP,SD_DAPI,SD_BF,SD_NIR\n",
      "\n",
      "Detecting infection load...\n",
      "Total cells: 2807\n",
      "Percentage infected:31.88\n",
      "Extracting per marker intensity information...\n",
      "Detecting spots in puncta markers...\n"
     ]
    },
    {
     "name": "stderr",
     "output_type": "stream",
     "text": []
    },
    {
     "name": "stdout",
     "output_type": "stream",
     "text": [
      "\n",
      "Image analyzed: Plate05_Nuc_Wells-G7__Channel_SD_AF647,SD_RFP,SD_GFP,SD_DAPI,SD_BF,SD_NIR\n",
      "\n",
      "Detecting infection load...\n",
      "Total cells: 2302\n",
      "Percentage infected:31.58\n",
      "Extracting per marker intensity information...\n",
      "Detecting spots in puncta markers...\n"
     ]
    },
    {
     "name": "stderr",
     "output_type": "stream",
     "text": []
    },
    {
     "name": "stdout",
     "output_type": "stream",
     "text": [
      "\n",
      "Image analyzed: Plate05_Nuc_Wells-G8__Channel_SD_AF647,SD_RFP,SD_GFP,SD_DAPI,SD_BF,SD_NIR\n",
      "\n",
      "Detecting infection load...\n",
      "Total cells: 1787\n",
      "Percentage infected:32.29\n",
      "Extracting per marker intensity information...\n",
      "Detecting spots in puncta markers...\n"
     ]
    },
    {
     "name": "stderr",
     "output_type": "stream",
     "text": []
    },
    {
     "name": "stdout",
     "output_type": "stream",
     "text": [
      "\n",
      "Image analyzed: Plate05_Nuc_Wells-G9__Channel_SD_AF647,SD_RFP,SD_GFP,SD_DAPI,SD_BF,SD_NIR\n",
      "\n",
      "Detecting infection load...\n",
      "Total cells: 1992\n",
      "Percentage infected:27.36\n",
      "Extracting per marker intensity information...\n",
      "Detecting spots in puncta markers...\n"
     ]
    },
    {
     "name": "stderr",
     "output_type": "stream",
     "text": []
    },
    {
     "name": "stdout",
     "output_type": "stream",
     "text": [
      "\n",
      "Image analyzed: Plate05_Nuc_Wells-G10__Channel_SD_AF647,SD_RFP,SD_GFP,SD_DAPI,SD_BF,SD_NIR\n",
      "\n",
      "Detecting infection load...\n",
      "Total cells: 1519\n",
      "Percentage infected:26.73\n",
      "Extracting per marker intensity information...\n",
      "Detecting spots in puncta markers...\n"
     ]
    },
    {
     "name": "stderr",
     "output_type": "stream",
     "text": []
    },
    {
     "name": "stdout",
     "output_type": "stream",
     "text": [
      "\n",
      "Image analyzed: Plate05_Nuc_Wells-G11__Channel_SD_AF647,SD_RFP,SD_GFP,SD_DAPI,SD_BF,SD_NIR\n",
      "\n",
      "Detecting infection load...\n",
      "Total cells: 1503\n",
      "Percentage infected:19.96\n",
      "Extracting per marker intensity information...\n",
      "Detecting spots in puncta markers...\n"
     ]
    },
    {
     "name": "stderr",
     "output_type": "stream",
     "text": []
    },
    {
     "name": "stdout",
     "output_type": "stream",
     "text": [
      "\n",
      "Image analyzed: Plate05_Nuc_Wells-G12__Channel_SD_AF647,SD_RFP,SD_GFP,SD_DAPI,SD_BF,SD_NIR\n",
      "\n",
      "Detecting infection load...\n",
      "Total cells: 693\n",
      "Percentage infected:22.8\n",
      "Extracting per marker intensity information...\n",
      "Detecting spots in puncta markers...\n"
     ]
    },
    {
     "name": "stderr",
     "output_type": "stream",
     "text": []
    },
    {
     "name": "stdout",
     "output_type": "stream",
     "text": [
      "\n",
      "Image analyzed: Plate05_Nuc_Wells-H1__Channel_SD_AF647,SD_RFP,SD_GFP,SD_DAPI,SD_BF,SD_NIR\n",
      "\n",
      "Detecting infection load...\n",
      "Total cells: 2303\n",
      "Percentage infected:0.3\n",
      "Extracting per marker intensity information...\n",
      "Detecting spots in puncta markers...\n"
     ]
    },
    {
     "name": "stderr",
     "output_type": "stream",
     "text": []
    },
    {
     "name": "stdout",
     "output_type": "stream",
     "text": [
      "\n",
      "Image analyzed: Plate05_Nuc_Wells-H2__Channel_SD_AF647,SD_RFP,SD_GFP,SD_DAPI,SD_BF,SD_NIR\n",
      "\n",
      "Detecting infection load...\n",
      "Total cells: 2181\n",
      "Percentage infected:28.06\n",
      "Extracting per marker intensity information...\n",
      "Detecting spots in puncta markers...\n"
     ]
    },
    {
     "name": "stderr",
     "output_type": "stream",
     "text": []
    },
    {
     "name": "stdout",
     "output_type": "stream",
     "text": [
      "\n",
      "Image analyzed: Plate05_Nuc_Wells-H3__Channel_SD_AF647,SD_RFP,SD_GFP,SD_DAPI,SD_BF,SD_NIR\n",
      "\n",
      "Detecting infection load...\n",
      "Total cells: 2802\n",
      "Percentage infected:27.73\n",
      "Extracting per marker intensity information...\n",
      "Detecting spots in puncta markers...\n"
     ]
    },
    {
     "name": "stderr",
     "output_type": "stream",
     "text": []
    },
    {
     "name": "stdout",
     "output_type": "stream",
     "text": [
      "\n",
      "Image analyzed: Plate05_Nuc_Wells-H4__Channel_SD_AF647,SD_RFP,SD_GFP,SD_DAPI,SD_BF,SD_NIR\n",
      "\n",
      "Detecting infection load...\n",
      "Total cells: 2247\n",
      "Percentage infected:28.26\n",
      "Extracting per marker intensity information...\n",
      "Detecting spots in puncta markers...\n"
     ]
    },
    {
     "name": "stderr",
     "output_type": "stream",
     "text": []
    },
    {
     "name": "stdout",
     "output_type": "stream",
     "text": [
      "\n",
      "Image analyzed: Plate05_Nuc_Wells-H5__Channel_SD_AF647,SD_RFP,SD_GFP,SD_DAPI,SD_BF,SD_NIR\n",
      "\n",
      "Detecting infection load...\n",
      "Total cells: 2566\n",
      "Percentage infected:24.28\n",
      "Extracting per marker intensity information...\n",
      "Detecting spots in puncta markers...\n"
     ]
    },
    {
     "name": "stderr",
     "output_type": "stream",
     "text": []
    },
    {
     "name": "stdout",
     "output_type": "stream",
     "text": [
      "\n",
      "Image analyzed: Plate05_Nuc_Wells-H6__Channel_SD_AF647,SD_RFP,SD_GFP,SD_DAPI,SD_BF,SD_NIR\n",
      "\n",
      "Detecting infection load...\n",
      "Total cells: 2597\n",
      "Percentage infected:30.03\n",
      "Extracting per marker intensity information...\n",
      "Detecting spots in puncta markers...\n"
     ]
    },
    {
     "name": "stderr",
     "output_type": "stream",
     "text": []
    },
    {
     "name": "stdout",
     "output_type": "stream",
     "text": [
      "\n",
      "Image analyzed: Plate05_Nuc_Wells-H7__Channel_SD_AF647,SD_RFP,SD_GFP,SD_DAPI,SD_BF,SD_NIR\n",
      "\n",
      "Detecting infection load...\n",
      "Total cells: 2566\n",
      "Percentage infected:24.79\n",
      "Extracting per marker intensity information...\n",
      "Detecting spots in puncta markers...\n"
     ]
    },
    {
     "name": "stderr",
     "output_type": "stream",
     "text": []
    },
    {
     "name": "stdout",
     "output_type": "stream",
     "text": [
      "\n",
      "Image analyzed: Plate05_Nuc_Wells-H8__Channel_SD_AF647,SD_RFP,SD_GFP,SD_DAPI,SD_BF,SD_NIR\n",
      "\n",
      "Detecting infection load...\n",
      "Total cells: 1682\n",
      "Percentage infected:32.76\n",
      "Extracting per marker intensity information...\n",
      "Detecting spots in puncta markers...\n"
     ]
    },
    {
     "name": "stderr",
     "output_type": "stream",
     "text": []
    },
    {
     "name": "stdout",
     "output_type": "stream",
     "text": [
      "\n",
      "Image analyzed: Plate05_Nuc_Wells-H9__Channel_SD_AF647,SD_RFP,SD_GFP,SD_DAPI,SD_BF,SD_NIR\n",
      "\n",
      "Detecting infection load...\n",
      "Total cells: 1885\n",
      "Percentage infected:32.94\n",
      "Extracting per marker intensity information...\n",
      "Detecting spots in puncta markers...\n"
     ]
    },
    {
     "name": "stderr",
     "output_type": "stream",
     "text": []
    },
    {
     "name": "stdout",
     "output_type": "stream",
     "text": [
      "\n",
      "Image analyzed: Plate05_Nuc_Wells-H10__Channel_SD_AF647,SD_RFP,SD_GFP,SD_DAPI,SD_BF,SD_NIR\n",
      "\n",
      "Detecting infection load...\n",
      "Total cells: 2023\n",
      "Percentage infected:26.64\n",
      "Extracting per marker intensity information...\n",
      "Detecting spots in puncta markers...\n"
     ]
    },
    {
     "name": "stderr",
     "output_type": "stream",
     "text": []
    },
    {
     "name": "stdout",
     "output_type": "stream",
     "text": [
      "\n",
      "Image analyzed: Plate05_Nuc_Wells-H11__Channel_SD_AF647,SD_RFP,SD_GFP,SD_DAPI,SD_BF,SD_NIR\n",
      "\n",
      "Detecting infection load...\n",
      "Total cells: 1656\n",
      "Percentage infected:24.28\n",
      "Extracting per marker intensity information...\n",
      "Detecting spots in puncta markers...\n"
     ]
    },
    {
     "name": "stderr",
     "output_type": "stream",
     "text": []
    },
    {
     "name": "stdout",
     "output_type": "stream",
     "text": [
      "\n",
      "Image analyzed: Plate05_Nuc_Wells-H12__Channel_SD_AF647,SD_RFP,SD_GFP,SD_DAPI,SD_BF,SD_NIR\n",
      "\n",
      "Detecting infection load...\n",
      "Total cells: 1088\n",
      "Percentage infected:25.18\n",
      "Extracting per marker intensity information...\n",
      "Detecting spots in puncta markers...\n"
     ]
    },
    {
     "name": "stderr",
     "output_type": "stream",
     "text": [
      "100%|██████████| 96/96 [47:40<00:00, 29.80s/it]\n",
      " 29%|██▉       | 5/17 [4:00:18<9:34:51, 2874.25s/it] "
     ]
    },
    {
     "name": "stdout",
     "output_type": "stream",
     "text": [
      "Analyzing Plate: Plate 06_Nuc\n"
     ]
    },
    {
     "name": "stderr",
     "output_type": "stream",
     "text": []
    },
    {
     "name": "stdout",
     "output_type": "stream",
     "text": [
      "\n",
      "Image analyzed: Plate06_Nuc_Wells-E9__Channel_SD_AF647,SD_RFP,SD_GFP,SD_DAPI,SD_BF,SD_NIR\n",
      "\n",
      "Detecting infection load...\n",
      "Total cells: 2822\n",
      "Percentage infected:18.57\n",
      "Extracting per marker intensity information...\n",
      "Detecting spots in puncta markers...\n"
     ]
    },
    {
     "name": "stderr",
     "output_type": "stream",
     "text": []
    },
    {
     "name": "stdout",
     "output_type": "stream",
     "text": [
      "\n",
      "Image analyzed: Plate06_Nuc_Wells-E10__Channel_SD_AF647,SD_RFP,SD_GFP,SD_DAPI,SD_BF,SD_NIR\n",
      "\n",
      "Detecting infection load...\n",
      "Total cells: 2766\n",
      "Percentage infected:16.99\n",
      "Extracting per marker intensity information...\n",
      "Detecting spots in puncta markers...\n"
     ]
    },
    {
     "name": "stderr",
     "output_type": "stream",
     "text": []
    },
    {
     "name": "stdout",
     "output_type": "stream",
     "text": [
      "\n",
      "Image analyzed: Plate06_Nuc_Wells-E11__Channel_SD_AF647,SD_RFP,SD_GFP,SD_DAPI,SD_BF,SD_NIR\n",
      "\n",
      "Detecting infection load...\n",
      "Total cells: 2537\n",
      "Percentage infected:25.03\n",
      "Extracting per marker intensity information...\n",
      "Detecting spots in puncta markers...\n"
     ]
    },
    {
     "name": "stderr",
     "output_type": "stream",
     "text": []
    },
    {
     "name": "stdout",
     "output_type": "stream",
     "text": [
      "\n",
      "Image analyzed: Plate06_Nuc_Wells-E12__Channel_SD_AF647,SD_RFP,SD_GFP,SD_DAPI,SD_BF,SD_NIR\n",
      "\n",
      "Detecting infection load...\n",
      "Total cells: 1657\n",
      "Percentage infected:29.51\n",
      "Extracting per marker intensity information...\n",
      "Detecting spots in puncta markers...\n"
     ]
    },
    {
     "name": "stderr",
     "output_type": "stream",
     "text": []
    },
    {
     "name": "stdout",
     "output_type": "stream",
     "text": [
      "\n",
      "Image analyzed: Plate06_Nuc_Wells-F1__Channel_SD_AF647,SD_RFP,SD_GFP,SD_DAPI,SD_BF,SD_NIR\n",
      "\n",
      "Detecting infection load...\n",
      "Total cells: 1571\n",
      "Percentage infected:32.91\n",
      "Extracting per marker intensity information...\n",
      "Detecting spots in puncta markers...\n"
     ]
    },
    {
     "name": "stderr",
     "output_type": "stream",
     "text": []
    },
    {
     "name": "stdout",
     "output_type": "stream",
     "text": [
      "\n",
      "Image analyzed: Plate06_Nuc_Wells-F2__Channel_SD_AF647,SD_RFP,SD_GFP,SD_DAPI,SD_BF,SD_NIR\n",
      "\n",
      "Detecting infection load...\n",
      "Total cells: 2045\n",
      "Percentage infected:28.07\n",
      "Extracting per marker intensity information...\n",
      "Detecting spots in puncta markers...\n"
     ]
    },
    {
     "name": "stderr",
     "output_type": "stream",
     "text": []
    },
    {
     "name": "stdout",
     "output_type": "stream",
     "text": [
      "\n",
      "Image analyzed: Plate06_Nuc_Wells-F3__Channel_SD_AF647,SD_RFP,SD_GFP,SD_DAPI,SD_BF,SD_NIR\n",
      "\n",
      "Detecting infection load...\n",
      "Total cells: 2719\n",
      "Percentage infected:27.88\n",
      "Extracting per marker intensity information...\n",
      "Detecting spots in puncta markers...\n"
     ]
    },
    {
     "name": "stderr",
     "output_type": "stream",
     "text": []
    },
    {
     "name": "stdout",
     "output_type": "stream",
     "text": [
      "\n",
      "Image analyzed: Plate06_Nuc_Wells-F4__Channel_SD_AF647,SD_RFP,SD_GFP,SD_DAPI,SD_BF,SD_NIR\n",
      "\n",
      "Detecting infection load...\n",
      "Total cells: 2995\n",
      "Percentage infected:25.41\n",
      "Extracting per marker intensity information...\n",
      "Detecting spots in puncta markers...\n"
     ]
    },
    {
     "name": "stderr",
     "output_type": "stream",
     "text": []
    },
    {
     "name": "stdout",
     "output_type": "stream",
     "text": [
      "\n",
      "Image analyzed: Plate06_Nuc_Wells-F5__Channel_SD_AF647,SD_RFP,SD_GFP,SD_DAPI,SD_BF,SD_NIR\n",
      "\n",
      "Detecting infection load...\n",
      "Total cells: 3189\n",
      "Percentage infected:33.21\n",
      "Extracting per marker intensity information...\n",
      "Detecting spots in puncta markers...\n"
     ]
    },
    {
     "name": "stderr",
     "output_type": "stream",
     "text": []
    },
    {
     "name": "stdout",
     "output_type": "stream",
     "text": [
      "\n",
      "Image analyzed: Plate06_Nuc_Wells-F6__Channel_SD_AF647,SD_RFP,SD_GFP,SD_DAPI,SD_BF,SD_NIR\n",
      "\n",
      "Detecting infection load...\n",
      "Total cells: 3371\n",
      "Percentage infected:29.99\n",
      "Extracting per marker intensity information...\n",
      "Detecting spots in puncta markers...\n"
     ]
    },
    {
     "name": "stderr",
     "output_type": "stream",
     "text": []
    },
    {
     "name": "stdout",
     "output_type": "stream",
     "text": [
      "\n",
      "Image analyzed: Plate06_Nuc_Wells-F7__Channel_SD_AF647,SD_RFP,SD_GFP,SD_DAPI,SD_BF,SD_NIR\n",
      "\n",
      "Detecting infection load...\n",
      "Total cells: 2971\n",
      "Percentage infected:34.03\n",
      "Extracting per marker intensity information...\n",
      "Detecting spots in puncta markers...\n"
     ]
    },
    {
     "name": "stderr",
     "output_type": "stream",
     "text": []
    },
    {
     "name": "stdout",
     "output_type": "stream",
     "text": [
      "\n",
      "Image analyzed: Plate06_Nuc_Wells-F8__Channel_SD_AF647,SD_RFP,SD_GFP,SD_DAPI,SD_BF,SD_NIR\n",
      "\n",
      "Detecting infection load...\n",
      "Total cells: 2871\n",
      "Percentage infected:29.36\n",
      "Extracting per marker intensity information...\n",
      "Detecting spots in puncta markers...\n"
     ]
    },
    {
     "name": "stderr",
     "output_type": "stream",
     "text": []
    },
    {
     "name": "stdout",
     "output_type": "stream",
     "text": [
      "\n",
      "Image analyzed: Plate06_Nuc_Wells-F9__Channel_SD_AF647,SD_RFP,SD_GFP,SD_DAPI,SD_BF,SD_NIR\n",
      "\n",
      "Detecting infection load...\n",
      "Total cells: 2842\n",
      "Percentage infected:23.54\n",
      "Extracting per marker intensity information...\n",
      "Detecting spots in puncta markers...\n"
     ]
    },
    {
     "name": "stderr",
     "output_type": "stream",
     "text": []
    },
    {
     "name": "stdout",
     "output_type": "stream",
     "text": [
      "\n",
      "Image analyzed: Plate06_Nuc_Wells-F10__Channel_SD_AF647,SD_RFP,SD_GFP,SD_DAPI,SD_BF,SD_NIR\n",
      "\n",
      "Detecting infection load...\n",
      "Total cells: 2690\n",
      "Percentage infected:22.34\n",
      "Extracting per marker intensity information...\n",
      "Detecting spots in puncta markers...\n"
     ]
    },
    {
     "name": "stderr",
     "output_type": "stream",
     "text": []
    },
    {
     "name": "stdout",
     "output_type": "stream",
     "text": [
      "\n",
      "Image analyzed: Plate06_Nuc_Wells-F11__Channel_SD_AF647,SD_RFP,SD_GFP,SD_DAPI,SD_BF,SD_NIR\n",
      "\n",
      "Detecting infection load...\n",
      "Total cells: 2245\n",
      "Percentage infected:21.92\n",
      "Extracting per marker intensity information...\n",
      "Detecting spots in puncta markers...\n"
     ]
    },
    {
     "name": "stderr",
     "output_type": "stream",
     "text": []
    },
    {
     "name": "stdout",
     "output_type": "stream",
     "text": [
      "\n",
      "Image analyzed: Plate06_Nuc_Wells-F12__Channel_SD_AF647,SD_RFP,SD_GFP,SD_DAPI,SD_BF,SD_NIR\n",
      "\n",
      "Detecting infection load...\n",
      "Total cells: 1568\n",
      "Percentage infected:21.3\n",
      "Extracting per marker intensity information...\n",
      "Detecting spots in puncta markers...\n"
     ]
    },
    {
     "name": "stderr",
     "output_type": "stream",
     "text": []
    },
    {
     "name": "stdout",
     "output_type": "stream",
     "text": [
      "\n",
      "Image analyzed: Plate06_Nuc_Wells-G1__Channel_SD_AF647,SD_RFP,SD_GFP,SD_DAPI,SD_BF,SD_NIR\n",
      "\n",
      "Detecting infection load...\n",
      "Total cells: 2043\n",
      "Percentage infected:22.47\n",
      "Extracting per marker intensity information...\n",
      "Detecting spots in puncta markers...\n"
     ]
    },
    {
     "name": "stderr",
     "output_type": "stream",
     "text": []
    },
    {
     "name": "stdout",
     "output_type": "stream",
     "text": [
      "\n",
      "Image analyzed: Plate06_Nuc_Wells-G2__Channel_SD_AF647,SD_RFP,SD_GFP,SD_DAPI,SD_BF,SD_NIR\n",
      "\n",
      "Detecting infection load...\n",
      "Total cells: 2586\n",
      "Percentage infected:23.51\n",
      "Extracting per marker intensity information...\n",
      "Detecting spots in puncta markers...\n"
     ]
    },
    {
     "name": "stderr",
     "output_type": "stream",
     "text": []
    },
    {
     "name": "stdout",
     "output_type": "stream",
     "text": [
      "\n",
      "Image analyzed: Plate06_Nuc_Wells-G3__Channel_SD_AF647,SD_RFP,SD_GFP,SD_DAPI,SD_BF,SD_NIR\n",
      "\n",
      "Detecting infection load...\n",
      "Total cells: 3061\n",
      "Percentage infected:20.52\n",
      "Extracting per marker intensity information...\n",
      "Detecting spots in puncta markers...\n"
     ]
    },
    {
     "name": "stderr",
     "output_type": "stream",
     "text": []
    },
    {
     "name": "stdout",
     "output_type": "stream",
     "text": [
      "\n",
      "Image analyzed: Plate06_Nuc_Wells-G4__Channel_SD_AF647,SD_RFP,SD_GFP,SD_DAPI,SD_BF,SD_NIR\n",
      "\n",
      "Detecting infection load...\n",
      "Total cells: 2956\n",
      "Percentage infected:23.99\n",
      "Extracting per marker intensity information...\n",
      "Detecting spots in puncta markers...\n"
     ]
    },
    {
     "name": "stderr",
     "output_type": "stream",
     "text": []
    },
    {
     "name": "stdout",
     "output_type": "stream",
     "text": [
      "\n",
      "Image analyzed: Plate06_Nuc_Wells-G5__Channel_SD_AF647,SD_RFP,SD_GFP,SD_DAPI,SD_BF,SD_NIR\n",
      "\n",
      "Detecting infection load...\n",
      "Total cells: 3187\n",
      "Percentage infected:26.76\n",
      "Extracting per marker intensity information...\n",
      "Detecting spots in puncta markers...\n"
     ]
    },
    {
     "name": "stderr",
     "output_type": "stream",
     "text": []
    },
    {
     "name": "stdout",
     "output_type": "stream",
     "text": [
      "\n",
      "Image analyzed: Plate06_Nuc_Wells-G6__Channel_SD_AF647,SD_RFP,SD_GFP,SD_DAPI,SD_BF,SD_NIR\n",
      "\n",
      "Detecting infection load...\n",
      "Total cells: 3084\n",
      "Percentage infected:26.39\n",
      "Extracting per marker intensity information...\n",
      "Detecting spots in puncta markers...\n"
     ]
    },
    {
     "name": "stderr",
     "output_type": "stream",
     "text": []
    },
    {
     "name": "stdout",
     "output_type": "stream",
     "text": [
      "\n",
      "Image analyzed: Plate06_Nuc_Wells-G7__Channel_SD_AF647,SD_RFP,SD_GFP,SD_DAPI,SD_BF,SD_NIR\n",
      "\n",
      "Detecting infection load...\n",
      "Total cells: 2981\n",
      "Percentage infected:28.88\n",
      "Extracting per marker intensity information...\n",
      "Detecting spots in puncta markers...\n"
     ]
    },
    {
     "name": "stderr",
     "output_type": "stream",
     "text": []
    },
    {
     "name": "stdout",
     "output_type": "stream",
     "text": [
      "\n",
      "Image analyzed: Plate06_Nuc_Wells-G8__Channel_SD_AF647,SD_RFP,SD_GFP,SD_DAPI,SD_BF,SD_NIR\n",
      "\n",
      "Detecting infection load...\n",
      "Total cells: 2947\n",
      "Percentage infected:26.2\n",
      "Extracting per marker intensity information...\n",
      "Detecting spots in puncta markers...\n"
     ]
    },
    {
     "name": "stderr",
     "output_type": "stream",
     "text": []
    },
    {
     "name": "stdout",
     "output_type": "stream",
     "text": [
      "\n",
      "Image analyzed: Plate06_Nuc_Wells-G9__Channel_SD_AF647,SD_RFP,SD_GFP,SD_DAPI,SD_BF,SD_NIR\n",
      "\n",
      "Detecting infection load...\n",
      "Total cells: 2713\n",
      "Percentage infected:24.18\n",
      "Extracting per marker intensity information...\n",
      "Detecting spots in puncta markers...\n"
     ]
    },
    {
     "name": "stderr",
     "output_type": "stream",
     "text": []
    },
    {
     "name": "stdout",
     "output_type": "stream",
     "text": [
      "\n",
      "Image analyzed: Plate06_Nuc_Wells-G10__Channel_SD_AF647,SD_RFP,SD_GFP,SD_DAPI,SD_BF,SD_NIR\n",
      "\n",
      "Detecting infection load...\n",
      "Total cells: 2979\n",
      "Percentage infected:25.68\n",
      "Extracting per marker intensity information...\n",
      "Detecting spots in puncta markers...\n"
     ]
    },
    {
     "name": "stderr",
     "output_type": "stream",
     "text": []
    },
    {
     "name": "stdout",
     "output_type": "stream",
     "text": [
      "\n",
      "Image analyzed: Plate06_Nuc_Wells-G11__Channel_SD_AF647,SD_RFP,SD_GFP,SD_DAPI,SD_BF,SD_NIR\n",
      "\n",
      "Detecting infection load...\n",
      "Total cells: 2797\n",
      "Percentage infected:27.46\n",
      "Extracting per marker intensity information...\n",
      "Detecting spots in puncta markers...\n"
     ]
    },
    {
     "name": "stderr",
     "output_type": "stream",
     "text": []
    },
    {
     "name": "stdout",
     "output_type": "stream",
     "text": [
      "\n",
      "Image analyzed: Plate06_Nuc_Wells-G12__Channel_SD_AF647,SD_RFP,SD_GFP,SD_DAPI,SD_BF,SD_NIR\n",
      "\n",
      "Detecting infection load...\n",
      "Total cells: 2012\n",
      "Percentage infected:19.23\n",
      "Extracting per marker intensity information...\n",
      "Detecting spots in puncta markers...\n"
     ]
    },
    {
     "name": "stderr",
     "output_type": "stream",
     "text": []
    },
    {
     "name": "stdout",
     "output_type": "stream",
     "text": [
      "\n",
      "Image analyzed: Plate06_Nuc_Wells-H1__Channel_SD_AF647,SD_RFP,SD_GFP,SD_DAPI,SD_BF,SD_NIR\n",
      "\n",
      "Detecting infection load...\n",
      "Total cells: 2327\n",
      "Percentage infected:0.17\n",
      "Extracting per marker intensity information...\n",
      "Detecting spots in puncta markers...\n"
     ]
    },
    {
     "name": "stderr",
     "output_type": "stream",
     "text": []
    },
    {
     "name": "stdout",
     "output_type": "stream",
     "text": [
      "\n",
      "Image analyzed: Plate06_Nuc_Wells-H2__Channel_SD_AF647,SD_RFP,SD_GFP,SD_DAPI,SD_BF,SD_NIR\n",
      "\n",
      "Detecting infection load...\n",
      "Total cells: 2360\n",
      "Percentage infected:22.63\n",
      "Extracting per marker intensity information...\n",
      "Detecting spots in puncta markers...\n"
     ]
    },
    {
     "name": "stderr",
     "output_type": "stream",
     "text": []
    },
    {
     "name": "stdout",
     "output_type": "stream",
     "text": [
      "\n",
      "Image analyzed: Plate06_Nuc_Wells-H3__Channel_SD_AF647,SD_RFP,SD_GFP,SD_DAPI,SD_BF,SD_NIR\n",
      "\n",
      "Detecting infection load...\n",
      "Total cells: 2729\n",
      "Percentage infected:23.23\n",
      "Extracting per marker intensity information...\n",
      "Detecting spots in puncta markers...\n"
     ]
    },
    {
     "name": "stderr",
     "output_type": "stream",
     "text": []
    },
    {
     "name": "stdout",
     "output_type": "stream",
     "text": [
      "\n",
      "Image analyzed: Plate06_Nuc_Wells-H4__Channel_SD_AF647,SD_RFP,SD_GFP,SD_DAPI,SD_BF,SD_NIR\n",
      "\n",
      "Detecting infection load...\n",
      "Total cells: 2657\n",
      "Percentage infected:18.25\n",
      "Extracting per marker intensity information...\n",
      "Detecting spots in puncta markers...\n"
     ]
    },
    {
     "name": "stderr",
     "output_type": "stream",
     "text": []
    },
    {
     "name": "stdout",
     "output_type": "stream",
     "text": [
      "\n",
      "Image analyzed: Plate06_Nuc_Wells-H5__Channel_SD_AF647,SD_RFP,SD_GFP,SD_DAPI,SD_BF,SD_NIR\n",
      "\n",
      "Detecting infection load...\n",
      "Total cells: 3208\n",
      "Percentage infected:22.91\n",
      "Extracting per marker intensity information...\n",
      "Detecting spots in puncta markers...\n"
     ]
    },
    {
     "name": "stderr",
     "output_type": "stream",
     "text": []
    },
    {
     "name": "stdout",
     "output_type": "stream",
     "text": [
      "\n",
      "Image analyzed: Plate06_Nuc_Wells-H6__Channel_SD_AF647,SD_RFP,SD_GFP,SD_DAPI,SD_BF,SD_NIR\n",
      "\n",
      "Detecting infection load...\n",
      "Total cells: 2673\n",
      "Percentage infected:25.25\n",
      "Extracting per marker intensity information...\n",
      "Detecting spots in puncta markers...\n"
     ]
    },
    {
     "name": "stderr",
     "output_type": "stream",
     "text": []
    },
    {
     "name": "stdout",
     "output_type": "stream",
     "text": [
      "\n",
      "Image analyzed: Plate06_Nuc_Wells-H7__Channel_SD_AF647,SD_RFP,SD_GFP,SD_DAPI,SD_BF,SD_NIR\n",
      "\n",
      "Detecting infection load...\n",
      "Total cells: 2972\n",
      "Percentage infected:25.81\n",
      "Extracting per marker intensity information...\n",
      "Detecting spots in puncta markers...\n"
     ]
    },
    {
     "name": "stderr",
     "output_type": "stream",
     "text": []
    },
    {
     "name": "stdout",
     "output_type": "stream",
     "text": [
      "\n",
      "Image analyzed: Plate06_Nuc_Wells-H8__Channel_SD_AF647,SD_RFP,SD_GFP,SD_DAPI,SD_BF,SD_NIR\n",
      "\n",
      "Detecting infection load...\n",
      "Total cells: 2790\n",
      "Percentage infected:25.09\n",
      "Extracting per marker intensity information...\n",
      "Detecting spots in puncta markers...\n"
     ]
    },
    {
     "name": "stderr",
     "output_type": "stream",
     "text": []
    },
    {
     "name": "stdout",
     "output_type": "stream",
     "text": [
      "\n",
      "Image analyzed: Plate06_Nuc_Wells-H9__Channel_SD_AF647,SD_RFP,SD_GFP,SD_DAPI,SD_BF,SD_NIR\n",
      "\n",
      "Detecting infection load...\n",
      "Total cells: 2553\n",
      "Percentage infected:25.93\n",
      "Extracting per marker intensity information...\n",
      "Detecting spots in puncta markers...\n"
     ]
    },
    {
     "name": "stderr",
     "output_type": "stream",
     "text": []
    },
    {
     "name": "stdout",
     "output_type": "stream",
     "text": [
      "\n",
      "Image analyzed: Plate06_Nuc_Wells-H10__Channel_SD_AF647,SD_RFP,SD_GFP,SD_DAPI,SD_BF,SD_NIR\n",
      "\n",
      "Detecting infection load...\n",
      "Total cells: 2939\n",
      "Percentage infected:21.95\n",
      "Extracting per marker intensity information...\n",
      "Detecting spots in puncta markers...\n"
     ]
    },
    {
     "name": "stderr",
     "output_type": "stream",
     "text": []
    },
    {
     "name": "stdout",
     "output_type": "stream",
     "text": [
      "\n",
      "Image analyzed: Plate06_Nuc_Wells-H11__Channel_SD_AF647,SD_RFP,SD_GFP,SD_DAPI,SD_BF,SD_NIR\n",
      "\n",
      "Detecting infection load...\n",
      "Total cells: 2443\n",
      "Percentage infected:28.04\n",
      "Extracting per marker intensity information...\n",
      "Detecting spots in puncta markers...\n"
     ]
    },
    {
     "name": "stderr",
     "output_type": "stream",
     "text": []
    },
    {
     "name": "stdout",
     "output_type": "stream",
     "text": [
      "\n",
      "Image analyzed: Plate06_Nuc_Wells-H12__Channel_SD_AF647,SD_RFP,SD_GFP,SD_DAPI,SD_BF,SD_NIR\n",
      "\n",
      "Detecting infection load...\n",
      "Total cells: 2515\n",
      "Percentage infected:25.57\n",
      "Extracting per marker intensity information...\n",
      "Detecting spots in puncta markers...\n"
     ]
    },
    {
     "name": "stderr",
     "output_type": "stream",
     "text": []
    },
    {
     "name": "stdout",
     "output_type": "stream",
     "text": [
      "\n",
      "Image analyzed: Plate06_Nuc_Wells-A1__Channel_SD_AF647,SD_RFP,SD_GFP,SD_DAPI,SD_BF,SD_NIR\n",
      "\n",
      "Detecting infection load...\n",
      "Total cells: 2506\n",
      "Percentage infected:25.3\n",
      "Extracting per marker intensity information...\n",
      "Detecting spots in puncta markers...\n"
     ]
    },
    {
     "name": "stderr",
     "output_type": "stream",
     "text": []
    },
    {
     "name": "stdout",
     "output_type": "stream",
     "text": [
      "\n",
      "Image analyzed: Plate06_Nuc_Wells-A2__Channel_SD_AF647,SD_RFP,SD_GFP,SD_DAPI,SD_BF,SD_NIR\n",
      "\n",
      "Detecting infection load...\n",
      "Total cells: 3117\n",
      "Percentage infected:23.26\n",
      "Extracting per marker intensity information...\n",
      "Detecting spots in puncta markers...\n"
     ]
    },
    {
     "name": "stderr",
     "output_type": "stream",
     "text": []
    },
    {
     "name": "stdout",
     "output_type": "stream",
     "text": [
      "\n",
      "Image analyzed: Plate06_Nuc_Wells-A3__Channel_SD_AF647,SD_RFP,SD_GFP,SD_DAPI,SD_BF,SD_NIR\n",
      "\n",
      "Detecting infection load...\n",
      "Total cells: 3072\n",
      "Percentage infected:21.68\n",
      "Extracting per marker intensity information...\n",
      "Detecting spots in puncta markers...\n"
     ]
    },
    {
     "name": "stderr",
     "output_type": "stream",
     "text": []
    },
    {
     "name": "stdout",
     "output_type": "stream",
     "text": [
      "\n",
      "Image analyzed: Plate06_Nuc_Wells-A4__Channel_SD_AF647,SD_RFP,SD_GFP,SD_DAPI,SD_BF,SD_NIR\n",
      "\n",
      "Detecting infection load...\n",
      "Total cells: 3337\n",
      "Percentage infected:23.25\n",
      "Extracting per marker intensity information...\n",
      "Detecting spots in puncta markers...\n"
     ]
    },
    {
     "name": "stderr",
     "output_type": "stream",
     "text": []
    },
    {
     "name": "stdout",
     "output_type": "stream",
     "text": [
      "\n",
      "Image analyzed: Plate06_Nuc_Wells-A5__Channel_SD_AF647,SD_RFP,SD_GFP,SD_DAPI,SD_BF,SD_NIR\n",
      "\n",
      "Detecting infection load...\n",
      "Total cells: 3886\n",
      "Percentage infected:28.41\n",
      "Extracting per marker intensity information...\n",
      "Detecting spots in puncta markers...\n"
     ]
    },
    {
     "name": "stderr",
     "output_type": "stream",
     "text": []
    },
    {
     "name": "stdout",
     "output_type": "stream",
     "text": [
      "\n",
      "Image analyzed: Plate06_Nuc_Wells-A6__Channel_SD_AF647,SD_RFP,SD_GFP,SD_DAPI,SD_BF,SD_NIR\n",
      "\n",
      "Detecting infection load...\n",
      "Total cells: 3825\n",
      "Percentage infected:23.95\n",
      "Extracting per marker intensity information...\n",
      "Detecting spots in puncta markers...\n"
     ]
    },
    {
     "name": "stderr",
     "output_type": "stream",
     "text": []
    },
    {
     "name": "stdout",
     "output_type": "stream",
     "text": [
      "\n",
      "Image analyzed: Plate06_Nuc_Wells-A7__Channel_SD_AF647,SD_RFP,SD_GFP,SD_DAPI,SD_BF,SD_NIR\n",
      "\n",
      "Detecting infection load...\n",
      "Total cells: 3939\n",
      "Percentage infected:25.95\n",
      "Extracting per marker intensity information...\n",
      "Detecting spots in puncta markers...\n"
     ]
    },
    {
     "name": "stderr",
     "output_type": "stream",
     "text": []
    },
    {
     "name": "stdout",
     "output_type": "stream",
     "text": [
      "\n",
      "Image analyzed: Plate06_Nuc_Wells-A8__Channel_SD_AF647,SD_RFP,SD_GFP,SD_DAPI,SD_BF,SD_NIR\n",
      "\n",
      "Detecting infection load...\n",
      "Total cells: 3629\n",
      "Percentage infected:28.63\n",
      "Extracting per marker intensity information...\n",
      "Detecting spots in puncta markers...\n"
     ]
    },
    {
     "name": "stderr",
     "output_type": "stream",
     "text": []
    },
    {
     "name": "stdout",
     "output_type": "stream",
     "text": [
      "\n",
      "Image analyzed: Plate06_Nuc_Wells-A9__Channel_SD_AF647,SD_RFP,SD_GFP,SD_DAPI,SD_BF,SD_NIR\n",
      "\n",
      "Detecting infection load...\n",
      "Total cells: 3436\n",
      "Percentage infected:23.75\n",
      "Extracting per marker intensity information...\n",
      "Detecting spots in puncta markers...\n"
     ]
    },
    {
     "name": "stderr",
     "output_type": "stream",
     "text": []
    },
    {
     "name": "stdout",
     "output_type": "stream",
     "text": [
      "\n",
      "Image analyzed: Plate06_Nuc_Wells-A10__Channel_SD_AF647,SD_RFP,SD_GFP,SD_DAPI,SD_BF,SD_NIR\n",
      "\n",
      "Detecting infection load...\n",
      "Total cells: 3429\n",
      "Percentage infected:20.62\n",
      "Extracting per marker intensity information...\n",
      "Detecting spots in puncta markers...\n"
     ]
    },
    {
     "name": "stderr",
     "output_type": "stream",
     "text": []
    },
    {
     "name": "stdout",
     "output_type": "stream",
     "text": [
      "\n",
      "Image analyzed: Plate06_Nuc_Wells-A11__Channel_SD_AF647,SD_RFP,SD_GFP,SD_DAPI,SD_BF,SD_NIR\n",
      "\n",
      "Detecting infection load...\n",
      "Total cells: 2786\n",
      "Percentage infected:21.39\n",
      "Extracting per marker intensity information...\n",
      "Detecting spots in puncta markers...\n"
     ]
    },
    {
     "name": "stderr",
     "output_type": "stream",
     "text": []
    },
    {
     "name": "stdout",
     "output_type": "stream",
     "text": [
      "\n",
      "Image analyzed: Plate06_Nuc_Wells-A12__Channel_SD_AF647,SD_RFP,SD_GFP,SD_DAPI,SD_BF,SD_NIR\n",
      "\n",
      "Detecting infection load...\n",
      "Total cells: 2431\n",
      "Percentage infected:21.06\n",
      "Extracting per marker intensity information...\n",
      "Detecting spots in puncta markers...\n"
     ]
    },
    {
     "name": "stderr",
     "output_type": "stream",
     "text": []
    },
    {
     "name": "stdout",
     "output_type": "stream",
     "text": [
      "\n",
      "Image analyzed: Plate06_Nuc_Wells-B1__Channel_SD_AF647,SD_RFP,SD_GFP,SD_DAPI,SD_BF,SD_NIR\n",
      "\n",
      "Detecting infection load...\n",
      "Total cells: 1543\n",
      "Percentage infected:26.9\n",
      "Extracting per marker intensity information...\n",
      "Detecting spots in puncta markers...\n"
     ]
    },
    {
     "name": "stderr",
     "output_type": "stream",
     "text": []
    },
    {
     "name": "stdout",
     "output_type": "stream",
     "text": [
      "\n",
      "Image analyzed: Plate06_Nuc_Wells-B2__Channel_SD_AF647,SD_RFP,SD_GFP,SD_DAPI,SD_BF,SD_NIR\n",
      "\n",
      "Detecting infection load...\n",
      "Total cells: 2054\n",
      "Percentage infected:21.47\n",
      "Extracting per marker intensity information...\n",
      "Detecting spots in puncta markers...\n"
     ]
    },
    {
     "name": "stderr",
     "output_type": "stream",
     "text": []
    },
    {
     "name": "stdout",
     "output_type": "stream",
     "text": [
      "\n",
      "Image analyzed: Plate06_Nuc_Wells-B3__Channel_SD_AF647,SD_RFP,SD_GFP,SD_DAPI,SD_BF,SD_NIR\n",
      "\n",
      "Detecting infection load...\n",
      "Total cells: 2118\n",
      "Percentage infected:25.92\n",
      "Extracting per marker intensity information...\n",
      "Detecting spots in puncta markers...\n"
     ]
    },
    {
     "name": "stderr",
     "output_type": "stream",
     "text": []
    },
    {
     "name": "stdout",
     "output_type": "stream",
     "text": [
      "\n",
      "Image analyzed: Plate06_Nuc_Wells-B4__Channel_SD_AF647,SD_RFP,SD_GFP,SD_DAPI,SD_BF,SD_NIR\n",
      "\n",
      "Detecting infection load...\n",
      "Total cells: 2887\n",
      "Percentage infected:23.87\n",
      "Extracting per marker intensity information...\n",
      "Detecting spots in puncta markers...\n"
     ]
    },
    {
     "name": "stderr",
     "output_type": "stream",
     "text": []
    },
    {
     "name": "stdout",
     "output_type": "stream",
     "text": [
      "\n",
      "Image analyzed: Plate06_Nuc_Wells-B5__Channel_SD_AF647,SD_RFP,SD_GFP,SD_DAPI,SD_BF,SD_NIR\n",
      "\n",
      "Detecting infection load...\n",
      "Total cells: 3524\n",
      "Percentage infected:24.21\n",
      "Extracting per marker intensity information...\n",
      "Detecting spots in puncta markers...\n"
     ]
    },
    {
     "name": "stderr",
     "output_type": "stream",
     "text": []
    },
    {
     "name": "stdout",
     "output_type": "stream",
     "text": [
      "\n",
      "Image analyzed: Plate06_Nuc_Wells-B6__Channel_SD_AF647,SD_RFP,SD_GFP,SD_DAPI,SD_BF,SD_NIR\n",
      "\n",
      "Detecting infection load...\n",
      "Total cells: 3672\n",
      "Percentage infected:29.63\n",
      "Extracting per marker intensity information...\n",
      "Detecting spots in puncta markers...\n"
     ]
    },
    {
     "name": "stderr",
     "output_type": "stream",
     "text": []
    },
    {
     "name": "stdout",
     "output_type": "stream",
     "text": [
      "\n",
      "Image analyzed: Plate06_Nuc_Wells-B7__Channel_SD_AF647,SD_RFP,SD_GFP,SD_DAPI,SD_BF,SD_NIR\n",
      "\n",
      "Detecting infection load...\n",
      "Total cells: 3179\n",
      "Percentage infected:28.03\n",
      "Extracting per marker intensity information...\n",
      "Detecting spots in puncta markers...\n"
     ]
    },
    {
     "name": "stderr",
     "output_type": "stream",
     "text": []
    },
    {
     "name": "stdout",
     "output_type": "stream",
     "text": [
      "\n",
      "Image analyzed: Plate06_Nuc_Wells-B8__Channel_SD_AF647,SD_RFP,SD_GFP,SD_DAPI,SD_BF,SD_NIR\n",
      "\n",
      "Detecting infection load...\n",
      "Total cells: 2878\n",
      "Percentage infected:27.07\n",
      "Extracting per marker intensity information...\n",
      "Detecting spots in puncta markers...\n"
     ]
    },
    {
     "name": "stderr",
     "output_type": "stream",
     "text": []
    },
    {
     "name": "stdout",
     "output_type": "stream",
     "text": [
      "\n",
      "Image analyzed: Plate06_Nuc_Wells-B9__Channel_SD_AF647,SD_RFP,SD_GFP,SD_DAPI,SD_BF,SD_NIR\n",
      "\n",
      "Detecting infection load...\n",
      "Total cells: 2782\n",
      "Percentage infected:23.01\n",
      "Extracting per marker intensity information...\n",
      "Detecting spots in puncta markers...\n"
     ]
    },
    {
     "name": "stderr",
     "output_type": "stream",
     "text": []
    },
    {
     "name": "stdout",
     "output_type": "stream",
     "text": [
      "\n",
      "Image analyzed: Plate06_Nuc_Wells-B10__Channel_SD_AF647,SD_RFP,SD_GFP,SD_DAPI,SD_BF,SD_NIR\n",
      "\n",
      "Detecting infection load...\n",
      "Total cells: 2326\n",
      "Percentage infected:20.89\n",
      "Extracting per marker intensity information...\n",
      "Detecting spots in puncta markers...\n"
     ]
    },
    {
     "name": "stderr",
     "output_type": "stream",
     "text": []
    },
    {
     "name": "stdout",
     "output_type": "stream",
     "text": [
      "\n",
      "Image analyzed: Plate06_Nuc_Wells-B11__Channel_SD_AF647,SD_RFP,SD_GFP,SD_DAPI,SD_BF,SD_NIR\n",
      "\n",
      "Detecting infection load...\n",
      "Total cells: 3128\n",
      "Percentage infected:27.59\n",
      "Extracting per marker intensity information...\n",
      "Detecting spots in puncta markers...\n"
     ]
    },
    {
     "name": "stderr",
     "output_type": "stream",
     "text": []
    },
    {
     "name": "stdout",
     "output_type": "stream",
     "text": [
      "\n",
      "Image analyzed: Plate06_Nuc_Wells-B12__Channel_SD_AF647,SD_RFP,SD_GFP,SD_DAPI,SD_BF,SD_NIR\n",
      "\n",
      "Detecting infection load...\n",
      "Total cells: 2052\n",
      "Percentage infected:25.83\n",
      "Extracting per marker intensity information...\n",
      "Detecting spots in puncta markers...\n"
     ]
    },
    {
     "name": "stderr",
     "output_type": "stream",
     "text": []
    },
    {
     "name": "stdout",
     "output_type": "stream",
     "text": [
      "\n",
      "Image analyzed: Plate06_Nuc_Wells-C1__Channel_SD_AF647,SD_RFP,SD_GFP,SD_DAPI,SD_BF,SD_NIR\n",
      "\n",
      "Detecting infection load...\n",
      "Total cells: 2029\n",
      "Percentage infected:25.43\n",
      "Extracting per marker intensity information...\n",
      "Detecting spots in puncta markers...\n"
     ]
    },
    {
     "name": "stderr",
     "output_type": "stream",
     "text": []
    },
    {
     "name": "stdout",
     "output_type": "stream",
     "text": [
      "\n",
      "Image analyzed: Plate06_Nuc_Wells-C2__Channel_SD_AF647,SD_RFP,SD_GFP,SD_DAPI,SD_BF,SD_NIR\n",
      "\n",
      "Detecting infection load...\n",
      "Total cells: 2622\n",
      "Percentage infected:27.12\n",
      "Extracting per marker intensity information...\n",
      "Detecting spots in puncta markers...\n"
     ]
    },
    {
     "name": "stderr",
     "output_type": "stream",
     "text": []
    },
    {
     "name": "stdout",
     "output_type": "stream",
     "text": [
      "\n",
      "Image analyzed: Plate06_Nuc_Wells-C3__Channel_SD_AF647,SD_RFP,SD_GFP,SD_DAPI,SD_BF,SD_NIR\n",
      "\n",
      "Detecting infection load...\n",
      "Total cells: 2204\n",
      "Percentage infected:20.96\n",
      "Extracting per marker intensity information...\n",
      "Detecting spots in puncta markers...\n"
     ]
    },
    {
     "name": "stderr",
     "output_type": "stream",
     "text": []
    },
    {
     "name": "stdout",
     "output_type": "stream",
     "text": [
      "\n",
      "Image analyzed: Plate06_Nuc_Wells-C4__Channel_SD_AF647,SD_RFP,SD_GFP,SD_DAPI,SD_BF,SD_NIR\n",
      "\n",
      "Detecting infection load...\n",
      "Total cells: 2251\n",
      "Percentage infected:23.99\n",
      "Extracting per marker intensity information...\n",
      "Detecting spots in puncta markers...\n"
     ]
    },
    {
     "name": "stderr",
     "output_type": "stream",
     "text": []
    },
    {
     "name": "stdout",
     "output_type": "stream",
     "text": [
      "\n",
      "Image analyzed: Plate06_Nuc_Wells-C5__Channel_SD_AF647,SD_RFP,SD_GFP,SD_DAPI,SD_BF,SD_NIR\n",
      "\n",
      "Detecting infection load...\n",
      "Total cells: 3006\n",
      "Percentage infected:25.82\n",
      "Extracting per marker intensity information...\n",
      "Detecting spots in puncta markers...\n"
     ]
    },
    {
     "name": "stderr",
     "output_type": "stream",
     "text": []
    },
    {
     "name": "stdout",
     "output_type": "stream",
     "text": [
      "\n",
      "Image analyzed: Plate06_Nuc_Wells-C6__Channel_SD_AF647,SD_RFP,SD_GFP,SD_DAPI,SD_BF,SD_NIR\n",
      "\n",
      "Detecting infection load...\n",
      "Total cells: 3190\n",
      "Percentage infected:30.91\n",
      "Extracting per marker intensity information...\n",
      "Detecting spots in puncta markers...\n"
     ]
    },
    {
     "name": "stderr",
     "output_type": "stream",
     "text": []
    },
    {
     "name": "stdout",
     "output_type": "stream",
     "text": [
      "\n",
      "Image analyzed: Plate06_Nuc_Wells-C7__Channel_SD_AF647,SD_RFP,SD_GFP,SD_DAPI,SD_BF,SD_NIR\n",
      "\n",
      "Detecting infection load...\n",
      "Total cells: 2870\n",
      "Percentage infected:24.22\n",
      "Extracting per marker intensity information...\n",
      "Detecting spots in puncta markers...\n"
     ]
    },
    {
     "name": "stderr",
     "output_type": "stream",
     "text": []
    },
    {
     "name": "stdout",
     "output_type": "stream",
     "text": [
      "\n",
      "Image analyzed: Plate06_Nuc_Wells-C8__Channel_SD_AF647,SD_RFP,SD_GFP,SD_DAPI,SD_BF,SD_NIR\n",
      "\n",
      "Detecting infection load...\n",
      "Total cells: 2602\n",
      "Percentage infected:24.87\n",
      "Extracting per marker intensity information...\n",
      "Detecting spots in puncta markers...\n"
     ]
    },
    {
     "name": "stderr",
     "output_type": "stream",
     "text": []
    },
    {
     "name": "stdout",
     "output_type": "stream",
     "text": [
      "\n",
      "Image analyzed: Plate06_Nuc_Wells-C9__Channel_SD_AF647,SD_RFP,SD_GFP,SD_DAPI,SD_BF,SD_NIR\n",
      "\n",
      "Detecting infection load...\n",
      "Total cells: 2406\n",
      "Percentage infected:18.79\n",
      "Extracting per marker intensity information...\n",
      "Detecting spots in puncta markers...\n"
     ]
    },
    {
     "name": "stderr",
     "output_type": "stream",
     "text": []
    },
    {
     "name": "stdout",
     "output_type": "stream",
     "text": [
      "\n",
      "Image analyzed: Plate06_Nuc_Wells-C10__Channel_SD_AF647,SD_RFP,SD_GFP,SD_DAPI,SD_BF,SD_NIR\n",
      "\n",
      "Detecting infection load...\n",
      "Total cells: 2589\n",
      "Percentage infected:19.81\n",
      "Extracting per marker intensity information...\n",
      "Detecting spots in puncta markers...\n"
     ]
    },
    {
     "name": "stderr",
     "output_type": "stream",
     "text": []
    },
    {
     "name": "stdout",
     "output_type": "stream",
     "text": [
      "\n",
      "Image analyzed: Plate06_Nuc_Wells-C11__Channel_SD_AF647,SD_RFP,SD_GFP,SD_DAPI,SD_BF,SD_NIR\n",
      "\n",
      "Detecting infection load...\n",
      "Total cells: 2421\n",
      "Percentage infected:20.74\n",
      "Extracting per marker intensity information...\n",
      "Detecting spots in puncta markers...\n"
     ]
    },
    {
     "name": "stderr",
     "output_type": "stream",
     "text": []
    },
    {
     "name": "stdout",
     "output_type": "stream",
     "text": [
      "\n",
      "Image analyzed: Plate06_Nuc_Wells-C12__Channel_SD_AF647,SD_RFP,SD_GFP,SD_DAPI,SD_BF,SD_NIR\n",
      "\n",
      "Detecting infection load...\n",
      "Total cells: 1483\n",
      "Percentage infected:28.79\n",
      "Extracting per marker intensity information...\n",
      "Detecting spots in puncta markers...\n"
     ]
    },
    {
     "name": "stderr",
     "output_type": "stream",
     "text": []
    },
    {
     "name": "stdout",
     "output_type": "stream",
     "text": [
      "\n",
      "Image analyzed: Plate06_Nuc_Wells-D1__Channel_SD_AF647,SD_RFP,SD_GFP,SD_DAPI,SD_BF,SD_NIR\n",
      "\n",
      "Detecting infection load...\n",
      "Total cells: 1323\n",
      "Percentage infected:26.15\n",
      "Extracting per marker intensity information...\n",
      "Detecting spots in puncta markers...\n"
     ]
    },
    {
     "name": "stderr",
     "output_type": "stream",
     "text": []
    },
    {
     "name": "stdout",
     "output_type": "stream",
     "text": [
      "\n",
      "Image analyzed: Plate06_Nuc_Wells-D2__Channel_SD_AF647,SD_RFP,SD_GFP,SD_DAPI,SD_BF,SD_NIR\n",
      "\n",
      "Detecting infection load...\n",
      "Total cells: 2335\n",
      "Percentage infected:25.87\n",
      "Extracting per marker intensity information...\n",
      "Detecting spots in puncta markers...\n"
     ]
    },
    {
     "name": "stderr",
     "output_type": "stream",
     "text": []
    },
    {
     "name": "stdout",
     "output_type": "stream",
     "text": [
      "\n",
      "Image analyzed: Plate06_Nuc_Wells-D3__Channel_SD_AF647,SD_RFP,SD_GFP,SD_DAPI,SD_BF,SD_NIR\n",
      "\n",
      "Detecting infection load...\n",
      "Total cells: 2780\n",
      "Percentage infected:26.01\n",
      "Extracting per marker intensity information...\n",
      "Detecting spots in puncta markers...\n"
     ]
    },
    {
     "name": "stderr",
     "output_type": "stream",
     "text": []
    },
    {
     "name": "stdout",
     "output_type": "stream",
     "text": [
      "\n",
      "Image analyzed: Plate06_Nuc_Wells-D4__Channel_SD_AF647,SD_RFP,SD_GFP,SD_DAPI,SD_BF,SD_NIR\n",
      "\n",
      "Detecting infection load...\n",
      "Total cells: 2203\n",
      "Percentage infected:26.37\n",
      "Extracting per marker intensity information...\n",
      "Detecting spots in puncta markers...\n"
     ]
    },
    {
     "name": "stderr",
     "output_type": "stream",
     "text": []
    },
    {
     "name": "stdout",
     "output_type": "stream",
     "text": [
      "\n",
      "Image analyzed: Plate06_Nuc_Wells-D5__Channel_SD_AF647,SD_RFP,SD_GFP,SD_DAPI,SD_BF,SD_NIR\n",
      "\n",
      "Detecting infection load...\n",
      "Total cells: 2308\n",
      "Percentage infected:31.07\n",
      "Extracting per marker intensity information...\n",
      "Detecting spots in puncta markers...\n"
     ]
    },
    {
     "name": "stderr",
     "output_type": "stream",
     "text": []
    },
    {
     "name": "stdout",
     "output_type": "stream",
     "text": [
      "\n",
      "Image analyzed: Plate06_Nuc_Wells-D6__Channel_SD_AF647,SD_RFP,SD_GFP,SD_DAPI,SD_BF,SD_NIR\n",
      "\n",
      "Detecting infection load...\n",
      "Total cells: 2470\n",
      "Percentage infected:29.96\n",
      "Extracting per marker intensity information...\n",
      "Detecting spots in puncta markers...\n"
     ]
    },
    {
     "name": "stderr",
     "output_type": "stream",
     "text": []
    },
    {
     "name": "stdout",
     "output_type": "stream",
     "text": [
      "\n",
      "Image analyzed: Plate06_Nuc_Wells-D7__Channel_SD_AF647,SD_RFP,SD_GFP,SD_DAPI,SD_BF,SD_NIR\n",
      "\n",
      "Detecting infection load...\n",
      "Total cells: 2613\n",
      "Percentage infected:25.95\n",
      "Extracting per marker intensity information...\n",
      "Detecting spots in puncta markers...\n"
     ]
    },
    {
     "name": "stderr",
     "output_type": "stream",
     "text": []
    },
    {
     "name": "stdout",
     "output_type": "stream",
     "text": [
      "\n",
      "Image analyzed: Plate06_Nuc_Wells-D8__Channel_SD_AF647,SD_RFP,SD_GFP,SD_DAPI,SD_BF,SD_NIR\n",
      "\n",
      "Detecting infection load...\n",
      "Total cells: 2565\n",
      "Percentage infected:21.44\n",
      "Extracting per marker intensity information...\n",
      "Detecting spots in puncta markers...\n"
     ]
    },
    {
     "name": "stderr",
     "output_type": "stream",
     "text": []
    },
    {
     "name": "stdout",
     "output_type": "stream",
     "text": [
      "\n",
      "Image analyzed: Plate06_Nuc_Wells-D9__Channel_SD_AF647,SD_RFP,SD_GFP,SD_DAPI,SD_BF,SD_NIR\n",
      "\n",
      "Detecting infection load...\n",
      "Total cells: 2786\n",
      "Percentage infected:26.17\n",
      "Extracting per marker intensity information...\n",
      "Detecting spots in puncta markers...\n"
     ]
    },
    {
     "name": "stderr",
     "output_type": "stream",
     "text": []
    },
    {
     "name": "stdout",
     "output_type": "stream",
     "text": [
      "\n",
      "Image analyzed: Plate06_Nuc_Wells-D10__Channel_SD_AF647,SD_RFP,SD_GFP,SD_DAPI,SD_BF,SD_NIR\n",
      "\n",
      "Detecting infection load...\n",
      "Total cells: 2354\n",
      "Percentage infected:20.18\n",
      "Extracting per marker intensity information...\n",
      "Detecting spots in puncta markers...\n"
     ]
    },
    {
     "name": "stderr",
     "output_type": "stream",
     "text": []
    },
    {
     "name": "stdout",
     "output_type": "stream",
     "text": [
      "\n",
      "Image analyzed: Plate06_Nuc_Wells-D11__Channel_SD_AF647,SD_RFP,SD_GFP,SD_DAPI,SD_BF,SD_NIR\n",
      "\n",
      "Detecting infection load...\n",
      "Total cells: 2285\n",
      "Percentage infected:25.95\n",
      "Extracting per marker intensity information...\n",
      "Detecting spots in puncta markers...\n"
     ]
    },
    {
     "name": "stderr",
     "output_type": "stream",
     "text": []
    },
    {
     "name": "stdout",
     "output_type": "stream",
     "text": [
      "\n",
      "Image analyzed: Plate06_Nuc_Wells-D12__Channel_SD_AF647,SD_RFP,SD_GFP,SD_DAPI,SD_BF,SD_NIR\n",
      "\n",
      "Detecting infection load...\n",
      "Total cells: 1561\n",
      "Percentage infected:25.37\n",
      "Extracting per marker intensity information...\n",
      "Detecting spots in puncta markers...\n"
     ]
    },
    {
     "name": "stderr",
     "output_type": "stream",
     "text": []
    },
    {
     "name": "stdout",
     "output_type": "stream",
     "text": [
      "\n",
      "Image analyzed: Plate06_Nuc_Wells-E1__Channel_SD_AF647,SD_RFP,SD_GFP,SD_DAPI,SD_BF,SD_NIR\n",
      "\n",
      "Detecting infection load...\n",
      "Total cells: 1793\n",
      "Percentage infected:27.77\n",
      "Extracting per marker intensity information...\n",
      "Detecting spots in puncta markers...\n"
     ]
    },
    {
     "name": "stderr",
     "output_type": "stream",
     "text": []
    },
    {
     "name": "stdout",
     "output_type": "stream",
     "text": [
      "\n",
      "Image analyzed: Plate06_Nuc_Wells-E2__Channel_SD_AF647,SD_RFP,SD_GFP,SD_DAPI,SD_BF,SD_NIR\n",
      "\n",
      "Detecting infection load...\n",
      "Total cells: 2565\n",
      "Percentage infected:29.51\n",
      "Extracting per marker intensity information...\n",
      "Detecting spots in puncta markers...\n"
     ]
    },
    {
     "name": "stderr",
     "output_type": "stream",
     "text": []
    },
    {
     "name": "stdout",
     "output_type": "stream",
     "text": [
      "\n",
      "Image analyzed: Plate06_Nuc_Wells-E3__Channel_SD_AF647,SD_RFP,SD_GFP,SD_DAPI,SD_BF,SD_NIR\n",
      "\n",
      "Detecting infection load...\n",
      "Total cells: 2822\n",
      "Percentage infected:30.3\n",
      "Extracting per marker intensity information...\n",
      "Detecting spots in puncta markers...\n"
     ]
    },
    {
     "name": "stderr",
     "output_type": "stream",
     "text": []
    },
    {
     "name": "stdout",
     "output_type": "stream",
     "text": [
      "\n",
      "Image analyzed: Plate06_Nuc_Wells-E4__Channel_SD_AF647,SD_RFP,SD_GFP,SD_DAPI,SD_BF,SD_NIR\n",
      "\n",
      "Detecting infection load...\n",
      "Total cells: 2622\n",
      "Percentage infected:23.07\n",
      "Extracting per marker intensity information...\n",
      "Detecting spots in puncta markers...\n"
     ]
    },
    {
     "name": "stderr",
     "output_type": "stream",
     "text": []
    },
    {
     "name": "stdout",
     "output_type": "stream",
     "text": [
      "\n",
      "Image analyzed: Plate06_Nuc_Wells-E5__Channel_SD_AF647,SD_RFP,SD_GFP,SD_DAPI,SD_BF,SD_NIR\n",
      "\n",
      "Detecting infection load...\n",
      "Total cells: 2546\n",
      "Percentage infected:31.23\n",
      "Extracting per marker intensity information...\n",
      "Detecting spots in puncta markers...\n"
     ]
    },
    {
     "name": "stderr",
     "output_type": "stream",
     "text": []
    },
    {
     "name": "stdout",
     "output_type": "stream",
     "text": [
      "\n",
      "Image analyzed: Plate06_Nuc_Wells-E6__Channel_SD_AF647,SD_RFP,SD_GFP,SD_DAPI,SD_BF,SD_NIR\n",
      "\n",
      "Detecting infection load...\n",
      "Total cells: 3183\n",
      "Percentage infected:32.17\n",
      "Extracting per marker intensity information...\n",
      "Detecting spots in puncta markers...\n"
     ]
    },
    {
     "name": "stderr",
     "output_type": "stream",
     "text": []
    },
    {
     "name": "stdout",
     "output_type": "stream",
     "text": [
      "\n",
      "Image analyzed: Plate06_Nuc_Wells-E7__Channel_SD_AF647,SD_RFP,SD_GFP,SD_DAPI,SD_BF,SD_NIR\n",
      "\n",
      "Detecting infection load...\n",
      "Total cells: 3079\n",
      "Percentage infected:30.53\n",
      "Extracting per marker intensity information...\n",
      "Detecting spots in puncta markers...\n"
     ]
    },
    {
     "name": "stderr",
     "output_type": "stream",
     "text": []
    },
    {
     "name": "stdout",
     "output_type": "stream",
     "text": [
      "\n",
      "Image analyzed: Plate06_Nuc_Wells-E8__Channel_SD_AF647,SD_RFP,SD_GFP,SD_DAPI,SD_BF,SD_NIR\n",
      "\n",
      "Detecting infection load...\n",
      "Total cells: 2877\n",
      "Percentage infected:24.12\n",
      "Extracting per marker intensity information...\n",
      "Detecting spots in puncta markers...\n"
     ]
    },
    {
     "name": "stderr",
     "output_type": "stream",
     "text": [
      "100%|██████████| 96/96 [48:55<00:00, 30.58s/it]\n",
      " 35%|███▌      | 6/17 [4:49:17<8:51:01, 2896.50s/it]"
     ]
    },
    {
     "name": "stdout",
     "output_type": "stream",
     "text": [
      "Analyzing Plate: Plate 07_Nuc\n"
     ]
    },
    {
     "name": "stderr",
     "output_type": "stream",
     "text": []
    },
    {
     "name": "stdout",
     "output_type": "stream",
     "text": [
      "\n",
      "Image analyzed: Plate07_Nuc_Wells-A1__Channel_SD_AF647,SD_RFP,SD_GFP,SD_DAPI,SD_BF,SD_NIR\n",
      "\n",
      "Detecting infection load...\n",
      "Total cells: 2430\n",
      "Percentage infected:27.57\n",
      "Extracting per marker intensity information...\n",
      "Detecting spots in puncta markers...\n"
     ]
    },
    {
     "name": "stderr",
     "output_type": "stream",
     "text": []
    },
    {
     "name": "stdout",
     "output_type": "stream",
     "text": [
      "\n",
      "Image analyzed: Plate07_Nuc_Wells-A2__Channel_SD_AF647,SD_RFP,SD_GFP,SD_DAPI,SD_BF,SD_NIR\n",
      "\n",
      "Detecting infection load...\n",
      "Total cells: 2856\n",
      "Percentage infected:28.15\n",
      "Extracting per marker intensity information...\n",
      "Detecting spots in puncta markers...\n"
     ]
    },
    {
     "name": "stderr",
     "output_type": "stream",
     "text": []
    },
    {
     "name": "stdout",
     "output_type": "stream",
     "text": [
      "\n",
      "Image analyzed: Plate07_Nuc_Wells-A3__Channel_SD_AF647,SD_RFP,SD_GFP,SD_DAPI,SD_BF,SD_NIR\n",
      "\n",
      "Detecting infection load...\n",
      "Total cells: 2988\n",
      "Percentage infected:23.86\n",
      "Extracting per marker intensity information...\n",
      "Detecting spots in puncta markers...\n"
     ]
    },
    {
     "name": "stderr",
     "output_type": "stream",
     "text": []
    },
    {
     "name": "stdout",
     "output_type": "stream",
     "text": [
      "\n",
      "Image analyzed: Plate07_Nuc_Wells-A4__Channel_SD_AF647,SD_RFP,SD_GFP,SD_DAPI,SD_BF,SD_NIR\n",
      "\n",
      "Detecting infection load...\n",
      "Total cells: 3262\n",
      "Percentage infected:24.03\n",
      "Extracting per marker intensity information...\n",
      "Detecting spots in puncta markers...\n"
     ]
    },
    {
     "name": "stderr",
     "output_type": "stream",
     "text": []
    },
    {
     "name": "stdout",
     "output_type": "stream",
     "text": [
      "\n",
      "Image analyzed: Plate07_Nuc_Wells-A5__Channel_SD_AF647,SD_RFP,SD_GFP,SD_DAPI,SD_BF,SD_NIR\n",
      "\n",
      "Detecting infection load...\n",
      "Total cells: 2081\n",
      "Percentage infected:24.17\n",
      "Extracting per marker intensity information...\n",
      "Detecting spots in puncta markers...\n"
     ]
    },
    {
     "name": "stderr",
     "output_type": "stream",
     "text": []
    },
    {
     "name": "stdout",
     "output_type": "stream",
     "text": [
      "\n",
      "Image analyzed: Plate07_Nuc_Wells-A6__Channel_SD_AF647,SD_RFP,SD_GFP,SD_DAPI,SD_BF,SD_NIR\n",
      "\n",
      "Detecting infection load...\n",
      "Total cells: 2445\n",
      "Percentage infected:25.93\n",
      "Extracting per marker intensity information...\n",
      "Detecting spots in puncta markers...\n"
     ]
    },
    {
     "name": "stderr",
     "output_type": "stream",
     "text": []
    },
    {
     "name": "stdout",
     "output_type": "stream",
     "text": [
      "\n",
      "Image analyzed: Plate07_Nuc_Wells-A7__Channel_SD_AF647,SD_RFP,SD_GFP,SD_DAPI,SD_BF,SD_NIR\n",
      "\n",
      "Detecting infection load...\n",
      "Total cells: 2572\n",
      "Percentage infected:28.19\n",
      "Extracting per marker intensity information...\n",
      "Detecting spots in puncta markers...\n"
     ]
    },
    {
     "name": "stderr",
     "output_type": "stream",
     "text": []
    },
    {
     "name": "stdout",
     "output_type": "stream",
     "text": [
      "\n",
      "Image analyzed: Plate07_Nuc_Wells-A8__Channel_SD_AF647,SD_RFP,SD_GFP,SD_DAPI,SD_BF,SD_NIR\n",
      "\n",
      "Detecting infection load...\n",
      "Total cells: 2264\n",
      "Percentage infected:29.02\n",
      "Extracting per marker intensity information...\n",
      "Detecting spots in puncta markers...\n"
     ]
    },
    {
     "name": "stderr",
     "output_type": "stream",
     "text": []
    },
    {
     "name": "stdout",
     "output_type": "stream",
     "text": [
      "\n",
      "Image analyzed: Plate07_Nuc_Wells-A9__Channel_SD_AF647,SD_RFP,SD_GFP,SD_DAPI,SD_BF,SD_NIR\n",
      "\n",
      "Detecting infection load...\n",
      "Total cells: 1875\n",
      "Percentage infected:18.56\n",
      "Extracting per marker intensity information...\n",
      "Detecting spots in puncta markers...\n"
     ]
    },
    {
     "name": "stderr",
     "output_type": "stream",
     "text": []
    },
    {
     "name": "stdout",
     "output_type": "stream",
     "text": [
      "\n",
      "Image analyzed: Plate07_Nuc_Wells-A10__Channel_SD_AF647,SD_RFP,SD_GFP,SD_DAPI,SD_BF,SD_NIR\n",
      "\n",
      "Detecting infection load...\n",
      "Total cells: 1338\n",
      "Percentage infected:21.45\n",
      "Extracting per marker intensity information...\n",
      "Detecting spots in puncta markers...\n"
     ]
    },
    {
     "name": "stderr",
     "output_type": "stream",
     "text": []
    },
    {
     "name": "stdout",
     "output_type": "stream",
     "text": [
      "\n",
      "Image analyzed: Plate07_Nuc_Wells-A11__Channel_SD_AF647,SD_RFP,SD_GFP,SD_DAPI,SD_BF,SD_NIR\n",
      "\n",
      "Detecting infection load...\n",
      "Total cells: 1711\n",
      "Percentage infected:22.91\n",
      "Extracting per marker intensity information...\n",
      "Detecting spots in puncta markers...\n"
     ]
    },
    {
     "name": "stderr",
     "output_type": "stream",
     "text": []
    },
    {
     "name": "stdout",
     "output_type": "stream",
     "text": [
      "\n",
      "Image analyzed: Plate07_Nuc_Wells-A12__Channel_SD_AF647,SD_RFP,SD_GFP,SD_DAPI,SD_BF,SD_NIR\n",
      "\n",
      "Detecting infection load...\n",
      "Total cells: 1172\n",
      "Percentage infected:24.74\n",
      "Extracting per marker intensity information...\n",
      "Detecting spots in puncta markers...\n"
     ]
    },
    {
     "name": "stderr",
     "output_type": "stream",
     "text": []
    },
    {
     "name": "stdout",
     "output_type": "stream",
     "text": [
      "\n",
      "Image analyzed: Plate07_Nuc_Wells-B1__Channel_SD_AF647,SD_RFP,SD_GFP,SD_DAPI,SD_BF,SD_NIR\n",
      "\n",
      "Detecting infection load...\n",
      "Total cells: 1317\n",
      "Percentage infected:19.51\n",
      "Extracting per marker intensity information...\n",
      "Detecting spots in puncta markers...\n"
     ]
    },
    {
     "name": "stderr",
     "output_type": "stream",
     "text": []
    },
    {
     "name": "stdout",
     "output_type": "stream",
     "text": [
      "\n",
      "Image analyzed: Plate07_Nuc_Wells-B2__Channel_SD_AF647,SD_RFP,SD_GFP,SD_DAPI,SD_BF,SD_NIR\n",
      "\n",
      "Detecting infection load...\n",
      "Total cells: 2008\n",
      "Percentage infected:21.02\n",
      "Extracting per marker intensity information...\n",
      "Detecting spots in puncta markers...\n"
     ]
    },
    {
     "name": "stderr",
     "output_type": "stream",
     "text": []
    },
    {
     "name": "stdout",
     "output_type": "stream",
     "text": [
      "\n",
      "Image analyzed: Plate07_Nuc_Wells-B3__Channel_SD_AF647,SD_RFP,SD_GFP,SD_DAPI,SD_BF,SD_NIR\n",
      "\n",
      "Detecting infection load...\n",
      "Total cells: 2093\n",
      "Percentage infected:23.55\n",
      "Extracting per marker intensity information...\n",
      "Detecting spots in puncta markers...\n"
     ]
    },
    {
     "name": "stderr",
     "output_type": "stream",
     "text": []
    },
    {
     "name": "stdout",
     "output_type": "stream",
     "text": [
      "\n",
      "Image analyzed: Plate07_Nuc_Wells-B4__Channel_SD_AF647,SD_RFP,SD_GFP,SD_DAPI,SD_BF,SD_NIR\n",
      "\n",
      "Detecting infection load...\n",
      "Total cells: 2315\n",
      "Percentage infected:26.78\n",
      "Extracting per marker intensity information...\n",
      "Detecting spots in puncta markers...\n"
     ]
    },
    {
     "name": "stderr",
     "output_type": "stream",
     "text": []
    },
    {
     "name": "stdout",
     "output_type": "stream",
     "text": [
      "\n",
      "Image analyzed: Plate07_Nuc_Wells-B5__Channel_SD_AF647,SD_RFP,SD_GFP,SD_DAPI,SD_BF,SD_NIR\n",
      "\n",
      "Detecting infection load...\n",
      "Total cells: 1961\n",
      "Percentage infected:28.1\n",
      "Extracting per marker intensity information...\n",
      "Detecting spots in puncta markers...\n"
     ]
    },
    {
     "name": "stderr",
     "output_type": "stream",
     "text": []
    },
    {
     "name": "stdout",
     "output_type": "stream",
     "text": [
      "\n",
      "Image analyzed: Plate07_Nuc_Wells-B6__Channel_SD_AF647,SD_RFP,SD_GFP,SD_DAPI,SD_BF,SD_NIR\n",
      "\n",
      "Detecting infection load...\n",
      "Total cells: 2072\n",
      "Percentage infected:27.22\n",
      "Extracting per marker intensity information...\n",
      "Detecting spots in puncta markers...\n"
     ]
    },
    {
     "name": "stderr",
     "output_type": "stream",
     "text": []
    },
    {
     "name": "stdout",
     "output_type": "stream",
     "text": [
      "\n",
      "Image analyzed: Plate07_Nuc_Wells-B7__Channel_SD_AF647,SD_RFP,SD_GFP,SD_DAPI,SD_BF,SD_NIR\n",
      "\n",
      "Detecting infection load...\n",
      "Total cells: 1828\n",
      "Percentage infected:27.9\n",
      "Extracting per marker intensity information...\n",
      "Detecting spots in puncta markers...\n"
     ]
    },
    {
     "name": "stderr",
     "output_type": "stream",
     "text": []
    },
    {
     "name": "stdout",
     "output_type": "stream",
     "text": [
      "\n",
      "Image analyzed: Plate07_Nuc_Wells-B8__Channel_SD_AF647,SD_RFP,SD_GFP,SD_DAPI,SD_BF,SD_NIR\n",
      "\n",
      "Detecting infection load...\n",
      "Total cells: 1813\n",
      "Percentage infected:28.08\n",
      "Extracting per marker intensity information...\n",
      "Detecting spots in puncta markers...\n"
     ]
    },
    {
     "name": "stderr",
     "output_type": "stream",
     "text": []
    },
    {
     "name": "stdout",
     "output_type": "stream",
     "text": [
      "\n",
      "Image analyzed: Plate07_Nuc_Wells-B9__Channel_SD_AF647,SD_RFP,SD_GFP,SD_DAPI,SD_BF,SD_NIR\n",
      "\n",
      "Detecting infection load...\n",
      "Total cells: 1467\n",
      "Percentage infected:21.61\n",
      "Extracting per marker intensity information...\n",
      "Detecting spots in puncta markers...\n"
     ]
    },
    {
     "name": "stderr",
     "output_type": "stream",
     "text": []
    },
    {
     "name": "stdout",
     "output_type": "stream",
     "text": [
      "\n",
      "Image analyzed: Plate07_Nuc_Wells-B10__Channel_SD_AF647,SD_RFP,SD_GFP,SD_DAPI,SD_BF,SD_NIR\n",
      "\n",
      "Detecting infection load...\n",
      "Total cells: 1231\n",
      "Percentage infected:18.68\n",
      "Extracting per marker intensity information...\n",
      "Detecting spots in puncta markers...\n"
     ]
    },
    {
     "name": "stderr",
     "output_type": "stream",
     "text": []
    },
    {
     "name": "stdout",
     "output_type": "stream",
     "text": [
      "\n",
      "Image analyzed: Plate07_Nuc_Wells-B11__Channel_SD_AF647,SD_RFP,SD_GFP,SD_DAPI,SD_BF,SD_NIR\n",
      "\n",
      "Detecting infection load...\n",
      "Total cells: 1519\n",
      "Percentage infected:20.28\n",
      "Extracting per marker intensity information...\n",
      "Detecting spots in puncta markers...\n"
     ]
    },
    {
     "name": "stderr",
     "output_type": "stream",
     "text": []
    },
    {
     "name": "stdout",
     "output_type": "stream",
     "text": [
      "\n",
      "Image analyzed: Plate07_Nuc_Wells-B12__Channel_SD_AF647,SD_RFP,SD_GFP,SD_DAPI,SD_BF,SD_NIR\n",
      "\n",
      "Detecting infection load...\n",
      "Total cells: 1292\n",
      "Percentage infected:22.21\n",
      "Extracting per marker intensity information...\n",
      "Detecting spots in puncta markers...\n"
     ]
    },
    {
     "name": "stderr",
     "output_type": "stream",
     "text": []
    },
    {
     "name": "stdout",
     "output_type": "stream",
     "text": [
      "\n",
      "Image analyzed: Plate07_Nuc_Wells-C1__Channel_SD_AF647,SD_RFP,SD_GFP,SD_DAPI,SD_BF,SD_NIR\n",
      "\n",
      "Detecting infection load...\n",
      "Total cells: 1174\n",
      "Percentage infected:23.42\n",
      "Extracting per marker intensity information...\n",
      "Detecting spots in puncta markers...\n"
     ]
    },
    {
     "name": "stderr",
     "output_type": "stream",
     "text": []
    },
    {
     "name": "stdout",
     "output_type": "stream",
     "text": [
      "\n",
      "Image analyzed: Plate07_Nuc_Wells-C2__Channel_SD_AF647,SD_RFP,SD_GFP,SD_DAPI,SD_BF,SD_NIR\n",
      "\n",
      "Detecting infection load...\n",
      "Total cells: 1384\n",
      "Percentage infected:22.33\n",
      "Extracting per marker intensity information...\n",
      "Detecting spots in puncta markers...\n"
     ]
    },
    {
     "name": "stderr",
     "output_type": "stream",
     "text": []
    },
    {
     "name": "stdout",
     "output_type": "stream",
     "text": [
      "\n",
      "Image analyzed: Plate07_Nuc_Wells-C3__Channel_SD_AF647,SD_RFP,SD_GFP,SD_DAPI,SD_BF,SD_NIR\n",
      "\n",
      "Detecting infection load...\n",
      "Total cells: 1675\n",
      "Percentage infected:23.46\n",
      "Extracting per marker intensity information...\n",
      "Detecting spots in puncta markers...\n"
     ]
    },
    {
     "name": "stderr",
     "output_type": "stream",
     "text": []
    },
    {
     "name": "stdout",
     "output_type": "stream",
     "text": [
      "\n",
      "Image analyzed: Plate07_Nuc_Wells-C4__Channel_SD_AF647,SD_RFP,SD_GFP,SD_DAPI,SD_BF,SD_NIR\n",
      "\n",
      "Detecting infection load...\n",
      "Total cells: 1927\n",
      "Percentage infected:24.86\n",
      "Extracting per marker intensity information...\n",
      "Detecting spots in puncta markers...\n"
     ]
    },
    {
     "name": "stderr",
     "output_type": "stream",
     "text": []
    },
    {
     "name": "stdout",
     "output_type": "stream",
     "text": [
      "\n",
      "Image analyzed: Plate07_Nuc_Wells-C5__Channel_SD_AF647,SD_RFP,SD_GFP,SD_DAPI,SD_BF,SD_NIR\n",
      "\n",
      "Detecting infection load...\n",
      "Total cells: 2187\n",
      "Percentage infected:22.27\n",
      "Extracting per marker intensity information...\n",
      "Detecting spots in puncta markers...\n"
     ]
    },
    {
     "name": "stderr",
     "output_type": "stream",
     "text": []
    },
    {
     "name": "stdout",
     "output_type": "stream",
     "text": [
      "\n",
      "Image analyzed: Plate07_Nuc_Wells-C6__Channel_SD_AF647,SD_RFP,SD_GFP,SD_DAPI,SD_BF,SD_NIR\n",
      "\n",
      "Detecting infection load...\n",
      "Total cells: 2125\n",
      "Percentage infected:23.15\n",
      "Extracting per marker intensity information...\n",
      "Detecting spots in puncta markers...\n"
     ]
    },
    {
     "name": "stderr",
     "output_type": "stream",
     "text": []
    },
    {
     "name": "stdout",
     "output_type": "stream",
     "text": [
      "\n",
      "Image analyzed: Plate07_Nuc_Wells-C7__Channel_SD_AF647,SD_RFP,SD_GFP,SD_DAPI,SD_BF,SD_NIR\n",
      "\n",
      "Detecting infection load...\n",
      "Total cells: 1731\n",
      "Percentage infected:25.94\n",
      "Extracting per marker intensity information...\n",
      "Detecting spots in puncta markers...\n"
     ]
    },
    {
     "name": "stderr",
     "output_type": "stream",
     "text": []
    },
    {
     "name": "stdout",
     "output_type": "stream",
     "text": [
      "\n",
      "Image analyzed: Plate07_Nuc_Wells-C8__Channel_SD_AF647,SD_RFP,SD_GFP,SD_DAPI,SD_BF,SD_NIR\n",
      "\n",
      "Detecting infection load...\n",
      "Total cells: 1556\n",
      "Percentage infected:26.74\n",
      "Extracting per marker intensity information...\n",
      "Detecting spots in puncta markers...\n"
     ]
    },
    {
     "name": "stderr",
     "output_type": "stream",
     "text": []
    },
    {
     "name": "stdout",
     "output_type": "stream",
     "text": [
      "\n",
      "Image analyzed: Plate07_Nuc_Wells-C9__Channel_SD_AF647,SD_RFP,SD_GFP,SD_DAPI,SD_BF,SD_NIR\n",
      "\n",
      "Detecting infection load...\n",
      "Total cells: 1122\n",
      "Percentage infected:19.07\n",
      "Extracting per marker intensity information...\n",
      "Detecting spots in puncta markers...\n"
     ]
    },
    {
     "name": "stderr",
     "output_type": "stream",
     "text": []
    },
    {
     "name": "stdout",
     "output_type": "stream",
     "text": [
      "\n",
      "Image analyzed: Plate07_Nuc_Wells-C10__Channel_SD_AF647,SD_RFP,SD_GFP,SD_DAPI,SD_BF,SD_NIR\n",
      "\n",
      "Detecting infection load...\n",
      "Total cells: 1622\n",
      "Percentage infected:20.72\n",
      "Extracting per marker intensity information...\n",
      "Detecting spots in puncta markers...\n"
     ]
    },
    {
     "name": "stderr",
     "output_type": "stream",
     "text": []
    },
    {
     "name": "stdout",
     "output_type": "stream",
     "text": [
      "\n",
      "Image analyzed: Plate07_Nuc_Wells-C11__Channel_SD_AF647,SD_RFP,SD_GFP,SD_DAPI,SD_BF,SD_NIR\n",
      "\n",
      "Detecting infection load...\n",
      "Total cells: 1510\n",
      "Percentage infected:21.06\n",
      "Extracting per marker intensity information...\n",
      "Detecting spots in puncta markers...\n"
     ]
    },
    {
     "name": "stderr",
     "output_type": "stream",
     "text": []
    },
    {
     "name": "stdout",
     "output_type": "stream",
     "text": [
      "\n",
      "Image analyzed: Plate07_Nuc_Wells-C12__Channel_SD_AF647,SD_RFP,SD_GFP,SD_DAPI,SD_BF,SD_NIR\n",
      "\n",
      "Detecting infection load...\n",
      "Total cells: 1101\n",
      "Percentage infected:20.44\n",
      "Extracting per marker intensity information...\n",
      "Detecting spots in puncta markers...\n"
     ]
    },
    {
     "name": "stderr",
     "output_type": "stream",
     "text": []
    },
    {
     "name": "stdout",
     "output_type": "stream",
     "text": [
      "\n",
      "Image analyzed: Plate07_Nuc_Wells-D1__Channel_SD_AF647,SD_RFP,SD_GFP,SD_DAPI,SD_BF,SD_NIR\n",
      "\n",
      "Detecting infection load...\n",
      "Total cells: 717\n",
      "Percentage infected:22.45\n",
      "Extracting per marker intensity information...\n",
      "Detecting spots in puncta markers...\n"
     ]
    },
    {
     "name": "stderr",
     "output_type": "stream",
     "text": []
    },
    {
     "name": "stdout",
     "output_type": "stream",
     "text": [
      "\n",
      "Image analyzed: Plate07_Nuc_Wells-D2__Channel_SD_AF647,SD_RFP,SD_GFP,SD_DAPI,SD_BF,SD_NIR\n",
      "\n",
      "Detecting infection load...\n",
      "Total cells: 1060\n",
      "Percentage infected:23.4\n",
      "Extracting per marker intensity information...\n",
      "Detecting spots in puncta markers...\n"
     ]
    },
    {
     "name": "stderr",
     "output_type": "stream",
     "text": []
    },
    {
     "name": "stdout",
     "output_type": "stream",
     "text": [
      "\n",
      "Image analyzed: Plate07_Nuc_Wells-D3__Channel_SD_AF647,SD_RFP,SD_GFP,SD_DAPI,SD_BF,SD_NIR\n",
      "\n",
      "Detecting infection load...\n",
      "Total cells: 1324\n",
      "Percentage infected:29.31\n",
      "Extracting per marker intensity information...\n",
      "Detecting spots in puncta markers...\n"
     ]
    },
    {
     "name": "stderr",
     "output_type": "stream",
     "text": []
    },
    {
     "name": "stdout",
     "output_type": "stream",
     "text": [
      "\n",
      "Image analyzed: Plate07_Nuc_Wells-D4__Channel_SD_AF647,SD_RFP,SD_GFP,SD_DAPI,SD_BF,SD_NIR\n",
      "\n",
      "Detecting infection load...\n",
      "Total cells: 1386\n",
      "Percentage infected:29.8\n",
      "Extracting per marker intensity information...\n",
      "Detecting spots in puncta markers...\n"
     ]
    },
    {
     "name": "stderr",
     "output_type": "stream",
     "text": []
    },
    {
     "name": "stdout",
     "output_type": "stream",
     "text": [
      "\n",
      "Image analyzed: Plate07_Nuc_Wells-D5__Channel_SD_AF647,SD_RFP,SD_GFP,SD_DAPI,SD_BF,SD_NIR\n",
      "\n",
      "Detecting infection load...\n",
      "Total cells: 1345\n",
      "Percentage infected:19.55\n",
      "Extracting per marker intensity information...\n",
      "Detecting spots in puncta markers...\n"
     ]
    },
    {
     "name": "stderr",
     "output_type": "stream",
     "text": []
    },
    {
     "name": "stdout",
     "output_type": "stream",
     "text": [
      "\n",
      "Image analyzed: Plate07_Nuc_Wells-D6__Channel_SD_AF647,SD_RFP,SD_GFP,SD_DAPI,SD_BF,SD_NIR\n",
      "\n",
      "Detecting infection load...\n",
      "Total cells: 1844\n",
      "Percentage infected:26.25\n",
      "Extracting per marker intensity information...\n",
      "Detecting spots in puncta markers...\n"
     ]
    },
    {
     "name": "stderr",
     "output_type": "stream",
     "text": []
    },
    {
     "name": "stdout",
     "output_type": "stream",
     "text": [
      "\n",
      "Image analyzed: Plate07_Nuc_Wells-D7__Channel_SD_AF647,SD_RFP,SD_GFP,SD_DAPI,SD_BF,SD_NIR\n",
      "\n",
      "Detecting infection load...\n",
      "Total cells: 2253\n",
      "Percentage infected:20.42\n",
      "Extracting per marker intensity information...\n",
      "Detecting spots in puncta markers...\n"
     ]
    },
    {
     "name": "stderr",
     "output_type": "stream",
     "text": []
    },
    {
     "name": "stdout",
     "output_type": "stream",
     "text": [
      "\n",
      "Image analyzed: Plate07_Nuc_Wells-D8__Channel_SD_AF647,SD_RFP,SD_GFP,SD_DAPI,SD_BF,SD_NIR\n",
      "\n",
      "Detecting infection load...\n",
      "Total cells: 1385\n",
      "Percentage infected:23.03\n",
      "Extracting per marker intensity information...\n",
      "Detecting spots in puncta markers...\n"
     ]
    },
    {
     "name": "stderr",
     "output_type": "stream",
     "text": []
    },
    {
     "name": "stdout",
     "output_type": "stream",
     "text": [
      "\n",
      "Image analyzed: Plate07_Nuc_Wells-D9__Channel_SD_AF647,SD_RFP,SD_GFP,SD_DAPI,SD_BF,SD_NIR\n",
      "\n",
      "Detecting infection load...\n",
      "Total cells: 1654\n",
      "Percentage infected:16.44\n",
      "Extracting per marker intensity information...\n",
      "Detecting spots in puncta markers...\n"
     ]
    },
    {
     "name": "stderr",
     "output_type": "stream",
     "text": []
    },
    {
     "name": "stdout",
     "output_type": "stream",
     "text": [
      "\n",
      "Image analyzed: Plate07_Nuc_Wells-D10__Channel_SD_AF647,SD_RFP,SD_GFP,SD_DAPI,SD_BF,SD_NIR\n",
      "\n",
      "Detecting infection load...\n",
      "Total cells: 1178\n",
      "Percentage infected:21.39\n",
      "Extracting per marker intensity information...\n",
      "Detecting spots in puncta markers...\n"
     ]
    },
    {
     "name": "stderr",
     "output_type": "stream",
     "text": []
    },
    {
     "name": "stdout",
     "output_type": "stream",
     "text": [
      "\n",
      "Image analyzed: Plate07_Nuc_Wells-D11__Channel_SD_AF647,SD_RFP,SD_GFP,SD_DAPI,SD_BF,SD_NIR\n",
      "\n",
      "Detecting infection load...\n",
      "Total cells: 1321\n",
      "Percentage infected:18.85\n",
      "Extracting per marker intensity information...\n",
      "Detecting spots in puncta markers...\n"
     ]
    },
    {
     "name": "stderr",
     "output_type": "stream",
     "text": []
    },
    {
     "name": "stdout",
     "output_type": "stream",
     "text": [
      "\n",
      "Image analyzed: Plate07_Nuc_Wells-D12__Channel_SD_AF647,SD_RFP,SD_GFP,SD_DAPI,SD_BF,SD_NIR\n",
      "\n",
      "Detecting infection load...\n",
      "Total cells: 1274\n",
      "Percentage infected:21.19\n",
      "Extracting per marker intensity information...\n",
      "Detecting spots in puncta markers...\n"
     ]
    },
    {
     "name": "stderr",
     "output_type": "stream",
     "text": []
    },
    {
     "name": "stdout",
     "output_type": "stream",
     "text": [
      "\n",
      "Image analyzed: Plate07_Nuc_Wells-E1__Channel_SD_AF647,SD_RFP,SD_GFP,SD_DAPI,SD_BF,SD_NIR\n",
      "\n",
      "Detecting infection load...\n",
      "Total cells: 1545\n",
      "Percentage infected:20.32\n",
      "Extracting per marker intensity information...\n",
      "Detecting spots in puncta markers...\n"
     ]
    },
    {
     "name": "stderr",
     "output_type": "stream",
     "text": []
    },
    {
     "name": "stdout",
     "output_type": "stream",
     "text": [
      "\n",
      "Image analyzed: Plate07_Nuc_Wells-E2__Channel_SD_AF647,SD_RFP,SD_GFP,SD_DAPI,SD_BF,SD_NIR\n",
      "\n",
      "Detecting infection load...\n",
      "Total cells: 1639\n",
      "Percentage infected:20.81\n",
      "Extracting per marker intensity information...\n",
      "Detecting spots in puncta markers...\n"
     ]
    },
    {
     "name": "stderr",
     "output_type": "stream",
     "text": []
    },
    {
     "name": "stdout",
     "output_type": "stream",
     "text": [
      "\n",
      "Image analyzed: Plate07_Nuc_Wells-E3__Channel_SD_AF647,SD_RFP,SD_GFP,SD_DAPI,SD_BF,SD_NIR\n",
      "\n",
      "Detecting infection load...\n",
      "Total cells: 1615\n",
      "Percentage infected:30.65\n",
      "Extracting per marker intensity information...\n",
      "Detecting spots in puncta markers...\n"
     ]
    },
    {
     "name": "stderr",
     "output_type": "stream",
     "text": []
    },
    {
     "name": "stdout",
     "output_type": "stream",
     "text": [
      "\n",
      "Image analyzed: Plate07_Nuc_Wells-E4__Channel_SD_AF647,SD_RFP,SD_GFP,SD_DAPI,SD_BF,SD_NIR\n",
      "\n",
      "Detecting infection load...\n",
      "Total cells: 1555\n",
      "Percentage infected:26.75\n",
      "Extracting per marker intensity information...\n",
      "Detecting spots in puncta markers...\n"
     ]
    },
    {
     "name": "stderr",
     "output_type": "stream",
     "text": []
    },
    {
     "name": "stdout",
     "output_type": "stream",
     "text": [
      "\n",
      "Image analyzed: Plate07_Nuc_Wells-E5__Channel_SD_AF647,SD_RFP,SD_GFP,SD_DAPI,SD_BF,SD_NIR\n",
      "\n",
      "Detecting infection load...\n",
      "Total cells: 2012\n",
      "Percentage infected:25.75\n",
      "Extracting per marker intensity information...\n",
      "Detecting spots in puncta markers...\n"
     ]
    },
    {
     "name": "stderr",
     "output_type": "stream",
     "text": []
    },
    {
     "name": "stdout",
     "output_type": "stream",
     "text": [
      "\n",
      "Image analyzed: Plate07_Nuc_Wells-E6__Channel_SD_AF647,SD_RFP,SD_GFP,SD_DAPI,SD_BF,SD_NIR\n",
      "\n",
      "Detecting infection load...\n",
      "Total cells: 2035\n",
      "Percentage infected:27.67\n",
      "Extracting per marker intensity information...\n",
      "Detecting spots in puncta markers...\n"
     ]
    },
    {
     "name": "stderr",
     "output_type": "stream",
     "text": []
    },
    {
     "name": "stdout",
     "output_type": "stream",
     "text": [
      "\n",
      "Image analyzed: Plate07_Nuc_Wells-E7__Channel_SD_AF647,SD_RFP,SD_GFP,SD_DAPI,SD_BF,SD_NIR\n",
      "\n",
      "Detecting infection load...\n",
      "Total cells: 1810\n",
      "Percentage infected:22.21\n",
      "Extracting per marker intensity information...\n",
      "Detecting spots in puncta markers...\n"
     ]
    },
    {
     "name": "stderr",
     "output_type": "stream",
     "text": []
    },
    {
     "name": "stdout",
     "output_type": "stream",
     "text": [
      "\n",
      "Image analyzed: Plate07_Nuc_Wells-E8__Channel_SD_AF647,SD_RFP,SD_GFP,SD_DAPI,SD_BF,SD_NIR\n",
      "\n",
      "Detecting infection load...\n",
      "Total cells: 1450\n",
      "Percentage infected:26.21\n",
      "Extracting per marker intensity information...\n",
      "Detecting spots in puncta markers...\n"
     ]
    },
    {
     "name": "stderr",
     "output_type": "stream",
     "text": []
    },
    {
     "name": "stdout",
     "output_type": "stream",
     "text": [
      "\n",
      "Image analyzed: Plate07_Nuc_Wells-E9__Channel_SD_AF647,SD_RFP,SD_GFP,SD_DAPI,SD_BF,SD_NIR\n",
      "\n",
      "Detecting infection load...\n",
      "Total cells: 1607\n",
      "Percentage infected:19.66\n",
      "Extracting per marker intensity information...\n",
      "Detecting spots in puncta markers...\n"
     ]
    },
    {
     "name": "stderr",
     "output_type": "stream",
     "text": []
    },
    {
     "name": "stdout",
     "output_type": "stream",
     "text": [
      "\n",
      "Image analyzed: Plate07_Nuc_Wells-E10__Channel_SD_AF647,SD_RFP,SD_GFP,SD_DAPI,SD_BF,SD_NIR\n",
      "\n",
      "Detecting infection load...\n",
      "Total cells: 1506\n",
      "Percentage infected:20.45\n",
      "Extracting per marker intensity information...\n",
      "Detecting spots in puncta markers...\n"
     ]
    },
    {
     "name": "stderr",
     "output_type": "stream",
     "text": []
    },
    {
     "name": "stdout",
     "output_type": "stream",
     "text": [
      "\n",
      "Image analyzed: Plate07_Nuc_Wells-E11__Channel_SD_AF647,SD_RFP,SD_GFP,SD_DAPI,SD_BF,SD_NIR\n",
      "\n",
      "Detecting infection load...\n",
      "Total cells: 1171\n",
      "Percentage infected:21.35\n",
      "Extracting per marker intensity information...\n",
      "Detecting spots in puncta markers...\n"
     ]
    },
    {
     "name": "stderr",
     "output_type": "stream",
     "text": []
    },
    {
     "name": "stdout",
     "output_type": "stream",
     "text": [
      "\n",
      "Image analyzed: Plate07_Nuc_Wells-E12__Channel_SD_AF647,SD_RFP,SD_GFP,SD_DAPI,SD_BF,SD_NIR\n",
      "\n",
      "Detecting infection load...\n",
      "Total cells: 1418\n",
      "Percentage infected:20.24\n",
      "Extracting per marker intensity information...\n",
      "Detecting spots in puncta markers...\n"
     ]
    },
    {
     "name": "stderr",
     "output_type": "stream",
     "text": []
    },
    {
     "name": "stdout",
     "output_type": "stream",
     "text": [
      "\n",
      "Image analyzed: Plate07_Nuc_Wells-F1__Channel_SD_AF647,SD_RFP,SD_GFP,SD_DAPI,SD_BF,SD_NIR\n",
      "\n",
      "Detecting infection load...\n",
      "Total cells: 1563\n",
      "Percentage infected:19.96\n",
      "Extracting per marker intensity information...\n",
      "Detecting spots in puncta markers...\n"
     ]
    },
    {
     "name": "stderr",
     "output_type": "stream",
     "text": []
    },
    {
     "name": "stdout",
     "output_type": "stream",
     "text": [
      "\n",
      "Image analyzed: Plate07_Nuc_Wells-F2__Channel_SD_AF647,SD_RFP,SD_GFP,SD_DAPI,SD_BF,SD_NIR\n",
      "\n",
      "Detecting infection load...\n",
      "Total cells: 1450\n",
      "Percentage infected:18.97\n",
      "Extracting per marker intensity information...\n",
      "Detecting spots in puncta markers...\n"
     ]
    },
    {
     "name": "stderr",
     "output_type": "stream",
     "text": []
    },
    {
     "name": "stdout",
     "output_type": "stream",
     "text": [
      "\n",
      "Image analyzed: Plate07_Nuc_Wells-F3__Channel_SD_AF647,SD_RFP,SD_GFP,SD_DAPI,SD_BF,SD_NIR\n",
      "\n",
      "Detecting infection load...\n",
      "Total cells: 2400\n",
      "Percentage infected:20.67\n",
      "Extracting per marker intensity information...\n",
      "Detecting spots in puncta markers...\n"
     ]
    },
    {
     "name": "stderr",
     "output_type": "stream",
     "text": []
    },
    {
     "name": "stdout",
     "output_type": "stream",
     "text": [
      "\n",
      "Image analyzed: Plate07_Nuc_Wells-F4__Channel_SD_AF647,SD_RFP,SD_GFP,SD_DAPI,SD_BF,SD_NIR\n",
      "\n",
      "Detecting infection load...\n",
      "Total cells: 2365\n",
      "Percentage infected:26.22\n",
      "Extracting per marker intensity information...\n",
      "Detecting spots in puncta markers...\n"
     ]
    },
    {
     "name": "stderr",
     "output_type": "stream",
     "text": []
    },
    {
     "name": "stdout",
     "output_type": "stream",
     "text": [
      "\n",
      "Image analyzed: Plate07_Nuc_Wells-F5__Channel_SD_AF647,SD_RFP,SD_GFP,SD_DAPI,SD_BF,SD_NIR\n",
      "\n",
      "Detecting infection load...\n",
      "Total cells: 2409\n",
      "Percentage infected:25.65\n",
      "Extracting per marker intensity information...\n",
      "Detecting spots in puncta markers...\n"
     ]
    },
    {
     "name": "stderr",
     "output_type": "stream",
     "text": []
    },
    {
     "name": "stdout",
     "output_type": "stream",
     "text": [
      "\n",
      "Image analyzed: Plate07_Nuc_Wells-F6__Channel_SD_AF647,SD_RFP,SD_GFP,SD_DAPI,SD_BF,SD_NIR\n",
      "\n",
      "Detecting infection load...\n",
      "Total cells: 1829\n",
      "Percentage infected:25.81\n",
      "Extracting per marker intensity information...\n",
      "Detecting spots in puncta markers...\n"
     ]
    },
    {
     "name": "stderr",
     "output_type": "stream",
     "text": []
    },
    {
     "name": "stdout",
     "output_type": "stream",
     "text": [
      "\n",
      "Image analyzed: Plate07_Nuc_Wells-F7__Channel_SD_AF647,SD_RFP,SD_GFP,SD_DAPI,SD_BF,SD_NIR\n",
      "\n",
      "Detecting infection load...\n",
      "Total cells: 1965\n",
      "Percentage infected:20.2\n",
      "Extracting per marker intensity information...\n",
      "Detecting spots in puncta markers...\n"
     ]
    },
    {
     "name": "stderr",
     "output_type": "stream",
     "text": []
    },
    {
     "name": "stdout",
     "output_type": "stream",
     "text": [
      "\n",
      "Image analyzed: Plate07_Nuc_Wells-F8__Channel_SD_AF647,SD_RFP,SD_GFP,SD_DAPI,SD_BF,SD_NIR\n",
      "\n",
      "Detecting infection load...\n",
      "Total cells: 1881\n",
      "Percentage infected:20.84\n",
      "Extracting per marker intensity information...\n",
      "Detecting spots in puncta markers...\n"
     ]
    },
    {
     "name": "stderr",
     "output_type": "stream",
     "text": []
    },
    {
     "name": "stdout",
     "output_type": "stream",
     "text": [
      "\n",
      "Image analyzed: Plate07_Nuc_Wells-F9__Channel_SD_AF647,SD_RFP,SD_GFP,SD_DAPI,SD_BF,SD_NIR\n",
      "\n",
      "Detecting infection load...\n",
      "Total cells: 1595\n",
      "Percentage infected:18.06\n",
      "Extracting per marker intensity information...\n",
      "Detecting spots in puncta markers...\n"
     ]
    },
    {
     "name": "stderr",
     "output_type": "stream",
     "text": []
    },
    {
     "name": "stdout",
     "output_type": "stream",
     "text": [
      "\n",
      "Image analyzed: Plate07_Nuc_Wells-F10__Channel_SD_AF647,SD_RFP,SD_GFP,SD_DAPI,SD_BF,SD_NIR\n",
      "\n",
      "Detecting infection load...\n",
      "Total cells: 1768\n",
      "Percentage infected:18.33\n",
      "Extracting per marker intensity information...\n",
      "Detecting spots in puncta markers...\n"
     ]
    },
    {
     "name": "stderr",
     "output_type": "stream",
     "text": []
    },
    {
     "name": "stdout",
     "output_type": "stream",
     "text": [
      "\n",
      "Image analyzed: Plate07_Nuc_Wells-F11__Channel_SD_AF647,SD_RFP,SD_GFP,SD_DAPI,SD_BF,SD_NIR\n",
      "\n",
      "Detecting infection load...\n",
      "Total cells: 1220\n",
      "Percentage infected:20.08\n",
      "Extracting per marker intensity information...\n",
      "Detecting spots in puncta markers...\n"
     ]
    },
    {
     "name": "stderr",
     "output_type": "stream",
     "text": []
    },
    {
     "name": "stdout",
     "output_type": "stream",
     "text": [
      "\n",
      "Image analyzed: Plate07_Nuc_Wells-F12__Channel_SD_AF647,SD_RFP,SD_GFP,SD_DAPI,SD_BF,SD_NIR\n",
      "\n",
      "Detecting infection load...\n",
      "Total cells: 1192\n",
      "Percentage infected:21.48\n",
      "Extracting per marker intensity information...\n",
      "Detecting spots in puncta markers...\n"
     ]
    },
    {
     "name": "stderr",
     "output_type": "stream",
     "text": []
    },
    {
     "name": "stdout",
     "output_type": "stream",
     "text": [
      "\n",
      "Image analyzed: Plate07_Nuc_Wells-G1__Channel_SD_AF647,SD_RFP,SD_GFP,SD_DAPI,SD_BF,SD_NIR\n",
      "\n",
      "Detecting infection load...\n",
      "Total cells: 2204\n",
      "Percentage infected:24.86\n",
      "Extracting per marker intensity information...\n",
      "Detecting spots in puncta markers...\n"
     ]
    },
    {
     "name": "stderr",
     "output_type": "stream",
     "text": []
    },
    {
     "name": "stdout",
     "output_type": "stream",
     "text": [
      "\n",
      "Image analyzed: Plate07_Nuc_Wells-G2__Channel_SD_AF647,SD_RFP,SD_GFP,SD_DAPI,SD_BF,SD_NIR\n",
      "\n",
      "Detecting infection load...\n",
      "Total cells: 1914\n",
      "Percentage infected:21.26\n",
      "Extracting per marker intensity information...\n",
      "Detecting spots in puncta markers...\n"
     ]
    },
    {
     "name": "stderr",
     "output_type": "stream",
     "text": []
    },
    {
     "name": "stdout",
     "output_type": "stream",
     "text": [
      "\n",
      "Image analyzed: Plate07_Nuc_Wells-G3__Channel_SD_AF647,SD_RFP,SD_GFP,SD_DAPI,SD_BF,SD_NIR\n",
      "\n",
      "Detecting infection load...\n",
      "Total cells: 2088\n",
      "Percentage infected:21.98\n",
      "Extracting per marker intensity information...\n",
      "Detecting spots in puncta markers...\n"
     ]
    },
    {
     "name": "stderr",
     "output_type": "stream",
     "text": []
    },
    {
     "name": "stdout",
     "output_type": "stream",
     "text": [
      "\n",
      "Image analyzed: Plate07_Nuc_Wells-G4__Channel_SD_AF647,SD_RFP,SD_GFP,SD_DAPI,SD_BF,SD_NIR\n",
      "\n",
      "Detecting infection load...\n",
      "Total cells: 2437\n",
      "Percentage infected:26.75\n",
      "Extracting per marker intensity information...\n",
      "Detecting spots in puncta markers...\n"
     ]
    },
    {
     "name": "stderr",
     "output_type": "stream",
     "text": []
    },
    {
     "name": "stdout",
     "output_type": "stream",
     "text": [
      "\n",
      "Image analyzed: Plate07_Nuc_Wells-G5__Channel_SD_AF647,SD_RFP,SD_GFP,SD_DAPI,SD_BF,SD_NIR\n",
      "\n",
      "Detecting infection load...\n",
      "Total cells: 2167\n",
      "Percentage infected:26.86\n",
      "Extracting per marker intensity information...\n",
      "Detecting spots in puncta markers...\n"
     ]
    },
    {
     "name": "stderr",
     "output_type": "stream",
     "text": []
    },
    {
     "name": "stdout",
     "output_type": "stream",
     "text": [
      "\n",
      "Image analyzed: Plate07_Nuc_Wells-G6__Channel_SD_AF647,SD_RFP,SD_GFP,SD_DAPI,SD_BF,SD_NIR\n",
      "\n",
      "Detecting infection load...\n",
      "Total cells: 2142\n",
      "Percentage infected:26.33\n",
      "Extracting per marker intensity information...\n",
      "Detecting spots in puncta markers...\n"
     ]
    },
    {
     "name": "stderr",
     "output_type": "stream",
     "text": []
    },
    {
     "name": "stdout",
     "output_type": "stream",
     "text": [
      "\n",
      "Image analyzed: Plate07_Nuc_Wells-G7__Channel_SD_AF647,SD_RFP,SD_GFP,SD_DAPI,SD_BF,SD_NIR\n",
      "\n",
      "Detecting infection load...\n",
      "Total cells: 2182\n",
      "Percentage infected:25.07\n",
      "Extracting per marker intensity information...\n",
      "Detecting spots in puncta markers...\n"
     ]
    },
    {
     "name": "stderr",
     "output_type": "stream",
     "text": []
    },
    {
     "name": "stdout",
     "output_type": "stream",
     "text": [
      "\n",
      "Image analyzed: Plate07_Nuc_Wells-G8__Channel_SD_AF647,SD_RFP,SD_GFP,SD_DAPI,SD_BF,SD_NIR\n",
      "\n",
      "Detecting infection load...\n",
      "Total cells: 1843\n",
      "Percentage infected:22.52\n",
      "Extracting per marker intensity information...\n",
      "Detecting spots in puncta markers...\n"
     ]
    },
    {
     "name": "stderr",
     "output_type": "stream",
     "text": []
    },
    {
     "name": "stdout",
     "output_type": "stream",
     "text": [
      "\n",
      "Image analyzed: Plate07_Nuc_Wells-G9__Channel_SD_AF647,SD_RFP,SD_GFP,SD_DAPI,SD_BF,SD_NIR\n",
      "\n",
      "Detecting infection load...\n",
      "Total cells: 2048\n",
      "Percentage infected:22.61\n",
      "Extracting per marker intensity information...\n",
      "Detecting spots in puncta markers...\n"
     ]
    },
    {
     "name": "stderr",
     "output_type": "stream",
     "text": []
    },
    {
     "name": "stdout",
     "output_type": "stream",
     "text": [
      "\n",
      "Image analyzed: Plate07_Nuc_Wells-G10__Channel_SD_AF647,SD_RFP,SD_GFP,SD_DAPI,SD_BF,SD_NIR\n",
      "\n",
      "Detecting infection load...\n",
      "Total cells: 1817\n",
      "Percentage infected:22.18\n",
      "Extracting per marker intensity information...\n",
      "Detecting spots in puncta markers...\n"
     ]
    },
    {
     "name": "stderr",
     "output_type": "stream",
     "text": []
    },
    {
     "name": "stdout",
     "output_type": "stream",
     "text": [
      "\n",
      "Image analyzed: Plate07_Nuc_Wells-G11__Channel_SD_AF647,SD_RFP,SD_GFP,SD_DAPI,SD_BF,SD_NIR\n",
      "\n",
      "Detecting infection load...\n",
      "Total cells: 1659\n",
      "Percentage infected:24.95\n",
      "Extracting per marker intensity information...\n",
      "Detecting spots in puncta markers...\n"
     ]
    },
    {
     "name": "stderr",
     "output_type": "stream",
     "text": []
    },
    {
     "name": "stdout",
     "output_type": "stream",
     "text": [
      "\n",
      "Image analyzed: Plate07_Nuc_Wells-G12__Channel_SD_AF647,SD_RFP,SD_GFP,SD_DAPI,SD_BF,SD_NIR\n",
      "\n",
      "Detecting infection load...\n",
      "Total cells: 693\n",
      "Percentage infected:21.36\n",
      "Extracting per marker intensity information...\n",
      "Detecting spots in puncta markers...\n"
     ]
    },
    {
     "name": "stderr",
     "output_type": "stream",
     "text": []
    },
    {
     "name": "stdout",
     "output_type": "stream",
     "text": [
      "\n",
      "Image analyzed: Plate07_Nuc_Wells-H1__Channel_SD_AF647,SD_RFP,SD_GFP,SD_DAPI,SD_BF,SD_NIR\n",
      "\n",
      "Detecting infection load...\n",
      "Total cells: 2708\n",
      "Percentage infected:0.26\n",
      "Extracting per marker intensity information...\n",
      "Detecting spots in puncta markers...\n"
     ]
    },
    {
     "name": "stderr",
     "output_type": "stream",
     "text": []
    },
    {
     "name": "stdout",
     "output_type": "stream",
     "text": [
      "\n",
      "Image analyzed: Plate07_Nuc_Wells-H2__Channel_SD_AF647,SD_RFP,SD_GFP,SD_DAPI,SD_BF,SD_NIR\n",
      "\n",
      "Detecting infection load...\n",
      "Total cells: 1589\n",
      "Percentage infected:19.82\n",
      "Extracting per marker intensity information...\n",
      "Detecting spots in puncta markers...\n"
     ]
    },
    {
     "name": "stderr",
     "output_type": "stream",
     "text": []
    },
    {
     "name": "stdout",
     "output_type": "stream",
     "text": [
      "\n",
      "Image analyzed: Plate07_Nuc_Wells-H3__Channel_SD_AF647,SD_RFP,SD_GFP,SD_DAPI,SD_BF,SD_NIR\n",
      "\n",
      "Detecting infection load...\n",
      "Total cells: 2105\n",
      "Percentage infected:25.61\n",
      "Extracting per marker intensity information...\n",
      "Detecting spots in puncta markers...\n"
     ]
    },
    {
     "name": "stderr",
     "output_type": "stream",
     "text": []
    },
    {
     "name": "stdout",
     "output_type": "stream",
     "text": [
      "\n",
      "Image analyzed: Plate07_Nuc_Wells-H4__Channel_SD_AF647,SD_RFP,SD_GFP,SD_DAPI,SD_BF,SD_NIR\n",
      "\n",
      "Detecting infection load...\n",
      "Total cells: 2099\n",
      "Percentage infected:31.16\n",
      "Extracting per marker intensity information...\n",
      "Detecting spots in puncta markers...\n"
     ]
    },
    {
     "name": "stderr",
     "output_type": "stream",
     "text": []
    },
    {
     "name": "stdout",
     "output_type": "stream",
     "text": [
      "\n",
      "Image analyzed: Plate07_Nuc_Wells-H5__Channel_SD_AF647,SD_RFP,SD_GFP,SD_DAPI,SD_BF,SD_NIR\n",
      "\n",
      "Detecting infection load...\n",
      "Total cells: 2226\n",
      "Percentage infected:30.23\n",
      "Extracting per marker intensity information...\n",
      "Detecting spots in puncta markers...\n"
     ]
    },
    {
     "name": "stderr",
     "output_type": "stream",
     "text": []
    },
    {
     "name": "stdout",
     "output_type": "stream",
     "text": [
      "\n",
      "Image analyzed: Plate07_Nuc_Wells-H6__Channel_SD_AF647,SD_RFP,SD_GFP,SD_DAPI,SD_BF,SD_NIR\n",
      "\n",
      "Detecting infection load...\n",
      "Total cells: 1651\n",
      "Percentage infected:28.04\n",
      "Extracting per marker intensity information...\n",
      "Detecting spots in puncta markers...\n"
     ]
    },
    {
     "name": "stderr",
     "output_type": "stream",
     "text": []
    },
    {
     "name": "stdout",
     "output_type": "stream",
     "text": [
      "\n",
      "Image analyzed: Plate07_Nuc_Wells-H7__Channel_SD_AF647,SD_RFP,SD_GFP,SD_DAPI,SD_BF,SD_NIR\n",
      "\n",
      "Detecting infection load...\n",
      "Total cells: 2486\n",
      "Percentage infected:29.81\n",
      "Extracting per marker intensity information...\n",
      "Detecting spots in puncta markers...\n"
     ]
    },
    {
     "name": "stderr",
     "output_type": "stream",
     "text": []
    },
    {
     "name": "stdout",
     "output_type": "stream",
     "text": [
      "\n",
      "Image analyzed: Plate07_Nuc_Wells-H8__Channel_SD_AF647,SD_RFP,SD_GFP,SD_DAPI,SD_BF,SD_NIR\n",
      "\n",
      "Detecting infection load...\n",
      "Total cells: 2022\n",
      "Percentage infected:32.1\n",
      "Extracting per marker intensity information...\n",
      "Detecting spots in puncta markers...\n"
     ]
    },
    {
     "name": "stderr",
     "output_type": "stream",
     "text": []
    },
    {
     "name": "stdout",
     "output_type": "stream",
     "text": [
      "\n",
      "Image analyzed: Plate07_Nuc_Wells-H9__Channel_SD_AF647,SD_RFP,SD_GFP,SD_DAPI,SD_BF,SD_NIR\n",
      "\n",
      "Detecting infection load...\n",
      "Total cells: 1862\n",
      "Percentage infected:25.24\n",
      "Extracting per marker intensity information...\n",
      "Detecting spots in puncta markers...\n"
     ]
    },
    {
     "name": "stderr",
     "output_type": "stream",
     "text": []
    },
    {
     "name": "stdout",
     "output_type": "stream",
     "text": [
      "\n",
      "Image analyzed: Plate07_Nuc_Wells-H10__Channel_SD_AF647,SD_RFP,SD_GFP,SD_DAPI,SD_BF,SD_NIR\n",
      "\n",
      "Detecting infection load...\n",
      "Total cells: 1850\n",
      "Percentage infected:25.08\n",
      "Extracting per marker intensity information...\n",
      "Detecting spots in puncta markers...\n"
     ]
    },
    {
     "name": "stderr",
     "output_type": "stream",
     "text": []
    },
    {
     "name": "stdout",
     "output_type": "stream",
     "text": [
      "\n",
      "Image analyzed: Plate07_Nuc_Wells-H11__Channel_SD_AF647,SD_RFP,SD_GFP,SD_DAPI,SD_BF,SD_NIR\n",
      "\n",
      "Detecting infection load...\n",
      "Total cells: 1871\n",
      "Percentage infected:30.25\n",
      "Extracting per marker intensity information...\n",
      "Detecting spots in puncta markers...\n"
     ]
    },
    {
     "name": "stderr",
     "output_type": "stream",
     "text": []
    },
    {
     "name": "stdout",
     "output_type": "stream",
     "text": [
      "\n",
      "Image analyzed: Plate07_Nuc_Wells-H12__Channel_SD_AF647,SD_RFP,SD_GFP,SD_DAPI,SD_BF,SD_NIR\n",
      "\n",
      "Detecting infection load...\n",
      "Total cells: 1148\n",
      "Percentage infected:26.31\n",
      "Extracting per marker intensity information...\n",
      "Detecting spots in puncta markers...\n"
     ]
    },
    {
     "name": "stderr",
     "output_type": "stream",
     "text": [
      "100%|██████████| 96/96 [47:14<00:00, 29.52s/it]\n",
      " 41%|████      | 7/17 [5:36:36<7:59:34, 2877.45s/it]"
     ]
    },
    {
     "name": "stdout",
     "output_type": "stream",
     "text": [
      "Analyzing Plate: Plate 08_Nuc\n"
     ]
    },
    {
     "name": "stderr",
     "output_type": "stream",
     "text": []
    },
    {
     "name": "stdout",
     "output_type": "stream",
     "text": [
      "\n",
      "Image analyzed: Plate08_Nuc_Wells-A1__Channel_SD_AF647,SD_RFP,SD_GFP,SD_DAPI,SD_BF,SD_NIR\n",
      "\n",
      "Detecting infection load...\n",
      "Total cells: 4254\n",
      "Percentage infected:19.21\n",
      "Extracting per marker intensity information...\n",
      "Detecting spots in puncta markers...\n"
     ]
    },
    {
     "name": "stderr",
     "output_type": "stream",
     "text": []
    },
    {
     "name": "stdout",
     "output_type": "stream",
     "text": [
      "\n",
      "Image analyzed: Plate08_Nuc_Wells-A2__Channel_SD_AF647,SD_RFP,SD_GFP,SD_DAPI,SD_BF,SD_NIR\n",
      "\n",
      "Detecting infection load...\n",
      "Total cells: 3343\n",
      "Percentage infected:19.02\n",
      "Extracting per marker intensity information...\n",
      "Detecting spots in puncta markers...\n"
     ]
    },
    {
     "name": "stderr",
     "output_type": "stream",
     "text": []
    },
    {
     "name": "stdout",
     "output_type": "stream",
     "text": [
      "\n",
      "Image analyzed: Plate08_Nuc_Wells-A3__Channel_SD_AF647,SD_RFP,SD_GFP,SD_DAPI,SD_BF,SD_NIR\n",
      "\n",
      "Detecting infection load...\n",
      "Total cells: 4248\n",
      "Percentage infected:24.03\n",
      "Extracting per marker intensity information...\n",
      "Detecting spots in puncta markers...\n"
     ]
    },
    {
     "name": "stderr",
     "output_type": "stream",
     "text": []
    },
    {
     "name": "stdout",
     "output_type": "stream",
     "text": [
      "\n",
      "Image analyzed: Plate08_Nuc_Wells-A4__Channel_SD_AF647,SD_RFP,SD_GFP,SD_DAPI,SD_BF,SD_NIR\n",
      "\n",
      "Detecting infection load...\n",
      "Total cells: 4196\n",
      "Percentage infected:21.64\n",
      "Extracting per marker intensity information...\n",
      "Detecting spots in puncta markers...\n"
     ]
    },
    {
     "name": "stderr",
     "output_type": "stream",
     "text": []
    },
    {
     "name": "stdout",
     "output_type": "stream",
     "text": [
      "\n",
      "Image analyzed: Plate08_Nuc_Wells-A5__Channel_SD_AF647,SD_RFP,SD_GFP,SD_DAPI,SD_BF,SD_NIR\n",
      "\n",
      "Detecting infection load...\n",
      "Total cells: 4044\n",
      "Percentage infected:18.25\n",
      "Extracting per marker intensity information...\n",
      "Detecting spots in puncta markers...\n"
     ]
    },
    {
     "name": "stderr",
     "output_type": "stream",
     "text": []
    },
    {
     "name": "stdout",
     "output_type": "stream",
     "text": [
      "\n",
      "Image analyzed: Plate08_Nuc_Wells-A6__Channel_SD_AF647,SD_RFP,SD_GFP,SD_DAPI,SD_BF,SD_NIR\n",
      "\n",
      "Detecting infection load...\n",
      "Total cells: 3160\n",
      "Percentage infected:20.79\n",
      "Extracting per marker intensity information...\n",
      "Detecting spots in puncta markers...\n"
     ]
    },
    {
     "name": "stderr",
     "output_type": "stream",
     "text": []
    },
    {
     "name": "stdout",
     "output_type": "stream",
     "text": [
      "\n",
      "Image analyzed: Plate08_Nuc_Wells-A7__Channel_SD_AF647,SD_RFP,SD_GFP,SD_DAPI,SD_BF,SD_NIR\n",
      "\n",
      "Detecting infection load...\n",
      "Total cells: 4075\n",
      "Percentage infected:14.6\n",
      "Extracting per marker intensity information...\n",
      "Detecting spots in puncta markers...\n"
     ]
    },
    {
     "name": "stderr",
     "output_type": "stream",
     "text": []
    },
    {
     "name": "stdout",
     "output_type": "stream",
     "text": [
      "\n",
      "Image analyzed: Plate08_Nuc_Wells-A8__Channel_SD_AF647,SD_RFP,SD_GFP,SD_DAPI,SD_BF,SD_NIR\n",
      "\n",
      "Detecting infection load...\n",
      "Total cells: 2810\n",
      "Percentage infected:14.91\n",
      "Extracting per marker intensity information...\n",
      "Detecting spots in puncta markers...\n"
     ]
    },
    {
     "name": "stderr",
     "output_type": "stream",
     "text": []
    },
    {
     "name": "stdout",
     "output_type": "stream",
     "text": [
      "\n",
      "Image analyzed: Plate08_Nuc_Wells-A9__Channel_SD_AF647,SD_RFP,SD_GFP,SD_DAPI,SD_BF,SD_NIR\n",
      "\n",
      "Detecting infection load...\n",
      "Total cells: 2702\n",
      "Percentage infected:14.69\n",
      "Extracting per marker intensity information...\n",
      "Detecting spots in puncta markers...\n"
     ]
    },
    {
     "name": "stderr",
     "output_type": "stream",
     "text": []
    },
    {
     "name": "stdout",
     "output_type": "stream",
     "text": [
      "\n",
      "Image analyzed: Plate08_Nuc_Wells-A10__Channel_SD_AF647,SD_RFP,SD_GFP,SD_DAPI,SD_BF,SD_NIR\n",
      "\n",
      "Detecting infection load...\n",
      "Total cells: 2270\n",
      "Percentage infected:15.29\n",
      "Extracting per marker intensity information...\n",
      "Detecting spots in puncta markers...\n"
     ]
    },
    {
     "name": "stderr",
     "output_type": "stream",
     "text": []
    },
    {
     "name": "stdout",
     "output_type": "stream",
     "text": [
      "\n",
      "Image analyzed: Plate08_Nuc_Wells-A11__Channel_SD_AF647,SD_RFP,SD_GFP,SD_DAPI,SD_BF,SD_NIR\n",
      "\n",
      "Detecting infection load...\n",
      "Total cells: 1582\n",
      "Percentage infected:13.59\n",
      "Extracting per marker intensity information...\n",
      "Detecting spots in puncta markers...\n"
     ]
    },
    {
     "name": "stderr",
     "output_type": "stream",
     "text": []
    },
    {
     "name": "stdout",
     "output_type": "stream",
     "text": [
      "\n",
      "Image analyzed: Plate08_Nuc_Wells-A12__Channel_SD_AF647,SD_RFP,SD_GFP,SD_DAPI,SD_BF,SD_NIR\n",
      "\n",
      "Detecting infection load...\n",
      "Total cells: 1759\n",
      "Percentage infected:16.71\n",
      "Extracting per marker intensity information...\n",
      "Detecting spots in puncta markers...\n"
     ]
    },
    {
     "name": "stderr",
     "output_type": "stream",
     "text": []
    },
    {
     "name": "stdout",
     "output_type": "stream",
     "text": [
      "\n",
      "Image analyzed: Plate08_Nuc_Wells-B1__Channel_SD_AF647,SD_RFP,SD_GFP,SD_DAPI,SD_BF,SD_NIR\n",
      "\n",
      "Detecting infection load...\n",
      "Total cells: 2207\n",
      "Percentage infected:22.66\n",
      "Extracting per marker intensity information...\n",
      "Detecting spots in puncta markers...\n"
     ]
    },
    {
     "name": "stderr",
     "output_type": "stream",
     "text": []
    },
    {
     "name": "stdout",
     "output_type": "stream",
     "text": [
      "\n",
      "Image analyzed: Plate08_Nuc_Wells-B2__Channel_SD_AF647,SD_RFP,SD_GFP,SD_DAPI,SD_BF,SD_NIR\n",
      "\n",
      "Detecting infection load...\n",
      "Total cells: 2653\n",
      "Percentage infected:22.73\n",
      "Extracting per marker intensity information...\n",
      "Detecting spots in puncta markers...\n"
     ]
    },
    {
     "name": "stderr",
     "output_type": "stream",
     "text": []
    },
    {
     "name": "stdout",
     "output_type": "stream",
     "text": [
      "\n",
      "Image analyzed: Plate08_Nuc_Wells-B3__Channel_SD_AF647,SD_RFP,SD_GFP,SD_DAPI,SD_BF,SD_NIR\n",
      "\n",
      "Detecting infection load...\n",
      "Total cells: 2589\n",
      "Percentage infected:20.97\n",
      "Extracting per marker intensity information...\n",
      "Detecting spots in puncta markers...\n"
     ]
    },
    {
     "name": "stderr",
     "output_type": "stream",
     "text": []
    },
    {
     "name": "stdout",
     "output_type": "stream",
     "text": [
      "\n",
      "Image analyzed: Plate08_Nuc_Wells-B4__Channel_SD_AF647,SD_RFP,SD_GFP,SD_DAPI,SD_BF,SD_NIR\n",
      "\n",
      "Detecting infection load...\n",
      "Total cells: 2847\n",
      "Percentage infected:23.43\n",
      "Extracting per marker intensity information...\n",
      "Detecting spots in puncta markers...\n"
     ]
    },
    {
     "name": "stderr",
     "output_type": "stream",
     "text": []
    },
    {
     "name": "stdout",
     "output_type": "stream",
     "text": [
      "\n",
      "Image analyzed: Plate08_Nuc_Wells-B5__Channel_SD_AF647,SD_RFP,SD_GFP,SD_DAPI,SD_BF,SD_NIR\n",
      "\n",
      "Detecting infection load...\n",
      "Total cells: 2161\n",
      "Percentage infected:23.0\n",
      "Extracting per marker intensity information...\n",
      "Detecting spots in puncta markers...\n"
     ]
    },
    {
     "name": "stderr",
     "output_type": "stream",
     "text": []
    },
    {
     "name": "stdout",
     "output_type": "stream",
     "text": [
      "\n",
      "Image analyzed: Plate08_Nuc_Wells-B6__Channel_SD_AF647,SD_RFP,SD_GFP,SD_DAPI,SD_BF,SD_NIR\n",
      "\n",
      "Detecting infection load...\n",
      "Total cells: 2324\n",
      "Percentage infected:20.22\n",
      "Extracting per marker intensity information...\n",
      "Detecting spots in puncta markers...\n"
     ]
    },
    {
     "name": "stderr",
     "output_type": "stream",
     "text": []
    },
    {
     "name": "stdout",
     "output_type": "stream",
     "text": [
      "\n",
      "Image analyzed: Plate08_Nuc_Wells-B7__Channel_SD_AF647,SD_RFP,SD_GFP,SD_DAPI,SD_BF,SD_NIR\n",
      "\n",
      "Detecting infection load...\n",
      "Total cells: 2076\n",
      "Percentage infected:20.95\n",
      "Extracting per marker intensity information...\n",
      "Detecting spots in puncta markers...\n"
     ]
    },
    {
     "name": "stderr",
     "output_type": "stream",
     "text": []
    },
    {
     "name": "stdout",
     "output_type": "stream",
     "text": [
      "\n",
      "Image analyzed: Plate08_Nuc_Wells-B8__Channel_SD_AF647,SD_RFP,SD_GFP,SD_DAPI,SD_BF,SD_NIR\n",
      "\n",
      "Detecting infection load...\n",
      "Total cells: 2208\n",
      "Percentage infected:20.65\n",
      "Extracting per marker intensity information...\n",
      "Detecting spots in puncta markers...\n"
     ]
    },
    {
     "name": "stderr",
     "output_type": "stream",
     "text": []
    },
    {
     "name": "stdout",
     "output_type": "stream",
     "text": [
      "\n",
      "Image analyzed: Plate08_Nuc_Wells-B9__Channel_SD_AF647,SD_RFP,SD_GFP,SD_DAPI,SD_BF,SD_NIR\n",
      "\n",
      "Detecting infection load...\n",
      "Total cells: 2698\n",
      "Percentage infected:19.46\n",
      "Extracting per marker intensity information...\n",
      "Detecting spots in puncta markers...\n"
     ]
    },
    {
     "name": "stderr",
     "output_type": "stream",
     "text": []
    },
    {
     "name": "stdout",
     "output_type": "stream",
     "text": [
      "\n",
      "Image analyzed: Plate08_Nuc_Wells-B10__Channel_SD_AF647,SD_RFP,SD_GFP,SD_DAPI,SD_BF,SD_NIR\n",
      "\n",
      "Detecting infection load...\n",
      "Total cells: 2654\n",
      "Percentage infected:15.37\n",
      "Extracting per marker intensity information...\n",
      "Detecting spots in puncta markers...\n"
     ]
    },
    {
     "name": "stderr",
     "output_type": "stream",
     "text": []
    },
    {
     "name": "stdout",
     "output_type": "stream",
     "text": [
      "\n",
      "Image analyzed: Plate08_Nuc_Wells-B11__Channel_SD_AF647,SD_RFP,SD_GFP,SD_DAPI,SD_BF,SD_NIR\n",
      "\n",
      "Detecting infection load...\n",
      "Total cells: 2118\n",
      "Percentage infected:14.92\n",
      "Extracting per marker intensity information...\n",
      "Detecting spots in puncta markers...\n"
     ]
    },
    {
     "name": "stderr",
     "output_type": "stream",
     "text": []
    },
    {
     "name": "stdout",
     "output_type": "stream",
     "text": [
      "\n",
      "Image analyzed: Plate08_Nuc_Wells-B12__Channel_SD_AF647,SD_RFP,SD_GFP,SD_DAPI,SD_BF,SD_NIR\n",
      "\n",
      "Detecting infection load...\n",
      "Total cells: 1982\n",
      "Percentage infected:19.58\n",
      "Extracting per marker intensity information...\n",
      "Detecting spots in puncta markers...\n"
     ]
    },
    {
     "name": "stderr",
     "output_type": "stream",
     "text": []
    },
    {
     "name": "stdout",
     "output_type": "stream",
     "text": [
      "\n",
      "Image analyzed: Plate08_Nuc_Wells-C1__Channel_SD_AF647,SD_RFP,SD_GFP,SD_DAPI,SD_BF,SD_NIR\n",
      "\n",
      "Detecting infection load...\n",
      "Total cells: 2218\n",
      "Percentage infected:27.55\n",
      "Extracting per marker intensity information...\n",
      "Detecting spots in puncta markers...\n"
     ]
    },
    {
     "name": "stderr",
     "output_type": "stream",
     "text": []
    },
    {
     "name": "stdout",
     "output_type": "stream",
     "text": [
      "\n",
      "Image analyzed: Plate08_Nuc_Wells-C2__Channel_SD_AF647,SD_RFP,SD_GFP,SD_DAPI,SD_BF,SD_NIR\n",
      "\n",
      "Detecting infection load...\n",
      "Total cells: 1788\n",
      "Percentage infected:25.39\n",
      "Extracting per marker intensity information...\n",
      "Detecting spots in puncta markers...\n"
     ]
    },
    {
     "name": "stderr",
     "output_type": "stream",
     "text": []
    },
    {
     "name": "stdout",
     "output_type": "stream",
     "text": [
      "\n",
      "Image analyzed: Plate08_Nuc_Wells-C3__Channel_SD_AF647,SD_RFP,SD_GFP,SD_DAPI,SD_BF,SD_NIR\n",
      "\n",
      "Detecting infection load...\n",
      "Total cells: 2254\n",
      "Percentage infected:22.05\n",
      "Extracting per marker intensity information...\n",
      "Detecting spots in puncta markers...\n"
     ]
    },
    {
     "name": "stderr",
     "output_type": "stream",
     "text": []
    },
    {
     "name": "stdout",
     "output_type": "stream",
     "text": [
      "\n",
      "Image analyzed: Plate08_Nuc_Wells-C4__Channel_SD_AF647,SD_RFP,SD_GFP,SD_DAPI,SD_BF,SD_NIR\n",
      "\n",
      "Detecting infection load...\n",
      "Total cells: 2333\n",
      "Percentage infected:23.96\n",
      "Extracting per marker intensity information...\n",
      "Detecting spots in puncta markers...\n"
     ]
    },
    {
     "name": "stderr",
     "output_type": "stream",
     "text": []
    },
    {
     "name": "stdout",
     "output_type": "stream",
     "text": [
      "\n",
      "Image analyzed: Plate08_Nuc_Wells-C5__Channel_SD_AF647,SD_RFP,SD_GFP,SD_DAPI,SD_BF,SD_NIR\n",
      "\n",
      "Detecting infection load...\n",
      "Total cells: 2610\n",
      "Percentage infected:28.74\n",
      "Extracting per marker intensity information...\n",
      "Detecting spots in puncta markers...\n"
     ]
    },
    {
     "name": "stderr",
     "output_type": "stream",
     "text": []
    },
    {
     "name": "stdout",
     "output_type": "stream",
     "text": [
      "\n",
      "Image analyzed: Plate08_Nuc_Wells-C6__Channel_SD_AF647,SD_RFP,SD_GFP,SD_DAPI,SD_BF,SD_NIR\n",
      "\n",
      "Detecting infection load...\n",
      "Total cells: 2372\n",
      "Percentage infected:23.48\n",
      "Extracting per marker intensity information...\n",
      "Detecting spots in puncta markers...\n"
     ]
    },
    {
     "name": "stderr",
     "output_type": "stream",
     "text": []
    },
    {
     "name": "stdout",
     "output_type": "stream",
     "text": [
      "\n",
      "Image analyzed: Plate08_Nuc_Wells-C7__Channel_SD_AF647,SD_RFP,SD_GFP,SD_DAPI,SD_BF,SD_NIR\n",
      "\n",
      "Detecting infection load...\n",
      "Total cells: 2336\n",
      "Percentage infected:18.45\n",
      "Extracting per marker intensity information...\n",
      "Detecting spots in puncta markers...\n"
     ]
    },
    {
     "name": "stderr",
     "output_type": "stream",
     "text": []
    },
    {
     "name": "stdout",
     "output_type": "stream",
     "text": [
      "\n",
      "Image analyzed: Plate08_Nuc_Wells-C8__Channel_SD_AF647,SD_RFP,SD_GFP,SD_DAPI,SD_BF,SD_NIR\n",
      "\n",
      "Detecting infection load...\n",
      "Total cells: 2247\n",
      "Percentage infected:20.03\n",
      "Extracting per marker intensity information...\n",
      "Detecting spots in puncta markers...\n"
     ]
    },
    {
     "name": "stderr",
     "output_type": "stream",
     "text": []
    },
    {
     "name": "stdout",
     "output_type": "stream",
     "text": [
      "\n",
      "Image analyzed: Plate08_Nuc_Wells-C9__Channel_SD_AF647,SD_RFP,SD_GFP,SD_DAPI,SD_BF,SD_NIR\n",
      "\n",
      "Detecting infection load...\n",
      "Total cells: 2640\n",
      "Percentage infected:17.84\n",
      "Extracting per marker intensity information...\n",
      "Detecting spots in puncta markers...\n"
     ]
    },
    {
     "name": "stderr",
     "output_type": "stream",
     "text": []
    },
    {
     "name": "stdout",
     "output_type": "stream",
     "text": [
      "\n",
      "Image analyzed: Plate08_Nuc_Wells-C10__Channel_SD_AF647,SD_RFP,SD_GFP,SD_DAPI,SD_BF,SD_NIR\n",
      "\n",
      "Detecting infection load...\n",
      "Total cells: 2702\n",
      "Percentage infected:19.1\n",
      "Extracting per marker intensity information...\n",
      "Detecting spots in puncta markers...\n"
     ]
    },
    {
     "name": "stderr",
     "output_type": "stream",
     "text": []
    },
    {
     "name": "stdout",
     "output_type": "stream",
     "text": [
      "\n",
      "Image analyzed: Plate08_Nuc_Wells-C11__Channel_SD_AF647,SD_RFP,SD_GFP,SD_DAPI,SD_BF,SD_NIR\n",
      "\n",
      "Detecting infection load...\n",
      "Total cells: 2250\n",
      "Percentage infected:16.36\n",
      "Extracting per marker intensity information...\n",
      "Detecting spots in puncta markers...\n"
     ]
    },
    {
     "name": "stderr",
     "output_type": "stream",
     "text": []
    },
    {
     "name": "stdout",
     "output_type": "stream",
     "text": [
      "\n",
      "Image analyzed: Plate08_Nuc_Wells-C12__Channel_SD_AF647,SD_RFP,SD_GFP,SD_DAPI,SD_BF,SD_NIR\n",
      "\n",
      "Detecting infection load...\n",
      "Total cells: 2103\n",
      "Percentage infected:17.93\n",
      "Extracting per marker intensity information...\n",
      "Detecting spots in puncta markers...\n"
     ]
    },
    {
     "name": "stderr",
     "output_type": "stream",
     "text": []
    },
    {
     "name": "stdout",
     "output_type": "stream",
     "text": [
      "\n",
      "Image analyzed: Plate08_Nuc_Wells-D1__Channel_SD_AF647,SD_RFP,SD_GFP,SD_DAPI,SD_BF,SD_NIR\n",
      "\n",
      "Detecting infection load...\n",
      "Total cells: 1159\n",
      "Percentage infected:21.14\n",
      "Extracting per marker intensity information...\n",
      "Detecting spots in puncta markers...\n"
     ]
    },
    {
     "name": "stderr",
     "output_type": "stream",
     "text": []
    },
    {
     "name": "stdout",
     "output_type": "stream",
     "text": [
      "\n",
      "Image analyzed: Plate08_Nuc_Wells-D2__Channel_SD_AF647,SD_RFP,SD_GFP,SD_DAPI,SD_BF,SD_NIR\n",
      "\n",
      "Detecting infection load...\n",
      "Total cells: 2163\n",
      "Percentage infected:24.18\n",
      "Extracting per marker intensity information...\n",
      "Detecting spots in puncta markers...\n"
     ]
    },
    {
     "name": "stderr",
     "output_type": "stream",
     "text": []
    },
    {
     "name": "stdout",
     "output_type": "stream",
     "text": [
      "\n",
      "Image analyzed: Plate08_Nuc_Wells-D3__Channel_SD_AF647,SD_RFP,SD_GFP,SD_DAPI,SD_BF,SD_NIR\n",
      "\n",
      "Detecting infection load...\n",
      "Total cells: 1552\n",
      "Percentage infected:21.71\n",
      "Extracting per marker intensity information...\n",
      "Detecting spots in puncta markers...\n"
     ]
    },
    {
     "name": "stderr",
     "output_type": "stream",
     "text": []
    },
    {
     "name": "stdout",
     "output_type": "stream",
     "text": [
      "\n",
      "Image analyzed: Plate08_Nuc_Wells-D4__Channel_SD_AF647,SD_RFP,SD_GFP,SD_DAPI,SD_BF,SD_NIR\n",
      "\n",
      "Detecting infection load...\n",
      "Total cells: 1258\n",
      "Percentage infected:28.7\n",
      "Extracting per marker intensity information...\n",
      "Detecting spots in puncta markers...\n"
     ]
    },
    {
     "name": "stderr",
     "output_type": "stream",
     "text": []
    },
    {
     "name": "stdout",
     "output_type": "stream",
     "text": [
      "\n",
      "Image analyzed: Plate08_Nuc_Wells-D5__Channel_SD_AF647,SD_RFP,SD_GFP,SD_DAPI,SD_BF,SD_NIR\n",
      "\n",
      "Detecting infection load...\n",
      "Total cells: 1849\n",
      "Percentage infected:25.96\n",
      "Extracting per marker intensity information...\n",
      "Detecting spots in puncta markers...\n"
     ]
    },
    {
     "name": "stderr",
     "output_type": "stream",
     "text": []
    },
    {
     "name": "stdout",
     "output_type": "stream",
     "text": [
      "\n",
      "Image analyzed: Plate08_Nuc_Wells-D6__Channel_SD_AF647,SD_RFP,SD_GFP,SD_DAPI,SD_BF,SD_NIR\n",
      "\n",
      "Detecting infection load...\n",
      "Total cells: 1669\n",
      "Percentage infected:21.81\n",
      "Extracting per marker intensity information...\n",
      "Detecting spots in puncta markers...\n"
     ]
    },
    {
     "name": "stderr",
     "output_type": "stream",
     "text": []
    },
    {
     "name": "stdout",
     "output_type": "stream",
     "text": [
      "\n",
      "Image analyzed: Plate08_Nuc_Wells-D7__Channel_SD_AF647,SD_RFP,SD_GFP,SD_DAPI,SD_BF,SD_NIR\n",
      "\n",
      "Detecting infection load...\n",
      "Total cells: 2132\n",
      "Percentage infected:18.95\n",
      "Extracting per marker intensity information...\n",
      "Detecting spots in puncta markers...\n"
     ]
    },
    {
     "name": "stderr",
     "output_type": "stream",
     "text": []
    },
    {
     "name": "stdout",
     "output_type": "stream",
     "text": [
      "\n",
      "Image analyzed: Plate08_Nuc_Wells-D8__Channel_SD_AF647,SD_RFP,SD_GFP,SD_DAPI,SD_BF,SD_NIR\n",
      "\n",
      "Detecting infection load...\n",
      "Total cells: 1657\n",
      "Percentage infected:21.79\n",
      "Extracting per marker intensity information...\n",
      "Detecting spots in puncta markers...\n"
     ]
    },
    {
     "name": "stderr",
     "output_type": "stream",
     "text": []
    },
    {
     "name": "stdout",
     "output_type": "stream",
     "text": [
      "\n",
      "Image analyzed: Plate08_Nuc_Wells-D9__Channel_SD_AF647,SD_RFP,SD_GFP,SD_DAPI,SD_BF,SD_NIR\n",
      "\n",
      "Detecting infection load...\n",
      "Total cells: 1929\n",
      "Percentage infected:20.84\n",
      "Extracting per marker intensity information...\n",
      "Detecting spots in puncta markers...\n"
     ]
    },
    {
     "name": "stderr",
     "output_type": "stream",
     "text": []
    },
    {
     "name": "stdout",
     "output_type": "stream",
     "text": [
      "\n",
      "Image analyzed: Plate08_Nuc_Wells-D10__Channel_SD_AF647,SD_RFP,SD_GFP,SD_DAPI,SD_BF,SD_NIR\n",
      "\n",
      "Detecting infection load...\n",
      "Total cells: 1373\n",
      "Percentage infected:13.26\n",
      "Extracting per marker intensity information...\n",
      "Detecting spots in puncta markers...\n"
     ]
    },
    {
     "name": "stderr",
     "output_type": "stream",
     "text": []
    },
    {
     "name": "stdout",
     "output_type": "stream",
     "text": [
      "\n",
      "Image analyzed: Plate08_Nuc_Wells-D11__Channel_SD_AF647,SD_RFP,SD_GFP,SD_DAPI,SD_BF,SD_NIR\n",
      "\n",
      "Detecting infection load...\n",
      "Total cells: 1723\n",
      "Percentage infected:18.8\n",
      "Extracting per marker intensity information...\n",
      "Detecting spots in puncta markers...\n"
     ]
    },
    {
     "name": "stderr",
     "output_type": "stream",
     "text": []
    },
    {
     "name": "stdout",
     "output_type": "stream",
     "text": [
      "\n",
      "Image analyzed: Plate08_Nuc_Wells-D12__Channel_SD_AF647,SD_RFP,SD_GFP,SD_DAPI,SD_BF,SD_NIR\n",
      "\n",
      "Detecting infection load...\n",
      "Total cells: 2099\n",
      "Percentage infected:20.1\n",
      "Extracting per marker intensity information...\n",
      "Detecting spots in puncta markers...\n"
     ]
    },
    {
     "name": "stderr",
     "output_type": "stream",
     "text": []
    },
    {
     "name": "stdout",
     "output_type": "stream",
     "text": [
      "\n",
      "Image analyzed: Plate08_Nuc_Wells-E1__Channel_SD_AF647,SD_RFP,SD_GFP,SD_DAPI,SD_BF,SD_NIR\n",
      "\n",
      "Detecting infection load...\n",
      "Total cells: 2151\n",
      "Percentage infected:23.25\n",
      "Extracting per marker intensity information...\n",
      "Detecting spots in puncta markers...\n"
     ]
    },
    {
     "name": "stderr",
     "output_type": "stream",
     "text": []
    },
    {
     "name": "stdout",
     "output_type": "stream",
     "text": [
      "\n",
      "Image analyzed: Plate08_Nuc_Wells-E2__Channel_SD_AF647,SD_RFP,SD_GFP,SD_DAPI,SD_BF,SD_NIR\n",
      "\n",
      "Detecting infection load...\n",
      "Total cells: 2242\n",
      "Percentage infected:30.06\n",
      "Extracting per marker intensity information...\n",
      "Detecting spots in puncta markers...\n"
     ]
    },
    {
     "name": "stderr",
     "output_type": "stream",
     "text": []
    },
    {
     "name": "stdout",
     "output_type": "stream",
     "text": [
      "\n",
      "Image analyzed: Plate08_Nuc_Wells-E3__Channel_SD_AF647,SD_RFP,SD_GFP,SD_DAPI,SD_BF,SD_NIR\n",
      "\n",
      "Detecting infection load...\n",
      "Total cells: 2533\n",
      "Percentage infected:27.71\n",
      "Extracting per marker intensity information...\n",
      "Detecting spots in puncta markers...\n"
     ]
    },
    {
     "name": "stderr",
     "output_type": "stream",
     "text": []
    },
    {
     "name": "stdout",
     "output_type": "stream",
     "text": [
      "\n",
      "Image analyzed: Plate08_Nuc_Wells-E4__Channel_SD_AF647,SD_RFP,SD_GFP,SD_DAPI,SD_BF,SD_NIR\n",
      "\n",
      "Detecting infection load...\n",
      "Total cells: 2645\n",
      "Percentage infected:28.36\n",
      "Extracting per marker intensity information...\n",
      "Detecting spots in puncta markers...\n"
     ]
    },
    {
     "name": "stderr",
     "output_type": "stream",
     "text": []
    },
    {
     "name": "stdout",
     "output_type": "stream",
     "text": [
      "\n",
      "Image analyzed: Plate08_Nuc_Wells-E5__Channel_SD_AF647,SD_RFP,SD_GFP,SD_DAPI,SD_BF,SD_NIR\n",
      "\n",
      "Detecting infection load...\n",
      "Total cells: 2093\n",
      "Percentage infected:23.46\n",
      "Extracting per marker intensity information...\n",
      "Detecting spots in puncta markers...\n"
     ]
    },
    {
     "name": "stderr",
     "output_type": "stream",
     "text": []
    },
    {
     "name": "stdout",
     "output_type": "stream",
     "text": [
      "\n",
      "Image analyzed: Plate08_Nuc_Wells-E6__Channel_SD_AF647,SD_RFP,SD_GFP,SD_DAPI,SD_BF,SD_NIR\n",
      "\n",
      "Detecting infection load...\n",
      "Total cells: 2580\n",
      "Percentage infected:21.32\n",
      "Extracting per marker intensity information...\n",
      "Detecting spots in puncta markers...\n"
     ]
    },
    {
     "name": "stderr",
     "output_type": "stream",
     "text": []
    },
    {
     "name": "stdout",
     "output_type": "stream",
     "text": [
      "\n",
      "Image analyzed: Plate08_Nuc_Wells-E7__Channel_SD_AF647,SD_RFP,SD_GFP,SD_DAPI,SD_BF,SD_NIR\n",
      "\n",
      "Detecting infection load...\n",
      "Total cells: 1617\n",
      "Percentage infected:16.88\n",
      "Extracting per marker intensity information...\n",
      "Detecting spots in puncta markers...\n"
     ]
    },
    {
     "name": "stderr",
     "output_type": "stream",
     "text": []
    },
    {
     "name": "stdout",
     "output_type": "stream",
     "text": [
      "\n",
      "Image analyzed: Plate08_Nuc_Wells-E8__Channel_SD_AF647,SD_RFP,SD_GFP,SD_DAPI,SD_BF,SD_NIR\n",
      "\n",
      "Detecting infection load...\n",
      "Total cells: 2278\n",
      "Percentage infected:17.25\n",
      "Extracting per marker intensity information...\n",
      "Detecting spots in puncta markers...\n"
     ]
    },
    {
     "name": "stderr",
     "output_type": "stream",
     "text": []
    },
    {
     "name": "stdout",
     "output_type": "stream",
     "text": [
      "\n",
      "Image analyzed: Plate08_Nuc_Wells-E9__Channel_SD_AF647,SD_RFP,SD_GFP,SD_DAPI,SD_BF,SD_NIR\n",
      "\n",
      "Detecting infection load...\n",
      "Total cells: 1578\n",
      "Percentage infected:16.29\n",
      "Extracting per marker intensity information...\n",
      "Detecting spots in puncta markers...\n"
     ]
    },
    {
     "name": "stderr",
     "output_type": "stream",
     "text": []
    },
    {
     "name": "stdout",
     "output_type": "stream",
     "text": [
      "\n",
      "Image analyzed: Plate08_Nuc_Wells-E10__Channel_SD_AF647,SD_RFP,SD_GFP,SD_DAPI,SD_BF,SD_NIR\n",
      "\n",
      "Detecting infection load...\n",
      "Total cells: 1152\n",
      "Percentage infected:15.8\n",
      "Extracting per marker intensity information...\n",
      "Detecting spots in puncta markers...\n"
     ]
    },
    {
     "name": "stderr",
     "output_type": "stream",
     "text": []
    },
    {
     "name": "stdout",
     "output_type": "stream",
     "text": [
      "\n",
      "Image analyzed: Plate08_Nuc_Wells-E11__Channel_SD_AF647,SD_RFP,SD_GFP,SD_DAPI,SD_BF,SD_NIR\n",
      "\n",
      "Detecting infection load...\n",
      "Total cells: 949\n",
      "Percentage infected:15.7\n",
      "Extracting per marker intensity information...\n",
      "Detecting spots in puncta markers...\n"
     ]
    },
    {
     "name": "stderr",
     "output_type": "stream",
     "text": []
    },
    {
     "name": "stdout",
     "output_type": "stream",
     "text": [
      "\n",
      "Image analyzed: Plate08_Nuc_Wells-E12__Channel_SD_AF647,SD_RFP,SD_GFP,SD_DAPI,SD_BF,SD_NIR\n",
      "\n",
      "Detecting infection load...\n",
      "Total cells: 1818\n",
      "Percentage infected:20.63\n",
      "Extracting per marker intensity information...\n",
      "Detecting spots in puncta markers...\n"
     ]
    },
    {
     "name": "stderr",
     "output_type": "stream",
     "text": []
    },
    {
     "name": "stdout",
     "output_type": "stream",
     "text": [
      "\n",
      "Image analyzed: Plate08_Nuc_Wells-F1__Channel_SD_AF647,SD_RFP,SD_GFP,SD_DAPI,SD_BF,SD_NIR\n",
      "\n",
      "Detecting infection load...\n",
      "Total cells: 2618\n",
      "Percentage infected:21.43\n",
      "Extracting per marker intensity information...\n",
      "Detecting spots in puncta markers...\n"
     ]
    },
    {
     "name": "stderr",
     "output_type": "stream",
     "text": []
    },
    {
     "name": "stdout",
     "output_type": "stream",
     "text": [
      "\n",
      "Image analyzed: Plate08_Nuc_Wells-F2__Channel_SD_AF647,SD_RFP,SD_GFP,SD_DAPI,SD_BF,SD_NIR\n",
      "\n",
      "Detecting infection load...\n",
      "Total cells: 2506\n",
      "Percentage infected:26.9\n",
      "Extracting per marker intensity information...\n",
      "Detecting spots in puncta markers...\n"
     ]
    },
    {
     "name": "stderr",
     "output_type": "stream",
     "text": []
    },
    {
     "name": "stdout",
     "output_type": "stream",
     "text": [
      "\n",
      "Image analyzed: Plate08_Nuc_Wells-F3__Channel_SD_AF647,SD_RFP,SD_GFP,SD_DAPI,SD_BF,SD_NIR\n",
      "\n",
      "Detecting infection load...\n",
      "Total cells: 2334\n",
      "Percentage infected:28.62\n",
      "Extracting per marker intensity information...\n",
      "Detecting spots in puncta markers...\n"
     ]
    },
    {
     "name": "stderr",
     "output_type": "stream",
     "text": []
    },
    {
     "name": "stdout",
     "output_type": "stream",
     "text": [
      "\n",
      "Image analyzed: Plate08_Nuc_Wells-F4__Channel_SD_AF647,SD_RFP,SD_GFP,SD_DAPI,SD_BF,SD_NIR\n",
      "\n",
      "Detecting infection load...\n",
      "Total cells: 2763\n",
      "Percentage infected:27.76\n",
      "Extracting per marker intensity information...\n",
      "Detecting spots in puncta markers...\n"
     ]
    },
    {
     "name": "stderr",
     "output_type": "stream",
     "text": []
    },
    {
     "name": "stdout",
     "output_type": "stream",
     "text": [
      "\n",
      "Image analyzed: Plate08_Nuc_Wells-F5__Channel_SD_AF647,SD_RFP,SD_GFP,SD_DAPI,SD_BF,SD_NIR\n",
      "\n",
      "Detecting infection load...\n",
      "Total cells: 2306\n",
      "Percentage infected:24.59\n",
      "Extracting per marker intensity information...\n",
      "Detecting spots in puncta markers...\n"
     ]
    },
    {
     "name": "stderr",
     "output_type": "stream",
     "text": []
    },
    {
     "name": "stdout",
     "output_type": "stream",
     "text": [
      "\n",
      "Image analyzed: Plate08_Nuc_Wells-F6__Channel_SD_AF647,SD_RFP,SD_GFP,SD_DAPI,SD_BF,SD_NIR\n",
      "\n",
      "Detecting infection load...\n",
      "Total cells: 2119\n",
      "Percentage infected:21.66\n",
      "Extracting per marker intensity information...\n",
      "Detecting spots in puncta markers...\n"
     ]
    },
    {
     "name": "stderr",
     "output_type": "stream",
     "text": []
    },
    {
     "name": "stdout",
     "output_type": "stream",
     "text": [
      "\n",
      "Image analyzed: Plate08_Nuc_Wells-F7__Channel_SD_AF647,SD_RFP,SD_GFP,SD_DAPI,SD_BF,SD_NIR\n",
      "\n",
      "Detecting infection load...\n",
      "Total cells: 2165\n",
      "Percentage infected:24.48\n",
      "Extracting per marker intensity information...\n",
      "Detecting spots in puncta markers...\n"
     ]
    },
    {
     "name": "stderr",
     "output_type": "stream",
     "text": []
    },
    {
     "name": "stdout",
     "output_type": "stream",
     "text": [
      "\n",
      "Image analyzed: Plate08_Nuc_Wells-F8__Channel_SD_AF647,SD_RFP,SD_GFP,SD_DAPI,SD_BF,SD_NIR\n",
      "\n",
      "Detecting infection load...\n",
      "Total cells: 2254\n",
      "Percentage infected:18.01\n",
      "Extracting per marker intensity information...\n",
      "Detecting spots in puncta markers...\n"
     ]
    },
    {
     "name": "stderr",
     "output_type": "stream",
     "text": []
    },
    {
     "name": "stdout",
     "output_type": "stream",
     "text": [
      "\n",
      "Image analyzed: Plate08_Nuc_Wells-F9__Channel_SD_AF647,SD_RFP,SD_GFP,SD_DAPI,SD_BF,SD_NIR\n",
      "\n",
      "Detecting infection load...\n",
      "Total cells: 2406\n",
      "Percentage infected:17.83\n",
      "Extracting per marker intensity information...\n",
      "Detecting spots in puncta markers...\n"
     ]
    },
    {
     "name": "stderr",
     "output_type": "stream",
     "text": []
    },
    {
     "name": "stdout",
     "output_type": "stream",
     "text": [
      "\n",
      "Image analyzed: Plate08_Nuc_Wells-F10__Channel_SD_AF647,SD_RFP,SD_GFP,SD_DAPI,SD_BF,SD_NIR\n",
      "\n",
      "Detecting infection load...\n",
      "Total cells: 2284\n",
      "Percentage infected:19.53\n",
      "Extracting per marker intensity information...\n",
      "Detecting spots in puncta markers...\n"
     ]
    },
    {
     "name": "stderr",
     "output_type": "stream",
     "text": []
    },
    {
     "name": "stdout",
     "output_type": "stream",
     "text": [
      "\n",
      "Image analyzed: Plate08_Nuc_Wells-F11__Channel_SD_AF647,SD_RFP,SD_GFP,SD_DAPI,SD_BF,SD_NIR\n",
      "\n",
      "Detecting infection load...\n",
      "Total cells: 2062\n",
      "Percentage infected:14.69\n",
      "Extracting per marker intensity information...\n",
      "Detecting spots in puncta markers...\n"
     ]
    },
    {
     "name": "stderr",
     "output_type": "stream",
     "text": []
    },
    {
     "name": "stdout",
     "output_type": "stream",
     "text": [
      "\n",
      "Image analyzed: Plate08_Nuc_Wells-F12__Channel_SD_AF647,SD_RFP,SD_GFP,SD_DAPI,SD_BF,SD_NIR\n",
      "\n",
      "Detecting infection load...\n",
      "Total cells: 790\n",
      "Percentage infected:14.43\n",
      "Extracting per marker intensity information...\n",
      "Detecting spots in puncta markers...\n"
     ]
    },
    {
     "name": "stderr",
     "output_type": "stream",
     "text": []
    },
    {
     "name": "stdout",
     "output_type": "stream",
     "text": [
      "\n",
      "Image analyzed: Plate08_Nuc_Wells-G1__Channel_SD_AF647,SD_RFP,SD_GFP,SD_DAPI,SD_BF,SD_NIR\n",
      "\n",
      "Detecting infection load...\n",
      "Total cells: 2743\n",
      "Percentage infected:20.2\n",
      "Extracting per marker intensity information...\n",
      "Detecting spots in puncta markers...\n"
     ]
    },
    {
     "name": "stderr",
     "output_type": "stream",
     "text": []
    },
    {
     "name": "stdout",
     "output_type": "stream",
     "text": [
      "\n",
      "Image analyzed: Plate08_Nuc_Wells-G2__Channel_SD_AF647,SD_RFP,SD_GFP,SD_DAPI,SD_BF,SD_NIR\n",
      "\n",
      "Detecting infection load...\n",
      "Total cells: 2985\n",
      "Percentage infected:15.81\n",
      "Extracting per marker intensity information...\n",
      "Detecting spots in puncta markers...\n"
     ]
    },
    {
     "name": "stderr",
     "output_type": "stream",
     "text": []
    },
    {
     "name": "stdout",
     "output_type": "stream",
     "text": [
      "\n",
      "Image analyzed: Plate08_Nuc_Wells-G3__Channel_SD_AF647,SD_RFP,SD_GFP,SD_DAPI,SD_BF,SD_NIR\n",
      "\n",
      "Detecting infection load...\n",
      "Total cells: 3080\n",
      "Percentage infected:23.93\n",
      "Extracting per marker intensity information...\n",
      "Detecting spots in puncta markers...\n"
     ]
    },
    {
     "name": "stderr",
     "output_type": "stream",
     "text": []
    },
    {
     "name": "stdout",
     "output_type": "stream",
     "text": [
      "\n",
      "Image analyzed: Plate08_Nuc_Wells-G4__Channel_SD_AF647,SD_RFP,SD_GFP,SD_DAPI,SD_BF,SD_NIR\n",
      "\n",
      "Detecting infection load...\n",
      "Total cells: 2851\n",
      "Percentage infected:15.96\n",
      "Extracting per marker intensity information...\n",
      "Detecting spots in puncta markers...\n"
     ]
    },
    {
     "name": "stderr",
     "output_type": "stream",
     "text": []
    },
    {
     "name": "stdout",
     "output_type": "stream",
     "text": [
      "\n",
      "Image analyzed: Plate08_Nuc_Wells-G5__Channel_SD_AF647,SD_RFP,SD_GFP,SD_DAPI,SD_BF,SD_NIR\n",
      "\n",
      "Detecting infection load...\n",
      "Total cells: 2917\n",
      "Percentage infected:21.19\n",
      "Extracting per marker intensity information...\n",
      "Detecting spots in puncta markers...\n"
     ]
    },
    {
     "name": "stderr",
     "output_type": "stream",
     "text": []
    },
    {
     "name": "stdout",
     "output_type": "stream",
     "text": [
      "\n",
      "Image analyzed: Plate08_Nuc_Wells-G6__Channel_SD_AF647,SD_RFP,SD_GFP,SD_DAPI,SD_BF,SD_NIR\n",
      "\n",
      "Detecting infection load...\n",
      "Total cells: 2833\n",
      "Percentage infected:20.3\n",
      "Extracting per marker intensity information...\n",
      "Detecting spots in puncta markers...\n"
     ]
    },
    {
     "name": "stderr",
     "output_type": "stream",
     "text": []
    },
    {
     "name": "stdout",
     "output_type": "stream",
     "text": [
      "\n",
      "Image analyzed: Plate08_Nuc_Wells-G7__Channel_SD_AF647,SD_RFP,SD_GFP,SD_DAPI,SD_BF,SD_NIR\n",
      "\n",
      "Detecting infection load...\n",
      "Total cells: 2779\n",
      "Percentage infected:20.76\n",
      "Extracting per marker intensity information...\n",
      "Detecting spots in puncta markers...\n"
     ]
    },
    {
     "name": "stderr",
     "output_type": "stream",
     "text": []
    },
    {
     "name": "stdout",
     "output_type": "stream",
     "text": [
      "\n",
      "Image analyzed: Plate08_Nuc_Wells-G8__Channel_SD_AF647,SD_RFP,SD_GFP,SD_DAPI,SD_BF,SD_NIR\n",
      "\n",
      "Detecting infection load...\n",
      "Total cells: 2356\n",
      "Percentage infected:18.63\n",
      "Extracting per marker intensity information...\n",
      "Detecting spots in puncta markers...\n"
     ]
    },
    {
     "name": "stderr",
     "output_type": "stream",
     "text": []
    },
    {
     "name": "stdout",
     "output_type": "stream",
     "text": [
      "\n",
      "Image analyzed: Plate08_Nuc_Wells-G9__Channel_SD_AF647,SD_RFP,SD_GFP,SD_DAPI,SD_BF,SD_NIR\n",
      "\n",
      "Detecting infection load...\n",
      "Total cells: 2398\n",
      "Percentage infected:16.39\n",
      "Extracting per marker intensity information...\n",
      "Detecting spots in puncta markers...\n"
     ]
    },
    {
     "name": "stderr",
     "output_type": "stream",
     "text": []
    },
    {
     "name": "stdout",
     "output_type": "stream",
     "text": [
      "\n",
      "Image analyzed: Plate08_Nuc_Wells-G10__Channel_SD_AF647,SD_RFP,SD_GFP,SD_DAPI,SD_BF,SD_NIR\n",
      "\n",
      "Detecting infection load...\n",
      "Total cells: 2348\n",
      "Percentage infected:16.87\n",
      "Extracting per marker intensity information...\n",
      "Detecting spots in puncta markers...\n"
     ]
    },
    {
     "name": "stderr",
     "output_type": "stream",
     "text": []
    },
    {
     "name": "stdout",
     "output_type": "stream",
     "text": [
      "\n",
      "Image analyzed: Plate08_Nuc_Wells-G11__Channel_SD_AF647,SD_RFP,SD_GFP,SD_DAPI,SD_BF,SD_NIR\n",
      "\n",
      "Detecting infection load...\n",
      "Total cells: 2909\n",
      "Percentage infected:16.71\n",
      "Extracting per marker intensity information...\n",
      "Detecting spots in puncta markers...\n"
     ]
    },
    {
     "name": "stderr",
     "output_type": "stream",
     "text": []
    },
    {
     "name": "stdout",
     "output_type": "stream",
     "text": [
      "\n",
      "Image analyzed: Plate08_Nuc_Wells-G12__Channel_SD_AF647,SD_RFP,SD_GFP,SD_DAPI,SD_BF,SD_NIR\n",
      "\n",
      "Detecting infection load...\n",
      "Total cells: 2294\n",
      "Percentage infected:16.65\n",
      "Extracting per marker intensity information...\n",
      "Detecting spots in puncta markers...\n"
     ]
    },
    {
     "name": "stderr",
     "output_type": "stream",
     "text": []
    },
    {
     "name": "stdout",
     "output_type": "stream",
     "text": [
      "\n",
      "Image analyzed: Plate08_Nuc_Wells-H1__Channel_SD_AF647,SD_RFP,SD_GFP,SD_DAPI,SD_BF,SD_NIR\n",
      "\n",
      "Detecting infection load...\n",
      "Total cells: 3040\n",
      "Percentage infected:0.79\n",
      "Extracting per marker intensity information...\n",
      "Detecting spots in puncta markers...\n"
     ]
    },
    {
     "name": "stderr",
     "output_type": "stream",
     "text": []
    },
    {
     "name": "stdout",
     "output_type": "stream",
     "text": [
      "\n",
      "Image analyzed: Plate08_Nuc_Wells-H2__Channel_SD_AF647,SD_RFP,SD_GFP,SD_DAPI,SD_BF,SD_NIR\n",
      "\n",
      "Detecting infection load...\n",
      "Total cells: 2688\n",
      "Percentage infected:22.21\n",
      "Extracting per marker intensity information...\n",
      "Detecting spots in puncta markers...\n"
     ]
    },
    {
     "name": "stderr",
     "output_type": "stream",
     "text": []
    },
    {
     "name": "stdout",
     "output_type": "stream",
     "text": [
      "\n",
      "Image analyzed: Plate08_Nuc_Wells-H3__Channel_SD_AF647,SD_RFP,SD_GFP,SD_DAPI,SD_BF,SD_NIR\n",
      "\n",
      "Detecting infection load...\n",
      "Total cells: 2832\n",
      "Percentage infected:17.3\n",
      "Extracting per marker intensity information...\n",
      "Detecting spots in puncta markers...\n"
     ]
    },
    {
     "name": "stderr",
     "output_type": "stream",
     "text": []
    },
    {
     "name": "stdout",
     "output_type": "stream",
     "text": [
      "\n",
      "Image analyzed: Plate08_Nuc_Wells-H4__Channel_SD_AF647,SD_RFP,SD_GFP,SD_DAPI,SD_BF,SD_NIR\n",
      "\n",
      "Detecting infection load...\n",
      "Total cells: 3324\n",
      "Percentage infected:16.73\n",
      "Extracting per marker intensity information...\n",
      "Detecting spots in puncta markers...\n"
     ]
    },
    {
     "name": "stderr",
     "output_type": "stream",
     "text": []
    },
    {
     "name": "stdout",
     "output_type": "stream",
     "text": [
      "\n",
      "Image analyzed: Plate08_Nuc_Wells-H5__Channel_SD_AF647,SD_RFP,SD_GFP,SD_DAPI,SD_BF,SD_NIR\n",
      "\n",
      "Detecting infection load...\n",
      "Total cells: 2953\n",
      "Percentage infected:18.76\n",
      "Extracting per marker intensity information...\n",
      "Detecting spots in puncta markers...\n"
     ]
    },
    {
     "name": "stderr",
     "output_type": "stream",
     "text": []
    },
    {
     "name": "stdout",
     "output_type": "stream",
     "text": [
      "\n",
      "Image analyzed: Plate08_Nuc_Wells-H6__Channel_SD_AF647,SD_RFP,SD_GFP,SD_DAPI,SD_BF,SD_NIR\n",
      "\n",
      "Detecting infection load...\n",
      "Total cells: 2961\n",
      "Percentage infected:18.54\n",
      "Extracting per marker intensity information...\n",
      "Detecting spots in puncta markers...\n"
     ]
    },
    {
     "name": "stderr",
     "output_type": "stream",
     "text": []
    },
    {
     "name": "stdout",
     "output_type": "stream",
     "text": [
      "\n",
      "Image analyzed: Plate08_Nuc_Wells-H7__Channel_SD_AF647,SD_RFP,SD_GFP,SD_DAPI,SD_BF,SD_NIR\n",
      "\n",
      "Detecting infection load...\n",
      "Total cells: 2688\n",
      "Percentage infected:19.01\n",
      "Extracting per marker intensity information...\n",
      "Detecting spots in puncta markers...\n"
     ]
    },
    {
     "name": "stderr",
     "output_type": "stream",
     "text": []
    },
    {
     "name": "stdout",
     "output_type": "stream",
     "text": [
      "\n",
      "Image analyzed: Plate08_Nuc_Wells-H8__Channel_SD_AF647,SD_RFP,SD_GFP,SD_DAPI,SD_BF,SD_NIR\n",
      "\n",
      "Detecting infection load...\n",
      "Total cells: 2321\n",
      "Percentage infected:15.55\n",
      "Extracting per marker intensity information...\n",
      "Detecting spots in puncta markers...\n"
     ]
    },
    {
     "name": "stderr",
     "output_type": "stream",
     "text": []
    },
    {
     "name": "stdout",
     "output_type": "stream",
     "text": [
      "\n",
      "Image analyzed: Plate08_Nuc_Wells-H9__Channel_SD_AF647,SD_RFP,SD_GFP,SD_DAPI,SD_BF,SD_NIR\n",
      "\n",
      "Detecting infection load...\n",
      "Total cells: 2575\n",
      "Percentage infected:14.45\n",
      "Extracting per marker intensity information...\n",
      "Detecting spots in puncta markers...\n"
     ]
    },
    {
     "name": "stderr",
     "output_type": "stream",
     "text": []
    },
    {
     "name": "stdout",
     "output_type": "stream",
     "text": [
      "\n",
      "Image analyzed: Plate08_Nuc_Wells-H10__Channel_SD_AF647,SD_RFP,SD_GFP,SD_DAPI,SD_BF,SD_NIR\n",
      "\n",
      "Detecting infection load...\n",
      "Total cells: 2584\n",
      "Percentage infected:14.82\n",
      "Extracting per marker intensity information...\n",
      "Detecting spots in puncta markers...\n"
     ]
    },
    {
     "name": "stderr",
     "output_type": "stream",
     "text": []
    },
    {
     "name": "stdout",
     "output_type": "stream",
     "text": [
      "\n",
      "Image analyzed: Plate08_Nuc_Wells-H11__Channel_SD_AF647,SD_RFP,SD_GFP,SD_DAPI,SD_BF,SD_NIR\n",
      "\n",
      "Detecting infection load...\n",
      "Total cells: 2609\n",
      "Percentage infected:17.82\n",
      "Extracting per marker intensity information...\n",
      "Detecting spots in puncta markers...\n"
     ]
    },
    {
     "name": "stderr",
     "output_type": "stream",
     "text": []
    },
    {
     "name": "stdout",
     "output_type": "stream",
     "text": [
      "\n",
      "Image analyzed: Plate08_Nuc_Wells-H12__Channel_SD_AF647,SD_RFP,SD_GFP,SD_DAPI,SD_BF,SD_NIR\n",
      "\n",
      "Detecting infection load...\n",
      "Total cells: 1967\n",
      "Percentage infected:17.34\n",
      "Extracting per marker intensity information...\n",
      "Detecting spots in puncta markers...\n"
     ]
    },
    {
     "name": "stderr",
     "output_type": "stream",
     "text": [
      "100%|██████████| 96/96 [48:16<00:00, 30.17s/it]\n",
      " 47%|████▋     | 8/17 [6:24:56<7:12:42, 2884.70s/it]"
     ]
    },
    {
     "name": "stdout",
     "output_type": "stream",
     "text": [
      "Analyzing Plate: Plate 09_Nuc\n"
     ]
    },
    {
     "name": "stderr",
     "output_type": "stream",
     "text": []
    },
    {
     "name": "stdout",
     "output_type": "stream",
     "text": [
      "\n",
      "Image analyzed: Plate09_Nuc_Wells-B3__Channel_SD_AF647,SD_RFP,SD_GFP,SD_DAPI,SD_BF,SD_NIR\n",
      "\n",
      "Detecting infection load...\n",
      "Total cells: 2780\n",
      "Percentage infected:25.65\n",
      "Extracting per marker intensity information...\n",
      "Detecting spots in puncta markers...\n"
     ]
    },
    {
     "name": "stderr",
     "output_type": "stream",
     "text": []
    },
    {
     "name": "stdout",
     "output_type": "stream",
     "text": [
      "\n",
      "Image analyzed: Plate09_Nuc_Wells-B4__Channel_SD_AF647,SD_RFP,SD_GFP,SD_DAPI,SD_BF,SD_NIR\n",
      "\n",
      "Detecting infection load...\n",
      "Total cells: 3860\n",
      "Percentage infected:31.37\n",
      "Extracting per marker intensity information...\n",
      "Detecting spots in puncta markers...\n"
     ]
    },
    {
     "name": "stderr",
     "output_type": "stream",
     "text": []
    },
    {
     "name": "stdout",
     "output_type": "stream",
     "text": [
      "\n",
      "Image analyzed: Plate09_Nuc_Wells-B5__Channel_SD_AF647,SD_RFP,SD_GFP,SD_DAPI,SD_BF,SD_NIR\n",
      "\n",
      "Detecting infection load...\n",
      "Total cells: 3680\n",
      "Percentage infected:32.31\n",
      "Extracting per marker intensity information...\n",
      "Detecting spots in puncta markers...\n"
     ]
    },
    {
     "name": "stderr",
     "output_type": "stream",
     "text": []
    },
    {
     "name": "stdout",
     "output_type": "stream",
     "text": [
      "\n",
      "Image analyzed: Plate09_Nuc_Wells-B6__Channel_SD_AF647,SD_RFP,SD_GFP,SD_DAPI,SD_BF,SD_NIR\n",
      "\n",
      "Detecting infection load...\n",
      "Total cells: 4106\n",
      "Percentage infected:30.74\n",
      "Extracting per marker intensity information...\n",
      "Detecting spots in puncta markers...\n"
     ]
    },
    {
     "name": "stderr",
     "output_type": "stream",
     "text": []
    },
    {
     "name": "stdout",
     "output_type": "stream",
     "text": [
      "\n",
      "Image analyzed: Plate09_Nuc_Wells-B7__Channel_SD_AF647,SD_RFP,SD_GFP,SD_DAPI,SD_BF,SD_NIR\n",
      "\n",
      "Detecting infection load...\n",
      "Total cells: 3329\n",
      "Percentage infected:33.13\n",
      "Extracting per marker intensity information...\n",
      "Detecting spots in puncta markers...\n"
     ]
    },
    {
     "name": "stderr",
     "output_type": "stream",
     "text": []
    },
    {
     "name": "stdout",
     "output_type": "stream",
     "text": [
      "\n",
      "Image analyzed: Plate09_Nuc_Wells-B8__Channel_SD_AF647,SD_RFP,SD_GFP,SD_DAPI,SD_BF,SD_NIR\n",
      "\n",
      "Detecting infection load...\n",
      "Total cells: 3312\n",
      "Percentage infected:27.66\n",
      "Extracting per marker intensity information...\n",
      "Detecting spots in puncta markers...\n"
     ]
    },
    {
     "name": "stderr",
     "output_type": "stream",
     "text": []
    },
    {
     "name": "stdout",
     "output_type": "stream",
     "text": [
      "\n",
      "Image analyzed: Plate09_Nuc_Wells-B9__Channel_SD_AF647,SD_RFP,SD_GFP,SD_DAPI,SD_BF,SD_NIR\n",
      "\n",
      "Detecting infection load...\n",
      "Total cells: 2974\n",
      "Percentage infected:28.28\n",
      "Extracting per marker intensity information...\n",
      "Detecting spots in puncta markers...\n"
     ]
    },
    {
     "name": "stderr",
     "output_type": "stream",
     "text": []
    },
    {
     "name": "stdout",
     "output_type": "stream",
     "text": [
      "\n",
      "Image analyzed: Plate09_Nuc_Wells-B10__Channel_SD_AF647,SD_RFP,SD_GFP,SD_DAPI,SD_BF,SD_NIR\n",
      "\n",
      "Detecting infection load...\n",
      "Total cells: 3058\n",
      "Percentage infected:24.53\n",
      "Extracting per marker intensity information...\n",
      "Detecting spots in puncta markers...\n"
     ]
    },
    {
     "name": "stderr",
     "output_type": "stream",
     "text": []
    },
    {
     "name": "stdout",
     "output_type": "stream",
     "text": [
      "\n",
      "Image analyzed: Plate09_Nuc_Wells-B11__Channel_SD_AF647,SD_RFP,SD_GFP,SD_DAPI,SD_BF,SD_NIR\n",
      "\n",
      "Detecting infection load...\n",
      "Total cells: 2887\n",
      "Percentage infected:23.48\n",
      "Extracting per marker intensity information...\n",
      "Detecting spots in puncta markers...\n"
     ]
    },
    {
     "name": "stderr",
     "output_type": "stream",
     "text": []
    },
    {
     "name": "stdout",
     "output_type": "stream",
     "text": [
      "\n",
      "Image analyzed: Plate09_Nuc_Wells-B12__Channel_SD_AF647,SD_RFP,SD_GFP,SD_DAPI,SD_BF,SD_NIR\n",
      "\n",
      "Detecting infection load...\n",
      "Total cells: 2784\n",
      "Percentage infected:21.41\n",
      "Extracting per marker intensity information...\n",
      "Detecting spots in puncta markers...\n"
     ]
    },
    {
     "name": "stderr",
     "output_type": "stream",
     "text": []
    },
    {
     "name": "stdout",
     "output_type": "stream",
     "text": [
      "\n",
      "Image analyzed: Plate09_Nuc_Wells-C1__Channel_SD_AF647,SD_RFP,SD_GFP,SD_DAPI,SD_BF,SD_NIR\n",
      "\n",
      "Detecting infection load...\n",
      "Total cells: 3506\n",
      "Percentage infected:21.79\n",
      "Extracting per marker intensity information...\n",
      "Detecting spots in puncta markers...\n"
     ]
    },
    {
     "name": "stderr",
     "output_type": "stream",
     "text": []
    },
    {
     "name": "stdout",
     "output_type": "stream",
     "text": [
      "\n",
      "Image analyzed: Plate09_Nuc_Wells-C2__Channel_SD_AF647,SD_RFP,SD_GFP,SD_DAPI,SD_BF,SD_NIR\n",
      "\n",
      "Detecting infection load...\n",
      "Total cells: 2786\n",
      "Percentage infected:24.55\n",
      "Extracting per marker intensity information...\n",
      "Detecting spots in puncta markers...\n"
     ]
    },
    {
     "name": "stderr",
     "output_type": "stream",
     "text": []
    },
    {
     "name": "stdout",
     "output_type": "stream",
     "text": [
      "\n",
      "Image analyzed: Plate09_Nuc_Wells-C3__Channel_SD_AF647,SD_RFP,SD_GFP,SD_DAPI,SD_BF,SD_NIR\n",
      "\n",
      "Detecting infection load...\n",
      "Total cells: 3031\n",
      "Percentage infected:27.61\n",
      "Extracting per marker intensity information...\n",
      "Detecting spots in puncta markers...\n"
     ]
    },
    {
     "name": "stderr",
     "output_type": "stream",
     "text": []
    },
    {
     "name": "stdout",
     "output_type": "stream",
     "text": [
      "\n",
      "Image analyzed: Plate09_Nuc_Wells-C4__Channel_SD_AF647,SD_RFP,SD_GFP,SD_DAPI,SD_BF,SD_NIR\n",
      "\n",
      "Detecting infection load...\n",
      "Total cells: 3194\n",
      "Percentage infected:32.03\n",
      "Extracting per marker intensity information...\n",
      "Detecting spots in puncta markers...\n"
     ]
    },
    {
     "name": "stderr",
     "output_type": "stream",
     "text": []
    },
    {
     "name": "stdout",
     "output_type": "stream",
     "text": [
      "\n",
      "Image analyzed: Plate09_Nuc_Wells-C5__Channel_SD_AF647,SD_RFP,SD_GFP,SD_DAPI,SD_BF,SD_NIR\n",
      "\n",
      "Detecting infection load...\n",
      "Total cells: 2948\n",
      "Percentage infected:30.7\n",
      "Extracting per marker intensity information...\n",
      "Detecting spots in puncta markers...\n"
     ]
    },
    {
     "name": "stderr",
     "output_type": "stream",
     "text": []
    },
    {
     "name": "stdout",
     "output_type": "stream",
     "text": [
      "\n",
      "Image analyzed: Plate09_Nuc_Wells-C6__Channel_SD_AF647,SD_RFP,SD_GFP,SD_DAPI,SD_BF,SD_NIR\n",
      "\n",
      "Detecting infection load...\n",
      "Total cells: 2924\n",
      "Percentage infected:35.5\n",
      "Extracting per marker intensity information...\n",
      "Detecting spots in puncta markers...\n"
     ]
    },
    {
     "name": "stderr",
     "output_type": "stream",
     "text": []
    },
    {
     "name": "stdout",
     "output_type": "stream",
     "text": [
      "\n",
      "Image analyzed: Plate09_Nuc_Wells-C7__Channel_SD_AF647,SD_RFP,SD_GFP,SD_DAPI,SD_BF,SD_NIR\n",
      "\n",
      "Detecting infection load...\n",
      "Total cells: 2645\n",
      "Percentage infected:28.24\n",
      "Extracting per marker intensity information...\n",
      "Detecting spots in puncta markers...\n"
     ]
    },
    {
     "name": "stderr",
     "output_type": "stream",
     "text": []
    },
    {
     "name": "stdout",
     "output_type": "stream",
     "text": [
      "\n",
      "Image analyzed: Plate09_Nuc_Wells-C8__Channel_SD_AF647,SD_RFP,SD_GFP,SD_DAPI,SD_BF,SD_NIR\n",
      "\n",
      "Detecting infection load...\n",
      "Total cells: 2769\n",
      "Percentage infected:31.49\n",
      "Extracting per marker intensity information...\n",
      "Detecting spots in puncta markers...\n"
     ]
    },
    {
     "name": "stderr",
     "output_type": "stream",
     "text": []
    },
    {
     "name": "stdout",
     "output_type": "stream",
     "text": [
      "\n",
      "Image analyzed: Plate09_Nuc_Wells-C9__Channel_SD_AF647,SD_RFP,SD_GFP,SD_DAPI,SD_BF,SD_NIR\n",
      "\n",
      "Detecting infection load...\n",
      "Total cells: 2946\n",
      "Percentage infected:27.7\n",
      "Extracting per marker intensity information...\n",
      "Detecting spots in puncta markers...\n"
     ]
    },
    {
     "name": "stderr",
     "output_type": "stream",
     "text": []
    },
    {
     "name": "stdout",
     "output_type": "stream",
     "text": [
      "\n",
      "Image analyzed: Plate09_Nuc_Wells-C10__Channel_SD_AF647,SD_RFP,SD_GFP,SD_DAPI,SD_BF,SD_NIR\n",
      "\n",
      "Detecting infection load...\n",
      "Total cells: 2481\n",
      "Percentage infected:23.01\n",
      "Extracting per marker intensity information...\n",
      "Detecting spots in puncta markers...\n"
     ]
    },
    {
     "name": "stderr",
     "output_type": "stream",
     "text": []
    },
    {
     "name": "stdout",
     "output_type": "stream",
     "text": [
      "\n",
      "Image analyzed: Plate09_Nuc_Wells-C11__Channel_SD_AF647,SD_RFP,SD_GFP,SD_DAPI,SD_BF,SD_NIR\n",
      "\n",
      "Detecting infection load...\n",
      "Total cells: 2325\n",
      "Percentage infected:23.44\n",
      "Extracting per marker intensity information...\n",
      "Detecting spots in puncta markers...\n"
     ]
    },
    {
     "name": "stderr",
     "output_type": "stream",
     "text": []
    },
    {
     "name": "stdout",
     "output_type": "stream",
     "text": [
      "\n",
      "Image analyzed: Plate09_Nuc_Wells-C12__Channel_SD_AF647,SD_RFP,SD_GFP,SD_DAPI,SD_BF,SD_NIR\n",
      "\n",
      "Detecting infection load...\n",
      "Total cells: 1675\n",
      "Percentage infected:23.82\n",
      "Extracting per marker intensity information...\n",
      "Detecting spots in puncta markers...\n"
     ]
    },
    {
     "name": "stderr",
     "output_type": "stream",
     "text": []
    },
    {
     "name": "stdout",
     "output_type": "stream",
     "text": [
      "\n",
      "Image analyzed: Plate09_Nuc_Wells-D1__Channel_SD_AF647,SD_RFP,SD_GFP,SD_DAPI,SD_BF,SD_NIR\n",
      "\n",
      "Detecting infection load...\n",
      "Total cells: 2961\n",
      "Percentage infected:29.48\n",
      "Extracting per marker intensity information...\n",
      "Detecting spots in puncta markers...\n"
     ]
    },
    {
     "name": "stderr",
     "output_type": "stream",
     "text": []
    },
    {
     "name": "stdout",
     "output_type": "stream",
     "text": [
      "\n",
      "Image analyzed: Plate09_Nuc_Wells-D2__Channel_SD_AF647,SD_RFP,SD_GFP,SD_DAPI,SD_BF,SD_NIR\n",
      "\n",
      "Detecting infection load...\n",
      "Total cells: 3168\n",
      "Percentage infected:30.84\n",
      "Extracting per marker intensity information...\n",
      "Detecting spots in puncta markers...\n"
     ]
    },
    {
     "name": "stderr",
     "output_type": "stream",
     "text": []
    },
    {
     "name": "stdout",
     "output_type": "stream",
     "text": [
      "\n",
      "Image analyzed: Plate09_Nuc_Wells-D3__Channel_SD_AF647,SD_RFP,SD_GFP,SD_DAPI,SD_BF,SD_NIR\n",
      "\n",
      "Detecting infection load...\n",
      "Total cells: 3268\n",
      "Percentage infected:29.8\n",
      "Extracting per marker intensity information...\n",
      "Detecting spots in puncta markers...\n"
     ]
    },
    {
     "name": "stderr",
     "output_type": "stream",
     "text": []
    },
    {
     "name": "stdout",
     "output_type": "stream",
     "text": [
      "\n",
      "Image analyzed: Plate09_Nuc_Wells-D4__Channel_SD_AF647,SD_RFP,SD_GFP,SD_DAPI,SD_BF,SD_NIR\n",
      "\n",
      "Detecting infection load...\n",
      "Total cells: 2858\n",
      "Percentage infected:31.32\n",
      "Extracting per marker intensity information...\n",
      "Detecting spots in puncta markers...\n"
     ]
    },
    {
     "name": "stderr",
     "output_type": "stream",
     "text": []
    },
    {
     "name": "stdout",
     "output_type": "stream",
     "text": [
      "\n",
      "Image analyzed: Plate09_Nuc_Wells-D5__Channel_SD_AF647,SD_RFP,SD_GFP,SD_DAPI,SD_BF,SD_NIR\n",
      "\n",
      "Detecting infection load...\n",
      "Total cells: 2920\n",
      "Percentage infected:29.25\n",
      "Extracting per marker intensity information...\n",
      "Detecting spots in puncta markers...\n"
     ]
    },
    {
     "name": "stderr",
     "output_type": "stream",
     "text": []
    },
    {
     "name": "stdout",
     "output_type": "stream",
     "text": [
      "\n",
      "Image analyzed: Plate09_Nuc_Wells-D6__Channel_SD_AF647,SD_RFP,SD_GFP,SD_DAPI,SD_BF,SD_NIR\n",
      "\n",
      "Detecting infection load...\n",
      "Total cells: 2509\n",
      "Percentage infected:29.69\n",
      "Extracting per marker intensity information...\n",
      "Detecting spots in puncta markers...\n"
     ]
    },
    {
     "name": "stderr",
     "output_type": "stream",
     "text": []
    },
    {
     "name": "stdout",
     "output_type": "stream",
     "text": [
      "\n",
      "Image analyzed: Plate09_Nuc_Wells-D7__Channel_SD_AF647,SD_RFP,SD_GFP,SD_DAPI,SD_BF,SD_NIR\n",
      "\n",
      "Detecting infection load...\n",
      "Total cells: 2084\n",
      "Percentage infected:27.64\n",
      "Extracting per marker intensity information...\n",
      "Detecting spots in puncta markers...\n"
     ]
    },
    {
     "name": "stderr",
     "output_type": "stream",
     "text": []
    },
    {
     "name": "stdout",
     "output_type": "stream",
     "text": [
      "\n",
      "Image analyzed: Plate09_Nuc_Wells-D8__Channel_SD_AF647,SD_RFP,SD_GFP,SD_DAPI,SD_BF,SD_NIR\n",
      "\n",
      "Detecting infection load...\n",
      "Total cells: 1985\n",
      "Percentage infected:30.23\n",
      "Extracting per marker intensity information...\n",
      "Detecting spots in puncta markers...\n"
     ]
    },
    {
     "name": "stderr",
     "output_type": "stream",
     "text": []
    },
    {
     "name": "stdout",
     "output_type": "stream",
     "text": [
      "\n",
      "Image analyzed: Plate09_Nuc_Wells-D9__Channel_SD_AF647,SD_RFP,SD_GFP,SD_DAPI,SD_BF,SD_NIR\n",
      "\n",
      "Detecting infection load...\n",
      "Total cells: 2130\n",
      "Percentage infected:29.81\n",
      "Extracting per marker intensity information...\n",
      "Detecting spots in puncta markers...\n"
     ]
    },
    {
     "name": "stderr",
     "output_type": "stream",
     "text": []
    },
    {
     "name": "stdout",
     "output_type": "stream",
     "text": [
      "\n",
      "Image analyzed: Plate09_Nuc_Wells-D10__Channel_SD_AF647,SD_RFP,SD_GFP,SD_DAPI,SD_BF,SD_NIR\n",
      "\n",
      "Detecting infection load...\n",
      "Total cells: 2592\n",
      "Percentage infected:21.1\n",
      "Extracting per marker intensity information...\n",
      "Detecting spots in puncta markers...\n"
     ]
    },
    {
     "name": "stderr",
     "output_type": "stream",
     "text": []
    },
    {
     "name": "stdout",
     "output_type": "stream",
     "text": [
      "\n",
      "Image analyzed: Plate09_Nuc_Wells-D11__Channel_SD_AF647,SD_RFP,SD_GFP,SD_DAPI,SD_BF,SD_NIR\n",
      "\n",
      "Detecting infection load...\n",
      "Total cells: 1664\n",
      "Percentage infected:19.95\n",
      "Extracting per marker intensity information...\n",
      "Detecting spots in puncta markers...\n"
     ]
    },
    {
     "name": "stderr",
     "output_type": "stream",
     "text": []
    },
    {
     "name": "stdout",
     "output_type": "stream",
     "text": [
      "\n",
      "Image analyzed: Plate09_Nuc_Wells-D12__Channel_SD_AF647,SD_RFP,SD_GFP,SD_DAPI,SD_BF,SD_NIR\n",
      "\n",
      "Detecting infection load...\n",
      "Total cells: 2385\n",
      "Percentage infected:21.93\n",
      "Extracting per marker intensity information...\n",
      "Detecting spots in puncta markers...\n"
     ]
    },
    {
     "name": "stderr",
     "output_type": "stream",
     "text": []
    },
    {
     "name": "stdout",
     "output_type": "stream",
     "text": [
      "\n",
      "Image analyzed: Plate09_Nuc_Wells-E1__Channel_SD_AF647,SD_RFP,SD_GFP,SD_DAPI,SD_BF,SD_NIR\n",
      "\n",
      "Detecting infection load...\n",
      "Total cells: 2452\n",
      "Percentage infected:24.76\n",
      "Extracting per marker intensity information...\n",
      "Detecting spots in puncta markers...\n"
     ]
    },
    {
     "name": "stderr",
     "output_type": "stream",
     "text": []
    },
    {
     "name": "stdout",
     "output_type": "stream",
     "text": [
      "\n",
      "Image analyzed: Plate09_Nuc_Wells-E2__Channel_SD_AF647,SD_RFP,SD_GFP,SD_DAPI,SD_BF,SD_NIR\n",
      "\n",
      "Detecting infection load...\n",
      "Total cells: 3150\n",
      "Percentage infected:29.87\n",
      "Extracting per marker intensity information...\n",
      "Detecting spots in puncta markers...\n"
     ]
    },
    {
     "name": "stderr",
     "output_type": "stream",
     "text": []
    },
    {
     "name": "stdout",
     "output_type": "stream",
     "text": [
      "\n",
      "Image analyzed: Plate09_Nuc_Wells-E3__Channel_SD_AF647,SD_RFP,SD_GFP,SD_DAPI,SD_BF,SD_NIR\n",
      "\n",
      "Detecting infection load...\n",
      "Total cells: 2954\n",
      "Percentage infected:28.2\n",
      "Extracting per marker intensity information...\n",
      "Detecting spots in puncta markers...\n"
     ]
    },
    {
     "name": "stderr",
     "output_type": "stream",
     "text": []
    },
    {
     "name": "stdout",
     "output_type": "stream",
     "text": [
      "\n",
      "Image analyzed: Plate09_Nuc_Wells-E4__Channel_SD_AF647,SD_RFP,SD_GFP,SD_DAPI,SD_BF,SD_NIR\n",
      "\n",
      "Detecting infection load...\n",
      "Total cells: 3508\n",
      "Percentage infected:31.44\n",
      "Extracting per marker intensity information...\n",
      "Detecting spots in puncta markers...\n"
     ]
    },
    {
     "name": "stderr",
     "output_type": "stream",
     "text": []
    },
    {
     "name": "stdout",
     "output_type": "stream",
     "text": [
      "\n",
      "Image analyzed: Plate09_Nuc_Wells-E5__Channel_SD_AF647,SD_RFP,SD_GFP,SD_DAPI,SD_BF,SD_NIR\n",
      "\n",
      "Detecting infection load...\n",
      "Total cells: 2733\n",
      "Percentage infected:26.67\n",
      "Extracting per marker intensity information...\n",
      "Detecting spots in puncta markers...\n"
     ]
    },
    {
     "name": "stderr",
     "output_type": "stream",
     "text": []
    },
    {
     "name": "stdout",
     "output_type": "stream",
     "text": [
      "\n",
      "Image analyzed: Plate09_Nuc_Wells-E6__Channel_SD_AF647,SD_RFP,SD_GFP,SD_DAPI,SD_BF,SD_NIR\n",
      "\n",
      "Detecting infection load...\n",
      "Total cells: 3192\n",
      "Percentage infected:29.64\n",
      "Extracting per marker intensity information...\n",
      "Detecting spots in puncta markers...\n"
     ]
    },
    {
     "name": "stderr",
     "output_type": "stream",
     "text": []
    },
    {
     "name": "stdout",
     "output_type": "stream",
     "text": [
      "\n",
      "Image analyzed: Plate09_Nuc_Wells-E7__Channel_SD_AF647,SD_RFP,SD_GFP,SD_DAPI,SD_BF,SD_NIR\n",
      "\n",
      "Detecting infection load...\n",
      "Total cells: 2709\n",
      "Percentage infected:28.42\n",
      "Extracting per marker intensity information...\n",
      "Detecting spots in puncta markers...\n"
     ]
    },
    {
     "name": "stderr",
     "output_type": "stream",
     "text": []
    },
    {
     "name": "stdout",
     "output_type": "stream",
     "text": [
      "\n",
      "Image analyzed: Plate09_Nuc_Wells-E8__Channel_SD_AF647,SD_RFP,SD_GFP,SD_DAPI,SD_BF,SD_NIR\n",
      "\n",
      "Detecting infection load...\n",
      "Total cells: 3072\n",
      "Percentage infected:31.64\n",
      "Extracting per marker intensity information...\n",
      "Detecting spots in puncta markers...\n"
     ]
    },
    {
     "name": "stderr",
     "output_type": "stream",
     "text": []
    },
    {
     "name": "stdout",
     "output_type": "stream",
     "text": [
      "\n",
      "Image analyzed: Plate09_Nuc_Wells-E9__Channel_SD_AF647,SD_RFP,SD_GFP,SD_DAPI,SD_BF,SD_NIR\n",
      "\n",
      "Detecting infection load...\n",
      "Total cells: 2921\n",
      "Percentage infected:30.85\n",
      "Extracting per marker intensity information...\n",
      "Detecting spots in puncta markers...\n"
     ]
    },
    {
     "name": "stderr",
     "output_type": "stream",
     "text": []
    },
    {
     "name": "stdout",
     "output_type": "stream",
     "text": [
      "\n",
      "Image analyzed: Plate09_Nuc_Wells-E10__Channel_SD_AF647,SD_RFP,SD_GFP,SD_DAPI,SD_BF,SD_NIR\n",
      "\n",
      "Detecting infection load...\n",
      "Total cells: 2629\n",
      "Percentage infected:20.35\n",
      "Extracting per marker intensity information...\n",
      "Detecting spots in puncta markers...\n"
     ]
    },
    {
     "name": "stderr",
     "output_type": "stream",
     "text": []
    },
    {
     "name": "stdout",
     "output_type": "stream",
     "text": [
      "\n",
      "Image analyzed: Plate09_Nuc_Wells-E11__Channel_SD_AF647,SD_RFP,SD_GFP,SD_DAPI,SD_BF,SD_NIR\n",
      "\n",
      "Detecting infection load...\n",
      "Total cells: 2476\n",
      "Percentage infected:18.54\n",
      "Extracting per marker intensity information...\n",
      "Detecting spots in puncta markers...\n"
     ]
    },
    {
     "name": "stderr",
     "output_type": "stream",
     "text": []
    },
    {
     "name": "stdout",
     "output_type": "stream",
     "text": [
      "\n",
      "Image analyzed: Plate09_Nuc_Wells-E12__Channel_SD_AF647,SD_RFP,SD_GFP,SD_DAPI,SD_BF,SD_NIR\n",
      "\n",
      "Detecting infection load...\n",
      "Total cells: 2898\n",
      "Percentage infected:27.12\n",
      "Extracting per marker intensity information...\n",
      "Detecting spots in puncta markers...\n"
     ]
    },
    {
     "name": "stderr",
     "output_type": "stream",
     "text": []
    },
    {
     "name": "stdout",
     "output_type": "stream",
     "text": [
      "\n",
      "Image analyzed: Plate09_Nuc_Wells-F1__Channel_SD_AF647,SD_RFP,SD_GFP,SD_DAPI,SD_BF,SD_NIR\n",
      "\n",
      "Detecting infection load...\n",
      "Total cells: 2517\n",
      "Percentage infected:24.27\n",
      "Extracting per marker intensity information...\n",
      "Detecting spots in puncta markers...\n"
     ]
    },
    {
     "name": "stderr",
     "output_type": "stream",
     "text": []
    },
    {
     "name": "stdout",
     "output_type": "stream",
     "text": [
      "\n",
      "Image analyzed: Plate09_Nuc_Wells-F2__Channel_SD_AF647,SD_RFP,SD_GFP,SD_DAPI,SD_BF,SD_NIR\n",
      "\n",
      "Detecting infection load...\n",
      "Total cells: 3502\n",
      "Percentage infected:27.87\n",
      "Extracting per marker intensity information...\n",
      "Detecting spots in puncta markers...\n"
     ]
    },
    {
     "name": "stderr",
     "output_type": "stream",
     "text": []
    },
    {
     "name": "stdout",
     "output_type": "stream",
     "text": [
      "\n",
      "Image analyzed: Plate09_Nuc_Wells-F3__Channel_SD_AF647,SD_RFP,SD_GFP,SD_DAPI,SD_BF,SD_NIR\n",
      "\n",
      "Detecting infection load...\n",
      "Total cells: 3485\n",
      "Percentage infected:27.12\n",
      "Extracting per marker intensity information...\n",
      "Detecting spots in puncta markers...\n"
     ]
    },
    {
     "name": "stderr",
     "output_type": "stream",
     "text": []
    },
    {
     "name": "stdout",
     "output_type": "stream",
     "text": [
      "\n",
      "Image analyzed: Plate09_Nuc_Wells-F4__Channel_SD_AF647,SD_RFP,SD_GFP,SD_DAPI,SD_BF,SD_NIR\n",
      "\n",
      "Detecting infection load...\n",
      "Total cells: 3518\n",
      "Percentage infected:28.0\n",
      "Extracting per marker intensity information...\n",
      "Detecting spots in puncta markers...\n"
     ]
    },
    {
     "name": "stderr",
     "output_type": "stream",
     "text": []
    },
    {
     "name": "stdout",
     "output_type": "stream",
     "text": [
      "\n",
      "Image analyzed: Plate09_Nuc_Wells-F5__Channel_SD_AF647,SD_RFP,SD_GFP,SD_DAPI,SD_BF,SD_NIR\n",
      "\n",
      "Detecting infection load...\n",
      "Total cells: 3561\n",
      "Percentage infected:25.39\n",
      "Extracting per marker intensity information...\n",
      "Detecting spots in puncta markers...\n"
     ]
    },
    {
     "name": "stderr",
     "output_type": "stream",
     "text": []
    },
    {
     "name": "stdout",
     "output_type": "stream",
     "text": [
      "\n",
      "Image analyzed: Plate09_Nuc_Wells-F6__Channel_SD_AF647,SD_RFP,SD_GFP,SD_DAPI,SD_BF,SD_NIR\n",
      "\n",
      "Detecting infection load...\n",
      "Total cells: 3600\n",
      "Percentage infected:31.47\n",
      "Extracting per marker intensity information...\n",
      "Detecting spots in puncta markers...\n"
     ]
    },
    {
     "name": "stderr",
     "output_type": "stream",
     "text": []
    },
    {
     "name": "stdout",
     "output_type": "stream",
     "text": [
      "\n",
      "Image analyzed: Plate09_Nuc_Wells-F7__Channel_SD_AF647,SD_RFP,SD_GFP,SD_DAPI,SD_BF,SD_NIR\n",
      "\n",
      "Detecting infection load...\n",
      "Total cells: 3205\n",
      "Percentage infected:28.14\n",
      "Extracting per marker intensity information...\n",
      "Detecting spots in puncta markers...\n"
     ]
    },
    {
     "name": "stderr",
     "output_type": "stream",
     "text": []
    },
    {
     "name": "stdout",
     "output_type": "stream",
     "text": [
      "\n",
      "Image analyzed: Plate09_Nuc_Wells-F8__Channel_SD_AF647,SD_RFP,SD_GFP,SD_DAPI,SD_BF,SD_NIR\n",
      "\n",
      "Detecting infection load...\n",
      "Total cells: 3146\n",
      "Percentage infected:28.48\n",
      "Extracting per marker intensity information...\n",
      "Detecting spots in puncta markers...\n"
     ]
    },
    {
     "name": "stderr",
     "output_type": "stream",
     "text": []
    },
    {
     "name": "stdout",
     "output_type": "stream",
     "text": [
      "\n",
      "Image analyzed: Plate09_Nuc_Wells-F9__Channel_SD_AF647,SD_RFP,SD_GFP,SD_DAPI,SD_BF,SD_NIR\n",
      "\n",
      "Detecting infection load...\n",
      "Total cells: 2768\n",
      "Percentage infected:30.71\n",
      "Extracting per marker intensity information...\n",
      "Detecting spots in puncta markers...\n"
     ]
    },
    {
     "name": "stderr",
     "output_type": "stream",
     "text": []
    },
    {
     "name": "stdout",
     "output_type": "stream",
     "text": [
      "\n",
      "Image analyzed: Plate09_Nuc_Wells-F10__Channel_SD_AF647,SD_RFP,SD_GFP,SD_DAPI,SD_BF,SD_NIR\n",
      "\n",
      "Detecting infection load...\n",
      "Total cells: 2985\n",
      "Percentage infected:24.09\n",
      "Extracting per marker intensity information...\n",
      "Detecting spots in puncta markers...\n"
     ]
    },
    {
     "name": "stderr",
     "output_type": "stream",
     "text": []
    },
    {
     "name": "stdout",
     "output_type": "stream",
     "text": [
      "\n",
      "Image analyzed: Plate09_Nuc_Wells-F11__Channel_SD_AF647,SD_RFP,SD_GFP,SD_DAPI,SD_BF,SD_NIR\n",
      "\n",
      "Detecting infection load...\n",
      "Total cells: 2531\n",
      "Percentage infected:24.77\n",
      "Extracting per marker intensity information...\n",
      "Detecting spots in puncta markers...\n"
     ]
    },
    {
     "name": "stderr",
     "output_type": "stream",
     "text": []
    },
    {
     "name": "stdout",
     "output_type": "stream",
     "text": [
      "\n",
      "Image analyzed: Plate09_Nuc_Wells-F12__Channel_SD_AF647,SD_RFP,SD_GFP,SD_DAPI,SD_BF,SD_NIR\n",
      "\n",
      "Detecting infection load...\n",
      "Total cells: 2968\n",
      "Percentage infected:21.16\n",
      "Extracting per marker intensity information...\n",
      "Detecting spots in puncta markers...\n"
     ]
    },
    {
     "name": "stderr",
     "output_type": "stream",
     "text": []
    },
    {
     "name": "stdout",
     "output_type": "stream",
     "text": [
      "\n",
      "Image analyzed: Plate09_Nuc_Wells-G1__Channel_SD_AF647,SD_RFP,SD_GFP,SD_DAPI,SD_BF,SD_NIR\n",
      "\n",
      "Detecting infection load...\n",
      "Total cells: 3691\n",
      "Percentage infected:22.43\n",
      "Extracting per marker intensity information...\n",
      "Detecting spots in puncta markers...\n"
     ]
    },
    {
     "name": "stderr",
     "output_type": "stream",
     "text": []
    },
    {
     "name": "stdout",
     "output_type": "stream",
     "text": [
      "\n",
      "Image analyzed: Plate09_Nuc_Wells-G2__Channel_SD_AF647,SD_RFP,SD_GFP,SD_DAPI,SD_BF,SD_NIR\n",
      "\n",
      "Detecting infection load...\n",
      "Total cells: 3273\n",
      "Percentage infected:22.91\n",
      "Extracting per marker intensity information...\n",
      "Detecting spots in puncta markers...\n"
     ]
    },
    {
     "name": "stderr",
     "output_type": "stream",
     "text": []
    },
    {
     "name": "stdout",
     "output_type": "stream",
     "text": [
      "\n",
      "Image analyzed: Plate09_Nuc_Wells-G3__Channel_SD_AF647,SD_RFP,SD_GFP,SD_DAPI,SD_BF,SD_NIR\n",
      "\n",
      "Detecting infection load...\n",
      "Total cells: 3717\n",
      "Percentage infected:24.54\n",
      "Extracting per marker intensity information...\n",
      "Detecting spots in puncta markers...\n"
     ]
    },
    {
     "name": "stderr",
     "output_type": "stream",
     "text": []
    },
    {
     "name": "stdout",
     "output_type": "stream",
     "text": [
      "\n",
      "Image analyzed: Plate09_Nuc_Wells-G4__Channel_SD_AF647,SD_RFP,SD_GFP,SD_DAPI,SD_BF,SD_NIR\n",
      "\n",
      "Detecting infection load...\n",
      "Total cells: 3685\n",
      "Percentage infected:25.94\n",
      "Extracting per marker intensity information...\n",
      "Detecting spots in puncta markers...\n"
     ]
    },
    {
     "name": "stderr",
     "output_type": "stream",
     "text": []
    },
    {
     "name": "stdout",
     "output_type": "stream",
     "text": [
      "\n",
      "Image analyzed: Plate09_Nuc_Wells-G5__Channel_SD_AF647,SD_RFP,SD_GFP,SD_DAPI,SD_BF,SD_NIR\n",
      "\n",
      "Detecting infection load...\n",
      "Total cells: 3726\n",
      "Percentage infected:26.73\n",
      "Extracting per marker intensity information...\n",
      "Detecting spots in puncta markers...\n"
     ]
    },
    {
     "name": "stderr",
     "output_type": "stream",
     "text": []
    },
    {
     "name": "stdout",
     "output_type": "stream",
     "text": [
      "\n",
      "Image analyzed: Plate09_Nuc_Wells-G6__Channel_SD_AF647,SD_RFP,SD_GFP,SD_DAPI,SD_BF,SD_NIR\n",
      "\n",
      "Detecting infection load...\n",
      "Total cells: 3420\n",
      "Percentage infected:28.42\n",
      "Extracting per marker intensity information...\n",
      "Detecting spots in puncta markers...\n"
     ]
    },
    {
     "name": "stderr",
     "output_type": "stream",
     "text": []
    },
    {
     "name": "stdout",
     "output_type": "stream",
     "text": [
      "\n",
      "Image analyzed: Plate09_Nuc_Wells-G7__Channel_SD_AF647,SD_RFP,SD_GFP,SD_DAPI,SD_BF,SD_NIR\n",
      "\n",
      "Detecting infection load...\n",
      "Total cells: 3089\n",
      "Percentage infected:31.27\n",
      "Extracting per marker intensity information...\n",
      "Detecting spots in puncta markers...\n"
     ]
    },
    {
     "name": "stderr",
     "output_type": "stream",
     "text": []
    },
    {
     "name": "stdout",
     "output_type": "stream",
     "text": [
      "\n",
      "Image analyzed: Plate09_Nuc_Wells-G8__Channel_SD_AF647,SD_RFP,SD_GFP,SD_DAPI,SD_BF,SD_NIR\n",
      "\n",
      "Detecting infection load...\n",
      "Total cells: 2922\n",
      "Percentage infected:30.66\n",
      "Extracting per marker intensity information...\n",
      "Detecting spots in puncta markers...\n"
     ]
    },
    {
     "name": "stderr",
     "output_type": "stream",
     "text": []
    },
    {
     "name": "stdout",
     "output_type": "stream",
     "text": [
      "\n",
      "Image analyzed: Plate09_Nuc_Wells-G9__Channel_SD_AF647,SD_RFP,SD_GFP,SD_DAPI,SD_BF,SD_NIR\n",
      "\n",
      "Detecting infection load...\n",
      "Total cells: 2535\n",
      "Percentage infected:31.72\n",
      "Extracting per marker intensity information...\n",
      "Detecting spots in puncta markers...\n"
     ]
    },
    {
     "name": "stderr",
     "output_type": "stream",
     "text": []
    },
    {
     "name": "stdout",
     "output_type": "stream",
     "text": [
      "\n",
      "Image analyzed: Plate09_Nuc_Wells-G10__Channel_SD_AF647,SD_RFP,SD_GFP,SD_DAPI,SD_BF,SD_NIR\n",
      "\n",
      "Detecting infection load...\n",
      "Total cells: 2967\n",
      "Percentage infected:29.29\n",
      "Extracting per marker intensity information...\n",
      "Detecting spots in puncta markers...\n"
     ]
    },
    {
     "name": "stderr",
     "output_type": "stream",
     "text": []
    },
    {
     "name": "stdout",
     "output_type": "stream",
     "text": [
      "\n",
      "Image analyzed: Plate09_Nuc_Wells-G11__Channel_SD_AF647,SD_RFP,SD_GFP,SD_DAPI,SD_BF,SD_NIR\n",
      "\n",
      "Detecting infection load...\n",
      "Total cells: 2168\n",
      "Percentage infected:27.49\n",
      "Extracting per marker intensity information...\n",
      "Detecting spots in puncta markers...\n"
     ]
    },
    {
     "name": "stderr",
     "output_type": "stream",
     "text": []
    },
    {
     "name": "stdout",
     "output_type": "stream",
     "text": [
      "\n",
      "Image analyzed: Plate09_Nuc_Wells-G12__Channel_SD_AF647,SD_RFP,SD_GFP,SD_DAPI,SD_BF,SD_NIR\n",
      "\n",
      "Detecting infection load...\n",
      "Total cells: 2678\n",
      "Percentage infected:22.33\n",
      "Extracting per marker intensity information...\n",
      "Detecting spots in puncta markers...\n"
     ]
    },
    {
     "name": "stderr",
     "output_type": "stream",
     "text": []
    },
    {
     "name": "stdout",
     "output_type": "stream",
     "text": [
      "\n",
      "Image analyzed: Plate09_Nuc_Wells-H1__Channel_SD_AF647,SD_RFP,SD_GFP,SD_DAPI,SD_BF,SD_NIR\n",
      "\n",
      "Detecting infection load...\n",
      "Total cells: 3880\n",
      "Percentage infected:0.1\n",
      "Extracting per marker intensity information...\n",
      "Detecting spots in puncta markers...\n"
     ]
    },
    {
     "name": "stderr",
     "output_type": "stream",
     "text": []
    },
    {
     "name": "stdout",
     "output_type": "stream",
     "text": [
      "\n",
      "Image analyzed: Plate09_Nuc_Wells-H2__Channel_SD_AF647,SD_RFP,SD_GFP,SD_DAPI,SD_BF,SD_NIR\n",
      "\n",
      "Detecting infection load...\n",
      "Total cells: 3086\n",
      "Percentage infected:23.95\n",
      "Extracting per marker intensity information...\n",
      "Detecting spots in puncta markers...\n"
     ]
    },
    {
     "name": "stderr",
     "output_type": "stream",
     "text": []
    },
    {
     "name": "stdout",
     "output_type": "stream",
     "text": [
      "\n",
      "Image analyzed: Plate09_Nuc_Wells-H3__Channel_SD_AF647,SD_RFP,SD_GFP,SD_DAPI,SD_BF,SD_NIR\n",
      "\n",
      "Detecting infection load...\n",
      "Total cells: 3867\n",
      "Percentage infected:23.84\n",
      "Extracting per marker intensity information...\n",
      "Detecting spots in puncta markers...\n"
     ]
    },
    {
     "name": "stderr",
     "output_type": "stream",
     "text": []
    },
    {
     "name": "stdout",
     "output_type": "stream",
     "text": [
      "\n",
      "Image analyzed: Plate09_Nuc_Wells-H4__Channel_SD_AF647,SD_RFP,SD_GFP,SD_DAPI,SD_BF,SD_NIR\n",
      "\n",
      "Detecting infection load...\n",
      "Total cells: 3565\n",
      "Percentage infected:28.61\n",
      "Extracting per marker intensity information...\n",
      "Detecting spots in puncta markers...\n"
     ]
    },
    {
     "name": "stderr",
     "output_type": "stream",
     "text": []
    },
    {
     "name": "stdout",
     "output_type": "stream",
     "text": [
      "\n",
      "Image analyzed: Plate09_Nuc_Wells-H5__Channel_SD_AF647,SD_RFP,SD_GFP,SD_DAPI,SD_BF,SD_NIR\n",
      "\n",
      "Detecting infection load...\n",
      "Total cells: 3755\n",
      "Percentage infected:25.97\n",
      "Extracting per marker intensity information...\n",
      "Detecting spots in puncta markers...\n"
     ]
    },
    {
     "name": "stderr",
     "output_type": "stream",
     "text": []
    },
    {
     "name": "stdout",
     "output_type": "stream",
     "text": [
      "\n",
      "Image analyzed: Plate09_Nuc_Wells-H6__Channel_SD_AF647,SD_RFP,SD_GFP,SD_DAPI,SD_BF,SD_NIR\n",
      "\n",
      "Detecting infection load...\n",
      "Total cells: 4172\n",
      "Percentage infected:27.56\n",
      "Extracting per marker intensity information...\n",
      "Detecting spots in puncta markers...\n"
     ]
    },
    {
     "name": "stderr",
     "output_type": "stream",
     "text": []
    },
    {
     "name": "stdout",
     "output_type": "stream",
     "text": [
      "\n",
      "Image analyzed: Plate09_Nuc_Wells-H7__Channel_SD_AF647,SD_RFP,SD_GFP,SD_DAPI,SD_BF,SD_NIR\n",
      "\n",
      "Detecting infection load...\n",
      "Total cells: 3120\n",
      "Percentage infected:27.95\n",
      "Extracting per marker intensity information...\n",
      "Detecting spots in puncta markers...\n"
     ]
    },
    {
     "name": "stderr",
     "output_type": "stream",
     "text": []
    },
    {
     "name": "stdout",
     "output_type": "stream",
     "text": [
      "\n",
      "Image analyzed: Plate09_Nuc_Wells-H8__Channel_SD_AF647,SD_RFP,SD_GFP,SD_DAPI,SD_BF,SD_NIR\n",
      "\n",
      "Detecting infection load...\n",
      "Total cells: 3407\n",
      "Percentage infected:24.39\n",
      "Extracting per marker intensity information...\n",
      "Detecting spots in puncta markers...\n"
     ]
    },
    {
     "name": "stderr",
     "output_type": "stream",
     "text": []
    },
    {
     "name": "stdout",
     "output_type": "stream",
     "text": [
      "\n",
      "Image analyzed: Plate09_Nuc_Wells-H9__Channel_SD_AF647,SD_RFP,SD_GFP,SD_DAPI,SD_BF,SD_NIR\n",
      "\n",
      "Detecting infection load...\n",
      "Total cells: 2942\n",
      "Percentage infected:29.84\n",
      "Extracting per marker intensity information...\n",
      "Detecting spots in puncta markers...\n"
     ]
    },
    {
     "name": "stderr",
     "output_type": "stream",
     "text": []
    },
    {
     "name": "stdout",
     "output_type": "stream",
     "text": [
      "\n",
      "Image analyzed: Plate09_Nuc_Wells-H10__Channel_SD_AF647,SD_RFP,SD_GFP,SD_DAPI,SD_BF,SD_NIR\n",
      "\n",
      "Detecting infection load...\n",
      "Total cells: 2991\n",
      "Percentage infected:29.35\n",
      "Extracting per marker intensity information...\n",
      "Detecting spots in puncta markers...\n"
     ]
    },
    {
     "name": "stderr",
     "output_type": "stream",
     "text": []
    },
    {
     "name": "stdout",
     "output_type": "stream",
     "text": [
      "\n",
      "Image analyzed: Plate09_Nuc_Wells-H11__Channel_SD_AF647,SD_RFP,SD_GFP,SD_DAPI,SD_BF,SD_NIR\n",
      "\n",
      "Detecting infection load...\n",
      "Total cells: 2635\n",
      "Percentage infected:24.93\n",
      "Extracting per marker intensity information...\n",
      "Detecting spots in puncta markers...\n"
     ]
    },
    {
     "name": "stderr",
     "output_type": "stream",
     "text": []
    },
    {
     "name": "stdout",
     "output_type": "stream",
     "text": [
      "\n",
      "Image analyzed: Plate09_Nuc_Wells-H12__Channel_SD_AF647,SD_RFP,SD_GFP,SD_DAPI,SD_BF,SD_NIR\n",
      "\n",
      "Detecting infection load...\n",
      "Total cells: 2982\n",
      "Percentage infected:18.98\n",
      "Extracting per marker intensity information...\n",
      "Detecting spots in puncta markers...\n"
     ]
    },
    {
     "name": "stderr",
     "output_type": "stream",
     "text": []
    },
    {
     "name": "stdout",
     "output_type": "stream",
     "text": [
      "\n",
      "Image analyzed: Plate09_Nuc_Wells-A1__Channel_SD_AF647,SD_RFP,SD_GFP,SD_DAPI,SD_BF,SD_NIR\n",
      "\n",
      "Detecting infection load...\n",
      "Total cells: 3298\n",
      "Percentage infected:22.2\n",
      "Extracting per marker intensity information...\n",
      "Detecting spots in puncta markers...\n"
     ]
    },
    {
     "name": "stderr",
     "output_type": "stream",
     "text": []
    },
    {
     "name": "stdout",
     "output_type": "stream",
     "text": [
      "\n",
      "Image analyzed: Plate09_Nuc_Wells-A2__Channel_SD_AF647,SD_RFP,SD_GFP,SD_DAPI,SD_BF,SD_NIR\n",
      "\n",
      "Detecting infection load...\n",
      "Total cells: 3401\n",
      "Percentage infected:26.99\n",
      "Extracting per marker intensity information...\n",
      "Detecting spots in puncta markers...\n"
     ]
    },
    {
     "name": "stderr",
     "output_type": "stream",
     "text": []
    },
    {
     "name": "stdout",
     "output_type": "stream",
     "text": [
      "\n",
      "Image analyzed: Plate09_Nuc_Wells-A3__Channel_SD_AF647,SD_RFP,SD_GFP,SD_DAPI,SD_BF,SD_NIR\n",
      "\n",
      "Detecting infection load...\n",
      "Total cells: 3750\n",
      "Percentage infected:27.41\n",
      "Extracting per marker intensity information...\n",
      "Detecting spots in puncta markers...\n"
     ]
    },
    {
     "name": "stderr",
     "output_type": "stream",
     "text": []
    },
    {
     "name": "stdout",
     "output_type": "stream",
     "text": [
      "\n",
      "Image analyzed: Plate09_Nuc_Wells-A4__Channel_SD_AF647,SD_RFP,SD_GFP,SD_DAPI,SD_BF,SD_NIR\n",
      "\n",
      "Detecting infection load...\n",
      "Total cells: 3675\n",
      "Percentage infected:28.52\n",
      "Extracting per marker intensity information...\n",
      "Detecting spots in puncta markers...\n"
     ]
    },
    {
     "name": "stderr",
     "output_type": "stream",
     "text": []
    },
    {
     "name": "stdout",
     "output_type": "stream",
     "text": [
      "\n",
      "Image analyzed: Plate09_Nuc_Wells-A5__Channel_SD_AF647,SD_RFP,SD_GFP,SD_DAPI,SD_BF,SD_NIR\n",
      "\n",
      "Detecting infection load...\n",
      "Total cells: 4098\n",
      "Percentage infected:28.53\n",
      "Extracting per marker intensity information...\n",
      "Detecting spots in puncta markers...\n"
     ]
    },
    {
     "name": "stderr",
     "output_type": "stream",
     "text": []
    },
    {
     "name": "stdout",
     "output_type": "stream",
     "text": [
      "\n",
      "Image analyzed: Plate09_Nuc_Wells-A6__Channel_SD_AF647,SD_RFP,SD_GFP,SD_DAPI,SD_BF,SD_NIR\n",
      "\n",
      "Detecting infection load...\n",
      "Total cells: 4434\n",
      "Percentage infected:26.41\n",
      "Extracting per marker intensity information...\n",
      "Detecting spots in puncta markers...\n"
     ]
    },
    {
     "name": "stderr",
     "output_type": "stream",
     "text": []
    },
    {
     "name": "stdout",
     "output_type": "stream",
     "text": [
      "\n",
      "Image analyzed: Plate09_Nuc_Wells-A7__Channel_SD_AF647,SD_RFP,SD_GFP,SD_DAPI,SD_BF,SD_NIR\n",
      "\n",
      "Detecting infection load...\n",
      "Total cells: 3759\n",
      "Percentage infected:27.4\n",
      "Extracting per marker intensity information...\n",
      "Detecting spots in puncta markers...\n"
     ]
    },
    {
     "name": "stderr",
     "output_type": "stream",
     "text": []
    },
    {
     "name": "stdout",
     "output_type": "stream",
     "text": [
      "\n",
      "Image analyzed: Plate09_Nuc_Wells-A8__Channel_SD_AF647,SD_RFP,SD_GFP,SD_DAPI,SD_BF,SD_NIR\n",
      "\n",
      "Detecting infection load...\n",
      "Total cells: 3969\n",
      "Percentage infected:34.24\n",
      "Extracting per marker intensity information...\n",
      "Detecting spots in puncta markers...\n"
     ]
    },
    {
     "name": "stderr",
     "output_type": "stream",
     "text": []
    },
    {
     "name": "stdout",
     "output_type": "stream",
     "text": [
      "\n",
      "Image analyzed: Plate09_Nuc_Wells-A9__Channel_SD_AF647,SD_RFP,SD_GFP,SD_DAPI,SD_BF,SD_NIR\n",
      "\n",
      "Detecting infection load...\n",
      "Total cells: 3675\n",
      "Percentage infected:32.44\n",
      "Extracting per marker intensity information...\n",
      "Detecting spots in puncta markers...\n"
     ]
    },
    {
     "name": "stderr",
     "output_type": "stream",
     "text": []
    },
    {
     "name": "stdout",
     "output_type": "stream",
     "text": [
      "\n",
      "Image analyzed: Plate09_Nuc_Wells-A10__Channel_SD_AF647,SD_RFP,SD_GFP,SD_DAPI,SD_BF,SD_NIR\n",
      "\n",
      "Detecting infection load...\n",
      "Total cells: 3447\n",
      "Percentage infected:23.12\n",
      "Extracting per marker intensity information...\n",
      "Detecting spots in puncta markers...\n"
     ]
    },
    {
     "name": "stderr",
     "output_type": "stream",
     "text": []
    },
    {
     "name": "stdout",
     "output_type": "stream",
     "text": [
      "\n",
      "Image analyzed: Plate09_Nuc_Wells-A11__Channel_SD_AF647,SD_RFP,SD_GFP,SD_DAPI,SD_BF,SD_NIR\n",
      "\n",
      "Detecting infection load...\n",
      "Total cells: 3189\n",
      "Percentage infected:20.88\n",
      "Extracting per marker intensity information...\n",
      "Detecting spots in puncta markers...\n"
     ]
    },
    {
     "name": "stderr",
     "output_type": "stream",
     "text": []
    },
    {
     "name": "stdout",
     "output_type": "stream",
     "text": [
      "\n",
      "Image analyzed: Plate09_Nuc_Wells-A12__Channel_SD_AF647,SD_RFP,SD_GFP,SD_DAPI,SD_BF,SD_NIR\n",
      "\n",
      "Detecting infection load...\n",
      "Total cells: 2376\n",
      "Percentage infected:25.84\n",
      "Extracting per marker intensity information...\n",
      "Detecting spots in puncta markers...\n"
     ]
    },
    {
     "name": "stderr",
     "output_type": "stream",
     "text": []
    },
    {
     "name": "stdout",
     "output_type": "stream",
     "text": [
      "\n",
      "Image analyzed: Plate09_Nuc_Wells-B1__Channel_SD_AF647,SD_RFP,SD_GFP,SD_DAPI,SD_BF,SD_NIR\n",
      "\n",
      "Detecting infection load...\n",
      "Total cells: 2568\n",
      "Percentage infected:19.78\n",
      "Extracting per marker intensity information...\n",
      "Detecting spots in puncta markers...\n"
     ]
    },
    {
     "name": "stderr",
     "output_type": "stream",
     "text": []
    },
    {
     "name": "stdout",
     "output_type": "stream",
     "text": [
      "\n",
      "Image analyzed: Plate09_Nuc_Wells-B2__Channel_SD_AF647,SD_RFP,SD_GFP,SD_DAPI,SD_BF,SD_NIR\n",
      "\n",
      "Detecting infection load...\n",
      "Total cells: 3071\n",
      "Percentage infected:28.79\n",
      "Extracting per marker intensity information...\n",
      "Detecting spots in puncta markers...\n"
     ]
    },
    {
     "name": "stderr",
     "output_type": "stream",
     "text": [
      "100%|██████████| 96/96 [49:05<00:00, 30.68s/it]\n",
      " 53%|█████▎    | 9/17 [7:14:06<6:27:21, 2905.17s/it]"
     ]
    },
    {
     "name": "stdout",
     "output_type": "stream",
     "text": [
      "Analyzing Plate: Plate 10_Nuc\n"
     ]
    },
    {
     "name": "stderr",
     "output_type": "stream",
     "text": []
    },
    {
     "name": "stdout",
     "output_type": "stream",
     "text": [
      "\n",
      "Image analyzed: Plate10_Nuc_Wells-A1__Channel_SD_AF647,SD_RFP,SD_GFP,SD_DAPI,SD_BF,SD_NIR\n",
      "\n",
      "Detecting infection load...\n",
      "Total cells: 2742\n",
      "Percentage infected:25.05\n",
      "Extracting per marker intensity information...\n",
      "Detecting spots in puncta markers...\n"
     ]
    },
    {
     "name": "stderr",
     "output_type": "stream",
     "text": []
    },
    {
     "name": "stdout",
     "output_type": "stream",
     "text": [
      "\n",
      "Image analyzed: Plate10_Nuc_Wells-A2__Channel_SD_AF647,SD_RFP,SD_GFP,SD_DAPI,SD_BF,SD_NIR\n",
      "\n",
      "Detecting infection load...\n",
      "Total cells: 2382\n",
      "Percentage infected:25.15\n",
      "Extracting per marker intensity information...\n",
      "Detecting spots in puncta markers...\n"
     ]
    },
    {
     "name": "stderr",
     "output_type": "stream",
     "text": []
    },
    {
     "name": "stdout",
     "output_type": "stream",
     "text": [
      "\n",
      "Image analyzed: Plate10_Nuc_Wells-A3__Channel_SD_AF647,SD_RFP,SD_GFP,SD_DAPI,SD_BF,SD_NIR\n",
      "\n",
      "Detecting infection load...\n",
      "Total cells: 2882\n",
      "Percentage infected:22.97\n",
      "Extracting per marker intensity information...\n",
      "Detecting spots in puncta markers...\n"
     ]
    },
    {
     "name": "stderr",
     "output_type": "stream",
     "text": []
    },
    {
     "name": "stdout",
     "output_type": "stream",
     "text": [
      "\n",
      "Image analyzed: Plate10_Nuc_Wells-A4__Channel_SD_AF647,SD_RFP,SD_GFP,SD_DAPI,SD_BF,SD_NIR\n",
      "\n",
      "Detecting infection load...\n",
      "Total cells: 2289\n",
      "Percentage infected:22.24\n",
      "Extracting per marker intensity information...\n",
      "Detecting spots in puncta markers...\n"
     ]
    },
    {
     "name": "stderr",
     "output_type": "stream",
     "text": []
    },
    {
     "name": "stdout",
     "output_type": "stream",
     "text": [
      "\n",
      "Image analyzed: Plate10_Nuc_Wells-A5__Channel_SD_AF647,SD_RFP,SD_GFP,SD_DAPI,SD_BF,SD_NIR\n",
      "\n",
      "Detecting infection load...\n",
      "Total cells: 2348\n",
      "Percentage infected:26.11\n",
      "Extracting per marker intensity information...\n",
      "Detecting spots in puncta markers...\n"
     ]
    },
    {
     "name": "stderr",
     "output_type": "stream",
     "text": []
    },
    {
     "name": "stdout",
     "output_type": "stream",
     "text": [
      "\n",
      "Image analyzed: Plate10_Nuc_Wells-A6__Channel_SD_AF647,SD_RFP,SD_GFP,SD_DAPI,SD_BF,SD_NIR\n",
      "\n",
      "Detecting infection load...\n",
      "Total cells: 2833\n",
      "Percentage infected:24.64\n",
      "Extracting per marker intensity information...\n",
      "Detecting spots in puncta markers...\n"
     ]
    },
    {
     "name": "stderr",
     "output_type": "stream",
     "text": []
    },
    {
     "name": "stdout",
     "output_type": "stream",
     "text": [
      "\n",
      "Image analyzed: Plate10_Nuc_Wells-A7__Channel_SD_AF647,SD_RFP,SD_GFP,SD_DAPI,SD_BF,SD_NIR\n",
      "\n",
      "Detecting infection load...\n",
      "Total cells: 2458\n",
      "Percentage infected:26.53\n",
      "Extracting per marker intensity information...\n",
      "Detecting spots in puncta markers...\n"
     ]
    },
    {
     "name": "stderr",
     "output_type": "stream",
     "text": []
    },
    {
     "name": "stdout",
     "output_type": "stream",
     "text": [
      "\n",
      "Image analyzed: Plate10_Nuc_Wells-A8__Channel_SD_AF647,SD_RFP,SD_GFP,SD_DAPI,SD_BF,SD_NIR\n",
      "\n",
      "Detecting infection load...\n",
      "Total cells: 2373\n",
      "Percentage infected:25.12\n",
      "Extracting per marker intensity information...\n",
      "Detecting spots in puncta markers...\n"
     ]
    },
    {
     "name": "stderr",
     "output_type": "stream",
     "text": []
    },
    {
     "name": "stdout",
     "output_type": "stream",
     "text": [
      "\n",
      "Image analyzed: Plate10_Nuc_Wells-A9__Channel_SD_AF647,SD_RFP,SD_GFP,SD_DAPI,SD_BF,SD_NIR\n",
      "\n",
      "Detecting infection load...\n",
      "Total cells: 1730\n",
      "Percentage infected:21.91\n",
      "Extracting per marker intensity information...\n",
      "Detecting spots in puncta markers...\n"
     ]
    },
    {
     "name": "stderr",
     "output_type": "stream",
     "text": []
    },
    {
     "name": "stdout",
     "output_type": "stream",
     "text": [
      "\n",
      "Image analyzed: Plate10_Nuc_Wells-A10__Channel_SD_AF647,SD_RFP,SD_GFP,SD_DAPI,SD_BF,SD_NIR\n",
      "\n",
      "Detecting infection load...\n",
      "Total cells: 2214\n",
      "Percentage infected:22.76\n",
      "Extracting per marker intensity information...\n",
      "Detecting spots in puncta markers...\n"
     ]
    },
    {
     "name": "stderr",
     "output_type": "stream",
     "text": []
    },
    {
     "name": "stdout",
     "output_type": "stream",
     "text": [
      "\n",
      "Image analyzed: Plate10_Nuc_Wells-A11__Channel_SD_AF647,SD_RFP,SD_GFP,SD_DAPI,SD_BF,SD_NIR\n",
      "\n",
      "Detecting infection load...\n",
      "Total cells: 2022\n",
      "Percentage infected:22.7\n",
      "Extracting per marker intensity information...\n",
      "Detecting spots in puncta markers...\n"
     ]
    },
    {
     "name": "stderr",
     "output_type": "stream",
     "text": []
    },
    {
     "name": "stdout",
     "output_type": "stream",
     "text": [
      "\n",
      "Image analyzed: Plate10_Nuc_Wells-A12__Channel_SD_AF647,SD_RFP,SD_GFP,SD_DAPI,SD_BF,SD_NIR\n",
      "\n",
      "Detecting infection load...\n",
      "Total cells: 1229\n",
      "Percentage infected:23.19\n",
      "Extracting per marker intensity information...\n",
      "Detecting spots in puncta markers...\n"
     ]
    },
    {
     "name": "stderr",
     "output_type": "stream",
     "text": []
    },
    {
     "name": "stdout",
     "output_type": "stream",
     "text": [
      "\n",
      "Image analyzed: Plate10_Nuc_Wells-B1__Channel_SD_AF647,SD_RFP,SD_GFP,SD_DAPI,SD_BF,SD_NIR\n",
      "\n",
      "Detecting infection load...\n",
      "Total cells: 1516\n",
      "Percentage infected:19.79\n",
      "Extracting per marker intensity information...\n",
      "Detecting spots in puncta markers...\n"
     ]
    },
    {
     "name": "stderr",
     "output_type": "stream",
     "text": []
    },
    {
     "name": "stdout",
     "output_type": "stream",
     "text": [
      "\n",
      "Image analyzed: Plate10_Nuc_Wells-B2__Channel_SD_AF647,SD_RFP,SD_GFP,SD_DAPI,SD_BF,SD_NIR\n",
      "\n",
      "Detecting infection load...\n",
      "Total cells: 1622\n",
      "Percentage infected:22.13\n",
      "Extracting per marker intensity information...\n",
      "Detecting spots in puncta markers...\n"
     ]
    },
    {
     "name": "stderr",
     "output_type": "stream",
     "text": []
    },
    {
     "name": "stdout",
     "output_type": "stream",
     "text": [
      "\n",
      "Image analyzed: Plate10_Nuc_Wells-B3__Channel_SD_AF647,SD_RFP,SD_GFP,SD_DAPI,SD_BF,SD_NIR\n",
      "\n",
      "Detecting infection load...\n",
      "Total cells: 1814\n",
      "Percentage infected:22.27\n",
      "Extracting per marker intensity information...\n",
      "Detecting spots in puncta markers...\n"
     ]
    },
    {
     "name": "stderr",
     "output_type": "stream",
     "text": []
    },
    {
     "name": "stdout",
     "output_type": "stream",
     "text": [
      "\n",
      "Image analyzed: Plate10_Nuc_Wells-B4__Channel_SD_AF647,SD_RFP,SD_GFP,SD_DAPI,SD_BF,SD_NIR\n",
      "\n",
      "Detecting infection load...\n",
      "Total cells: 1528\n",
      "Percentage infected:20.48\n",
      "Extracting per marker intensity information...\n",
      "Detecting spots in puncta markers...\n"
     ]
    },
    {
     "name": "stderr",
     "output_type": "stream",
     "text": []
    },
    {
     "name": "stdout",
     "output_type": "stream",
     "text": [
      "\n",
      "Image analyzed: Plate10_Nuc_Wells-B5__Channel_SD_AF647,SD_RFP,SD_GFP,SD_DAPI,SD_BF,SD_NIR\n",
      "\n",
      "Detecting infection load...\n",
      "Total cells: 1320\n",
      "Percentage infected:20.3\n",
      "Extracting per marker intensity information...\n",
      "Detecting spots in puncta markers...\n"
     ]
    },
    {
     "name": "stderr",
     "output_type": "stream",
     "text": []
    },
    {
     "name": "stdout",
     "output_type": "stream",
     "text": [
      "\n",
      "Image analyzed: Plate10_Nuc_Wells-B6__Channel_SD_AF647,SD_RFP,SD_GFP,SD_DAPI,SD_BF,SD_NIR\n",
      "\n",
      "Detecting infection load...\n",
      "Total cells: 1506\n",
      "Percentage infected:24.9\n",
      "Extracting per marker intensity information...\n",
      "Detecting spots in puncta markers...\n"
     ]
    },
    {
     "name": "stderr",
     "output_type": "stream",
     "text": []
    },
    {
     "name": "stdout",
     "output_type": "stream",
     "text": [
      "\n",
      "Image analyzed: Plate10_Nuc_Wells-B7__Channel_SD_AF647,SD_RFP,SD_GFP,SD_DAPI,SD_BF,SD_NIR\n",
      "\n",
      "Detecting infection load...\n",
      "Total cells: 1313\n",
      "Percentage infected:25.59\n",
      "Extracting per marker intensity information...\n",
      "Detecting spots in puncta markers...\n"
     ]
    },
    {
     "name": "stderr",
     "output_type": "stream",
     "text": []
    },
    {
     "name": "stdout",
     "output_type": "stream",
     "text": [
      "\n",
      "Image analyzed: Plate10_Nuc_Wells-B8__Channel_SD_AF647,SD_RFP,SD_GFP,SD_DAPI,SD_BF,SD_NIR\n",
      "\n",
      "Detecting infection load...\n",
      "Total cells: 1806\n",
      "Percentage infected:23.48\n",
      "Extracting per marker intensity information...\n",
      "Detecting spots in puncta markers...\n"
     ]
    },
    {
     "name": "stderr",
     "output_type": "stream",
     "text": []
    },
    {
     "name": "stdout",
     "output_type": "stream",
     "text": [
      "\n",
      "Image analyzed: Plate10_Nuc_Wells-B9__Channel_SD_AF647,SD_RFP,SD_GFP,SD_DAPI,SD_BF,SD_NIR\n",
      "\n",
      "Detecting infection load...\n",
      "Total cells: 1275\n",
      "Percentage infected:20.24\n",
      "Extracting per marker intensity information...\n",
      "Detecting spots in puncta markers...\n"
     ]
    },
    {
     "name": "stderr",
     "output_type": "stream",
     "text": []
    },
    {
     "name": "stdout",
     "output_type": "stream",
     "text": [
      "\n",
      "Image analyzed: Plate10_Nuc_Wells-B10__Channel_SD_AF647,SD_RFP,SD_GFP,SD_DAPI,SD_BF,SD_NIR\n",
      "\n",
      "Detecting infection load...\n",
      "Total cells: 1622\n",
      "Percentage infected:18.8\n",
      "Extracting per marker intensity information...\n",
      "Detecting spots in puncta markers...\n"
     ]
    },
    {
     "name": "stderr",
     "output_type": "stream",
     "text": []
    },
    {
     "name": "stdout",
     "output_type": "stream",
     "text": [
      "\n",
      "Image analyzed: Plate10_Nuc_Wells-B11__Channel_SD_AF647,SD_RFP,SD_GFP,SD_DAPI,SD_BF,SD_NIR\n",
      "\n",
      "Detecting infection load...\n",
      "Total cells: 1451\n",
      "Percentage infected:20.19\n",
      "Extracting per marker intensity information...\n",
      "Detecting spots in puncta markers...\n"
     ]
    },
    {
     "name": "stderr",
     "output_type": "stream",
     "text": []
    },
    {
     "name": "stdout",
     "output_type": "stream",
     "text": [
      "\n",
      "Image analyzed: Plate10_Nuc_Wells-B12__Channel_SD_AF647,SD_RFP,SD_GFP,SD_DAPI,SD_BF,SD_NIR\n",
      "\n",
      "Detecting infection load...\n",
      "Total cells: 1135\n",
      "Percentage infected:19.12\n",
      "Extracting per marker intensity information...\n",
      "Detecting spots in puncta markers...\n"
     ]
    },
    {
     "name": "stderr",
     "output_type": "stream",
     "text": []
    },
    {
     "name": "stdout",
     "output_type": "stream",
     "text": [
      "\n",
      "Image analyzed: Plate10_Nuc_Wells-C1__Channel_SD_AF647,SD_RFP,SD_GFP,SD_DAPI,SD_BF,SD_NIR\n",
      "\n",
      "Detecting infection load...\n",
      "Total cells: 1526\n",
      "Percentage infected:21.63\n",
      "Extracting per marker intensity information...\n",
      "Detecting spots in puncta markers...\n"
     ]
    },
    {
     "name": "stderr",
     "output_type": "stream",
     "text": []
    },
    {
     "name": "stdout",
     "output_type": "stream",
     "text": [
      "\n",
      "Image analyzed: Plate10_Nuc_Wells-C2__Channel_SD_AF647,SD_RFP,SD_GFP,SD_DAPI,SD_BF,SD_NIR\n",
      "\n",
      "Detecting infection load...\n",
      "Total cells: 1802\n",
      "Percentage infected:20.03\n",
      "Extracting per marker intensity information...\n",
      "Detecting spots in puncta markers...\n"
     ]
    },
    {
     "name": "stderr",
     "output_type": "stream",
     "text": []
    },
    {
     "name": "stdout",
     "output_type": "stream",
     "text": [
      "\n",
      "Image analyzed: Plate10_Nuc_Wells-C3__Channel_SD_AF647,SD_RFP,SD_GFP,SD_DAPI,SD_BF,SD_NIR\n",
      "\n",
      "Detecting infection load...\n",
      "Total cells: 1526\n",
      "Percentage infected:19.79\n",
      "Extracting per marker intensity information...\n",
      "Detecting spots in puncta markers...\n"
     ]
    },
    {
     "name": "stderr",
     "output_type": "stream",
     "text": []
    },
    {
     "name": "stdout",
     "output_type": "stream",
     "text": [
      "\n",
      "Image analyzed: Plate10_Nuc_Wells-C4__Channel_SD_AF647,SD_RFP,SD_GFP,SD_DAPI,SD_BF,SD_NIR\n",
      "\n",
      "Detecting infection load...\n",
      "Total cells: 1264\n",
      "Percentage infected:26.42\n",
      "Extracting per marker intensity information...\n",
      "Detecting spots in puncta markers...\n"
     ]
    },
    {
     "name": "stderr",
     "output_type": "stream",
     "text": []
    },
    {
     "name": "stdout",
     "output_type": "stream",
     "text": [
      "\n",
      "Image analyzed: Plate10_Nuc_Wells-C5__Channel_SD_AF647,SD_RFP,SD_GFP,SD_DAPI,SD_BF,SD_NIR\n",
      "\n",
      "Detecting infection load...\n",
      "Total cells: 1281\n",
      "Percentage infected:24.2\n",
      "Extracting per marker intensity information...\n",
      "Detecting spots in puncta markers...\n"
     ]
    },
    {
     "name": "stderr",
     "output_type": "stream",
     "text": []
    },
    {
     "name": "stdout",
     "output_type": "stream",
     "text": [
      "\n",
      "Image analyzed: Plate10_Nuc_Wells-C6__Channel_SD_AF647,SD_RFP,SD_GFP,SD_DAPI,SD_BF,SD_NIR\n",
      "\n",
      "Detecting infection load...\n",
      "Total cells: 1328\n",
      "Percentage infected:27.71\n",
      "Extracting per marker intensity information...\n",
      "Detecting spots in puncta markers...\n"
     ]
    },
    {
     "name": "stderr",
     "output_type": "stream",
     "text": []
    },
    {
     "name": "stdout",
     "output_type": "stream",
     "text": [
      "\n",
      "Image analyzed: Plate10_Nuc_Wells-C7__Channel_SD_AF647,SD_RFP,SD_GFP,SD_DAPI,SD_BF,SD_NIR\n",
      "\n",
      "Detecting infection load...\n",
      "Total cells: 964\n",
      "Percentage infected:25.52\n",
      "Extracting per marker intensity information...\n",
      "Detecting spots in puncta markers...\n"
     ]
    },
    {
     "name": "stderr",
     "output_type": "stream",
     "text": []
    },
    {
     "name": "stdout",
     "output_type": "stream",
     "text": [
      "\n",
      "Image analyzed: Plate10_Nuc_Wells-C8__Channel_SD_AF647,SD_RFP,SD_GFP,SD_DAPI,SD_BF,SD_NIR\n",
      "\n",
      "Detecting infection load...\n",
      "Total cells: 987\n",
      "Percentage infected:24.42\n",
      "Extracting per marker intensity information...\n",
      "Detecting spots in puncta markers...\n"
     ]
    },
    {
     "name": "stderr",
     "output_type": "stream",
     "text": []
    },
    {
     "name": "stdout",
     "output_type": "stream",
     "text": [
      "\n",
      "Image analyzed: Plate10_Nuc_Wells-C9__Channel_SD_AF647,SD_RFP,SD_GFP,SD_DAPI,SD_BF,SD_NIR\n",
      "\n",
      "Detecting infection load...\n",
      "Total cells: 1111\n",
      "Percentage infected:21.78\n",
      "Extracting per marker intensity information...\n",
      "Detecting spots in puncta markers...\n"
     ]
    },
    {
     "name": "stderr",
     "output_type": "stream",
     "text": []
    },
    {
     "name": "stdout",
     "output_type": "stream",
     "text": [
      "\n",
      "Image analyzed: Plate10_Nuc_Wells-C10__Channel_SD_AF647,SD_RFP,SD_GFP,SD_DAPI,SD_BF,SD_NIR\n",
      "\n",
      "Detecting infection load...\n",
      "Total cells: 1777\n",
      "Percentage infected:17.05\n",
      "Extracting per marker intensity information...\n",
      "Detecting spots in puncta markers...\n"
     ]
    },
    {
     "name": "stderr",
     "output_type": "stream",
     "text": []
    },
    {
     "name": "stdout",
     "output_type": "stream",
     "text": [
      "\n",
      "Image analyzed: Plate10_Nuc_Wells-C11__Channel_SD_AF647,SD_RFP,SD_GFP,SD_DAPI,SD_BF,SD_NIR\n",
      "\n",
      "Detecting infection load...\n",
      "Total cells: 1187\n",
      "Percentage infected:19.04\n",
      "Extracting per marker intensity information...\n",
      "Detecting spots in puncta markers...\n"
     ]
    },
    {
     "name": "stderr",
     "output_type": "stream",
     "text": []
    },
    {
     "name": "stdout",
     "output_type": "stream",
     "text": [
      "\n",
      "Image analyzed: Plate10_Nuc_Wells-C12__Channel_SD_AF647,SD_RFP,SD_GFP,SD_DAPI,SD_BF,SD_NIR\n",
      "\n",
      "Detecting infection load...\n",
      "Total cells: 794\n",
      "Percentage infected:20.91\n",
      "Extracting per marker intensity information...\n",
      "Detecting spots in puncta markers...\n"
     ]
    },
    {
     "name": "stderr",
     "output_type": "stream",
     "text": []
    },
    {
     "name": "stdout",
     "output_type": "stream",
     "text": [
      "\n",
      "Image analyzed: Plate10_Nuc_Wells-D1__Channel_SD_AF647,SD_RFP,SD_GFP,SD_DAPI,SD_BF,SD_NIR\n",
      "\n",
      "Detecting infection load...\n",
      "Total cells: 1584\n",
      "Percentage infected:26.58\n",
      "Extracting per marker intensity information...\n",
      "Detecting spots in puncta markers...\n"
     ]
    },
    {
     "name": "stderr",
     "output_type": "stream",
     "text": []
    },
    {
     "name": "stdout",
     "output_type": "stream",
     "text": [
      "\n",
      "Image analyzed: Plate10_Nuc_Wells-D2__Channel_SD_AF647,SD_RFP,SD_GFP,SD_DAPI,SD_BF,SD_NIR\n",
      "\n",
      "Detecting infection load...\n",
      "Total cells: 1754\n",
      "Percentage infected:22.12\n",
      "Extracting per marker intensity information...\n",
      "Detecting spots in puncta markers...\n"
     ]
    },
    {
     "name": "stderr",
     "output_type": "stream",
     "text": []
    },
    {
     "name": "stdout",
     "output_type": "stream",
     "text": [
      "\n",
      "Image analyzed: Plate10_Nuc_Wells-D3__Channel_SD_AF647,SD_RFP,SD_GFP,SD_DAPI,SD_BF,SD_NIR\n",
      "\n",
      "Detecting infection load...\n",
      "Total cells: 974\n",
      "Percentage infected:19.92\n",
      "Extracting per marker intensity information...\n",
      "Detecting spots in puncta markers...\n"
     ]
    },
    {
     "name": "stderr",
     "output_type": "stream",
     "text": []
    },
    {
     "name": "stdout",
     "output_type": "stream",
     "text": [
      "\n",
      "Image analyzed: Plate10_Nuc_Wells-D4__Channel_SD_AF647,SD_RFP,SD_GFP,SD_DAPI,SD_BF,SD_NIR\n",
      "\n",
      "Detecting infection load...\n",
      "Total cells: 910\n",
      "Percentage infected:26.48\n",
      "Extracting per marker intensity information...\n",
      "Detecting spots in puncta markers...\n"
     ]
    },
    {
     "name": "stderr",
     "output_type": "stream",
     "text": []
    },
    {
     "name": "stdout",
     "output_type": "stream",
     "text": [
      "\n",
      "Image analyzed: Plate10_Nuc_Wells-D5__Channel_SD_AF647,SD_RFP,SD_GFP,SD_DAPI,SD_BF,SD_NIR\n",
      "\n",
      "Detecting infection load...\n",
      "Total cells: 570\n",
      "Percentage infected:32.81\n",
      "Extracting per marker intensity information...\n",
      "Detecting spots in puncta markers...\n"
     ]
    },
    {
     "name": "stderr",
     "output_type": "stream",
     "text": []
    },
    {
     "name": "stdout",
     "output_type": "stream",
     "text": [
      "\n",
      "Image analyzed: Plate10_Nuc_Wells-D6__Channel_SD_AF647,SD_RFP,SD_GFP,SD_DAPI,SD_BF,SD_NIR\n",
      "\n",
      "Detecting infection load...\n",
      "Total cells: 919\n",
      "Percentage infected:28.18\n",
      "Extracting per marker intensity information...\n",
      "Detecting spots in puncta markers...\n"
     ]
    },
    {
     "name": "stderr",
     "output_type": "stream",
     "text": []
    },
    {
     "name": "stdout",
     "output_type": "stream",
     "text": [
      "\n",
      "Image analyzed: Plate10_Nuc_Wells-D7__Channel_SD_AF647,SD_RFP,SD_GFP,SD_DAPI,SD_BF,SD_NIR\n",
      "\n",
      "Detecting infection load...\n",
      "Total cells: 804\n",
      "Percentage infected:28.86\n",
      "Extracting per marker intensity information...\n",
      "Detecting spots in puncta markers...\n"
     ]
    },
    {
     "name": "stderr",
     "output_type": "stream",
     "text": []
    },
    {
     "name": "stdout",
     "output_type": "stream",
     "text": [
      "\n",
      "Image analyzed: Plate10_Nuc_Wells-D8__Channel_SD_AF647,SD_RFP,SD_GFP,SD_DAPI,SD_BF,SD_NIR\n",
      "\n",
      "Detecting infection load...\n",
      "Total cells: 1519\n",
      "Percentage infected:23.77\n",
      "Extracting per marker intensity information...\n",
      "Detecting spots in puncta markers...\n"
     ]
    },
    {
     "name": "stderr",
     "output_type": "stream",
     "text": []
    },
    {
     "name": "stdout",
     "output_type": "stream",
     "text": [
      "\n",
      "Image analyzed: Plate10_Nuc_Wells-D9__Channel_SD_AF647,SD_RFP,SD_GFP,SD_DAPI,SD_BF,SD_NIR\n",
      "\n",
      "Detecting infection load...\n",
      "Total cells: 853\n",
      "Percentage infected:25.91\n",
      "Extracting per marker intensity information...\n",
      "Detecting spots in puncta markers...\n"
     ]
    },
    {
     "name": "stderr",
     "output_type": "stream",
     "text": []
    },
    {
     "name": "stdout",
     "output_type": "stream",
     "text": [
      "\n",
      "Image analyzed: Plate10_Nuc_Wells-D10__Channel_SD_AF647,SD_RFP,SD_GFP,SD_DAPI,SD_BF,SD_NIR\n",
      "\n",
      "Detecting infection load...\n",
      "Total cells: 1163\n",
      "Percentage infected:19.6\n",
      "Extracting per marker intensity information...\n",
      "Detecting spots in puncta markers...\n"
     ]
    },
    {
     "name": "stderr",
     "output_type": "stream",
     "text": []
    },
    {
     "name": "stdout",
     "output_type": "stream",
     "text": [
      "\n",
      "Image analyzed: Plate10_Nuc_Wells-D11__Channel_SD_AF647,SD_RFP,SD_GFP,SD_DAPI,SD_BF,SD_NIR\n",
      "\n",
      "Detecting infection load...\n",
      "Total cells: 1009\n",
      "Percentage infected:21.9\n",
      "Extracting per marker intensity information...\n",
      "Detecting spots in puncta markers...\n"
     ]
    },
    {
     "name": "stderr",
     "output_type": "stream",
     "text": []
    },
    {
     "name": "stdout",
     "output_type": "stream",
     "text": [
      "\n",
      "Image analyzed: Plate10_Nuc_Wells-D12__Channel_SD_AF647,SD_RFP,SD_GFP,SD_DAPI,SD_BF,SD_NIR\n",
      "\n",
      "Detecting infection load...\n",
      "Total cells: 617\n",
      "Percentage infected:22.04\n",
      "Extracting per marker intensity information...\n",
      "Detecting spots in puncta markers...\n"
     ]
    },
    {
     "name": "stderr",
     "output_type": "stream",
     "text": []
    },
    {
     "name": "stdout",
     "output_type": "stream",
     "text": [
      "\n",
      "Image analyzed: Plate10_Nuc_Wells-E1__Channel_SD_AF647,SD_RFP,SD_GFP,SD_DAPI,SD_BF,SD_NIR\n",
      "\n",
      "Detecting infection load...\n",
      "Total cells: 1786\n",
      "Percentage infected:31.41\n",
      "Extracting per marker intensity information...\n",
      "Detecting spots in puncta markers...\n"
     ]
    },
    {
     "name": "stderr",
     "output_type": "stream",
     "text": []
    },
    {
     "name": "stdout",
     "output_type": "stream",
     "text": [
      "\n",
      "Image analyzed: Plate10_Nuc_Wells-E2__Channel_SD_AF647,SD_RFP,SD_GFP,SD_DAPI,SD_BF,SD_NIR\n",
      "\n",
      "Detecting infection load...\n",
      "Total cells: 1983\n",
      "Percentage infected:35.65\n",
      "Extracting per marker intensity information...\n",
      "Detecting spots in puncta markers...\n"
     ]
    },
    {
     "name": "stderr",
     "output_type": "stream",
     "text": []
    },
    {
     "name": "stdout",
     "output_type": "stream",
     "text": [
      "\n",
      "Image analyzed: Plate10_Nuc_Wells-E3__Channel_SD_AF647,SD_RFP,SD_GFP,SD_DAPI,SD_BF,SD_NIR\n",
      "\n",
      "Detecting infection load...\n",
      "Total cells: 1637\n",
      "Percentage infected:30.97\n",
      "Extracting per marker intensity information...\n",
      "Detecting spots in puncta markers...\n"
     ]
    },
    {
     "name": "stderr",
     "output_type": "stream",
     "text": []
    },
    {
     "name": "stdout",
     "output_type": "stream",
     "text": [
      "\n",
      "Image analyzed: Plate10_Nuc_Wells-E4__Channel_SD_AF647,SD_RFP,SD_GFP,SD_DAPI,SD_BF,SD_NIR\n",
      "\n",
      "Detecting infection load...\n",
      "Total cells: 1337\n",
      "Percentage infected:40.69\n",
      "Extracting per marker intensity information...\n",
      "Detecting spots in puncta markers...\n"
     ]
    },
    {
     "name": "stderr",
     "output_type": "stream",
     "text": []
    },
    {
     "name": "stdout",
     "output_type": "stream",
     "text": [
      "\n",
      "Image analyzed: Plate10_Nuc_Wells-E5__Channel_SD_AF647,SD_RFP,SD_GFP,SD_DAPI,SD_BF,SD_NIR\n",
      "\n",
      "Detecting infection load...\n",
      "Total cells: 1228\n",
      "Percentage infected:29.89\n",
      "Extracting per marker intensity information...\n",
      "Detecting spots in puncta markers...\n"
     ]
    },
    {
     "name": "stderr",
     "output_type": "stream",
     "text": []
    },
    {
     "name": "stdout",
     "output_type": "stream",
     "text": [
      "\n",
      "Image analyzed: Plate10_Nuc_Wells-E6__Channel_SD_AF647,SD_RFP,SD_GFP,SD_DAPI,SD_BF,SD_NIR\n",
      "\n",
      "Detecting infection load...\n",
      "Total cells: 1468\n",
      "Percentage infected:31.27\n",
      "Extracting per marker intensity information...\n",
      "Detecting spots in puncta markers...\n"
     ]
    },
    {
     "name": "stderr",
     "output_type": "stream",
     "text": []
    },
    {
     "name": "stdout",
     "output_type": "stream",
     "text": [
      "\n",
      "Image analyzed: Plate10_Nuc_Wells-E7__Channel_SD_AF647,SD_RFP,SD_GFP,SD_DAPI,SD_BF,SD_NIR\n",
      "\n",
      "Detecting infection load...\n",
      "Total cells: 1597\n",
      "Percentage infected:27.05\n",
      "Extracting per marker intensity information...\n",
      "Detecting spots in puncta markers...\n"
     ]
    },
    {
     "name": "stderr",
     "output_type": "stream",
     "text": []
    },
    {
     "name": "stdout",
     "output_type": "stream",
     "text": [
      "\n",
      "Image analyzed: Plate10_Nuc_Wells-E8__Channel_SD_AF647,SD_RFP,SD_GFP,SD_DAPI,SD_BF,SD_NIR\n",
      "\n",
      "Detecting infection load...\n",
      "Total cells: 1197\n",
      "Percentage infected:25.65\n",
      "Extracting per marker intensity information...\n",
      "Detecting spots in puncta markers...\n"
     ]
    },
    {
     "name": "stderr",
     "output_type": "stream",
     "text": []
    },
    {
     "name": "stdout",
     "output_type": "stream",
     "text": [
      "\n",
      "Image analyzed: Plate10_Nuc_Wells-E9__Channel_SD_AF647,SD_RFP,SD_GFP,SD_DAPI,SD_BF,SD_NIR\n",
      "\n",
      "Detecting infection load...\n",
      "Total cells: 1396\n",
      "Percentage infected:26.72\n",
      "Extracting per marker intensity information...\n",
      "Detecting spots in puncta markers...\n"
     ]
    },
    {
     "name": "stderr",
     "output_type": "stream",
     "text": []
    },
    {
     "name": "stdout",
     "output_type": "stream",
     "text": [
      "\n",
      "Image analyzed: Plate10_Nuc_Wells-E10__Channel_SD_AF647,SD_RFP,SD_GFP,SD_DAPI,SD_BF,SD_NIR\n",
      "\n",
      "Detecting infection load...\n",
      "Total cells: 1336\n",
      "Percentage infected:20.36\n",
      "Extracting per marker intensity information...\n",
      "Detecting spots in puncta markers...\n"
     ]
    },
    {
     "name": "stderr",
     "output_type": "stream",
     "text": []
    },
    {
     "name": "stdout",
     "output_type": "stream",
     "text": [
      "\n",
      "Image analyzed: Plate10_Nuc_Wells-E11__Channel_SD_AF647,SD_RFP,SD_GFP,SD_DAPI,SD_BF,SD_NIR\n",
      "\n",
      "Detecting infection load...\n",
      "Total cells: 1830\n",
      "Percentage infected:19.56\n",
      "Extracting per marker intensity information...\n",
      "Detecting spots in puncta markers...\n"
     ]
    },
    {
     "name": "stderr",
     "output_type": "stream",
     "text": []
    },
    {
     "name": "stdout",
     "output_type": "stream",
     "text": [
      "\n",
      "Image analyzed: Plate10_Nuc_Wells-E12__Channel_SD_AF647,SD_RFP,SD_GFP,SD_DAPI,SD_BF,SD_NIR\n",
      "\n",
      "Detecting infection load...\n",
      "Total cells: 1390\n",
      "Percentage infected:19.64\n",
      "Extracting per marker intensity information...\n",
      "Detecting spots in puncta markers...\n"
     ]
    },
    {
     "name": "stderr",
     "output_type": "stream",
     "text": []
    },
    {
     "name": "stdout",
     "output_type": "stream",
     "text": [
      "\n",
      "Image analyzed: Plate10_Nuc_Wells-F1__Channel_SD_AF647,SD_RFP,SD_GFP,SD_DAPI,SD_BF,SD_NIR\n",
      "\n",
      "Detecting infection load...\n",
      "Total cells: 1860\n",
      "Percentage infected:24.95\n",
      "Extracting per marker intensity information...\n",
      "Detecting spots in puncta markers...\n"
     ]
    },
    {
     "name": "stderr",
     "output_type": "stream",
     "text": []
    },
    {
     "name": "stdout",
     "output_type": "stream",
     "text": [
      "\n",
      "Image analyzed: Plate10_Nuc_Wells-F2__Channel_SD_AF647,SD_RFP,SD_GFP,SD_DAPI,SD_BF,SD_NIR\n",
      "\n",
      "Detecting infection load...\n",
      "Total cells: 1795\n",
      "Percentage infected:27.58\n",
      "Extracting per marker intensity information...\n",
      "Detecting spots in puncta markers...\n"
     ]
    },
    {
     "name": "stderr",
     "output_type": "stream",
     "text": []
    },
    {
     "name": "stdout",
     "output_type": "stream",
     "text": [
      "\n",
      "Image analyzed: Plate10_Nuc_Wells-F3__Channel_SD_AF647,SD_RFP,SD_GFP,SD_DAPI,SD_BF,SD_NIR\n",
      "\n",
      "Detecting infection load...\n",
      "Total cells: 1966\n",
      "Percentage infected:27.87\n",
      "Extracting per marker intensity information...\n",
      "Detecting spots in puncta markers...\n"
     ]
    },
    {
     "name": "stderr",
     "output_type": "stream",
     "text": []
    },
    {
     "name": "stdout",
     "output_type": "stream",
     "text": [
      "\n",
      "Image analyzed: Plate10_Nuc_Wells-F4__Channel_SD_AF647,SD_RFP,SD_GFP,SD_DAPI,SD_BF,SD_NIR\n",
      "\n",
      "Detecting infection load...\n",
      "Total cells: 1423\n",
      "Percentage infected:30.29\n",
      "Extracting per marker intensity information...\n",
      "Detecting spots in puncta markers...\n"
     ]
    },
    {
     "name": "stderr",
     "output_type": "stream",
     "text": []
    },
    {
     "name": "stdout",
     "output_type": "stream",
     "text": [
      "\n",
      "Image analyzed: Plate10_Nuc_Wells-F5__Channel_SD_AF647,SD_RFP,SD_GFP,SD_DAPI,SD_BF,SD_NIR\n",
      "\n",
      "Detecting infection load...\n",
      "Total cells: 1764\n",
      "Percentage infected:30.84\n",
      "Extracting per marker intensity information...\n",
      "Detecting spots in puncta markers...\n"
     ]
    },
    {
     "name": "stderr",
     "output_type": "stream",
     "text": []
    },
    {
     "name": "stdout",
     "output_type": "stream",
     "text": [
      "\n",
      "Image analyzed: Plate10_Nuc_Wells-F6__Channel_SD_AF647,SD_RFP,SD_GFP,SD_DAPI,SD_BF,SD_NIR\n",
      "\n",
      "Detecting infection load...\n",
      "Total cells: 1813\n",
      "Percentage infected:34.91\n",
      "Extracting per marker intensity information...\n",
      "Detecting spots in puncta markers...\n"
     ]
    },
    {
     "name": "stderr",
     "output_type": "stream",
     "text": []
    },
    {
     "name": "stdout",
     "output_type": "stream",
     "text": [
      "\n",
      "Image analyzed: Plate10_Nuc_Wells-F7__Channel_SD_AF647,SD_RFP,SD_GFP,SD_DAPI,SD_BF,SD_NIR\n",
      "\n",
      "Detecting infection load...\n",
      "Total cells: 1674\n",
      "Percentage infected:28.73\n",
      "Extracting per marker intensity information...\n",
      "Detecting spots in puncta markers...\n"
     ]
    },
    {
     "name": "stderr",
     "output_type": "stream",
     "text": []
    },
    {
     "name": "stdout",
     "output_type": "stream",
     "text": [
      "\n",
      "Image analyzed: Plate10_Nuc_Wells-F8__Channel_SD_AF647,SD_RFP,SD_GFP,SD_DAPI,SD_BF,SD_NIR\n",
      "\n",
      "Detecting infection load...\n",
      "Total cells: 1773\n",
      "Percentage infected:31.53\n",
      "Extracting per marker intensity information...\n",
      "Detecting spots in puncta markers...\n"
     ]
    },
    {
     "name": "stderr",
     "output_type": "stream",
     "text": []
    },
    {
     "name": "stdout",
     "output_type": "stream",
     "text": [
      "\n",
      "Image analyzed: Plate10_Nuc_Wells-F9__Channel_SD_AF647,SD_RFP,SD_GFP,SD_DAPI,SD_BF,SD_NIR\n",
      "\n",
      "Detecting infection load...\n",
      "Total cells: 1375\n",
      "Percentage infected:31.05\n",
      "Extracting per marker intensity information...\n",
      "Detecting spots in puncta markers...\n"
     ]
    },
    {
     "name": "stderr",
     "output_type": "stream",
     "text": []
    },
    {
     "name": "stdout",
     "output_type": "stream",
     "text": [
      "\n",
      "Image analyzed: Plate10_Nuc_Wells-F10__Channel_SD_AF647,SD_RFP,SD_GFP,SD_DAPI,SD_BF,SD_NIR\n",
      "\n",
      "Detecting infection load...\n",
      "Total cells: 1634\n",
      "Percentage infected:23.68\n",
      "Extracting per marker intensity information...\n",
      "Detecting spots in puncta markers...\n"
     ]
    },
    {
     "name": "stderr",
     "output_type": "stream",
     "text": []
    },
    {
     "name": "stdout",
     "output_type": "stream",
     "text": [
      "\n",
      "Image analyzed: Plate10_Nuc_Wells-F11__Channel_SD_AF647,SD_RFP,SD_GFP,SD_DAPI,SD_BF,SD_NIR\n",
      "\n",
      "Detecting infection load...\n",
      "Total cells: 1711\n",
      "Percentage infected:19.29\n",
      "Extracting per marker intensity information...\n",
      "Detecting spots in puncta markers...\n"
     ]
    },
    {
     "name": "stderr",
     "output_type": "stream",
     "text": []
    },
    {
     "name": "stdout",
     "output_type": "stream",
     "text": [
      "\n",
      "Image analyzed: Plate10_Nuc_Wells-F12__Channel_SD_AF647,SD_RFP,SD_GFP,SD_DAPI,SD_BF,SD_NIR\n",
      "\n",
      "Detecting infection load...\n",
      "Total cells: 1019\n",
      "Percentage infected:19.43\n",
      "Extracting per marker intensity information...\n",
      "Detecting spots in puncta markers...\n"
     ]
    },
    {
     "name": "stderr",
     "output_type": "stream",
     "text": []
    },
    {
     "name": "stdout",
     "output_type": "stream",
     "text": [
      "\n",
      "Image analyzed: Plate10_Nuc_Wells-G1__Channel_SD_AF647,SD_RFP,SD_GFP,SD_DAPI,SD_BF,SD_NIR\n",
      "\n",
      "Detecting infection load...\n",
      "Total cells: 2163\n",
      "Percentage infected:27.69\n",
      "Extracting per marker intensity information...\n",
      "Detecting spots in puncta markers...\n"
     ]
    },
    {
     "name": "stderr",
     "output_type": "stream",
     "text": []
    },
    {
     "name": "stdout",
     "output_type": "stream",
     "text": [
      "\n",
      "Image analyzed: Plate10_Nuc_Wells-G2__Channel_SD_AF647,SD_RFP,SD_GFP,SD_DAPI,SD_BF,SD_NIR\n",
      "\n",
      "Detecting infection load...\n",
      "Total cells: 1767\n",
      "Percentage infected:27.84\n",
      "Extracting per marker intensity information...\n",
      "Detecting spots in puncta markers...\n"
     ]
    },
    {
     "name": "stderr",
     "output_type": "stream",
     "text": []
    },
    {
     "name": "stdout",
     "output_type": "stream",
     "text": [
      "\n",
      "Image analyzed: Plate10_Nuc_Wells-G3__Channel_SD_AF647,SD_RFP,SD_GFP,SD_DAPI,SD_BF,SD_NIR\n",
      "\n",
      "Detecting infection load...\n",
      "Total cells: 1845\n",
      "Percentage infected:26.94\n",
      "Extracting per marker intensity information...\n",
      "Detecting spots in puncta markers...\n"
     ]
    },
    {
     "name": "stderr",
     "output_type": "stream",
     "text": []
    },
    {
     "name": "stdout",
     "output_type": "stream",
     "text": [
      "\n",
      "Image analyzed: Plate10_Nuc_Wells-G4__Channel_SD_AF647,SD_RFP,SD_GFP,SD_DAPI,SD_BF,SD_NIR\n",
      "\n",
      "Detecting infection load...\n",
      "Total cells: 1671\n",
      "Percentage infected:27.65\n",
      "Extracting per marker intensity information...\n",
      "Detecting spots in puncta markers...\n"
     ]
    },
    {
     "name": "stderr",
     "output_type": "stream",
     "text": []
    },
    {
     "name": "stdout",
     "output_type": "stream",
     "text": [
      "\n",
      "Image analyzed: Plate10_Nuc_Wells-G5__Channel_SD_AF647,SD_RFP,SD_GFP,SD_DAPI,SD_BF,SD_NIR\n",
      "\n",
      "Detecting infection load...\n",
      "Total cells: 1964\n",
      "Percentage infected:30.91\n",
      "Extracting per marker intensity information...\n",
      "Detecting spots in puncta markers...\n"
     ]
    },
    {
     "name": "stderr",
     "output_type": "stream",
     "text": []
    },
    {
     "name": "stdout",
     "output_type": "stream",
     "text": [
      "\n",
      "Image analyzed: Plate10_Nuc_Wells-G6__Channel_SD_AF647,SD_RFP,SD_GFP,SD_DAPI,SD_BF,SD_NIR\n",
      "\n",
      "Detecting infection load...\n",
      "Total cells: 1841\n",
      "Percentage infected:34.55\n",
      "Extracting per marker intensity information...\n",
      "Detecting spots in puncta markers...\n"
     ]
    },
    {
     "name": "stderr",
     "output_type": "stream",
     "text": []
    },
    {
     "name": "stdout",
     "output_type": "stream",
     "text": [
      "\n",
      "Image analyzed: Plate10_Nuc_Wells-G7__Channel_SD_AF647,SD_RFP,SD_GFP,SD_DAPI,SD_BF,SD_NIR\n",
      "\n",
      "Detecting infection load...\n",
      "Total cells: 1989\n",
      "Percentage infected:31.93\n",
      "Extracting per marker intensity information...\n",
      "Detecting spots in puncta markers...\n"
     ]
    },
    {
     "name": "stderr",
     "output_type": "stream",
     "text": []
    },
    {
     "name": "stdout",
     "output_type": "stream",
     "text": [
      "\n",
      "Image analyzed: Plate10_Nuc_Wells-G8__Channel_SD_AF647,SD_RFP,SD_GFP,SD_DAPI,SD_BF,SD_NIR\n",
      "\n",
      "Detecting infection load...\n",
      "Total cells: 1731\n",
      "Percentage infected:28.71\n",
      "Extracting per marker intensity information...\n",
      "Detecting spots in puncta markers...\n"
     ]
    },
    {
     "name": "stderr",
     "output_type": "stream",
     "text": []
    },
    {
     "name": "stdout",
     "output_type": "stream",
     "text": [
      "\n",
      "Image analyzed: Plate10_Nuc_Wells-G9__Channel_SD_AF647,SD_RFP,SD_GFP,SD_DAPI,SD_BF,SD_NIR\n",
      "\n",
      "Detecting infection load...\n",
      "Total cells: 1454\n",
      "Percentage infected:32.81\n",
      "Extracting per marker intensity information...\n",
      "Detecting spots in puncta markers...\n"
     ]
    },
    {
     "name": "stderr",
     "output_type": "stream",
     "text": []
    },
    {
     "name": "stdout",
     "output_type": "stream",
     "text": [
      "\n",
      "Image analyzed: Plate10_Nuc_Wells-G10__Channel_SD_AF647,SD_RFP,SD_GFP,SD_DAPI,SD_BF,SD_NIR\n",
      "\n",
      "Detecting infection load...\n",
      "Total cells: 1749\n",
      "Percentage infected:28.76\n",
      "Extracting per marker intensity information...\n",
      "Detecting spots in puncta markers...\n"
     ]
    },
    {
     "name": "stderr",
     "output_type": "stream",
     "text": []
    },
    {
     "name": "stdout",
     "output_type": "stream",
     "text": [
      "\n",
      "Image analyzed: Plate10_Nuc_Wells-G11__Channel_SD_AF647,SD_RFP,SD_GFP,SD_DAPI,SD_BF,SD_NIR\n",
      "\n",
      "Detecting infection load...\n",
      "Total cells: 1748\n",
      "Percentage infected:27.29\n",
      "Extracting per marker intensity information...\n",
      "Detecting spots in puncta markers...\n"
     ]
    },
    {
     "name": "stderr",
     "output_type": "stream",
     "text": []
    },
    {
     "name": "stdout",
     "output_type": "stream",
     "text": [
      "\n",
      "Image analyzed: Plate10_Nuc_Wells-G12__Channel_SD_AF647,SD_RFP,SD_GFP,SD_DAPI,SD_BF,SD_NIR\n",
      "\n",
      "Detecting infection load...\n",
      "Total cells: 1089\n",
      "Percentage infected:23.69\n",
      "Extracting per marker intensity information...\n",
      "Detecting spots in puncta markers...\n"
     ]
    },
    {
     "name": "stderr",
     "output_type": "stream",
     "text": []
    },
    {
     "name": "stdout",
     "output_type": "stream",
     "text": [
      "\n",
      "Image analyzed: Plate10_Nuc_Wells-H1__Channel_SD_AF647,SD_RFP,SD_GFP,SD_DAPI,SD_BF,SD_NIR\n",
      "\n",
      "Detecting infection load...\n",
      "Total cells: 2183\n",
      "Percentage infected:0.05\n",
      "Extracting per marker intensity information...\n",
      "Detecting spots in puncta markers...\n"
     ]
    },
    {
     "name": "stderr",
     "output_type": "stream",
     "text": []
    },
    {
     "name": "stdout",
     "output_type": "stream",
     "text": [
      "\n",
      "Image analyzed: Plate10_Nuc_Wells-H2__Channel_SD_AF647,SD_RFP,SD_GFP,SD_DAPI,SD_BF,SD_NIR\n",
      "\n",
      "Detecting infection load...\n",
      "Total cells: 2139\n",
      "Percentage infected:27.35\n",
      "Extracting per marker intensity information...\n",
      "Detecting spots in puncta markers...\n"
     ]
    },
    {
     "name": "stderr",
     "output_type": "stream",
     "text": []
    },
    {
     "name": "stdout",
     "output_type": "stream",
     "text": [
      "\n",
      "Image analyzed: Plate10_Nuc_Wells-H3__Channel_SD_AF647,SD_RFP,SD_GFP,SD_DAPI,SD_BF,SD_NIR\n",
      "\n",
      "Detecting infection load...\n",
      "Total cells: 2361\n",
      "Percentage infected:29.9\n",
      "Extracting per marker intensity information...\n",
      "Detecting spots in puncta markers...\n"
     ]
    },
    {
     "name": "stderr",
     "output_type": "stream",
     "text": []
    },
    {
     "name": "stdout",
     "output_type": "stream",
     "text": [
      "\n",
      "Image analyzed: Plate10_Nuc_Wells-H4__Channel_SD_AF647,SD_RFP,SD_GFP,SD_DAPI,SD_BF,SD_NIR\n",
      "\n",
      "Detecting infection load...\n",
      "Total cells: 2207\n",
      "Percentage infected:24.6\n",
      "Extracting per marker intensity information...\n",
      "Detecting spots in puncta markers...\n"
     ]
    },
    {
     "name": "stderr",
     "output_type": "stream",
     "text": []
    },
    {
     "name": "stdout",
     "output_type": "stream",
     "text": [
      "\n",
      "Image analyzed: Plate10_Nuc_Wells-H5__Channel_SD_AF647,SD_RFP,SD_GFP,SD_DAPI,SD_BF,SD_NIR\n",
      "\n",
      "Detecting infection load...\n",
      "Total cells: 2438\n",
      "Percentage infected:31.62\n",
      "Extracting per marker intensity information...\n",
      "Detecting spots in puncta markers...\n"
     ]
    },
    {
     "name": "stderr",
     "output_type": "stream",
     "text": []
    },
    {
     "name": "stdout",
     "output_type": "stream",
     "text": [
      "\n",
      "Image analyzed: Plate10_Nuc_Wells-H6__Channel_SD_AF647,SD_RFP,SD_GFP,SD_DAPI,SD_BF,SD_NIR\n",
      "\n",
      "Detecting infection load...\n",
      "Total cells: 2255\n",
      "Percentage infected:35.48\n",
      "Extracting per marker intensity information...\n",
      "Detecting spots in puncta markers...\n"
     ]
    },
    {
     "name": "stderr",
     "output_type": "stream",
     "text": []
    },
    {
     "name": "stdout",
     "output_type": "stream",
     "text": [
      "\n",
      "Image analyzed: Plate10_Nuc_Wells-H7__Channel_SD_AF647,SD_RFP,SD_GFP,SD_DAPI,SD_BF,SD_NIR\n",
      "\n",
      "Detecting infection load...\n",
      "Total cells: 2761\n",
      "Percentage infected:29.59\n",
      "Extracting per marker intensity information...\n",
      "Detecting spots in puncta markers...\n"
     ]
    },
    {
     "name": "stderr",
     "output_type": "stream",
     "text": []
    },
    {
     "name": "stdout",
     "output_type": "stream",
     "text": [
      "\n",
      "Image analyzed: Plate10_Nuc_Wells-H8__Channel_SD_AF647,SD_RFP,SD_GFP,SD_DAPI,SD_BF,SD_NIR\n",
      "\n",
      "Detecting infection load...\n",
      "Total cells: 2502\n",
      "Percentage infected:31.14\n",
      "Extracting per marker intensity information...\n",
      "Detecting spots in puncta markers...\n"
     ]
    },
    {
     "name": "stderr",
     "output_type": "stream",
     "text": []
    },
    {
     "name": "stdout",
     "output_type": "stream",
     "text": [
      "\n",
      "Image analyzed: Plate10_Nuc_Wells-H9__Channel_SD_AF647,SD_RFP,SD_GFP,SD_DAPI,SD_BF,SD_NIR\n",
      "\n",
      "Detecting infection load...\n",
      "Total cells: 2179\n",
      "Percentage infected:31.3\n",
      "Extracting per marker intensity information...\n",
      "Detecting spots in puncta markers...\n"
     ]
    },
    {
     "name": "stderr",
     "output_type": "stream",
     "text": []
    },
    {
     "name": "stdout",
     "output_type": "stream",
     "text": [
      "\n",
      "Image analyzed: Plate10_Nuc_Wells-H10__Channel_SD_AF647,SD_RFP,SD_GFP,SD_DAPI,SD_BF,SD_NIR\n",
      "\n",
      "Detecting infection load...\n",
      "Total cells: 2204\n",
      "Percentage infected:28.22\n",
      "Extracting per marker intensity information...\n",
      "Detecting spots in puncta markers...\n"
     ]
    },
    {
     "name": "stderr",
     "output_type": "stream",
     "text": []
    },
    {
     "name": "stdout",
     "output_type": "stream",
     "text": [
      "\n",
      "Image analyzed: Plate10_Nuc_Wells-H11__Channel_SD_AF647,SD_RFP,SD_GFP,SD_DAPI,SD_BF,SD_NIR\n",
      "\n",
      "Detecting infection load...\n",
      "Total cells: 2598\n",
      "Percentage infected:29.02\n",
      "Extracting per marker intensity information...\n",
      "Detecting spots in puncta markers...\n"
     ]
    },
    {
     "name": "stderr",
     "output_type": "stream",
     "text": []
    },
    {
     "name": "stdout",
     "output_type": "stream",
     "text": [
      "\n",
      "Image analyzed: Plate10_Nuc_Wells-H12__Channel_SD_AF647,SD_RFP,SD_GFP,SD_DAPI,SD_BF,SD_NIR\n",
      "\n",
      "Detecting infection load...\n",
      "Total cells: 1734\n",
      "Percentage infected:23.24\n",
      "Extracting per marker intensity information...\n",
      "Detecting spots in puncta markers...\n"
     ]
    },
    {
     "name": "stderr",
     "output_type": "stream",
     "text": [
      "100%|██████████| 96/96 [46:40<00:00, 29.17s/it]\n",
      " 59%|█████▉    | 10/17 [8:00:50<5:35:17, 2873.94s/it]"
     ]
    },
    {
     "name": "stdout",
     "output_type": "stream",
     "text": [
      "Analyzing Plate: Plate 11_Nuc\n"
     ]
    },
    {
     "name": "stderr",
     "output_type": "stream",
     "text": []
    },
    {
     "name": "stdout",
     "output_type": "stream",
     "text": [
      "\n",
      "Image analyzed: Plate11_Nuc_Wells-A1__Channel_SD_AF647,SD_RFP,SD_GFP,SD_DAPI,SD_BF,SD_NIR\n",
      "\n",
      "Detecting infection load...\n",
      "Total cells: 2553\n",
      "Percentage infected:25.62\n",
      "Extracting per marker intensity information...\n",
      "Detecting spots in puncta markers...\n"
     ]
    },
    {
     "name": "stderr",
     "output_type": "stream",
     "text": []
    },
    {
     "name": "stdout",
     "output_type": "stream",
     "text": [
      "\n",
      "Image analyzed: Plate11_Nuc_Wells-A2__Channel_SD_AF647,SD_RFP,SD_GFP,SD_DAPI,SD_BF,SD_NIR\n",
      "\n",
      "Detecting infection load...\n",
      "Total cells: 2673\n",
      "Percentage infected:26.26\n",
      "Extracting per marker intensity information...\n",
      "Detecting spots in puncta markers...\n"
     ]
    },
    {
     "name": "stderr",
     "output_type": "stream",
     "text": []
    },
    {
     "name": "stdout",
     "output_type": "stream",
     "text": [
      "\n",
      "Image analyzed: Plate11_Nuc_Wells-A3__Channel_SD_AF647,SD_RFP,SD_GFP,SD_DAPI,SD_BF,SD_NIR\n",
      "\n",
      "Detecting infection load...\n",
      "Total cells: 3223\n",
      "Percentage infected:25.16\n",
      "Extracting per marker intensity information...\n",
      "Detecting spots in puncta markers...\n"
     ]
    },
    {
     "name": "stderr",
     "output_type": "stream",
     "text": []
    },
    {
     "name": "stdout",
     "output_type": "stream",
     "text": [
      "\n",
      "Image analyzed: Plate11_Nuc_Wells-A4__Channel_SD_AF647,SD_RFP,SD_GFP,SD_DAPI,SD_BF,SD_NIR\n",
      "\n",
      "Detecting infection load...\n",
      "Total cells: 3046\n",
      "Percentage infected:28.2\n",
      "Extracting per marker intensity information...\n",
      "Detecting spots in puncta markers...\n"
     ]
    },
    {
     "name": "stderr",
     "output_type": "stream",
     "text": []
    },
    {
     "name": "stdout",
     "output_type": "stream",
     "text": [
      "\n",
      "Image analyzed: Plate11_Nuc_Wells-A5__Channel_SD_AF647,SD_RFP,SD_GFP,SD_DAPI,SD_BF,SD_NIR\n",
      "\n",
      "Detecting infection load...\n",
      "Total cells: 2525\n",
      "Percentage infected:28.44\n",
      "Extracting per marker intensity information...\n",
      "Detecting spots in puncta markers...\n"
     ]
    },
    {
     "name": "stderr",
     "output_type": "stream",
     "text": []
    },
    {
     "name": "stdout",
     "output_type": "stream",
     "text": [
      "\n",
      "Image analyzed: Plate11_Nuc_Wells-A6__Channel_SD_AF647,SD_RFP,SD_GFP,SD_DAPI,SD_BF,SD_NIR\n",
      "\n",
      "Detecting infection load...\n",
      "Total cells: 2938\n",
      "Percentage infected:27.43\n",
      "Extracting per marker intensity information...\n",
      "Detecting spots in puncta markers...\n"
     ]
    },
    {
     "name": "stderr",
     "output_type": "stream",
     "text": []
    },
    {
     "name": "stdout",
     "output_type": "stream",
     "text": [
      "\n",
      "Image analyzed: Plate11_Nuc_Wells-A7__Channel_SD_AF647,SD_RFP,SD_GFP,SD_DAPI,SD_BF,SD_NIR\n",
      "\n",
      "Detecting infection load...\n",
      "Total cells: 2979\n",
      "Percentage infected:24.34\n",
      "Extracting per marker intensity information...\n",
      "Detecting spots in puncta markers...\n"
     ]
    },
    {
     "name": "stderr",
     "output_type": "stream",
     "text": []
    },
    {
     "name": "stdout",
     "output_type": "stream",
     "text": [
      "\n",
      "Image analyzed: Plate11_Nuc_Wells-A8__Channel_SD_AF647,SD_RFP,SD_GFP,SD_DAPI,SD_BF,SD_NIR\n",
      "\n",
      "Detecting infection load...\n",
      "Total cells: 2415\n",
      "Percentage infected:24.51\n",
      "Extracting per marker intensity information...\n",
      "Detecting spots in puncta markers...\n"
     ]
    },
    {
     "name": "stderr",
     "output_type": "stream",
     "text": []
    },
    {
     "name": "stdout",
     "output_type": "stream",
     "text": [
      "\n",
      "Image analyzed: Plate11_Nuc_Wells-A9__Channel_SD_AF647,SD_RFP,SD_GFP,SD_DAPI,SD_BF,SD_NIR\n",
      "\n",
      "Detecting infection load...\n",
      "Total cells: 2200\n",
      "Percentage infected:22.23\n",
      "Extracting per marker intensity information...\n",
      "Detecting spots in puncta markers...\n"
     ]
    },
    {
     "name": "stderr",
     "output_type": "stream",
     "text": []
    },
    {
     "name": "stdout",
     "output_type": "stream",
     "text": [
      "\n",
      "Image analyzed: Plate11_Nuc_Wells-A10__Channel_SD_AF647,SD_RFP,SD_GFP,SD_DAPI,SD_BF,SD_NIR\n",
      "\n",
      "Detecting infection load...\n",
      "Total cells: 2154\n",
      "Percentage infected:20.47\n",
      "Extracting per marker intensity information...\n",
      "Detecting spots in puncta markers...\n"
     ]
    },
    {
     "name": "stderr",
     "output_type": "stream",
     "text": []
    },
    {
     "name": "stdout",
     "output_type": "stream",
     "text": [
      "\n",
      "Image analyzed: Plate11_Nuc_Wells-A11__Channel_SD_AF647,SD_RFP,SD_GFP,SD_DAPI,SD_BF,SD_NIR\n",
      "\n",
      "Detecting infection load...\n",
      "Total cells: 2495\n",
      "Percentage infected:21.52\n",
      "Extracting per marker intensity information...\n",
      "Detecting spots in puncta markers...\n"
     ]
    },
    {
     "name": "stderr",
     "output_type": "stream",
     "text": []
    },
    {
     "name": "stdout",
     "output_type": "stream",
     "text": [
      "\n",
      "Image analyzed: Plate11_Nuc_Wells-A12__Channel_SD_AF647,SD_RFP,SD_GFP,SD_DAPI,SD_BF,SD_NIR\n",
      "\n",
      "Detecting infection load...\n",
      "Total cells: 1749\n",
      "Percentage infected:20.75\n",
      "Extracting per marker intensity information...\n",
      "Detecting spots in puncta markers...\n"
     ]
    },
    {
     "name": "stderr",
     "output_type": "stream",
     "text": []
    },
    {
     "name": "stdout",
     "output_type": "stream",
     "text": [
      "\n",
      "Image analyzed: Plate11_Nuc_Wells-B1__Channel_SD_AF647,SD_RFP,SD_GFP,SD_DAPI,SD_BF,SD_NIR\n",
      "\n",
      "Detecting infection load...\n",
      "Total cells: 1759\n",
      "Percentage infected:20.75\n",
      "Extracting per marker intensity information...\n",
      "Detecting spots in puncta markers...\n"
     ]
    },
    {
     "name": "stderr",
     "output_type": "stream",
     "text": []
    },
    {
     "name": "stdout",
     "output_type": "stream",
     "text": [
      "\n",
      "Image analyzed: Plate11_Nuc_Wells-B2__Channel_SD_AF647,SD_RFP,SD_GFP,SD_DAPI,SD_BF,SD_NIR\n",
      "\n",
      "Detecting infection load...\n",
      "Total cells: 1782\n",
      "Percentage infected:22.45\n",
      "Extracting per marker intensity information...\n",
      "Detecting spots in puncta markers...\n"
     ]
    },
    {
     "name": "stderr",
     "output_type": "stream",
     "text": []
    },
    {
     "name": "stdout",
     "output_type": "stream",
     "text": [
      "\n",
      "Image analyzed: Plate11_Nuc_Wells-B3__Channel_SD_AF647,SD_RFP,SD_GFP,SD_DAPI,SD_BF,SD_NIR\n",
      "\n",
      "Detecting infection load...\n",
      "Total cells: 1664\n",
      "Percentage infected:19.23\n",
      "Extracting per marker intensity information...\n",
      "Detecting spots in puncta markers...\n"
     ]
    },
    {
     "name": "stderr",
     "output_type": "stream",
     "text": []
    },
    {
     "name": "stdout",
     "output_type": "stream",
     "text": [
      "\n",
      "Image analyzed: Plate11_Nuc_Wells-B4__Channel_SD_AF647,SD_RFP,SD_GFP,SD_DAPI,SD_BF,SD_NIR\n",
      "\n",
      "Detecting infection load...\n",
      "Total cells: 1918\n",
      "Percentage infected:25.91\n",
      "Extracting per marker intensity information...\n",
      "Detecting spots in puncta markers...\n"
     ]
    },
    {
     "name": "stderr",
     "output_type": "stream",
     "text": []
    },
    {
     "name": "stdout",
     "output_type": "stream",
     "text": [
      "\n",
      "Image analyzed: Plate11_Nuc_Wells-B5__Channel_SD_AF647,SD_RFP,SD_GFP,SD_DAPI,SD_BF,SD_NIR\n",
      "\n",
      "Detecting infection load...\n",
      "Total cells: 1579\n",
      "Percentage infected:23.05\n",
      "Extracting per marker intensity information...\n",
      "Detecting spots in puncta markers...\n"
     ]
    },
    {
     "name": "stderr",
     "output_type": "stream",
     "text": []
    },
    {
     "name": "stdout",
     "output_type": "stream",
     "text": [
      "\n",
      "Image analyzed: Plate11_Nuc_Wells-B6__Channel_SD_AF647,SD_RFP,SD_GFP,SD_DAPI,SD_BF,SD_NIR\n",
      "\n",
      "Detecting infection load...\n",
      "Total cells: 2015\n",
      "Percentage infected:24.76\n",
      "Extracting per marker intensity information...\n",
      "Detecting spots in puncta markers...\n"
     ]
    },
    {
     "name": "stderr",
     "output_type": "stream",
     "text": []
    },
    {
     "name": "stdout",
     "output_type": "stream",
     "text": [
      "\n",
      "Image analyzed: Plate11_Nuc_Wells-B7__Channel_SD_AF647,SD_RFP,SD_GFP,SD_DAPI,SD_BF,SD_NIR\n",
      "\n",
      "Detecting infection load...\n",
      "Total cells: 1458\n",
      "Percentage infected:20.51\n",
      "Extracting per marker intensity information...\n",
      "Detecting spots in puncta markers...\n"
     ]
    },
    {
     "name": "stderr",
     "output_type": "stream",
     "text": []
    },
    {
     "name": "stdout",
     "output_type": "stream",
     "text": [
      "\n",
      "Image analyzed: Plate11_Nuc_Wells-B8__Channel_SD_AF647,SD_RFP,SD_GFP,SD_DAPI,SD_BF,SD_NIR\n",
      "\n",
      "Detecting infection load...\n",
      "Total cells: 1389\n",
      "Percentage infected:24.26\n",
      "Extracting per marker intensity information...\n",
      "Detecting spots in puncta markers...\n"
     ]
    },
    {
     "name": "stderr",
     "output_type": "stream",
     "text": []
    },
    {
     "name": "stdout",
     "output_type": "stream",
     "text": [
      "\n",
      "Image analyzed: Plate11_Nuc_Wells-B9__Channel_SD_AF647,SD_RFP,SD_GFP,SD_DAPI,SD_BF,SD_NIR\n",
      "\n",
      "Detecting infection load...\n",
      "Total cells: 1606\n",
      "Percentage infected:25.09\n",
      "Extracting per marker intensity information...\n",
      "Detecting spots in puncta markers...\n"
     ]
    },
    {
     "name": "stderr",
     "output_type": "stream",
     "text": []
    },
    {
     "name": "stdout",
     "output_type": "stream",
     "text": [
      "\n",
      "Image analyzed: Plate11_Nuc_Wells-B10__Channel_SD_AF647,SD_RFP,SD_GFP,SD_DAPI,SD_BF,SD_NIR\n",
      "\n",
      "Detecting infection load...\n",
      "Total cells: 1512\n",
      "Percentage infected:21.56\n",
      "Extracting per marker intensity information...\n",
      "Detecting spots in puncta markers...\n"
     ]
    },
    {
     "name": "stderr",
     "output_type": "stream",
     "text": []
    },
    {
     "name": "stdout",
     "output_type": "stream",
     "text": [
      "\n",
      "Image analyzed: Plate11_Nuc_Wells-B11__Channel_SD_AF647,SD_RFP,SD_GFP,SD_DAPI,SD_BF,SD_NIR\n",
      "\n",
      "Detecting infection load...\n",
      "Total cells: 1723\n",
      "Percentage infected:20.89\n",
      "Extracting per marker intensity information...\n",
      "Detecting spots in puncta markers...\n"
     ]
    },
    {
     "name": "stderr",
     "output_type": "stream",
     "text": []
    },
    {
     "name": "stdout",
     "output_type": "stream",
     "text": [
      "\n",
      "Image analyzed: Plate11_Nuc_Wells-B12__Channel_SD_AF647,SD_RFP,SD_GFP,SD_DAPI,SD_BF,SD_NIR\n",
      "\n",
      "Detecting infection load...\n",
      "Total cells: 1143\n",
      "Percentage infected:20.47\n",
      "Extracting per marker intensity information...\n",
      "Detecting spots in puncta markers...\n"
     ]
    },
    {
     "name": "stderr",
     "output_type": "stream",
     "text": []
    },
    {
     "name": "stdout",
     "output_type": "stream",
     "text": [
      "\n",
      "Image analyzed: Plate11_Nuc_Wells-C1__Channel_SD_AF647,SD_RFP,SD_GFP,SD_DAPI,SD_BF,SD_NIR\n",
      "\n",
      "Detecting infection load...\n",
      "Total cells: 1441\n",
      "Percentage infected:17.77\n",
      "Extracting per marker intensity information...\n",
      "Detecting spots in puncta markers...\n"
     ]
    },
    {
     "name": "stderr",
     "output_type": "stream",
     "text": []
    },
    {
     "name": "stdout",
     "output_type": "stream",
     "text": [
      "\n",
      "Image analyzed: Plate11_Nuc_Wells-C2__Channel_SD_AF647,SD_RFP,SD_GFP,SD_DAPI,SD_BF,SD_NIR\n",
      "\n",
      "Detecting infection load...\n",
      "Total cells: 1791\n",
      "Percentage infected:20.88\n",
      "Extracting per marker intensity information...\n",
      "Detecting spots in puncta markers...\n"
     ]
    },
    {
     "name": "stderr",
     "output_type": "stream",
     "text": []
    },
    {
     "name": "stdout",
     "output_type": "stream",
     "text": [
      "\n",
      "Image analyzed: Plate11_Nuc_Wells-C3__Channel_SD_AF647,SD_RFP,SD_GFP,SD_DAPI,SD_BF,SD_NIR\n",
      "\n",
      "Detecting infection load...\n",
      "Total cells: 1746\n",
      "Percentage infected:19.13\n",
      "Extracting per marker intensity information...\n",
      "Detecting spots in puncta markers...\n"
     ]
    },
    {
     "name": "stderr",
     "output_type": "stream",
     "text": []
    },
    {
     "name": "stdout",
     "output_type": "stream",
     "text": [
      "\n",
      "Image analyzed: Plate11_Nuc_Wells-C4__Channel_SD_AF647,SD_RFP,SD_GFP,SD_DAPI,SD_BF,SD_NIR\n",
      "\n",
      "Detecting infection load...\n",
      "Total cells: 1809\n",
      "Percentage infected:30.07\n",
      "Extracting per marker intensity information...\n",
      "Detecting spots in puncta markers...\n"
     ]
    },
    {
     "name": "stderr",
     "output_type": "stream",
     "text": []
    },
    {
     "name": "stdout",
     "output_type": "stream",
     "text": [
      "\n",
      "Image analyzed: Plate11_Nuc_Wells-C5__Channel_SD_AF647,SD_RFP,SD_GFP,SD_DAPI,SD_BF,SD_NIR\n",
      "\n",
      "Detecting infection load...\n",
      "Total cells: 1673\n",
      "Percentage infected:21.94\n",
      "Extracting per marker intensity information...\n",
      "Detecting spots in puncta markers...\n"
     ]
    },
    {
     "name": "stderr",
     "output_type": "stream",
     "text": []
    },
    {
     "name": "stdout",
     "output_type": "stream",
     "text": [
      "\n",
      "Image analyzed: Plate11_Nuc_Wells-C6__Channel_SD_AF647,SD_RFP,SD_GFP,SD_DAPI,SD_BF,SD_NIR\n",
      "\n",
      "Detecting infection load...\n",
      "Total cells: 1772\n",
      "Percentage infected:25.85\n",
      "Extracting per marker intensity information...\n",
      "Detecting spots in puncta markers...\n"
     ]
    },
    {
     "name": "stderr",
     "output_type": "stream",
     "text": []
    },
    {
     "name": "stdout",
     "output_type": "stream",
     "text": [
      "\n",
      "Image analyzed: Plate11_Nuc_Wells-C7__Channel_SD_AF647,SD_RFP,SD_GFP,SD_DAPI,SD_BF,SD_NIR\n",
      "\n",
      "Detecting infection load...\n",
      "Total cells: 1298\n",
      "Percentage infected:24.27\n",
      "Extracting per marker intensity information...\n",
      "Detecting spots in puncta markers...\n"
     ]
    },
    {
     "name": "stderr",
     "output_type": "stream",
     "text": []
    },
    {
     "name": "stdout",
     "output_type": "stream",
     "text": [
      "\n",
      "Image analyzed: Plate11_Nuc_Wells-C8__Channel_SD_AF647,SD_RFP,SD_GFP,SD_DAPI,SD_BF,SD_NIR\n",
      "\n",
      "Detecting infection load...\n",
      "Total cells: 1371\n",
      "Percentage infected:25.31\n",
      "Extracting per marker intensity information...\n",
      "Detecting spots in puncta markers...\n"
     ]
    },
    {
     "name": "stderr",
     "output_type": "stream",
     "text": []
    },
    {
     "name": "stdout",
     "output_type": "stream",
     "text": [
      "\n",
      "Image analyzed: Plate11_Nuc_Wells-C9__Channel_SD_AF647,SD_RFP,SD_GFP,SD_DAPI,SD_BF,SD_NIR\n",
      "\n",
      "Detecting infection load...\n",
      "Total cells: 1896\n",
      "Percentage infected:21.47\n",
      "Extracting per marker intensity information...\n",
      "Detecting spots in puncta markers...\n"
     ]
    },
    {
     "name": "stderr",
     "output_type": "stream",
     "text": []
    },
    {
     "name": "stdout",
     "output_type": "stream",
     "text": [
      "\n",
      "Image analyzed: Plate11_Nuc_Wells-C10__Channel_SD_AF647,SD_RFP,SD_GFP,SD_DAPI,SD_BF,SD_NIR\n",
      "\n",
      "Detecting infection load...\n",
      "Total cells: 1714\n",
      "Percentage infected:18.49\n",
      "Extracting per marker intensity information...\n",
      "Detecting spots in puncta markers...\n"
     ]
    },
    {
     "name": "stderr",
     "output_type": "stream",
     "text": []
    },
    {
     "name": "stdout",
     "output_type": "stream",
     "text": [
      "\n",
      "Image analyzed: Plate11_Nuc_Wells-C11__Channel_SD_AF647,SD_RFP,SD_GFP,SD_DAPI,SD_BF,SD_NIR\n",
      "\n",
      "Detecting infection load...\n",
      "Total cells: 1524\n",
      "Percentage infected:20.28\n",
      "Extracting per marker intensity information...\n",
      "Detecting spots in puncta markers...\n"
     ]
    },
    {
     "name": "stderr",
     "output_type": "stream",
     "text": []
    },
    {
     "name": "stdout",
     "output_type": "stream",
     "text": [
      "\n",
      "Image analyzed: Plate11_Nuc_Wells-C12__Channel_SD_AF647,SD_RFP,SD_GFP,SD_DAPI,SD_BF,SD_NIR\n",
      "\n",
      "Detecting infection load...\n",
      "Total cells: 1367\n",
      "Percentage infected:20.56\n",
      "Extracting per marker intensity information...\n",
      "Detecting spots in puncta markers...\n"
     ]
    },
    {
     "name": "stderr",
     "output_type": "stream",
     "text": []
    },
    {
     "name": "stdout",
     "output_type": "stream",
     "text": [
      "\n",
      "Image analyzed: Plate11_Nuc_Wells-D1__Channel_SD_AF647,SD_RFP,SD_GFP,SD_DAPI,SD_BF,SD_NIR\n",
      "\n",
      "Detecting infection load...\n",
      "Total cells: 695\n",
      "Percentage infected:22.01\n",
      "Extracting per marker intensity information...\n",
      "Detecting spots in puncta markers...\n"
     ]
    },
    {
     "name": "stderr",
     "output_type": "stream",
     "text": []
    },
    {
     "name": "stdout",
     "output_type": "stream",
     "text": [
      "\n",
      "Image analyzed: Plate11_Nuc_Wells-D2__Channel_SD_AF647,SD_RFP,SD_GFP,SD_DAPI,SD_BF,SD_NIR\n",
      "\n",
      "Detecting infection load...\n",
      "Total cells: 1042\n",
      "Percentage infected:24.47\n",
      "Extracting per marker intensity information...\n",
      "Detecting spots in puncta markers...\n"
     ]
    },
    {
     "name": "stderr",
     "output_type": "stream",
     "text": []
    },
    {
     "name": "stdout",
     "output_type": "stream",
     "text": [
      "\n",
      "Image analyzed: Plate11_Nuc_Wells-D3__Channel_SD_AF647,SD_RFP,SD_GFP,SD_DAPI,SD_BF,SD_NIR\n",
      "\n",
      "Detecting infection load...\n",
      "Total cells: 1184\n",
      "Percentage infected:27.62\n",
      "Extracting per marker intensity information...\n",
      "Detecting spots in puncta markers...\n"
     ]
    },
    {
     "name": "stderr",
     "output_type": "stream",
     "text": []
    },
    {
     "name": "stdout",
     "output_type": "stream",
     "text": [
      "\n",
      "Image analyzed: Plate11_Nuc_Wells-D4__Channel_SD_AF647,SD_RFP,SD_GFP,SD_DAPI,SD_BF,SD_NIR\n",
      "\n",
      "Detecting infection load...\n",
      "Total cells: 1316\n",
      "Percentage infected:26.6\n",
      "Extracting per marker intensity information...\n",
      "Detecting spots in puncta markers...\n"
     ]
    },
    {
     "name": "stderr",
     "output_type": "stream",
     "text": []
    },
    {
     "name": "stdout",
     "output_type": "stream",
     "text": [
      "\n",
      "Image analyzed: Plate11_Nuc_Wells-D5__Channel_SD_AF647,SD_RFP,SD_GFP,SD_DAPI,SD_BF,SD_NIR\n",
      "\n",
      "Detecting infection load...\n",
      "Total cells: 1733\n",
      "Percentage infected:23.25\n",
      "Extracting per marker intensity information...\n",
      "Detecting spots in puncta markers...\n"
     ]
    },
    {
     "name": "stderr",
     "output_type": "stream",
     "text": []
    },
    {
     "name": "stdout",
     "output_type": "stream",
     "text": [
      "\n",
      "Image analyzed: Plate11_Nuc_Wells-D6__Channel_SD_AF647,SD_RFP,SD_GFP,SD_DAPI,SD_BF,SD_NIR\n",
      "\n",
      "Detecting infection load...\n",
      "Total cells: 1739\n",
      "Percentage infected:28.58\n",
      "Extracting per marker intensity information...\n",
      "Detecting spots in puncta markers...\n"
     ]
    },
    {
     "name": "stderr",
     "output_type": "stream",
     "text": []
    },
    {
     "name": "stdout",
     "output_type": "stream",
     "text": [
      "\n",
      "Image analyzed: Plate11_Nuc_Wells-D7__Channel_SD_AF647,SD_RFP,SD_GFP,SD_DAPI,SD_BF,SD_NIR\n",
      "\n",
      "Detecting infection load...\n",
      "Total cells: 915\n",
      "Percentage infected:23.93\n",
      "Extracting per marker intensity information...\n",
      "Detecting spots in puncta markers...\n"
     ]
    },
    {
     "name": "stderr",
     "output_type": "stream",
     "text": []
    },
    {
     "name": "stdout",
     "output_type": "stream",
     "text": [
      "\n",
      "Image analyzed: Plate11_Nuc_Wells-D8__Channel_SD_AF647,SD_RFP,SD_GFP,SD_DAPI,SD_BF,SD_NIR\n",
      "\n",
      "Detecting infection load...\n",
      "Total cells: 1233\n",
      "Percentage infected:24.74\n",
      "Extracting per marker intensity information...\n",
      "Detecting spots in puncta markers...\n"
     ]
    },
    {
     "name": "stderr",
     "output_type": "stream",
     "text": []
    },
    {
     "name": "stdout",
     "output_type": "stream",
     "text": [
      "\n",
      "Image analyzed: Plate11_Nuc_Wells-D9__Channel_SD_AF647,SD_RFP,SD_GFP,SD_DAPI,SD_BF,SD_NIR\n",
      "\n",
      "Detecting infection load...\n",
      "Total cells: 1493\n",
      "Percentage infected:18.02\n",
      "Extracting per marker intensity information...\n",
      "Detecting spots in puncta markers...\n"
     ]
    },
    {
     "name": "stderr",
     "output_type": "stream",
     "text": []
    },
    {
     "name": "stdout",
     "output_type": "stream",
     "text": [
      "\n",
      "Image analyzed: Plate11_Nuc_Wells-D10__Channel_SD_AF647,SD_RFP,SD_GFP,SD_DAPI,SD_BF,SD_NIR\n",
      "\n",
      "Detecting infection load...\n",
      "Total cells: 1473\n",
      "Percentage infected:12.7\n",
      "Extracting per marker intensity information...\n",
      "Detecting spots in puncta markers...\n"
     ]
    },
    {
     "name": "stderr",
     "output_type": "stream",
     "text": []
    },
    {
     "name": "stdout",
     "output_type": "stream",
     "text": [
      "\n",
      "Image analyzed: Plate11_Nuc_Wells-D11__Channel_SD_AF647,SD_RFP,SD_GFP,SD_DAPI,SD_BF,SD_NIR\n",
      "\n",
      "Detecting infection load...\n",
      "Total cells: 1801\n",
      "Percentage infected:18.71\n",
      "Extracting per marker intensity information...\n",
      "Detecting spots in puncta markers...\n"
     ]
    },
    {
     "name": "stderr",
     "output_type": "stream",
     "text": []
    },
    {
     "name": "stdout",
     "output_type": "stream",
     "text": [
      "\n",
      "Image analyzed: Plate11_Nuc_Wells-D12__Channel_SD_AF647,SD_RFP,SD_GFP,SD_DAPI,SD_BF,SD_NIR\n",
      "\n",
      "Detecting infection load...\n",
      "Total cells: 1083\n",
      "Percentage infected:18.74\n",
      "Extracting per marker intensity information...\n",
      "Detecting spots in puncta markers...\n"
     ]
    },
    {
     "name": "stderr",
     "output_type": "stream",
     "text": []
    },
    {
     "name": "stdout",
     "output_type": "stream",
     "text": [
      "\n",
      "Image analyzed: Plate11_Nuc_Wells-E1__Channel_SD_AF647,SD_RFP,SD_GFP,SD_DAPI,SD_BF,SD_NIR\n",
      "\n",
      "Detecting infection load...\n",
      "Total cells: 1549\n",
      "Percentage infected:23.31\n",
      "Extracting per marker intensity information...\n",
      "Detecting spots in puncta markers...\n"
     ]
    },
    {
     "name": "stderr",
     "output_type": "stream",
     "text": []
    },
    {
     "name": "stdout",
     "output_type": "stream",
     "text": [
      "\n",
      "Image analyzed: Plate11_Nuc_Wells-E2__Channel_SD_AF647,SD_RFP,SD_GFP,SD_DAPI,SD_BF,SD_NIR\n",
      "\n",
      "Detecting infection load...\n",
      "Total cells: 1035\n",
      "Percentage infected:34.01\n",
      "Extracting per marker intensity information...\n",
      "Detecting spots in puncta markers...\n"
     ]
    },
    {
     "name": "stderr",
     "output_type": "stream",
     "text": []
    },
    {
     "name": "stdout",
     "output_type": "stream",
     "text": [
      "\n",
      "Image analyzed: Plate11_Nuc_Wells-E3__Channel_SD_AF647,SD_RFP,SD_GFP,SD_DAPI,SD_BF,SD_NIR\n",
      "\n",
      "Detecting infection load...\n",
      "Total cells: 1503\n",
      "Percentage infected:24.95\n",
      "Extracting per marker intensity information...\n",
      "Detecting spots in puncta markers...\n"
     ]
    },
    {
     "name": "stderr",
     "output_type": "stream",
     "text": []
    },
    {
     "name": "stdout",
     "output_type": "stream",
     "text": [
      "\n",
      "Image analyzed: Plate11_Nuc_Wells-E4__Channel_SD_AF647,SD_RFP,SD_GFP,SD_DAPI,SD_BF,SD_NIR\n",
      "\n",
      "Detecting infection load...\n",
      "Total cells: 1807\n",
      "Percentage infected:29.44\n",
      "Extracting per marker intensity information...\n",
      "Detecting spots in puncta markers...\n"
     ]
    },
    {
     "name": "stderr",
     "output_type": "stream",
     "text": []
    },
    {
     "name": "stdout",
     "output_type": "stream",
     "text": [
      "\n",
      "Image analyzed: Plate11_Nuc_Wells-E5__Channel_SD_AF647,SD_RFP,SD_GFP,SD_DAPI,SD_BF,SD_NIR\n",
      "\n",
      "Detecting infection load...\n",
      "Total cells: 1922\n",
      "Percentage infected:28.1\n",
      "Extracting per marker intensity information...\n",
      "Detecting spots in puncta markers...\n"
     ]
    },
    {
     "name": "stderr",
     "output_type": "stream",
     "text": []
    },
    {
     "name": "stdout",
     "output_type": "stream",
     "text": [
      "\n",
      "Image analyzed: Plate11_Nuc_Wells-E6__Channel_SD_AF647,SD_RFP,SD_GFP,SD_DAPI,SD_BF,SD_NIR\n",
      "\n",
      "Detecting infection load...\n",
      "Total cells: 1745\n",
      "Percentage infected:31.69\n",
      "Extracting per marker intensity information...\n",
      "Detecting spots in puncta markers...\n"
     ]
    },
    {
     "name": "stderr",
     "output_type": "stream",
     "text": []
    },
    {
     "name": "stdout",
     "output_type": "stream",
     "text": [
      "\n",
      "Image analyzed: Plate11_Nuc_Wells-E7__Channel_SD_AF647,SD_RFP,SD_GFP,SD_DAPI,SD_BF,SD_NIR\n",
      "\n",
      "Detecting infection load...\n",
      "Total cells: 1233\n",
      "Percentage infected:23.76\n",
      "Extracting per marker intensity information...\n",
      "Detecting spots in puncta markers...\n"
     ]
    },
    {
     "name": "stderr",
     "output_type": "stream",
     "text": []
    },
    {
     "name": "stdout",
     "output_type": "stream",
     "text": [
      "\n",
      "Image analyzed: Plate11_Nuc_Wells-E8__Channel_SD_AF647,SD_RFP,SD_GFP,SD_DAPI,SD_BF,SD_NIR\n",
      "\n",
      "Detecting infection load...\n",
      "Total cells: 1338\n",
      "Percentage infected:25.26\n",
      "Extracting per marker intensity information...\n",
      "Detecting spots in puncta markers...\n"
     ]
    },
    {
     "name": "stderr",
     "output_type": "stream",
     "text": []
    },
    {
     "name": "stdout",
     "output_type": "stream",
     "text": [
      "\n",
      "Image analyzed: Plate11_Nuc_Wells-E9__Channel_SD_AF647,SD_RFP,SD_GFP,SD_DAPI,SD_BF,SD_NIR\n",
      "\n",
      "Detecting infection load...\n",
      "Total cells: 1619\n",
      "Percentage infected:21.43\n",
      "Extracting per marker intensity information...\n",
      "Detecting spots in puncta markers...\n"
     ]
    },
    {
     "name": "stderr",
     "output_type": "stream",
     "text": []
    },
    {
     "name": "stdout",
     "output_type": "stream",
     "text": [
      "\n",
      "Image analyzed: Plate11_Nuc_Wells-E10__Channel_SD_AF647,SD_RFP,SD_GFP,SD_DAPI,SD_BF,SD_NIR\n",
      "\n",
      "Detecting infection load...\n",
      "Total cells: 1632\n",
      "Percentage infected:19.49\n",
      "Extracting per marker intensity information...\n",
      "Detecting spots in puncta markers...\n"
     ]
    },
    {
     "name": "stderr",
     "output_type": "stream",
     "text": []
    },
    {
     "name": "stdout",
     "output_type": "stream",
     "text": [
      "\n",
      "Image analyzed: Plate11_Nuc_Wells-E11__Channel_SD_AF647,SD_RFP,SD_GFP,SD_DAPI,SD_BF,SD_NIR\n",
      "\n",
      "Detecting infection load...\n",
      "Total cells: 1552\n",
      "Percentage infected:21.71\n",
      "Extracting per marker intensity information...\n",
      "Detecting spots in puncta markers...\n"
     ]
    },
    {
     "name": "stderr",
     "output_type": "stream",
     "text": []
    },
    {
     "name": "stdout",
     "output_type": "stream",
     "text": [
      "\n",
      "Image analyzed: Plate11_Nuc_Wells-E12__Channel_SD_AF647,SD_RFP,SD_GFP,SD_DAPI,SD_BF,SD_NIR\n",
      "\n",
      "Detecting infection load...\n",
      "Total cells: 873\n",
      "Percentage infected:22.34\n",
      "Extracting per marker intensity information...\n",
      "Detecting spots in puncta markers...\n"
     ]
    },
    {
     "name": "stderr",
     "output_type": "stream",
     "text": []
    },
    {
     "name": "stdout",
     "output_type": "stream",
     "text": [
      "\n",
      "Image analyzed: Plate11_Nuc_Wells-F1__Channel_SD_AF647,SD_RFP,SD_GFP,SD_DAPI,SD_BF,SD_NIR\n",
      "\n",
      "Detecting infection load...\n",
      "Total cells: 1678\n",
      "Percentage infected:24.31\n",
      "Extracting per marker intensity information...\n",
      "Detecting spots in puncta markers...\n"
     ]
    },
    {
     "name": "stderr",
     "output_type": "stream",
     "text": []
    },
    {
     "name": "stdout",
     "output_type": "stream",
     "text": [
      "\n",
      "Image analyzed: Plate11_Nuc_Wells-F2__Channel_SD_AF647,SD_RFP,SD_GFP,SD_DAPI,SD_BF,SD_NIR\n",
      "\n",
      "Detecting infection load...\n",
      "Total cells: 1468\n",
      "Percentage infected:26.16\n",
      "Extracting per marker intensity information...\n",
      "Detecting spots in puncta markers...\n"
     ]
    },
    {
     "name": "stderr",
     "output_type": "stream",
     "text": []
    },
    {
     "name": "stdout",
     "output_type": "stream",
     "text": [
      "\n",
      "Image analyzed: Plate11_Nuc_Wells-F3__Channel_SD_AF647,SD_RFP,SD_GFP,SD_DAPI,SD_BF,SD_NIR\n",
      "\n",
      "Detecting infection load...\n",
      "Total cells: 1938\n",
      "Percentage infected:28.02\n",
      "Extracting per marker intensity information...\n",
      "Detecting spots in puncta markers...\n"
     ]
    },
    {
     "name": "stderr",
     "output_type": "stream",
     "text": []
    },
    {
     "name": "stdout",
     "output_type": "stream",
     "text": [
      "\n",
      "Image analyzed: Plate11_Nuc_Wells-F4__Channel_SD_AF647,SD_RFP,SD_GFP,SD_DAPI,SD_BF,SD_NIR\n",
      "\n",
      "Detecting infection load...\n",
      "Total cells: 1826\n",
      "Percentage infected:32.75\n",
      "Extracting per marker intensity information...\n",
      "Detecting spots in puncta markers...\n"
     ]
    },
    {
     "name": "stderr",
     "output_type": "stream",
     "text": []
    },
    {
     "name": "stdout",
     "output_type": "stream",
     "text": [
      "\n",
      "Image analyzed: Plate11_Nuc_Wells-F5__Channel_SD_AF647,SD_RFP,SD_GFP,SD_DAPI,SD_BF,SD_NIR\n",
      "\n",
      "Detecting infection load...\n",
      "Total cells: 1950\n",
      "Percentage infected:32.56\n",
      "Extracting per marker intensity information...\n",
      "Detecting spots in puncta markers...\n"
     ]
    },
    {
     "name": "stderr",
     "output_type": "stream",
     "text": []
    },
    {
     "name": "stdout",
     "output_type": "stream",
     "text": [
      "\n",
      "Image analyzed: Plate11_Nuc_Wells-F6__Channel_SD_AF647,SD_RFP,SD_GFP,SD_DAPI,SD_BF,SD_NIR\n",
      "\n",
      "Detecting infection load...\n",
      "Total cells: 1971\n",
      "Percentage infected:28.87\n",
      "Extracting per marker intensity information...\n",
      "Detecting spots in puncta markers...\n"
     ]
    },
    {
     "name": "stderr",
     "output_type": "stream",
     "text": []
    },
    {
     "name": "stdout",
     "output_type": "stream",
     "text": [
      "\n",
      "Image analyzed: Plate11_Nuc_Wells-F7__Channel_SD_AF647,SD_RFP,SD_GFP,SD_DAPI,SD_BF,SD_NIR\n",
      "\n",
      "Detecting infection load...\n",
      "Total cells: 1666\n",
      "Percentage infected:24.67\n",
      "Extracting per marker intensity information...\n",
      "Detecting spots in puncta markers...\n"
     ]
    },
    {
     "name": "stderr",
     "output_type": "stream",
     "text": []
    },
    {
     "name": "stdout",
     "output_type": "stream",
     "text": [
      "\n",
      "Image analyzed: Plate11_Nuc_Wells-F8__Channel_SD_AF647,SD_RFP,SD_GFP,SD_DAPI,SD_BF,SD_NIR\n",
      "\n",
      "Detecting infection load...\n",
      "Total cells: 1590\n",
      "Percentage infected:24.15\n",
      "Extracting per marker intensity information...\n",
      "Detecting spots in puncta markers...\n"
     ]
    },
    {
     "name": "stderr",
     "output_type": "stream",
     "text": []
    },
    {
     "name": "stdout",
     "output_type": "stream",
     "text": [
      "\n",
      "Image analyzed: Plate11_Nuc_Wells-F9__Channel_SD_AF647,SD_RFP,SD_GFP,SD_DAPI,SD_BF,SD_NIR\n",
      "\n",
      "Detecting infection load...\n",
      "Total cells: 1263\n",
      "Percentage infected:24.62\n",
      "Extracting per marker intensity information...\n",
      "Detecting spots in puncta markers...\n"
     ]
    },
    {
     "name": "stderr",
     "output_type": "stream",
     "text": []
    },
    {
     "name": "stdout",
     "output_type": "stream",
     "text": [
      "\n",
      "Image analyzed: Plate11_Nuc_Wells-F10__Channel_SD_AF647,SD_RFP,SD_GFP,SD_DAPI,SD_BF,SD_NIR\n",
      "\n",
      "Detecting infection load...\n",
      "Total cells: 1732\n",
      "Percentage infected:19.28\n",
      "Extracting per marker intensity information...\n",
      "Detecting spots in puncta markers...\n"
     ]
    },
    {
     "name": "stderr",
     "output_type": "stream",
     "text": []
    },
    {
     "name": "stdout",
     "output_type": "stream",
     "text": [
      "\n",
      "Image analyzed: Plate11_Nuc_Wells-F11__Channel_SD_AF647,SD_RFP,SD_GFP,SD_DAPI,SD_BF,SD_NIR\n",
      "\n",
      "Detecting infection load...\n",
      "Total cells: 1507\n",
      "Percentage infected:20.31\n",
      "Extracting per marker intensity information...\n",
      "Detecting spots in puncta markers...\n"
     ]
    },
    {
     "name": "stderr",
     "output_type": "stream",
     "text": []
    },
    {
     "name": "stdout",
     "output_type": "stream",
     "text": [
      "\n",
      "Image analyzed: Plate11_Nuc_Wells-F12__Channel_SD_AF647,SD_RFP,SD_GFP,SD_DAPI,SD_BF,SD_NIR\n",
      "\n",
      "Detecting infection load...\n",
      "Total cells: 701\n",
      "Percentage infected:19.12\n",
      "Extracting per marker intensity information...\n",
      "Detecting spots in puncta markers...\n"
     ]
    },
    {
     "name": "stderr",
     "output_type": "stream",
     "text": []
    },
    {
     "name": "stdout",
     "output_type": "stream",
     "text": [
      "\n",
      "Image analyzed: Plate11_Nuc_Wells-G1__Channel_SD_AF647,SD_RFP,SD_GFP,SD_DAPI,SD_BF,SD_NIR\n",
      "\n",
      "Detecting infection load...\n",
      "Total cells: 1466\n",
      "Percentage infected:20.67\n",
      "Extracting per marker intensity information...\n",
      "Detecting spots in puncta markers...\n"
     ]
    },
    {
     "name": "stderr",
     "output_type": "stream",
     "text": []
    },
    {
     "name": "stdout",
     "output_type": "stream",
     "text": [
      "\n",
      "Image analyzed: Plate11_Nuc_Wells-G2__Channel_SD_AF647,SD_RFP,SD_GFP,SD_DAPI,SD_BF,SD_NIR\n",
      "\n",
      "Detecting infection load...\n",
      "Total cells: 1284\n",
      "Percentage infected:26.64\n",
      "Extracting per marker intensity information...\n",
      "Detecting spots in puncta markers...\n"
     ]
    },
    {
     "name": "stderr",
     "output_type": "stream",
     "text": []
    },
    {
     "name": "stdout",
     "output_type": "stream",
     "text": [
      "\n",
      "Image analyzed: Plate11_Nuc_Wells-G3__Channel_SD_AF647,SD_RFP,SD_GFP,SD_DAPI,SD_BF,SD_NIR\n",
      "\n",
      "Detecting infection load...\n",
      "Total cells: 1612\n",
      "Percentage infected:21.09\n",
      "Extracting per marker intensity information...\n",
      "Detecting spots in puncta markers...\n"
     ]
    },
    {
     "name": "stderr",
     "output_type": "stream",
     "text": []
    },
    {
     "name": "stdout",
     "output_type": "stream",
     "text": [
      "\n",
      "Image analyzed: Plate11_Nuc_Wells-G4__Channel_SD_AF647,SD_RFP,SD_GFP,SD_DAPI,SD_BF,SD_NIR\n",
      "\n",
      "Detecting infection load...\n",
      "Total cells: 2179\n",
      "Percentage infected:25.61\n",
      "Extracting per marker intensity information...\n",
      "Detecting spots in puncta markers...\n"
     ]
    },
    {
     "name": "stderr",
     "output_type": "stream",
     "text": []
    },
    {
     "name": "stdout",
     "output_type": "stream",
     "text": [
      "\n",
      "Image analyzed: Plate11_Nuc_Wells-G5__Channel_SD_AF647,SD_RFP,SD_GFP,SD_DAPI,SD_BF,SD_NIR\n",
      "\n",
      "Detecting infection load...\n",
      "Total cells: 2234\n",
      "Percentage infected:30.35\n",
      "Extracting per marker intensity information...\n",
      "Detecting spots in puncta markers...\n"
     ]
    },
    {
     "name": "stderr",
     "output_type": "stream",
     "text": []
    },
    {
     "name": "stdout",
     "output_type": "stream",
     "text": [
      "\n",
      "Image analyzed: Plate11_Nuc_Wells-G6__Channel_SD_AF647,SD_RFP,SD_GFP,SD_DAPI,SD_BF,SD_NIR\n",
      "\n",
      "Detecting infection load...\n",
      "Total cells: 1941\n",
      "Percentage infected:27.92\n",
      "Extracting per marker intensity information...\n",
      "Detecting spots in puncta markers...\n"
     ]
    },
    {
     "name": "stderr",
     "output_type": "stream",
     "text": []
    },
    {
     "name": "stdout",
     "output_type": "stream",
     "text": [
      "\n",
      "Image analyzed: Plate11_Nuc_Wells-G7__Channel_SD_AF647,SD_RFP,SD_GFP,SD_DAPI,SD_BF,SD_NIR\n",
      "\n",
      "Detecting infection load...\n",
      "Total cells: 1691\n",
      "Percentage infected:24.72\n",
      "Extracting per marker intensity information...\n",
      "Detecting spots in puncta markers...\n"
     ]
    },
    {
     "name": "stderr",
     "output_type": "stream",
     "text": []
    },
    {
     "name": "stdout",
     "output_type": "stream",
     "text": [
      "\n",
      "Image analyzed: Plate11_Nuc_Wells-G8__Channel_SD_AF647,SD_RFP,SD_GFP,SD_DAPI,SD_BF,SD_NIR\n",
      "\n",
      "Detecting infection load...\n",
      "Total cells: 1368\n",
      "Percentage infected:29.09\n",
      "Extracting per marker intensity information...\n",
      "Detecting spots in puncta markers...\n"
     ]
    },
    {
     "name": "stderr",
     "output_type": "stream",
     "text": []
    },
    {
     "name": "stdout",
     "output_type": "stream",
     "text": [
      "\n",
      "Image analyzed: Plate11_Nuc_Wells-G9__Channel_SD_AF647,SD_RFP,SD_GFP,SD_DAPI,SD_BF,SD_NIR\n",
      "\n",
      "Detecting infection load...\n",
      "Total cells: 1434\n",
      "Percentage infected:22.04\n",
      "Extracting per marker intensity information...\n",
      "Detecting spots in puncta markers...\n"
     ]
    },
    {
     "name": "stderr",
     "output_type": "stream",
     "text": []
    },
    {
     "name": "stdout",
     "output_type": "stream",
     "text": [
      "\n",
      "Image analyzed: Plate11_Nuc_Wells-G10__Channel_SD_AF647,SD_RFP,SD_GFP,SD_DAPI,SD_BF,SD_NIR\n",
      "\n",
      "Detecting infection load...\n",
      "Total cells: 1351\n",
      "Percentage infected:23.91\n",
      "Extracting per marker intensity information...\n",
      "Detecting spots in puncta markers...\n"
     ]
    },
    {
     "name": "stderr",
     "output_type": "stream",
     "text": []
    },
    {
     "name": "stdout",
     "output_type": "stream",
     "text": [
      "\n",
      "Image analyzed: Plate11_Nuc_Wells-G11__Channel_SD_AF647,SD_RFP,SD_GFP,SD_DAPI,SD_BF,SD_NIR\n",
      "\n",
      "Detecting infection load...\n",
      "Total cells: 1727\n",
      "Percentage infected:21.95\n",
      "Extracting per marker intensity information...\n",
      "Detecting spots in puncta markers...\n"
     ]
    },
    {
     "name": "stderr",
     "output_type": "stream",
     "text": []
    },
    {
     "name": "stdout",
     "output_type": "stream",
     "text": [
      "\n",
      "Image analyzed: Plate11_Nuc_Wells-G12__Channel_SD_AF647,SD_RFP,SD_GFP,SD_DAPI,SD_BF,SD_NIR\n",
      "\n",
      "Detecting infection load...\n",
      "Total cells: 1478\n",
      "Percentage infected:17.79\n",
      "Extracting per marker intensity information...\n",
      "Detecting spots in puncta markers...\n"
     ]
    },
    {
     "name": "stderr",
     "output_type": "stream",
     "text": []
    },
    {
     "name": "stdout",
     "output_type": "stream",
     "text": [
      "\n",
      "Image analyzed: Plate11_Nuc_Wells-H1__Channel_SD_AF647,SD_RFP,SD_GFP,SD_DAPI,SD_BF,SD_NIR\n",
      "\n",
      "Detecting infection load...\n",
      "Total cells: 2314\n",
      "Percentage infected:0.13\n",
      "Extracting per marker intensity information...\n",
      "Detecting spots in puncta markers...\n"
     ]
    },
    {
     "name": "stderr",
     "output_type": "stream",
     "text": []
    },
    {
     "name": "stdout",
     "output_type": "stream",
     "text": [
      "\n",
      "Image analyzed: Plate11_Nuc_Wells-H2__Channel_SD_AF647,SD_RFP,SD_GFP,SD_DAPI,SD_BF,SD_NIR\n",
      "\n",
      "Detecting infection load...\n",
      "Total cells: 1538\n",
      "Percentage infected:31.34\n",
      "Extracting per marker intensity information...\n",
      "Detecting spots in puncta markers...\n"
     ]
    },
    {
     "name": "stderr",
     "output_type": "stream",
     "text": []
    },
    {
     "name": "stdout",
     "output_type": "stream",
     "text": [
      "\n",
      "Image analyzed: Plate11_Nuc_Wells-H3__Channel_SD_AF647,SD_RFP,SD_GFP,SD_DAPI,SD_BF,SD_NIR\n",
      "\n",
      "Detecting infection load...\n",
      "Total cells: 1474\n",
      "Percentage infected:36.09\n",
      "Extracting per marker intensity information...\n",
      "Detecting spots in puncta markers...\n"
     ]
    },
    {
     "name": "stderr",
     "output_type": "stream",
     "text": []
    },
    {
     "name": "stdout",
     "output_type": "stream",
     "text": [
      "\n",
      "Image analyzed: Plate11_Nuc_Wells-H4__Channel_SD_AF647,SD_RFP,SD_GFP,SD_DAPI,SD_BF,SD_NIR\n",
      "\n",
      "Detecting infection load...\n",
      "Total cells: 2188\n",
      "Percentage infected:28.93\n",
      "Extracting per marker intensity information...\n",
      "Detecting spots in puncta markers...\n"
     ]
    },
    {
     "name": "stderr",
     "output_type": "stream",
     "text": []
    },
    {
     "name": "stdout",
     "output_type": "stream",
     "text": [
      "\n",
      "Image analyzed: Plate11_Nuc_Wells-H5__Channel_SD_AF647,SD_RFP,SD_GFP,SD_DAPI,SD_BF,SD_NIR\n",
      "\n",
      "Detecting infection load...\n",
      "Total cells: 2740\n",
      "Percentage infected:35.33\n",
      "Extracting per marker intensity information...\n",
      "Detecting spots in puncta markers...\n"
     ]
    },
    {
     "name": "stderr",
     "output_type": "stream",
     "text": []
    },
    {
     "name": "stdout",
     "output_type": "stream",
     "text": [
      "\n",
      "Image analyzed: Plate11_Nuc_Wells-H6__Channel_SD_AF647,SD_RFP,SD_GFP,SD_DAPI,SD_BF,SD_NIR\n",
      "\n",
      "Detecting infection load...\n",
      "Total cells: 1982\n",
      "Percentage infected:29.97\n",
      "Extracting per marker intensity information...\n",
      "Detecting spots in puncta markers...\n"
     ]
    },
    {
     "name": "stderr",
     "output_type": "stream",
     "text": []
    },
    {
     "name": "stdout",
     "output_type": "stream",
     "text": [
      "\n",
      "Image analyzed: Plate11_Nuc_Wells-H7__Channel_SD_AF647,SD_RFP,SD_GFP,SD_DAPI,SD_BF,SD_NIR\n",
      "\n",
      "Detecting infection load...\n",
      "Total cells: 2234\n",
      "Percentage infected:27.22\n",
      "Extracting per marker intensity information...\n",
      "Detecting spots in puncta markers...\n"
     ]
    },
    {
     "name": "stderr",
     "output_type": "stream",
     "text": []
    },
    {
     "name": "stdout",
     "output_type": "stream",
     "text": [
      "\n",
      "Image analyzed: Plate11_Nuc_Wells-H8__Channel_SD_AF647,SD_RFP,SD_GFP,SD_DAPI,SD_BF,SD_NIR\n",
      "\n",
      "Detecting infection load...\n",
      "Total cells: 1852\n",
      "Percentage infected:33.42\n",
      "Extracting per marker intensity information...\n",
      "Detecting spots in puncta markers...\n"
     ]
    },
    {
     "name": "stderr",
     "output_type": "stream",
     "text": []
    },
    {
     "name": "stdout",
     "output_type": "stream",
     "text": [
      "\n",
      "Image analyzed: Plate11_Nuc_Wells-H9__Channel_SD_AF647,SD_RFP,SD_GFP,SD_DAPI,SD_BF,SD_NIR\n",
      "\n",
      "Detecting infection load...\n",
      "Total cells: 1650\n",
      "Percentage infected:20.3\n",
      "Extracting per marker intensity information...\n",
      "Detecting spots in puncta markers...\n"
     ]
    },
    {
     "name": "stderr",
     "output_type": "stream",
     "text": []
    },
    {
     "name": "stdout",
     "output_type": "stream",
     "text": [
      "\n",
      "Image analyzed: Plate11_Nuc_Wells-H10__Channel_SD_AF647,SD_RFP,SD_GFP,SD_DAPI,SD_BF,SD_NIR\n",
      "\n",
      "Detecting infection load...\n",
      "Total cells: 2037\n",
      "Percentage infected:31.17\n",
      "Extracting per marker intensity information...\n",
      "Detecting spots in puncta markers...\n"
     ]
    },
    {
     "name": "stderr",
     "output_type": "stream",
     "text": []
    },
    {
     "name": "stdout",
     "output_type": "stream",
     "text": [
      "\n",
      "Image analyzed: Plate11_Nuc_Wells-H11__Channel_SD_AF647,SD_RFP,SD_GFP,SD_DAPI,SD_BF,SD_NIR\n",
      "\n",
      "Detecting infection load...\n",
      "Total cells: 1674\n",
      "Percentage infected:22.16\n",
      "Extracting per marker intensity information...\n",
      "Detecting spots in puncta markers...\n"
     ]
    },
    {
     "name": "stderr",
     "output_type": "stream",
     "text": []
    },
    {
     "name": "stdout",
     "output_type": "stream",
     "text": [
      "\n",
      "Image analyzed: Plate11_Nuc_Wells-H12__Channel_SD_AF647,SD_RFP,SD_GFP,SD_DAPI,SD_BF,SD_NIR\n",
      "\n",
      "Detecting infection load...\n",
      "Total cells: 1692\n",
      "Percentage infected:20.86\n",
      "Extracting per marker intensity information...\n",
      "Detecting spots in puncta markers...\n"
     ]
    },
    {
     "name": "stderr",
     "output_type": "stream",
     "text": [
      "100%|██████████| 96/96 [46:52<00:00, 29.30s/it]\n",
      " 65%|██████▍   | 11/17 [8:47:46<4:45:38, 2856.37s/it]"
     ]
    },
    {
     "name": "stdout",
     "output_type": "stream",
     "text": [
      "Analyzing Plate: Plate 12_Nuc\n"
     ]
    },
    {
     "name": "stderr",
     "output_type": "stream",
     "text": []
    },
    {
     "name": "stdout",
     "output_type": "stream",
     "text": [
      "\n",
      "Image analyzed: Plate12_Nuc_Wells-G6__Channel_SD_AF647,SD_RFP,SD_GFP,SD_DAPI,SD_BF,SD_NIR\n",
      "\n",
      "Detecting infection load...\n",
      "Total cells: 2397\n",
      "Percentage infected:29.5\n",
      "Extracting per marker intensity information...\n",
      "Detecting spots in puncta markers...\n"
     ]
    },
    {
     "name": "stderr",
     "output_type": "stream",
     "text": []
    },
    {
     "name": "stdout",
     "output_type": "stream",
     "text": [
      "\n",
      "Image analyzed: Plate12_Nuc_Wells-G7__Channel_SD_AF647,SD_RFP,SD_GFP,SD_DAPI,SD_BF,SD_NIR\n",
      "\n",
      "Detecting infection load...\n",
      "Total cells: 1894\n",
      "Percentage infected:30.62\n",
      "Extracting per marker intensity information...\n",
      "Detecting spots in puncta markers...\n"
     ]
    },
    {
     "name": "stderr",
     "output_type": "stream",
     "text": []
    },
    {
     "name": "stdout",
     "output_type": "stream",
     "text": [
      "\n",
      "Image analyzed: Plate12_Nuc_Wells-G8__Channel_SD_AF647,SD_RFP,SD_GFP,SD_DAPI,SD_BF,SD_NIR\n",
      "\n",
      "Detecting infection load...\n",
      "Total cells: 2204\n",
      "Percentage infected:30.49\n",
      "Extracting per marker intensity information...\n",
      "Detecting spots in puncta markers...\n"
     ]
    },
    {
     "name": "stderr",
     "output_type": "stream",
     "text": []
    },
    {
     "name": "stdout",
     "output_type": "stream",
     "text": [
      "\n",
      "Image analyzed: Plate12_Nuc_Wells-G9__Channel_SD_AF647,SD_RFP,SD_GFP,SD_DAPI,SD_BF,SD_NIR\n",
      "\n",
      "Detecting infection load...\n",
      "Total cells: 2426\n",
      "Percentage infected:31.62\n",
      "Extracting per marker intensity information...\n",
      "Detecting spots in puncta markers...\n"
     ]
    },
    {
     "name": "stderr",
     "output_type": "stream",
     "text": []
    },
    {
     "name": "stdout",
     "output_type": "stream",
     "text": [
      "\n",
      "Image analyzed: Plate12_Nuc_Wells-G10__Channel_SD_AF647,SD_RFP,SD_GFP,SD_DAPI,SD_BF,SD_NIR\n",
      "\n",
      "Detecting infection load...\n",
      "Total cells: 1747\n",
      "Percentage infected:27.88\n",
      "Extracting per marker intensity information...\n",
      "Detecting spots in puncta markers...\n"
     ]
    },
    {
     "name": "stderr",
     "output_type": "stream",
     "text": []
    },
    {
     "name": "stdout",
     "output_type": "stream",
     "text": [
      "\n",
      "Image analyzed: Plate12_Nuc_Wells-G11__Channel_SD_AF647,SD_RFP,SD_GFP,SD_DAPI,SD_BF,SD_NIR\n",
      "\n",
      "Detecting infection load...\n",
      "Total cells: 1746\n",
      "Percentage infected:24.74\n",
      "Extracting per marker intensity information...\n",
      "Detecting spots in puncta markers...\n"
     ]
    },
    {
     "name": "stderr",
     "output_type": "stream",
     "text": []
    },
    {
     "name": "stdout",
     "output_type": "stream",
     "text": [
      "\n",
      "Image analyzed: Plate12_Nuc_Wells-G12__Channel_SD_AF647,SD_RFP,SD_GFP,SD_DAPI,SD_BF,SD_NIR\n",
      "\n",
      "Detecting infection load...\n",
      "Total cells: 2305\n",
      "Percentage infected:23.21\n",
      "Extracting per marker intensity information...\n",
      "Detecting spots in puncta markers...\n"
     ]
    },
    {
     "name": "stderr",
     "output_type": "stream",
     "text": []
    },
    {
     "name": "stdout",
     "output_type": "stream",
     "text": [
      "\n",
      "Image analyzed: Plate12_Nuc_Wells-H1__Channel_SD_AF647,SD_RFP,SD_GFP,SD_DAPI,SD_BF,SD_NIR\n",
      "\n",
      "Detecting infection load...\n",
      "Total cells: 2164\n",
      "Percentage infected:0.18\n",
      "Extracting per marker intensity information...\n",
      "Detecting spots in puncta markers...\n"
     ]
    },
    {
     "name": "stderr",
     "output_type": "stream",
     "text": []
    },
    {
     "name": "stdout",
     "output_type": "stream",
     "text": [
      "\n",
      "Image analyzed: Plate12_Nuc_Wells-H2__Channel_SD_AF647,SD_RFP,SD_GFP,SD_DAPI,SD_BF,SD_NIR\n",
      "\n",
      "Detecting infection load...\n",
      "Total cells: 2192\n",
      "Percentage infected:28.83\n",
      "Extracting per marker intensity information...\n",
      "Detecting spots in puncta markers...\n"
     ]
    },
    {
     "name": "stderr",
     "output_type": "stream",
     "text": []
    },
    {
     "name": "stdout",
     "output_type": "stream",
     "text": [
      "\n",
      "Image analyzed: Plate12_Nuc_Wells-H3__Channel_SD_AF647,SD_RFP,SD_GFP,SD_DAPI,SD_BF,SD_NIR\n",
      "\n",
      "Detecting infection load...\n",
      "Total cells: 2195\n",
      "Percentage infected:24.33\n",
      "Extracting per marker intensity information...\n",
      "Detecting spots in puncta markers...\n"
     ]
    },
    {
     "name": "stderr",
     "output_type": "stream",
     "text": []
    },
    {
     "name": "stdout",
     "output_type": "stream",
     "text": [
      "\n",
      "Image analyzed: Plate12_Nuc_Wells-H4__Channel_SD_AF647,SD_RFP,SD_GFP,SD_DAPI,SD_BF,SD_NIR\n",
      "\n",
      "Detecting infection load...\n",
      "Total cells: 2665\n",
      "Percentage infected:30.28\n",
      "Extracting per marker intensity information...\n",
      "Detecting spots in puncta markers...\n"
     ]
    },
    {
     "name": "stderr",
     "output_type": "stream",
     "text": []
    },
    {
     "name": "stdout",
     "output_type": "stream",
     "text": [
      "\n",
      "Image analyzed: Plate12_Nuc_Wells-H5__Channel_SD_AF647,SD_RFP,SD_GFP,SD_DAPI,SD_BF,SD_NIR\n",
      "\n",
      "Detecting infection load...\n",
      "Total cells: 2609\n",
      "Percentage infected:31.74\n",
      "Extracting per marker intensity information...\n",
      "Detecting spots in puncta markers...\n"
     ]
    },
    {
     "name": "stderr",
     "output_type": "stream",
     "text": []
    },
    {
     "name": "stdout",
     "output_type": "stream",
     "text": [
      "\n",
      "Image analyzed: Plate12_Nuc_Wells-H6__Channel_SD_AF647,SD_RFP,SD_GFP,SD_DAPI,SD_BF,SD_NIR\n",
      "\n",
      "Detecting infection load...\n",
      "Total cells: 2685\n",
      "Percentage infected:32.77\n",
      "Extracting per marker intensity information...\n",
      "Detecting spots in puncta markers...\n"
     ]
    },
    {
     "name": "stderr",
     "output_type": "stream",
     "text": []
    },
    {
     "name": "stdout",
     "output_type": "stream",
     "text": [
      "\n",
      "Image analyzed: Plate12_Nuc_Wells-H7__Channel_SD_AF647,SD_RFP,SD_GFP,SD_DAPI,SD_BF,SD_NIR\n",
      "\n",
      "Detecting infection load...\n",
      "Total cells: 2235\n",
      "Percentage infected:31.68\n",
      "Extracting per marker intensity information...\n",
      "Detecting spots in puncta markers...\n"
     ]
    },
    {
     "name": "stderr",
     "output_type": "stream",
     "text": []
    },
    {
     "name": "stdout",
     "output_type": "stream",
     "text": [
      "\n",
      "Image analyzed: Plate12_Nuc_Wells-H8__Channel_SD_AF647,SD_RFP,SD_GFP,SD_DAPI,SD_BF,SD_NIR\n",
      "\n",
      "Detecting infection load...\n",
      "Total cells: 2153\n",
      "Percentage infected:34.05\n",
      "Extracting per marker intensity information...\n",
      "Detecting spots in puncta markers...\n"
     ]
    },
    {
     "name": "stderr",
     "output_type": "stream",
     "text": []
    },
    {
     "name": "stdout",
     "output_type": "stream",
     "text": [
      "\n",
      "Image analyzed: Plate12_Nuc_Wells-H9__Channel_SD_AF647,SD_RFP,SD_GFP,SD_DAPI,SD_BF,SD_NIR\n",
      "\n",
      "Detecting infection load...\n",
      "Total cells: 2213\n",
      "Percentage infected:38.73\n",
      "Extracting per marker intensity information...\n",
      "Detecting spots in puncta markers...\n"
     ]
    },
    {
     "name": "stderr",
     "output_type": "stream",
     "text": []
    },
    {
     "name": "stdout",
     "output_type": "stream",
     "text": [
      "\n",
      "Image analyzed: Plate12_Nuc_Wells-H10__Channel_SD_AF647,SD_RFP,SD_GFP,SD_DAPI,SD_BF,SD_NIR\n",
      "\n",
      "Detecting infection load...\n",
      "Total cells: 2181\n",
      "Percentage infected:34.3\n",
      "Extracting per marker intensity information...\n",
      "Detecting spots in puncta markers...\n"
     ]
    },
    {
     "name": "stderr",
     "output_type": "stream",
     "text": []
    },
    {
     "name": "stdout",
     "output_type": "stream",
     "text": [
      "\n",
      "Image analyzed: Plate12_Nuc_Wells-H11__Channel_SD_AF647,SD_RFP,SD_GFP,SD_DAPI,SD_BF,SD_NIR\n",
      "\n",
      "Detecting infection load...\n",
      "Total cells: 1841\n",
      "Percentage infected:35.58\n",
      "Extracting per marker intensity information...\n",
      "Detecting spots in puncta markers...\n"
     ]
    },
    {
     "name": "stderr",
     "output_type": "stream",
     "text": []
    },
    {
     "name": "stdout",
     "output_type": "stream",
     "text": [
      "\n",
      "Image analyzed: Plate12_Nuc_Wells-H12__Channel_SD_AF647,SD_RFP,SD_GFP,SD_DAPI,SD_BF,SD_NIR\n",
      "\n",
      "Detecting infection load...\n",
      "Total cells: 1783\n",
      "Percentage infected:27.48\n",
      "Extracting per marker intensity information...\n",
      "Detecting spots in puncta markers...\n"
     ]
    },
    {
     "name": "stderr",
     "output_type": "stream",
     "text": []
    },
    {
     "name": "stdout",
     "output_type": "stream",
     "text": [
      "\n",
      "Image analyzed: Plate12_Nuc_Wells-A1__Channel_SD_AF647,SD_RFP,SD_GFP,SD_DAPI,SD_BF,SD_NIR\n",
      "\n",
      "Detecting infection load...\n",
      "Total cells: 2668\n",
      "Percentage infected:32.61\n",
      "Extracting per marker intensity information...\n",
      "Detecting spots in puncta markers...\n"
     ]
    },
    {
     "name": "stderr",
     "output_type": "stream",
     "text": []
    },
    {
     "name": "stdout",
     "output_type": "stream",
     "text": [
      "\n",
      "Image analyzed: Plate12_Nuc_Wells-A2__Channel_SD_AF647,SD_RFP,SD_GFP,SD_DAPI,SD_BF,SD_NIR\n",
      "\n",
      "Detecting infection load...\n",
      "Total cells: 3041\n",
      "Percentage infected:31.54\n",
      "Extracting per marker intensity information...\n",
      "Detecting spots in puncta markers...\n"
     ]
    },
    {
     "name": "stderr",
     "output_type": "stream",
     "text": []
    },
    {
     "name": "stdout",
     "output_type": "stream",
     "text": [
      "\n",
      "Image analyzed: Plate12_Nuc_Wells-A3__Channel_SD_AF647,SD_RFP,SD_GFP,SD_DAPI,SD_BF,SD_NIR\n",
      "\n",
      "Detecting infection load...\n",
      "Total cells: 2812\n",
      "Percentage infected:33.11\n",
      "Extracting per marker intensity information...\n",
      "Detecting spots in puncta markers...\n"
     ]
    },
    {
     "name": "stderr",
     "output_type": "stream",
     "text": []
    },
    {
     "name": "stdout",
     "output_type": "stream",
     "text": [
      "\n",
      "Image analyzed: Plate12_Nuc_Wells-A4__Channel_SD_AF647,SD_RFP,SD_GFP,SD_DAPI,SD_BF,SD_NIR\n",
      "\n",
      "Detecting infection load...\n",
      "Total cells: 2345\n",
      "Percentage infected:36.29\n",
      "Extracting per marker intensity information...\n",
      "Detecting spots in puncta markers...\n"
     ]
    },
    {
     "name": "stderr",
     "output_type": "stream",
     "text": []
    },
    {
     "name": "stdout",
     "output_type": "stream",
     "text": [
      "\n",
      "Image analyzed: Plate12_Nuc_Wells-A5__Channel_SD_AF647,SD_RFP,SD_GFP,SD_DAPI,SD_BF,SD_NIR\n",
      "\n",
      "Detecting infection load...\n",
      "Total cells: 2553\n",
      "Percentage infected:29.22\n",
      "Extracting per marker intensity information...\n",
      "Detecting spots in puncta markers...\n"
     ]
    },
    {
     "name": "stderr",
     "output_type": "stream",
     "text": []
    },
    {
     "name": "stdout",
     "output_type": "stream",
     "text": [
      "\n",
      "Image analyzed: Plate12_Nuc_Wells-A6__Channel_SD_AF647,SD_RFP,SD_GFP,SD_DAPI,SD_BF,SD_NIR\n",
      "\n",
      "Detecting infection load...\n",
      "Total cells: 2346\n",
      "Percentage infected:26.34\n",
      "Extracting per marker intensity information...\n",
      "Detecting spots in puncta markers...\n"
     ]
    },
    {
     "name": "stderr",
     "output_type": "stream",
     "text": []
    },
    {
     "name": "stdout",
     "output_type": "stream",
     "text": [
      "\n",
      "Image analyzed: Plate12_Nuc_Wells-A7__Channel_SD_AF647,SD_RFP,SD_GFP,SD_DAPI,SD_BF,SD_NIR\n",
      "\n",
      "Detecting infection load...\n",
      "Total cells: 2772\n",
      "Percentage infected:23.48\n",
      "Extracting per marker intensity information...\n",
      "Detecting spots in puncta markers...\n"
     ]
    },
    {
     "name": "stderr",
     "output_type": "stream",
     "text": []
    },
    {
     "name": "stdout",
     "output_type": "stream",
     "text": [
      "\n",
      "Image analyzed: Plate12_Nuc_Wells-A8__Channel_SD_AF647,SD_RFP,SD_GFP,SD_DAPI,SD_BF,SD_NIR\n",
      "\n",
      "Detecting infection load...\n",
      "Total cells: 2841\n",
      "Percentage infected:25.66\n",
      "Extracting per marker intensity information...\n",
      "Detecting spots in puncta markers...\n"
     ]
    },
    {
     "name": "stderr",
     "output_type": "stream",
     "text": []
    },
    {
     "name": "stdout",
     "output_type": "stream",
     "text": [
      "\n",
      "Image analyzed: Plate12_Nuc_Wells-A9__Channel_SD_AF647,SD_RFP,SD_GFP,SD_DAPI,SD_BF,SD_NIR\n",
      "\n",
      "Detecting infection load...\n",
      "Total cells: 2135\n",
      "Percentage infected:25.76\n",
      "Extracting per marker intensity information...\n",
      "Detecting spots in puncta markers...\n"
     ]
    },
    {
     "name": "stderr",
     "output_type": "stream",
     "text": []
    },
    {
     "name": "stdout",
     "output_type": "stream",
     "text": [
      "\n",
      "Image analyzed: Plate12_Nuc_Wells-A10__Channel_SD_AF647,SD_RFP,SD_GFP,SD_DAPI,SD_BF,SD_NIR\n",
      "\n",
      "Detecting infection load...\n",
      "Total cells: 1885\n",
      "Percentage infected:21.7\n",
      "Extracting per marker intensity information...\n",
      "Detecting spots in puncta markers...\n"
     ]
    },
    {
     "name": "stderr",
     "output_type": "stream",
     "text": []
    },
    {
     "name": "stdout",
     "output_type": "stream",
     "text": [
      "\n",
      "Image analyzed: Plate12_Nuc_Wells-A11__Channel_SD_AF647,SD_RFP,SD_GFP,SD_DAPI,SD_BF,SD_NIR\n",
      "\n",
      "Detecting infection load...\n",
      "Total cells: 2270\n",
      "Percentage infected:25.81\n",
      "Extracting per marker intensity information...\n",
      "Detecting spots in puncta markers...\n"
     ]
    },
    {
     "name": "stderr",
     "output_type": "stream",
     "text": []
    },
    {
     "name": "stdout",
     "output_type": "stream",
     "text": [
      "\n",
      "Image analyzed: Plate12_Nuc_Wells-A12__Channel_SD_AF647,SD_RFP,SD_GFP,SD_DAPI,SD_BF,SD_NIR\n",
      "\n",
      "Detecting infection load...\n",
      "Total cells: 1706\n",
      "Percentage infected:27.49\n",
      "Extracting per marker intensity information...\n",
      "Detecting spots in puncta markers...\n"
     ]
    },
    {
     "name": "stderr",
     "output_type": "stream",
     "text": []
    },
    {
     "name": "stdout",
     "output_type": "stream",
     "text": [
      "\n",
      "Image analyzed: Plate12_Nuc_Wells-B1__Channel_SD_AF647,SD_RFP,SD_GFP,SD_DAPI,SD_BF,SD_NIR\n",
      "\n",
      "Detecting infection load...\n",
      "Total cells: 1665\n",
      "Percentage infected:26.79\n",
      "Extracting per marker intensity information...\n",
      "Detecting spots in puncta markers...\n"
     ]
    },
    {
     "name": "stderr",
     "output_type": "stream",
     "text": []
    },
    {
     "name": "stdout",
     "output_type": "stream",
     "text": [
      "\n",
      "Image analyzed: Plate12_Nuc_Wells-B2__Channel_SD_AF647,SD_RFP,SD_GFP,SD_DAPI,SD_BF,SD_NIR\n",
      "\n",
      "Detecting infection load...\n",
      "Total cells: 2281\n",
      "Percentage infected:23.81\n",
      "Extracting per marker intensity information...\n",
      "Detecting spots in puncta markers...\n"
     ]
    },
    {
     "name": "stderr",
     "output_type": "stream",
     "text": []
    },
    {
     "name": "stdout",
     "output_type": "stream",
     "text": [
      "\n",
      "Image analyzed: Plate12_Nuc_Wells-B3__Channel_SD_AF647,SD_RFP,SD_GFP,SD_DAPI,SD_BF,SD_NIR\n",
      "\n",
      "Detecting infection load...\n",
      "Total cells: 2477\n",
      "Percentage infected:25.76\n",
      "Extracting per marker intensity information...\n",
      "Detecting spots in puncta markers...\n"
     ]
    },
    {
     "name": "stderr",
     "output_type": "stream",
     "text": []
    },
    {
     "name": "stdout",
     "output_type": "stream",
     "text": [
      "\n",
      "Image analyzed: Plate12_Nuc_Wells-B4__Channel_SD_AF647,SD_RFP,SD_GFP,SD_DAPI,SD_BF,SD_NIR\n",
      "\n",
      "Detecting infection load...\n",
      "Total cells: 2173\n",
      "Percentage infected:32.4\n",
      "Extracting per marker intensity information...\n",
      "Detecting spots in puncta markers...\n"
     ]
    },
    {
     "name": "stderr",
     "output_type": "stream",
     "text": []
    },
    {
     "name": "stdout",
     "output_type": "stream",
     "text": [
      "\n",
      "Image analyzed: Plate12_Nuc_Wells-B5__Channel_SD_AF647,SD_RFP,SD_GFP,SD_DAPI,SD_BF,SD_NIR\n",
      "\n",
      "Detecting infection load...\n",
      "Total cells: 2266\n",
      "Percentage infected:29.13\n",
      "Extracting per marker intensity information...\n",
      "Detecting spots in puncta markers...\n"
     ]
    },
    {
     "name": "stderr",
     "output_type": "stream",
     "text": []
    },
    {
     "name": "stdout",
     "output_type": "stream",
     "text": [
      "\n",
      "Image analyzed: Plate12_Nuc_Wells-B6__Channel_SD_AF647,SD_RFP,SD_GFP,SD_DAPI,SD_BF,SD_NIR\n",
      "\n",
      "Detecting infection load...\n",
      "Total cells: 1960\n",
      "Percentage infected:28.16\n",
      "Extracting per marker intensity information...\n",
      "Detecting spots in puncta markers...\n"
     ]
    },
    {
     "name": "stderr",
     "output_type": "stream",
     "text": []
    },
    {
     "name": "stdout",
     "output_type": "stream",
     "text": [
      "\n",
      "Image analyzed: Plate12_Nuc_Wells-B7__Channel_SD_AF647,SD_RFP,SD_GFP,SD_DAPI,SD_BF,SD_NIR\n",
      "\n",
      "Detecting infection load...\n",
      "Total cells: 1870\n",
      "Percentage infected:28.45\n",
      "Extracting per marker intensity information...\n",
      "Detecting spots in puncta markers...\n"
     ]
    },
    {
     "name": "stderr",
     "output_type": "stream",
     "text": []
    },
    {
     "name": "stdout",
     "output_type": "stream",
     "text": [
      "\n",
      "Image analyzed: Plate12_Nuc_Wells-B8__Channel_SD_AF647,SD_RFP,SD_GFP,SD_DAPI,SD_BF,SD_NIR\n",
      "\n",
      "Detecting infection load...\n",
      "Total cells: 2132\n",
      "Percentage infected:29.17\n",
      "Extracting per marker intensity information...\n",
      "Detecting spots in puncta markers...\n"
     ]
    },
    {
     "name": "stderr",
     "output_type": "stream",
     "text": []
    },
    {
     "name": "stdout",
     "output_type": "stream",
     "text": [
      "\n",
      "Image analyzed: Plate12_Nuc_Wells-B9__Channel_SD_AF647,SD_RFP,SD_GFP,SD_DAPI,SD_BF,SD_NIR\n",
      "\n",
      "Detecting infection load...\n",
      "Total cells: 2080\n",
      "Percentage infected:25.96\n",
      "Extracting per marker intensity information...\n",
      "Detecting spots in puncta markers...\n"
     ]
    },
    {
     "name": "stderr",
     "output_type": "stream",
     "text": []
    },
    {
     "name": "stdout",
     "output_type": "stream",
     "text": [
      "\n",
      "Image analyzed: Plate12_Nuc_Wells-B10__Channel_SD_AF647,SD_RFP,SD_GFP,SD_DAPI,SD_BF,SD_NIR\n",
      "\n",
      "Detecting infection load...\n",
      "Total cells: 1880\n",
      "Percentage infected:24.41\n",
      "Extracting per marker intensity information...\n",
      "Detecting spots in puncta markers...\n"
     ]
    },
    {
     "name": "stderr",
     "output_type": "stream",
     "text": []
    },
    {
     "name": "stdout",
     "output_type": "stream",
     "text": [
      "\n",
      "Image analyzed: Plate12_Nuc_Wells-B11__Channel_SD_AF647,SD_RFP,SD_GFP,SD_DAPI,SD_BF,SD_NIR\n",
      "\n",
      "Detecting infection load...\n",
      "Total cells: 1985\n",
      "Percentage infected:29.47\n",
      "Extracting per marker intensity information...\n",
      "Detecting spots in puncta markers...\n"
     ]
    },
    {
     "name": "stderr",
     "output_type": "stream",
     "text": []
    },
    {
     "name": "stdout",
     "output_type": "stream",
     "text": [
      "\n",
      "Image analyzed: Plate12_Nuc_Wells-B12__Channel_SD_AF647,SD_RFP,SD_GFP,SD_DAPI,SD_BF,SD_NIR\n",
      "\n",
      "Detecting infection load...\n",
      "Total cells: 1575\n",
      "Percentage infected:23.37\n",
      "Extracting per marker intensity information...\n",
      "Detecting spots in puncta markers...\n"
     ]
    },
    {
     "name": "stderr",
     "output_type": "stream",
     "text": []
    },
    {
     "name": "stdout",
     "output_type": "stream",
     "text": [
      "\n",
      "Image analyzed: Plate12_Nuc_Wells-C1__Channel_SD_AF647,SD_RFP,SD_GFP,SD_DAPI,SD_BF,SD_NIR\n",
      "\n",
      "Detecting infection load...\n",
      "Total cells: 1942\n",
      "Percentage infected:30.07\n",
      "Extracting per marker intensity information...\n",
      "Detecting spots in puncta markers...\n"
     ]
    },
    {
     "name": "stderr",
     "output_type": "stream",
     "text": []
    },
    {
     "name": "stdout",
     "output_type": "stream",
     "text": [
      "\n",
      "Image analyzed: Plate12_Nuc_Wells-C2__Channel_SD_AF647,SD_RFP,SD_GFP,SD_DAPI,SD_BF,SD_NIR\n",
      "\n",
      "Detecting infection load...\n",
      "Total cells: 2063\n",
      "Percentage infected:29.96\n",
      "Extracting per marker intensity information...\n",
      "Detecting spots in puncta markers...\n"
     ]
    },
    {
     "name": "stderr",
     "output_type": "stream",
     "text": []
    },
    {
     "name": "stdout",
     "output_type": "stream",
     "text": [
      "\n",
      "Image analyzed: Plate12_Nuc_Wells-C3__Channel_SD_AF647,SD_RFP,SD_GFP,SD_DAPI,SD_BF,SD_NIR\n",
      "\n",
      "Detecting infection load...\n",
      "Total cells: 1667\n",
      "Percentage infected:23.22\n",
      "Extracting per marker intensity information...\n",
      "Detecting spots in puncta markers...\n"
     ]
    },
    {
     "name": "stderr",
     "output_type": "stream",
     "text": []
    },
    {
     "name": "stdout",
     "output_type": "stream",
     "text": [
      "\n",
      "Image analyzed: Plate12_Nuc_Wells-C4__Channel_SD_AF647,SD_RFP,SD_GFP,SD_DAPI,SD_BF,SD_NIR\n",
      "\n",
      "Detecting infection load...\n",
      "Total cells: 2445\n",
      "Percentage infected:27.03\n",
      "Extracting per marker intensity information...\n",
      "Detecting spots in puncta markers...\n"
     ]
    },
    {
     "name": "stderr",
     "output_type": "stream",
     "text": []
    },
    {
     "name": "stdout",
     "output_type": "stream",
     "text": [
      "\n",
      "Image analyzed: Plate12_Nuc_Wells-C5__Channel_SD_AF647,SD_RFP,SD_GFP,SD_DAPI,SD_BF,SD_NIR\n",
      "\n",
      "Detecting infection load...\n",
      "Total cells: 1626\n",
      "Percentage infected:27.74\n",
      "Extracting per marker intensity information...\n",
      "Detecting spots in puncta markers...\n"
     ]
    },
    {
     "name": "stderr",
     "output_type": "stream",
     "text": []
    },
    {
     "name": "stdout",
     "output_type": "stream",
     "text": [
      "\n",
      "Image analyzed: Plate12_Nuc_Wells-C6__Channel_SD_AF647,SD_RFP,SD_GFP,SD_DAPI,SD_BF,SD_NIR\n",
      "\n",
      "Detecting infection load...\n",
      "Total cells: 2147\n",
      "Percentage infected:20.68\n",
      "Extracting per marker intensity information...\n",
      "Detecting spots in puncta markers...\n"
     ]
    },
    {
     "name": "stderr",
     "output_type": "stream",
     "text": []
    },
    {
     "name": "stdout",
     "output_type": "stream",
     "text": [
      "\n",
      "Image analyzed: Plate12_Nuc_Wells-C7__Channel_SD_AF647,SD_RFP,SD_GFP,SD_DAPI,SD_BF,SD_NIR\n",
      "\n",
      "Detecting infection load...\n",
      "Total cells: 2203\n",
      "Percentage infected:24.33\n",
      "Extracting per marker intensity information...\n",
      "Detecting spots in puncta markers...\n"
     ]
    },
    {
     "name": "stderr",
     "output_type": "stream",
     "text": []
    },
    {
     "name": "stdout",
     "output_type": "stream",
     "text": [
      "\n",
      "Image analyzed: Plate12_Nuc_Wells-C8__Channel_SD_AF647,SD_RFP,SD_GFP,SD_DAPI,SD_BF,SD_NIR\n",
      "\n",
      "Detecting infection load...\n",
      "Total cells: 1938\n",
      "Percentage infected:23.63\n",
      "Extracting per marker intensity information...\n",
      "Detecting spots in puncta markers...\n"
     ]
    },
    {
     "name": "stderr",
     "output_type": "stream",
     "text": []
    },
    {
     "name": "stdout",
     "output_type": "stream",
     "text": [
      "\n",
      "Image analyzed: Plate12_Nuc_Wells-C9__Channel_SD_AF647,SD_RFP,SD_GFP,SD_DAPI,SD_BF,SD_NIR\n",
      "\n",
      "Detecting infection load...\n",
      "Total cells: 2078\n",
      "Percentage infected:26.76\n",
      "Extracting per marker intensity information...\n",
      "Detecting spots in puncta markers...\n"
     ]
    },
    {
     "name": "stderr",
     "output_type": "stream",
     "text": []
    },
    {
     "name": "stdout",
     "output_type": "stream",
     "text": [
      "\n",
      "Image analyzed: Plate12_Nuc_Wells-C10__Channel_SD_AF647,SD_RFP,SD_GFP,SD_DAPI,SD_BF,SD_NIR\n",
      "\n",
      "Detecting infection load...\n",
      "Total cells: 2155\n",
      "Percentage infected:23.99\n",
      "Extracting per marker intensity information...\n",
      "Detecting spots in puncta markers...\n"
     ]
    },
    {
     "name": "stderr",
     "output_type": "stream",
     "text": []
    },
    {
     "name": "stdout",
     "output_type": "stream",
     "text": [
      "\n",
      "Image analyzed: Plate12_Nuc_Wells-C11__Channel_SD_AF647,SD_RFP,SD_GFP,SD_DAPI,SD_BF,SD_NIR\n",
      "\n",
      "Detecting infection load...\n",
      "Total cells: 2176\n",
      "Percentage infected:26.24\n",
      "Extracting per marker intensity information...\n",
      "Detecting spots in puncta markers...\n"
     ]
    },
    {
     "name": "stderr",
     "output_type": "stream",
     "text": []
    },
    {
     "name": "stdout",
     "output_type": "stream",
     "text": [
      "\n",
      "Image analyzed: Plate12_Nuc_Wells-C12__Channel_SD_AF647,SD_RFP,SD_GFP,SD_DAPI,SD_BF,SD_NIR\n",
      "\n",
      "Detecting infection load...\n",
      "Total cells: 1647\n",
      "Percentage infected:23.5\n",
      "Extracting per marker intensity information...\n",
      "Detecting spots in puncta markers...\n"
     ]
    },
    {
     "name": "stderr",
     "output_type": "stream",
     "text": []
    },
    {
     "name": "stdout",
     "output_type": "stream",
     "text": [
      "\n",
      "Image analyzed: Plate12_Nuc_Wells-D1__Channel_SD_AF647,SD_RFP,SD_GFP,SD_DAPI,SD_BF,SD_NIR\n",
      "\n",
      "Detecting infection load...\n",
      "Total cells: 1758\n",
      "Percentage infected:26.0\n",
      "Extracting per marker intensity information...\n",
      "Detecting spots in puncta markers...\n"
     ]
    },
    {
     "name": "stderr",
     "output_type": "stream",
     "text": []
    },
    {
     "name": "stdout",
     "output_type": "stream",
     "text": [
      "\n",
      "Image analyzed: Plate12_Nuc_Wells-D2__Channel_SD_AF647,SD_RFP,SD_GFP,SD_DAPI,SD_BF,SD_NIR\n",
      "\n",
      "Detecting infection load...\n",
      "Total cells: 1620\n",
      "Percentage infected:23.83\n",
      "Extracting per marker intensity information...\n",
      "Detecting spots in puncta markers...\n"
     ]
    },
    {
     "name": "stderr",
     "output_type": "stream",
     "text": []
    },
    {
     "name": "stdout",
     "output_type": "stream",
     "text": [
      "\n",
      "Image analyzed: Plate12_Nuc_Wells-D3__Channel_SD_AF647,SD_RFP,SD_GFP,SD_DAPI,SD_BF,SD_NIR\n",
      "\n",
      "Detecting infection load...\n",
      "Total cells: 1476\n",
      "Percentage infected:26.42\n",
      "Extracting per marker intensity information...\n",
      "Detecting spots in puncta markers...\n"
     ]
    },
    {
     "name": "stderr",
     "output_type": "stream",
     "text": []
    },
    {
     "name": "stdout",
     "output_type": "stream",
     "text": [
      "\n",
      "Image analyzed: Plate12_Nuc_Wells-D4__Channel_SD_AF647,SD_RFP,SD_GFP,SD_DAPI,SD_BF,SD_NIR\n",
      "\n",
      "Detecting infection load...\n",
      "Total cells: 1750\n",
      "Percentage infected:29.94\n",
      "Extracting per marker intensity information...\n",
      "Detecting spots in puncta markers...\n"
     ]
    },
    {
     "name": "stderr",
     "output_type": "stream",
     "text": []
    },
    {
     "name": "stdout",
     "output_type": "stream",
     "text": [
      "\n",
      "Image analyzed: Plate12_Nuc_Wells-D5__Channel_SD_AF647,SD_RFP,SD_GFP,SD_DAPI,SD_BF,SD_NIR\n",
      "\n",
      "Detecting infection load...\n",
      "Total cells: 1680\n",
      "Percentage infected:27.56\n",
      "Extracting per marker intensity information...\n",
      "Detecting spots in puncta markers...\n"
     ]
    },
    {
     "name": "stderr",
     "output_type": "stream",
     "text": []
    },
    {
     "name": "stdout",
     "output_type": "stream",
     "text": [
      "\n",
      "Image analyzed: Plate12_Nuc_Wells-D6__Channel_SD_AF647,SD_RFP,SD_GFP,SD_DAPI,SD_BF,SD_NIR\n",
      "\n",
      "Detecting infection load...\n",
      "Total cells: 1546\n",
      "Percentage infected:19.73\n",
      "Extracting per marker intensity information...\n",
      "Detecting spots in puncta markers...\n"
     ]
    },
    {
     "name": "stderr",
     "output_type": "stream",
     "text": []
    },
    {
     "name": "stdout",
     "output_type": "stream",
     "text": [
      "\n",
      "Image analyzed: Plate12_Nuc_Wells-D7__Channel_SD_AF647,SD_RFP,SD_GFP,SD_DAPI,SD_BF,SD_NIR\n",
      "\n",
      "Detecting infection load...\n",
      "Total cells: 2091\n",
      "Percentage infected:26.64\n",
      "Extracting per marker intensity information...\n",
      "Detecting spots in puncta markers...\n"
     ]
    },
    {
     "name": "stderr",
     "output_type": "stream",
     "text": []
    },
    {
     "name": "stdout",
     "output_type": "stream",
     "text": [
      "\n",
      "Image analyzed: Plate12_Nuc_Wells-D8__Channel_SD_AF647,SD_RFP,SD_GFP,SD_DAPI,SD_BF,SD_NIR\n",
      "\n",
      "Detecting infection load...\n",
      "Total cells: 2175\n",
      "Percentage infected:24.05\n",
      "Extracting per marker intensity information...\n",
      "Detecting spots in puncta markers...\n"
     ]
    },
    {
     "name": "stderr",
     "output_type": "stream",
     "text": []
    },
    {
     "name": "stdout",
     "output_type": "stream",
     "text": [
      "\n",
      "Image analyzed: Plate12_Nuc_Wells-D9__Channel_SD_AF647,SD_RFP,SD_GFP,SD_DAPI,SD_BF,SD_NIR\n",
      "\n",
      "Detecting infection load...\n",
      "Total cells: 1653\n",
      "Percentage infected:23.77\n",
      "Extracting per marker intensity information...\n",
      "Detecting spots in puncta markers...\n"
     ]
    },
    {
     "name": "stderr",
     "output_type": "stream",
     "text": []
    },
    {
     "name": "stdout",
     "output_type": "stream",
     "text": [
      "\n",
      "Image analyzed: Plate12_Nuc_Wells-D10__Channel_SD_AF647,SD_RFP,SD_GFP,SD_DAPI,SD_BF,SD_NIR\n",
      "\n",
      "Detecting infection load...\n",
      "Total cells: 1472\n",
      "Percentage infected:22.89\n",
      "Extracting per marker intensity information...\n",
      "Detecting spots in puncta markers...\n"
     ]
    },
    {
     "name": "stderr",
     "output_type": "stream",
     "text": []
    },
    {
     "name": "stdout",
     "output_type": "stream",
     "text": [
      "\n",
      "Image analyzed: Plate12_Nuc_Wells-D11__Channel_SD_AF647,SD_RFP,SD_GFP,SD_DAPI,SD_BF,SD_NIR\n",
      "\n",
      "Detecting infection load...\n",
      "Total cells: 1702\n",
      "Percentage infected:23.85\n",
      "Extracting per marker intensity information...\n",
      "Detecting spots in puncta markers...\n"
     ]
    },
    {
     "name": "stderr",
     "output_type": "stream",
     "text": []
    },
    {
     "name": "stdout",
     "output_type": "stream",
     "text": [
      "\n",
      "Image analyzed: Plate12_Nuc_Wells-D12__Channel_SD_AF647,SD_RFP,SD_GFP,SD_DAPI,SD_BF,SD_NIR\n",
      "\n",
      "Detecting infection load...\n",
      "Total cells: 1831\n",
      "Percentage infected:24.8\n",
      "Extracting per marker intensity information...\n",
      "Detecting spots in puncta markers...\n"
     ]
    },
    {
     "name": "stderr",
     "output_type": "stream",
     "text": []
    },
    {
     "name": "stdout",
     "output_type": "stream",
     "text": [
      "\n",
      "Image analyzed: Plate12_Nuc_Wells-E1__Channel_SD_AF647,SD_RFP,SD_GFP,SD_DAPI,SD_BF,SD_NIR\n",
      "\n",
      "Detecting infection load...\n",
      "Total cells: 1758\n",
      "Percentage infected:25.82\n",
      "Extracting per marker intensity information...\n",
      "Detecting spots in puncta markers...\n"
     ]
    },
    {
     "name": "stderr",
     "output_type": "stream",
     "text": []
    },
    {
     "name": "stdout",
     "output_type": "stream",
     "text": [
      "\n",
      "Image analyzed: Plate12_Nuc_Wells-E2__Channel_SD_AF647,SD_RFP,SD_GFP,SD_DAPI,SD_BF,SD_NIR\n",
      "\n",
      "Detecting infection load...\n",
      "Total cells: 1846\n",
      "Percentage infected:23.46\n",
      "Extracting per marker intensity information...\n",
      "Detecting spots in puncta markers...\n"
     ]
    },
    {
     "name": "stderr",
     "output_type": "stream",
     "text": []
    },
    {
     "name": "stdout",
     "output_type": "stream",
     "text": [
      "\n",
      "Image analyzed: Plate12_Nuc_Wells-E3__Channel_SD_AF647,SD_RFP,SD_GFP,SD_DAPI,SD_BF,SD_NIR\n",
      "\n",
      "Detecting infection load...\n",
      "Total cells: 1670\n",
      "Percentage infected:19.76\n",
      "Extracting per marker intensity information...\n",
      "Detecting spots in puncta markers...\n"
     ]
    },
    {
     "name": "stderr",
     "output_type": "stream",
     "text": []
    },
    {
     "name": "stdout",
     "output_type": "stream",
     "text": [
      "\n",
      "Image analyzed: Plate12_Nuc_Wells-E4__Channel_SD_AF647,SD_RFP,SD_GFP,SD_DAPI,SD_BF,SD_NIR\n",
      "\n",
      "Detecting infection load...\n",
      "Total cells: 1804\n",
      "Percentage infected:22.23\n",
      "Extracting per marker intensity information...\n",
      "Detecting spots in puncta markers...\n"
     ]
    },
    {
     "name": "stderr",
     "output_type": "stream",
     "text": []
    },
    {
     "name": "stdout",
     "output_type": "stream",
     "text": [
      "\n",
      "Image analyzed: Plate12_Nuc_Wells-E5__Channel_SD_AF647,SD_RFP,SD_GFP,SD_DAPI,SD_BF,SD_NIR\n",
      "\n",
      "Detecting infection load...\n",
      "Total cells: 1808\n",
      "Percentage infected:26.83\n",
      "Extracting per marker intensity information...\n",
      "Detecting spots in puncta markers...\n"
     ]
    },
    {
     "name": "stderr",
     "output_type": "stream",
     "text": []
    },
    {
     "name": "stdout",
     "output_type": "stream",
     "text": [
      "\n",
      "Image analyzed: Plate12_Nuc_Wells-E6__Channel_SD_AF647,SD_RFP,SD_GFP,SD_DAPI,SD_BF,SD_NIR\n",
      "\n",
      "Detecting infection load...\n",
      "Total cells: 2281\n",
      "Percentage infected:26.65\n",
      "Extracting per marker intensity information...\n",
      "Detecting spots in puncta markers...\n"
     ]
    },
    {
     "name": "stderr",
     "output_type": "stream",
     "text": []
    },
    {
     "name": "stdout",
     "output_type": "stream",
     "text": [
      "\n",
      "Image analyzed: Plate12_Nuc_Wells-E7__Channel_SD_AF647,SD_RFP,SD_GFP,SD_DAPI,SD_BF,SD_NIR\n",
      "\n",
      "Detecting infection load...\n",
      "Total cells: 2023\n",
      "Percentage infected:26.35\n",
      "Extracting per marker intensity information...\n",
      "Detecting spots in puncta markers...\n"
     ]
    },
    {
     "name": "stderr",
     "output_type": "stream",
     "text": []
    },
    {
     "name": "stdout",
     "output_type": "stream",
     "text": [
      "\n",
      "Image analyzed: Plate12_Nuc_Wells-E8__Channel_SD_AF647,SD_RFP,SD_GFP,SD_DAPI,SD_BF,SD_NIR\n",
      "\n",
      "Detecting infection load...\n",
      "Total cells: 1844\n",
      "Percentage infected:25.49\n",
      "Extracting per marker intensity information...\n",
      "Detecting spots in puncta markers...\n"
     ]
    },
    {
     "name": "stderr",
     "output_type": "stream",
     "text": []
    },
    {
     "name": "stdout",
     "output_type": "stream",
     "text": [
      "\n",
      "Image analyzed: Plate12_Nuc_Wells-E9__Channel_SD_AF647,SD_RFP,SD_GFP,SD_DAPI,SD_BF,SD_NIR\n",
      "\n",
      "Detecting infection load...\n",
      "Total cells: 1829\n",
      "Percentage infected:24.93\n",
      "Extracting per marker intensity information...\n",
      "Detecting spots in puncta markers...\n"
     ]
    },
    {
     "name": "stderr",
     "output_type": "stream",
     "text": []
    },
    {
     "name": "stdout",
     "output_type": "stream",
     "text": [
      "\n",
      "Image analyzed: Plate12_Nuc_Wells-E10__Channel_SD_AF647,SD_RFP,SD_GFP,SD_DAPI,SD_BF,SD_NIR\n",
      "\n",
      "Detecting infection load...\n",
      "Total cells: 1891\n",
      "Percentage infected:18.09\n",
      "Extracting per marker intensity information...\n",
      "Detecting spots in puncta markers...\n"
     ]
    },
    {
     "name": "stderr",
     "output_type": "stream",
     "text": []
    },
    {
     "name": "stdout",
     "output_type": "stream",
     "text": [
      "\n",
      "Image analyzed: Plate12_Nuc_Wells-E11__Channel_SD_AF647,SD_RFP,SD_GFP,SD_DAPI,SD_BF,SD_NIR\n",
      "\n",
      "Detecting infection load...\n",
      "Total cells: 2020\n",
      "Percentage infected:25.59\n",
      "Extracting per marker intensity information...\n",
      "Detecting spots in puncta markers...\n"
     ]
    },
    {
     "name": "stderr",
     "output_type": "stream",
     "text": []
    },
    {
     "name": "stdout",
     "output_type": "stream",
     "text": [
      "\n",
      "Image analyzed: Plate12_Nuc_Wells-E12__Channel_SD_AF647,SD_RFP,SD_GFP,SD_DAPI,SD_BF,SD_NIR\n",
      "\n",
      "Detecting infection load...\n",
      "Total cells: 2084\n",
      "Percentage infected:25.48\n",
      "Extracting per marker intensity information...\n",
      "Detecting spots in puncta markers...\n"
     ]
    },
    {
     "name": "stderr",
     "output_type": "stream",
     "text": []
    },
    {
     "name": "stdout",
     "output_type": "stream",
     "text": [
      "\n",
      "Image analyzed: Plate12_Nuc_Wells-F1__Channel_SD_AF647,SD_RFP,SD_GFP,SD_DAPI,SD_BF,SD_NIR\n",
      "\n",
      "Detecting infection load...\n",
      "Total cells: 1990\n",
      "Percentage infected:20.95\n",
      "Extracting per marker intensity information...\n",
      "Detecting spots in puncta markers...\n"
     ]
    },
    {
     "name": "stderr",
     "output_type": "stream",
     "text": []
    },
    {
     "name": "stdout",
     "output_type": "stream",
     "text": [
      "\n",
      "Image analyzed: Plate12_Nuc_Wells-F2__Channel_SD_AF647,SD_RFP,SD_GFP,SD_DAPI,SD_BF,SD_NIR\n",
      "\n",
      "Detecting infection load...\n",
      "Total cells: 2107\n",
      "Percentage infected:30.42\n",
      "Extracting per marker intensity information...\n",
      "Detecting spots in puncta markers...\n"
     ]
    },
    {
     "name": "stderr",
     "output_type": "stream",
     "text": []
    },
    {
     "name": "stdout",
     "output_type": "stream",
     "text": [
      "\n",
      "Image analyzed: Plate12_Nuc_Wells-F3__Channel_SD_AF647,SD_RFP,SD_GFP,SD_DAPI,SD_BF,SD_NIR\n",
      "\n",
      "Detecting infection load...\n",
      "Total cells: 2483\n",
      "Percentage infected:26.18\n",
      "Extracting per marker intensity information...\n",
      "Detecting spots in puncta markers...\n"
     ]
    },
    {
     "name": "stderr",
     "output_type": "stream",
     "text": []
    },
    {
     "name": "stdout",
     "output_type": "stream",
     "text": [
      "\n",
      "Image analyzed: Plate12_Nuc_Wells-F4__Channel_SD_AF647,SD_RFP,SD_GFP,SD_DAPI,SD_BF,SD_NIR\n",
      "\n",
      "Detecting infection load...\n",
      "Total cells: 1911\n",
      "Percentage infected:26.16\n",
      "Extracting per marker intensity information...\n",
      "Detecting spots in puncta markers...\n"
     ]
    },
    {
     "name": "stderr",
     "output_type": "stream",
     "text": []
    },
    {
     "name": "stdout",
     "output_type": "stream",
     "text": [
      "\n",
      "Image analyzed: Plate12_Nuc_Wells-F5__Channel_SD_AF647,SD_RFP,SD_GFP,SD_DAPI,SD_BF,SD_NIR\n",
      "\n",
      "Detecting infection load...\n",
      "Total cells: 1748\n",
      "Percentage infected:27.63\n",
      "Extracting per marker intensity information...\n",
      "Detecting spots in puncta markers...\n"
     ]
    },
    {
     "name": "stderr",
     "output_type": "stream",
     "text": []
    },
    {
     "name": "stdout",
     "output_type": "stream",
     "text": [
      "\n",
      "Image analyzed: Plate12_Nuc_Wells-F6__Channel_SD_AF647,SD_RFP,SD_GFP,SD_DAPI,SD_BF,SD_NIR\n",
      "\n",
      "Detecting infection load...\n",
      "Total cells: 2106\n",
      "Percentage infected:29.25\n",
      "Extracting per marker intensity information...\n",
      "Detecting spots in puncta markers...\n"
     ]
    },
    {
     "name": "stderr",
     "output_type": "stream",
     "text": []
    },
    {
     "name": "stdout",
     "output_type": "stream",
     "text": [
      "\n",
      "Image analyzed: Plate12_Nuc_Wells-F7__Channel_SD_AF647,SD_RFP,SD_GFP,SD_DAPI,SD_BF,SD_NIR\n",
      "\n",
      "Detecting infection load...\n",
      "Total cells: 1917\n",
      "Percentage infected:25.25\n",
      "Extracting per marker intensity information...\n",
      "Detecting spots in puncta markers...\n"
     ]
    },
    {
     "name": "stderr",
     "output_type": "stream",
     "text": []
    },
    {
     "name": "stdout",
     "output_type": "stream",
     "text": [
      "\n",
      "Image analyzed: Plate12_Nuc_Wells-F8__Channel_SD_AF647,SD_RFP,SD_GFP,SD_DAPI,SD_BF,SD_NIR\n",
      "\n",
      "Detecting infection load...\n",
      "Total cells: 1971\n",
      "Percentage infected:28.11\n",
      "Extracting per marker intensity information...\n",
      "Detecting spots in puncta markers...\n"
     ]
    },
    {
     "name": "stderr",
     "output_type": "stream",
     "text": []
    },
    {
     "name": "stdout",
     "output_type": "stream",
     "text": [
      "\n",
      "Image analyzed: Plate12_Nuc_Wells-F9__Channel_SD_AF647,SD_RFP,SD_GFP,SD_DAPI,SD_BF,SD_NIR\n",
      "\n",
      "Detecting infection load...\n",
      "Total cells: 1686\n",
      "Percentage infected:24.14\n",
      "Extracting per marker intensity information...\n",
      "Detecting spots in puncta markers...\n"
     ]
    },
    {
     "name": "stderr",
     "output_type": "stream",
     "text": []
    },
    {
     "name": "stdout",
     "output_type": "stream",
     "text": [
      "\n",
      "Image analyzed: Plate12_Nuc_Wells-F10__Channel_SD_AF647,SD_RFP,SD_GFP,SD_DAPI,SD_BF,SD_NIR\n",
      "\n",
      "Detecting infection load...\n",
      "Total cells: 2040\n",
      "Percentage infected:20.39\n",
      "Extracting per marker intensity information...\n",
      "Detecting spots in puncta markers...\n"
     ]
    },
    {
     "name": "stderr",
     "output_type": "stream",
     "text": []
    },
    {
     "name": "stdout",
     "output_type": "stream",
     "text": [
      "\n",
      "Image analyzed: Plate12_Nuc_Wells-F11__Channel_SD_AF647,SD_RFP,SD_GFP,SD_DAPI,SD_BF,SD_NIR\n",
      "\n",
      "Detecting infection load...\n",
      "Total cells: 1538\n",
      "Percentage infected:24.19\n",
      "Extracting per marker intensity information...\n",
      "Detecting spots in puncta markers...\n"
     ]
    },
    {
     "name": "stderr",
     "output_type": "stream",
     "text": []
    },
    {
     "name": "stdout",
     "output_type": "stream",
     "text": [
      "\n",
      "Image analyzed: Plate12_Nuc_Wells-F12__Channel_SD_AF647,SD_RFP,SD_GFP,SD_DAPI,SD_BF,SD_NIR\n",
      "\n",
      "Detecting infection load...\n",
      "Total cells: 2079\n",
      "Percentage infected:20.01\n",
      "Extracting per marker intensity information...\n",
      "Detecting spots in puncta markers...\n"
     ]
    },
    {
     "name": "stderr",
     "output_type": "stream",
     "text": []
    },
    {
     "name": "stdout",
     "output_type": "stream",
     "text": [
      "\n",
      "Image analyzed: Plate12_Nuc_Wells-G1__Channel_SD_AF647,SD_RFP,SD_GFP,SD_DAPI,SD_BF,SD_NIR\n",
      "\n",
      "Detecting infection load...\n",
      "Total cells: 2115\n",
      "Percentage infected:27.09\n",
      "Extracting per marker intensity information...\n",
      "Detecting spots in puncta markers...\n"
     ]
    },
    {
     "name": "stderr",
     "output_type": "stream",
     "text": []
    },
    {
     "name": "stdout",
     "output_type": "stream",
     "text": [
      "\n",
      "Image analyzed: Plate12_Nuc_Wells-G2__Channel_SD_AF647,SD_RFP,SD_GFP,SD_DAPI,SD_BF,SD_NIR\n",
      "\n",
      "Detecting infection load...\n",
      "Total cells: 2423\n",
      "Percentage infected:29.76\n",
      "Extracting per marker intensity information...\n",
      "Detecting spots in puncta markers...\n"
     ]
    },
    {
     "name": "stderr",
     "output_type": "stream",
     "text": []
    },
    {
     "name": "stdout",
     "output_type": "stream",
     "text": [
      "\n",
      "Image analyzed: Plate12_Nuc_Wells-G3__Channel_SD_AF647,SD_RFP,SD_GFP,SD_DAPI,SD_BF,SD_NIR\n",
      "\n",
      "Detecting infection load...\n",
      "Total cells: 2712\n",
      "Percentage infected:25.74\n",
      "Extracting per marker intensity information...\n",
      "Detecting spots in puncta markers...\n"
     ]
    },
    {
     "name": "stderr",
     "output_type": "stream",
     "text": []
    },
    {
     "name": "stdout",
     "output_type": "stream",
     "text": [
      "\n",
      "Image analyzed: Plate12_Nuc_Wells-G4__Channel_SD_AF647,SD_RFP,SD_GFP,SD_DAPI,SD_BF,SD_NIR\n",
      "\n",
      "Detecting infection load...\n",
      "Total cells: 2461\n",
      "Percentage infected:41.69\n",
      "Extracting per marker intensity information...\n",
      "Detecting spots in puncta markers...\n"
     ]
    },
    {
     "name": "stderr",
     "output_type": "stream",
     "text": []
    },
    {
     "name": "stdout",
     "output_type": "stream",
     "text": [
      "\n",
      "Image analyzed: Plate12_Nuc_Wells-G5__Channel_SD_AF647,SD_RFP,SD_GFP,SD_DAPI,SD_BF,SD_NIR\n",
      "\n",
      "Detecting infection load...\n",
      "Total cells: 1897\n",
      "Percentage infected:29.2\n",
      "Extracting per marker intensity information...\n",
      "Detecting spots in puncta markers...\n"
     ]
    },
    {
     "name": "stderr",
     "output_type": "stream",
     "text": [
      "100%|██████████| 96/96 [47:27<00:00, 29.67s/it]\n",
      " 71%|███████   | 12/17 [9:35:18<3:57:54, 2854.93s/it]"
     ]
    },
    {
     "name": "stdout",
     "output_type": "stream",
     "text": [
      "Analyzing Plate: Plate 13_Nuc\n"
     ]
    },
    {
     "name": "stderr",
     "output_type": "stream",
     "text": []
    },
    {
     "name": "stdout",
     "output_type": "stream",
     "text": [
      "\n",
      "Image analyzed: Plate13_Nuc_Wells-F11__Channel_SD_AF647,SD_RFP,SD_GFP,SD_DAPI,SD_BF,SD_NIR\n",
      "\n",
      "Detecting infection load...\n",
      "Total cells: 1118\n",
      "Percentage infected:23.43\n",
      "Extracting per marker intensity information...\n",
      "Detecting spots in puncta markers...\n"
     ]
    },
    {
     "name": "stderr",
     "output_type": "stream",
     "text": []
    },
    {
     "name": "stdout",
     "output_type": "stream",
     "text": [
      "\n",
      "Image analyzed: Plate13_Nuc_Wells-F12__Channel_SD_AF647,SD_RFP,SD_GFP,SD_DAPI,SD_BF,SD_NIR\n",
      "\n",
      "Detecting infection load...\n",
      "Total cells: 1154\n",
      "Percentage infected:23.92\n",
      "Extracting per marker intensity information...\n",
      "Detecting spots in puncta markers...\n"
     ]
    },
    {
     "name": "stderr",
     "output_type": "stream",
     "text": []
    },
    {
     "name": "stdout",
     "output_type": "stream",
     "text": [
      "\n",
      "Image analyzed: Plate13_Nuc_Wells-G1__Channel_SD_AF647,SD_RFP,SD_GFP,SD_DAPI,SD_BF,SD_NIR\n",
      "\n",
      "Detecting infection load...\n",
      "Total cells: 2083\n",
      "Percentage infected:25.35\n",
      "Extracting per marker intensity information...\n",
      "Detecting spots in puncta markers...\n"
     ]
    },
    {
     "name": "stderr",
     "output_type": "stream",
     "text": []
    },
    {
     "name": "stdout",
     "output_type": "stream",
     "text": [
      "\n",
      "Image analyzed: Plate13_Nuc_Wells-G2__Channel_SD_AF647,SD_RFP,SD_GFP,SD_DAPI,SD_BF,SD_NIR\n",
      "\n",
      "Detecting infection load...\n",
      "Total cells: 2157\n",
      "Percentage infected:27.03\n",
      "Extracting per marker intensity information...\n",
      "Detecting spots in puncta markers...\n"
     ]
    },
    {
     "name": "stderr",
     "output_type": "stream",
     "text": []
    },
    {
     "name": "stdout",
     "output_type": "stream",
     "text": [
      "\n",
      "Image analyzed: Plate13_Nuc_Wells-G3__Channel_SD_AF647,SD_RFP,SD_GFP,SD_DAPI,SD_BF,SD_NIR\n",
      "\n",
      "Detecting infection load...\n",
      "Total cells: 2138\n",
      "Percentage infected:19.78\n",
      "Extracting per marker intensity information...\n",
      "Detecting spots in puncta markers...\n"
     ]
    },
    {
     "name": "stderr",
     "output_type": "stream",
     "text": []
    },
    {
     "name": "stdout",
     "output_type": "stream",
     "text": [
      "\n",
      "Image analyzed: Plate13_Nuc_Wells-G4__Channel_SD_AF647,SD_RFP,SD_GFP,SD_DAPI,SD_BF,SD_NIR\n",
      "\n",
      "Detecting infection load...\n",
      "Total cells: 2161\n",
      "Percentage infected:24.76\n",
      "Extracting per marker intensity information...\n",
      "Detecting spots in puncta markers...\n"
     ]
    },
    {
     "name": "stderr",
     "output_type": "stream",
     "text": []
    },
    {
     "name": "stdout",
     "output_type": "stream",
     "text": [
      "\n",
      "Image analyzed: Plate13_Nuc_Wells-G5__Channel_SD_AF647,SD_RFP,SD_GFP,SD_DAPI,SD_BF,SD_NIR\n",
      "\n",
      "Detecting infection load...\n",
      "Total cells: 2528\n",
      "Percentage infected:26.54\n",
      "Extracting per marker intensity information...\n",
      "Detecting spots in puncta markers...\n"
     ]
    },
    {
     "name": "stderr",
     "output_type": "stream",
     "text": []
    },
    {
     "name": "stdout",
     "output_type": "stream",
     "text": [
      "\n",
      "Image analyzed: Plate13_Nuc_Wells-G6__Channel_SD_AF647,SD_RFP,SD_GFP,SD_DAPI,SD_BF,SD_NIR\n",
      "\n",
      "Detecting infection load...\n",
      "Total cells: 2337\n",
      "Percentage infected:29.53\n",
      "Extracting per marker intensity information...\n",
      "Detecting spots in puncta markers...\n"
     ]
    },
    {
     "name": "stderr",
     "output_type": "stream",
     "text": []
    },
    {
     "name": "stdout",
     "output_type": "stream",
     "text": [
      "\n",
      "Image analyzed: Plate13_Nuc_Wells-G7__Channel_SD_AF647,SD_RFP,SD_GFP,SD_DAPI,SD_BF,SD_NIR\n",
      "\n",
      "Detecting infection load...\n",
      "Total cells: 2196\n",
      "Percentage infected:26.23\n",
      "Extracting per marker intensity information...\n",
      "Detecting spots in puncta markers...\n"
     ]
    },
    {
     "name": "stderr",
     "output_type": "stream",
     "text": []
    },
    {
     "name": "stdout",
     "output_type": "stream",
     "text": [
      "\n",
      "Image analyzed: Plate13_Nuc_Wells-G8__Channel_SD_AF647,SD_RFP,SD_GFP,SD_DAPI,SD_BF,SD_NIR\n",
      "\n",
      "Detecting infection load...\n",
      "Total cells: 2289\n",
      "Percentage infected:28.96\n",
      "Extracting per marker intensity information...\n",
      "Detecting spots in puncta markers...\n"
     ]
    },
    {
     "name": "stderr",
     "output_type": "stream",
     "text": []
    },
    {
     "name": "stdout",
     "output_type": "stream",
     "text": [
      "\n",
      "Image analyzed: Plate13_Nuc_Wells-G9__Channel_SD_AF647,SD_RFP,SD_GFP,SD_DAPI,SD_BF,SD_NIR\n",
      "\n",
      "Detecting infection load...\n",
      "Total cells: 1964\n",
      "Percentage infected:28.56\n",
      "Extracting per marker intensity information...\n",
      "Detecting spots in puncta markers...\n"
     ]
    },
    {
     "name": "stderr",
     "output_type": "stream",
     "text": []
    },
    {
     "name": "stdout",
     "output_type": "stream",
     "text": [
      "\n",
      "Image analyzed: Plate13_Nuc_Wells-G10__Channel_SD_AF647,SD_RFP,SD_GFP,SD_DAPI,SD_BF,SD_NIR\n",
      "\n",
      "Detecting infection load...\n",
      "Total cells: 2132\n",
      "Percentage infected:32.46\n",
      "Extracting per marker intensity information...\n",
      "Detecting spots in puncta markers...\n"
     ]
    },
    {
     "name": "stderr",
     "output_type": "stream",
     "text": []
    },
    {
     "name": "stdout",
     "output_type": "stream",
     "text": [
      "\n",
      "Image analyzed: Plate13_Nuc_Wells-G11__Channel_SD_AF647,SD_RFP,SD_GFP,SD_DAPI,SD_BF,SD_NIR\n",
      "\n",
      "Detecting infection load...\n",
      "Total cells: 2259\n",
      "Percentage infected:24.08\n",
      "Extracting per marker intensity information...\n",
      "Detecting spots in puncta markers...\n"
     ]
    },
    {
     "name": "stderr",
     "output_type": "stream",
     "text": []
    },
    {
     "name": "stdout",
     "output_type": "stream",
     "text": [
      "\n",
      "Image analyzed: Plate13_Nuc_Wells-G12__Channel_SD_AF647,SD_RFP,SD_GFP,SD_DAPI,SD_BF,SD_NIR\n",
      "\n",
      "Detecting infection load...\n",
      "Total cells: 1732\n",
      "Percentage infected:25.0\n",
      "Extracting per marker intensity information...\n",
      "Detecting spots in puncta markers...\n"
     ]
    },
    {
     "name": "stderr",
     "output_type": "stream",
     "text": []
    },
    {
     "name": "stdout",
     "output_type": "stream",
     "text": [
      "\n",
      "Image analyzed: Plate13_Nuc_Wells-H1__Channel_SD_AF647,SD_RFP,SD_GFP,SD_DAPI,SD_BF,SD_NIR\n",
      "\n",
      "Detecting infection load...\n",
      "Total cells: 2726\n",
      "Percentage infected:0.22\n",
      "Extracting per marker intensity information...\n",
      "Detecting spots in puncta markers...\n"
     ]
    },
    {
     "name": "stderr",
     "output_type": "stream",
     "text": []
    },
    {
     "name": "stdout",
     "output_type": "stream",
     "text": [
      "\n",
      "Image analyzed: Plate13_Nuc_Wells-H2__Channel_SD_AF647,SD_RFP,SD_GFP,SD_DAPI,SD_BF,SD_NIR\n",
      "\n",
      "Detecting infection load...\n",
      "Total cells: 2384\n",
      "Percentage infected:29.36\n",
      "Extracting per marker intensity information...\n",
      "Detecting spots in puncta markers...\n"
     ]
    },
    {
     "name": "stderr",
     "output_type": "stream",
     "text": []
    },
    {
     "name": "stdout",
     "output_type": "stream",
     "text": [
      "\n",
      "Image analyzed: Plate13_Nuc_Wells-H3__Channel_SD_AF647,SD_RFP,SD_GFP,SD_DAPI,SD_BF,SD_NIR\n",
      "\n",
      "Detecting infection load...\n",
      "Total cells: 2484\n",
      "Percentage infected:24.72\n",
      "Extracting per marker intensity information...\n",
      "Detecting spots in puncta markers...\n"
     ]
    },
    {
     "name": "stderr",
     "output_type": "stream",
     "text": []
    },
    {
     "name": "stdout",
     "output_type": "stream",
     "text": [
      "\n",
      "Image analyzed: Plate13_Nuc_Wells-H4__Channel_SD_AF647,SD_RFP,SD_GFP,SD_DAPI,SD_BF,SD_NIR\n",
      "\n",
      "Detecting infection load...\n",
      "Total cells: 2698\n",
      "Percentage infected:22.2\n",
      "Extracting per marker intensity information...\n",
      "Detecting spots in puncta markers...\n"
     ]
    },
    {
     "name": "stderr",
     "output_type": "stream",
     "text": []
    },
    {
     "name": "stdout",
     "output_type": "stream",
     "text": [
      "\n",
      "Image analyzed: Plate13_Nuc_Wells-H5__Channel_SD_AF647,SD_RFP,SD_GFP,SD_DAPI,SD_BF,SD_NIR\n",
      "\n",
      "Detecting infection load...\n",
      "Total cells: 3066\n",
      "Percentage infected:32.0\n",
      "Extracting per marker intensity information...\n",
      "Detecting spots in puncta markers...\n"
     ]
    },
    {
     "name": "stderr",
     "output_type": "stream",
     "text": []
    },
    {
     "name": "stdout",
     "output_type": "stream",
     "text": [
      "\n",
      "Image analyzed: Plate13_Nuc_Wells-H6__Channel_SD_AF647,SD_RFP,SD_GFP,SD_DAPI,SD_BF,SD_NIR\n",
      "\n",
      "Detecting infection load...\n",
      "Total cells: 3538\n",
      "Percentage infected:26.4\n",
      "Extracting per marker intensity information...\n",
      "Detecting spots in puncta markers...\n"
     ]
    },
    {
     "name": "stderr",
     "output_type": "stream",
     "text": []
    },
    {
     "name": "stdout",
     "output_type": "stream",
     "text": [
      "\n",
      "Image analyzed: Plate13_Nuc_Wells-H7__Channel_SD_AF647,SD_RFP,SD_GFP,SD_DAPI,SD_BF,SD_NIR\n",
      "\n",
      "Detecting infection load...\n",
      "Total cells: 2612\n",
      "Percentage infected:28.56\n",
      "Extracting per marker intensity information...\n",
      "Detecting spots in puncta markers...\n"
     ]
    },
    {
     "name": "stderr",
     "output_type": "stream",
     "text": []
    },
    {
     "name": "stdout",
     "output_type": "stream",
     "text": [
      "\n",
      "Image analyzed: Plate13_Nuc_Wells-H8__Channel_SD_AF647,SD_RFP,SD_GFP,SD_DAPI,SD_BF,SD_NIR\n",
      "\n",
      "Detecting infection load...\n",
      "Total cells: 2678\n",
      "Percentage infected:30.96\n",
      "Extracting per marker intensity information...\n",
      "Detecting spots in puncta markers...\n"
     ]
    },
    {
     "name": "stderr",
     "output_type": "stream",
     "text": []
    },
    {
     "name": "stdout",
     "output_type": "stream",
     "text": [
      "\n",
      "Image analyzed: Plate13_Nuc_Wells-H9__Channel_SD_AF647,SD_RFP,SD_GFP,SD_DAPI,SD_BF,SD_NIR\n",
      "\n",
      "Detecting infection load...\n",
      "Total cells: 2218\n",
      "Percentage infected:28.22\n",
      "Extracting per marker intensity information...\n",
      "Detecting spots in puncta markers...\n"
     ]
    },
    {
     "name": "stderr",
     "output_type": "stream",
     "text": []
    },
    {
     "name": "stdout",
     "output_type": "stream",
     "text": [
      "\n",
      "Image analyzed: Plate13_Nuc_Wells-H10__Channel_SD_AF647,SD_RFP,SD_GFP,SD_DAPI,SD_BF,SD_NIR\n",
      "\n",
      "Detecting infection load...\n",
      "Total cells: 2453\n",
      "Percentage infected:28.17\n",
      "Extracting per marker intensity information...\n",
      "Detecting spots in puncta markers...\n"
     ]
    },
    {
     "name": "stderr",
     "output_type": "stream",
     "text": []
    },
    {
     "name": "stdout",
     "output_type": "stream",
     "text": [
      "\n",
      "Image analyzed: Plate13_Nuc_Wells-H11__Channel_SD_AF647,SD_RFP,SD_GFP,SD_DAPI,SD_BF,SD_NIR\n",
      "\n",
      "Detecting infection load...\n",
      "Total cells: 2420\n",
      "Percentage infected:30.5\n",
      "Extracting per marker intensity information...\n",
      "Detecting spots in puncta markers...\n"
     ]
    },
    {
     "name": "stderr",
     "output_type": "stream",
     "text": []
    },
    {
     "name": "stdout",
     "output_type": "stream",
     "text": [
      "\n",
      "Image analyzed: Plate13_Nuc_Wells-H12__Channel_SD_AF647,SD_RFP,SD_GFP,SD_DAPI,SD_BF,SD_NIR\n",
      "\n",
      "Detecting infection load...\n",
      "Total cells: 1802\n",
      "Percentage infected:27.91\n",
      "Extracting per marker intensity information...\n",
      "Detecting spots in puncta markers...\n"
     ]
    },
    {
     "name": "stderr",
     "output_type": "stream",
     "text": []
    },
    {
     "name": "stdout",
     "output_type": "stream",
     "text": [
      "\n",
      "Image analyzed: Plate13_Nuc_Wells-A1__Channel_SD_AF647,SD_RFP,SD_GFP,SD_DAPI,SD_BF,SD_NIR\n",
      "\n",
      "Detecting infection load...\n",
      "Total cells: 2196\n",
      "Percentage infected:27.19\n",
      "Extracting per marker intensity information...\n",
      "Detecting spots in puncta markers...\n"
     ]
    },
    {
     "name": "stderr",
     "output_type": "stream",
     "text": []
    },
    {
     "name": "stdout",
     "output_type": "stream",
     "text": [
      "\n",
      "Image analyzed: Plate13_Nuc_Wells-A2__Channel_SD_AF647,SD_RFP,SD_GFP,SD_DAPI,SD_BF,SD_NIR\n",
      "\n",
      "Detecting infection load...\n",
      "Total cells: 2803\n",
      "Percentage infected:19.94\n",
      "Extracting per marker intensity information...\n",
      "Detecting spots in puncta markers...\n"
     ]
    },
    {
     "name": "stderr",
     "output_type": "stream",
     "text": []
    },
    {
     "name": "stdout",
     "output_type": "stream",
     "text": [
      "\n",
      "Image analyzed: Plate13_Nuc_Wells-A3__Channel_SD_AF647,SD_RFP,SD_GFP,SD_DAPI,SD_BF,SD_NIR\n",
      "\n",
      "Detecting infection load...\n",
      "Total cells: 2770\n",
      "Percentage infected:23.54\n",
      "Extracting per marker intensity information...\n",
      "Detecting spots in puncta markers...\n"
     ]
    },
    {
     "name": "stderr",
     "output_type": "stream",
     "text": []
    },
    {
     "name": "stdout",
     "output_type": "stream",
     "text": [
      "\n",
      "Image analyzed: Plate13_Nuc_Wells-A4__Channel_SD_AF647,SD_RFP,SD_GFP,SD_DAPI,SD_BF,SD_NIR\n",
      "\n",
      "Detecting infection load...\n",
      "Total cells: 3064\n",
      "Percentage infected:24.28\n",
      "Extracting per marker intensity information...\n",
      "Detecting spots in puncta markers...\n"
     ]
    },
    {
     "name": "stderr",
     "output_type": "stream",
     "text": []
    },
    {
     "name": "stdout",
     "output_type": "stream",
     "text": [
      "\n",
      "Image analyzed: Plate13_Nuc_Wells-A5__Channel_SD_AF647,SD_RFP,SD_GFP,SD_DAPI,SD_BF,SD_NIR\n",
      "\n",
      "Detecting infection load...\n",
      "Total cells: 2820\n",
      "Percentage infected:28.69\n",
      "Extracting per marker intensity information...\n",
      "Detecting spots in puncta markers...\n"
     ]
    },
    {
     "name": "stderr",
     "output_type": "stream",
     "text": []
    },
    {
     "name": "stdout",
     "output_type": "stream",
     "text": [
      "\n",
      "Image analyzed: Plate13_Nuc_Wells-A6__Channel_SD_AF647,SD_RFP,SD_GFP,SD_DAPI,SD_BF,SD_NIR\n",
      "\n",
      "Detecting infection load...\n",
      "Total cells: 2676\n",
      "Percentage infected:29.15\n",
      "Extracting per marker intensity information...\n",
      "Detecting spots in puncta markers...\n"
     ]
    },
    {
     "name": "stderr",
     "output_type": "stream",
     "text": []
    },
    {
     "name": "stdout",
     "output_type": "stream",
     "text": [
      "\n",
      "Image analyzed: Plate13_Nuc_Wells-A7__Channel_SD_AF647,SD_RFP,SD_GFP,SD_DAPI,SD_BF,SD_NIR\n",
      "\n",
      "Detecting infection load...\n",
      "Total cells: 2541\n",
      "Percentage infected:30.22\n",
      "Extracting per marker intensity information...\n",
      "Detecting spots in puncta markers...\n"
     ]
    },
    {
     "name": "stderr",
     "output_type": "stream",
     "text": []
    },
    {
     "name": "stdout",
     "output_type": "stream",
     "text": [
      "\n",
      "Image analyzed: Plate13_Nuc_Wells-A8__Channel_SD_AF647,SD_RFP,SD_GFP,SD_DAPI,SD_BF,SD_NIR\n",
      "\n",
      "Detecting infection load...\n",
      "Total cells: 2463\n",
      "Percentage infected:30.98\n",
      "Extracting per marker intensity information...\n",
      "Detecting spots in puncta markers...\n"
     ]
    },
    {
     "name": "stderr",
     "output_type": "stream",
     "text": []
    },
    {
     "name": "stdout",
     "output_type": "stream",
     "text": [
      "\n",
      "Image analyzed: Plate13_Nuc_Wells-A9__Channel_SD_AF647,SD_RFP,SD_GFP,SD_DAPI,SD_BF,SD_NIR\n",
      "\n",
      "Detecting infection load...\n",
      "Total cells: 2032\n",
      "Percentage infected:27.85\n",
      "Extracting per marker intensity information...\n",
      "Detecting spots in puncta markers...\n"
     ]
    },
    {
     "name": "stderr",
     "output_type": "stream",
     "text": []
    },
    {
     "name": "stdout",
     "output_type": "stream",
     "text": [
      "\n",
      "Image analyzed: Plate13_Nuc_Wells-A10__Channel_SD_AF647,SD_RFP,SD_GFP,SD_DAPI,SD_BF,SD_NIR\n",
      "\n",
      "Detecting infection load...\n",
      "Total cells: 2412\n",
      "Percentage infected:22.64\n",
      "Extracting per marker intensity information...\n",
      "Detecting spots in puncta markers...\n"
     ]
    },
    {
     "name": "stderr",
     "output_type": "stream",
     "text": []
    },
    {
     "name": "stdout",
     "output_type": "stream",
     "text": [
      "\n",
      "Image analyzed: Plate13_Nuc_Wells-A11__Channel_SD_AF647,SD_RFP,SD_GFP,SD_DAPI,SD_BF,SD_NIR\n",
      "\n",
      "Detecting infection load...\n",
      "Total cells: 2266\n",
      "Percentage infected:24.98\n",
      "Extracting per marker intensity information...\n",
      "Detecting spots in puncta markers...\n"
     ]
    },
    {
     "name": "stderr",
     "output_type": "stream",
     "text": []
    },
    {
     "name": "stdout",
     "output_type": "stream",
     "text": [
      "\n",
      "Image analyzed: Plate13_Nuc_Wells-A12__Channel_SD_AF647,SD_RFP,SD_GFP,SD_DAPI,SD_BF,SD_NIR\n",
      "\n",
      "Detecting infection load...\n",
      "Total cells: 1691\n",
      "Percentage infected:24.13\n",
      "Extracting per marker intensity information...\n",
      "Detecting spots in puncta markers...\n"
     ]
    },
    {
     "name": "stderr",
     "output_type": "stream",
     "text": []
    },
    {
     "name": "stdout",
     "output_type": "stream",
     "text": [
      "\n",
      "Image analyzed: Plate13_Nuc_Wells-B1__Channel_SD_AF647,SD_RFP,SD_GFP,SD_DAPI,SD_BF,SD_NIR\n",
      "\n",
      "Detecting infection load...\n",
      "Total cells: 1979\n",
      "Percentage infected:16.62\n",
      "Extracting per marker intensity information...\n",
      "Detecting spots in puncta markers...\n"
     ]
    },
    {
     "name": "stderr",
     "output_type": "stream",
     "text": []
    },
    {
     "name": "stdout",
     "output_type": "stream",
     "text": [
      "\n",
      "Image analyzed: Plate13_Nuc_Wells-B2__Channel_SD_AF647,SD_RFP,SD_GFP,SD_DAPI,SD_BF,SD_NIR\n",
      "\n",
      "Detecting infection load...\n",
      "Total cells: 1858\n",
      "Percentage infected:26.32\n",
      "Extracting per marker intensity information...\n",
      "Detecting spots in puncta markers...\n"
     ]
    },
    {
     "name": "stderr",
     "output_type": "stream",
     "text": []
    },
    {
     "name": "stdout",
     "output_type": "stream",
     "text": [
      "\n",
      "Image analyzed: Plate13_Nuc_Wells-B3__Channel_SD_AF647,SD_RFP,SD_GFP,SD_DAPI,SD_BF,SD_NIR\n",
      "\n",
      "Detecting infection load...\n",
      "Total cells: 1873\n",
      "Percentage infected:21.62\n",
      "Extracting per marker intensity information...\n",
      "Detecting spots in puncta markers...\n"
     ]
    },
    {
     "name": "stderr",
     "output_type": "stream",
     "text": []
    },
    {
     "name": "stdout",
     "output_type": "stream",
     "text": [
      "\n",
      "Image analyzed: Plate13_Nuc_Wells-B4__Channel_SD_AF647,SD_RFP,SD_GFP,SD_DAPI,SD_BF,SD_NIR\n",
      "\n",
      "Detecting infection load...\n",
      "Total cells: 1981\n",
      "Percentage infected:28.27\n",
      "Extracting per marker intensity information...\n",
      "Detecting spots in puncta markers...\n"
     ]
    },
    {
     "name": "stderr",
     "output_type": "stream",
     "text": []
    },
    {
     "name": "stdout",
     "output_type": "stream",
     "text": [
      "\n",
      "Image analyzed: Plate13_Nuc_Wells-B5__Channel_SD_AF647,SD_RFP,SD_GFP,SD_DAPI,SD_BF,SD_NIR\n",
      "\n",
      "Detecting infection load...\n",
      "Total cells: 1851\n",
      "Percentage infected:26.9\n",
      "Extracting per marker intensity information...\n",
      "Detecting spots in puncta markers...\n"
     ]
    },
    {
     "name": "stderr",
     "output_type": "stream",
     "text": []
    },
    {
     "name": "stdout",
     "output_type": "stream",
     "text": [
      "\n",
      "Image analyzed: Plate13_Nuc_Wells-B6__Channel_SD_AF647,SD_RFP,SD_GFP,SD_DAPI,SD_BF,SD_NIR\n",
      "\n",
      "Detecting infection load...\n",
      "Total cells: 1827\n",
      "Percentage infected:25.45\n",
      "Extracting per marker intensity information...\n",
      "Detecting spots in puncta markers...\n"
     ]
    },
    {
     "name": "stderr",
     "output_type": "stream",
     "text": []
    },
    {
     "name": "stdout",
     "output_type": "stream",
     "text": [
      "\n",
      "Image analyzed: Plate13_Nuc_Wells-B7__Channel_SD_AF647,SD_RFP,SD_GFP,SD_DAPI,SD_BF,SD_NIR\n",
      "\n",
      "Detecting infection load...\n",
      "Total cells: 1689\n",
      "Percentage infected:25.4\n",
      "Extracting per marker intensity information...\n",
      "Detecting spots in puncta markers...\n"
     ]
    },
    {
     "name": "stderr",
     "output_type": "stream",
     "text": []
    },
    {
     "name": "stdout",
     "output_type": "stream",
     "text": [
      "\n",
      "Image analyzed: Plate13_Nuc_Wells-B8__Channel_SD_AF647,SD_RFP,SD_GFP,SD_DAPI,SD_BF,SD_NIR\n",
      "\n",
      "Detecting infection load...\n",
      "Total cells: 1944\n",
      "Percentage infected:29.32\n",
      "Extracting per marker intensity information...\n",
      "Detecting spots in puncta markers...\n"
     ]
    },
    {
     "name": "stderr",
     "output_type": "stream",
     "text": []
    },
    {
     "name": "stdout",
     "output_type": "stream",
     "text": [
      "\n",
      "Image analyzed: Plate13_Nuc_Wells-B9__Channel_SD_AF647,SD_RFP,SD_GFP,SD_DAPI,SD_BF,SD_NIR\n",
      "\n",
      "Detecting infection load...\n",
      "Total cells: 1727\n",
      "Percentage infected:24.9\n",
      "Extracting per marker intensity information...\n",
      "Detecting spots in puncta markers...\n"
     ]
    },
    {
     "name": "stderr",
     "output_type": "stream",
     "text": []
    },
    {
     "name": "stdout",
     "output_type": "stream",
     "text": [
      "\n",
      "Image analyzed: Plate13_Nuc_Wells-B10__Channel_SD_AF647,SD_RFP,SD_GFP,SD_DAPI,SD_BF,SD_NIR\n",
      "\n",
      "Detecting infection load...\n",
      "Total cells: 1615\n",
      "Percentage infected:22.29\n",
      "Extracting per marker intensity information...\n",
      "Detecting spots in puncta markers...\n"
     ]
    },
    {
     "name": "stderr",
     "output_type": "stream",
     "text": []
    },
    {
     "name": "stdout",
     "output_type": "stream",
     "text": [
      "\n",
      "Image analyzed: Plate13_Nuc_Wells-B11__Channel_SD_AF647,SD_RFP,SD_GFP,SD_DAPI,SD_BF,SD_NIR\n",
      "\n",
      "Detecting infection load...\n",
      "Total cells: 1844\n",
      "Percentage infected:21.58\n",
      "Extracting per marker intensity information...\n",
      "Detecting spots in puncta markers...\n"
     ]
    },
    {
     "name": "stderr",
     "output_type": "stream",
     "text": []
    },
    {
     "name": "stdout",
     "output_type": "stream",
     "text": [
      "\n",
      "Image analyzed: Plate13_Nuc_Wells-B12__Channel_SD_AF647,SD_RFP,SD_GFP,SD_DAPI,SD_BF,SD_NIR\n",
      "\n",
      "Detecting infection load...\n",
      "Total cells: 1507\n",
      "Percentage infected:25.28\n",
      "Extracting per marker intensity information...\n",
      "Detecting spots in puncta markers...\n"
     ]
    },
    {
     "name": "stderr",
     "output_type": "stream",
     "text": []
    },
    {
     "name": "stdout",
     "output_type": "stream",
     "text": [
      "\n",
      "Image analyzed: Plate13_Nuc_Wells-C1__Channel_SD_AF647,SD_RFP,SD_GFP,SD_DAPI,SD_BF,SD_NIR\n",
      "\n",
      "Detecting infection load...\n",
      "Total cells: 1752\n",
      "Percentage infected:18.38\n",
      "Extracting per marker intensity information...\n",
      "Detecting spots in puncta markers...\n"
     ]
    },
    {
     "name": "stderr",
     "output_type": "stream",
     "text": []
    },
    {
     "name": "stdout",
     "output_type": "stream",
     "text": [
      "\n",
      "Image analyzed: Plate13_Nuc_Wells-C2__Channel_SD_AF647,SD_RFP,SD_GFP,SD_DAPI,SD_BF,SD_NIR\n",
      "\n",
      "Detecting infection load...\n",
      "Total cells: 1761\n",
      "Percentage infected:22.03\n",
      "Extracting per marker intensity information...\n",
      "Detecting spots in puncta markers...\n"
     ]
    },
    {
     "name": "stderr",
     "output_type": "stream",
     "text": []
    },
    {
     "name": "stdout",
     "output_type": "stream",
     "text": [
      "\n",
      "Image analyzed: Plate13_Nuc_Wells-C3__Channel_SD_AF647,SD_RFP,SD_GFP,SD_DAPI,SD_BF,SD_NIR\n",
      "\n",
      "Detecting infection load...\n",
      "Total cells: 1566\n",
      "Percentage infected:27.08\n",
      "Extracting per marker intensity information...\n",
      "Detecting spots in puncta markers...\n"
     ]
    },
    {
     "name": "stderr",
     "output_type": "stream",
     "text": []
    },
    {
     "name": "stdout",
     "output_type": "stream",
     "text": [
      "\n",
      "Image analyzed: Plate13_Nuc_Wells-C4__Channel_SD_AF647,SD_RFP,SD_GFP,SD_DAPI,SD_BF,SD_NIR\n",
      "\n",
      "Detecting infection load...\n",
      "Total cells: 1865\n",
      "Percentage infected:23.49\n",
      "Extracting per marker intensity information...\n",
      "Detecting spots in puncta markers...\n"
     ]
    },
    {
     "name": "stderr",
     "output_type": "stream",
     "text": []
    },
    {
     "name": "stdout",
     "output_type": "stream",
     "text": [
      "\n",
      "Image analyzed: Plate13_Nuc_Wells-C5__Channel_SD_AF647,SD_RFP,SD_GFP,SD_DAPI,SD_BF,SD_NIR\n",
      "\n",
      "Detecting infection load...\n",
      "Total cells: 1482\n",
      "Percentage infected:23.41\n",
      "Extracting per marker intensity information...\n",
      "Detecting spots in puncta markers...\n"
     ]
    },
    {
     "name": "stderr",
     "output_type": "stream",
     "text": []
    },
    {
     "name": "stdout",
     "output_type": "stream",
     "text": [
      "\n",
      "Image analyzed: Plate13_Nuc_Wells-C6__Channel_SD_AF647,SD_RFP,SD_GFP,SD_DAPI,SD_BF,SD_NIR\n",
      "\n",
      "Detecting infection load...\n",
      "Total cells: 1278\n",
      "Percentage infected:25.82\n",
      "Extracting per marker intensity information...\n",
      "Detecting spots in puncta markers...\n"
     ]
    },
    {
     "name": "stderr",
     "output_type": "stream",
     "text": []
    },
    {
     "name": "stdout",
     "output_type": "stream",
     "text": [
      "\n",
      "Image analyzed: Plate13_Nuc_Wells-C7__Channel_SD_AF647,SD_RFP,SD_GFP,SD_DAPI,SD_BF,SD_NIR\n",
      "\n",
      "Detecting infection load...\n",
      "Total cells: 1658\n",
      "Percentage infected:24.31\n",
      "Extracting per marker intensity information...\n",
      "Detecting spots in puncta markers...\n"
     ]
    },
    {
     "name": "stderr",
     "output_type": "stream",
     "text": []
    },
    {
     "name": "stdout",
     "output_type": "stream",
     "text": [
      "\n",
      "Image analyzed: Plate13_Nuc_Wells-C8__Channel_SD_AF647,SD_RFP,SD_GFP,SD_DAPI,SD_BF,SD_NIR\n",
      "\n",
      "Detecting infection load...\n",
      "Total cells: 1359\n",
      "Percentage infected:30.17\n",
      "Extracting per marker intensity information...\n",
      "Detecting spots in puncta markers...\n"
     ]
    },
    {
     "name": "stderr",
     "output_type": "stream",
     "text": []
    },
    {
     "name": "stdout",
     "output_type": "stream",
     "text": [
      "\n",
      "Image analyzed: Plate13_Nuc_Wells-C9__Channel_SD_AF647,SD_RFP,SD_GFP,SD_DAPI,SD_BF,SD_NIR\n",
      "\n",
      "Detecting infection load...\n",
      "Total cells: 1691\n",
      "Percentage infected:29.45\n",
      "Extracting per marker intensity information...\n",
      "Detecting spots in puncta markers...\n"
     ]
    },
    {
     "name": "stderr",
     "output_type": "stream",
     "text": []
    },
    {
     "name": "stdout",
     "output_type": "stream",
     "text": [
      "\n",
      "Image analyzed: Plate13_Nuc_Wells-C10__Channel_SD_AF647,SD_RFP,SD_GFP,SD_DAPI,SD_BF,SD_NIR\n",
      "\n",
      "Detecting infection load...\n",
      "Total cells: 1881\n",
      "Percentage infected:22.33\n",
      "Extracting per marker intensity information...\n",
      "Detecting spots in puncta markers...\n"
     ]
    },
    {
     "name": "stderr",
     "output_type": "stream",
     "text": []
    },
    {
     "name": "stdout",
     "output_type": "stream",
     "text": [
      "\n",
      "Image analyzed: Plate13_Nuc_Wells-C11__Channel_SD_AF647,SD_RFP,SD_GFP,SD_DAPI,SD_BF,SD_NIR\n",
      "\n",
      "Detecting infection load...\n",
      "Total cells: 1416\n",
      "Percentage infected:25.49\n",
      "Extracting per marker intensity information...\n",
      "Detecting spots in puncta markers...\n"
     ]
    },
    {
     "name": "stderr",
     "output_type": "stream",
     "text": []
    },
    {
     "name": "stdout",
     "output_type": "stream",
     "text": [
      "\n",
      "Image analyzed: Plate13_Nuc_Wells-C12__Channel_SD_AF647,SD_RFP,SD_GFP,SD_DAPI,SD_BF,SD_NIR\n",
      "\n",
      "Detecting infection load...\n",
      "Total cells: 1382\n",
      "Percentage infected:20.19\n",
      "Extracting per marker intensity information...\n",
      "Detecting spots in puncta markers...\n"
     ]
    },
    {
     "name": "stderr",
     "output_type": "stream",
     "text": []
    },
    {
     "name": "stdout",
     "output_type": "stream",
     "text": [
      "\n",
      "Image analyzed: Plate13_Nuc_Wells-D1__Channel_SD_AF647,SD_RFP,SD_GFP,SD_DAPI,SD_BF,SD_NIR\n",
      "\n",
      "Detecting infection load...\n",
      "Total cells: 1572\n",
      "Percentage infected:20.8\n",
      "Extracting per marker intensity information...\n",
      "Detecting spots in puncta markers...\n"
     ]
    },
    {
     "name": "stderr",
     "output_type": "stream",
     "text": []
    },
    {
     "name": "stdout",
     "output_type": "stream",
     "text": [
      "\n",
      "Image analyzed: Plate13_Nuc_Wells-D2__Channel_SD_AF647,SD_RFP,SD_GFP,SD_DAPI,SD_BF,SD_NIR\n",
      "\n",
      "Detecting infection load...\n",
      "Total cells: 1498\n",
      "Percentage infected:24.17\n",
      "Extracting per marker intensity information...\n",
      "Detecting spots in puncta markers...\n"
     ]
    },
    {
     "name": "stderr",
     "output_type": "stream",
     "text": []
    },
    {
     "name": "stdout",
     "output_type": "stream",
     "text": [
      "\n",
      "Image analyzed: Plate13_Nuc_Wells-D3__Channel_SD_AF647,SD_RFP,SD_GFP,SD_DAPI,SD_BF,SD_NIR\n",
      "\n",
      "Detecting infection load...\n",
      "Total cells: 1537\n",
      "Percentage infected:24.53\n",
      "Extracting per marker intensity information...\n",
      "Detecting spots in puncta markers...\n"
     ]
    },
    {
     "name": "stderr",
     "output_type": "stream",
     "text": []
    },
    {
     "name": "stdout",
     "output_type": "stream",
     "text": [
      "\n",
      "Image analyzed: Plate13_Nuc_Wells-D4__Channel_SD_AF647,SD_RFP,SD_GFP,SD_DAPI,SD_BF,SD_NIR\n",
      "\n",
      "Detecting infection load...\n",
      "Total cells: 1706\n",
      "Percentage infected:27.37\n",
      "Extracting per marker intensity information...\n",
      "Detecting spots in puncta markers...\n"
     ]
    },
    {
     "name": "stderr",
     "output_type": "stream",
     "text": []
    },
    {
     "name": "stdout",
     "output_type": "stream",
     "text": [
      "\n",
      "Image analyzed: Plate13_Nuc_Wells-D5__Channel_SD_AF647,SD_RFP,SD_GFP,SD_DAPI,SD_BF,SD_NIR\n",
      "\n",
      "Detecting infection load...\n",
      "Total cells: 1015\n",
      "Percentage infected:29.85\n",
      "Extracting per marker intensity information...\n",
      "Detecting spots in puncta markers...\n"
     ]
    },
    {
     "name": "stderr",
     "output_type": "stream",
     "text": []
    },
    {
     "name": "stdout",
     "output_type": "stream",
     "text": [
      "\n",
      "Image analyzed: Plate13_Nuc_Wells-D6__Channel_SD_AF647,SD_RFP,SD_GFP,SD_DAPI,SD_BF,SD_NIR\n",
      "\n",
      "Detecting infection load...\n",
      "Total cells: 1360\n",
      "Percentage infected:32.5\n",
      "Extracting per marker intensity information...\n",
      "Detecting spots in puncta markers...\n"
     ]
    },
    {
     "name": "stderr",
     "output_type": "stream",
     "text": []
    },
    {
     "name": "stdout",
     "output_type": "stream",
     "text": [
      "\n",
      "Image analyzed: Plate13_Nuc_Wells-D7__Channel_SD_AF647,SD_RFP,SD_GFP,SD_DAPI,SD_BF,SD_NIR\n",
      "\n",
      "Detecting infection load...\n",
      "Total cells: 1781\n",
      "Percentage infected:25.04\n",
      "Extracting per marker intensity information...\n",
      "Detecting spots in puncta markers...\n"
     ]
    },
    {
     "name": "stderr",
     "output_type": "stream",
     "text": []
    },
    {
     "name": "stdout",
     "output_type": "stream",
     "text": [
      "\n",
      "Image analyzed: Plate13_Nuc_Wells-D8__Channel_SD_AF647,SD_RFP,SD_GFP,SD_DAPI,SD_BF,SD_NIR\n",
      "\n",
      "Detecting infection load...\n",
      "Total cells: 1729\n",
      "Percentage infected:25.62\n",
      "Extracting per marker intensity information...\n",
      "Detecting spots in puncta markers...\n"
     ]
    },
    {
     "name": "stderr",
     "output_type": "stream",
     "text": []
    },
    {
     "name": "stdout",
     "output_type": "stream",
     "text": [
      "\n",
      "Image analyzed: Plate13_Nuc_Wells-D9__Channel_SD_AF647,SD_RFP,SD_GFP,SD_DAPI,SD_BF,SD_NIR\n",
      "\n",
      "Detecting infection load...\n",
      "Total cells: 1323\n",
      "Percentage infected:21.84\n",
      "Extracting per marker intensity information...\n",
      "Detecting spots in puncta markers...\n"
     ]
    },
    {
     "name": "stderr",
     "output_type": "stream",
     "text": []
    },
    {
     "name": "stdout",
     "output_type": "stream",
     "text": [
      "\n",
      "Image analyzed: Plate13_Nuc_Wells-D10__Channel_SD_AF647,SD_RFP,SD_GFP,SD_DAPI,SD_BF,SD_NIR\n",
      "\n",
      "Detecting infection load...\n",
      "Total cells: 1633\n",
      "Percentage infected:22.11\n",
      "Extracting per marker intensity information...\n",
      "Detecting spots in puncta markers...\n"
     ]
    },
    {
     "name": "stderr",
     "output_type": "stream",
     "text": []
    },
    {
     "name": "stdout",
     "output_type": "stream",
     "text": [
      "\n",
      "Image analyzed: Plate13_Nuc_Wells-D11__Channel_SD_AF647,SD_RFP,SD_GFP,SD_DAPI,SD_BF,SD_NIR\n",
      "\n",
      "Detecting infection load...\n",
      "Total cells: 1382\n",
      "Percentage infected:22.21\n",
      "Extracting per marker intensity information...\n",
      "Detecting spots in puncta markers...\n"
     ]
    },
    {
     "name": "stderr",
     "output_type": "stream",
     "text": []
    },
    {
     "name": "stdout",
     "output_type": "stream",
     "text": [
      "\n",
      "Image analyzed: Plate13_Nuc_Wells-D12__Channel_SD_AF647,SD_RFP,SD_GFP,SD_DAPI,SD_BF,SD_NIR\n",
      "\n",
      "Detecting infection load...\n",
      "Total cells: 1615\n",
      "Percentage infected:24.02\n",
      "Extracting per marker intensity information...\n",
      "Detecting spots in puncta markers...\n"
     ]
    },
    {
     "name": "stderr",
     "output_type": "stream",
     "text": []
    },
    {
     "name": "stdout",
     "output_type": "stream",
     "text": [
      "\n",
      "Image analyzed: Plate13_Nuc_Wells-E1__Channel_SD_AF647,SD_RFP,SD_GFP,SD_DAPI,SD_BF,SD_NIR\n",
      "\n",
      "Detecting infection load...\n",
      "Total cells: 1598\n",
      "Percentage infected:21.21\n",
      "Extracting per marker intensity information...\n",
      "Detecting spots in puncta markers...\n"
     ]
    },
    {
     "name": "stderr",
     "output_type": "stream",
     "text": []
    },
    {
     "name": "stdout",
     "output_type": "stream",
     "text": [
      "\n",
      "Image analyzed: Plate13_Nuc_Wells-E2__Channel_SD_AF647,SD_RFP,SD_GFP,SD_DAPI,SD_BF,SD_NIR\n",
      "\n",
      "Detecting infection load...\n",
      "Total cells: 1983\n",
      "Percentage infected:21.33\n",
      "Extracting per marker intensity information...\n",
      "Detecting spots in puncta markers...\n"
     ]
    },
    {
     "name": "stderr",
     "output_type": "stream",
     "text": []
    },
    {
     "name": "stdout",
     "output_type": "stream",
     "text": [
      "\n",
      "Image analyzed: Plate13_Nuc_Wells-E3__Channel_SD_AF647,SD_RFP,SD_GFP,SD_DAPI,SD_BF,SD_NIR\n",
      "\n",
      "Detecting infection load...\n",
      "Total cells: 1507\n",
      "Percentage infected:23.62\n",
      "Extracting per marker intensity information...\n",
      "Detecting spots in puncta markers...\n"
     ]
    },
    {
     "name": "stderr",
     "output_type": "stream",
     "text": []
    },
    {
     "name": "stdout",
     "output_type": "stream",
     "text": [
      "\n",
      "Image analyzed: Plate13_Nuc_Wells-E4__Channel_SD_AF647,SD_RFP,SD_GFP,SD_DAPI,SD_BF,SD_NIR\n",
      "\n",
      "Detecting infection load...\n",
      "Total cells: 1865\n",
      "Percentage infected:27.24\n",
      "Extracting per marker intensity information...\n",
      "Detecting spots in puncta markers...\n"
     ]
    },
    {
     "name": "stderr",
     "output_type": "stream",
     "text": []
    },
    {
     "name": "stdout",
     "output_type": "stream",
     "text": [
      "\n",
      "Image analyzed: Plate13_Nuc_Wells-E5__Channel_SD_AF647,SD_RFP,SD_GFP,SD_DAPI,SD_BF,SD_NIR\n",
      "\n",
      "Detecting infection load...\n",
      "Total cells: 1684\n",
      "Percentage infected:28.56\n",
      "Extracting per marker intensity information...\n",
      "Detecting spots in puncta markers...\n"
     ]
    },
    {
     "name": "stderr",
     "output_type": "stream",
     "text": []
    },
    {
     "name": "stdout",
     "output_type": "stream",
     "text": [
      "\n",
      "Image analyzed: Plate13_Nuc_Wells-E6__Channel_SD_AF647,SD_RFP,SD_GFP,SD_DAPI,SD_BF,SD_NIR\n",
      "\n",
      "Detecting infection load...\n",
      "Total cells: 1513\n",
      "Percentage infected:30.27\n",
      "Extracting per marker intensity information...\n",
      "Detecting spots in puncta markers...\n"
     ]
    },
    {
     "name": "stderr",
     "output_type": "stream",
     "text": []
    },
    {
     "name": "stdout",
     "output_type": "stream",
     "text": [
      "\n",
      "Image analyzed: Plate13_Nuc_Wells-E7__Channel_SD_AF647,SD_RFP,SD_GFP,SD_DAPI,SD_BF,SD_NIR\n",
      "\n",
      "Detecting infection load...\n",
      "Total cells: 1300\n",
      "Percentage infected:25.08\n",
      "Extracting per marker intensity information...\n",
      "Detecting spots in puncta markers...\n"
     ]
    },
    {
     "name": "stderr",
     "output_type": "stream",
     "text": []
    },
    {
     "name": "stdout",
     "output_type": "stream",
     "text": [
      "\n",
      "Image analyzed: Plate13_Nuc_Wells-E8__Channel_SD_AF647,SD_RFP,SD_GFP,SD_DAPI,SD_BF,SD_NIR\n",
      "\n",
      "Detecting infection load...\n",
      "Total cells: 1696\n",
      "Percentage infected:32.72\n",
      "Extracting per marker intensity information...\n",
      "Detecting spots in puncta markers...\n"
     ]
    },
    {
     "name": "stderr",
     "output_type": "stream",
     "text": []
    },
    {
     "name": "stdout",
     "output_type": "stream",
     "text": [
      "\n",
      "Image analyzed: Plate13_Nuc_Wells-E9__Channel_SD_AF647,SD_RFP,SD_GFP,SD_DAPI,SD_BF,SD_NIR\n",
      "\n",
      "Detecting infection load...\n",
      "Total cells: 1294\n",
      "Percentage infected:25.04\n",
      "Extracting per marker intensity information...\n",
      "Detecting spots in puncta markers...\n"
     ]
    },
    {
     "name": "stderr",
     "output_type": "stream",
     "text": []
    },
    {
     "name": "stdout",
     "output_type": "stream",
     "text": [
      "\n",
      "Image analyzed: Plate13_Nuc_Wells-E10__Channel_SD_AF647,SD_RFP,SD_GFP,SD_DAPI,SD_BF,SD_NIR\n",
      "\n",
      "Detecting infection load...\n",
      "Total cells: 1697\n",
      "Percentage infected:23.98\n",
      "Extracting per marker intensity information...\n",
      "Detecting spots in puncta markers...\n"
     ]
    },
    {
     "name": "stderr",
     "output_type": "stream",
     "text": []
    },
    {
     "name": "stdout",
     "output_type": "stream",
     "text": [
      "\n",
      "Image analyzed: Plate13_Nuc_Wells-E11__Channel_SD_AF647,SD_RFP,SD_GFP,SD_DAPI,SD_BF,SD_NIR\n",
      "\n",
      "Detecting infection load...\n",
      "Total cells: 1117\n",
      "Percentage infected:28.56\n",
      "Extracting per marker intensity information...\n",
      "Detecting spots in puncta markers...\n"
     ]
    },
    {
     "name": "stderr",
     "output_type": "stream",
     "text": []
    },
    {
     "name": "stdout",
     "output_type": "stream",
     "text": [
      "\n",
      "Image analyzed: Plate13_Nuc_Wells-E12__Channel_SD_AF647,SD_RFP,SD_GFP,SD_DAPI,SD_BF,SD_NIR\n",
      "\n",
      "Detecting infection load...\n",
      "Total cells: 1210\n",
      "Percentage infected:21.82\n",
      "Extracting per marker intensity information...\n",
      "Detecting spots in puncta markers...\n"
     ]
    },
    {
     "name": "stderr",
     "output_type": "stream",
     "text": []
    },
    {
     "name": "stdout",
     "output_type": "stream",
     "text": [
      "\n",
      "Image analyzed: Plate13_Nuc_Wells-F1__Channel_SD_AF647,SD_RFP,SD_GFP,SD_DAPI,SD_BF,SD_NIR\n",
      "\n",
      "Detecting infection load...\n",
      "Total cells: 1997\n",
      "Percentage infected:18.23\n",
      "Extracting per marker intensity information...\n",
      "Detecting spots in puncta markers...\n"
     ]
    },
    {
     "name": "stderr",
     "output_type": "stream",
     "text": []
    },
    {
     "name": "stdout",
     "output_type": "stream",
     "text": [
      "\n",
      "Image analyzed: Plate13_Nuc_Wells-F2__Channel_SD_AF647,SD_RFP,SD_GFP,SD_DAPI,SD_BF,SD_NIR\n",
      "\n",
      "Detecting infection load...\n",
      "Total cells: 1449\n",
      "Percentage infected:27.12\n",
      "Extracting per marker intensity information...\n",
      "Detecting spots in puncta markers...\n"
     ]
    },
    {
     "name": "stderr",
     "output_type": "stream",
     "text": []
    },
    {
     "name": "stdout",
     "output_type": "stream",
     "text": [
      "\n",
      "Image analyzed: Plate13_Nuc_Wells-F3__Channel_SD_AF647,SD_RFP,SD_GFP,SD_DAPI,SD_BF,SD_NIR\n",
      "\n",
      "Detecting infection load...\n",
      "Total cells: 1403\n",
      "Percentage infected:26.09\n",
      "Extracting per marker intensity information...\n",
      "Detecting spots in puncta markers...\n"
     ]
    },
    {
     "name": "stderr",
     "output_type": "stream",
     "text": []
    },
    {
     "name": "stdout",
     "output_type": "stream",
     "text": [
      "\n",
      "Image analyzed: Plate13_Nuc_Wells-F4__Channel_SD_AF647,SD_RFP,SD_GFP,SD_DAPI,SD_BF,SD_NIR\n",
      "\n",
      "Detecting infection load...\n",
      "Total cells: 1621\n",
      "Percentage infected:22.27\n",
      "Extracting per marker intensity information...\n",
      "Detecting spots in puncta markers...\n"
     ]
    },
    {
     "name": "stderr",
     "output_type": "stream",
     "text": []
    },
    {
     "name": "stdout",
     "output_type": "stream",
     "text": [
      "\n",
      "Image analyzed: Plate13_Nuc_Wells-F5__Channel_SD_AF647,SD_RFP,SD_GFP,SD_DAPI,SD_BF,SD_NIR\n",
      "\n",
      "Detecting infection load...\n",
      "Total cells: 1519\n",
      "Percentage infected:27.85\n",
      "Extracting per marker intensity information...\n",
      "Detecting spots in puncta markers...\n"
     ]
    },
    {
     "name": "stderr",
     "output_type": "stream",
     "text": []
    },
    {
     "name": "stdout",
     "output_type": "stream",
     "text": [
      "\n",
      "Image analyzed: Plate13_Nuc_Wells-F6__Channel_SD_AF647,SD_RFP,SD_GFP,SD_DAPI,SD_BF,SD_NIR\n",
      "\n",
      "Detecting infection load...\n",
      "Total cells: 1454\n",
      "Percentage infected:32.19\n",
      "Extracting per marker intensity information...\n",
      "Detecting spots in puncta markers...\n"
     ]
    },
    {
     "name": "stderr",
     "output_type": "stream",
     "text": []
    },
    {
     "name": "stdout",
     "output_type": "stream",
     "text": [
      "\n",
      "Image analyzed: Plate13_Nuc_Wells-F7__Channel_SD_AF647,SD_RFP,SD_GFP,SD_DAPI,SD_BF,SD_NIR\n",
      "\n",
      "Detecting infection load...\n",
      "Total cells: 1529\n",
      "Percentage infected:29.23\n",
      "Extracting per marker intensity information...\n",
      "Detecting spots in puncta markers...\n"
     ]
    },
    {
     "name": "stderr",
     "output_type": "stream",
     "text": []
    },
    {
     "name": "stdout",
     "output_type": "stream",
     "text": [
      "\n",
      "Image analyzed: Plate13_Nuc_Wells-F8__Channel_SD_AF647,SD_RFP,SD_GFP,SD_DAPI,SD_BF,SD_NIR\n",
      "\n",
      "Detecting infection load...\n",
      "Total cells: 1731\n",
      "Percentage infected:27.44\n",
      "Extracting per marker intensity information...\n",
      "Detecting spots in puncta markers...\n"
     ]
    },
    {
     "name": "stderr",
     "output_type": "stream",
     "text": []
    },
    {
     "name": "stdout",
     "output_type": "stream",
     "text": [
      "\n",
      "Image analyzed: Plate13_Nuc_Wells-F9__Channel_SD_AF647,SD_RFP,SD_GFP,SD_DAPI,SD_BF,SD_NIR\n",
      "\n",
      "Detecting infection load...\n",
      "Total cells: 1153\n",
      "Percentage infected:26.37\n",
      "Extracting per marker intensity information...\n",
      "Detecting spots in puncta markers...\n"
     ]
    },
    {
     "name": "stderr",
     "output_type": "stream",
     "text": []
    },
    {
     "name": "stdout",
     "output_type": "stream",
     "text": [
      "\n",
      "Image analyzed: Plate13_Nuc_Wells-F10__Channel_SD_AF647,SD_RFP,SD_GFP,SD_DAPI,SD_BF,SD_NIR\n",
      "\n",
      "Detecting infection load...\n",
      "Total cells: 1348\n",
      "Percentage infected:27.08\n",
      "Extracting per marker intensity information...\n",
      "Detecting spots in puncta markers...\n"
     ]
    },
    {
     "name": "stderr",
     "output_type": "stream",
     "text": [
      "100%|██████████| 96/96 [47:12<00:00, 29.51s/it]\n",
      " 76%|███████▋  | 13/17 [10:22:34<3:09:56, 2849.24s/it]"
     ]
    },
    {
     "name": "stdout",
     "output_type": "stream",
     "text": [
      "Analyzing Plate: Plate 17_Nuc\n"
     ]
    },
    {
     "name": "stderr",
     "output_type": "stream",
     "text": []
    },
    {
     "name": "stdout",
     "output_type": "stream",
     "text": [
      "\n",
      "Image analyzed: Plate17_Nuc_Wells-B10__Channel_SD_AF647,SD_RFP,SD_GFP,SD_DAPI,SD_BF,SD_NIR\n",
      "\n",
      "Detecting infection load...\n",
      "Total cells: 3244\n",
      "Percentage infected:26.94\n",
      "Extracting per marker intensity information...\n",
      "Detecting spots in puncta markers...\n"
     ]
    },
    {
     "name": "stderr",
     "output_type": "stream",
     "text": []
    },
    {
     "name": "stdout",
     "output_type": "stream",
     "text": [
      "\n",
      "Image analyzed: Plate17_Nuc_Wells-B11__Channel_SD_AF647,SD_RFP,SD_GFP,SD_DAPI,SD_BF,SD_NIR\n",
      "\n",
      "Detecting infection load...\n",
      "Total cells: 2833\n",
      "Percentage infected:27.96\n",
      "Extracting per marker intensity information...\n",
      "Detecting spots in puncta markers...\n"
     ]
    },
    {
     "name": "stderr",
     "output_type": "stream",
     "text": []
    },
    {
     "name": "stdout",
     "output_type": "stream",
     "text": [
      "\n",
      "Image analyzed: Plate17_Nuc_Wells-B12__Channel_SD_AF647,SD_RFP,SD_GFP,SD_DAPI,SD_BF,SD_NIR\n",
      "\n",
      "Detecting infection load...\n",
      "Total cells: 1698\n",
      "Percentage infected:23.62\n",
      "Extracting per marker intensity information...\n",
      "Detecting spots in puncta markers...\n"
     ]
    },
    {
     "name": "stderr",
     "output_type": "stream",
     "text": []
    },
    {
     "name": "stdout",
     "output_type": "stream",
     "text": [
      "\n",
      "Image analyzed: Plate17_Nuc_Wells-C1__Channel_SD_AF647,SD_RFP,SD_GFP,SD_DAPI,SD_BF,SD_NIR\n",
      "\n",
      "Detecting infection load...\n",
      "Total cells: 1659\n",
      "Percentage infected:29.54\n",
      "Extracting per marker intensity information...\n",
      "Detecting spots in puncta markers...\n"
     ]
    },
    {
     "name": "stderr",
     "output_type": "stream",
     "text": []
    },
    {
     "name": "stdout",
     "output_type": "stream",
     "text": [
      "\n",
      "Image analyzed: Plate17_Nuc_Wells-C2__Channel_SD_AF647,SD_RFP,SD_GFP,SD_DAPI,SD_BF,SD_NIR\n",
      "\n",
      "Detecting infection load...\n",
      "Total cells: 2105\n",
      "Percentage infected:29.55\n",
      "Extracting per marker intensity information...\n",
      "Detecting spots in puncta markers...\n"
     ]
    },
    {
     "name": "stderr",
     "output_type": "stream",
     "text": []
    },
    {
     "name": "stdout",
     "output_type": "stream",
     "text": [
      "\n",
      "Image analyzed: Plate17_Nuc_Wells-C3__Channel_SD_AF647,SD_RFP,SD_GFP,SD_DAPI,SD_BF,SD_NIR\n",
      "\n",
      "Detecting infection load...\n",
      "Total cells: 1927\n",
      "Percentage infected:30.57\n",
      "Extracting per marker intensity information...\n",
      "Detecting spots in puncta markers...\n"
     ]
    },
    {
     "name": "stderr",
     "output_type": "stream",
     "text": []
    },
    {
     "name": "stdout",
     "output_type": "stream",
     "text": [
      "\n",
      "Image analyzed: Plate17_Nuc_Wells-C4__Channel_SD_AF647,SD_RFP,SD_GFP,SD_DAPI,SD_BF,SD_NIR\n",
      "\n",
      "Detecting infection load...\n",
      "Total cells: 2054\n",
      "Percentage infected:25.07\n",
      "Extracting per marker intensity information...\n",
      "Detecting spots in puncta markers...\n"
     ]
    },
    {
     "name": "stderr",
     "output_type": "stream",
     "text": []
    },
    {
     "name": "stdout",
     "output_type": "stream",
     "text": [
      "\n",
      "Image analyzed: Plate17_Nuc_Wells-C5__Channel_SD_AF647,SD_RFP,SD_GFP,SD_DAPI,SD_BF,SD_NIR\n",
      "\n",
      "Detecting infection load...\n",
      "Total cells: 1973\n",
      "Percentage infected:23.06\n",
      "Extracting per marker intensity information...\n",
      "Detecting spots in puncta markers...\n"
     ]
    },
    {
     "name": "stderr",
     "output_type": "stream",
     "text": []
    },
    {
     "name": "stdout",
     "output_type": "stream",
     "text": [
      "\n",
      "Image analyzed: Plate17_Nuc_Wells-C6__Channel_SD_AF647,SD_RFP,SD_GFP,SD_DAPI,SD_BF,SD_NIR\n",
      "\n",
      "Detecting infection load...\n",
      "Total cells: 2034\n",
      "Percentage infected:28.86\n",
      "Extracting per marker intensity information...\n",
      "Detecting spots in puncta markers...\n"
     ]
    },
    {
     "name": "stderr",
     "output_type": "stream",
     "text": []
    },
    {
     "name": "stdout",
     "output_type": "stream",
     "text": [
      "\n",
      "Image analyzed: Plate17_Nuc_Wells-C7__Channel_SD_AF647,SD_RFP,SD_GFP,SD_DAPI,SD_BF,SD_NIR\n",
      "\n",
      "Detecting infection load...\n",
      "Total cells: 1664\n",
      "Percentage infected:27.28\n",
      "Extracting per marker intensity information...\n",
      "Detecting spots in puncta markers...\n"
     ]
    },
    {
     "name": "stderr",
     "output_type": "stream",
     "text": []
    },
    {
     "name": "stdout",
     "output_type": "stream",
     "text": [
      "\n",
      "Image analyzed: Plate17_Nuc_Wells-C8__Channel_SD_AF647,SD_RFP,SD_GFP,SD_DAPI,SD_BF,SD_NIR\n",
      "\n",
      "Detecting infection load...\n",
      "Total cells: 1829\n",
      "Percentage infected:27.77\n",
      "Extracting per marker intensity information...\n",
      "Detecting spots in puncta markers...\n"
     ]
    },
    {
     "name": "stderr",
     "output_type": "stream",
     "text": []
    },
    {
     "name": "stdout",
     "output_type": "stream",
     "text": [
      "\n",
      "Image analyzed: Plate17_Nuc_Wells-C9__Channel_SD_AF647,SD_RFP,SD_GFP,SD_DAPI,SD_BF,SD_NIR\n",
      "\n",
      "Detecting infection load...\n",
      "Total cells: 1861\n",
      "Percentage infected:21.66\n",
      "Extracting per marker intensity information...\n",
      "Detecting spots in puncta markers...\n"
     ]
    },
    {
     "name": "stderr",
     "output_type": "stream",
     "text": []
    },
    {
     "name": "stdout",
     "output_type": "stream",
     "text": [
      "\n",
      "Image analyzed: Plate17_Nuc_Wells-C10__Channel_SD_AF647,SD_RFP,SD_GFP,SD_DAPI,SD_BF,SD_NIR\n",
      "\n",
      "Detecting infection load...\n",
      "Total cells: 1914\n",
      "Percentage infected:20.43\n",
      "Extracting per marker intensity information...\n",
      "Detecting spots in puncta markers...\n"
     ]
    },
    {
     "name": "stderr",
     "output_type": "stream",
     "text": []
    },
    {
     "name": "stdout",
     "output_type": "stream",
     "text": [
      "\n",
      "Image analyzed: Plate17_Nuc_Wells-C11__Channel_SD_AF647,SD_RFP,SD_GFP,SD_DAPI,SD_BF,SD_NIR\n",
      "\n",
      "Detecting infection load...\n",
      "Total cells: 1912\n",
      "Percentage infected:22.91\n",
      "Extracting per marker intensity information...\n",
      "Detecting spots in puncta markers...\n"
     ]
    },
    {
     "name": "stderr",
     "output_type": "stream",
     "text": []
    },
    {
     "name": "stdout",
     "output_type": "stream",
     "text": [
      "\n",
      "Image analyzed: Plate17_Nuc_Wells-C12__Channel_SD_AF647,SD_RFP,SD_GFP,SD_DAPI,SD_BF,SD_NIR\n",
      "\n",
      "Detecting infection load...\n",
      "Total cells: 1508\n",
      "Percentage infected:23.21\n",
      "Extracting per marker intensity information...\n",
      "Detecting spots in puncta markers...\n"
     ]
    },
    {
     "name": "stderr",
     "output_type": "stream",
     "text": []
    },
    {
     "name": "stdout",
     "output_type": "stream",
     "text": [
      "\n",
      "Image analyzed: Plate17_Nuc_Wells-D1__Channel_SD_AF647,SD_RFP,SD_GFP,SD_DAPI,SD_BF,SD_NIR\n",
      "\n",
      "Detecting infection load...\n",
      "Total cells: 1468\n",
      "Percentage infected:24.39\n",
      "Extracting per marker intensity information...\n",
      "Detecting spots in puncta markers...\n"
     ]
    },
    {
     "name": "stderr",
     "output_type": "stream",
     "text": []
    },
    {
     "name": "stdout",
     "output_type": "stream",
     "text": [
      "\n",
      "Image analyzed: Plate17_Nuc_Wells-D2__Channel_SD_AF647,SD_RFP,SD_GFP,SD_DAPI,SD_BF,SD_NIR\n",
      "\n",
      "Detecting infection load...\n",
      "Total cells: 1876\n",
      "Percentage infected:20.9\n",
      "Extracting per marker intensity information...\n",
      "Detecting spots in puncta markers...\n"
     ]
    },
    {
     "name": "stderr",
     "output_type": "stream",
     "text": []
    },
    {
     "name": "stdout",
     "output_type": "stream",
     "text": [
      "\n",
      "Image analyzed: Plate17_Nuc_Wells-D3__Channel_SD_AF647,SD_RFP,SD_GFP,SD_DAPI,SD_BF,SD_NIR\n",
      "\n",
      "Detecting infection load...\n",
      "Total cells: 1340\n",
      "Percentage infected:27.46\n",
      "Extracting per marker intensity information...\n",
      "Detecting spots in puncta markers...\n"
     ]
    },
    {
     "name": "stderr",
     "output_type": "stream",
     "text": []
    },
    {
     "name": "stdout",
     "output_type": "stream",
     "text": [
      "\n",
      "Image analyzed: Plate17_Nuc_Wells-D4__Channel_SD_AF647,SD_RFP,SD_GFP,SD_DAPI,SD_BF,SD_NIR\n",
      "\n",
      "Detecting infection load...\n",
      "Total cells: 1944\n",
      "Percentage infected:23.05\n",
      "Extracting per marker intensity information...\n",
      "Detecting spots in puncta markers...\n"
     ]
    },
    {
     "name": "stderr",
     "output_type": "stream",
     "text": []
    },
    {
     "name": "stdout",
     "output_type": "stream",
     "text": [
      "\n",
      "Image analyzed: Plate17_Nuc_Wells-D5__Channel_SD_AF647,SD_RFP,SD_GFP,SD_DAPI,SD_BF,SD_NIR\n",
      "\n",
      "Detecting infection load...\n",
      "Total cells: 2130\n",
      "Percentage infected:22.39\n",
      "Extracting per marker intensity information...\n",
      "Detecting spots in puncta markers...\n"
     ]
    },
    {
     "name": "stderr",
     "output_type": "stream",
     "text": []
    },
    {
     "name": "stdout",
     "output_type": "stream",
     "text": [
      "\n",
      "Image analyzed: Plate17_Nuc_Wells-D6__Channel_SD_AF647,SD_RFP,SD_GFP,SD_DAPI,SD_BF,SD_NIR\n",
      "\n",
      "Detecting infection load...\n",
      "Total cells: 1561\n",
      "Percentage infected:27.16\n",
      "Extracting per marker intensity information...\n",
      "Detecting spots in puncta markers...\n"
     ]
    },
    {
     "name": "stderr",
     "output_type": "stream",
     "text": []
    },
    {
     "name": "stdout",
     "output_type": "stream",
     "text": [
      "\n",
      "Image analyzed: Plate17_Nuc_Wells-D7__Channel_SD_AF647,SD_RFP,SD_GFP,SD_DAPI,SD_BF,SD_NIR\n",
      "\n",
      "Detecting infection load...\n",
      "Total cells: 1900\n",
      "Percentage infected:22.32\n",
      "Extracting per marker intensity information...\n",
      "Detecting spots in puncta markers...\n"
     ]
    },
    {
     "name": "stderr",
     "output_type": "stream",
     "text": []
    },
    {
     "name": "stdout",
     "output_type": "stream",
     "text": [
      "\n",
      "Image analyzed: Plate17_Nuc_Wells-D8__Channel_SD_AF647,SD_RFP,SD_GFP,SD_DAPI,SD_BF,SD_NIR\n",
      "\n",
      "Detecting infection load...\n",
      "Total cells: 1933\n",
      "Percentage infected:24.94\n",
      "Extracting per marker intensity information...\n",
      "Detecting spots in puncta markers...\n"
     ]
    },
    {
     "name": "stderr",
     "output_type": "stream",
     "text": []
    },
    {
     "name": "stdout",
     "output_type": "stream",
     "text": [
      "\n",
      "Image analyzed: Plate17_Nuc_Wells-D9__Channel_SD_AF647,SD_RFP,SD_GFP,SD_DAPI,SD_BF,SD_NIR\n",
      "\n",
      "Detecting infection load...\n",
      "Total cells: 1860\n",
      "Percentage infected:27.37\n",
      "Extracting per marker intensity information...\n",
      "Detecting spots in puncta markers...\n"
     ]
    },
    {
     "name": "stderr",
     "output_type": "stream",
     "text": []
    },
    {
     "name": "stdout",
     "output_type": "stream",
     "text": [
      "\n",
      "Image analyzed: Plate17_Nuc_Wells-D10__Channel_SD_AF647,SD_RFP,SD_GFP,SD_DAPI,SD_BF,SD_NIR\n",
      "\n",
      "Detecting infection load...\n",
      "Total cells: 1792\n",
      "Percentage infected:21.26\n",
      "Extracting per marker intensity information...\n",
      "Detecting spots in puncta markers...\n"
     ]
    },
    {
     "name": "stderr",
     "output_type": "stream",
     "text": []
    },
    {
     "name": "stdout",
     "output_type": "stream",
     "text": [
      "\n",
      "Image analyzed: Plate17_Nuc_Wells-D11__Channel_SD_AF647,SD_RFP,SD_GFP,SD_DAPI,SD_BF,SD_NIR\n",
      "\n",
      "Detecting infection load...\n",
      "Total cells: 2047\n",
      "Percentage infected:25.6\n",
      "Extracting per marker intensity information...\n",
      "Detecting spots in puncta markers...\n"
     ]
    },
    {
     "name": "stderr",
     "output_type": "stream",
     "text": []
    },
    {
     "name": "stdout",
     "output_type": "stream",
     "text": [
      "\n",
      "Image analyzed: Plate17_Nuc_Wells-D12__Channel_SD_AF647,SD_RFP,SD_GFP,SD_DAPI,SD_BF,SD_NIR\n",
      "\n",
      "Detecting infection load...\n",
      "Total cells: 1679\n",
      "Percentage infected:24.9\n",
      "Extracting per marker intensity information...\n",
      "Detecting spots in puncta markers...\n"
     ]
    },
    {
     "name": "stderr",
     "output_type": "stream",
     "text": []
    },
    {
     "name": "stdout",
     "output_type": "stream",
     "text": [
      "\n",
      "Image analyzed: Plate17_Nuc_Wells-E1__Channel_SD_AF647,SD_RFP,SD_GFP,SD_DAPI,SD_BF,SD_NIR\n",
      "\n",
      "Detecting infection load...\n",
      "Total cells: 1885\n",
      "Percentage infected:29.81\n",
      "Extracting per marker intensity information...\n",
      "Detecting spots in puncta markers...\n"
     ]
    },
    {
     "name": "stderr",
     "output_type": "stream",
     "text": []
    },
    {
     "name": "stdout",
     "output_type": "stream",
     "text": [
      "\n",
      "Image analyzed: Plate17_Nuc_Wells-E2__Channel_SD_AF647,SD_RFP,SD_GFP,SD_DAPI,SD_BF,SD_NIR\n",
      "\n",
      "Detecting infection load...\n",
      "Total cells: 1981\n",
      "Percentage infected:23.12\n",
      "Extracting per marker intensity information...\n",
      "Detecting spots in puncta markers...\n"
     ]
    },
    {
     "name": "stderr",
     "output_type": "stream",
     "text": []
    },
    {
     "name": "stdout",
     "output_type": "stream",
     "text": [
      "\n",
      "Image analyzed: Plate17_Nuc_Wells-E3__Channel_SD_AF647,SD_RFP,SD_GFP,SD_DAPI,SD_BF,SD_NIR\n",
      "\n",
      "Detecting infection load...\n",
      "Total cells: 1729\n",
      "Percentage infected:30.83\n",
      "Extracting per marker intensity information...\n",
      "Detecting spots in puncta markers...\n"
     ]
    },
    {
     "name": "stderr",
     "output_type": "stream",
     "text": []
    },
    {
     "name": "stdout",
     "output_type": "stream",
     "text": [
      "\n",
      "Image analyzed: Plate17_Nuc_Wells-E4__Channel_SD_AF647,SD_RFP,SD_GFP,SD_DAPI,SD_BF,SD_NIR\n",
      "\n",
      "Detecting infection load...\n",
      "Total cells: 1679\n",
      "Percentage infected:24.96\n",
      "Extracting per marker intensity information...\n",
      "Detecting spots in puncta markers...\n"
     ]
    },
    {
     "name": "stderr",
     "output_type": "stream",
     "text": []
    },
    {
     "name": "stdout",
     "output_type": "stream",
     "text": [
      "\n",
      "Image analyzed: Plate17_Nuc_Wells-E5__Channel_SD_AF647,SD_RFP,SD_GFP,SD_DAPI,SD_BF,SD_NIR\n",
      "\n",
      "Detecting infection load...\n",
      "Total cells: 1688\n",
      "Percentage infected:30.04\n",
      "Extracting per marker intensity information...\n",
      "Detecting spots in puncta markers...\n"
     ]
    },
    {
     "name": "stderr",
     "output_type": "stream",
     "text": []
    },
    {
     "name": "stdout",
     "output_type": "stream",
     "text": [
      "\n",
      "Image analyzed: Plate17_Nuc_Wells-E6__Channel_SD_AF647,SD_RFP,SD_GFP,SD_DAPI,SD_BF,SD_NIR\n",
      "\n",
      "Detecting infection load...\n",
      "Total cells: 1822\n",
      "Percentage infected:30.41\n",
      "Extracting per marker intensity information...\n",
      "Detecting spots in puncta markers...\n"
     ]
    },
    {
     "name": "stderr",
     "output_type": "stream",
     "text": []
    },
    {
     "name": "stdout",
     "output_type": "stream",
     "text": [
      "\n",
      "Image analyzed: Plate17_Nuc_Wells-E7__Channel_SD_AF647,SD_RFP,SD_GFP,SD_DAPI,SD_BF,SD_NIR\n",
      "\n",
      "Detecting infection load...\n",
      "Total cells: 1858\n",
      "Percentage infected:28.26\n",
      "Extracting per marker intensity information...\n",
      "Detecting spots in puncta markers...\n"
     ]
    },
    {
     "name": "stderr",
     "output_type": "stream",
     "text": []
    },
    {
     "name": "stdout",
     "output_type": "stream",
     "text": [
      "\n",
      "Image analyzed: Plate17_Nuc_Wells-E8__Channel_SD_AF647,SD_RFP,SD_GFP,SD_DAPI,SD_BF,SD_NIR\n",
      "\n",
      "Detecting infection load...\n",
      "Total cells: 1684\n",
      "Percentage infected:22.98\n",
      "Extracting per marker intensity information...\n",
      "Detecting spots in puncta markers...\n"
     ]
    },
    {
     "name": "stderr",
     "output_type": "stream",
     "text": []
    },
    {
     "name": "stdout",
     "output_type": "stream",
     "text": [
      "\n",
      "Image analyzed: Plate17_Nuc_Wells-E9__Channel_SD_AF647,SD_RFP,SD_GFP,SD_DAPI,SD_BF,SD_NIR\n",
      "\n",
      "Detecting infection load...\n",
      "Total cells: 2003\n",
      "Percentage infected:25.26\n",
      "Extracting per marker intensity information...\n",
      "Detecting spots in puncta markers...\n"
     ]
    },
    {
     "name": "stderr",
     "output_type": "stream",
     "text": []
    },
    {
     "name": "stdout",
     "output_type": "stream",
     "text": [
      "\n",
      "Image analyzed: Plate17_Nuc_Wells-E10__Channel_SD_AF647,SD_RFP,SD_GFP,SD_DAPI,SD_BF,SD_NIR\n",
      "\n",
      "Detecting infection load...\n",
      "Total cells: 1875\n",
      "Percentage infected:19.31\n",
      "Extracting per marker intensity information...\n",
      "Detecting spots in puncta markers...\n"
     ]
    },
    {
     "name": "stderr",
     "output_type": "stream",
     "text": []
    },
    {
     "name": "stdout",
     "output_type": "stream",
     "text": [
      "\n",
      "Image analyzed: Plate17_Nuc_Wells-E11__Channel_SD_AF647,SD_RFP,SD_GFP,SD_DAPI,SD_BF,SD_NIR\n",
      "\n",
      "Detecting infection load...\n",
      "Total cells: 1960\n",
      "Percentage infected:22.14\n",
      "Extracting per marker intensity information...\n",
      "Detecting spots in puncta markers...\n"
     ]
    },
    {
     "name": "stderr",
     "output_type": "stream",
     "text": []
    },
    {
     "name": "stdout",
     "output_type": "stream",
     "text": [
      "\n",
      "Image analyzed: Plate17_Nuc_Wells-E12__Channel_SD_AF647,SD_RFP,SD_GFP,SD_DAPI,SD_BF,SD_NIR\n",
      "\n",
      "Detecting infection load...\n",
      "Total cells: 1955\n",
      "Percentage infected:22.1\n",
      "Extracting per marker intensity information...\n",
      "Detecting spots in puncta markers...\n"
     ]
    },
    {
     "name": "stderr",
     "output_type": "stream",
     "text": []
    },
    {
     "name": "stdout",
     "output_type": "stream",
     "text": [
      "\n",
      "Image analyzed: Plate17_Nuc_Wells-F1__Channel_SD_AF647,SD_RFP,SD_GFP,SD_DAPI,SD_BF,SD_NIR\n",
      "\n",
      "Detecting infection load...\n",
      "Total cells: 1944\n",
      "Percentage infected:24.28\n",
      "Extracting per marker intensity information...\n",
      "Detecting spots in puncta markers...\n"
     ]
    },
    {
     "name": "stderr",
     "output_type": "stream",
     "text": []
    },
    {
     "name": "stdout",
     "output_type": "stream",
     "text": [
      "\n",
      "Image analyzed: Plate17_Nuc_Wells-F2__Channel_SD_AF647,SD_RFP,SD_GFP,SD_DAPI,SD_BF,SD_NIR\n",
      "\n",
      "Detecting infection load...\n",
      "Total cells: 2211\n",
      "Percentage infected:30.21\n",
      "Extracting per marker intensity information...\n",
      "Detecting spots in puncta markers...\n"
     ]
    },
    {
     "name": "stderr",
     "output_type": "stream",
     "text": []
    },
    {
     "name": "stdout",
     "output_type": "stream",
     "text": [
      "\n",
      "Image analyzed: Plate17_Nuc_Wells-F3__Channel_SD_AF647,SD_RFP,SD_GFP,SD_DAPI,SD_BF,SD_NIR\n",
      "\n",
      "Detecting infection load...\n",
      "Total cells: 2234\n",
      "Percentage infected:26.77\n",
      "Extracting per marker intensity information...\n",
      "Detecting spots in puncta markers...\n"
     ]
    },
    {
     "name": "stderr",
     "output_type": "stream",
     "text": []
    },
    {
     "name": "stdout",
     "output_type": "stream",
     "text": [
      "\n",
      "Image analyzed: Plate17_Nuc_Wells-F4__Channel_SD_AF647,SD_RFP,SD_GFP,SD_DAPI,SD_BF,SD_NIR\n",
      "\n",
      "Detecting infection load...\n",
      "Total cells: 2071\n",
      "Percentage infected:28.49\n",
      "Extracting per marker intensity information...\n",
      "Detecting spots in puncta markers...\n"
     ]
    },
    {
     "name": "stderr",
     "output_type": "stream",
     "text": []
    },
    {
     "name": "stdout",
     "output_type": "stream",
     "text": [
      "\n",
      "Image analyzed: Plate17_Nuc_Wells-F5__Channel_SD_AF647,SD_RFP,SD_GFP,SD_DAPI,SD_BF,SD_NIR\n",
      "\n",
      "Detecting infection load...\n",
      "Total cells: 2006\n",
      "Percentage infected:20.94\n",
      "Extracting per marker intensity information...\n",
      "Detecting spots in puncta markers...\n"
     ]
    },
    {
     "name": "stderr",
     "output_type": "stream",
     "text": []
    },
    {
     "name": "stdout",
     "output_type": "stream",
     "text": [
      "\n",
      "Image analyzed: Plate17_Nuc_Wells-F6__Channel_SD_AF647,SD_RFP,SD_GFP,SD_DAPI,SD_BF,SD_NIR\n",
      "\n",
      "Detecting infection load...\n",
      "Total cells: 2130\n",
      "Percentage infected:32.3\n",
      "Extracting per marker intensity information...\n",
      "Detecting spots in puncta markers...\n"
     ]
    },
    {
     "name": "stderr",
     "output_type": "stream",
     "text": []
    },
    {
     "name": "stdout",
     "output_type": "stream",
     "text": [
      "\n",
      "Image analyzed: Plate17_Nuc_Wells-F7__Channel_SD_AF647,SD_RFP,SD_GFP,SD_DAPI,SD_BF,SD_NIR\n",
      "\n",
      "Detecting infection load...\n",
      "Total cells: 2085\n",
      "Percentage infected:26.95\n",
      "Extracting per marker intensity information...\n",
      "Detecting spots in puncta markers...\n"
     ]
    },
    {
     "name": "stderr",
     "output_type": "stream",
     "text": []
    },
    {
     "name": "stdout",
     "output_type": "stream",
     "text": [
      "\n",
      "Image analyzed: Plate17_Nuc_Wells-F8__Channel_SD_AF647,SD_RFP,SD_GFP,SD_DAPI,SD_BF,SD_NIR\n",
      "\n",
      "Detecting infection load...\n",
      "Total cells: 2026\n",
      "Percentage infected:22.7\n",
      "Extracting per marker intensity information...\n",
      "Detecting spots in puncta markers...\n"
     ]
    },
    {
     "name": "stderr",
     "output_type": "stream",
     "text": []
    },
    {
     "name": "stdout",
     "output_type": "stream",
     "text": [
      "\n",
      "Image analyzed: Plate17_Nuc_Wells-F9__Channel_SD_AF647,SD_RFP,SD_GFP,SD_DAPI,SD_BF,SD_NIR\n",
      "\n",
      "Detecting infection load...\n",
      "Total cells: 2342\n",
      "Percentage infected:24.04\n",
      "Extracting per marker intensity information...\n",
      "Detecting spots in puncta markers...\n"
     ]
    },
    {
     "name": "stderr",
     "output_type": "stream",
     "text": []
    },
    {
     "name": "stdout",
     "output_type": "stream",
     "text": [
      "\n",
      "Image analyzed: Plate17_Nuc_Wells-F10__Channel_SD_AF647,SD_RFP,SD_GFP,SD_DAPI,SD_BF,SD_NIR\n",
      "\n",
      "Detecting infection load...\n",
      "Total cells: 2147\n",
      "Percentage infected:23.66\n",
      "Extracting per marker intensity information...\n",
      "Detecting spots in puncta markers...\n"
     ]
    },
    {
     "name": "stderr",
     "output_type": "stream",
     "text": []
    },
    {
     "name": "stdout",
     "output_type": "stream",
     "text": [
      "\n",
      "Image analyzed: Plate17_Nuc_Wells-F11__Channel_SD_AF647,SD_RFP,SD_GFP,SD_DAPI,SD_BF,SD_NIR\n",
      "\n",
      "Detecting infection load...\n",
      "Total cells: 2192\n",
      "Percentage infected:22.9\n",
      "Extracting per marker intensity information...\n",
      "Detecting spots in puncta markers...\n"
     ]
    },
    {
     "name": "stderr",
     "output_type": "stream",
     "text": []
    },
    {
     "name": "stdout",
     "output_type": "stream",
     "text": [
      "\n",
      "Image analyzed: Plate17_Nuc_Wells-F12__Channel_SD_AF647,SD_RFP,SD_GFP,SD_DAPI,SD_BF,SD_NIR\n",
      "\n",
      "Detecting infection load...\n",
      "Total cells: 2034\n",
      "Percentage infected:23.55\n",
      "Extracting per marker intensity information...\n",
      "Detecting spots in puncta markers...\n"
     ]
    },
    {
     "name": "stderr",
     "output_type": "stream",
     "text": []
    },
    {
     "name": "stdout",
     "output_type": "stream",
     "text": [
      "\n",
      "Image analyzed: Plate17_Nuc_Wells-G1__Channel_SD_AF647,SD_RFP,SD_GFP,SD_DAPI,SD_BF,SD_NIR\n",
      "\n",
      "Detecting infection load...\n",
      "Total cells: 1921\n",
      "Percentage infected:23.01\n",
      "Extracting per marker intensity information...\n",
      "Detecting spots in puncta markers...\n"
     ]
    },
    {
     "name": "stderr",
     "output_type": "stream",
     "text": []
    },
    {
     "name": "stdout",
     "output_type": "stream",
     "text": [
      "\n",
      "Image analyzed: Plate17_Nuc_Wells-G2__Channel_SD_AF647,SD_RFP,SD_GFP,SD_DAPI,SD_BF,SD_NIR\n",
      "\n",
      "Detecting infection load...\n",
      "Total cells: 2132\n",
      "Percentage infected:27.06\n",
      "Extracting per marker intensity information...\n",
      "Detecting spots in puncta markers...\n"
     ]
    },
    {
     "name": "stderr",
     "output_type": "stream",
     "text": []
    },
    {
     "name": "stdout",
     "output_type": "stream",
     "text": [
      "\n",
      "Image analyzed: Plate17_Nuc_Wells-G3__Channel_SD_AF647,SD_RFP,SD_GFP,SD_DAPI,SD_BF,SD_NIR\n",
      "\n",
      "Detecting infection load...\n",
      "Total cells: 2732\n",
      "Percentage infected:23.32\n",
      "Extracting per marker intensity information...\n",
      "Detecting spots in puncta markers...\n"
     ]
    },
    {
     "name": "stderr",
     "output_type": "stream",
     "text": []
    },
    {
     "name": "stdout",
     "output_type": "stream",
     "text": [
      "\n",
      "Image analyzed: Plate17_Nuc_Wells-G4__Channel_SD_AF647,SD_RFP,SD_GFP,SD_DAPI,SD_BF,SD_NIR\n",
      "\n",
      "Detecting infection load...\n",
      "Total cells: 2267\n",
      "Percentage infected:23.42\n",
      "Extracting per marker intensity information...\n",
      "Detecting spots in puncta markers...\n"
     ]
    },
    {
     "name": "stderr",
     "output_type": "stream",
     "text": []
    },
    {
     "name": "stdout",
     "output_type": "stream",
     "text": [
      "\n",
      "Image analyzed: Plate17_Nuc_Wells-G5__Channel_SD_AF647,SD_RFP,SD_GFP,SD_DAPI,SD_BF,SD_NIR\n",
      "\n",
      "Detecting infection load...\n",
      "Total cells: 2570\n",
      "Percentage infected:24.51\n",
      "Extracting per marker intensity information...\n",
      "Detecting spots in puncta markers...\n"
     ]
    },
    {
     "name": "stderr",
     "output_type": "stream",
     "text": []
    },
    {
     "name": "stdout",
     "output_type": "stream",
     "text": [
      "\n",
      "Image analyzed: Plate17_Nuc_Wells-G6__Channel_SD_AF647,SD_RFP,SD_GFP,SD_DAPI,SD_BF,SD_NIR\n",
      "\n",
      "Detecting infection load...\n",
      "Total cells: 2274\n",
      "Percentage infected:27.04\n",
      "Extracting per marker intensity information...\n",
      "Detecting spots in puncta markers...\n"
     ]
    },
    {
     "name": "stderr",
     "output_type": "stream",
     "text": []
    },
    {
     "name": "stdout",
     "output_type": "stream",
     "text": [
      "\n",
      "Image analyzed: Plate17_Nuc_Wells-G7__Channel_SD_AF647,SD_RFP,SD_GFP,SD_DAPI,SD_BF,SD_NIR\n",
      "\n",
      "Detecting infection load...\n",
      "Total cells: 2570\n",
      "Percentage infected:27.2\n",
      "Extracting per marker intensity information...\n",
      "Detecting spots in puncta markers...\n"
     ]
    },
    {
     "name": "stderr",
     "output_type": "stream",
     "text": []
    },
    {
     "name": "stdout",
     "output_type": "stream",
     "text": [
      "\n",
      "Image analyzed: Plate17_Nuc_Wells-G8__Channel_SD_AF647,SD_RFP,SD_GFP,SD_DAPI,SD_BF,SD_NIR\n",
      "\n",
      "Detecting infection load...\n",
      "Total cells: 2388\n",
      "Percentage infected:24.92\n",
      "Extracting per marker intensity information...\n",
      "Detecting spots in puncta markers...\n"
     ]
    },
    {
     "name": "stderr",
     "output_type": "stream",
     "text": []
    },
    {
     "name": "stdout",
     "output_type": "stream",
     "text": [
      "\n",
      "Image analyzed: Plate17_Nuc_Wells-G9__Channel_SD_AF647,SD_RFP,SD_GFP,SD_DAPI,SD_BF,SD_NIR\n",
      "\n",
      "Detecting infection load...\n",
      "Total cells: 2507\n",
      "Percentage infected:22.38\n",
      "Extracting per marker intensity information...\n",
      "Detecting spots in puncta markers...\n"
     ]
    },
    {
     "name": "stderr",
     "output_type": "stream",
     "text": []
    },
    {
     "name": "stdout",
     "output_type": "stream",
     "text": [
      "\n",
      "Image analyzed: Plate17_Nuc_Wells-G10__Channel_SD_AF647,SD_RFP,SD_GFP,SD_DAPI,SD_BF,SD_NIR\n",
      "\n",
      "Detecting infection load...\n",
      "Total cells: 2376\n",
      "Percentage infected:28.66\n",
      "Extracting per marker intensity information...\n",
      "Detecting spots in puncta markers...\n"
     ]
    },
    {
     "name": "stderr",
     "output_type": "stream",
     "text": []
    },
    {
     "name": "stdout",
     "output_type": "stream",
     "text": [
      "\n",
      "Image analyzed: Plate17_Nuc_Wells-G11__Channel_SD_AF647,SD_RFP,SD_GFP,SD_DAPI,SD_BF,SD_NIR\n",
      "\n",
      "Detecting infection load...\n",
      "Total cells: 2401\n",
      "Percentage infected:21.53\n",
      "Extracting per marker intensity information...\n",
      "Detecting spots in puncta markers...\n"
     ]
    },
    {
     "name": "stderr",
     "output_type": "stream",
     "text": []
    },
    {
     "name": "stdout",
     "output_type": "stream",
     "text": [
      "\n",
      "Image analyzed: Plate17_Nuc_Wells-G12__Channel_SD_AF647,SD_RFP,SD_GFP,SD_DAPI,SD_BF,SD_NIR\n",
      "\n",
      "Detecting infection load...\n",
      "Total cells: 1714\n",
      "Percentage infected:26.66\n",
      "Extracting per marker intensity information...\n",
      "Detecting spots in puncta markers...\n"
     ]
    },
    {
     "name": "stderr",
     "output_type": "stream",
     "text": []
    },
    {
     "name": "stdout",
     "output_type": "stream",
     "text": [
      "\n",
      "Image analyzed: Plate17_Nuc_Wells-H1__Channel_SD_AF647,SD_RFP,SD_GFP,SD_DAPI,SD_BF,SD_NIR\n",
      "\n",
      "Detecting infection load...\n",
      "Total cells: 2387\n",
      "Percentage infected:0.13\n",
      "Extracting per marker intensity information...\n",
      "Detecting spots in puncta markers...\n"
     ]
    },
    {
     "name": "stderr",
     "output_type": "stream",
     "text": []
    },
    {
     "name": "stdout",
     "output_type": "stream",
     "text": [
      "\n",
      "Image analyzed: Plate17_Nuc_Wells-H2__Channel_SD_AF647,SD_RFP,SD_GFP,SD_DAPI,SD_BF,SD_NIR\n",
      "\n",
      "Detecting infection load...\n",
      "Total cells: 1962\n",
      "Percentage infected:25.64\n",
      "Extracting per marker intensity information...\n",
      "Detecting spots in puncta markers...\n"
     ]
    },
    {
     "name": "stderr",
     "output_type": "stream",
     "text": []
    },
    {
     "name": "stdout",
     "output_type": "stream",
     "text": [
      "\n",
      "Image analyzed: Plate17_Nuc_Wells-H3__Channel_SD_AF647,SD_RFP,SD_GFP,SD_DAPI,SD_BF,SD_NIR\n",
      "\n",
      "Detecting infection load...\n",
      "Total cells: 2641\n",
      "Percentage infected:27.91\n",
      "Extracting per marker intensity information...\n",
      "Detecting spots in puncta markers...\n"
     ]
    },
    {
     "name": "stderr",
     "output_type": "stream",
     "text": []
    },
    {
     "name": "stdout",
     "output_type": "stream",
     "text": [
      "\n",
      "Image analyzed: Plate17_Nuc_Wells-H4__Channel_SD_AF647,SD_RFP,SD_GFP,SD_DAPI,SD_BF,SD_NIR\n",
      "\n",
      "Detecting infection load...\n",
      "Total cells: 2052\n",
      "Percentage infected:34.45\n",
      "Extracting per marker intensity information...\n",
      "Detecting spots in puncta markers...\n"
     ]
    },
    {
     "name": "stderr",
     "output_type": "stream",
     "text": []
    },
    {
     "name": "stdout",
     "output_type": "stream",
     "text": [
      "\n",
      "Image analyzed: Plate17_Nuc_Wells-H5__Channel_SD_AF647,SD_RFP,SD_GFP,SD_DAPI,SD_BF,SD_NIR\n",
      "\n",
      "Detecting infection load...\n",
      "Total cells: 2598\n",
      "Percentage infected:36.57\n",
      "Extracting per marker intensity information...\n",
      "Detecting spots in puncta markers...\n"
     ]
    },
    {
     "name": "stderr",
     "output_type": "stream",
     "text": []
    },
    {
     "name": "stdout",
     "output_type": "stream",
     "text": [
      "\n",
      "Image analyzed: Plate17_Nuc_Wells-H6__Channel_SD_AF647,SD_RFP,SD_GFP,SD_DAPI,SD_BF,SD_NIR\n",
      "\n",
      "Detecting infection load...\n",
      "Total cells: 2247\n",
      "Percentage infected:27.06\n",
      "Extracting per marker intensity information...\n",
      "Detecting spots in puncta markers...\n"
     ]
    },
    {
     "name": "stderr",
     "output_type": "stream",
     "text": []
    },
    {
     "name": "stdout",
     "output_type": "stream",
     "text": [
      "\n",
      "Image analyzed: Plate17_Nuc_Wells-H7__Channel_SD_AF647,SD_RFP,SD_GFP,SD_DAPI,SD_BF,SD_NIR\n",
      "\n",
      "Detecting infection load...\n",
      "Total cells: 2124\n",
      "Percentage infected:31.26\n",
      "Extracting per marker intensity information...\n",
      "Detecting spots in puncta markers...\n"
     ]
    },
    {
     "name": "stderr",
     "output_type": "stream",
     "text": []
    },
    {
     "name": "stdout",
     "output_type": "stream",
     "text": [
      "\n",
      "Image analyzed: Plate17_Nuc_Wells-H8__Channel_SD_AF647,SD_RFP,SD_GFP,SD_DAPI,SD_BF,SD_NIR\n",
      "\n",
      "Detecting infection load...\n",
      "Total cells: 2423\n",
      "Percentage infected:30.42\n",
      "Extracting per marker intensity information...\n",
      "Detecting spots in puncta markers...\n"
     ]
    },
    {
     "name": "stderr",
     "output_type": "stream",
     "text": []
    },
    {
     "name": "stdout",
     "output_type": "stream",
     "text": [
      "\n",
      "Image analyzed: Plate17_Nuc_Wells-H9__Channel_SD_AF647,SD_RFP,SD_GFP,SD_DAPI,SD_BF,SD_NIR\n",
      "\n",
      "Detecting infection load...\n",
      "Total cells: 2451\n",
      "Percentage infected:27.25\n",
      "Extracting per marker intensity information...\n",
      "Detecting spots in puncta markers...\n"
     ]
    },
    {
     "name": "stderr",
     "output_type": "stream",
     "text": []
    },
    {
     "name": "stdout",
     "output_type": "stream",
     "text": [
      "\n",
      "Image analyzed: Plate17_Nuc_Wells-H10__Channel_SD_AF647,SD_RFP,SD_GFP,SD_DAPI,SD_BF,SD_NIR\n",
      "\n",
      "Detecting infection load...\n",
      "Total cells: 2503\n",
      "Percentage infected:30.2\n",
      "Extracting per marker intensity information...\n",
      "Detecting spots in puncta markers...\n"
     ]
    },
    {
     "name": "stderr",
     "output_type": "stream",
     "text": []
    },
    {
     "name": "stdout",
     "output_type": "stream",
     "text": [
      "\n",
      "Image analyzed: Plate17_Nuc_Wells-H11__Channel_SD_AF647,SD_RFP,SD_GFP,SD_DAPI,SD_BF,SD_NIR\n",
      "\n",
      "Detecting infection load...\n",
      "Total cells: 2540\n",
      "Percentage infected:24.45\n",
      "Extracting per marker intensity information...\n",
      "Detecting spots in puncta markers...\n"
     ]
    },
    {
     "name": "stderr",
     "output_type": "stream",
     "text": []
    },
    {
     "name": "stdout",
     "output_type": "stream",
     "text": [
      "\n",
      "Image analyzed: Plate17_Nuc_Wells-H12__Channel_SD_AF647,SD_RFP,SD_GFP,SD_DAPI,SD_BF,SD_NIR\n",
      "\n",
      "Detecting infection load...\n",
      "Total cells: 2000\n",
      "Percentage infected:24.05\n",
      "Extracting per marker intensity information...\n",
      "Detecting spots in puncta markers...\n"
     ]
    },
    {
     "name": "stderr",
     "output_type": "stream",
     "text": []
    },
    {
     "name": "stdout",
     "output_type": "stream",
     "text": [
      "\n",
      "Image analyzed: Plate17_Nuc_Wells-A1__Channel_SD_AF647,SD_RFP,SD_GFP,SD_DAPI,SD_BF,SD_NIR\n",
      "\n",
      "Detecting infection load...\n",
      "Total cells: 2377\n",
      "Percentage infected:30.92\n",
      "Extracting per marker intensity information...\n",
      "Detecting spots in puncta markers...\n"
     ]
    },
    {
     "name": "stderr",
     "output_type": "stream",
     "text": []
    },
    {
     "name": "stdout",
     "output_type": "stream",
     "text": [
      "\n",
      "Image analyzed: Plate17_Nuc_Wells-A2__Channel_SD_AF647,SD_RFP,SD_GFP,SD_DAPI,SD_BF,SD_NIR\n",
      "\n",
      "Detecting infection load...\n",
      "Total cells: 3075\n",
      "Percentage infected:25.07\n",
      "Extracting per marker intensity information...\n",
      "Detecting spots in puncta markers...\n"
     ]
    },
    {
     "name": "stderr",
     "output_type": "stream",
     "text": []
    },
    {
     "name": "stdout",
     "output_type": "stream",
     "text": [
      "\n",
      "Image analyzed: Plate17_Nuc_Wells-A3__Channel_SD_AF647,SD_RFP,SD_GFP,SD_DAPI,SD_BF,SD_NIR\n",
      "\n",
      "Detecting infection load...\n",
      "Total cells: 3259\n",
      "Percentage infected:27.34\n",
      "Extracting per marker intensity information...\n",
      "Detecting spots in puncta markers...\n"
     ]
    },
    {
     "name": "stderr",
     "output_type": "stream",
     "text": []
    },
    {
     "name": "stdout",
     "output_type": "stream",
     "text": [
      "\n",
      "Image analyzed: Plate17_Nuc_Wells-A4__Channel_SD_AF647,SD_RFP,SD_GFP,SD_DAPI,SD_BF,SD_NIR\n",
      "\n",
      "Detecting infection load...\n",
      "Total cells: 3914\n",
      "Percentage infected:24.5\n",
      "Extracting per marker intensity information...\n",
      "Detecting spots in puncta markers...\n"
     ]
    },
    {
     "name": "stderr",
     "output_type": "stream",
     "text": []
    },
    {
     "name": "stdout",
     "output_type": "stream",
     "text": [
      "\n",
      "Image analyzed: Plate17_Nuc_Wells-A5__Channel_SD_AF647,SD_RFP,SD_GFP,SD_DAPI,SD_BF,SD_NIR\n",
      "\n",
      "Detecting infection load...\n",
      "Total cells: 3493\n",
      "Percentage infected:25.45\n",
      "Extracting per marker intensity information...\n",
      "Detecting spots in puncta markers...\n"
     ]
    },
    {
     "name": "stderr",
     "output_type": "stream",
     "text": []
    },
    {
     "name": "stdout",
     "output_type": "stream",
     "text": [
      "\n",
      "Image analyzed: Plate17_Nuc_Wells-A6__Channel_SD_AF647,SD_RFP,SD_GFP,SD_DAPI,SD_BF,SD_NIR\n",
      "\n",
      "Detecting infection load...\n",
      "Total cells: 2737\n",
      "Percentage infected:26.96\n",
      "Extracting per marker intensity information...\n",
      "Detecting spots in puncta markers...\n"
     ]
    },
    {
     "name": "stderr",
     "output_type": "stream",
     "text": []
    },
    {
     "name": "stdout",
     "output_type": "stream",
     "text": [
      "\n",
      "Image analyzed: Plate17_Nuc_Wells-A7__Channel_SD_AF647,SD_RFP,SD_GFP,SD_DAPI,SD_BF,SD_NIR\n",
      "\n",
      "Detecting infection load...\n",
      "Total cells: 2513\n",
      "Percentage infected:31.12\n",
      "Extracting per marker intensity information...\n",
      "Detecting spots in puncta markers...\n"
     ]
    },
    {
     "name": "stderr",
     "output_type": "stream",
     "text": []
    },
    {
     "name": "stdout",
     "output_type": "stream",
     "text": [
      "\n",
      "Image analyzed: Plate17_Nuc_Wells-A8__Channel_SD_AF647,SD_RFP,SD_GFP,SD_DAPI,SD_BF,SD_NIR\n",
      "\n",
      "Detecting infection load...\n",
      "Total cells: 2584\n",
      "Percentage infected:29.18\n",
      "Extracting per marker intensity information...\n",
      "Detecting spots in puncta markers...\n"
     ]
    },
    {
     "name": "stderr",
     "output_type": "stream",
     "text": []
    },
    {
     "name": "stdout",
     "output_type": "stream",
     "text": [
      "\n",
      "Image analyzed: Plate17_Nuc_Wells-A9__Channel_SD_AF647,SD_RFP,SD_GFP,SD_DAPI,SD_BF,SD_NIR\n",
      "\n",
      "Detecting infection load...\n",
      "Total cells: 2302\n",
      "Percentage infected:26.76\n",
      "Extracting per marker intensity information...\n",
      "Detecting spots in puncta markers...\n"
     ]
    },
    {
     "name": "stderr",
     "output_type": "stream",
     "text": []
    },
    {
     "name": "stdout",
     "output_type": "stream",
     "text": [
      "\n",
      "Image analyzed: Plate17_Nuc_Wells-A10__Channel_SD_AF647,SD_RFP,SD_GFP,SD_DAPI,SD_BF,SD_NIR\n",
      "\n",
      "Detecting infection load...\n",
      "Total cells: 2382\n",
      "Percentage infected:25.4\n",
      "Extracting per marker intensity information...\n",
      "Detecting spots in puncta markers...\n"
     ]
    },
    {
     "name": "stderr",
     "output_type": "stream",
     "text": []
    },
    {
     "name": "stdout",
     "output_type": "stream",
     "text": [
      "\n",
      "Image analyzed: Plate17_Nuc_Wells-A11__Channel_SD_AF647,SD_RFP,SD_GFP,SD_DAPI,SD_BF,SD_NIR\n",
      "\n",
      "Detecting infection load...\n",
      "Total cells: 1978\n",
      "Percentage infected:26.95\n",
      "Extracting per marker intensity information...\n",
      "Detecting spots in puncta markers...\n"
     ]
    },
    {
     "name": "stderr",
     "output_type": "stream",
     "text": []
    },
    {
     "name": "stdout",
     "output_type": "stream",
     "text": [
      "\n",
      "Image analyzed: Plate17_Nuc_Wells-A12__Channel_SD_AF647,SD_RFP,SD_GFP,SD_DAPI,SD_BF,SD_NIR\n",
      "\n",
      "Detecting infection load...\n",
      "Total cells: 1702\n",
      "Percentage infected:26.73\n",
      "Extracting per marker intensity information...\n",
      "Detecting spots in puncta markers...\n"
     ]
    },
    {
     "name": "stderr",
     "output_type": "stream",
     "text": []
    },
    {
     "name": "stdout",
     "output_type": "stream",
     "text": [
      "\n",
      "Image analyzed: Plate17_Nuc_Wells-B1__Channel_SD_AF647,SD_RFP,SD_GFP,SD_DAPI,SD_BF,SD_NIR\n",
      "\n",
      "Detecting infection load...\n",
      "Total cells: 2110\n",
      "Percentage infected:25.31\n",
      "Extracting per marker intensity information...\n",
      "Detecting spots in puncta markers...\n"
     ]
    },
    {
     "name": "stderr",
     "output_type": "stream",
     "text": []
    },
    {
     "name": "stdout",
     "output_type": "stream",
     "text": [
      "\n",
      "Image analyzed: Plate17_Nuc_Wells-B2__Channel_SD_AF647,SD_RFP,SD_GFP,SD_DAPI,SD_BF,SD_NIR\n",
      "\n",
      "Detecting infection load...\n",
      "Total cells: 2428\n",
      "Percentage infected:24.75\n",
      "Extracting per marker intensity information...\n",
      "Detecting spots in puncta markers...\n"
     ]
    },
    {
     "name": "stderr",
     "output_type": "stream",
     "text": []
    },
    {
     "name": "stdout",
     "output_type": "stream",
     "text": [
      "\n",
      "Image analyzed: Plate17_Nuc_Wells-B3__Channel_SD_AF647,SD_RFP,SD_GFP,SD_DAPI,SD_BF,SD_NIR\n",
      "\n",
      "Detecting infection load...\n",
      "Total cells: 2751\n",
      "Percentage infected:25.15\n",
      "Extracting per marker intensity information...\n",
      "Detecting spots in puncta markers...\n"
     ]
    },
    {
     "name": "stderr",
     "output_type": "stream",
     "text": []
    },
    {
     "name": "stdout",
     "output_type": "stream",
     "text": [
      "\n",
      "Image analyzed: Plate17_Nuc_Wells-B4__Channel_SD_AF647,SD_RFP,SD_GFP,SD_DAPI,SD_BF,SD_NIR\n",
      "\n",
      "Detecting infection load...\n",
      "Total cells: 2909\n",
      "Percentage infected:31.52\n",
      "Extracting per marker intensity information...\n",
      "Detecting spots in puncta markers...\n"
     ]
    },
    {
     "name": "stderr",
     "output_type": "stream",
     "text": []
    },
    {
     "name": "stdout",
     "output_type": "stream",
     "text": [
      "\n",
      "Image analyzed: Plate17_Nuc_Wells-B5__Channel_SD_AF647,SD_RFP,SD_GFP,SD_DAPI,SD_BF,SD_NIR\n",
      "\n",
      "Detecting infection load...\n",
      "Total cells: 2429\n",
      "Percentage infected:30.42\n",
      "Extracting per marker intensity information...\n",
      "Detecting spots in puncta markers...\n"
     ]
    },
    {
     "name": "stderr",
     "output_type": "stream",
     "text": []
    },
    {
     "name": "stdout",
     "output_type": "stream",
     "text": [
      "\n",
      "Image analyzed: Plate17_Nuc_Wells-B6__Channel_SD_AF647,SD_RFP,SD_GFP,SD_DAPI,SD_BF,SD_NIR\n",
      "\n",
      "Detecting infection load...\n",
      "Total cells: 2414\n",
      "Percentage infected:36.54\n",
      "Extracting per marker intensity information...\n",
      "Detecting spots in puncta markers...\n"
     ]
    },
    {
     "name": "stderr",
     "output_type": "stream",
     "text": []
    },
    {
     "name": "stdout",
     "output_type": "stream",
     "text": [
      "\n",
      "Image analyzed: Plate17_Nuc_Wells-B7__Channel_SD_AF647,SD_RFP,SD_GFP,SD_DAPI,SD_BF,SD_NIR\n",
      "\n",
      "Detecting infection load...\n",
      "Total cells: 2178\n",
      "Percentage infected:29.75\n",
      "Extracting per marker intensity information...\n",
      "Detecting spots in puncta markers...\n"
     ]
    },
    {
     "name": "stderr",
     "output_type": "stream",
     "text": []
    },
    {
     "name": "stdout",
     "output_type": "stream",
     "text": [
      "\n",
      "Image analyzed: Plate17_Nuc_Wells-B8__Channel_SD_AF647,SD_RFP,SD_GFP,SD_DAPI,SD_BF,SD_NIR\n",
      "\n",
      "Detecting infection load...\n",
      "Total cells: 1737\n",
      "Percentage infected:28.32\n",
      "Extracting per marker intensity information...\n",
      "Detecting spots in puncta markers...\n"
     ]
    },
    {
     "name": "stderr",
     "output_type": "stream",
     "text": []
    },
    {
     "name": "stdout",
     "output_type": "stream",
     "text": [
      "\n",
      "Image analyzed: Plate17_Nuc_Wells-B9__Channel_SD_AF647,SD_RFP,SD_GFP,SD_DAPI,SD_BF,SD_NIR\n",
      "\n",
      "Detecting infection load...\n",
      "Total cells: 2039\n",
      "Percentage infected:25.31\n",
      "Extracting per marker intensity information...\n",
      "Detecting spots in puncta markers...\n"
     ]
    },
    {
     "name": "stderr",
     "output_type": "stream",
     "text": [
      "100%|██████████| 96/96 [47:55<00:00, 29.95s/it]\n",
      " 82%|████████▏ | 14/17 [11:10:34<2:22:55, 2858.56s/it]"
     ]
    },
    {
     "name": "stdout",
     "output_type": "stream",
     "text": [
      "Analyzing Plate: Plate 14_Nuc\n"
     ]
    },
    {
     "name": "stderr",
     "output_type": "stream",
     "text": []
    },
    {
     "name": "stdout",
     "output_type": "stream",
     "text": [
      "\n",
      "Image analyzed: Plate14_Nuc_Wells-B3__Channel_SD_AF647,SD_RFP,SD_GFP,SD_DAPI,SD_BF,SD_NIR\n",
      "\n",
      "Detecting infection load...\n",
      "Total cells: 2015\n",
      "Percentage infected:26.0\n",
      "Extracting per marker intensity information...\n",
      "Detecting spots in puncta markers...\n"
     ]
    },
    {
     "name": "stderr",
     "output_type": "stream",
     "text": []
    },
    {
     "name": "stdout",
     "output_type": "stream",
     "text": [
      "\n",
      "Image analyzed: Plate14_Nuc_Wells-B4__Channel_SD_AF647,SD_RFP,SD_GFP,SD_DAPI,SD_BF,SD_NIR\n",
      "\n",
      "Detecting infection load...\n",
      "Total cells: 1811\n",
      "Percentage infected:23.36\n",
      "Extracting per marker intensity information...\n",
      "Detecting spots in puncta markers...\n"
     ]
    },
    {
     "name": "stderr",
     "output_type": "stream",
     "text": []
    },
    {
     "name": "stdout",
     "output_type": "stream",
     "text": [
      "\n",
      "Image analyzed: Plate14_Nuc_Wells-B5__Channel_SD_AF647,SD_RFP,SD_GFP,SD_DAPI,SD_BF,SD_NIR\n",
      "\n",
      "Detecting infection load...\n",
      "Total cells: 1731\n",
      "Percentage infected:33.04\n",
      "Extracting per marker intensity information...\n",
      "Detecting spots in puncta markers...\n"
     ]
    },
    {
     "name": "stderr",
     "output_type": "stream",
     "text": []
    },
    {
     "name": "stdout",
     "output_type": "stream",
     "text": [
      "\n",
      "Image analyzed: Plate14_Nuc_Wells-B6__Channel_SD_AF647,SD_RFP,SD_GFP,SD_DAPI,SD_BF,SD_NIR\n",
      "\n",
      "Detecting infection load...\n",
      "Total cells: 1790\n",
      "Percentage infected:27.15\n",
      "Extracting per marker intensity information...\n",
      "Detecting spots in puncta markers...\n"
     ]
    },
    {
     "name": "stderr",
     "output_type": "stream",
     "text": []
    },
    {
     "name": "stdout",
     "output_type": "stream",
     "text": [
      "\n",
      "Image analyzed: Plate14_Nuc_Wells-B7__Channel_SD_AF647,SD_RFP,SD_GFP,SD_DAPI,SD_BF,SD_NIR\n",
      "\n",
      "Detecting infection load...\n",
      "Total cells: 1814\n",
      "Percentage infected:33.19\n",
      "Extracting per marker intensity information...\n",
      "Detecting spots in puncta markers...\n"
     ]
    },
    {
     "name": "stderr",
     "output_type": "stream",
     "text": []
    },
    {
     "name": "stdout",
     "output_type": "stream",
     "text": [
      "\n",
      "Image analyzed: Plate14_Nuc_Wells-B8__Channel_SD_AF647,SD_RFP,SD_GFP,SD_DAPI,SD_BF,SD_NIR\n",
      "\n",
      "Detecting infection load...\n",
      "Total cells: 1761\n",
      "Percentage infected:29.53\n",
      "Extracting per marker intensity information...\n",
      "Detecting spots in puncta markers...\n"
     ]
    },
    {
     "name": "stderr",
     "output_type": "stream",
     "text": []
    },
    {
     "name": "stdout",
     "output_type": "stream",
     "text": [
      "\n",
      "Image analyzed: Plate14_Nuc_Wells-B9__Channel_SD_AF647,SD_RFP,SD_GFP,SD_DAPI,SD_BF,SD_NIR\n",
      "\n",
      "Detecting infection load...\n",
      "Total cells: 1255\n",
      "Percentage infected:32.99\n",
      "Extracting per marker intensity information...\n",
      "Detecting spots in puncta markers...\n"
     ]
    },
    {
     "name": "stderr",
     "output_type": "stream",
     "text": []
    },
    {
     "name": "stdout",
     "output_type": "stream",
     "text": [
      "\n",
      "Image analyzed: Plate14_Nuc_Wells-B10__Channel_SD_AF647,SD_RFP,SD_GFP,SD_DAPI,SD_BF,SD_NIR\n",
      "\n",
      "Detecting infection load...\n",
      "Total cells: 1484\n",
      "Percentage infected:28.98\n",
      "Extracting per marker intensity information...\n",
      "Detecting spots in puncta markers...\n"
     ]
    },
    {
     "name": "stderr",
     "output_type": "stream",
     "text": []
    },
    {
     "name": "stdout",
     "output_type": "stream",
     "text": [
      "\n",
      "Image analyzed: Plate14_Nuc_Wells-B11__Channel_SD_AF647,SD_RFP,SD_GFP,SD_DAPI,SD_BF,SD_NIR\n",
      "\n",
      "Detecting infection load...\n",
      "Total cells: 1154\n",
      "Percentage infected:27.3\n",
      "Extracting per marker intensity information...\n",
      "Detecting spots in puncta markers...\n"
     ]
    },
    {
     "name": "stderr",
     "output_type": "stream",
     "text": []
    },
    {
     "name": "stdout",
     "output_type": "stream",
     "text": [
      "\n",
      "Image analyzed: Plate14_Nuc_Wells-B12__Channel_SD_AF647,SD_RFP,SD_GFP,SD_DAPI,SD_BF,SD_NIR\n",
      "\n",
      "Detecting infection load...\n",
      "Total cells: 1255\n",
      "Percentage infected:29.96\n",
      "Extracting per marker intensity information...\n",
      "Detecting spots in puncta markers...\n"
     ]
    },
    {
     "name": "stderr",
     "output_type": "stream",
     "text": []
    },
    {
     "name": "stdout",
     "output_type": "stream",
     "text": [
      "\n",
      "Image analyzed: Plate14_Nuc_Wells-C1__Channel_SD_AF647,SD_RFP,SD_GFP,SD_DAPI,SD_BF,SD_NIR\n",
      "\n",
      "Detecting infection load...\n",
      "Total cells: 1905\n",
      "Percentage infected:25.72\n",
      "Extracting per marker intensity information...\n",
      "Detecting spots in puncta markers...\n"
     ]
    },
    {
     "name": "stderr",
     "output_type": "stream",
     "text": []
    },
    {
     "name": "stdout",
     "output_type": "stream",
     "text": [
      "\n",
      "Image analyzed: Plate14_Nuc_Wells-C2__Channel_SD_AF647,SD_RFP,SD_GFP,SD_DAPI,SD_BF,SD_NIR\n",
      "\n",
      "Detecting infection load...\n",
      "Total cells: 1960\n",
      "Percentage infected:26.99\n",
      "Extracting per marker intensity information...\n",
      "Detecting spots in puncta markers...\n"
     ]
    },
    {
     "name": "stderr",
     "output_type": "stream",
     "text": []
    },
    {
     "name": "stdout",
     "output_type": "stream",
     "text": [
      "\n",
      "Image analyzed: Plate14_Nuc_Wells-C3__Channel_SD_AF647,SD_RFP,SD_GFP,SD_DAPI,SD_BF,SD_NIR\n",
      "\n",
      "Detecting infection load...\n",
      "Total cells: 1907\n",
      "Percentage infected:23.39\n",
      "Extracting per marker intensity information...\n",
      "Detecting spots in puncta markers...\n"
     ]
    },
    {
     "name": "stderr",
     "output_type": "stream",
     "text": []
    },
    {
     "name": "stdout",
     "output_type": "stream",
     "text": [
      "\n",
      "Image analyzed: Plate14_Nuc_Wells-C4__Channel_SD_AF647,SD_RFP,SD_GFP,SD_DAPI,SD_BF,SD_NIR\n",
      "\n",
      "Detecting infection load...\n",
      "Total cells: 1711\n",
      "Percentage infected:27.41\n",
      "Extracting per marker intensity information...\n",
      "Detecting spots in puncta markers...\n"
     ]
    },
    {
     "name": "stderr",
     "output_type": "stream",
     "text": []
    },
    {
     "name": "stdout",
     "output_type": "stream",
     "text": [
      "\n",
      "Image analyzed: Plate14_Nuc_Wells-C5__Channel_SD_AF647,SD_RFP,SD_GFP,SD_DAPI,SD_BF,SD_NIR\n",
      "\n",
      "Detecting infection load...\n",
      "Total cells: 1722\n",
      "Percentage infected:31.01\n",
      "Extracting per marker intensity information...\n",
      "Detecting spots in puncta markers...\n"
     ]
    },
    {
     "name": "stderr",
     "output_type": "stream",
     "text": []
    },
    {
     "name": "stdout",
     "output_type": "stream",
     "text": [
      "\n",
      "Image analyzed: Plate14_Nuc_Wells-C6__Channel_SD_AF647,SD_RFP,SD_GFP,SD_DAPI,SD_BF,SD_NIR\n",
      "\n",
      "Detecting infection load...\n",
      "Total cells: 1534\n",
      "Percentage infected:30.31\n",
      "Extracting per marker intensity information...\n",
      "Detecting spots in puncta markers...\n"
     ]
    },
    {
     "name": "stderr",
     "output_type": "stream",
     "text": []
    },
    {
     "name": "stdout",
     "output_type": "stream",
     "text": [
      "\n",
      "Image analyzed: Plate14_Nuc_Wells-C7__Channel_SD_AF647,SD_RFP,SD_GFP,SD_DAPI,SD_BF,SD_NIR\n",
      "\n",
      "Detecting infection load...\n",
      "Total cells: 1563\n",
      "Percentage infected:29.3\n",
      "Extracting per marker intensity information...\n",
      "Detecting spots in puncta markers...\n"
     ]
    },
    {
     "name": "stderr",
     "output_type": "stream",
     "text": []
    },
    {
     "name": "stdout",
     "output_type": "stream",
     "text": [
      "\n",
      "Image analyzed: Plate14_Nuc_Wells-C8__Channel_SD_AF647,SD_RFP,SD_GFP,SD_DAPI,SD_BF,SD_NIR\n",
      "\n",
      "Detecting infection load...\n",
      "Total cells: 1539\n",
      "Percentage infected:30.86\n",
      "Extracting per marker intensity information...\n",
      "Detecting spots in puncta markers...\n"
     ]
    },
    {
     "name": "stderr",
     "output_type": "stream",
     "text": []
    },
    {
     "name": "stdout",
     "output_type": "stream",
     "text": [
      "\n",
      "Image analyzed: Plate14_Nuc_Wells-C9__Channel_SD_AF647,SD_RFP,SD_GFP,SD_DAPI,SD_BF,SD_NIR\n",
      "\n",
      "Detecting infection load...\n",
      "Total cells: 1522\n",
      "Percentage infected:25.43\n",
      "Extracting per marker intensity information...\n",
      "Detecting spots in puncta markers...\n"
     ]
    },
    {
     "name": "stderr",
     "output_type": "stream",
     "text": []
    },
    {
     "name": "stdout",
     "output_type": "stream",
     "text": [
      "\n",
      "Image analyzed: Plate14_Nuc_Wells-C10__Channel_SD_AF647,SD_RFP,SD_GFP,SD_DAPI,SD_BF,SD_NIR\n",
      "\n",
      "Detecting infection load...\n",
      "Total cells: 1586\n",
      "Percentage infected:26.61\n",
      "Extracting per marker intensity information...\n",
      "Detecting spots in puncta markers...\n"
     ]
    },
    {
     "name": "stderr",
     "output_type": "stream",
     "text": []
    },
    {
     "name": "stdout",
     "output_type": "stream",
     "text": [
      "\n",
      "Image analyzed: Plate14_Nuc_Wells-C11__Channel_SD_AF647,SD_RFP,SD_GFP,SD_DAPI,SD_BF,SD_NIR\n",
      "\n",
      "Detecting infection load...\n",
      "Total cells: 1591\n",
      "Percentage infected:23.51\n",
      "Extracting per marker intensity information...\n",
      "Detecting spots in puncta markers...\n"
     ]
    },
    {
     "name": "stderr",
     "output_type": "stream",
     "text": []
    },
    {
     "name": "stdout",
     "output_type": "stream",
     "text": [
      "\n",
      "Image analyzed: Plate14_Nuc_Wells-C12__Channel_SD_AF647,SD_RFP,SD_GFP,SD_DAPI,SD_BF,SD_NIR\n",
      "\n",
      "Detecting infection load...\n",
      "Total cells: 1267\n",
      "Percentage infected:29.2\n",
      "Extracting per marker intensity information...\n",
      "Detecting spots in puncta markers...\n"
     ]
    },
    {
     "name": "stderr",
     "output_type": "stream",
     "text": []
    },
    {
     "name": "stdout",
     "output_type": "stream",
     "text": [
      "\n",
      "Image analyzed: Plate14_Nuc_Wells-D1__Channel_SD_AF647,SD_RFP,SD_GFP,SD_DAPI,SD_BF,SD_NIR\n",
      "\n",
      "Detecting infection load...\n",
      "Total cells: 1721\n",
      "Percentage infected:28.47\n",
      "Extracting per marker intensity information...\n",
      "Detecting spots in puncta markers...\n"
     ]
    },
    {
     "name": "stderr",
     "output_type": "stream",
     "text": []
    },
    {
     "name": "stdout",
     "output_type": "stream",
     "text": [
      "\n",
      "Image analyzed: Plate14_Nuc_Wells-D2__Channel_SD_AF647,SD_RFP,SD_GFP,SD_DAPI,SD_BF,SD_NIR\n",
      "\n",
      "Detecting infection load...\n",
      "Total cells: 1677\n",
      "Percentage infected:20.99\n",
      "Extracting per marker intensity information...\n",
      "Detecting spots in puncta markers...\n"
     ]
    },
    {
     "name": "stderr",
     "output_type": "stream",
     "text": []
    },
    {
     "name": "stdout",
     "output_type": "stream",
     "text": [
      "\n",
      "Image analyzed: Plate14_Nuc_Wells-D3__Channel_SD_AF647,SD_RFP,SD_GFP,SD_DAPI,SD_BF,SD_NIR\n",
      "\n",
      "Detecting infection load...\n",
      "Total cells: 1752\n",
      "Percentage infected:27.17\n",
      "Extracting per marker intensity information...\n",
      "Detecting spots in puncta markers...\n"
     ]
    },
    {
     "name": "stderr",
     "output_type": "stream",
     "text": []
    },
    {
     "name": "stdout",
     "output_type": "stream",
     "text": [
      "\n",
      "Image analyzed: Plate14_Nuc_Wells-D4__Channel_SD_AF647,SD_RFP,SD_GFP,SD_DAPI,SD_BF,SD_NIR\n",
      "\n",
      "Detecting infection load...\n",
      "Total cells: 1676\n",
      "Percentage infected:22.79\n",
      "Extracting per marker intensity information...\n",
      "Detecting spots in puncta markers...\n"
     ]
    },
    {
     "name": "stderr",
     "output_type": "stream",
     "text": []
    },
    {
     "name": "stdout",
     "output_type": "stream",
     "text": [
      "\n",
      "Image analyzed: Plate14_Nuc_Wells-D5__Channel_SD_AF647,SD_RFP,SD_GFP,SD_DAPI,SD_BF,SD_NIR\n",
      "\n",
      "Detecting infection load...\n",
      "Total cells: 1614\n",
      "Percentage infected:27.01\n",
      "Extracting per marker intensity information...\n",
      "Detecting spots in puncta markers...\n"
     ]
    },
    {
     "name": "stderr",
     "output_type": "stream",
     "text": []
    },
    {
     "name": "stdout",
     "output_type": "stream",
     "text": [
      "\n",
      "Image analyzed: Plate14_Nuc_Wells-D6__Channel_SD_AF647,SD_RFP,SD_GFP,SD_DAPI,SD_BF,SD_NIR\n",
      "\n",
      "Detecting infection load...\n",
      "Total cells: 1765\n",
      "Percentage infected:26.4\n",
      "Extracting per marker intensity information...\n",
      "Detecting spots in puncta markers...\n"
     ]
    },
    {
     "name": "stderr",
     "output_type": "stream",
     "text": []
    },
    {
     "name": "stdout",
     "output_type": "stream",
     "text": [
      "\n",
      "Image analyzed: Plate14_Nuc_Wells-D7__Channel_SD_AF647,SD_RFP,SD_GFP,SD_DAPI,SD_BF,SD_NIR\n",
      "\n",
      "Detecting infection load...\n",
      "Total cells: 1389\n",
      "Percentage infected:26.85\n",
      "Extracting per marker intensity information...\n",
      "Detecting spots in puncta markers...\n"
     ]
    },
    {
     "name": "stderr",
     "output_type": "stream",
     "text": []
    },
    {
     "name": "stdout",
     "output_type": "stream",
     "text": [
      "\n",
      "Image analyzed: Plate14_Nuc_Wells-D8__Channel_SD_AF647,SD_RFP,SD_GFP,SD_DAPI,SD_BF,SD_NIR\n",
      "\n",
      "Detecting infection load...\n",
      "Total cells: 1637\n",
      "Percentage infected:29.69\n",
      "Extracting per marker intensity information...\n",
      "Detecting spots in puncta markers...\n"
     ]
    },
    {
     "name": "stderr",
     "output_type": "stream",
     "text": []
    },
    {
     "name": "stdout",
     "output_type": "stream",
     "text": [
      "\n",
      "Image analyzed: Plate14_Nuc_Wells-D9__Channel_SD_AF647,SD_RFP,SD_GFP,SD_DAPI,SD_BF,SD_NIR\n",
      "\n",
      "Detecting infection load...\n",
      "Total cells: 1210\n",
      "Percentage infected:24.46\n",
      "Extracting per marker intensity information...\n",
      "Detecting spots in puncta markers...\n"
     ]
    },
    {
     "name": "stderr",
     "output_type": "stream",
     "text": []
    },
    {
     "name": "stdout",
     "output_type": "stream",
     "text": [
      "\n",
      "Image analyzed: Plate14_Nuc_Wells-D10__Channel_SD_AF647,SD_RFP,SD_GFP,SD_DAPI,SD_BF,SD_NIR\n",
      "\n",
      "Detecting infection load...\n",
      "Total cells: 1403\n",
      "Percentage infected:25.02\n",
      "Extracting per marker intensity information...\n",
      "Detecting spots in puncta markers...\n"
     ]
    },
    {
     "name": "stderr",
     "output_type": "stream",
     "text": []
    },
    {
     "name": "stdout",
     "output_type": "stream",
     "text": [
      "\n",
      "Image analyzed: Plate14_Nuc_Wells-D11__Channel_SD_AF647,SD_RFP,SD_GFP,SD_DAPI,SD_BF,SD_NIR\n",
      "\n",
      "Detecting infection load...\n",
      "Total cells: 1347\n",
      "Percentage infected:23.31\n",
      "Extracting per marker intensity information...\n",
      "Detecting spots in puncta markers...\n"
     ]
    },
    {
     "name": "stderr",
     "output_type": "stream",
     "text": []
    },
    {
     "name": "stdout",
     "output_type": "stream",
     "text": [
      "\n",
      "Image analyzed: Plate14_Nuc_Wells-D12__Channel_SD_AF647,SD_RFP,SD_GFP,SD_DAPI,SD_BF,SD_NIR\n",
      "\n",
      "Detecting infection load...\n",
      "Total cells: 1423\n",
      "Percentage infected:26.99\n",
      "Extracting per marker intensity information...\n",
      "Detecting spots in puncta markers...\n"
     ]
    },
    {
     "name": "stderr",
     "output_type": "stream",
     "text": []
    },
    {
     "name": "stdout",
     "output_type": "stream",
     "text": [
      "\n",
      "Image analyzed: Plate14_Nuc_Wells-E1__Channel_SD_AF647,SD_RFP,SD_GFP,SD_DAPI,SD_BF,SD_NIR\n",
      "\n",
      "Detecting infection load...\n",
      "Total cells: 1763\n",
      "Percentage infected:28.02\n",
      "Extracting per marker intensity information...\n",
      "Detecting spots in puncta markers...\n"
     ]
    },
    {
     "name": "stderr",
     "output_type": "stream",
     "text": []
    },
    {
     "name": "stdout",
     "output_type": "stream",
     "text": [
      "\n",
      "Image analyzed: Plate14_Nuc_Wells-E2__Channel_SD_AF647,SD_RFP,SD_GFP,SD_DAPI,SD_BF,SD_NIR\n",
      "\n",
      "Detecting infection load...\n",
      "Total cells: 1643\n",
      "Percentage infected:29.4\n",
      "Extracting per marker intensity information...\n",
      "Detecting spots in puncta markers...\n"
     ]
    },
    {
     "name": "stderr",
     "output_type": "stream",
     "text": []
    },
    {
     "name": "stdout",
     "output_type": "stream",
     "text": [
      "\n",
      "Image analyzed: Plate14_Nuc_Wells-E3__Channel_SD_AF647,SD_RFP,SD_GFP,SD_DAPI,SD_BF,SD_NIR\n",
      "\n",
      "Detecting infection load...\n",
      "Total cells: 1403\n",
      "Percentage infected:36.71\n",
      "Extracting per marker intensity information...\n",
      "Detecting spots in puncta markers...\n"
     ]
    },
    {
     "name": "stderr",
     "output_type": "stream",
     "text": []
    },
    {
     "name": "stdout",
     "output_type": "stream",
     "text": [
      "\n",
      "Image analyzed: Plate14_Nuc_Wells-E4__Channel_SD_AF647,SD_RFP,SD_GFP,SD_DAPI,SD_BF,SD_NIR\n",
      "\n",
      "Detecting infection load...\n",
      "Total cells: 1028\n",
      "Percentage infected:23.25\n",
      "Extracting per marker intensity information...\n",
      "Detecting spots in puncta markers...\n"
     ]
    },
    {
     "name": "stderr",
     "output_type": "stream",
     "text": []
    },
    {
     "name": "stdout",
     "output_type": "stream",
     "text": [
      "\n",
      "Image analyzed: Plate14_Nuc_Wells-E5__Channel_SD_AF647,SD_RFP,SD_GFP,SD_DAPI,SD_BF,SD_NIR\n",
      "\n",
      "Detecting infection load...\n",
      "Total cells: 1281\n",
      "Percentage infected:25.14\n",
      "Extracting per marker intensity information...\n",
      "Detecting spots in puncta markers...\n"
     ]
    },
    {
     "name": "stderr",
     "output_type": "stream",
     "text": []
    },
    {
     "name": "stdout",
     "output_type": "stream",
     "text": [
      "\n",
      "Image analyzed: Plate14_Nuc_Wells-E6__Channel_SD_AF647,SD_RFP,SD_GFP,SD_DAPI,SD_BF,SD_NIR\n",
      "\n",
      "Detecting infection load...\n",
      "Total cells: 1469\n",
      "Percentage infected:23.96\n",
      "Extracting per marker intensity information...\n",
      "Detecting spots in puncta markers...\n"
     ]
    },
    {
     "name": "stderr",
     "output_type": "stream",
     "text": []
    },
    {
     "name": "stdout",
     "output_type": "stream",
     "text": [
      "\n",
      "Image analyzed: Plate14_Nuc_Wells-E7__Channel_SD_AF647,SD_RFP,SD_GFP,SD_DAPI,SD_BF,SD_NIR\n",
      "\n",
      "Detecting infection load...\n",
      "Total cells: 1966\n",
      "Percentage infected:24.87\n",
      "Extracting per marker intensity information...\n",
      "Detecting spots in puncta markers...\n"
     ]
    },
    {
     "name": "stderr",
     "output_type": "stream",
     "text": []
    },
    {
     "name": "stdout",
     "output_type": "stream",
     "text": [
      "\n",
      "Image analyzed: Plate14_Nuc_Wells-E8__Channel_SD_AF647,SD_RFP,SD_GFP,SD_DAPI,SD_BF,SD_NIR\n",
      "\n",
      "Detecting infection load...\n",
      "Total cells: 1596\n",
      "Percentage infected:25.81\n",
      "Extracting per marker intensity information...\n",
      "Detecting spots in puncta markers...\n"
     ]
    },
    {
     "name": "stderr",
     "output_type": "stream",
     "text": []
    },
    {
     "name": "stdout",
     "output_type": "stream",
     "text": [
      "\n",
      "Image analyzed: Plate14_Nuc_Wells-E9__Channel_SD_AF647,SD_RFP,SD_GFP,SD_DAPI,SD_BF,SD_NIR\n",
      "\n",
      "Detecting infection load...\n",
      "Total cells: 989\n",
      "Percentage infected:26.69\n",
      "Extracting per marker intensity information...\n",
      "Detecting spots in puncta markers...\n"
     ]
    },
    {
     "name": "stderr",
     "output_type": "stream",
     "text": []
    },
    {
     "name": "stdout",
     "output_type": "stream",
     "text": [
      "\n",
      "Image analyzed: Plate14_Nuc_Wells-E10__Channel_SD_AF647,SD_RFP,SD_GFP,SD_DAPI,SD_BF,SD_NIR\n",
      "\n",
      "Detecting infection load...\n",
      "Total cells: 1432\n",
      "Percentage infected:20.95\n",
      "Extracting per marker intensity information...\n",
      "Detecting spots in puncta markers...\n"
     ]
    },
    {
     "name": "stderr",
     "output_type": "stream",
     "text": []
    },
    {
     "name": "stdout",
     "output_type": "stream",
     "text": [
      "\n",
      "Image analyzed: Plate14_Nuc_Wells-E11__Channel_SD_AF647,SD_RFP,SD_GFP,SD_DAPI,SD_BF,SD_NIR\n",
      "\n",
      "Detecting infection load...\n",
      "Total cells: 1116\n",
      "Percentage infected:19.62\n",
      "Extracting per marker intensity information...\n",
      "Detecting spots in puncta markers...\n"
     ]
    },
    {
     "name": "stderr",
     "output_type": "stream",
     "text": []
    },
    {
     "name": "stdout",
     "output_type": "stream",
     "text": [
      "\n",
      "Image analyzed: Plate14_Nuc_Wells-E12__Channel_SD_AF647,SD_RFP,SD_GFP,SD_DAPI,SD_BF,SD_NIR\n",
      "\n",
      "Detecting infection load...\n",
      "Total cells: 1104\n",
      "Percentage infected:26.63\n",
      "Extracting per marker intensity information...\n",
      "Detecting spots in puncta markers...\n"
     ]
    },
    {
     "name": "stderr",
     "output_type": "stream",
     "text": []
    },
    {
     "name": "stdout",
     "output_type": "stream",
     "text": [
      "\n",
      "Image analyzed: Plate14_Nuc_Wells-F1__Channel_SD_AF647,SD_RFP,SD_GFP,SD_DAPI,SD_BF,SD_NIR\n",
      "\n",
      "Detecting infection load...\n",
      "Total cells: 2678\n",
      "Percentage infected:21.36\n",
      "Extracting per marker intensity information...\n",
      "Detecting spots in puncta markers...\n"
     ]
    },
    {
     "name": "stderr",
     "output_type": "stream",
     "text": []
    },
    {
     "name": "stdout",
     "output_type": "stream",
     "text": [
      "\n",
      "Image analyzed: Plate14_Nuc_Wells-F2__Channel_SD_AF647,SD_RFP,SD_GFP,SD_DAPI,SD_BF,SD_NIR\n",
      "\n",
      "Detecting infection load...\n",
      "Total cells: 1906\n",
      "Percentage infected:23.08\n",
      "Extracting per marker intensity information...\n",
      "Detecting spots in puncta markers...\n"
     ]
    },
    {
     "name": "stderr",
     "output_type": "stream",
     "text": []
    },
    {
     "name": "stdout",
     "output_type": "stream",
     "text": [
      "\n",
      "Image analyzed: Plate14_Nuc_Wells-F3__Channel_SD_AF647,SD_RFP,SD_GFP,SD_DAPI,SD_BF,SD_NIR\n",
      "\n",
      "Detecting infection load...\n",
      "Total cells: 1898\n",
      "Percentage infected:24.97\n",
      "Extracting per marker intensity information...\n",
      "Detecting spots in puncta markers...\n"
     ]
    },
    {
     "name": "stderr",
     "output_type": "stream",
     "text": []
    },
    {
     "name": "stdout",
     "output_type": "stream",
     "text": [
      "\n",
      "Image analyzed: Plate14_Nuc_Wells-F4__Channel_SD_AF647,SD_RFP,SD_GFP,SD_DAPI,SD_BF,SD_NIR\n",
      "\n",
      "Detecting infection load...\n",
      "Total cells: 1540\n",
      "Percentage infected:23.38\n",
      "Extracting per marker intensity information...\n",
      "Detecting spots in puncta markers...\n"
     ]
    },
    {
     "name": "stderr",
     "output_type": "stream",
     "text": []
    },
    {
     "name": "stdout",
     "output_type": "stream",
     "text": [
      "\n",
      "Image analyzed: Plate14_Nuc_Wells-F5__Channel_SD_AF647,SD_RFP,SD_GFP,SD_DAPI,SD_BF,SD_NIR\n",
      "\n",
      "Detecting infection load...\n",
      "Total cells: 1957\n",
      "Percentage infected:27.85\n",
      "Extracting per marker intensity information...\n",
      "Detecting spots in puncta markers...\n"
     ]
    },
    {
     "name": "stderr",
     "output_type": "stream",
     "text": []
    },
    {
     "name": "stdout",
     "output_type": "stream",
     "text": [
      "\n",
      "Image analyzed: Plate14_Nuc_Wells-F6__Channel_SD_AF647,SD_RFP,SD_GFP,SD_DAPI,SD_BF,SD_NIR\n",
      "\n",
      "Detecting infection load...\n",
      "Total cells: 2256\n",
      "Percentage infected:24.51\n",
      "Extracting per marker intensity information...\n",
      "Detecting spots in puncta markers...\n"
     ]
    },
    {
     "name": "stderr",
     "output_type": "stream",
     "text": []
    },
    {
     "name": "stdout",
     "output_type": "stream",
     "text": [
      "\n",
      "Image analyzed: Plate14_Nuc_Wells-F7__Channel_SD_AF647,SD_RFP,SD_GFP,SD_DAPI,SD_BF,SD_NIR\n",
      "\n",
      "Detecting infection load...\n",
      "Total cells: 2434\n",
      "Percentage infected:26.09\n",
      "Extracting per marker intensity information...\n",
      "Detecting spots in puncta markers...\n"
     ]
    },
    {
     "name": "stderr",
     "output_type": "stream",
     "text": []
    },
    {
     "name": "stdout",
     "output_type": "stream",
     "text": [
      "\n",
      "Image analyzed: Plate14_Nuc_Wells-F8__Channel_SD_AF647,SD_RFP,SD_GFP,SD_DAPI,SD_BF,SD_NIR\n",
      "\n",
      "Detecting infection load...\n",
      "Total cells: 1998\n",
      "Percentage infected:24.97\n",
      "Extracting per marker intensity information...\n",
      "Detecting spots in puncta markers...\n"
     ]
    },
    {
     "name": "stderr",
     "output_type": "stream",
     "text": []
    },
    {
     "name": "stdout",
     "output_type": "stream",
     "text": [
      "\n",
      "Image analyzed: Plate14_Nuc_Wells-F9__Channel_SD_AF647,SD_RFP,SD_GFP,SD_DAPI,SD_BF,SD_NIR\n",
      "\n",
      "Detecting infection load...\n",
      "Total cells: 1459\n",
      "Percentage infected:23.85\n",
      "Extracting per marker intensity information...\n",
      "Detecting spots in puncta markers...\n"
     ]
    },
    {
     "name": "stderr",
     "output_type": "stream",
     "text": []
    },
    {
     "name": "stdout",
     "output_type": "stream",
     "text": [
      "\n",
      "Image analyzed: Plate14_Nuc_Wells-F10__Channel_SD_AF647,SD_RFP,SD_GFP,SD_DAPI,SD_BF,SD_NIR\n",
      "\n",
      "Detecting infection load...\n",
      "Total cells: 1405\n",
      "Percentage infected:25.62\n",
      "Extracting per marker intensity information...\n",
      "Detecting spots in puncta markers...\n"
     ]
    },
    {
     "name": "stderr",
     "output_type": "stream",
     "text": []
    },
    {
     "name": "stdout",
     "output_type": "stream",
     "text": [
      "\n",
      "Image analyzed: Plate14_Nuc_Wells-F11__Channel_SD_AF647,SD_RFP,SD_GFP,SD_DAPI,SD_BF,SD_NIR\n",
      "\n",
      "Detecting infection load...\n",
      "Total cells: 1105\n",
      "Percentage infected:21.54\n",
      "Extracting per marker intensity information...\n",
      "Detecting spots in puncta markers...\n"
     ]
    },
    {
     "name": "stderr",
     "output_type": "stream",
     "text": []
    },
    {
     "name": "stdout",
     "output_type": "stream",
     "text": [
      "\n",
      "Image analyzed: Plate14_Nuc_Wells-F12__Channel_SD_AF647,SD_RFP,SD_GFP,SD_DAPI,SD_BF,SD_NIR\n",
      "\n",
      "Detecting infection load...\n",
      "Total cells: 1556\n",
      "Percentage infected:20.18\n",
      "Extracting per marker intensity information...\n",
      "Detecting spots in puncta markers...\n"
     ]
    },
    {
     "name": "stderr",
     "output_type": "stream",
     "text": []
    },
    {
     "name": "stdout",
     "output_type": "stream",
     "text": [
      "\n",
      "Image analyzed: Plate14_Nuc_Wells-G1__Channel_SD_AF647,SD_RFP,SD_GFP,SD_DAPI,SD_BF,SD_NIR\n",
      "\n",
      "Detecting infection load...\n",
      "Total cells: 1997\n",
      "Percentage infected:21.23\n",
      "Extracting per marker intensity information...\n",
      "Detecting spots in puncta markers...\n"
     ]
    },
    {
     "name": "stderr",
     "output_type": "stream",
     "text": []
    },
    {
     "name": "stdout",
     "output_type": "stream",
     "text": [
      "\n",
      "Image analyzed: Plate14_Nuc_Wells-G2__Channel_SD_AF647,SD_RFP,SD_GFP,SD_DAPI,SD_BF,SD_NIR\n",
      "\n",
      "Detecting infection load...\n",
      "Total cells: 2104\n",
      "Percentage infected:20.77\n",
      "Extracting per marker intensity information...\n",
      "Detecting spots in puncta markers...\n"
     ]
    },
    {
     "name": "stderr",
     "output_type": "stream",
     "text": []
    },
    {
     "name": "stdout",
     "output_type": "stream",
     "text": [
      "\n",
      "Image analyzed: Plate14_Nuc_Wells-G3__Channel_SD_AF647,SD_RFP,SD_GFP,SD_DAPI,SD_BF,SD_NIR\n",
      "\n",
      "Detecting infection load...\n",
      "Total cells: 2010\n",
      "Percentage infected:20.85\n",
      "Extracting per marker intensity information...\n",
      "Detecting spots in puncta markers...\n"
     ]
    },
    {
     "name": "stderr",
     "output_type": "stream",
     "text": []
    },
    {
     "name": "stdout",
     "output_type": "stream",
     "text": [
      "\n",
      "Image analyzed: Plate14_Nuc_Wells-G4__Channel_SD_AF647,SD_RFP,SD_GFP,SD_DAPI,SD_BF,SD_NIR\n",
      "\n",
      "Detecting infection load...\n",
      "Total cells: 1612\n",
      "Percentage infected:20.78\n",
      "Extracting per marker intensity information...\n",
      "Detecting spots in puncta markers...\n"
     ]
    },
    {
     "name": "stderr",
     "output_type": "stream",
     "text": []
    },
    {
     "name": "stdout",
     "output_type": "stream",
     "text": [
      "\n",
      "Image analyzed: Plate14_Nuc_Wells-G5__Channel_SD_AF647,SD_RFP,SD_GFP,SD_DAPI,SD_BF,SD_NIR\n",
      "\n",
      "Detecting infection load...\n",
      "Total cells: 1663\n",
      "Percentage infected:24.77\n",
      "Extracting per marker intensity information...\n",
      "Detecting spots in puncta markers...\n"
     ]
    },
    {
     "name": "stderr",
     "output_type": "stream",
     "text": []
    },
    {
     "name": "stdout",
     "output_type": "stream",
     "text": [
      "\n",
      "Image analyzed: Plate14_Nuc_Wells-G6__Channel_SD_AF647,SD_RFP,SD_GFP,SD_DAPI,SD_BF,SD_NIR\n",
      "\n",
      "Detecting infection load...\n",
      "Total cells: 1891\n",
      "Percentage infected:26.39\n",
      "Extracting per marker intensity information...\n",
      "Detecting spots in puncta markers...\n"
     ]
    },
    {
     "name": "stderr",
     "output_type": "stream",
     "text": []
    },
    {
     "name": "stdout",
     "output_type": "stream",
     "text": [
      "\n",
      "Image analyzed: Plate14_Nuc_Wells-G7__Channel_SD_AF647,SD_RFP,SD_GFP,SD_DAPI,SD_BF,SD_NIR\n",
      "\n",
      "Detecting infection load...\n",
      "Total cells: 1560\n",
      "Percentage infected:28.97\n",
      "Extracting per marker intensity information...\n",
      "Detecting spots in puncta markers...\n"
     ]
    },
    {
     "name": "stderr",
     "output_type": "stream",
     "text": []
    },
    {
     "name": "stdout",
     "output_type": "stream",
     "text": [
      "\n",
      "Image analyzed: Plate14_Nuc_Wells-G8__Channel_SD_AF647,SD_RFP,SD_GFP,SD_DAPI,SD_BF,SD_NIR\n",
      "\n",
      "Detecting infection load...\n",
      "Total cells: 1473\n",
      "Percentage infected:21.66\n",
      "Extracting per marker intensity information...\n",
      "Detecting spots in puncta markers...\n"
     ]
    },
    {
     "name": "stderr",
     "output_type": "stream",
     "text": []
    },
    {
     "name": "stdout",
     "output_type": "stream",
     "text": [
      "\n",
      "Image analyzed: Plate14_Nuc_Wells-G9__Channel_SD_AF647,SD_RFP,SD_GFP,SD_DAPI,SD_BF,SD_NIR\n",
      "\n",
      "Detecting infection load...\n",
      "Total cells: 1487\n",
      "Percentage infected:28.98\n",
      "Extracting per marker intensity information...\n",
      "Detecting spots in puncta markers...\n"
     ]
    },
    {
     "name": "stderr",
     "output_type": "stream",
     "text": []
    },
    {
     "name": "stdout",
     "output_type": "stream",
     "text": [
      "\n",
      "Image analyzed: Plate14_Nuc_Wells-G10__Channel_SD_AF647,SD_RFP,SD_GFP,SD_DAPI,SD_BF,SD_NIR\n",
      "\n",
      "Detecting infection load...\n",
      "Total cells: 1669\n",
      "Percentage infected:28.22\n",
      "Extracting per marker intensity information...\n",
      "Detecting spots in puncta markers...\n"
     ]
    },
    {
     "name": "stderr",
     "output_type": "stream",
     "text": []
    },
    {
     "name": "stdout",
     "output_type": "stream",
     "text": [
      "\n",
      "Image analyzed: Plate14_Nuc_Wells-G11__Channel_SD_AF647,SD_RFP,SD_GFP,SD_DAPI,SD_BF,SD_NIR\n",
      "\n",
      "Detecting infection load...\n",
      "Total cells: 1478\n",
      "Percentage infected:25.37\n",
      "Extracting per marker intensity information...\n",
      "Detecting spots in puncta markers...\n"
     ]
    },
    {
     "name": "stderr",
     "output_type": "stream",
     "text": []
    },
    {
     "name": "stdout",
     "output_type": "stream",
     "text": [
      "\n",
      "Image analyzed: Plate14_Nuc_Wells-G12__Channel_SD_AF647,SD_RFP,SD_GFP,SD_DAPI,SD_BF,SD_NIR\n",
      "\n",
      "Detecting infection load...\n",
      "Total cells: 1261\n",
      "Percentage infected:25.3\n",
      "Extracting per marker intensity information...\n",
      "Detecting spots in puncta markers...\n"
     ]
    },
    {
     "name": "stderr",
     "output_type": "stream",
     "text": []
    },
    {
     "name": "stdout",
     "output_type": "stream",
     "text": [
      "\n",
      "Image analyzed: Plate14_Nuc_Wells-H1__Channel_SD_AF647,SD_RFP,SD_GFP,SD_DAPI,SD_BF,SD_NIR\n",
      "\n",
      "Detecting infection load...\n",
      "Total cells: 3055\n",
      "Percentage infected:0.07\n",
      "Extracting per marker intensity information...\n",
      "Detecting spots in puncta markers...\n"
     ]
    },
    {
     "name": "stderr",
     "output_type": "stream",
     "text": []
    },
    {
     "name": "stdout",
     "output_type": "stream",
     "text": [
      "\n",
      "Image analyzed: Plate14_Nuc_Wells-H2__Channel_SD_AF647,SD_RFP,SD_GFP,SD_DAPI,SD_BF,SD_NIR\n",
      "\n",
      "Detecting infection load...\n",
      "Total cells: 2487\n",
      "Percentage infected:28.51\n",
      "Extracting per marker intensity information...\n",
      "Detecting spots in puncta markers...\n"
     ]
    },
    {
     "name": "stderr",
     "output_type": "stream",
     "text": []
    },
    {
     "name": "stdout",
     "output_type": "stream",
     "text": [
      "\n",
      "Image analyzed: Plate14_Nuc_Wells-H3__Channel_SD_AF647,SD_RFP,SD_GFP,SD_DAPI,SD_BF,SD_NIR\n",
      "\n",
      "Detecting infection load...\n",
      "Total cells: 1953\n",
      "Percentage infected:27.6\n",
      "Extracting per marker intensity information...\n",
      "Detecting spots in puncta markers...\n"
     ]
    },
    {
     "name": "stderr",
     "output_type": "stream",
     "text": []
    },
    {
     "name": "stdout",
     "output_type": "stream",
     "text": [
      "\n",
      "Image analyzed: Plate14_Nuc_Wells-H4__Channel_SD_AF647,SD_RFP,SD_GFP,SD_DAPI,SD_BF,SD_NIR\n",
      "\n",
      "Detecting infection load...\n",
      "Total cells: 2118\n",
      "Percentage infected:19.36\n",
      "Extracting per marker intensity information...\n",
      "Detecting spots in puncta markers...\n"
     ]
    },
    {
     "name": "stderr",
     "output_type": "stream",
     "text": []
    },
    {
     "name": "stdout",
     "output_type": "stream",
     "text": [
      "\n",
      "Image analyzed: Plate14_Nuc_Wells-H5__Channel_SD_AF647,SD_RFP,SD_GFP,SD_DAPI,SD_BF,SD_NIR\n",
      "\n",
      "Detecting infection load...\n",
      "Total cells: 2116\n",
      "Percentage infected:24.62\n",
      "Extracting per marker intensity information...\n",
      "Detecting spots in puncta markers...\n"
     ]
    },
    {
     "name": "stderr",
     "output_type": "stream",
     "text": []
    },
    {
     "name": "stdout",
     "output_type": "stream",
     "text": [
      "\n",
      "Image analyzed: Plate14_Nuc_Wells-H6__Channel_SD_AF647,SD_RFP,SD_GFP,SD_DAPI,SD_BF,SD_NIR\n",
      "\n",
      "Detecting infection load...\n",
      "Total cells: 2029\n",
      "Percentage infected:26.76\n",
      "Extracting per marker intensity information...\n",
      "Detecting spots in puncta markers...\n"
     ]
    },
    {
     "name": "stderr",
     "output_type": "stream",
     "text": []
    },
    {
     "name": "stdout",
     "output_type": "stream",
     "text": [
      "\n",
      "Image analyzed: Plate14_Nuc_Wells-H7__Channel_SD_AF647,SD_RFP,SD_GFP,SD_DAPI,SD_BF,SD_NIR\n",
      "\n",
      "Detecting infection load...\n",
      "Total cells: 2053\n",
      "Percentage infected:33.07\n",
      "Extracting per marker intensity information...\n",
      "Detecting spots in puncta markers...\n"
     ]
    },
    {
     "name": "stderr",
     "output_type": "stream",
     "text": []
    },
    {
     "name": "stdout",
     "output_type": "stream",
     "text": [
      "\n",
      "Image analyzed: Plate14_Nuc_Wells-H8__Channel_SD_AF647,SD_RFP,SD_GFP,SD_DAPI,SD_BF,SD_NIR\n",
      "\n",
      "Detecting infection load...\n",
      "Total cells: 1714\n",
      "Percentage infected:36.06\n",
      "Extracting per marker intensity information...\n",
      "Detecting spots in puncta markers...\n"
     ]
    },
    {
     "name": "stderr",
     "output_type": "stream",
     "text": []
    },
    {
     "name": "stdout",
     "output_type": "stream",
     "text": [
      "\n",
      "Image analyzed: Plate14_Nuc_Wells-H9__Channel_SD_AF647,SD_RFP,SD_GFP,SD_DAPI,SD_BF,SD_NIR\n",
      "\n",
      "Detecting infection load...\n",
      "Total cells: 1626\n",
      "Percentage infected:30.81\n",
      "Extracting per marker intensity information...\n",
      "Detecting spots in puncta markers...\n"
     ]
    },
    {
     "name": "stderr",
     "output_type": "stream",
     "text": []
    },
    {
     "name": "stdout",
     "output_type": "stream",
     "text": [
      "\n",
      "Image analyzed: Plate14_Nuc_Wells-H10__Channel_SD_AF647,SD_RFP,SD_GFP,SD_DAPI,SD_BF,SD_NIR\n",
      "\n",
      "Detecting infection load...\n",
      "Total cells: 1718\n",
      "Percentage infected:29.22\n",
      "Extracting per marker intensity information...\n",
      "Detecting spots in puncta markers...\n"
     ]
    },
    {
     "name": "stderr",
     "output_type": "stream",
     "text": []
    },
    {
     "name": "stdout",
     "output_type": "stream",
     "text": [
      "\n",
      "Image analyzed: Plate14_Nuc_Wells-H11__Channel_SD_AF647,SD_RFP,SD_GFP,SD_DAPI,SD_BF,SD_NIR\n",
      "\n",
      "Detecting infection load...\n",
      "Total cells: 1650\n",
      "Percentage infected:27.39\n",
      "Extracting per marker intensity information...\n",
      "Detecting spots in puncta markers...\n"
     ]
    },
    {
     "name": "stderr",
     "output_type": "stream",
     "text": []
    },
    {
     "name": "stdout",
     "output_type": "stream",
     "text": [
      "\n",
      "Image analyzed: Plate14_Nuc_Wells-H12__Channel_SD_AF647,SD_RFP,SD_GFP,SD_DAPI,SD_BF,SD_NIR\n",
      "\n",
      "Detecting infection load...\n",
      "Total cells: 1624\n",
      "Percentage infected:24.82\n",
      "Extracting per marker intensity information...\n",
      "Detecting spots in puncta markers...\n"
     ]
    },
    {
     "name": "stderr",
     "output_type": "stream",
     "text": []
    },
    {
     "name": "stdout",
     "output_type": "stream",
     "text": [
      "\n",
      "Image analyzed: Plate14_Nuc_Wells-A1__Channel_SD_AF647,SD_RFP,SD_GFP,SD_DAPI,SD_BF,SD_NIR\n",
      "\n",
      "Detecting infection load...\n",
      "Total cells: 2687\n",
      "Percentage infected:26.8\n",
      "Extracting per marker intensity information...\n",
      "Detecting spots in puncta markers...\n"
     ]
    },
    {
     "name": "stderr",
     "output_type": "stream",
     "text": []
    },
    {
     "name": "stdout",
     "output_type": "stream",
     "text": [
      "\n",
      "Image analyzed: Plate14_Nuc_Wells-A2__Channel_SD_AF647,SD_RFP,SD_GFP,SD_DAPI,SD_BF,SD_NIR\n",
      "\n",
      "Detecting infection load...\n",
      "Total cells: 2092\n",
      "Percentage infected:25.62\n",
      "Extracting per marker intensity information...\n",
      "Detecting spots in puncta markers...\n"
     ]
    },
    {
     "name": "stderr",
     "output_type": "stream",
     "text": []
    },
    {
     "name": "stdout",
     "output_type": "stream",
     "text": [
      "\n",
      "Image analyzed: Plate14_Nuc_Wells-A3__Channel_SD_AF647,SD_RFP,SD_GFP,SD_DAPI,SD_BF,SD_NIR\n",
      "\n",
      "Detecting infection load...\n",
      "Total cells: 2578\n",
      "Percentage infected:24.13\n",
      "Extracting per marker intensity information...\n",
      "Detecting spots in puncta markers...\n"
     ]
    },
    {
     "name": "stderr",
     "output_type": "stream",
     "text": []
    },
    {
     "name": "stdout",
     "output_type": "stream",
     "text": [
      "\n",
      "Image analyzed: Plate14_Nuc_Wells-A4__Channel_SD_AF647,SD_RFP,SD_GFP,SD_DAPI,SD_BF,SD_NIR\n",
      "\n",
      "Detecting infection load...\n",
      "Total cells: 2784\n",
      "Percentage infected:23.17\n",
      "Extracting per marker intensity information...\n",
      "Detecting spots in puncta markers...\n"
     ]
    },
    {
     "name": "stderr",
     "output_type": "stream",
     "text": []
    },
    {
     "name": "stdout",
     "output_type": "stream",
     "text": [
      "\n",
      "Image analyzed: Plate14_Nuc_Wells-A5__Channel_SD_AF647,SD_RFP,SD_GFP,SD_DAPI,SD_BF,SD_NIR\n",
      "\n",
      "Detecting infection load...\n",
      "Total cells: 2406\n",
      "Percentage infected:23.11\n",
      "Extracting per marker intensity information...\n",
      "Detecting spots in puncta markers...\n"
     ]
    },
    {
     "name": "stderr",
     "output_type": "stream",
     "text": []
    },
    {
     "name": "stdout",
     "output_type": "stream",
     "text": [
      "\n",
      "Image analyzed: Plate14_Nuc_Wells-A6__Channel_SD_AF647,SD_RFP,SD_GFP,SD_DAPI,SD_BF,SD_NIR\n",
      "\n",
      "Detecting infection load...\n",
      "Total cells: 2122\n",
      "Percentage infected:26.39\n",
      "Extracting per marker intensity information...\n",
      "Detecting spots in puncta markers...\n"
     ]
    },
    {
     "name": "stderr",
     "output_type": "stream",
     "text": []
    },
    {
     "name": "stdout",
     "output_type": "stream",
     "text": [
      "\n",
      "Image analyzed: Plate14_Nuc_Wells-A7__Channel_SD_AF647,SD_RFP,SD_GFP,SD_DAPI,SD_BF,SD_NIR\n",
      "\n",
      "Detecting infection load...\n",
      "Total cells: 1866\n",
      "Percentage infected:26.53\n",
      "Extracting per marker intensity information...\n",
      "Detecting spots in puncta markers...\n"
     ]
    },
    {
     "name": "stderr",
     "output_type": "stream",
     "text": []
    },
    {
     "name": "stdout",
     "output_type": "stream",
     "text": [
      "\n",
      "Image analyzed: Plate14_Nuc_Wells-A8__Channel_SD_AF647,SD_RFP,SD_GFP,SD_DAPI,SD_BF,SD_NIR\n",
      "\n",
      "Detecting infection load...\n",
      "Total cells: 1780\n",
      "Percentage infected:28.6\n",
      "Extracting per marker intensity information...\n",
      "Detecting spots in puncta markers...\n"
     ]
    },
    {
     "name": "stderr",
     "output_type": "stream",
     "text": []
    },
    {
     "name": "stdout",
     "output_type": "stream",
     "text": [
      "\n",
      "Image analyzed: Plate14_Nuc_Wells-A9__Channel_SD_AF647,SD_RFP,SD_GFP,SD_DAPI,SD_BF,SD_NIR\n",
      "\n",
      "Detecting infection load...\n",
      "Total cells: 1468\n",
      "Percentage infected:25.89\n",
      "Extracting per marker intensity information...\n",
      "Detecting spots in puncta markers...\n"
     ]
    },
    {
     "name": "stderr",
     "output_type": "stream",
     "text": []
    },
    {
     "name": "stdout",
     "output_type": "stream",
     "text": [
      "\n",
      "Image analyzed: Plate14_Nuc_Wells-A10__Channel_SD_AF647,SD_RFP,SD_GFP,SD_DAPI,SD_BF,SD_NIR\n",
      "\n",
      "Detecting infection load...\n",
      "Total cells: 1127\n",
      "Percentage infected:27.24\n",
      "Extracting per marker intensity information...\n",
      "Detecting spots in puncta markers...\n"
     ]
    },
    {
     "name": "stderr",
     "output_type": "stream",
     "text": []
    },
    {
     "name": "stdout",
     "output_type": "stream",
     "text": [
      "\n",
      "Image analyzed: Plate14_Nuc_Wells-A11__Channel_SD_AF647,SD_RFP,SD_GFP,SD_DAPI,SD_BF,SD_NIR\n",
      "\n",
      "Detecting infection load...\n",
      "Total cells: 1406\n",
      "Percentage infected:27.31\n",
      "Extracting per marker intensity information...\n",
      "Detecting spots in puncta markers...\n"
     ]
    },
    {
     "name": "stderr",
     "output_type": "stream",
     "text": []
    },
    {
     "name": "stdout",
     "output_type": "stream",
     "text": [
      "\n",
      "Image analyzed: Plate14_Nuc_Wells-A12__Channel_SD_AF647,SD_RFP,SD_GFP,SD_DAPI,SD_BF,SD_NIR\n",
      "\n",
      "Detecting infection load...\n",
      "Total cells: 1155\n",
      "Percentage infected:25.45\n",
      "Extracting per marker intensity information...\n",
      "Detecting spots in puncta markers...\n"
     ]
    },
    {
     "name": "stderr",
     "output_type": "stream",
     "text": []
    },
    {
     "name": "stdout",
     "output_type": "stream",
     "text": [
      "\n",
      "Image analyzed: Plate14_Nuc_Wells-B1__Channel_SD_AF647,SD_RFP,SD_GFP,SD_DAPI,SD_BF,SD_NIR\n",
      "\n",
      "Detecting infection load...\n",
      "Total cells: 1597\n",
      "Percentage infected:28.55\n",
      "Extracting per marker intensity information...\n",
      "Detecting spots in puncta markers...\n"
     ]
    },
    {
     "name": "stderr",
     "output_type": "stream",
     "text": []
    },
    {
     "name": "stdout",
     "output_type": "stream",
     "text": [
      "\n",
      "Image analyzed: Plate14_Nuc_Wells-B2__Channel_SD_AF647,SD_RFP,SD_GFP,SD_DAPI,SD_BF,SD_NIR\n",
      "\n",
      "Detecting infection load...\n",
      "Total cells: 1880\n",
      "Percentage infected:28.62\n",
      "Extracting per marker intensity information...\n",
      "Detecting spots in puncta markers...\n"
     ]
    },
    {
     "name": "stderr",
     "output_type": "stream",
     "text": [
      "100%|██████████| 96/96 [47:18<00:00, 29.57s/it]\n",
      " 88%|████████▊ | 15/17 [11:57:57<1:35:07, 2853.71s/it]"
     ]
    },
    {
     "name": "stdout",
     "output_type": "stream",
     "text": [
      "Analyzing Plate: Plate 15_Nuc\n"
     ]
    },
    {
     "name": "stderr",
     "output_type": "stream",
     "text": []
    },
    {
     "name": "stdout",
     "output_type": "stream",
     "text": [
      "\n",
      "Image analyzed: Plate15_Nuc_Wells-E9__Channel_SD_AF647,SD_RFP,SD_GFP,SD_DAPI,SD_BF,SD_NIR\n",
      "\n",
      "Detecting infection load...\n",
      "Total cells: 2210\n",
      "Percentage infected:27.51\n",
      "Extracting per marker intensity information...\n",
      "Detecting spots in puncta markers...\n"
     ]
    },
    {
     "name": "stderr",
     "output_type": "stream",
     "text": []
    },
    {
     "name": "stdout",
     "output_type": "stream",
     "text": [
      "\n",
      "Image analyzed: Plate15_Nuc_Wells-E10__Channel_SD_AF647,SD_RFP,SD_GFP,SD_DAPI,SD_BF,SD_NIR\n",
      "\n",
      "Detecting infection load...\n",
      "Total cells: 1759\n",
      "Percentage infected:23.48\n",
      "Extracting per marker intensity information...\n",
      "Detecting spots in puncta markers...\n"
     ]
    },
    {
     "name": "stderr",
     "output_type": "stream",
     "text": []
    },
    {
     "name": "stdout",
     "output_type": "stream",
     "text": [
      "\n",
      "Image analyzed: Plate15_Nuc_Wells-E11__Channel_SD_AF647,SD_RFP,SD_GFP,SD_DAPI,SD_BF,SD_NIR\n",
      "\n",
      "Detecting infection load...\n",
      "Total cells: 1385\n",
      "Percentage infected:20.14\n",
      "Extracting per marker intensity information...\n",
      "Detecting spots in puncta markers...\n"
     ]
    },
    {
     "name": "stderr",
     "output_type": "stream",
     "text": []
    },
    {
     "name": "stdout",
     "output_type": "stream",
     "text": [
      "\n",
      "Image analyzed: Plate15_Nuc_Wells-E12__Channel_SD_AF647,SD_RFP,SD_GFP,SD_DAPI,SD_BF,SD_NIR\n",
      "\n",
      "Detecting infection load...\n",
      "Total cells: 1376\n",
      "Percentage infected:21.58\n",
      "Extracting per marker intensity information...\n",
      "Detecting spots in puncta markers...\n"
     ]
    },
    {
     "name": "stderr",
     "output_type": "stream",
     "text": []
    },
    {
     "name": "stdout",
     "output_type": "stream",
     "text": [
      "\n",
      "Image analyzed: Plate15_Nuc_Wells-F1__Channel_SD_AF647,SD_RFP,SD_GFP,SD_DAPI,SD_BF,SD_NIR\n",
      "\n",
      "Detecting infection load...\n",
      "Total cells: 2422\n",
      "Percentage infected:24.28\n",
      "Extracting per marker intensity information...\n",
      "Detecting spots in puncta markers...\n"
     ]
    },
    {
     "name": "stderr",
     "output_type": "stream",
     "text": []
    },
    {
     "name": "stdout",
     "output_type": "stream",
     "text": [
      "\n",
      "Image analyzed: Plate15_Nuc_Wells-F2__Channel_SD_AF647,SD_RFP,SD_GFP,SD_DAPI,SD_BF,SD_NIR\n",
      "\n",
      "Detecting infection load...\n",
      "Total cells: 2128\n",
      "Percentage infected:27.77\n",
      "Extracting per marker intensity information...\n",
      "Detecting spots in puncta markers...\n"
     ]
    },
    {
     "name": "stderr",
     "output_type": "stream",
     "text": []
    },
    {
     "name": "stdout",
     "output_type": "stream",
     "text": [
      "\n",
      "Image analyzed: Plate15_Nuc_Wells-F3__Channel_SD_AF647,SD_RFP,SD_GFP,SD_DAPI,SD_BF,SD_NIR\n",
      "\n",
      "Detecting infection load...\n",
      "Total cells: 2313\n",
      "Percentage infected:23.3\n",
      "Extracting per marker intensity information...\n",
      "Detecting spots in puncta markers...\n"
     ]
    },
    {
     "name": "stderr",
     "output_type": "stream",
     "text": []
    },
    {
     "name": "stdout",
     "output_type": "stream",
     "text": [
      "\n",
      "Image analyzed: Plate15_Nuc_Wells-F4__Channel_SD_AF647,SD_RFP,SD_GFP,SD_DAPI,SD_BF,SD_NIR\n",
      "\n",
      "Detecting infection load...\n",
      "Total cells: 2084\n",
      "Percentage infected:25.14\n",
      "Extracting per marker intensity information...\n",
      "Detecting spots in puncta markers...\n"
     ]
    },
    {
     "name": "stderr",
     "output_type": "stream",
     "text": []
    },
    {
     "name": "stdout",
     "output_type": "stream",
     "text": [
      "\n",
      "Image analyzed: Plate15_Nuc_Wells-F5__Channel_SD_AF647,SD_RFP,SD_GFP,SD_DAPI,SD_BF,SD_NIR\n",
      "\n",
      "Detecting infection load...\n",
      "Total cells: 2008\n",
      "Percentage infected:27.14\n",
      "Extracting per marker intensity information...\n",
      "Detecting spots in puncta markers...\n"
     ]
    },
    {
     "name": "stderr",
     "output_type": "stream",
     "text": []
    },
    {
     "name": "stdout",
     "output_type": "stream",
     "text": [
      "\n",
      "Image analyzed: Plate15_Nuc_Wells-F6__Channel_SD_AF647,SD_RFP,SD_GFP,SD_DAPI,SD_BF,SD_NIR\n",
      "\n",
      "Detecting infection load...\n",
      "Total cells: 1725\n",
      "Percentage infected:26.9\n",
      "Extracting per marker intensity information...\n",
      "Detecting spots in puncta markers...\n"
     ]
    },
    {
     "name": "stderr",
     "output_type": "stream",
     "text": []
    },
    {
     "name": "stdout",
     "output_type": "stream",
     "text": [
      "\n",
      "Image analyzed: Plate15_Nuc_Wells-F7__Channel_SD_AF647,SD_RFP,SD_GFP,SD_DAPI,SD_BF,SD_NIR\n",
      "\n",
      "Detecting infection load...\n",
      "Total cells: 2193\n",
      "Percentage infected:30.19\n",
      "Extracting per marker intensity information...\n",
      "Detecting spots in puncta markers...\n"
     ]
    },
    {
     "name": "stderr",
     "output_type": "stream",
     "text": []
    },
    {
     "name": "stdout",
     "output_type": "stream",
     "text": [
      "\n",
      "Image analyzed: Plate15_Nuc_Wells-F8__Channel_SD_AF647,SD_RFP,SD_GFP,SD_DAPI,SD_BF,SD_NIR\n",
      "\n",
      "Detecting infection load...\n",
      "Total cells: 1983\n",
      "Percentage infected:24.61\n",
      "Extracting per marker intensity information...\n",
      "Detecting spots in puncta markers...\n"
     ]
    },
    {
     "name": "stderr",
     "output_type": "stream",
     "text": []
    },
    {
     "name": "stdout",
     "output_type": "stream",
     "text": [
      "\n",
      "Image analyzed: Plate15_Nuc_Wells-F9__Channel_SD_AF647,SD_RFP,SD_GFP,SD_DAPI,SD_BF,SD_NIR\n",
      "\n",
      "Detecting infection load...\n",
      "Total cells: 2089\n",
      "Percentage infected:27.81\n",
      "Extracting per marker intensity information...\n",
      "Detecting spots in puncta markers...\n"
     ]
    },
    {
     "name": "stderr",
     "output_type": "stream",
     "text": []
    },
    {
     "name": "stdout",
     "output_type": "stream",
     "text": [
      "\n",
      "Image analyzed: Plate15_Nuc_Wells-F10__Channel_SD_AF647,SD_RFP,SD_GFP,SD_DAPI,SD_BF,SD_NIR\n",
      "\n",
      "Detecting infection load...\n",
      "Total cells: 1676\n",
      "Percentage infected:26.25\n",
      "Extracting per marker intensity information...\n",
      "Detecting spots in puncta markers...\n"
     ]
    },
    {
     "name": "stderr",
     "output_type": "stream",
     "text": []
    },
    {
     "name": "stdout",
     "output_type": "stream",
     "text": [
      "\n",
      "Image analyzed: Plate15_Nuc_Wells-F11__Channel_SD_AF647,SD_RFP,SD_GFP,SD_DAPI,SD_BF,SD_NIR\n",
      "\n",
      "Detecting infection load...\n",
      "Total cells: 1378\n",
      "Percentage infected:19.52\n",
      "Extracting per marker intensity information...\n",
      "Detecting spots in puncta markers...\n"
     ]
    },
    {
     "name": "stderr",
     "output_type": "stream",
     "text": []
    },
    {
     "name": "stdout",
     "output_type": "stream",
     "text": [
      "\n",
      "Image analyzed: Plate15_Nuc_Wells-F12__Channel_SD_AF647,SD_RFP,SD_GFP,SD_DAPI,SD_BF,SD_NIR\n",
      "\n",
      "Detecting infection load...\n",
      "Total cells: 1288\n",
      "Percentage infected:23.14\n",
      "Extracting per marker intensity information...\n",
      "Detecting spots in puncta markers...\n"
     ]
    },
    {
     "name": "stderr",
     "output_type": "stream",
     "text": []
    },
    {
     "name": "stdout",
     "output_type": "stream",
     "text": [
      "\n",
      "Image analyzed: Plate15_Nuc_Wells-G1__Channel_SD_AF647,SD_RFP,SD_GFP,SD_DAPI,SD_BF,SD_NIR\n",
      "\n",
      "Detecting infection load...\n",
      "Total cells: 2459\n",
      "Percentage infected:19.28\n",
      "Extracting per marker intensity information...\n",
      "Detecting spots in puncta markers...\n"
     ]
    },
    {
     "name": "stderr",
     "output_type": "stream",
     "text": []
    },
    {
     "name": "stdout",
     "output_type": "stream",
     "text": [
      "\n",
      "Image analyzed: Plate15_Nuc_Wells-G2__Channel_SD_AF647,SD_RFP,SD_GFP,SD_DAPI,SD_BF,SD_NIR\n",
      "\n",
      "Detecting infection load...\n",
      "Total cells: 2484\n",
      "Percentage infected:27.7\n",
      "Extracting per marker intensity information...\n",
      "Detecting spots in puncta markers...\n"
     ]
    },
    {
     "name": "stderr",
     "output_type": "stream",
     "text": []
    },
    {
     "name": "stdout",
     "output_type": "stream",
     "text": [
      "\n",
      "Image analyzed: Plate15_Nuc_Wells-G3__Channel_SD_AF647,SD_RFP,SD_GFP,SD_DAPI,SD_BF,SD_NIR\n",
      "\n",
      "Detecting infection load...\n",
      "Total cells: 2634\n",
      "Percentage infected:22.97\n",
      "Extracting per marker intensity information...\n",
      "Detecting spots in puncta markers...\n"
     ]
    },
    {
     "name": "stderr",
     "output_type": "stream",
     "text": []
    },
    {
     "name": "stdout",
     "output_type": "stream",
     "text": [
      "\n",
      "Image analyzed: Plate15_Nuc_Wells-G4__Channel_SD_AF647,SD_RFP,SD_GFP,SD_DAPI,SD_BF,SD_NIR\n",
      "\n",
      "Detecting infection load...\n",
      "Total cells: 2384\n",
      "Percentage infected:22.73\n",
      "Extracting per marker intensity information...\n",
      "Detecting spots in puncta markers...\n"
     ]
    },
    {
     "name": "stderr",
     "output_type": "stream",
     "text": []
    },
    {
     "name": "stdout",
     "output_type": "stream",
     "text": [
      "\n",
      "Image analyzed: Plate15_Nuc_Wells-G5__Channel_SD_AF647,SD_RFP,SD_GFP,SD_DAPI,SD_BF,SD_NIR\n",
      "\n",
      "Detecting infection load...\n",
      "Total cells: 2452\n",
      "Percentage infected:27.9\n",
      "Extracting per marker intensity information...\n",
      "Detecting spots in puncta markers...\n"
     ]
    },
    {
     "name": "stderr",
     "output_type": "stream",
     "text": []
    },
    {
     "name": "stdout",
     "output_type": "stream",
     "text": [
      "\n",
      "Image analyzed: Plate15_Nuc_Wells-G6__Channel_SD_AF647,SD_RFP,SD_GFP,SD_DAPI,SD_BF,SD_NIR\n",
      "\n",
      "Detecting infection load...\n",
      "Total cells: 1589\n",
      "Percentage infected:28.07\n",
      "Extracting per marker intensity information...\n",
      "Detecting spots in puncta markers...\n"
     ]
    },
    {
     "name": "stderr",
     "output_type": "stream",
     "text": []
    },
    {
     "name": "stdout",
     "output_type": "stream",
     "text": [
      "\n",
      "Image analyzed: Plate15_Nuc_Wells-G7__Channel_SD_AF647,SD_RFP,SD_GFP,SD_DAPI,SD_BF,SD_NIR\n",
      "\n",
      "Detecting infection load...\n",
      "Total cells: 2502\n",
      "Percentage infected:33.45\n",
      "Extracting per marker intensity information...\n",
      "Detecting spots in puncta markers...\n"
     ]
    },
    {
     "name": "stderr",
     "output_type": "stream",
     "text": []
    },
    {
     "name": "stdout",
     "output_type": "stream",
     "text": [
      "\n",
      "Image analyzed: Plate15_Nuc_Wells-G8__Channel_SD_AF647,SD_RFP,SD_GFP,SD_DAPI,SD_BF,SD_NIR\n",
      "\n",
      "Detecting infection load...\n",
      "Total cells: 1849\n",
      "Percentage infected:23.96\n",
      "Extracting per marker intensity information...\n",
      "Detecting spots in puncta markers...\n"
     ]
    },
    {
     "name": "stderr",
     "output_type": "stream",
     "text": []
    },
    {
     "name": "stdout",
     "output_type": "stream",
     "text": [
      "\n",
      "Image analyzed: Plate15_Nuc_Wells-G9__Channel_SD_AF647,SD_RFP,SD_GFP,SD_DAPI,SD_BF,SD_NIR\n",
      "\n",
      "Detecting infection load...\n",
      "Total cells: 2593\n",
      "Percentage infected:30.47\n",
      "Extracting per marker intensity information...\n",
      "Detecting spots in puncta markers...\n"
     ]
    },
    {
     "name": "stderr",
     "output_type": "stream",
     "text": []
    },
    {
     "name": "stdout",
     "output_type": "stream",
     "text": [
      "\n",
      "Image analyzed: Plate15_Nuc_Wells-G10__Channel_SD_AF647,SD_RFP,SD_GFP,SD_DAPI,SD_BF,SD_NIR\n",
      "\n",
      "Detecting infection load...\n",
      "Total cells: 1845\n",
      "Percentage infected:27.43\n",
      "Extracting per marker intensity information...\n",
      "Detecting spots in puncta markers...\n"
     ]
    },
    {
     "name": "stderr",
     "output_type": "stream",
     "text": []
    },
    {
     "name": "stdout",
     "output_type": "stream",
     "text": [
      "\n",
      "Image analyzed: Plate15_Nuc_Wells-G11__Channel_SD_AF647,SD_RFP,SD_GFP,SD_DAPI,SD_BF,SD_NIR\n",
      "\n",
      "Detecting infection load...\n",
      "Total cells: 1862\n",
      "Percentage infected:24.22\n",
      "Extracting per marker intensity information...\n",
      "Detecting spots in puncta markers...\n"
     ]
    },
    {
     "name": "stderr",
     "output_type": "stream",
     "text": []
    },
    {
     "name": "stdout",
     "output_type": "stream",
     "text": [
      "\n",
      "Image analyzed: Plate15_Nuc_Wells-G12__Channel_SD_AF647,SD_RFP,SD_GFP,SD_DAPI,SD_BF,SD_NIR\n",
      "\n",
      "Detecting infection load...\n",
      "Total cells: 1685\n",
      "Percentage infected:26.47\n",
      "Extracting per marker intensity information...\n",
      "Detecting spots in puncta markers...\n"
     ]
    },
    {
     "name": "stderr",
     "output_type": "stream",
     "text": []
    },
    {
     "name": "stdout",
     "output_type": "stream",
     "text": [
      "\n",
      "Image analyzed: Plate15_Nuc_Wells-H1__Channel_SD_AF647,SD_RFP,SD_GFP,SD_DAPI,SD_BF,SD_NIR\n",
      "\n",
      "Detecting infection load...\n",
      "Total cells: 2780\n",
      "Percentage infected:0.04\n",
      "Extracting per marker intensity information...\n",
      "Detecting spots in puncta markers...\n"
     ]
    },
    {
     "name": "stderr",
     "output_type": "stream",
     "text": []
    },
    {
     "name": "stdout",
     "output_type": "stream",
     "text": [
      "\n",
      "Image analyzed: Plate15_Nuc_Wells-H2__Channel_SD_AF647,SD_RFP,SD_GFP,SD_DAPI,SD_BF,SD_NIR\n",
      "\n",
      "Detecting infection load...\n",
      "Total cells: 3210\n",
      "Percentage infected:16.2\n",
      "Extracting per marker intensity information...\n",
      "Detecting spots in puncta markers...\n"
     ]
    },
    {
     "name": "stderr",
     "output_type": "stream",
     "text": []
    },
    {
     "name": "stdout",
     "output_type": "stream",
     "text": [
      "\n",
      "Image analyzed: Plate15_Nuc_Wells-H3__Channel_SD_AF647,SD_RFP,SD_GFP,SD_DAPI,SD_BF,SD_NIR\n",
      "\n",
      "Detecting infection load...\n",
      "Total cells: 2706\n",
      "Percentage infected:15.78\n",
      "Extracting per marker intensity information...\n",
      "Detecting spots in puncta markers...\n"
     ]
    },
    {
     "name": "stderr",
     "output_type": "stream",
     "text": []
    },
    {
     "name": "stdout",
     "output_type": "stream",
     "text": [
      "\n",
      "Image analyzed: Plate15_Nuc_Wells-H4__Channel_SD_AF647,SD_RFP,SD_GFP,SD_DAPI,SD_BF,SD_NIR\n",
      "\n",
      "Detecting infection load...\n",
      "Total cells: 2885\n",
      "Percentage infected:19.83\n",
      "Extracting per marker intensity information...\n",
      "Detecting spots in puncta markers...\n"
     ]
    },
    {
     "name": "stderr",
     "output_type": "stream",
     "text": []
    },
    {
     "name": "stdout",
     "output_type": "stream",
     "text": [
      "\n",
      "Image analyzed: Plate15_Nuc_Wells-H5__Channel_SD_AF647,SD_RFP,SD_GFP,SD_DAPI,SD_BF,SD_NIR\n",
      "\n",
      "Detecting infection load...\n",
      "Total cells: 2333\n",
      "Percentage infected:25.85\n",
      "Extracting per marker intensity information...\n",
      "Detecting spots in puncta markers...\n"
     ]
    },
    {
     "name": "stderr",
     "output_type": "stream",
     "text": []
    },
    {
     "name": "stdout",
     "output_type": "stream",
     "text": [
      "\n",
      "Image analyzed: Plate15_Nuc_Wells-H6__Channel_SD_AF647,SD_RFP,SD_GFP,SD_DAPI,SD_BF,SD_NIR\n",
      "\n",
      "Detecting infection load...\n",
      "Total cells: 2143\n",
      "Percentage infected:26.22\n",
      "Extracting per marker intensity information...\n",
      "Detecting spots in puncta markers...\n"
     ]
    },
    {
     "name": "stderr",
     "output_type": "stream",
     "text": []
    },
    {
     "name": "stdout",
     "output_type": "stream",
     "text": [
      "\n",
      "Image analyzed: Plate15_Nuc_Wells-H7__Channel_SD_AF647,SD_RFP,SD_GFP,SD_DAPI,SD_BF,SD_NIR\n",
      "\n",
      "Detecting infection load...\n",
      "Total cells: 3212\n",
      "Percentage infected:26.65\n",
      "Extracting per marker intensity information...\n",
      "Detecting spots in puncta markers...\n"
     ]
    },
    {
     "name": "stderr",
     "output_type": "stream",
     "text": []
    },
    {
     "name": "stdout",
     "output_type": "stream",
     "text": [
      "\n",
      "Image analyzed: Plate15_Nuc_Wells-H8__Channel_SD_AF647,SD_RFP,SD_GFP,SD_DAPI,SD_BF,SD_NIR\n",
      "\n",
      "Detecting infection load...\n",
      "Total cells: 2229\n",
      "Percentage infected:24.99\n",
      "Extracting per marker intensity information...\n",
      "Detecting spots in puncta markers...\n"
     ]
    },
    {
     "name": "stderr",
     "output_type": "stream",
     "text": []
    },
    {
     "name": "stdout",
     "output_type": "stream",
     "text": [
      "\n",
      "Image analyzed: Plate15_Nuc_Wells-H9__Channel_SD_AF647,SD_RFP,SD_GFP,SD_DAPI,SD_BF,SD_NIR\n",
      "\n",
      "Detecting infection load...\n",
      "Total cells: 2932\n",
      "Percentage infected:29.02\n",
      "Extracting per marker intensity information...\n",
      "Detecting spots in puncta markers...\n"
     ]
    },
    {
     "name": "stderr",
     "output_type": "stream",
     "text": []
    },
    {
     "name": "stdout",
     "output_type": "stream",
     "text": [
      "\n",
      "Image analyzed: Plate15_Nuc_Wells-H10__Channel_SD_AF647,SD_RFP,SD_GFP,SD_DAPI,SD_BF,SD_NIR\n",
      "\n",
      "Detecting infection load...\n",
      "Total cells: 1584\n",
      "Percentage infected:27.65\n",
      "Extracting per marker intensity information...\n",
      "Detecting spots in puncta markers...\n"
     ]
    },
    {
     "name": "stderr",
     "output_type": "stream",
     "text": []
    },
    {
     "name": "stdout",
     "output_type": "stream",
     "text": [
      "\n",
      "Image analyzed: Plate15_Nuc_Wells-H11__Channel_SD_AF647,SD_RFP,SD_GFP,SD_DAPI,SD_BF,SD_NIR\n",
      "\n",
      "Detecting infection load...\n",
      "Total cells: 1751\n",
      "Percentage infected:23.59\n",
      "Extracting per marker intensity information...\n",
      "Detecting spots in puncta markers...\n"
     ]
    },
    {
     "name": "stderr",
     "output_type": "stream",
     "text": []
    },
    {
     "name": "stdout",
     "output_type": "stream",
     "text": [
      "\n",
      "Image analyzed: Plate15_Nuc_Wells-H12__Channel_SD_AF647,SD_RFP,SD_GFP,SD_DAPI,SD_BF,SD_NIR\n",
      "\n",
      "Detecting infection load...\n",
      "Total cells: 1390\n",
      "Percentage infected:25.4\n",
      "Extracting per marker intensity information...\n",
      "Detecting spots in puncta markers...\n"
     ]
    },
    {
     "name": "stderr",
     "output_type": "stream",
     "text": []
    },
    {
     "name": "stdout",
     "output_type": "stream",
     "text": [
      "\n",
      "Image analyzed: Plate15_Nuc_Wells-A1__Channel_SD_AF647,SD_RFP,SD_GFP,SD_DAPI,SD_BF,SD_NIR\n",
      "\n",
      "Detecting infection load...\n",
      "Total cells: 3228\n",
      "Percentage infected:19.55\n",
      "Extracting per marker intensity information...\n",
      "Detecting spots in puncta markers...\n"
     ]
    },
    {
     "name": "stderr",
     "output_type": "stream",
     "text": []
    },
    {
     "name": "stdout",
     "output_type": "stream",
     "text": [
      "\n",
      "Image analyzed: Plate15_Nuc_Wells-A2__Channel_SD_AF647,SD_RFP,SD_GFP,SD_DAPI,SD_BF,SD_NIR\n",
      "\n",
      "Detecting infection load...\n",
      "Total cells: 2856\n",
      "Percentage infected:23.04\n",
      "Extracting per marker intensity information...\n",
      "Detecting spots in puncta markers...\n"
     ]
    },
    {
     "name": "stderr",
     "output_type": "stream",
     "text": []
    },
    {
     "name": "stdout",
     "output_type": "stream",
     "text": [
      "\n",
      "Image analyzed: Plate15_Nuc_Wells-A3__Channel_SD_AF647,SD_RFP,SD_GFP,SD_DAPI,SD_BF,SD_NIR\n",
      "\n",
      "Detecting infection load...\n",
      "Total cells: 3394\n",
      "Percentage infected:17.27\n",
      "Extracting per marker intensity information...\n",
      "Detecting spots in puncta markers...\n"
     ]
    },
    {
     "name": "stderr",
     "output_type": "stream",
     "text": []
    },
    {
     "name": "stdout",
     "output_type": "stream",
     "text": [
      "\n",
      "Image analyzed: Plate15_Nuc_Wells-A4__Channel_SD_AF647,SD_RFP,SD_GFP,SD_DAPI,SD_BF,SD_NIR\n",
      "\n",
      "Detecting infection load...\n",
      "Total cells: 3569\n",
      "Percentage infected:10.31\n",
      "Extracting per marker intensity information...\n",
      "Detecting spots in puncta markers...\n"
     ]
    },
    {
     "name": "stderr",
     "output_type": "stream",
     "text": []
    },
    {
     "name": "stdout",
     "output_type": "stream",
     "text": [
      "\n",
      "Image analyzed: Plate15_Nuc_Wells-A5__Channel_SD_AF647,SD_RFP,SD_GFP,SD_DAPI,SD_BF,SD_NIR\n",
      "\n",
      "Detecting infection load...\n",
      "Total cells: 2758\n",
      "Percentage infected:25.24\n",
      "Extracting per marker intensity information...\n",
      "Detecting spots in puncta markers...\n"
     ]
    },
    {
     "name": "stderr",
     "output_type": "stream",
     "text": []
    },
    {
     "name": "stdout",
     "output_type": "stream",
     "text": [
      "\n",
      "Image analyzed: Plate15_Nuc_Wells-B10__Channel_SD_AF647,SD_RFP,SD_GFP,SD_DAPI,SD_BF,SD_NIR\n",
      "\n",
      "Detecting infection load...\n",
      "Total cells: 1480\n",
      "Percentage infected:13.99\n",
      "Extracting per marker intensity information...\n",
      "Detecting spots in puncta markers...\n"
     ]
    },
    {
     "name": "stderr",
     "output_type": "stream",
     "text": []
    },
    {
     "name": "stdout",
     "output_type": "stream",
     "text": [
      "\n",
      "Image analyzed: Plate15_Nuc_Wells-B11__Channel_SD_AF647,SD_RFP,SD_GFP,SD_DAPI,SD_BF,SD_NIR\n",
      "\n",
      "Detecting infection load...\n",
      "Total cells: 1487\n",
      "Percentage infected:14.19\n",
      "Extracting per marker intensity information...\n",
      "Detecting spots in puncta markers...\n"
     ]
    },
    {
     "name": "stderr",
     "output_type": "stream",
     "text": []
    },
    {
     "name": "stdout",
     "output_type": "stream",
     "text": [
      "\n",
      "Image analyzed: Plate15_Nuc_Wells-B12__Channel_SD_AF647,SD_RFP,SD_GFP,SD_DAPI,SD_BF,SD_NIR\n",
      "\n",
      "Detecting infection load...\n",
      "Total cells: 527\n",
      "Percentage infected:14.99\n",
      "Extracting per marker intensity information...\n",
      "Detecting spots in puncta markers...\n"
     ]
    },
    {
     "name": "stderr",
     "output_type": "stream",
     "text": []
    },
    {
     "name": "stdout",
     "output_type": "stream",
     "text": [
      "\n",
      "Image analyzed: Plate15_Nuc_Wells-C1__Channel_SD_AF647,SD_RFP,SD_GFP,SD_DAPI,SD_BF,SD_NIR\n",
      "\n",
      "Detecting infection load...\n",
      "Total cells: 2104\n",
      "Percentage infected:18.58\n",
      "Extracting per marker intensity information...\n",
      "Detecting spots in puncta markers...\n"
     ]
    },
    {
     "name": "stderr",
     "output_type": "stream",
     "text": []
    },
    {
     "name": "stdout",
     "output_type": "stream",
     "text": [
      "\n",
      "Image analyzed: Plate15_Nuc_Wells-C2__Channel_SD_AF647,SD_RFP,SD_GFP,SD_DAPI,SD_BF,SD_NIR\n",
      "\n",
      "Detecting infection load...\n",
      "Total cells: 1663\n",
      "Percentage infected:19.3\n",
      "Extracting per marker intensity information...\n",
      "Detecting spots in puncta markers...\n"
     ]
    },
    {
     "name": "stderr",
     "output_type": "stream",
     "text": []
    },
    {
     "name": "stdout",
     "output_type": "stream",
     "text": [
      "\n",
      "Image analyzed: Plate15_Nuc_Wells-C3__Channel_SD_AF647,SD_RFP,SD_GFP,SD_DAPI,SD_BF,SD_NIR\n",
      "\n",
      "Detecting infection load...\n",
      "Total cells: 2398\n",
      "Percentage infected:19.52\n",
      "Extracting per marker intensity information...\n",
      "Detecting spots in puncta markers...\n"
     ]
    },
    {
     "name": "stderr",
     "output_type": "stream",
     "text": []
    },
    {
     "name": "stdout",
     "output_type": "stream",
     "text": [
      "\n",
      "Image analyzed: Plate15_Nuc_Wells-C4__Channel_SD_AF647,SD_RFP,SD_GFP,SD_DAPI,SD_BF,SD_NIR\n",
      "\n",
      "Detecting infection load...\n",
      "Total cells: 1956\n",
      "Percentage infected:20.14\n",
      "Extracting per marker intensity information...\n",
      "Detecting spots in puncta markers...\n"
     ]
    },
    {
     "name": "stderr",
     "output_type": "stream",
     "text": []
    },
    {
     "name": "stdout",
     "output_type": "stream",
     "text": [
      "\n",
      "Image analyzed: Plate15_Nuc_Wells-C5__Channel_SD_AF647,SD_RFP,SD_GFP,SD_DAPI,SD_BF,SD_NIR\n",
      "\n",
      "Detecting infection load...\n",
      "Total cells: 2415\n",
      "Percentage infected:17.85\n",
      "Extracting per marker intensity information...\n",
      "Detecting spots in puncta markers...\n"
     ]
    },
    {
     "name": "stderr",
     "output_type": "stream",
     "text": []
    },
    {
     "name": "stdout",
     "output_type": "stream",
     "text": [
      "\n",
      "Image analyzed: Plate15_Nuc_Wells-C6__Channel_SD_AF647,SD_RFP,SD_GFP,SD_DAPI,SD_BF,SD_NIR\n",
      "\n",
      "Detecting infection load...\n",
      "Total cells: 2357\n",
      "Percentage infected:19.18\n",
      "Extracting per marker intensity information...\n",
      "Detecting spots in puncta markers...\n"
     ]
    },
    {
     "name": "stderr",
     "output_type": "stream",
     "text": []
    },
    {
     "name": "stdout",
     "output_type": "stream",
     "text": [
      "\n",
      "Image analyzed: Plate15_Nuc_Wells-C7__Channel_SD_AF647,SD_RFP,SD_GFP,SD_DAPI,SD_BF,SD_NIR\n",
      "\n",
      "Detecting infection load...\n",
      "Total cells: 1857\n",
      "Percentage infected:20.14\n",
      "Extracting per marker intensity information...\n",
      "Detecting spots in puncta markers...\n"
     ]
    },
    {
     "name": "stderr",
     "output_type": "stream",
     "text": []
    },
    {
     "name": "stdout",
     "output_type": "stream",
     "text": [
      "\n",
      "Image analyzed: Plate15_Nuc_Wells-C8__Channel_SD_AF647,SD_RFP,SD_GFP,SD_DAPI,SD_BF,SD_NIR\n",
      "\n",
      "Detecting infection load...\n",
      "Total cells: 1621\n",
      "Percentage infected:20.17\n",
      "Extracting per marker intensity information...\n",
      "Detecting spots in puncta markers...\n"
     ]
    },
    {
     "name": "stderr",
     "output_type": "stream",
     "text": []
    },
    {
     "name": "stdout",
     "output_type": "stream",
     "text": [
      "\n",
      "Image analyzed: Plate15_Nuc_Wells-C9__Channel_SD_AF647,SD_RFP,SD_GFP,SD_DAPI,SD_BF,SD_NIR\n",
      "\n",
      "Detecting infection load...\n",
      "Total cells: 2118\n",
      "Percentage infected:23.42\n",
      "Extracting per marker intensity information...\n",
      "Detecting spots in puncta markers...\n"
     ]
    },
    {
     "name": "stderr",
     "output_type": "stream",
     "text": []
    },
    {
     "name": "stdout",
     "output_type": "stream",
     "text": [
      "\n",
      "Image analyzed: Plate15_Nuc_Wells-C10__Channel_SD_AF647,SD_RFP,SD_GFP,SD_DAPI,SD_BF,SD_NIR\n",
      "\n",
      "Detecting infection load...\n",
      "Total cells: 1814\n",
      "Percentage infected:17.31\n",
      "Extracting per marker intensity information...\n",
      "Detecting spots in puncta markers...\n"
     ]
    },
    {
     "name": "stderr",
     "output_type": "stream",
     "text": []
    },
    {
     "name": "stdout",
     "output_type": "stream",
     "text": [
      "\n",
      "Image analyzed: Plate15_Nuc_Wells-C11__Channel_SD_AF647,SD_RFP,SD_GFP,SD_DAPI,SD_BF,SD_NIR\n",
      "\n",
      "Detecting infection load...\n",
      "Total cells: 1417\n",
      "Percentage infected:18.7\n",
      "Extracting per marker intensity information...\n",
      "Detecting spots in puncta markers...\n"
     ]
    },
    {
     "name": "stderr",
     "output_type": "stream",
     "text": []
    },
    {
     "name": "stdout",
     "output_type": "stream",
     "text": [
      "\n",
      "Image analyzed: Plate15_Nuc_Wells-C12__Channel_SD_AF647,SD_RFP,SD_GFP,SD_DAPI,SD_BF,SD_NIR\n",
      "\n",
      "Detecting infection load...\n",
      "Total cells: 1082\n",
      "Percentage infected:13.59\n",
      "Extracting per marker intensity information...\n",
      "Detecting spots in puncta markers...\n"
     ]
    },
    {
     "name": "stderr",
     "output_type": "stream",
     "text": []
    },
    {
     "name": "stdout",
     "output_type": "stream",
     "text": [
      "\n",
      "Image analyzed: Plate15_Nuc_Wells-D1__Channel_SD_AF647,SD_RFP,SD_GFP,SD_DAPI,SD_BF,SD_NIR\n",
      "\n",
      "Detecting infection load...\n",
      "Total cells: 1846\n",
      "Percentage infected:16.52\n",
      "Extracting per marker intensity information...\n",
      "Detecting spots in puncta markers...\n"
     ]
    },
    {
     "name": "stderr",
     "output_type": "stream",
     "text": []
    },
    {
     "name": "stdout",
     "output_type": "stream",
     "text": [
      "\n",
      "Image analyzed: Plate15_Nuc_Wells-D2__Channel_SD_AF647,SD_RFP,SD_GFP,SD_DAPI,SD_BF,SD_NIR\n",
      "\n",
      "Detecting infection load...\n",
      "Total cells: 1874\n",
      "Percentage infected:20.49\n",
      "Extracting per marker intensity information...\n",
      "Detecting spots in puncta markers...\n"
     ]
    },
    {
     "name": "stderr",
     "output_type": "stream",
     "text": []
    },
    {
     "name": "stdout",
     "output_type": "stream",
     "text": [
      "\n",
      "Image analyzed: Plate15_Nuc_Wells-D3__Channel_SD_AF647,SD_RFP,SD_GFP,SD_DAPI,SD_BF,SD_NIR\n",
      "\n",
      "Detecting infection load...\n",
      "Total cells: 1877\n",
      "Percentage infected:17.21\n",
      "Extracting per marker intensity information...\n",
      "Detecting spots in puncta markers...\n"
     ]
    },
    {
     "name": "stderr",
     "output_type": "stream",
     "text": []
    },
    {
     "name": "stdout",
     "output_type": "stream",
     "text": [
      "\n",
      "Image analyzed: Plate15_Nuc_Wells-D4__Channel_SD_AF647,SD_RFP,SD_GFP,SD_DAPI,SD_BF,SD_NIR\n",
      "\n",
      "Detecting infection load...\n",
      "Total cells: 2131\n",
      "Percentage infected:21.16\n",
      "Extracting per marker intensity information...\n",
      "Detecting spots in puncta markers...\n"
     ]
    },
    {
     "name": "stderr",
     "output_type": "stream",
     "text": []
    },
    {
     "name": "stdout",
     "output_type": "stream",
     "text": [
      "\n",
      "Image analyzed: Plate15_Nuc_Wells-D5__Channel_SD_AF647,SD_RFP,SD_GFP,SD_DAPI,SD_BF,SD_NIR\n",
      "\n",
      "Detecting infection load...\n",
      "Total cells: 1987\n",
      "Percentage infected:20.79\n",
      "Extracting per marker intensity information...\n",
      "Detecting spots in puncta markers...\n"
     ]
    },
    {
     "name": "stderr",
     "output_type": "stream",
     "text": []
    },
    {
     "name": "stdout",
     "output_type": "stream",
     "text": [
      "\n",
      "Image analyzed: Plate15_Nuc_Wells-D6__Channel_SD_AF647,SD_RFP,SD_GFP,SD_DAPI,SD_BF,SD_NIR\n",
      "\n",
      "Detecting infection load...\n",
      "Total cells: 1366\n",
      "Percentage infected:22.69\n",
      "Extracting per marker intensity information...\n",
      "Detecting spots in puncta markers...\n"
     ]
    },
    {
     "name": "stderr",
     "output_type": "stream",
     "text": []
    },
    {
     "name": "stdout",
     "output_type": "stream",
     "text": [
      "\n",
      "Image analyzed: Plate15_Nuc_Wells-D7__Channel_SD_AF647,SD_RFP,SD_GFP,SD_DAPI,SD_BF,SD_NIR\n",
      "\n",
      "Detecting infection load...\n",
      "Total cells: 1592\n",
      "Percentage infected:21.17\n",
      "Extracting per marker intensity information...\n",
      "Detecting spots in puncta markers...\n"
     ]
    },
    {
     "name": "stderr",
     "output_type": "stream",
     "text": []
    },
    {
     "name": "stdout",
     "output_type": "stream",
     "text": [
      "\n",
      "Image analyzed: Plate15_Nuc_Wells-D8__Channel_SD_AF647,SD_RFP,SD_GFP,SD_DAPI,SD_BF,SD_NIR\n",
      "\n",
      "Detecting infection load...\n",
      "Total cells: 1285\n",
      "Percentage infected:16.89\n",
      "Extracting per marker intensity information...\n",
      "Detecting spots in puncta markers...\n"
     ]
    },
    {
     "name": "stderr",
     "output_type": "stream",
     "text": []
    },
    {
     "name": "stdout",
     "output_type": "stream",
     "text": [
      "\n",
      "Image analyzed: Plate15_Nuc_Wells-D9__Channel_SD_AF647,SD_RFP,SD_GFP,SD_DAPI,SD_BF,SD_NIR\n",
      "\n",
      "Detecting infection load...\n",
      "Total cells: 1813\n",
      "Percentage infected:20.08\n",
      "Extracting per marker intensity information...\n",
      "Detecting spots in puncta markers...\n"
     ]
    },
    {
     "name": "stderr",
     "output_type": "stream",
     "text": []
    },
    {
     "name": "stdout",
     "output_type": "stream",
     "text": [
      "\n",
      "Image analyzed: Plate15_Nuc_Wells-D10__Channel_SD_AF647,SD_RFP,SD_GFP,SD_DAPI,SD_BF,SD_NIR\n",
      "\n",
      "Detecting infection load...\n",
      "Total cells: 1593\n",
      "Percentage infected:16.57\n",
      "Extracting per marker intensity information...\n",
      "Detecting spots in puncta markers...\n"
     ]
    },
    {
     "name": "stderr",
     "output_type": "stream",
     "text": []
    },
    {
     "name": "stdout",
     "output_type": "stream",
     "text": [
      "\n",
      "Image analyzed: Plate15_Nuc_Wells-D11__Channel_SD_AF647,SD_RFP,SD_GFP,SD_DAPI,SD_BF,SD_NIR\n",
      "\n",
      "Detecting infection load...\n",
      "Total cells: 1397\n",
      "Percentage infected:17.25\n",
      "Extracting per marker intensity information...\n",
      "Detecting spots in puncta markers...\n"
     ]
    },
    {
     "name": "stderr",
     "output_type": "stream",
     "text": []
    },
    {
     "name": "stdout",
     "output_type": "stream",
     "text": [
      "\n",
      "Image analyzed: Plate15_Nuc_Wells-D12__Channel_SD_AF647,SD_RFP,SD_GFP,SD_DAPI,SD_BF,SD_NIR\n",
      "\n",
      "Detecting infection load...\n",
      "Total cells: 1413\n",
      "Percentage infected:21.87\n",
      "Extracting per marker intensity information...\n",
      "Detecting spots in puncta markers...\n"
     ]
    },
    {
     "name": "stderr",
     "output_type": "stream",
     "text": []
    },
    {
     "name": "stdout",
     "output_type": "stream",
     "text": [
      "\n",
      "Image analyzed: Plate15_Nuc_Wells-E1__Channel_SD_AF647,SD_RFP,SD_GFP,SD_DAPI,SD_BF,SD_NIR\n",
      "\n",
      "Detecting infection load...\n",
      "Total cells: 2426\n",
      "Percentage infected:19.62\n",
      "Extracting per marker intensity information...\n",
      "Detecting spots in puncta markers...\n"
     ]
    },
    {
     "name": "stderr",
     "output_type": "stream",
     "text": []
    },
    {
     "name": "stdout",
     "output_type": "stream",
     "text": [
      "\n",
      "Image analyzed: Plate15_Nuc_Wells-E2__Channel_SD_AF647,SD_RFP,SD_GFP,SD_DAPI,SD_BF,SD_NIR\n",
      "\n",
      "Detecting infection load...\n",
      "Total cells: 2431\n",
      "Percentage infected:26.0\n",
      "Extracting per marker intensity information...\n",
      "Detecting spots in puncta markers...\n"
     ]
    },
    {
     "name": "stderr",
     "output_type": "stream",
     "text": []
    },
    {
     "name": "stdout",
     "output_type": "stream",
     "text": [
      "\n",
      "Image analyzed: Plate15_Nuc_Wells-E3__Channel_SD_AF647,SD_RFP,SD_GFP,SD_DAPI,SD_BF,SD_NIR\n",
      "\n",
      "Detecting infection load...\n",
      "Total cells: 2350\n",
      "Percentage infected:18.13\n",
      "Extracting per marker intensity information...\n",
      "Detecting spots in puncta markers...\n"
     ]
    },
    {
     "name": "stderr",
     "output_type": "stream",
     "text": []
    },
    {
     "name": "stdout",
     "output_type": "stream",
     "text": [
      "\n",
      "Image analyzed: Plate15_Nuc_Wells-E4__Channel_SD_AF647,SD_RFP,SD_GFP,SD_DAPI,SD_BF,SD_NIR\n",
      "\n",
      "Detecting infection load...\n",
      "Total cells: 2223\n",
      "Percentage infected:29.51\n",
      "Extracting per marker intensity information...\n",
      "Detecting spots in puncta markers...\n"
     ]
    },
    {
     "name": "stderr",
     "output_type": "stream",
     "text": []
    },
    {
     "name": "stdout",
     "output_type": "stream",
     "text": [
      "\n",
      "Image analyzed: Plate15_Nuc_Wells-E5__Channel_SD_AF647,SD_RFP,SD_GFP,SD_DAPI,SD_BF,SD_NIR\n",
      "\n",
      "Detecting infection load...\n",
      "Total cells: 2341\n",
      "Percentage infected:24.26\n",
      "Extracting per marker intensity information...\n",
      "Detecting spots in puncta markers...\n"
     ]
    },
    {
     "name": "stderr",
     "output_type": "stream",
     "text": []
    },
    {
     "name": "stdout",
     "output_type": "stream",
     "text": [
      "\n",
      "Image analyzed: Plate15_Nuc_Wells-E6__Channel_SD_AF647,SD_RFP,SD_GFP,SD_DAPI,SD_BF,SD_NIR\n",
      "\n",
      "Detecting infection load...\n",
      "Total cells: 1801\n",
      "Percentage infected:21.54\n",
      "Extracting per marker intensity information...\n",
      "Detecting spots in puncta markers...\n"
     ]
    },
    {
     "name": "stderr",
     "output_type": "stream",
     "text": []
    },
    {
     "name": "stdout",
     "output_type": "stream",
     "text": [
      "\n",
      "Image analyzed: Plate15_Nuc_Wells-E7__Channel_SD_AF647,SD_RFP,SD_GFP,SD_DAPI,SD_BF,SD_NIR\n",
      "\n",
      "Detecting infection load...\n",
      "Total cells: 2240\n",
      "Percentage infected:20.4\n",
      "Extracting per marker intensity information...\n",
      "Detecting spots in puncta markers...\n"
     ]
    },
    {
     "name": "stderr",
     "output_type": "stream",
     "text": []
    },
    {
     "name": "stdout",
     "output_type": "stream",
     "text": [
      "\n",
      "Image analyzed: Plate15_Nuc_Wells-E8__Channel_SD_AF647,SD_RFP,SD_GFP,SD_DAPI,SD_BF,SD_NIR\n",
      "\n",
      "Detecting infection load...\n",
      "Total cells: 1802\n",
      "Percentage infected:21.64\n",
      "Extracting per marker intensity information...\n",
      "Detecting spots in puncta markers...\n"
     ]
    },
    {
     "name": "stderr",
     "output_type": "stream",
     "text": []
    },
    {
     "name": "stdout",
     "output_type": "stream",
     "text": [
      "\n",
      "Image analyzed: Plate15_Nuc_Wells-A6__Channel_SD_AF647,SD_RFP,SD_GFP,SD_DAPI,SD_BF,SD_NIR\n",
      "\n",
      "Detecting infection load...\n",
      "Total cells: 3405\n",
      "Percentage infected:17.27\n",
      "Extracting per marker intensity information...\n",
      "Detecting spots in puncta markers...\n"
     ]
    },
    {
     "name": "stderr",
     "output_type": "stream",
     "text": []
    },
    {
     "name": "stdout",
     "output_type": "stream",
     "text": [
      "\n",
      "Image analyzed: Plate15_Nuc_Wells-A7__Channel_SD_AF647,SD_RFP,SD_GFP,SD_DAPI,SD_BF,SD_NIR\n",
      "\n",
      "Detecting infection load...\n",
      "Total cells: 2677\n",
      "Percentage infected:23.27\n",
      "Extracting per marker intensity information...\n",
      "Detecting spots in puncta markers...\n"
     ]
    },
    {
     "name": "stderr",
     "output_type": "stream",
     "text": []
    },
    {
     "name": "stdout",
     "output_type": "stream",
     "text": [
      "\n",
      "Image analyzed: Plate15_Nuc_Wells-A8__Channel_SD_AF647,SD_RFP,SD_GFP,SD_DAPI,SD_BF,SD_NIR\n",
      "\n",
      "Detecting infection load...\n",
      "Total cells: 2384\n",
      "Percentage infected:18.5\n",
      "Extracting per marker intensity information...\n",
      "Detecting spots in puncta markers...\n"
     ]
    },
    {
     "name": "stderr",
     "output_type": "stream",
     "text": []
    },
    {
     "name": "stdout",
     "output_type": "stream",
     "text": [
      "\n",
      "Image analyzed: Plate15_Nuc_Wells-A9__Channel_SD_AF647,SD_RFP,SD_GFP,SD_DAPI,SD_BF,SD_NIR\n",
      "\n",
      "Detecting infection load...\n",
      "Total cells: 1932\n",
      "Percentage infected:20.19\n",
      "Extracting per marker intensity information...\n",
      "Detecting spots in puncta markers...\n"
     ]
    },
    {
     "name": "stderr",
     "output_type": "stream",
     "text": []
    },
    {
     "name": "stdout",
     "output_type": "stream",
     "text": [
      "\n",
      "Image analyzed: Plate15_Nuc_Wells-A10__Channel_SD_AF647,SD_RFP,SD_GFP,SD_DAPI,SD_BF,SD_NIR\n",
      "\n",
      "Detecting infection load...\n",
      "Total cells: 1219\n",
      "Percentage infected:14.52\n",
      "Extracting per marker intensity information...\n",
      "Detecting spots in puncta markers...\n"
     ]
    },
    {
     "name": "stderr",
     "output_type": "stream",
     "text": []
    },
    {
     "name": "stdout",
     "output_type": "stream",
     "text": [
      "\n",
      "Image analyzed: Plate15_Nuc_Wells-A11__Channel_SD_AF647,SD_RFP,SD_GFP,SD_DAPI,SD_BF,SD_NIR\n",
      "\n",
      "Detecting infection load...\n",
      "Total cells: 996\n",
      "Percentage infected:20.98\n",
      "Extracting per marker intensity information...\n",
      "Detecting spots in puncta markers...\n"
     ]
    },
    {
     "name": "stderr",
     "output_type": "stream",
     "text": []
    },
    {
     "name": "stdout",
     "output_type": "stream",
     "text": [
      "\n",
      "Image analyzed: Plate15_Nuc_Wells-A12__Channel_SD_AF647,SD_RFP,SD_GFP,SD_DAPI,SD_BF,SD_NIR\n",
      "\n",
      "Detecting infection load...\n",
      "Total cells: 1376\n",
      "Percentage infected:21.0\n",
      "Extracting per marker intensity information...\n",
      "Detecting spots in puncta markers...\n"
     ]
    },
    {
     "name": "stderr",
     "output_type": "stream",
     "text": []
    },
    {
     "name": "stdout",
     "output_type": "stream",
     "text": [
      "\n",
      "Image analyzed: Plate15_Nuc_Wells-B1__Channel_SD_AF647,SD_RFP,SD_GFP,SD_DAPI,SD_BF,SD_NIR\n",
      "\n",
      "Detecting infection load...\n",
      "Total cells: 2103\n",
      "Percentage infected:18.35\n",
      "Extracting per marker intensity information...\n",
      "Detecting spots in puncta markers...\n"
     ]
    },
    {
     "name": "stderr",
     "output_type": "stream",
     "text": []
    },
    {
     "name": "stdout",
     "output_type": "stream",
     "text": [
      "\n",
      "Image analyzed: Plate15_Nuc_Wells-B2__Channel_SD_AF647,SD_RFP,SD_GFP,SD_DAPI,SD_BF,SD_NIR\n",
      "\n",
      "Detecting infection load...\n",
      "Total cells: 1850\n",
      "Percentage infected:19.19\n",
      "Extracting per marker intensity information...\n",
      "Detecting spots in puncta markers...\n"
     ]
    },
    {
     "name": "stderr",
     "output_type": "stream",
     "text": []
    },
    {
     "name": "stdout",
     "output_type": "stream",
     "text": [
      "\n",
      "Image analyzed: Plate15_Nuc_Wells-B3__Channel_SD_AF647,SD_RFP,SD_GFP,SD_DAPI,SD_BF,SD_NIR\n",
      "\n",
      "Detecting infection load...\n",
      "Total cells: 2092\n",
      "Percentage infected:17.11\n",
      "Extracting per marker intensity information...\n",
      "Detecting spots in puncta markers...\n"
     ]
    },
    {
     "name": "stderr",
     "output_type": "stream",
     "text": []
    },
    {
     "name": "stdout",
     "output_type": "stream",
     "text": [
      "\n",
      "Image analyzed: Plate15_Nuc_Wells-B4__Channel_SD_AF647,SD_RFP,SD_GFP,SD_DAPI,SD_BF,SD_NIR\n",
      "\n",
      "Detecting infection load...\n",
      "Total cells: 2334\n",
      "Percentage infected:22.11\n",
      "Extracting per marker intensity information...\n",
      "Detecting spots in puncta markers...\n"
     ]
    },
    {
     "name": "stderr",
     "output_type": "stream",
     "text": []
    },
    {
     "name": "stdout",
     "output_type": "stream",
     "text": [
      "\n",
      "Image analyzed: Plate15_Nuc_Wells-B5__Channel_SD_AF647,SD_RFP,SD_GFP,SD_DAPI,SD_BF,SD_NIR\n",
      "\n",
      "Detecting infection load...\n",
      "Total cells: 2142\n",
      "Percentage infected:18.67\n",
      "Extracting per marker intensity information...\n",
      "Detecting spots in puncta markers...\n"
     ]
    },
    {
     "name": "stderr",
     "output_type": "stream",
     "text": []
    },
    {
     "name": "stdout",
     "output_type": "stream",
     "text": [
      "\n",
      "Image analyzed: Plate15_Nuc_Wells-B6__Channel_SD_AF647,SD_RFP,SD_GFP,SD_DAPI,SD_BF,SD_NIR\n",
      "\n",
      "Detecting infection load...\n",
      "Total cells: 2220\n",
      "Percentage infected:16.49\n",
      "Extracting per marker intensity information...\n",
      "Detecting spots in puncta markers...\n"
     ]
    },
    {
     "name": "stderr",
     "output_type": "stream",
     "text": []
    },
    {
     "name": "stdout",
     "output_type": "stream",
     "text": [
      "\n",
      "Image analyzed: Plate15_Nuc_Wells-B7__Channel_SD_AF647,SD_RFP,SD_GFP,SD_DAPI,SD_BF,SD_NIR\n",
      "\n",
      "Detecting infection load...\n",
      "Total cells: 1780\n",
      "Percentage infected:20.56\n",
      "Extracting per marker intensity information...\n",
      "Detecting spots in puncta markers...\n"
     ]
    },
    {
     "name": "stderr",
     "output_type": "stream",
     "text": []
    },
    {
     "name": "stdout",
     "output_type": "stream",
     "text": [
      "\n",
      "Image analyzed: Plate15_Nuc_Wells-B8__Channel_SD_AF647,SD_RFP,SD_GFP,SD_DAPI,SD_BF,SD_NIR\n",
      "\n",
      "Detecting infection load...\n",
      "Total cells: 1665\n",
      "Percentage infected:19.1\n",
      "Extracting per marker intensity information...\n",
      "Detecting spots in puncta markers...\n"
     ]
    },
    {
     "name": "stderr",
     "output_type": "stream",
     "text": []
    },
    {
     "name": "stdout",
     "output_type": "stream",
     "text": [
      "\n",
      "Image analyzed: Plate15_Nuc_Wells-B9__Channel_SD_AF647,SD_RFP,SD_GFP,SD_DAPI,SD_BF,SD_NIR\n",
      "\n",
      "Detecting infection load...\n",
      "Total cells: 2245\n",
      "Percentage infected:13.67\n",
      "Extracting per marker intensity information...\n",
      "Detecting spots in puncta markers...\n"
     ]
    },
    {
     "name": "stderr",
     "output_type": "stream",
     "text": [
      "100%|██████████| 96/96 [47:56<00:00, 29.96s/it]\n",
      " 94%|█████████▍| 16/17 [12:45:57<47:41, 2861.72s/it]  "
     ]
    },
    {
     "name": "stdout",
     "output_type": "stream",
     "text": [
      "Analyzing Plate: Plate 16_Nuc\n"
     ]
    },
    {
     "name": "stderr",
     "output_type": "stream",
     "text": []
    },
    {
     "name": "stdout",
     "output_type": "stream",
     "text": [
      "\n",
      "Image analyzed: Plate16_Nuc_Wells-C5__Channel_SD_AF647,SD_RFP,SD_GFP,SD_DAPI,SD_BF,SD_NIR\n",
      "\n",
      "Detecting infection load...\n",
      "Total cells: 1815\n",
      "Percentage infected:28.48\n",
      "Extracting per marker intensity information...\n",
      "Detecting spots in puncta markers...\n"
     ]
    },
    {
     "name": "stderr",
     "output_type": "stream",
     "text": []
    },
    {
     "name": "stdout",
     "output_type": "stream",
     "text": [
      "\n",
      "Image analyzed: Plate16_Nuc_Wells-C6__Channel_SD_AF647,SD_RFP,SD_GFP,SD_DAPI,SD_BF,SD_NIR\n",
      "\n",
      "Detecting infection load...\n",
      "Total cells: 2026\n",
      "Percentage infected:25.47\n",
      "Extracting per marker intensity information...\n",
      "Detecting spots in puncta markers...\n"
     ]
    },
    {
     "name": "stderr",
     "output_type": "stream",
     "text": []
    },
    {
     "name": "stdout",
     "output_type": "stream",
     "text": [
      "\n",
      "Image analyzed: Plate16_Nuc_Wells-C7__Channel_SD_AF647,SD_RFP,SD_GFP,SD_DAPI,SD_BF,SD_NIR\n",
      "\n",
      "Detecting infection load...\n",
      "Total cells: 1629\n",
      "Percentage infected:28.48\n",
      "Extracting per marker intensity information...\n",
      "Detecting spots in puncta markers...\n"
     ]
    },
    {
     "name": "stderr",
     "output_type": "stream",
     "text": []
    },
    {
     "name": "stdout",
     "output_type": "stream",
     "text": [
      "\n",
      "Image analyzed: Plate16_Nuc_Wells-C8__Channel_SD_AF647,SD_RFP,SD_GFP,SD_DAPI,SD_BF,SD_NIR\n",
      "\n",
      "Detecting infection load...\n",
      "Total cells: 1579\n",
      "Percentage infected:41.42\n",
      "Extracting per marker intensity information...\n",
      "Detecting spots in puncta markers...\n"
     ]
    },
    {
     "name": "stderr",
     "output_type": "stream",
     "text": []
    },
    {
     "name": "stdout",
     "output_type": "stream",
     "text": [
      "\n",
      "Image analyzed: Plate16_Nuc_Wells-C9__Channel_SD_AF647,SD_RFP,SD_GFP,SD_DAPI,SD_BF,SD_NIR\n",
      "\n",
      "Detecting infection load...\n",
      "Total cells: 1162\n",
      "Percentage infected:26.08\n",
      "Extracting per marker intensity information...\n",
      "Detecting spots in puncta markers...\n"
     ]
    },
    {
     "name": "stderr",
     "output_type": "stream",
     "text": []
    },
    {
     "name": "stdout",
     "output_type": "stream",
     "text": [
      "\n",
      "Image analyzed: Plate16_Nuc_Wells-C10__Channel_SD_AF647,SD_RFP,SD_GFP,SD_DAPI,SD_BF,SD_NIR\n",
      "\n",
      "Detecting infection load...\n",
      "Total cells: 1532\n",
      "Percentage infected:20.95\n",
      "Extracting per marker intensity information...\n",
      "Detecting spots in puncta markers...\n"
     ]
    },
    {
     "name": "stderr",
     "output_type": "stream",
     "text": []
    },
    {
     "name": "stdout",
     "output_type": "stream",
     "text": [
      "\n",
      "Image analyzed: Plate16_Nuc_Wells-C11__Channel_SD_AF647,SD_RFP,SD_GFP,SD_DAPI,SD_BF,SD_NIR\n",
      "\n",
      "Detecting infection load...\n",
      "Total cells: 1583\n",
      "Percentage infected:19.2\n",
      "Extracting per marker intensity information...\n",
      "Detecting spots in puncta markers...\n"
     ]
    },
    {
     "name": "stderr",
     "output_type": "stream",
     "text": []
    },
    {
     "name": "stdout",
     "output_type": "stream",
     "text": [
      "\n",
      "Image analyzed: Plate16_Nuc_Wells-C12__Channel_SD_AF647,SD_RFP,SD_GFP,SD_DAPI,SD_BF,SD_NIR\n",
      "\n",
      "Detecting infection load...\n",
      "Total cells: 1066\n",
      "Percentage infected:20.54\n",
      "Extracting per marker intensity information...\n",
      "Detecting spots in puncta markers...\n"
     ]
    },
    {
     "name": "stderr",
     "output_type": "stream",
     "text": []
    },
    {
     "name": "stdout",
     "output_type": "stream",
     "text": [
      "\n",
      "Image analyzed: Plate16_Nuc_Wells-D1__Channel_SD_AF647,SD_RFP,SD_GFP,SD_DAPI,SD_BF,SD_NIR\n",
      "\n",
      "Detecting infection load...\n",
      "Total cells: 1909\n",
      "Percentage infected:22.21\n",
      "Extracting per marker intensity information...\n",
      "Detecting spots in puncta markers...\n"
     ]
    },
    {
     "name": "stderr",
     "output_type": "stream",
     "text": []
    },
    {
     "name": "stdout",
     "output_type": "stream",
     "text": [
      "\n",
      "Image analyzed: Plate16_Nuc_Wells-D2__Channel_SD_AF647,SD_RFP,SD_GFP,SD_DAPI,SD_BF,SD_NIR\n",
      "\n",
      "Detecting infection load...\n",
      "Total cells: 1505\n",
      "Percentage infected:21.53\n",
      "Extracting per marker intensity information...\n",
      "Detecting spots in puncta markers...\n"
     ]
    },
    {
     "name": "stderr",
     "output_type": "stream",
     "text": []
    },
    {
     "name": "stdout",
     "output_type": "stream",
     "text": [
      "\n",
      "Image analyzed: Plate16_Nuc_Wells-D3__Channel_SD_AF647,SD_RFP,SD_GFP,SD_DAPI,SD_BF,SD_NIR\n",
      "\n",
      "Detecting infection load...\n",
      "Total cells: 1621\n",
      "Percentage infected:24.61\n",
      "Extracting per marker intensity information...\n",
      "Detecting spots in puncta markers...\n"
     ]
    },
    {
     "name": "stderr",
     "output_type": "stream",
     "text": []
    },
    {
     "name": "stdout",
     "output_type": "stream",
     "text": [
      "\n",
      "Image analyzed: Plate16_Nuc_Wells-D4__Channel_SD_AF647,SD_RFP,SD_GFP,SD_DAPI,SD_BF,SD_NIR\n",
      "\n",
      "Detecting infection load...\n",
      "Total cells: 1718\n",
      "Percentage infected:24.68\n",
      "Extracting per marker intensity information...\n",
      "Detecting spots in puncta markers...\n"
     ]
    },
    {
     "name": "stderr",
     "output_type": "stream",
     "text": []
    },
    {
     "name": "stdout",
     "output_type": "stream",
     "text": [
      "\n",
      "Image analyzed: Plate16_Nuc_Wells-D5__Channel_SD_AF647,SD_RFP,SD_GFP,SD_DAPI,SD_BF,SD_NIR\n",
      "\n",
      "Detecting infection load...\n",
      "Total cells: 2148\n",
      "Percentage infected:24.3\n",
      "Extracting per marker intensity information...\n",
      "Detecting spots in puncta markers...\n"
     ]
    },
    {
     "name": "stderr",
     "output_type": "stream",
     "text": []
    },
    {
     "name": "stdout",
     "output_type": "stream",
     "text": [
      "\n",
      "Image analyzed: Plate16_Nuc_Wells-D6__Channel_SD_AF647,SD_RFP,SD_GFP,SD_DAPI,SD_BF,SD_NIR\n",
      "\n",
      "Detecting infection load...\n",
      "Total cells: 1741\n",
      "Percentage infected:24.07\n",
      "Extracting per marker intensity information...\n",
      "Detecting spots in puncta markers...\n"
     ]
    },
    {
     "name": "stderr",
     "output_type": "stream",
     "text": []
    },
    {
     "name": "stdout",
     "output_type": "stream",
     "text": [
      "\n",
      "Image analyzed: Plate16_Nuc_Wells-D7__Channel_SD_AF647,SD_RFP,SD_GFP,SD_DAPI,SD_BF,SD_NIR\n",
      "\n",
      "Detecting infection load...\n",
      "Total cells: 1653\n",
      "Percentage infected:21.42\n",
      "Extracting per marker intensity information...\n",
      "Detecting spots in puncta markers...\n"
     ]
    },
    {
     "name": "stderr",
     "output_type": "stream",
     "text": []
    },
    {
     "name": "stdout",
     "output_type": "stream",
     "text": [
      "\n",
      "Image analyzed: Plate16_Nuc_Wells-D8__Channel_SD_AF647,SD_RFP,SD_GFP,SD_DAPI,SD_BF,SD_NIR\n",
      "\n",
      "Detecting infection load...\n",
      "Total cells: 1801\n",
      "Percentage infected:24.32\n",
      "Extracting per marker intensity information...\n",
      "Detecting spots in puncta markers...\n"
     ]
    },
    {
     "name": "stderr",
     "output_type": "stream",
     "text": []
    },
    {
     "name": "stdout",
     "output_type": "stream",
     "text": [
      "\n",
      "Image analyzed: Plate16_Nuc_Wells-D9__Channel_SD_AF647,SD_RFP,SD_GFP,SD_DAPI,SD_BF,SD_NIR\n",
      "\n",
      "Detecting infection load...\n",
      "Total cells: 1281\n",
      "Percentage infected:27.63\n",
      "Extracting per marker intensity information...\n",
      "Detecting spots in puncta markers...\n"
     ]
    },
    {
     "name": "stderr",
     "output_type": "stream",
     "text": []
    },
    {
     "name": "stdout",
     "output_type": "stream",
     "text": [
      "\n",
      "Image analyzed: Plate16_Nuc_Wells-D10__Channel_SD_AF647,SD_RFP,SD_GFP,SD_DAPI,SD_BF,SD_NIR\n",
      "\n",
      "Detecting infection load...\n",
      "Total cells: 1471\n",
      "Percentage infected:19.85\n",
      "Extracting per marker intensity information...\n",
      "Detecting spots in puncta markers...\n"
     ]
    },
    {
     "name": "stderr",
     "output_type": "stream",
     "text": []
    },
    {
     "name": "stdout",
     "output_type": "stream",
     "text": [
      "\n",
      "Image analyzed: Plate16_Nuc_Wells-D11__Channel_SD_AF647,SD_RFP,SD_GFP,SD_DAPI,SD_BF,SD_NIR\n",
      "\n",
      "Detecting infection load...\n",
      "Total cells: 1436\n",
      "Percentage infected:22.28\n",
      "Extracting per marker intensity information...\n",
      "Detecting spots in puncta markers...\n"
     ]
    },
    {
     "name": "stderr",
     "output_type": "stream",
     "text": []
    },
    {
     "name": "stdout",
     "output_type": "stream",
     "text": [
      "\n",
      "Image analyzed: Plate16_Nuc_Wells-D12__Channel_SD_AF647,SD_RFP,SD_GFP,SD_DAPI,SD_BF,SD_NIR\n",
      "\n",
      "Detecting infection load...\n",
      "Total cells: 965\n",
      "Percentage infected:26.53\n",
      "Extracting per marker intensity information...\n",
      "Detecting spots in puncta markers...\n"
     ]
    },
    {
     "name": "stderr",
     "output_type": "stream",
     "text": []
    },
    {
     "name": "stdout",
     "output_type": "stream",
     "text": [
      "\n",
      "Image analyzed: Plate16_Nuc_Wells-E1__Channel_SD_AF647,SD_RFP,SD_GFP,SD_DAPI,SD_BF,SD_NIR\n",
      "\n",
      "Detecting infection load...\n",
      "Total cells: 1743\n",
      "Percentage infected:24.73\n",
      "Extracting per marker intensity information...\n",
      "Detecting spots in puncta markers...\n"
     ]
    },
    {
     "name": "stderr",
     "output_type": "stream",
     "text": []
    },
    {
     "name": "stdout",
     "output_type": "stream",
     "text": [
      "\n",
      "Image analyzed: Plate16_Nuc_Wells-E2__Channel_SD_AF647,SD_RFP,SD_GFP,SD_DAPI,SD_BF,SD_NIR\n",
      "\n",
      "Detecting infection load...\n",
      "Total cells: 2179\n",
      "Percentage infected:25.33\n",
      "Extracting per marker intensity information...\n",
      "Detecting spots in puncta markers...\n"
     ]
    },
    {
     "name": "stderr",
     "output_type": "stream",
     "text": []
    },
    {
     "name": "stdout",
     "output_type": "stream",
     "text": [
      "\n",
      "Image analyzed: Plate16_Nuc_Wells-E3__Channel_SD_AF647,SD_RFP,SD_GFP,SD_DAPI,SD_BF,SD_NIR\n",
      "\n",
      "Detecting infection load...\n",
      "Total cells: 1842\n",
      "Percentage infected:26.55\n",
      "Extracting per marker intensity information...\n",
      "Detecting spots in puncta markers...\n"
     ]
    },
    {
     "name": "stderr",
     "output_type": "stream",
     "text": []
    },
    {
     "name": "stdout",
     "output_type": "stream",
     "text": [
      "\n",
      "Image analyzed: Plate16_Nuc_Wells-E4__Channel_SD_AF647,SD_RFP,SD_GFP,SD_DAPI,SD_BF,SD_NIR\n",
      "\n",
      "Detecting infection load...\n",
      "Total cells: 1668\n",
      "Percentage infected:25.24\n",
      "Extracting per marker intensity information...\n",
      "Detecting spots in puncta markers...\n"
     ]
    },
    {
     "name": "stderr",
     "output_type": "stream",
     "text": []
    },
    {
     "name": "stdout",
     "output_type": "stream",
     "text": [
      "\n",
      "Image analyzed: Plate16_Nuc_Wells-E5__Channel_SD_AF647,SD_RFP,SD_GFP,SD_DAPI,SD_BF,SD_NIR\n",
      "\n",
      "Detecting infection load...\n",
      "Total cells: 2145\n",
      "Percentage infected:30.12\n",
      "Extracting per marker intensity information...\n",
      "Detecting spots in puncta markers...\n"
     ]
    },
    {
     "name": "stderr",
     "output_type": "stream",
     "text": []
    },
    {
     "name": "stdout",
     "output_type": "stream",
     "text": [
      "\n",
      "Image analyzed: Plate16_Nuc_Wells-E6__Channel_SD_AF647,SD_RFP,SD_GFP,SD_DAPI,SD_BF,SD_NIR\n",
      "\n",
      "Detecting infection load...\n",
      "Total cells: 2292\n",
      "Percentage infected:31.33\n",
      "Extracting per marker intensity information...\n",
      "Detecting spots in puncta markers...\n"
     ]
    },
    {
     "name": "stderr",
     "output_type": "stream",
     "text": []
    },
    {
     "name": "stdout",
     "output_type": "stream",
     "text": [
      "\n",
      "Image analyzed: Plate16_Nuc_Wells-E7__Channel_SD_AF647,SD_RFP,SD_GFP,SD_DAPI,SD_BF,SD_NIR\n",
      "\n",
      "Detecting infection load...\n",
      "Total cells: 2039\n",
      "Percentage infected:32.22\n",
      "Extracting per marker intensity information...\n",
      "Detecting spots in puncta markers...\n"
     ]
    },
    {
     "name": "stderr",
     "output_type": "stream",
     "text": []
    },
    {
     "name": "stdout",
     "output_type": "stream",
     "text": [
      "\n",
      "Image analyzed: Plate16_Nuc_Wells-E8__Channel_SD_AF647,SD_RFP,SD_GFP,SD_DAPI,SD_BF,SD_NIR\n",
      "\n",
      "Detecting infection load...\n",
      "Total cells: 1650\n",
      "Percentage infected:23.33\n",
      "Extracting per marker intensity information...\n",
      "Detecting spots in puncta markers...\n"
     ]
    },
    {
     "name": "stderr",
     "output_type": "stream",
     "text": []
    },
    {
     "name": "stdout",
     "output_type": "stream",
     "text": [
      "\n",
      "Image analyzed: Plate16_Nuc_Wells-E9__Channel_SD_AF647,SD_RFP,SD_GFP,SD_DAPI,SD_BF,SD_NIR\n",
      "\n",
      "Detecting infection load...\n",
      "Total cells: 1707\n",
      "Percentage infected:24.66\n",
      "Extracting per marker intensity information...\n",
      "Detecting spots in puncta markers...\n"
     ]
    },
    {
     "name": "stderr",
     "output_type": "stream",
     "text": []
    },
    {
     "name": "stdout",
     "output_type": "stream",
     "text": [
      "\n",
      "Image analyzed: Plate16_Nuc_Wells-E10__Channel_SD_AF647,SD_RFP,SD_GFP,SD_DAPI,SD_BF,SD_NIR\n",
      "\n",
      "Detecting infection load...\n",
      "Total cells: 1517\n",
      "Percentage infected:20.11\n",
      "Extracting per marker intensity information...\n",
      "Detecting spots in puncta markers...\n"
     ]
    },
    {
     "name": "stderr",
     "output_type": "stream",
     "text": []
    },
    {
     "name": "stdout",
     "output_type": "stream",
     "text": [
      "\n",
      "Image analyzed: Plate16_Nuc_Wells-E11__Channel_SD_AF647,SD_RFP,SD_GFP,SD_DAPI,SD_BF,SD_NIR\n",
      "\n",
      "Detecting infection load...\n",
      "Total cells: 1523\n",
      "Percentage infected:22.92\n",
      "Extracting per marker intensity information...\n",
      "Detecting spots in puncta markers...\n"
     ]
    },
    {
     "name": "stderr",
     "output_type": "stream",
     "text": []
    },
    {
     "name": "stdout",
     "output_type": "stream",
     "text": [
      "\n",
      "Image analyzed: Plate16_Nuc_Wells-E12__Channel_SD_AF647,SD_RFP,SD_GFP,SD_DAPI,SD_BF,SD_NIR\n",
      "\n",
      "Detecting infection load...\n",
      "Total cells: 1014\n",
      "Percentage infected:20.22\n",
      "Extracting per marker intensity information...\n",
      "Detecting spots in puncta markers...\n"
     ]
    },
    {
     "name": "stderr",
     "output_type": "stream",
     "text": []
    },
    {
     "name": "stdout",
     "output_type": "stream",
     "text": [
      "\n",
      "Image analyzed: Plate16_Nuc_Wells-F1__Channel_SD_AF647,SD_RFP,SD_GFP,SD_DAPI,SD_BF,SD_NIR\n",
      "\n",
      "Detecting infection load...\n",
      "Total cells: 2129\n",
      "Percentage infected:25.55\n",
      "Extracting per marker intensity information...\n",
      "Detecting spots in puncta markers...\n"
     ]
    },
    {
     "name": "stderr",
     "output_type": "stream",
     "text": []
    },
    {
     "name": "stdout",
     "output_type": "stream",
     "text": [
      "\n",
      "Image analyzed: Plate16_Nuc_Wells-F2__Channel_SD_AF647,SD_RFP,SD_GFP,SD_DAPI,SD_BF,SD_NIR\n",
      "\n",
      "Detecting infection load...\n",
      "Total cells: 1833\n",
      "Percentage infected:21.49\n",
      "Extracting per marker intensity information...\n",
      "Detecting spots in puncta markers...\n"
     ]
    },
    {
     "name": "stderr",
     "output_type": "stream",
     "text": []
    },
    {
     "name": "stdout",
     "output_type": "stream",
     "text": [
      "\n",
      "Image analyzed: Plate16_Nuc_Wells-F3__Channel_SD_AF647,SD_RFP,SD_GFP,SD_DAPI,SD_BF,SD_NIR\n",
      "\n",
      "Detecting infection load...\n",
      "Total cells: 1854\n",
      "Percentage infected:25.78\n",
      "Extracting per marker intensity information...\n",
      "Detecting spots in puncta markers...\n"
     ]
    },
    {
     "name": "stderr",
     "output_type": "stream",
     "text": []
    },
    {
     "name": "stdout",
     "output_type": "stream",
     "text": [
      "\n",
      "Image analyzed: Plate16_Nuc_Wells-F4__Channel_SD_AF647,SD_RFP,SD_GFP,SD_DAPI,SD_BF,SD_NIR\n",
      "\n",
      "Detecting infection load...\n",
      "Total cells: 2068\n",
      "Percentage infected:27.85\n",
      "Extracting per marker intensity information...\n",
      "Detecting spots in puncta markers...\n"
     ]
    },
    {
     "name": "stderr",
     "output_type": "stream",
     "text": []
    },
    {
     "name": "stdout",
     "output_type": "stream",
     "text": [
      "\n",
      "Image analyzed: Plate16_Nuc_Wells-F5__Channel_SD_AF647,SD_RFP,SD_GFP,SD_DAPI,SD_BF,SD_NIR\n",
      "\n",
      "Detecting infection load...\n",
      "Total cells: 2026\n",
      "Percentage infected:24.09\n",
      "Extracting per marker intensity information...\n",
      "Detecting spots in puncta markers...\n"
     ]
    },
    {
     "name": "stderr",
     "output_type": "stream",
     "text": []
    },
    {
     "name": "stdout",
     "output_type": "stream",
     "text": [
      "\n",
      "Image analyzed: Plate16_Nuc_Wells-F6__Channel_SD_AF647,SD_RFP,SD_GFP,SD_DAPI,SD_BF,SD_NIR\n",
      "\n",
      "Detecting infection load...\n",
      "Total cells: 2210\n",
      "Percentage infected:24.07\n",
      "Extracting per marker intensity information...\n",
      "Detecting spots in puncta markers...\n"
     ]
    },
    {
     "name": "stderr",
     "output_type": "stream",
     "text": []
    },
    {
     "name": "stdout",
     "output_type": "stream",
     "text": [
      "\n",
      "Image analyzed: Plate16_Nuc_Wells-F7__Channel_SD_AF647,SD_RFP,SD_GFP,SD_DAPI,SD_BF,SD_NIR\n",
      "\n",
      "Detecting infection load...\n",
      "Total cells: 1621\n",
      "Percentage infected:26.65\n",
      "Extracting per marker intensity information...\n",
      "Detecting spots in puncta markers...\n"
     ]
    },
    {
     "name": "stderr",
     "output_type": "stream",
     "text": []
    },
    {
     "name": "stdout",
     "output_type": "stream",
     "text": [
      "\n",
      "Image analyzed: Plate16_Nuc_Wells-F8__Channel_SD_AF647,SD_RFP,SD_GFP,SD_DAPI,SD_BF,SD_NIR\n",
      "\n",
      "Detecting infection load...\n",
      "Total cells: 2070\n",
      "Percentage infected:26.52\n",
      "Extracting per marker intensity information...\n",
      "Detecting spots in puncta markers...\n"
     ]
    },
    {
     "name": "stderr",
     "output_type": "stream",
     "text": []
    },
    {
     "name": "stdout",
     "output_type": "stream",
     "text": [
      "\n",
      "Image analyzed: Plate16_Nuc_Wells-F9__Channel_SD_AF647,SD_RFP,SD_GFP,SD_DAPI,SD_BF,SD_NIR\n",
      "\n",
      "Detecting infection load...\n",
      "Total cells: 1019\n",
      "Percentage infected:26.69\n",
      "Extracting per marker intensity information...\n",
      "Detecting spots in puncta markers...\n"
     ]
    },
    {
     "name": "stderr",
     "output_type": "stream",
     "text": []
    },
    {
     "name": "stdout",
     "output_type": "stream",
     "text": [
      "\n",
      "Image analyzed: Plate16_Nuc_Wells-F10__Channel_SD_AF647,SD_RFP,SD_GFP,SD_DAPI,SD_BF,SD_NIR\n",
      "\n",
      "Detecting infection load...\n",
      "Total cells: 1603\n",
      "Percentage infected:21.83\n",
      "Extracting per marker intensity information...\n",
      "Detecting spots in puncta markers...\n"
     ]
    },
    {
     "name": "stderr",
     "output_type": "stream",
     "text": []
    },
    {
     "name": "stdout",
     "output_type": "stream",
     "text": [
      "\n",
      "Image analyzed: Plate16_Nuc_Wells-F11__Channel_SD_AF647,SD_RFP,SD_GFP,SD_DAPI,SD_BF,SD_NIR\n",
      "\n",
      "Detecting infection load...\n",
      "Total cells: 1417\n",
      "Percentage infected:23.5\n",
      "Extracting per marker intensity information...\n",
      "Detecting spots in puncta markers...\n"
     ]
    },
    {
     "name": "stderr",
     "output_type": "stream",
     "text": []
    },
    {
     "name": "stdout",
     "output_type": "stream",
     "text": [
      "\n",
      "Image analyzed: Plate16_Nuc_Wells-F12__Channel_SD_AF647,SD_RFP,SD_GFP,SD_DAPI,SD_BF,SD_NIR\n",
      "\n",
      "Detecting infection load...\n",
      "Total cells: 857\n",
      "Percentage infected:19.84\n",
      "Extracting per marker intensity information...\n",
      "Detecting spots in puncta markers...\n"
     ]
    },
    {
     "name": "stderr",
     "output_type": "stream",
     "text": []
    },
    {
     "name": "stdout",
     "output_type": "stream",
     "text": [
      "\n",
      "Image analyzed: Plate16_Nuc_Wells-G1__Channel_SD_AF647,SD_RFP,SD_GFP,SD_DAPI,SD_BF,SD_NIR\n",
      "\n",
      "Detecting infection load...\n",
      "Total cells: 1596\n",
      "Percentage infected:20.61\n",
      "Extracting per marker intensity information...\n",
      "Detecting spots in puncta markers...\n"
     ]
    },
    {
     "name": "stderr",
     "output_type": "stream",
     "text": []
    },
    {
     "name": "stdout",
     "output_type": "stream",
     "text": [
      "\n",
      "Image analyzed: Plate16_Nuc_Wells-G2__Channel_SD_AF647,SD_RFP,SD_GFP,SD_DAPI,SD_BF,SD_NIR\n",
      "\n",
      "Detecting infection load...\n",
      "Total cells: 1853\n",
      "Percentage infected:19.97\n",
      "Extracting per marker intensity information...\n",
      "Detecting spots in puncta markers...\n"
     ]
    },
    {
     "name": "stderr",
     "output_type": "stream",
     "text": []
    },
    {
     "name": "stdout",
     "output_type": "stream",
     "text": [
      "\n",
      "Image analyzed: Plate16_Nuc_Wells-G3__Channel_SD_AF647,SD_RFP,SD_GFP,SD_DAPI,SD_BF,SD_NIR\n",
      "\n",
      "Detecting infection load...\n",
      "Total cells: 1989\n",
      "Percentage infected:20.46\n",
      "Extracting per marker intensity information...\n",
      "Detecting spots in puncta markers...\n"
     ]
    },
    {
     "name": "stderr",
     "output_type": "stream",
     "text": []
    },
    {
     "name": "stdout",
     "output_type": "stream",
     "text": [
      "\n",
      "Image analyzed: Plate16_Nuc_Wells-G4__Channel_SD_AF647,SD_RFP,SD_GFP,SD_DAPI,SD_BF,SD_NIR\n",
      "\n",
      "Detecting infection load...\n",
      "Total cells: 2092\n",
      "Percentage infected:21.7\n",
      "Extracting per marker intensity information...\n",
      "Detecting spots in puncta markers...\n"
     ]
    },
    {
     "name": "stderr",
     "output_type": "stream",
     "text": []
    },
    {
     "name": "stdout",
     "output_type": "stream",
     "text": [
      "\n",
      "Image analyzed: Plate16_Nuc_Wells-G5__Channel_SD_AF647,SD_RFP,SD_GFP,SD_DAPI,SD_BF,SD_NIR\n",
      "\n",
      "Detecting infection load...\n",
      "Total cells: 2357\n",
      "Percentage infected:25.8\n",
      "Extracting per marker intensity information...\n",
      "Detecting spots in puncta markers...\n"
     ]
    },
    {
     "name": "stderr",
     "output_type": "stream",
     "text": []
    },
    {
     "name": "stdout",
     "output_type": "stream",
     "text": [
      "\n",
      "Image analyzed: Plate16_Nuc_Wells-G6__Channel_SD_AF647,SD_RFP,SD_GFP,SD_DAPI,SD_BF,SD_NIR\n",
      "\n",
      "Detecting infection load...\n",
      "Total cells: 1998\n",
      "Percentage infected:28.93\n",
      "Extracting per marker intensity information...\n",
      "Detecting spots in puncta markers...\n"
     ]
    },
    {
     "name": "stderr",
     "output_type": "stream",
     "text": []
    },
    {
     "name": "stdout",
     "output_type": "stream",
     "text": [
      "\n",
      "Image analyzed: Plate16_Nuc_Wells-G7__Channel_SD_AF647,SD_RFP,SD_GFP,SD_DAPI,SD_BF,SD_NIR\n",
      "\n",
      "Detecting infection load...\n",
      "Total cells: 1997\n",
      "Percentage infected:28.09\n",
      "Extracting per marker intensity information...\n",
      "Detecting spots in puncta markers...\n"
     ]
    },
    {
     "name": "stderr",
     "output_type": "stream",
     "text": []
    },
    {
     "name": "stdout",
     "output_type": "stream",
     "text": [
      "\n",
      "Image analyzed: Plate16_Nuc_Wells-G8__Channel_SD_AF647,SD_RFP,SD_GFP,SD_DAPI,SD_BF,SD_NIR\n",
      "\n",
      "Detecting infection load...\n",
      "Total cells: 2260\n",
      "Percentage infected:26.81\n",
      "Extracting per marker intensity information...\n",
      "Detecting spots in puncta markers...\n"
     ]
    },
    {
     "name": "stderr",
     "output_type": "stream",
     "text": []
    },
    {
     "name": "stdout",
     "output_type": "stream",
     "text": [
      "\n",
      "Image analyzed: Plate16_Nuc_Wells-G9__Channel_SD_AF647,SD_RFP,SD_GFP,SD_DAPI,SD_BF,SD_NIR\n",
      "\n",
      "Detecting infection load...\n",
      "Total cells: 1523\n",
      "Percentage infected:26.26\n",
      "Extracting per marker intensity information...\n",
      "Detecting spots in puncta markers...\n"
     ]
    },
    {
     "name": "stderr",
     "output_type": "stream",
     "text": []
    },
    {
     "name": "stdout",
     "output_type": "stream",
     "text": [
      "\n",
      "Image analyzed: Plate16_Nuc_Wells-G10__Channel_SD_AF647,SD_RFP,SD_GFP,SD_DAPI,SD_BF,SD_NIR\n",
      "\n",
      "Detecting infection load...\n",
      "Total cells: 1678\n",
      "Percentage infected:24.26\n",
      "Extracting per marker intensity information...\n",
      "Detecting spots in puncta markers...\n"
     ]
    },
    {
     "name": "stderr",
     "output_type": "stream",
     "text": []
    },
    {
     "name": "stdout",
     "output_type": "stream",
     "text": [
      "\n",
      "Image analyzed: Plate16_Nuc_Wells-G11__Channel_SD_AF647,SD_RFP,SD_GFP,SD_DAPI,SD_BF,SD_NIR\n",
      "\n",
      "Detecting infection load...\n",
      "Total cells: 1527\n",
      "Percentage infected:26.72\n",
      "Extracting per marker intensity information...\n",
      "Detecting spots in puncta markers...\n"
     ]
    },
    {
     "name": "stderr",
     "output_type": "stream",
     "text": []
    },
    {
     "name": "stdout",
     "output_type": "stream",
     "text": [
      "\n",
      "Image analyzed: Plate16_Nuc_Wells-G12__Channel_SD_AF647,SD_RFP,SD_GFP,SD_DAPI,SD_BF,SD_NIR\n",
      "\n",
      "Detecting infection load...\n",
      "Total cells: 1161\n",
      "Percentage infected:22.74\n",
      "Extracting per marker intensity information...\n",
      "Detecting spots in puncta markers...\n"
     ]
    },
    {
     "name": "stderr",
     "output_type": "stream",
     "text": []
    },
    {
     "name": "stdout",
     "output_type": "stream",
     "text": [
      "\n",
      "Image analyzed: Plate16_Nuc_Wells-H1__Channel_SD_AF647,SD_RFP,SD_GFP,SD_DAPI,SD_BF,SD_NIR\n",
      "\n",
      "Detecting infection load...\n",
      "Total cells: 2584\n",
      "Percentage infected:0.0\n",
      "Extracting per marker intensity information...\n",
      "Detecting spots in puncta markers...\n"
     ]
    },
    {
     "name": "stderr",
     "output_type": "stream",
     "text": []
    },
    {
     "name": "stdout",
     "output_type": "stream",
     "text": [
      "\n",
      "Image analyzed: Plate16_Nuc_Wells-H2__Channel_SD_AF647,SD_RFP,SD_GFP,SD_DAPI,SD_BF,SD_NIR\n",
      "\n",
      "Detecting infection load...\n",
      "Total cells: 2329\n",
      "Percentage infected:18.81\n",
      "Extracting per marker intensity information...\n",
      "Detecting spots in puncta markers...\n"
     ]
    },
    {
     "name": "stderr",
     "output_type": "stream",
     "text": []
    },
    {
     "name": "stdout",
     "output_type": "stream",
     "text": [
      "\n",
      "Image analyzed: Plate16_Nuc_Wells-H3__Channel_SD_AF647,SD_RFP,SD_GFP,SD_DAPI,SD_BF,SD_NIR\n",
      "\n",
      "Detecting infection load...\n",
      "Total cells: 2016\n",
      "Percentage infected:22.42\n",
      "Extracting per marker intensity information...\n",
      "Detecting spots in puncta markers...\n"
     ]
    },
    {
     "name": "stderr",
     "output_type": "stream",
     "text": []
    },
    {
     "name": "stdout",
     "output_type": "stream",
     "text": [
      "\n",
      "Image analyzed: Plate16_Nuc_Wells-H4__Channel_SD_AF647,SD_RFP,SD_GFP,SD_DAPI,SD_BF,SD_NIR\n",
      "\n",
      "Detecting infection load...\n",
      "Total cells: 2587\n",
      "Percentage infected:20.18\n",
      "Extracting per marker intensity information...\n",
      "Detecting spots in puncta markers...\n"
     ]
    },
    {
     "name": "stderr",
     "output_type": "stream",
     "text": []
    },
    {
     "name": "stdout",
     "output_type": "stream",
     "text": [
      "\n",
      "Image analyzed: Plate16_Nuc_Wells-H5__Channel_SD_AF647,SD_RFP,SD_GFP,SD_DAPI,SD_BF,SD_NIR\n",
      "\n",
      "Detecting infection load...\n",
      "Total cells: 2562\n",
      "Percentage infected:21.55\n",
      "Extracting per marker intensity information...\n",
      "Detecting spots in puncta markers...\n"
     ]
    },
    {
     "name": "stderr",
     "output_type": "stream",
     "text": []
    },
    {
     "name": "stdout",
     "output_type": "stream",
     "text": [
      "\n",
      "Image analyzed: Plate16_Nuc_Wells-H6__Channel_SD_AF647,SD_RFP,SD_GFP,SD_DAPI,SD_BF,SD_NIR\n",
      "\n",
      "Detecting infection load...\n",
      "Total cells: 2372\n",
      "Percentage infected:26.98\n",
      "Extracting per marker intensity information...\n",
      "Detecting spots in puncta markers...\n"
     ]
    },
    {
     "name": "stderr",
     "output_type": "stream",
     "text": []
    },
    {
     "name": "stdout",
     "output_type": "stream",
     "text": [
      "\n",
      "Image analyzed: Plate16_Nuc_Wells-H7__Channel_SD_AF647,SD_RFP,SD_GFP,SD_DAPI,SD_BF,SD_NIR\n",
      "\n",
      "Detecting infection load...\n",
      "Total cells: 2511\n",
      "Percentage infected:26.28\n",
      "Extracting per marker intensity information...\n",
      "Detecting spots in puncta markers...\n"
     ]
    },
    {
     "name": "stderr",
     "output_type": "stream",
     "text": []
    },
    {
     "name": "stdout",
     "output_type": "stream",
     "text": [
      "\n",
      "Image analyzed: Plate16_Nuc_Wells-H8__Channel_SD_AF647,SD_RFP,SD_GFP,SD_DAPI,SD_BF,SD_NIR\n",
      "\n",
      "Detecting infection load...\n",
      "Total cells: 2661\n",
      "Percentage infected:30.29\n",
      "Extracting per marker intensity information...\n",
      "Detecting spots in puncta markers...\n"
     ]
    },
    {
     "name": "stderr",
     "output_type": "stream",
     "text": []
    },
    {
     "name": "stdout",
     "output_type": "stream",
     "text": [
      "\n",
      "Image analyzed: Plate16_Nuc_Wells-H9__Channel_SD_AF647,SD_RFP,SD_GFP,SD_DAPI,SD_BF,SD_NIR\n",
      "\n",
      "Detecting infection load...\n",
      "Total cells: 2184\n",
      "Percentage infected:30.59\n",
      "Extracting per marker intensity information...\n",
      "Detecting spots in puncta markers...\n"
     ]
    },
    {
     "name": "stderr",
     "output_type": "stream",
     "text": []
    },
    {
     "name": "stdout",
     "output_type": "stream",
     "text": [
      "\n",
      "Image analyzed: Plate16_Nuc_Wells-H10__Channel_SD_AF647,SD_RFP,SD_GFP,SD_DAPI,SD_BF,SD_NIR\n",
      "\n",
      "Detecting infection load...\n",
      "Total cells: 2032\n",
      "Percentage infected:27.46\n",
      "Extracting per marker intensity information...\n",
      "Detecting spots in puncta markers...\n"
     ]
    },
    {
     "name": "stderr",
     "output_type": "stream",
     "text": []
    },
    {
     "name": "stdout",
     "output_type": "stream",
     "text": [
      "\n",
      "Image analyzed: Plate16_Nuc_Wells-H11__Channel_SD_AF647,SD_RFP,SD_GFP,SD_DAPI,SD_BF,SD_NIR\n",
      "\n",
      "Detecting infection load...\n",
      "Total cells: 2525\n",
      "Percentage infected:25.66\n",
      "Extracting per marker intensity information...\n",
      "Detecting spots in puncta markers...\n"
     ]
    },
    {
     "name": "stderr",
     "output_type": "stream",
     "text": []
    },
    {
     "name": "stdout",
     "output_type": "stream",
     "text": [
      "\n",
      "Image analyzed: Plate16_Nuc_Wells-H12__Channel_SD_AF647,SD_RFP,SD_GFP,SD_DAPI,SD_BF,SD_NIR\n",
      "\n",
      "Detecting infection load...\n",
      "Total cells: 2040\n",
      "Percentage infected:26.81\n",
      "Extracting per marker intensity information...\n",
      "Detecting spots in puncta markers...\n"
     ]
    },
    {
     "name": "stderr",
     "output_type": "stream",
     "text": []
    },
    {
     "name": "stdout",
     "output_type": "stream",
     "text": [
      "\n",
      "Image analyzed: Plate16_Nuc_Wells-A1__Channel_SD_AF647,SD_RFP,SD_GFP,SD_DAPI,SD_BF,SD_NIR\n",
      "\n",
      "Detecting infection load...\n",
      "Total cells: 2678\n",
      "Percentage infected:29.16\n",
      "Extracting per marker intensity information...\n",
      "Detecting spots in puncta markers...\n"
     ]
    },
    {
     "name": "stderr",
     "output_type": "stream",
     "text": []
    },
    {
     "name": "stdout",
     "output_type": "stream",
     "text": [
      "\n",
      "Image analyzed: Plate16_Nuc_Wells-A2__Channel_SD_AF647,SD_RFP,SD_GFP,SD_DAPI,SD_BF,SD_NIR\n",
      "\n",
      "Detecting infection load...\n",
      "Total cells: 2893\n",
      "Percentage infected:25.16\n",
      "Extracting per marker intensity information...\n",
      "Detecting spots in puncta markers...\n"
     ]
    },
    {
     "name": "stderr",
     "output_type": "stream",
     "text": []
    },
    {
     "name": "stdout",
     "output_type": "stream",
     "text": [
      "\n",
      "Image analyzed: Plate16_Nuc_Wells-A3__Channel_SD_AF647,SD_RFP,SD_GFP,SD_DAPI,SD_BF,SD_NIR\n",
      "\n",
      "Detecting infection load...\n",
      "Total cells: 2472\n",
      "Percentage infected:20.79\n",
      "Extracting per marker intensity information...\n",
      "Detecting spots in puncta markers...\n"
     ]
    },
    {
     "name": "stderr",
     "output_type": "stream",
     "text": []
    },
    {
     "name": "stdout",
     "output_type": "stream",
     "text": [
      "\n",
      "Image analyzed: Plate16_Nuc_Wells-A4__Channel_SD_AF647,SD_RFP,SD_GFP,SD_DAPI,SD_BF,SD_NIR\n",
      "\n",
      "Detecting infection load...\n",
      "Total cells: 3131\n",
      "Percentage infected:24.56\n",
      "Extracting per marker intensity information...\n",
      "Detecting spots in puncta markers...\n"
     ]
    },
    {
     "name": "stderr",
     "output_type": "stream",
     "text": []
    },
    {
     "name": "stdout",
     "output_type": "stream",
     "text": [
      "\n",
      "Image analyzed: Plate16_Nuc_Wells-A5__Channel_SD_AF647,SD_RFP,SD_GFP,SD_DAPI,SD_BF,SD_NIR\n",
      "\n",
      "Detecting infection load...\n",
      "Total cells: 3022\n",
      "Percentage infected:27.27\n",
      "Extracting per marker intensity information...\n",
      "Detecting spots in puncta markers...\n"
     ]
    },
    {
     "name": "stderr",
     "output_type": "stream",
     "text": []
    },
    {
     "name": "stdout",
     "output_type": "stream",
     "text": [
      "\n",
      "Image analyzed: Plate16_Nuc_Wells-A6__Channel_SD_AF647,SD_RFP,SD_GFP,SD_DAPI,SD_BF,SD_NIR\n",
      "\n",
      "Detecting infection load...\n",
      "Total cells: 3121\n",
      "Percentage infected:23.52\n",
      "Extracting per marker intensity information...\n",
      "Detecting spots in puncta markers...\n"
     ]
    },
    {
     "name": "stderr",
     "output_type": "stream",
     "text": []
    },
    {
     "name": "stdout",
     "output_type": "stream",
     "text": [
      "\n",
      "Image analyzed: Plate16_Nuc_Wells-A7__Channel_SD_AF647,SD_RFP,SD_GFP,SD_DAPI,SD_BF,SD_NIR\n",
      "\n",
      "Detecting infection load...\n",
      "Total cells: 2030\n",
      "Percentage infected:28.47\n",
      "Extracting per marker intensity information...\n",
      "Detecting spots in puncta markers...\n"
     ]
    },
    {
     "name": "stderr",
     "output_type": "stream",
     "text": []
    },
    {
     "name": "stdout",
     "output_type": "stream",
     "text": [
      "\n",
      "Image analyzed: Plate16_Nuc_Wells-A8__Channel_SD_AF647,SD_RFP,SD_GFP,SD_DAPI,SD_BF,SD_NIR\n",
      "\n",
      "Detecting infection load...\n",
      "Total cells: 2100\n",
      "Percentage infected:26.1\n",
      "Extracting per marker intensity information...\n",
      "Detecting spots in puncta markers...\n"
     ]
    },
    {
     "name": "stderr",
     "output_type": "stream",
     "text": []
    },
    {
     "name": "stdout",
     "output_type": "stream",
     "text": [
      "\n",
      "Image analyzed: Plate16_Nuc_Wells-A9__Channel_SD_AF647,SD_RFP,SD_GFP,SD_DAPI,SD_BF,SD_NIR\n",
      "\n",
      "Detecting infection load...\n",
      "Total cells: 1890\n",
      "Percentage infected:26.14\n",
      "Extracting per marker intensity information...\n",
      "Detecting spots in puncta markers...\n"
     ]
    },
    {
     "name": "stderr",
     "output_type": "stream",
     "text": []
    },
    {
     "name": "stdout",
     "output_type": "stream",
     "text": [
      "\n",
      "Image analyzed: Plate16_Nuc_Wells-A10__Channel_SD_AF647,SD_RFP,SD_GFP,SD_DAPI,SD_BF,SD_NIR\n",
      "\n",
      "Detecting infection load...\n",
      "Total cells: 2335\n",
      "Percentage infected:25.48\n",
      "Extracting per marker intensity information...\n",
      "Detecting spots in puncta markers...\n"
     ]
    },
    {
     "name": "stderr",
     "output_type": "stream",
     "text": []
    },
    {
     "name": "stdout",
     "output_type": "stream",
     "text": [
      "\n",
      "Image analyzed: Plate16_Nuc_Wells-A11__Channel_SD_AF647,SD_RFP,SD_GFP,SD_DAPI,SD_BF,SD_NIR\n",
      "\n",
      "Detecting infection load...\n",
      "Total cells: 1247\n",
      "Percentage infected:21.01\n",
      "Extracting per marker intensity information...\n",
      "Detecting spots in puncta markers...\n"
     ]
    },
    {
     "name": "stderr",
     "output_type": "stream",
     "text": []
    },
    {
     "name": "stdout",
     "output_type": "stream",
     "text": [
      "\n",
      "Image analyzed: Plate16_Nuc_Wells-A12__Channel_SD_AF647,SD_RFP,SD_GFP,SD_DAPI,SD_BF,SD_NIR\n",
      "\n",
      "Detecting infection load...\n",
      "Total cells: 1053\n",
      "Percentage infected:22.7\n",
      "Extracting per marker intensity information...\n",
      "Detecting spots in puncta markers...\n"
     ]
    },
    {
     "name": "stderr",
     "output_type": "stream",
     "text": []
    },
    {
     "name": "stdout",
     "output_type": "stream",
     "text": [
      "\n",
      "Image analyzed: Plate16_Nuc_Wells-B1__Channel_SD_AF647,SD_RFP,SD_GFP,SD_DAPI,SD_BF,SD_NIR\n",
      "\n",
      "Detecting infection load...\n",
      "Total cells: 2077\n",
      "Percentage infected:25.42\n",
      "Extracting per marker intensity information...\n",
      "Detecting spots in puncta markers...\n"
     ]
    },
    {
     "name": "stderr",
     "output_type": "stream",
     "text": []
    },
    {
     "name": "stdout",
     "output_type": "stream",
     "text": [
      "\n",
      "Image analyzed: Plate16_Nuc_Wells-B2__Channel_SD_AF647,SD_RFP,SD_GFP,SD_DAPI,SD_BF,SD_NIR\n",
      "\n",
      "Detecting infection load...\n",
      "Total cells: 2166\n",
      "Percentage infected:19.67\n",
      "Extracting per marker intensity information...\n",
      "Detecting spots in puncta markers...\n"
     ]
    },
    {
     "name": "stderr",
     "output_type": "stream",
     "text": []
    },
    {
     "name": "stdout",
     "output_type": "stream",
     "text": [
      "\n",
      "Image analyzed: Plate16_Nuc_Wells-B3__Channel_SD_AF647,SD_RFP,SD_GFP,SD_DAPI,SD_BF,SD_NIR\n",
      "\n",
      "Detecting infection load...\n",
      "Total cells: 1758\n",
      "Percentage infected:25.09\n",
      "Extracting per marker intensity information...\n",
      "Detecting spots in puncta markers...\n"
     ]
    },
    {
     "name": "stderr",
     "output_type": "stream",
     "text": []
    },
    {
     "name": "stdout",
     "output_type": "stream",
     "text": [
      "\n",
      "Image analyzed: Plate16_Nuc_Wells-B4__Channel_SD_AF647,SD_RFP,SD_GFP,SD_DAPI,SD_BF,SD_NIR\n",
      "\n",
      "Detecting infection load...\n",
      "Total cells: 1920\n",
      "Percentage infected:21.41\n",
      "Extracting per marker intensity information...\n",
      "Detecting spots in puncta markers...\n"
     ]
    },
    {
     "name": "stderr",
     "output_type": "stream",
     "text": []
    },
    {
     "name": "stdout",
     "output_type": "stream",
     "text": [
      "\n",
      "Image analyzed: Plate16_Nuc_Wells-B5__Channel_SD_AF647,SD_RFP,SD_GFP,SD_DAPI,SD_BF,SD_NIR\n",
      "\n",
      "Detecting infection load...\n",
      "Total cells: 1901\n",
      "Percentage infected:28.51\n",
      "Extracting per marker intensity information...\n",
      "Detecting spots in puncta markers...\n"
     ]
    },
    {
     "name": "stderr",
     "output_type": "stream",
     "text": []
    },
    {
     "name": "stdout",
     "output_type": "stream",
     "text": [
      "\n",
      "Image analyzed: Plate16_Nuc_Wells-B6__Channel_SD_AF647,SD_RFP,SD_GFP,SD_DAPI,SD_BF,SD_NIR\n",
      "\n",
      "Detecting infection load...\n",
      "Total cells: 2148\n",
      "Percentage infected:30.4\n",
      "Extracting per marker intensity information...\n",
      "Detecting spots in puncta markers...\n"
     ]
    },
    {
     "name": "stderr",
     "output_type": "stream",
     "text": []
    },
    {
     "name": "stdout",
     "output_type": "stream",
     "text": [
      "\n",
      "Image analyzed: Plate16_Nuc_Wells-B7__Channel_SD_AF647,SD_RFP,SD_GFP,SD_DAPI,SD_BF,SD_NIR\n",
      "\n",
      "Detecting infection load...\n",
      "Total cells: 1669\n",
      "Percentage infected:27.14\n",
      "Extracting per marker intensity information...\n",
      "Detecting spots in puncta markers...\n"
     ]
    },
    {
     "name": "stderr",
     "output_type": "stream",
     "text": []
    },
    {
     "name": "stdout",
     "output_type": "stream",
     "text": [
      "\n",
      "Image analyzed: Plate16_Nuc_Wells-B8__Channel_SD_AF647,SD_RFP,SD_GFP,SD_DAPI,SD_BF,SD_NIR\n",
      "\n",
      "Detecting infection load...\n",
      "Total cells: 1297\n",
      "Percentage infected:25.91\n",
      "Extracting per marker intensity information...\n",
      "Detecting spots in puncta markers...\n"
     ]
    },
    {
     "name": "stderr",
     "output_type": "stream",
     "text": []
    },
    {
     "name": "stdout",
     "output_type": "stream",
     "text": [
      "\n",
      "Image analyzed: Plate16_Nuc_Wells-B9__Channel_SD_AF647,SD_RFP,SD_GFP,SD_DAPI,SD_BF,SD_NIR\n",
      "\n",
      "Detecting infection load...\n",
      "Total cells: 1156\n",
      "Percentage infected:25.43\n",
      "Extracting per marker intensity information...\n",
      "Detecting spots in puncta markers...\n"
     ]
    },
    {
     "name": "stderr",
     "output_type": "stream",
     "text": []
    },
    {
     "name": "stdout",
     "output_type": "stream",
     "text": [
      "\n",
      "Image analyzed: Plate16_Nuc_Wells-B10__Channel_SD_AF647,SD_RFP,SD_GFP,SD_DAPI,SD_BF,SD_NIR\n",
      "\n",
      "Detecting infection load...\n",
      "Total cells: 1397\n",
      "Percentage infected:20.04\n",
      "Extracting per marker intensity information...\n",
      "Detecting spots in puncta markers...\n"
     ]
    },
    {
     "name": "stderr",
     "output_type": "stream",
     "text": []
    },
    {
     "name": "stdout",
     "output_type": "stream",
     "text": [
      "\n",
      "Image analyzed: Plate16_Nuc_Wells-B11__Channel_SD_AF647,SD_RFP,SD_GFP,SD_DAPI,SD_BF,SD_NIR\n",
      "\n",
      "Detecting infection load...\n",
      "Total cells: 1340\n",
      "Percentage infected:19.7\n",
      "Extracting per marker intensity information...\n",
      "Detecting spots in puncta markers...\n"
     ]
    },
    {
     "name": "stderr",
     "output_type": "stream",
     "text": []
    },
    {
     "name": "stdout",
     "output_type": "stream",
     "text": [
      "\n",
      "Image analyzed: Plate16_Nuc_Wells-B12__Channel_SD_AF647,SD_RFP,SD_GFP,SD_DAPI,SD_BF,SD_NIR\n",
      "\n",
      "Detecting infection load...\n",
      "Total cells: 1062\n",
      "Percentage infected:24.39\n",
      "Extracting per marker intensity information...\n",
      "Detecting spots in puncta markers...\n"
     ]
    },
    {
     "name": "stderr",
     "output_type": "stream",
     "text": []
    },
    {
     "name": "stdout",
     "output_type": "stream",
     "text": [
      "\n",
      "Image analyzed: Plate16_Nuc_Wells-C1__Channel_SD_AF647,SD_RFP,SD_GFP,SD_DAPI,SD_BF,SD_NIR\n",
      "\n",
      "Detecting infection load...\n",
      "Total cells: 1923\n",
      "Percentage infected:23.3\n",
      "Extracting per marker intensity information...\n",
      "Detecting spots in puncta markers...\n"
     ]
    },
    {
     "name": "stderr",
     "output_type": "stream",
     "text": []
    },
    {
     "name": "stdout",
     "output_type": "stream",
     "text": [
      "\n",
      "Image analyzed: Plate16_Nuc_Wells-C2__Channel_SD_AF647,SD_RFP,SD_GFP,SD_DAPI,SD_BF,SD_NIR\n",
      "\n",
      "Detecting infection load...\n",
      "Total cells: 2022\n",
      "Percentage infected:21.41\n",
      "Extracting per marker intensity information...\n",
      "Detecting spots in puncta markers...\n"
     ]
    },
    {
     "name": "stderr",
     "output_type": "stream",
     "text": []
    },
    {
     "name": "stdout",
     "output_type": "stream",
     "text": [
      "\n",
      "Image analyzed: Plate16_Nuc_Wells-C3__Channel_SD_AF647,SD_RFP,SD_GFP,SD_DAPI,SD_BF,SD_NIR\n",
      "\n",
      "Detecting infection load...\n",
      "Total cells: 1818\n",
      "Percentage infected:19.75\n",
      "Extracting per marker intensity information...\n",
      "Detecting spots in puncta markers...\n"
     ]
    },
    {
     "name": "stderr",
     "output_type": "stream",
     "text": []
    },
    {
     "name": "stdout",
     "output_type": "stream",
     "text": [
      "\n",
      "Image analyzed: Plate16_Nuc_Wells-C4__Channel_SD_AF647,SD_RFP,SD_GFP,SD_DAPI,SD_BF,SD_NIR\n",
      "\n",
      "Detecting infection load...\n",
      "Total cells: 2201\n",
      "Percentage infected:23.49\n",
      "Extracting per marker intensity information...\n",
      "Detecting spots in puncta markers...\n"
     ]
    },
    {
     "name": "stderr",
     "output_type": "stream",
     "text": [
      "100%|██████████| 96/96 [47:48<00:00, 29.88s/it]\n",
      "100%|██████████| 17/17 [13:33:50<00:00, 2872.37s/it]\n"
     ]
    }
   ],
   "source": [
    "for folder in tqdm(folders_with_nuc):\n",
    "\n",
    "    print(f\"Analyzing Plate: {folder}\")\n",
    "\n",
    "    # Copy the path where your images are stored, you can use absolute or relative paths to point at other disk locations\n",
    "    directory_path = Path(f\"X:\\Lisa\\siMtb screen I_LØ\\{folder}\")\n",
    "\n",
    "    # Iterate through the .czi and .nd2 files in the directory\n",
    "    images = list_images(directory_path)\n",
    "\n",
    "    # Image size reduction (downsampling) to improve processing times (slicing, not lossless compression)\n",
    "    slicing_factor_xy = None # Use 2 or 4 for downsampling in xy (None for lossless)\n",
    "\n",
    "    # Substract uneven and remove background from BF by obtaining the median of all BF channels\n",
    "    bf_correction = brightfield_correction(directory_path, images, slicing_factor_xy) \n",
    "\n",
    "    # Empty list to populate with per well features\n",
    "    per_well_props = []\n",
    "\n",
    "    # Empty list to populate with per infection stats\n",
    "    infection_stats = []\n",
    "\n",
    "    # Loop through well images in each plate folder (A1 --> H12)\n",
    "    for image in tqdm(images):\n",
    "\n",
    "        # Read image, apply slicing if needed and return filename and img as a np array\n",
    "        img, filename = read_image(image, slicing_factor_xy)\n",
    "\n",
    "        # Extract plate number and well_id\n",
    "        plate_nr = filename.split(\"_\")[0]\n",
    "        well_id = filename.split(\"Wells-\")[1].split(\"__\")[0]\n",
    "\n",
    "        # Predict cytoplasm labels using CellposeSAM\n",
    "        cytoplasm_labels, flows, styles = model.eval(np.stack((img[[0,1]].sum(axis=0), (img[4] - bf_correction)), axis=0), niter=1000) # need to check the arguments\n",
    "\n",
    "        # ----- Mtb infection detection ------\n",
    "\n",
    "        infected_labels = detect_infection_load(img, mtb_segmenter, cytoplasm_labels, plate_nr, well_id, infection_stats)\n",
    "\n",
    "        # ----- per_label intensity information ------\n",
    "\n",
    "        props_df = extract_intensity_information(img, cytoplasm_labels, markers, plate_nr, well_id, image)\n",
    "\n",
    "        # ----- puncta filtering and counting ------ \n",
    "\n",
    "        props_df = puncta_detection(img, puncta_markers, spotiflow_model, cytoplasm_labels, props_df)\n",
    "\n",
    "        # ----- Dataframe update and save logic ------ \n",
    "\n",
    "        # Rename label(id) to CellProfiler format ObjectNumber\n",
    "        props_df.rename(columns={\"label\": \"ObjectNumber\"}, inplace=True)\n",
    "\n",
    "        # Add infected flag to props_df if labels is in infected_labels\n",
    "        # Find position of \"ObjectNumber\" column\n",
    "        col_idx = props_df.columns.get_loc(\"ObjectNumber\")\n",
    "\n",
    "        # Insert new column right after \"ObjectNumber\"\n",
    "        props_df.insert(col_idx + 1, \"Mtb_infected\", props_df[\"ObjectNumber\"].isin(infected_labels))\n",
    "\n",
    "        # Append each props_df to per_well_props\n",
    "        per_well_props.append(props_df)\n",
    "\n",
    "    # ----- Data save after loop completion ------\n",
    "\n",
    "    # Transform infection stats list into a dataframe to store it as .csv\n",
    "    df = pd.DataFrame(infection_stats)\n",
    "    df.to_csv(f\"./results_infection_{plate_nr}.csv\")\n",
    "\n",
    "    # Concatenate all per_well_props into final_df\n",
    "    final_df = pd.concat(per_well_props, ignore_index=True)\n",
    "    final_df.to_csv(f\"./results_per_label_{plate_nr}.csv\")"
   ]
  }
 ],
 "metadata": {
  "kernelspec": {
   "display_name": "hcs_cellpose",
   "language": "python",
   "name": "python3"
  },
  "language_info": {
   "codemirror_mode": {
    "name": "ipython",
    "version": 3
   },
   "file_extension": ".py",
   "mimetype": "text/x-python",
   "name": "python",
   "nbconvert_exporter": "python",
   "pygments_lexer": "ipython3",
   "version": "3.10.18"
  }
 },
 "nbformat": 4,
 "nbformat_minor": 5
}
